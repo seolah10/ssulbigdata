{
 "cells": [
  {
   "cell_type": "markdown",
   "metadata": {},
   "source": [
    "**<font size = \"5\" color = \"darkred\">ch02. 자료형과 연산자-II</font>**"
   ]
  },
  {
   "cell_type": "markdown",
   "metadata": {},
   "source": [
    "## 4. 포맷팅\n",
    "- 출력할 문자, 숫자, 날짜 데이터에 형식을 지정하는 것\n",
    "- 변수와 텍스트를 결합하여 보기 좋은 형식의 새로운 텍스트를 만들 때 사용 \n",
    "\n",
    "### (1) 문자열에 형식 지정하기"
   ]
  },
  {
   "cell_type": "code",
   "execution_count": 1,
   "metadata": {
    "ExecuteTime": {
     "end_time": "2021-02-25T16:46:22.291516Z",
     "start_time": "2021-02-25T16:46:22.279524Z"
    }
   },
   "outputs": [
    {
     "name": "stdout",
     "output_type": "stream",
     "text": [
      "홍길동님의 나이는 30살입니다. \n"
     ]
    }
   ],
   "source": [
    "# 변수와 텍스트를 번갈아 사용하여 형식을 지정하면 가독성이 떨어지며 코드 작성도 불편하다.\n",
    "name = \"홍길동\"\n",
    "age = 30 \n",
    "\n",
    "print(name, '님의 나이는 ', age, '살입니다. ', sep = '')"
   ]
  },
  {
   "cell_type": "code",
   "execution_count": 2,
   "metadata": {
    "ExecuteTime": {
     "end_time": "2021-02-25T16:47:33.394107Z",
     "start_time": "2021-02-25T16:47:33.345135Z"
    }
   },
   "outputs": [
    {
     "data": {
      "text/plain": [
       "'홍길동님의 나이는 30살입니다.'"
      ]
     },
     "execution_count": 2,
     "metadata": {},
     "output_type": "execute_result"
    }
   ],
   "source": [
    "# 이전 스타일 \n",
    "# %s문자열, %c문자, %d정수(10진수), %f실수, %x 16진수, %o8진수, %% 문자%\n",
    "\"%s님의 나이는 %d살입니다.\"%(name, age)"
   ]
  },
  {
   "cell_type": "code",
   "execution_count": 3,
   "metadata": {
    "ExecuteTime": {
     "end_time": "2021-02-25T16:47:55.641351Z",
     "start_time": "2021-02-25T16:47:55.626363Z"
    }
   },
   "outputs": [
    {
     "data": {
      "text/plain": [
       "'홍길동님의 나이는 30살입니다.'"
      ]
     },
     "execution_count": 3,
     "metadata": {},
     "output_type": "execute_result"
    }
   ],
   "source": [
    "# 새로운 스타일\n",
    "\"{}님의 나이는 {}살입니다.\".format(name, age)\n"
   ]
  },
  {
   "cell_type": "code",
   "execution_count": 4,
   "metadata": {
    "ExecuteTime": {
     "end_time": "2021-02-25T16:48:54.789011Z",
     "start_time": "2021-02-25T16:48:54.776018Z"
    }
   },
   "outputs": [
    {
     "data": {
      "text/plain": [
       "'홍길동님의 나이는 30살입니다.'"
      ]
     },
     "execution_count": 4,
     "metadata": {},
     "output_type": "execute_result"
    }
   ],
   "source": [
    "# 인덱스 번호를 입력하여 순서 변경도 가능하다.\n",
    "\"{1}님의 나이는 {0}살입니다.\".format(age, name)"
   ]
  },
  {
   "cell_type": "markdown",
   "metadata": {},
   "source": [
    "### (2) format()함수의 문법 \n",
    "- 인덱스: 출력할 인수의 순서\n",
    "- 정렬 방법: <(왼쪽 정렬) / >(오른쪽 정렬) / ^(가운데 정렬)\n",
    "- 자릿수: 출력할 자릿수 지정 (변수보다 적은 자릿수가 지정되면 그냥 변수가 다 출력이 된다.)\n",
    "- 타입: d(10진수) / f(실수) / s(문자) / b(2진수) / o(8진수) / x(16진수)"
   ]
  },
  {
   "cell_type": "code",
   "execution_count": 7,
   "metadata": {
    "ExecuteTime": {
     "end_time": "2021-02-25T16:53:40.266872Z",
     "start_time": "2021-02-25T16:53:37.106425Z"
    }
   },
   "outputs": [
    {
     "name": "stdout",
     "output_type": "stream",
     "text": [
      "이름: 홍길동\n",
      "나이: 30\n",
      "홍길동님의 나이는 30세\n",
      "홍길동님의 나이는 30세\n",
      "30살 홍길동님은 30살이 좋은 나이인 걸 알려나\n"
     ]
    }
   ],
   "source": [
    "name = input('이름: ')\n",
    "age = int(input('나이: '))\n",
    "\n",
    "print(\"{}님의 나이는 {}세\".format(name, age))\n",
    "print(\"{1}님의 나이는 {0}세\".format(age, name))\n",
    "print(\"{0}살 {1}님은 {0}살이 좋은 나이인 걸 알려나\".format(age, name))"
   ]
  },
  {
   "cell_type": "code",
   "execution_count": 8,
   "metadata": {
    "ExecuteTime": {
     "end_time": "2021-02-25T16:54:34.070275Z",
     "start_time": "2021-02-25T16:54:34.050285Z"
    }
   },
   "outputs": [
    {
     "ename": "IndexError",
     "evalue": "Replacement index 2 out of range for positional args tuple",
     "output_type": "error",
     "traceback": [
      "\u001b[1;31m---------------------------------------------------------------------------\u001b[0m",
      "\u001b[1;31mIndexError\u001b[0m                                Traceback (most recent call last)",
      "\u001b[1;32m<ipython-input-8-2e363dd5601c>\u001b[0m in \u001b[0;36m<module>\u001b[1;34m\u001b[0m\n\u001b[0;32m      1\u001b[0m \u001b[1;31m#{}안에 인덱스 번호를 지정하지 않으면 변수의 갯수보다 작을 때 오류남\u001b[0m\u001b[1;33m\u001b[0m\u001b[1;33m\u001b[0m\u001b[1;33m\u001b[0m\u001b[0m\n\u001b[0;32m      2\u001b[0m \u001b[0ma\u001b[0m\u001b[1;33m,\u001b[0m \u001b[0mb\u001b[0m \u001b[1;33m=\u001b[0m \u001b[1;36m10\u001b[0m\u001b[1;33m,\u001b[0m \u001b[1;36m20\u001b[0m\u001b[1;33m\u001b[0m\u001b[1;33m\u001b[0m\u001b[0m\n\u001b[1;32m----> 3\u001b[1;33m \u001b[0mprint\u001b[0m\u001b[1;33m(\u001b[0m\u001b[1;34m\"{},{},{}\"\u001b[0m\u001b[1;33m.\u001b[0m\u001b[0mformat\u001b[0m\u001b[1;33m(\u001b[0m\u001b[0ma\u001b[0m\u001b[1;33m,\u001b[0m \u001b[0mb\u001b[0m\u001b[1;33m)\u001b[0m\u001b[1;33m)\u001b[0m\u001b[1;33m\u001b[0m\u001b[1;33m\u001b[0m\u001b[0m\n\u001b[0m",
      "\u001b[1;31mIndexError\u001b[0m: Replacement index 2 out of range for positional args tuple"
     ]
    }
   ],
   "source": [
    "#{}안에 인덱스 번호를 지정하지 않으면 \n",
    "# 변수의 갯수보다 작을 때 오류 발생\n",
    "a, b = 10, 20\n",
    "print(\"{},{},{}\".format(a, b))"
   ]
  },
  {
   "cell_type": "code",
   "execution_count": 9,
   "metadata": {
    "ExecuteTime": {
     "end_time": "2021-02-27T15:47:09.857238Z",
     "start_time": "2021-02-27T15:47:09.848242Z"
    }
   },
   "outputs": [
    {
     "name": "stdout",
     "output_type": "stream",
     "text": [
      "출력: [12345], [     12345], [12345]\n",
      "출력: [Hello], [Hello     ], [Hello]\n"
     ]
    }
   ],
   "source": [
    "# 숫자: 출력할 변수보다 큰 자릿수 지정시, 자동 오른쪽 정렬\n",
    "# 문자: 출력할 변수보다 큰 자릿수 지정시, 자동 왼쪽 정렬\n",
    "# 변수보다 작은 자릿수를 지정시, 자릿수 지정이 무시되고 다 출력된다.\n",
    "i = 12345\n",
    "s = \"Hello\"\n",
    "\n",
    "print('출력: [{}], [{:10}], [{:3}]'.format(i, i, i))\n",
    "print('출력: [{}], [{:10}], [{:3}]'.format(s, s, s))"
   ]
  },
  {
   "cell_type": "code",
   "execution_count": 8,
   "metadata": {
    "ExecuteTime": {
     "end_time": "2021-02-27T15:46:35.211701Z",
     "start_time": "2021-02-27T15:46:35.202707Z"
    }
   },
   "outputs": [
    {
     "name": "stdout",
     "output_type": "stream",
     "text": [
      "출력\n",
      "10진수 - 12345, \n",
      "실수 - 12345.0,\n",
      "2진수 - 11000000111001, \n",
      "8진수 - 30071, \n",
      "16진수 - 3039\n"
     ]
    }
   ],
   "source": [
    "# 숫자의 경우, 다양한 진수로 표현이 가능 \n",
    "print(\"\"\"출력\n",
    "10진수 - {:d}, \n",
    "실수 - {:7.1f},\n",
    "2진수 - {:b}, \n",
    "8진수 - {:o}, \n",
    "16진수 - {:x}\"\"\".format(i, i, i, i, i))"
   ]
  },
  {
   "cell_type": "code",
   "execution_count": 13,
   "metadata": {
    "ExecuteTime": {
     "end_time": "2021-02-27T15:50:23.245774Z",
     "start_time": "2021-02-27T15:50:23.235779Z"
    }
   },
   "outputs": [
    {
     "name": "stdout",
     "output_type": "stream",
     "text": [
      "출력: [    10], [20    ], [  30  ]\n"
     ]
    }
   ],
   "source": [
    "# 정렬방법 < > ^ (정확하게 가운데가 되지 않으면, 하나 왼쪽으로 간다.)\n",
    "a, b, c = 10, 20, 30\n",
    "print(\"출력: [{:>6d}], [{:<6d}], [{:^6d}]\".format(a, b, c))"
   ]
  },
  {
   "cell_type": "code",
   "execution_count": 14,
   "metadata": {
    "ExecuteTime": {
     "end_time": "2021-02-27T15:52:25.618819Z",
     "start_time": "2021-02-27T15:52:25.607828Z"
    }
   },
   "outputs": [
    {
     "name": "stdout",
     "output_type": "stream",
     "text": [
      "출력: [$$$$$$$$20], [Hello***************], [Hel_______]\n"
     ]
    }
   ],
   "source": [
    "# '{[인덱스]:[공백대체문자][정렬방법][자릿수][타입]}'.format(변수명)\n",
    "i = 20 \n",
    "s = \"Hello\"\n",
    "\n",
    "print(\"출력: [{0:$>10}], [{1:*<20}], [{1:_<10.3}]\".format(i, s))\n",
    "                         # 10.3 전체 10자리 확보, 변수는 3자리만 출력"
   ]
  },
  {
   "cell_type": "code",
   "execution_count": 18,
   "metadata": {
    "ExecuteTime": {
     "end_time": "2021-02-27T15:54:53.534793Z",
     "start_time": "2021-02-27T15:54:53.510808Z"
    }
   },
   "outputs": [
    {
     "ename": "ValueError",
     "evalue": "Invalid format specifier",
     "output_type": "error",
     "traceback": [
      "\u001b[1;31m---------------------------------------------------------------------------\u001b[0m",
      "\u001b[1;31mValueError\u001b[0m                                Traceback (most recent call last)",
      "\u001b[1;32m<ipython-input-18-521db2dc4584>\u001b[0m in \u001b[0;36m<module>\u001b[1;34m\u001b[0m\n\u001b[0;32m      1\u001b[0m \u001b[1;31m# !!! 공백대체문자를 지정할 때는 반드시 정렬방법을 표현해야 한다.\u001b[0m\u001b[1;33m\u001b[0m\u001b[1;33m\u001b[0m\u001b[1;33m\u001b[0m\u001b[0m\n\u001b[1;32m----> 2\u001b[1;33m \u001b[0mprint\u001b[0m\u001b[1;33m(\u001b[0m\u001b[1;34m\"{0:$10} / {1:*20}\"\u001b[0m\u001b[1;33m.\u001b[0m\u001b[0mformat\u001b[0m\u001b[1;33m(\u001b[0m\u001b[0mi\u001b[0m\u001b[1;33m,\u001b[0m \u001b[0ms\u001b[0m\u001b[1;33m)\u001b[0m\u001b[1;33m)\u001b[0m\u001b[1;33m\u001b[0m\u001b[1;33m\u001b[0m\u001b[0m\n\u001b[0m",
      "\u001b[1;31mValueError\u001b[0m: Invalid format specifier"
     ]
    }
   ],
   "source": [
    "# !!! 공백대체문자를 지정할 때는 반드시 정렬방법을 표현해야 한다.\n",
    "print(\"{0:$10} / {1:*20}\".format(i, s)) "
   ]
  },
  {
   "cell_type": "code",
   "execution_count": 27,
   "metadata": {
    "ExecuteTime": {
     "end_time": "2021-02-27T16:06:08.162811Z",
     "start_time": "2021-02-27T16:06:08.142823Z"
    }
   },
   "outputs": [
    {
     "name": "stdout",
     "output_type": "stream",
     "text": [
      "#1 : [      +123] [      -123] \n",
      "#2 : [       123] [-      123] \n",
      "#3 : [+      123] [-      123] \n",
      "#4 : [+000000123] [-000000123] \n",
      "#5 #6 : [+******123] [-$$$$$$123] [+______123]\n"
     ]
    }
   ],
   "source": [
    "#1 +를 붙이면 (양수의 경우) 숫자 앞에 부호가 붙는다.\n",
    "#2 =를 붙이면 출력하는 문자의 맨 앞에 (음수의 경우)\n",
    "#           전체 자릿수만큼 공간 확보 후 부호 표시 \n",
    "#3 =+를 사용하면 양수도 부호가 표시된다.\n",
    "#4 자릿수 앞에 0을 입력하면 빈자리에 0이 채워진다.\n",
    "#5 공백대체문자는 =앞에 입력한다\n",
    "#6 공백대체문자와 0을 둘다 입력할 경우, 0은 무시된다.\n",
    "a, b = 123, -123\n",
    "print(\"#1 : [{:+10}] [{:+10}] \".format(a, b))\n",
    "print(\"#2 : [{:=10}] [{:=10}] \".format(a, b))\n",
    "print(\"#3 : [{:=+10}] [{:=+10}] \".format(a, b))\n",
    "print(\"#4 : [{:=+010}] [{:=+010}] \".format(a, b))\n",
    "print(\"#5 #6 : [{:*=+010}] [{:$=+010}] [{:_=+010}]\".format(a, b, a))"
   ]
  },
  {
   "cell_type": "code",
   "execution_count": 29,
   "metadata": {
    "ExecuteTime": {
     "end_time": "2021-02-27T16:08:53.820693Z",
     "start_time": "2021-02-27T16:08:53.803705Z"
    }
   },
   "outputs": [
    {
     "name": "stdout",
     "output_type": "stream",
     "text": [
      "    [0123456789]\n",
      "f = [       2.8]\n",
      "s = [        He]\n"
     ]
    }
   ],
   "source": [
    "# {전체자릿수.표현될 자릿수}\n",
    "f = 2.765\n",
    "s = \"Hello\"\n",
    "\n",
    "print(\"    [0123456789]\") # (자릿수 확인을 위한 출력)\n",
    "print(\"f = [{:>10.2}]\".format(f))\n",
    "print(\"s = [{:>10.2}]\".format(s))"
   ]
  },
  {
   "cell_type": "code",
   "execution_count": 31,
   "metadata": {
    "ExecuteTime": {
     "end_time": "2021-02-27T16:10:34.237382Z",
     "start_time": "2021-02-27T16:10:34.217394Z"
    }
   },
   "outputs": [
    {
     "name": "stdout",
     "output_type": "stream",
     "text": [
      "f = [ 2.8]\n"
     ]
    }
   ],
   "source": [
    "# {전체자릿수}.{소숫점자릿수f} - 전체자릿수에는 소수점 포함\n",
    "print('f = [{:4.1f}]'.format(f)) # 소수점한자리까지를 포함 전체 4자리"
   ]
  },
  {
   "cell_type": "code",
   "execution_count": 36,
   "metadata": {
    "ExecuteTime": {
     "end_time": "2021-02-27T16:13:01.562757Z",
     "start_time": "2021-02-27T16:13:01.540769Z"
    }
   },
   "outputs": [
    {
     "name": "stdout",
     "output_type": "stream",
     "text": [
      "출력: [0123456789]\n",
      "출력: [     +2.59]\n",
      "출력: [     +2.59]\n"
     ]
    }
   ],
   "source": [
    "# format함수의 매개변수에 출력포멧\n",
    "f = 2.593\n",
    "\n",
    "print(\"출력: [0123456789]\")\n",
    "print(\"출력: [{:>+10.3}]\".format(f))\n",
    "print(\"출력: [{:{}{}{}.{}}]\".format(f, '>', '+', 10, 3))"
   ]
  },
  {
   "cell_type": "code",
   "execution_count": 37,
   "metadata": {
    "ExecuteTime": {
     "end_time": "2021-02-27T16:14:52.697607Z",
     "start_time": "2021-02-27T16:14:52.683617Z"
    }
   },
   "outputs": [
    {
     "name": "stdout",
     "output_type": "stream",
     "text": [
      "출력: [0123456789]\n",
      "출력: [     +2.59]\n",
      "출력: [     +2.59]\n"
     ]
    }
   ],
   "source": [
    "# 가독성을 높이기 위해 포맷인자에 이름을 부여한다.\n",
    "f = 2.593\n",
    "\n",
    "print(\"출력: [0123456789]\")\n",
    "print(\"출력: [{:>+10.3}]\".format(f))\n",
    "print(\"출력: [{:{dir}{sign}{width}.{precision}}]\"\n",
    "      .format(f, dir='>', sign='+', width=10, precision=3))"
   ]
  },
  {
   "cell_type": "code",
   "execution_count": 40,
   "metadata": {
    "ExecuteTime": {
     "end_time": "2021-02-27T16:16:24.585216Z",
     "start_time": "2021-02-27T16:16:24.573223Z"
    }
   },
   "outputs": [
    {
     "name": "stdout",
     "output_type": "stream",
     "text": [
      "10진수: [      15]\n",
      " 2진수: [00001111]\n",
      " 8진수: [00000017]\n",
      "16진수: [0f]\n"
     ]
    }
   ],
   "source": [
    "i = 15\n",
    "\n",
    "print(\"10진수: [{:8d}]\".format(i))\n",
    "print(\" 2진수: [{:08b}]\".format(i))\n",
    "print(\" 8진수: [{:08o}]\".format(i))\n",
    "print(\"16진수: [{:02x}]\".format(i))"
   ]
  },
  {
   "cell_type": "markdown",
   "metadata": {},
   "source": [
    "### (3) 날짜 출력"
   ]
  },
  {
   "cell_type": "markdown",
   "metadata": {},
   "source": [
    "- %Y(연도4자리) / %y(연도2자리) / %m(월) / %d(일)\n",
    "- %H(24시간) / %I(12시간) / %p(PM 또는 AM) / %M(분) / %S(초)"
   ]
  },
  {
   "cell_type": "code",
   "execution_count": 41,
   "metadata": {
    "ExecuteTime": {
     "end_time": "2021-02-27T17:18:38.768219Z",
     "start_time": "2021-02-27T17:18:38.752230Z"
    }
   },
   "outputs": [],
   "source": [
    "# time 패키지에서 localtime이라는 함수 사용 \n",
    "from time import localtime "
   ]
  },
  {
   "cell_type": "code",
   "execution_count": 43,
   "metadata": {
    "ExecuteTime": {
     "end_time": "2021-02-27T17:19:26.787930Z",
     "start_time": "2021-02-27T17:19:26.761945Z"
    }
   },
   "outputs": [
    {
     "data": {
      "text/plain": [
       "time.struct_time(tm_year=2021, tm_mon=2, tm_mday=28, tm_hour=2, tm_min=19, tm_sec=26, tm_wday=6, tm_yday=59, tm_isdst=0)"
      ]
     },
     "execution_count": 43,
     "metadata": {},
     "output_type": "execute_result"
    }
   ],
   "source": [
    "# 현재 날짜와 시간 \n",
    "now = localtime()\n",
    "now"
   ]
  },
  {
   "cell_type": "code",
   "execution_count": 45,
   "metadata": {
    "ExecuteTime": {
     "end_time": "2021-02-27T17:21:09.385684Z",
     "start_time": "2021-02-27T17:21:09.367696Z"
    }
   },
   "outputs": [
    {
     "name": "stdout",
     "output_type": "stream",
     "text": [
      "2021년 02월 28일 02:19:26\n",
      "2021년 02월 28일 AM 02:19:26\n"
     ]
    }
   ],
   "source": [
    "# strftime(): 날짜를 문자열로 출력\n",
    "from time import strftime\n",
    "\n",
    "print(strftime(\"%Y년 %m월 %d일 %H:%M:%S\", now))\n",
    "print(strftime(\"%Y년 %m월 %d일 %p %H:%M:%S\", now))"
   ]
  },
  {
   "cell_type": "code",
   "execution_count": 51,
   "metadata": {
    "ExecuteTime": {
     "end_time": "2021-02-27T17:23:53.710799Z",
     "start_time": "2021-02-27T17:23:53.700804Z"
    }
   },
   "outputs": [
    {
     "data": {
      "text/plain": [
       "datetime.datetime(2021, 10, 10, 0, 0)"
      ]
     },
     "execution_count": 51,
     "metadata": {},
     "output_type": "execute_result"
    }
   ],
   "source": [
    "# format함수를 이용하여 특정 날짜와 시간 출력하기\n",
    "from datetime import datetime\n",
    "\n",
    "thatday = datetime(2021, 10, 10, 00, 00, 0)\n",
    "thatday"
   ]
  },
  {
   "cell_type": "code",
   "execution_count": 52,
   "metadata": {
    "ExecuteTime": {
     "end_time": "2021-02-27T17:23:55.772554Z",
     "start_time": "2021-02-27T17:23:55.753561Z"
    }
   },
   "outputs": [
    {
     "name": "stdout",
     "output_type": "stream",
     "text": [
      "2021-10-10 00:00:00\n"
     ]
    }
   ],
   "source": [
    "print(\"{:%Y-%m-%d %H:%M:%S}\".format(thatday))"
   ]
  },
  {
   "cell_type": "code",
   "execution_count": 57,
   "metadata": {
    "ExecuteTime": {
     "end_time": "2021-02-27T17:26:19.884861Z",
     "start_time": "2021-02-27T17:26:19.875866Z"
    }
   },
   "outputs": [
    {
     "name": "stdout",
     "output_type": "stream",
     "text": [
      "Hello Park, You're 30 years old.\n",
      "Hello Park, You're 30 years old.\n",
      "Hello Park, You're 30 years old.\n"
     ]
    }
   ],
   "source": [
    "name = \"Park\"\n",
    "age = 30\n",
    "\n",
    "print(f\"Hello {name}, You're {age} years old.\")\n",
    "print(\"Hello %s, You're %d years old.\"%(name, age))\n",
    "print(\"Hello {}, You're {} years old.\".format(name, age))"
   ]
  },
  {
   "cell_type": "markdown",
   "metadata": {},
   "source": [
    "## 5. 연산자\n",
    "### (1) 산술연산자"
   ]
  },
  {
   "cell_type": "code",
   "execution_count": 58,
   "metadata": {
    "ExecuteTime": {
     "end_time": "2021-02-27T17:28:12.770431Z",
     "start_time": "2021-02-27T17:28:12.750445Z"
    }
   },
   "outputs": [
    {
     "name": "stdout",
     "output_type": "stream",
     "text": [
      "1000\n",
      "3\n",
      "3.3333333333333335\n",
      "3.0\n"
     ]
    }
   ],
   "source": [
    "a = 10\n",
    "\n",
    "print(a ** 3) # a의 세제곱\n",
    "print(a // 3) # a / 3의 몫\n",
    "print(a / 3) # 3.33333\n",
    "print(9 / 3) # 3.0 (파이썬에서 / 연산의 결과는 실수형)"
   ]
  },
  {
   "cell_type": "code",
   "execution_count": 59,
   "metadata": {
    "ExecuteTime": {
     "end_time": "2021-02-27T17:28:27.187582Z",
     "start_time": "2021-02-27T17:28:27.176589Z"
    }
   },
   "outputs": [
    {
     "name": "stdout",
     "output_type": "stream",
     "text": [
      "1.0\n"
     ]
    }
   ],
   "source": [
    "print(10.0 % 3.0) # 나머지 연산"
   ]
  },
  {
   "cell_type": "code",
   "execution_count": 60,
   "metadata": {
    "ExecuteTime": {
     "end_time": "2021-02-27T17:29:03.504482Z",
     "start_time": "2021-02-27T17:29:03.493490Z"
    }
   },
   "outputs": [
    {
     "name": "stdout",
     "output_type": "stream",
     "text": [
      "0.19999999999999996\n"
     ]
    }
   ],
   "source": [
    "print(3.8 % 1.2) # 실수끼리 나머지 연산시 결과에 다소 오차 발생 가능"
   ]
  },
  {
   "cell_type": "markdown",
   "metadata": {},
   "source": [
    "### (2) 대입(할당)연산자\n",
    "- =, +=, -=, //=, /=, %="
   ]
  },
  {
   "cell_type": "code",
   "execution_count": 61,
   "metadata": {
    "ExecuteTime": {
     "end_time": "2021-02-27T17:30:14.964540Z",
     "start_time": "2021-02-27T17:30:14.951545Z"
    }
   },
   "outputs": [
    {
     "data": {
      "text/plain": [
       "5"
      ]
     },
     "execution_count": 61,
     "metadata": {},
     "output_type": "execute_result"
    }
   ],
   "source": [
    "a = 10\n",
    "a //= 2  # a = a//2 \n",
    "a "
   ]
  },
  {
   "cell_type": "markdown",
   "metadata": {},
   "source": [
    "### (3) 논리연산자\n",
    "- &, |, and, or, not"
   ]
  },
  {
   "cell_type": "code",
   "execution_count": 62,
   "metadata": {
    "ExecuteTime": {
     "end_time": "2021-02-27T17:32:08.428221Z",
     "start_time": "2021-02-27T17:32:08.407233Z"
    }
   },
   "outputs": [
    {
     "name": "stdout",
     "output_type": "stream",
     "text": [
      "True\n",
      "0\n",
      "True\n"
     ]
    }
   ],
   "source": [
    "print((10>3) & (10>5))  # 논리연산 True & True\n",
    "print(12 & 1)           # 비트연산 1100 & 0001\n",
    "print(5 < 8 < 10 < 100) # 논리연산자는 삼항 이상으로 연산 가능 "
   ]
  },
  {
   "cell_type": "code",
   "execution_count": 64,
   "metadata": {
    "ExecuteTime": {
     "end_time": "2021-02-27T17:33:57.161382Z",
     "start_time": "2021-02-27T17:33:57.147387Z"
    }
   },
   "outputs": [
    {
     "name": "stdout",
     "output_type": "stream",
     "text": [
      "False\n"
     ]
    }
   ],
   "source": [
    "# 연산자 우선순위: 비트연산자가 논리비교연산자보다 높다\n",
    "#  0011 & 1010 = 0010 (2)\n",
    "print(10 > 2 > 5)"
   ]
  },
  {
   "cell_type": "code",
   "execution_count": 65,
   "metadata": {
    "ExecuteTime": {
     "end_time": "2021-02-27T17:34:41.312453Z",
     "start_time": "2021-02-27T17:34:41.302458Z"
    }
   },
   "outputs": [
    {
     "name": "stdout",
     "output_type": "stream",
     "text": [
      "False\n"
     ]
    }
   ],
   "source": [
    "# ''(빈 스트링)은 False, 그 외에는 True\n",
    "if '':\n",
    "    print('True')\n",
    "else:\n",
    "    print('False')"
   ]
  },
  {
   "cell_type": "code",
   "execution_count": 66,
   "metadata": {
    "ExecuteTime": {
     "end_time": "2021-02-27T17:35:09.668822Z",
     "start_time": "2021-02-27T17:35:09.656829Z"
    }
   },
   "outputs": [
    {
     "ename": "TypeError",
     "evalue": "unsupported operand type(s) for |: 'bool' and 'str'",
     "output_type": "error",
     "traceback": [
      "\u001b[1;31m---------------------------------------------------------------------------\u001b[0m",
      "\u001b[1;31mTypeError\u001b[0m                                 Traceback (most recent call last)",
      "\u001b[1;32m<ipython-input-66-515c6e67a8b5>\u001b[0m in \u001b[0;36m<module>\u001b[1;34m\u001b[0m\n\u001b[0;32m      1\u001b[0m \u001b[1;31m# 논리연산자에 문자열이 오면 에러 발생\u001b[0m\u001b[1;33m\u001b[0m\u001b[1;33m\u001b[0m\u001b[1;33m\u001b[0m\u001b[0m\n\u001b[1;32m----> 2\u001b[1;33m \u001b[1;32mTrue\u001b[0m \u001b[1;33m|\u001b[0m \u001b[1;34m''\u001b[0m\u001b[1;33m\u001b[0m\u001b[1;33m\u001b[0m\u001b[0m\n\u001b[0m",
      "\u001b[1;31mTypeError\u001b[0m: unsupported operand type(s) for |: 'bool' and 'str'"
     ]
    }
   ],
   "source": [
    "# 논리연산자에 문자열이 오면 에러 발생\n",
    "True | ''"
   ]
  },
  {
   "cell_type": "code",
   "execution_count": 71,
   "metadata": {
    "ExecuteTime": {
     "end_time": "2021-02-27T17:36:50.929914Z",
     "start_time": "2021-02-27T17:36:50.922917Z"
    }
   },
   "outputs": [
    {
     "data": {
      "text/plain": [
       "False"
      ]
     },
     "execution_count": 71,
     "metadata": {},
     "output_type": "execute_result"
    }
   ],
   "source": [
    "# 그래서 위의 식을 이렇게 표현해야 한다. \n",
    "True | bool('')"
   ]
  },
  {
   "cell_type": "code",
   "execution_count": 74,
   "metadata": {
    "ExecuteTime": {
     "end_time": "2021-02-27T17:37:33.553769Z",
     "start_time": "2021-02-27T17:37:32.925804Z"
    }
   },
   "outputs": [
    {
     "name": "stdout",
     "output_type": "stream",
     "text": [
      " D 드라이브의 볼륨에는 이름이 없습니다.\n",
      " 볼륨 일련 번호: 109F-CAFF\n",
      "\n",
      " D:\\BigData\\src\\08_Python 디렉터리\n",
      "\n",
      "2021-02-28  오전 02:36    <DIR>          .\n",
      "2021-02-28  오전 02:36    <DIR>          ..\n",
      "2021-02-26  오전 01:42    <DIR>          .ipynb_checkpoints\n",
      "2021-02-26  오전 12:47             2,931 ch01_파이썬 개요 및 개발환경 구성.ipynb\n",
      "2021-02-26  오전 01:41            30,332 ch02_자료형과 연산자-I (변수,화면 입출력,기본 자료형).ipynb\n",
      "2021-02-28  오전 02:36            27,036 ch02_자료형과 연산자-II (format, 연산자).ipynb\n",
      "               3개 파일              60,299 바이트\n",
      "               3개 디렉터리  167,546,449,920 바이트 남음\n"
     ]
    }
   ],
   "source": [
    "# 주피터 노트북에서 !는 명령행을 실행시킬 수 있다.\n",
    "!dir"
   ]
  },
  {
   "cell_type": "markdown",
   "metadata": {},
   "source": [
    "**not: 논리의 반전**"
   ]
  },
  {
   "cell_type": "code",
   "execution_count": 76,
   "metadata": {
    "ExecuteTime": {
     "end_time": "2021-02-27T17:38:34.641070Z",
     "start_time": "2021-02-27T17:38:34.630077Z"
    }
   },
   "outputs": [
    {
     "data": {
      "text/plain": [
       "False"
      ]
     },
     "execution_count": 76,
     "metadata": {},
     "output_type": "execute_result"
    }
   ],
   "source": [
    "not True"
   ]
  },
  {
   "cell_type": "code",
   "execution_count": 77,
   "metadata": {
    "ExecuteTime": {
     "end_time": "2021-02-27T17:38:57.543991Z",
     "start_time": "2021-02-27T17:38:57.525001Z"
    }
   },
   "outputs": [
    {
     "data": {
      "text/plain": [
       "True"
      ]
     },
     "execution_count": 77,
     "metadata": {},
     "output_type": "execute_result"
    }
   ],
   "source": [
    "not 0 # 0은 False"
   ]
  },
  {
   "cell_type": "code",
   "execution_count": 78,
   "metadata": {
    "ExecuteTime": {
     "end_time": "2021-02-27T17:39:10.392605Z",
     "start_time": "2021-02-27T17:39:10.379611Z"
    }
   },
   "outputs": [
    {
     "data": {
      "text/plain": [
       "False"
      ]
     },
     "execution_count": 78,
     "metadata": {},
     "output_type": "execute_result"
    }
   ],
   "source": [
    "not -999 # 0 외의 숫자는 True"
   ]
  },
  {
   "cell_type": "code",
   "execution_count": 81,
   "metadata": {
    "ExecuteTime": {
     "end_time": "2021-02-27T17:39:40.242731Z",
     "start_time": "2021-02-27T17:39:40.229740Z"
    }
   },
   "outputs": [
    {
     "name": "stdout",
     "output_type": "stream",
     "text": [
      "False\n"
     ]
    }
   ],
   "source": [
    "a = False \n",
    "\n",
    "if not a:\n",
    "    print(a)"
   ]
  },
  {
   "cell_type": "code",
   "execution_count": 82,
   "metadata": {
    "ExecuteTime": {
     "end_time": "2021-02-27T17:40:42.150983Z",
     "start_time": "2021-02-27T17:40:42.143986Z"
    }
   },
   "outputs": [
    {
     "name": "stdout",
     "output_type": "stream",
     "text": [
      "두 수는 다르다.\n"
     ]
    }
   ],
   "source": [
    "# cf) !=는 다르다는 의미이다. \n",
    "a, b = 15, 16\n",
    "\n",
    "if a != b:\n",
    "    print(\"두 수는 다르다.\")"
   ]
  },
  {
   "cell_type": "markdown",
   "metadata": {},
   "source": [
    "**and: 거짓으로 판별되는 첫 항의 결과 반환\n",
    "       (모든 항이 참이면 마지막 항의 결과 반환)**"
   ]
  },
  {
   "cell_type": "code",
   "execution_count": 83,
   "metadata": {
    "ExecuteTime": {
     "end_time": "2021-02-27T17:41:29.568776Z",
     "start_time": "2021-02-27T17:41:29.556783Z"
    }
   },
   "outputs": [
    {
     "name": "stdout",
     "output_type": "stream",
     "text": [
      "True\n"
     ]
    }
   ],
   "source": [
    "print(True and 3 and True) # 모든 항이 참 "
   ]
  },
  {
   "cell_type": "code",
   "execution_count": 84,
   "metadata": {
    "ExecuteTime": {
     "end_time": "2021-02-27T17:41:57.952164Z",
     "start_time": "2021-02-27T17:41:57.935177Z"
    }
   },
   "outputs": [
    {
     "name": "stdout",
     "output_type": "stream",
     "text": [
      "2\n"
     ]
    }
   ],
   "source": [
    "print(3 and 2) # 모든 항이 참"
   ]
  },
  {
   "cell_type": "code",
   "execution_count": 85,
   "metadata": {
    "ExecuteTime": {
     "end_time": "2021-02-27T17:42:24.029718Z",
     "start_time": "2021-02-27T17:42:24.010732Z"
    }
   },
   "outputs": [
    {
     "name": "stdout",
     "output_type": "stream",
     "text": [
      "0\n"
     ]
    }
   ],
   "source": [
    "print(3 and 5.4 and True and 0 and 'Python') "
   ]
  },
  {
   "cell_type": "markdown",
   "metadata": {},
   "source": [
    "**or:참으로 판별되는 첫 항의 결과 반환\n",
    "     (모든 항이 거짓이면 마지막 항의 결과 반환)**"
   ]
  },
  {
   "cell_type": "code",
   "execution_count": 86,
   "metadata": {
    "ExecuteTime": {
     "end_time": "2021-02-27T17:43:26.639684Z",
     "start_time": "2021-02-27T17:43:26.624688Z"
    }
   },
   "outputs": [
    {
     "name": "stdout",
     "output_type": "stream",
     "text": [
      "0\n"
     ]
    }
   ],
   "source": [
    "print('' or False or None or 0) # 모든 항이 거짓"
   ]
  },
  {
   "cell_type": "code",
   "execution_count": 87,
   "metadata": {
    "ExecuteTime": {
     "end_time": "2021-02-27T17:43:48.830340Z",
     "start_time": "2021-02-27T17:43:48.819347Z"
    }
   },
   "outputs": [
    {
     "name": "stdout",
     "output_type": "stream",
     "text": [
      "100\n"
     ]
    }
   ],
   "source": [
    "print('' or 100 or None or False)"
   ]
  },
  {
   "cell_type": "markdown",
   "metadata": {},
   "source": [
    "### (4) 비교연산자 \n",
    "- =. <, >, ==, !=, ..."
   ]
  },
  {
   "cell_type": "code",
   "execution_count": 89,
   "metadata": {
    "ExecuteTime": {
     "end_time": "2021-02-27T17:46:16.585121Z",
     "start_time": "2021-02-27T17:46:16.570130Z"
    }
   },
   "outputs": [
    {
     "data": {
      "text/plain": [
       "False"
      ]
     },
     "execution_count": 89,
     "metadata": {},
     "output_type": "execute_result"
    }
   ],
   "source": [
    "# 문자는 ASCII코드 순으로 비교\n",
    "'아' > '하'"
   ]
  },
  {
   "cell_type": "code",
   "execution_count": 92,
   "metadata": {
    "ExecuteTime": {
     "end_time": "2021-02-27T17:46:51.181814Z",
     "start_time": "2021-02-27T17:46:51.175820Z"
    }
   },
   "outputs": [
    {
     "data": {
      "text/plain": [
       "True"
      ]
     },
     "execution_count": 92,
     "metadata": {},
     "output_type": "execute_result"
    }
   ],
   "source": [
    "# 특수문자 < 숫자문자 < 대문자 < 소문자 < 한글\n",
    "'1' < 'a'"
   ]
  },
  {
   "cell_type": "code",
   "execution_count": 93,
   "metadata": {
    "ExecuteTime": {
     "end_time": "2021-02-27T17:46:59.533623Z",
     "start_time": "2021-02-27T17:46:59.513637Z"
    }
   },
   "outputs": [
    {
     "data": {
      "text/plain": [
       "True"
      ]
     },
     "execution_count": 93,
     "metadata": {},
     "output_type": "execute_result"
    }
   ],
   "source": [
    "# True는 1, False는 0으로 매핑\n",
    "True > False"
   ]
  },
  {
   "cell_type": "code",
   "execution_count": 94,
   "metadata": {
    "ExecuteTime": {
     "end_time": "2021-02-27T17:47:46.034586Z",
     "start_time": "2021-02-27T17:47:46.023595Z"
    }
   },
   "outputs": [
    {
     "data": {
      "text/plain": [
       "(1, 0)"
      ]
     },
     "execution_count": 94,
     "metadata": {},
     "output_type": "execute_result"
    }
   ],
   "source": [
    "int(True), int(False)"
   ]
  },
  {
   "cell_type": "code",
   "execution_count": 96,
   "metadata": {
    "ExecuteTime": {
     "end_time": "2021-02-27T17:49:25.804014Z",
     "start_time": "2021-02-27T17:49:22.413148Z"
    }
   },
   "outputs": [
    {
     "name": "stdout",
     "output_type": "stream",
     "text": [
      "점수: 61\n",
      "합격\n"
     ]
    }
   ],
   "source": [
    "# ex. 점수를 입력받아 60점을 기준으로 합격/불합격 판단하기 \n",
    "score = int(input('점수: ')) #input함수는 원래 문자로 반한된다.\n",
    "if score >= 60:\n",
    "    print('합격')\n",
    "else:\n",
    "    print('불합격')"
   ]
  },
  {
   "cell_type": "markdown",
   "metadata": {},
   "source": [
    "### (5) 비트연산자"
   ]
  },
  {
   "cell_type": "code",
   "execution_count": null,
   "metadata": {},
   "outputs": [],
   "source": [
    "a = '''\n",
    "x   y  x&y  x|y x^y(XOR)\n",
    "0   0   0    0    0\n",
    "0   1   0    1    1\n",
    "1   0   0    1    1\n",
    "1   1   1    1    0\n",
    "'''"
   ]
  },
  {
   "cell_type": "code",
   "execution_count": 98,
   "metadata": {
    "ExecuteTime": {
     "end_time": "2021-02-27T17:52:15.196037Z",
     "start_time": "2021-02-27T17:52:15.182046Z"
    }
   },
   "outputs": [
    {
     "name": "stdout",
     "output_type": "stream",
     "text": [
      "00001111\n",
      "00000010\n",
      "2\n",
      "15\n",
      "13\n"
     ]
    }
   ],
   "source": [
    "a = 15 # 0 0 0 0 1 1 1 1 \n",
    "b = 2  # 0 0 0 0 0 0 1 0 \n",
    "\n",
    "print(\"{:08b}\".format(a))\n",
    "print(\"{:08b}\".format(b))\n",
    "print(a & b) # 0 0 0 0 0 0 1 0 (2)\n",
    "print(a | b) # 0 0 0 0 1 1 1 1 (15)\n",
    "print(a ^ b) # 0 0 0 0 1 1 0 1 (13)"
   ]
  },
  {
   "cell_type": "markdown",
   "metadata": {},
   "source": [
    "- shift\n",
    "- a >> b: a를 b bit 오른쪽으로 이동(=a를 2의 b승으로 나눈 결과)\n",
    "- a << b: a를 b bit 왼쪽으로 이동(=a를 2의b승으로 곱한 결과)\n",
    "- not 논리연산의 반전.~비트연산의 반전 "
   ]
  },
  {
   "cell_type": "code",
   "execution_count": 101,
   "metadata": {
    "ExecuteTime": {
     "end_time": "2021-02-27T17:55:49.186102Z",
     "start_time": "2021-02-27T17:55:49.178107Z"
    }
   },
   "outputs": [
    {
     "name": "stdout",
     "output_type": "stream",
     "text": [
      "3\n",
      "60\n",
      "-16\n"
     ]
    }
   ],
   "source": [
    "a = 15 \n",
    "\n",
    "print(a >> 2)\n",
    "print(a << 2)\n",
    "print(~a) # 0 0 0 0 1 1 1 1 => 1 1 1 1 0 0 0 0 (음수는 2의 보수를 취함)"
   ]
  },
  {
   "cell_type": "markdown",
   "metadata": {},
   "source": [
    "### (6) isinstance(data, type)\n",
    "- 스칼라 데이터나 객체의 유형을 확인. 어떤 값이 특정 유형인지를 묻는다."
   ]
  },
  {
   "cell_type": "code",
   "execution_count": 103,
   "metadata": {
    "ExecuteTime": {
     "end_time": "2021-02-27T17:58:51.291550Z",
     "start_time": "2021-02-27T17:58:51.278557Z"
    }
   },
   "outputs": [
    {
     "data": {
      "text/plain": [
       "True"
      ]
     },
     "execution_count": 103,
     "metadata": {},
     "output_type": "execute_result"
    }
   ],
   "source": [
    "isinstance(3.5, float) # 3.5는 float형이니?"
   ]
  },
  {
   "cell_type": "markdown",
   "metadata": {},
   "source": [
    "## <연습문제>"
   ]
  },
  {
   "cell_type": "code",
   "execution_count": 104,
   "metadata": {
    "ExecuteTime": {
     "end_time": "2021-02-27T18:03:05.308046Z",
     "start_time": "2021-02-27T18:03:05.265072Z"
    }
   },
   "outputs": [
    {
     "name": "stdout",
     "output_type": "stream",
     "text": [
      "홍길동님의 나이는 30살입니다.\n",
      "홍길동님의 나이는 30살입니다\n",
      "홍길동님의 나이는 30살입니다.\n"
     ]
    }
   ],
   "source": [
    "# 1. '홍길동님의 나이는 30살입니다' 라는 문구 출력하기 \n",
    "name = \"홍길동\"\n",
    "age = 30 \n",
    "\n",
    "print('{}님의 나이는 {}살입니다.'.format(name, age))\n",
    "print('%s님의 나이는 %d살입니다'%(name, age))\n",
    "print(f'{name}님의 나이는 {age}살입니다.')"
   ]
  },
  {
   "cell_type": "code",
   "execution_count": 105,
   "metadata": {
    "ExecuteTime": {
     "end_time": "2021-02-27T18:05:21.625453Z",
     "start_time": "2021-02-27T18:05:16.676330Z"
    }
   },
   "outputs": [
    {
     "name": "stdout",
     "output_type": "stream",
     "text": [
      "첫번째 수: 10\n",
      "두번째 수: 0\n",
      "n1 + n2 =  10\n",
      "n1 - n2 =  10\n",
      "n1 * n2 =  0\n",
      "두번째 수에 0을 입력하여 나누기 연산 불가능\n"
     ]
    }
   ],
   "source": [
    "# 2. 두 정수를 입력받아 \n",
    "#    두 수의 덧셈, 뺄셈, 곱셈, 나눗셈, 몫, 나머지 연산\n",
    "n1 = int(input('첫번째 수: '))\n",
    "n2 = int(input('두번째 수: '))\n",
    "\n",
    "print('n1 + n2 = ', (n1 + n2))\n",
    "print('n1 - n2 = ', (n1 - n2))\n",
    "print('n1 * n2 = ', (n1 * n2))\n",
    "try: \n",
    "    print('n1 / n2 = ', (n1 / n2))\n",
    "    print('n1 // n2 = ', (n1 // n2))\n",
    "    print('n1 % n2 = ', (n1 % n2))\n",
    "except Exception:\n",
    "    print('두번째 수에 0을 입력하여 나누기 연산 불가능')"
   ]
  },
  {
   "cell_type": "code",
   "execution_count": 106,
   "metadata": {
    "ExecuteTime": {
     "end_time": "2021-02-27T18:06:29.484696Z",
     "start_time": "2021-02-27T18:06:29.469704Z"
    }
   },
   "outputs": [
    {
     "name": "stdout",
     "output_type": "stream",
     "text": [
      "world Hello\n"
     ]
    }
   ],
   "source": [
    "# 3. 'Hello world'를 'world Hello'로 출력\n",
    "str = 'Hello world'\n",
    "print(str[-5:], str[:5])"
   ]
  },
  {
   "cell_type": "code",
   "execution_count": 109,
   "metadata": {
    "ExecuteTime": {
     "end_time": "2021-02-27T18:07:27.222100Z",
     "start_time": "2021-02-27T18:07:27.210106Z"
    }
   },
   "outputs": [
    {
     "name": "stdout",
     "output_type": "stream",
     "text": [
      "bcdefa\n",
      "bcdefa\n"
     ]
    }
   ],
   "source": [
    "# 4. 아래의 x 변수갑을 dcdefa로 출력 \n",
    "x = 'abcdef'\n",
    "print(x[1:]+x[0])\n",
    "print(x[1:],x[0],sep='')"
   ]
  },
  {
   "cell_type": "code",
   "execution_count": 110,
   "metadata": {
    "ExecuteTime": {
     "end_time": "2021-02-27T18:07:50.153014Z",
     "start_time": "2021-02-27T18:07:50.141023Z"
    }
   },
   "outputs": [
    {
     "name": "stdout",
     "output_type": "stream",
     "text": [
      "fedcba\n"
     ]
    }
   ],
   "source": [
    "# 5. 아래의 x변수값을 이용하여 fedcba로 출력 \n",
    "x = 'abcdef'\n",
    "print(x[::-1])"
   ]
  },
  {
   "cell_type": "code",
   "execution_count": 114,
   "metadata": {
    "ExecuteTime": {
     "end_time": "2021-02-27T18:10:59.801251Z",
     "start_time": "2021-02-27T18:10:58.233507Z"
    }
   },
   "outputs": [
    {
     "name": "stdout",
     "output_type": "stream",
     "text": [
      "섭씨온도: 14\n",
      "섭씨14도는 화씨온도로 바꾸면 57.20도 입니다\n"
     ]
    }
   ],
   "source": [
    "# 6. 섭씨온도를 입력받아 화씨온도로 변환하기\n",
    "c = float(input('섭씨온도: '))\n",
    "f = (c * 1.8) + 32 \n",
    "\n",
    "if c == round(c):\n",
    "    print(\"섭씨{:.0f}도는 화씨온도로 바꾸면 {:.2f}도 입니다\"\n",
    "         .format(c, f))\n",
    "else:\n",
    "    print(\"섭씨{}도는 화씨온도로 바꾸면 {:.2f}도 입니다\"\n",
    "         .format(c, f))"
   ]
  }
 ],
 "metadata": {
  "kernelspec": {
   "display_name": "Python 3",
   "language": "python",
   "name": "python3"
  },
  "language_info": {
   "codemirror_mode": {
    "name": "ipython",
    "version": 3
   },
   "file_extension": ".py",
   "mimetype": "text/x-python",
   "name": "python",
   "nbconvert_exporter": "python",
   "pygments_lexer": "ipython3",
   "version": "3.8.5"
  },
  "toc": {
   "base_numbering": 1,
   "nav_menu": {},
   "number_sections": false,
   "sideBar": true,
   "skip_h1_title": false,
   "title_cell": "Table of Contents",
   "title_sidebar": "Contents",
   "toc_cell": false,
   "toc_position": {},
   "toc_section_display": true,
   "toc_window_display": false
  },
  "varInspector": {
   "cols": {
    "lenName": 16,
    "lenType": 16,
    "lenVar": 40
   },
   "kernels_config": {
    "python": {
     "delete_cmd_postfix": "",
     "delete_cmd_prefix": "del ",
     "library": "var_list.py",
     "varRefreshCmd": "print(var_dic_list())"
    },
    "r": {
     "delete_cmd_postfix": ") ",
     "delete_cmd_prefix": "rm(",
     "library": "var_list.r",
     "varRefreshCmd": "cat(var_dic_list()) "
    }
   },
   "types_to_exclude": [
    "module",
    "function",
    "builtin_function_or_method",
    "instance",
    "_Feature"
   ],
   "window_display": false
  }
 },
 "nbformat": 4,
 "nbformat_minor": 4
}
