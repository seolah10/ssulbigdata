{
 "cells": [
  {
   "cell_type": "markdown",
   "metadata": {},
   "source": [
    "**<font size=\"5\" color=\"darkred\">ch05. 함수</font>**\n",
    "\n",
    "- 반복해서 사용할 코드는 함수를 이용하면 훨씬 구조적이고 간결한 코딩이 가능 \n",
    "- 함수의 정의 \n",
    "<pre>\n",
    "    <b>def</b> 함수명([param1, param2, ...]):\n",
    "            expressions\n",
    "</pre>"
   ]
  },
  {
   "cell_type": "markdown",
   "metadata": {},
   "source": [
    "## 1. 함수의 정의 및 사용"
   ]
  },
  {
   "cell_type": "code",
   "execution_count": 2,
   "metadata": {
    "ExecuteTime": {
     "end_time": "2021-02-28T13:09:08.105831Z",
     "start_time": "2021-02-28T13:09:08.090841Z"
    }
   },
   "outputs": [],
   "source": [
    "def my_hello():\n",
    "    print('Hello, ssul')\n",
    "    print('Hello, Python')"
   ]
  },
  {
   "cell_type": "code",
   "execution_count": 4,
   "metadata": {
    "ExecuteTime": {
     "end_time": "2021-02-28T13:09:16.513782Z",
     "start_time": "2021-02-28T13:09:16.491795Z"
    }
   },
   "outputs": [
    {
     "data": {
      "text/plain": [
       "<function __main__.my_hello()>"
      ]
     },
     "execution_count": 4,
     "metadata": {},
     "output_type": "execute_result"
    }
   ],
   "source": [
    "my_hello"
   ]
  },
  {
   "cell_type": "code",
   "execution_count": 5,
   "metadata": {
    "ExecuteTime": {
     "end_time": "2021-02-28T13:09:40.600078Z",
     "start_time": "2021-02-28T13:09:40.581091Z"
    }
   },
   "outputs": [
    {
     "name": "stdout",
     "output_type": "stream",
     "text": [
      "Hello, ssul\n",
      "Hello, Python\n"
     ]
    }
   ],
   "source": [
    "if __name__ == '__main__':\n",
    "    my_hello()"
   ]
  },
  {
   "cell_type": "code",
   "execution_count": 7,
   "metadata": {
    "ExecuteTime": {
     "end_time": "2021-02-28T13:10:34.164501Z",
     "start_time": "2021-02-28T13:10:34.158504Z"
    }
   },
   "outputs": [
    {
     "name": "stdout",
     "output_type": "stream",
     "text": [
      "90\n",
      "50\n"
     ]
    }
   ],
   "source": [
    "def my_add(n1, n2, n3=0): # 기본값을 갖는 매개변수는 제일 뒤로 \n",
    "    return n1 + n2 + n3\n",
    "\n",
    "print(my_add(20, 30, 40))\n",
    "print(my_add(20, 30))"
   ]
  },
  {
   "cell_type": "markdown",
   "metadata": {},
   "source": [
    "### (1) docstring"
   ]
  },
  {
   "cell_type": "code",
   "execution_count": 8,
   "metadata": {
    "ExecuteTime": {
     "end_time": "2021-02-28T13:13:05.841007Z",
     "start_time": "2021-02-28T13:13:05.824019Z"
    }
   },
   "outputs": [],
   "source": [
    "def my_function():\n",
    "    \"\"\"\n",
    "    함수의 첫 줄에 독스트링을 포함시킬 수 있다.\n",
    "    독스트링은 함수의 설명서 역할을 하며, 주석보다 더 많은 기능을 한다.\n",
    "    \"\"\"\n",
    "    pass"
   ]
  },
  {
   "cell_type": "code",
   "execution_count": 10,
   "metadata": {
    "ExecuteTime": {
     "end_time": "2021-02-28T13:13:26.343201Z",
     "start_time": "2021-02-28T13:13:26.329211Z"
    }
   },
   "outputs": [
    {
     "name": "stdout",
     "output_type": "stream",
     "text": [
      "\n",
      "    함수의 첫 줄에 독스트링을 포함시킬 수 있다.\n",
      "    독스트링은 함수의 설명서 역할을 하며, 주석보다 더 많은 기능을 한다.\n",
      "    \n"
     ]
    }
   ],
   "source": [
    "print(my_function.__doc__) # 독스트링 내용 출력"
   ]
  },
  {
   "cell_type": "code",
   "execution_count": 13,
   "metadata": {
    "ExecuteTime": {
     "end_time": "2021-02-28T13:16:19.666354Z",
     "start_time": "2021-02-28T13:16:19.652362Z"
    }
   },
   "outputs": [
    {
     "name": "stdout",
     "output_type": "stream",
     "text": [
      "0   1   1   2   3   5   8   \n"
     ]
    }
   ],
   "source": [
    "def fibonacci(n):\n",
    "    \"매개변수로 들어온 n값 미만까지의 피보나치 수열을 출력합니다.\"\n",
    "    a, b = 0, 1\n",
    "    \n",
    "    while a < n:\n",
    "        print(a, end = '   ')\n",
    "        a, b = b, a+b \n",
    "    print()\n",
    "\n",
    "if __name__ == '__main__':\n",
    "    fibonacci(10)"
   ]
  },
  {
   "cell_type": "markdown",
   "metadata": {},
   "source": [
    "### (2) 지역변수와 전역변수"
   ]
  },
  {
   "cell_type": "code",
   "execution_count": 14,
   "metadata": {
    "ExecuteTime": {
     "end_time": "2021-02-28T13:20:43.509756Z",
     "start_time": "2021-02-28T13:20:43.499762Z"
    }
   },
   "outputs": [
    {
     "name": "stdout",
     "output_type": "stream",
     "text": [
      "100\n"
     ]
    }
   ],
   "source": [
    "global_var = 100 # 전역변수\n",
    "def func1():\n",
    "    print(global_var)\n",
    "\n",
    "func1()"
   ]
  },
  {
   "cell_type": "code",
   "execution_count": 15,
   "metadata": {
    "ExecuteTime": {
     "end_time": "2021-02-28T13:21:20.142061Z",
     "start_time": "2021-02-28T13:21:20.124067Z"
    }
   },
   "outputs": [
    {
     "name": "stdout",
     "output_type": "stream",
     "text": [
      "200\n"
     ]
    }
   ],
   "source": [
    "def func2():\n",
    "    local_var = 200 # 지역변수\n",
    "    print(local_var)\n",
    "\n",
    "func2()"
   ]
  },
  {
   "cell_type": "code",
   "execution_count": 17,
   "metadata": {
    "ExecuteTime": {
     "end_time": "2021-02-28T13:21:49.628254Z",
     "start_time": "2021-02-28T13:21:49.606269Z"
    }
   },
   "outputs": [
    {
     "data": {
      "text/plain": [
       "100"
      ]
     },
     "execution_count": 17,
     "metadata": {},
     "output_type": "execute_result"
    }
   ],
   "source": [
    "global_var "
   ]
  },
  {
   "cell_type": "code",
   "execution_count": 18,
   "metadata": {
    "ExecuteTime": {
     "end_time": "2021-02-28T13:22:01.460918Z",
     "start_time": "2021-02-28T13:22:01.435934Z"
    }
   },
   "outputs": [
    {
     "ename": "NameError",
     "evalue": "name 'local_var' is not defined",
     "output_type": "error",
     "traceback": [
      "\u001b[1;31m---------------------------------------------------------------------------\u001b[0m",
      "\u001b[1;31mNameError\u001b[0m                                 Traceback (most recent call last)",
      "\u001b[1;32m<ipython-input-18-8852b4c53ffd>\u001b[0m in \u001b[0;36m<module>\u001b[1;34m\u001b[0m\n\u001b[1;32m----> 1\u001b[1;33m \u001b[0mlocal_var\u001b[0m\u001b[1;33m\u001b[0m\u001b[1;33m\u001b[0m\u001b[0m\n\u001b[0m",
      "\u001b[1;31mNameError\u001b[0m: name 'local_var' is not defined"
     ]
    }
   ],
   "source": [
    "local_var # 지역변수는 해당 함수의 내부에서만 사용 가능"
   ]
  },
  {
   "cell_type": "markdown",
   "metadata": {},
   "source": [
    "**렉시컬(lexical) 특성 **"
   ]
  },
  {
   "cell_type": "code",
   "execution_count": 3,
   "metadata": {
    "ExecuteTime": {
     "end_time": "2021-02-28T13:25:27.857977Z",
     "start_time": "2021-02-28T13:25:27.835986Z"
    }
   },
   "outputs": [
    {
     "ename": "UnboundLocalError",
     "evalue": "local variable 'g_var' referenced before assignment",
     "output_type": "error",
     "traceback": [
      "\u001b[1;31m---------------------------------------------------------------------------\u001b[0m",
      "\u001b[1;31mUnboundLocalError\u001b[0m                         Traceback (most recent call last)",
      "\u001b[1;32m<ipython-input-3-00a3ab7e32d9>\u001b[0m in \u001b[0;36m<module>\u001b[1;34m\u001b[0m\n\u001b[0;32m      4\u001b[0m     \u001b[0mg_var\u001b[0m \u001b[1;33m=\u001b[0m \u001b[1;36m200\u001b[0m \u001b[1;31m# 지역변수를 선언하면서 할당\u001b[0m\u001b[1;33m\u001b[0m\u001b[1;33m\u001b[0m\u001b[0m\n\u001b[0;32m      5\u001b[0m     \u001b[0mprint\u001b[0m\u001b[1;33m(\u001b[0m\u001b[1;34m'after'\u001b[0m\u001b[1;33m,\u001b[0m \u001b[0mg_var\u001b[0m\u001b[1;33m)\u001b[0m\u001b[1;33m\u001b[0m\u001b[1;33m\u001b[0m\u001b[0m\n\u001b[1;32m----> 6\u001b[1;33m \u001b[0mfunc3\u001b[0m\u001b[1;33m(\u001b[0m\u001b[1;33m)\u001b[0m\u001b[1;33m\u001b[0m\u001b[1;33m\u001b[0m\u001b[0m\n\u001b[0m",
      "\u001b[1;32m<ipython-input-3-00a3ab7e32d9>\u001b[0m in \u001b[0;36mfunc3\u001b[1;34m()\u001b[0m\n\u001b[0;32m      1\u001b[0m \u001b[0mg_var\u001b[0m \u001b[1;33m=\u001b[0m \u001b[1;36m100\u001b[0m\u001b[1;33m\u001b[0m\u001b[1;33m\u001b[0m\u001b[0m\n\u001b[0;32m      2\u001b[0m \u001b[1;32mdef\u001b[0m \u001b[0mfunc3\u001b[0m\u001b[1;33m(\u001b[0m\u001b[1;33m)\u001b[0m\u001b[1;33m:\u001b[0m\u001b[1;33m\u001b[0m\u001b[1;33m\u001b[0m\u001b[0m\n\u001b[1;32m----> 3\u001b[1;33m     \u001b[0mprint\u001b[0m\u001b[1;33m(\u001b[0m\u001b[1;34m'before'\u001b[0m\u001b[1;33m,\u001b[0m \u001b[0mg_var\u001b[0m\u001b[1;33m)\u001b[0m\u001b[1;33m\u001b[0m\u001b[1;33m\u001b[0m\u001b[0m\n\u001b[0m\u001b[0;32m      4\u001b[0m     \u001b[0mg_var\u001b[0m \u001b[1;33m=\u001b[0m \u001b[1;36m200\u001b[0m \u001b[1;31m# 지역변수를 선언하면서 할당\u001b[0m\u001b[1;33m\u001b[0m\u001b[1;33m\u001b[0m\u001b[0m\n\u001b[0;32m      5\u001b[0m     \u001b[0mprint\u001b[0m\u001b[1;33m(\u001b[0m\u001b[1;34m'after'\u001b[0m\u001b[1;33m,\u001b[0m \u001b[0mg_var\u001b[0m\u001b[1;33m)\u001b[0m\u001b[1;33m\u001b[0m\u001b[1;33m\u001b[0m\u001b[0m\n",
      "\u001b[1;31mUnboundLocalError\u001b[0m: local variable 'g_var' referenced before assignment"
     ]
    }
   ],
   "source": [
    "g_var = 100\n",
    "\n",
    "def func3():\n",
    "    print('before', g_var)\n",
    "    g_var = 200 # 지역변수를 선언하면서 할당\n",
    "    print('after', g_var)\n",
    "\n",
    "func3()"
   ]
  },
  {
   "cell_type": "code",
   "execution_count": 4,
   "metadata": {
    "ExecuteTime": {
     "end_time": "2021-02-28T13:27:36.469978Z",
     "start_time": "2021-02-28T13:27:36.457987Z"
    }
   },
   "outputs": [
    {
     "name": "stdout",
     "output_type": "stream",
     "text": [
      "func3() 실행 전 100\n",
      "before 100\n",
      "after 200\n",
      "200\n"
     ]
    }
   ],
   "source": [
    "g_var = 100\n",
    "\n",
    "def func3():\n",
    "    global g_var # g_var는 전역변수를 사용할거야. \n",
    "    print('before', g_var)\n",
    "    g_var = 200 # 전역변수 g_var에 값을 다시 할당\n",
    "    print('after', g_var)\n",
    "print('func3() 실행 전', g_var)\n",
    "func3()\n",
    "print(g_var)"
   ]
  },
  {
   "cell_type": "code",
   "execution_count": 5,
   "metadata": {
    "ExecuteTime": {
     "end_time": "2021-02-28T13:29:22.568245Z",
     "start_time": "2021-02-28T13:29:22.559251Z"
    }
   },
   "outputs": [
    {
     "name": "stdout",
     "output_type": "stream",
     "text": [
      "func1() 실행 전 global_var:  100\n",
      "200\n",
      "func1() 실행 후 global_var:  100\n"
     ]
    }
   ],
   "source": [
    "global_var = 100\n",
    "\n",
    "def func1():\n",
    "    global_var = 200 # 위의 전역변수와 별개로 지역변수 선언 \n",
    "    print(global_var) # 지역변수 \n",
    "print('func1() 실행 전 global_var: ', global_var)\n",
    "func1()\n",
    "print('func1() 실행 후 global_var: ', global_var) "
   ]
  },
  {
   "cell_type": "code",
   "execution_count": 6,
   "metadata": {
    "ExecuteTime": {
     "end_time": "2021-02-28T13:30:36.614185Z",
     "start_time": "2021-02-28T13:30:36.593199Z"
    }
   },
   "outputs": [
    {
     "name": "stdout",
     "output_type": "stream",
     "text": [
      "func1() 실행 전 global_var:  100\n",
      "200\n",
      "func1() 실행 후 global_var:  200\n"
     ]
    }
   ],
   "source": [
    "global_var = 100\n",
    "\n",
    "def func1():\n",
    "    global global_var # 전역변수 선언 \n",
    "    global_var = 200 # 전역변수\n",
    "    print(global_var)  \n",
    "print('func1() 실행 전 global_var: ', global_var)\n",
    "func1()\n",
    "print('func1() 실행 후 global_var: ', global_var) "
   ]
  },
  {
   "cell_type": "markdown",
   "metadata": {},
   "source": [
    "### (3) 값에 의한 호출\n",
    "- 함수에 인수로 전달되는 변수가 스칼라 변수(숫자, 문자, 논리)일 경우 "
   ]
  },
  {
   "cell_type": "code",
   "execution_count": 7,
   "metadata": {
    "ExecuteTime": {
     "end_time": "2021-02-28T13:31:28.632861Z",
     "start_time": "2021-02-28T13:31:28.612874Z"
    }
   },
   "outputs": [
    {
     "data": {
      "text/plain": [
       "1615658172144"
      ]
     },
     "execution_count": 7,
     "metadata": {},
     "output_type": "execute_result"
    }
   ],
   "source": [
    "foo = 'a' # 전역변수\n",
    "id(foo)"
   ]
  },
  {
   "cell_type": "code",
   "execution_count": 8,
   "metadata": {
    "ExecuteTime": {
     "end_time": "2021-02-28T13:32:29.398627Z",
     "start_time": "2021-02-28T13:32:29.390631Z"
    }
   },
   "outputs": [
    {
     "name": "stdout",
     "output_type": "stream",
     "text": [
      "before:  a\n",
      "after:  aaa 의 주소는  1615747828400\n"
     ]
    }
   ],
   "source": [
    "def func1(foo): # 매개변수는 지역변수\n",
    "    print('before: ', foo)\n",
    "    foo = foo * 3\n",
    "    print('after: ', foo, '의 주소는 ', id(foo))\n",
    "func1(foo)"
   ]
  },
  {
   "cell_type": "code",
   "execution_count": 9,
   "metadata": {
    "ExecuteTime": {
     "end_time": "2021-02-28T13:33:04.864623Z",
     "start_time": "2021-02-28T13:33:04.853630Z"
    }
   },
   "outputs": [
    {
     "name": "stdout",
     "output_type": "stream",
     "text": [
      "a 1615658172144\n"
     ]
    }
   ],
   "source": [
    "print(foo, id(foo)) # func1() 빠져나와서 다시 전역변수 foo를 출력  "
   ]
  },
  {
   "cell_type": "markdown",
   "metadata": {},
   "source": [
    "### (4) 참조에 의한 호출\n",
    "- 함수에 인수로 전달되는 변수가 리스트, 딕셔너리, 셋... 일 경우"
   ]
  },
  {
   "cell_type": "code",
   "execution_count": 1,
   "metadata": {
    "ExecuteTime": {
     "end_time": "2021-02-28T13:36:47.180802Z",
     "start_time": "2021-02-28T13:36:47.160815Z"
    }
   },
   "outputs": [
    {
     "data": {
      "text/plain": [
       "1856464707648"
      ]
     },
     "execution_count": 1,
     "metadata": {},
     "output_type": "execute_result"
    }
   ],
   "source": [
    "list_ = [1, 2, 3, 4, 5]\n",
    "id(list_)"
   ]
  },
  {
   "cell_type": "code",
   "execution_count": 2,
   "metadata": {
    "ExecuteTime": {
     "end_time": "2021-02-28T13:36:49.031936Z",
     "start_time": "2021-02-28T13:36:49.013948Z"
    }
   },
   "outputs": [
    {
     "name": "stdout",
     "output_type": "stream",
     "text": [
      "before:  [1, 2, 3, 4, 5] 의 주소:  1856464707648\n",
      "after:  [1, 2, 3, 4, 5, 6] 의 주소:  1856464707648\n",
      "함수 호출 후 list_:  [1, 2, 3, 4, 5, 6] 의 주소 1856464707648\n"
     ]
    }
   ],
   "source": [
    "def func2(foo): # 지역변수 \n",
    "    print('before: ', foo, '의 주소: ', id(foo))\n",
    "    foo.append(6)\n",
    "    print('after: ', foo, '의 주소: ', id(foo))\n",
    "func2(list_)\n",
    "print('함수 호출 후 list_: ', list_, '의 주소', id(list_))"
   ]
  },
  {
   "cell_type": "markdown",
   "metadata": {},
   "source": [
    "### (5) 함수의 이름 변경 \n",
    "- Python: 함수형 언어, 객체 지향 언어"
   ]
  },
  {
   "cell_type": "code",
   "execution_count": 3,
   "metadata": {
    "ExecuteTime": {
     "end_time": "2021-02-28T13:38:07.667742Z",
     "start_time": "2021-02-28T13:38:07.660748Z"
    }
   },
   "outputs": [],
   "source": [
    "def fibonacci(n):\n",
    "    \"매개변수로 들어온 n값 미만까지 피보나치 수열을 출력합니다.\"\n",
    "    a, b = 0, 1\n",
    "    \n",
    "    while a < n:\n",
    "        print(a, end = '  ')\n",
    "        a, b = b, a+b\n",
    "    print()"
   ]
  },
  {
   "cell_type": "code",
   "execution_count": 4,
   "metadata": {
    "ExecuteTime": {
     "end_time": "2021-02-28T13:38:23.194976Z",
     "start_time": "2021-02-28T13:38:23.178989Z"
    }
   },
   "outputs": [
    {
     "data": {
      "text/plain": [
       "function"
      ]
     },
     "execution_count": 4,
     "metadata": {},
     "output_type": "execute_result"
    }
   ],
   "source": [
    "type(fibonacci)"
   ]
  },
  {
   "cell_type": "code",
   "execution_count": 5,
   "metadata": {
    "ExecuteTime": {
     "end_time": "2021-02-28T13:38:49.769381Z",
     "start_time": "2021-02-28T13:38:49.760387Z"
    }
   },
   "outputs": [],
   "source": [
    "fibo = fibonacci "
   ]
  },
  {
   "cell_type": "code",
   "execution_count": 6,
   "metadata": {
    "ExecuteTime": {
     "end_time": "2021-02-28T13:38:58.769240Z",
     "start_time": "2021-02-28T13:38:58.753251Z"
    }
   },
   "outputs": [
    {
     "name": "stdout",
     "output_type": "stream",
     "text": [
      "0  1  1  2  3  5  8  13  21  34  55  89  \n"
     ]
    }
   ],
   "source": [
    "fibo(100)"
   ]
  },
  {
   "cell_type": "markdown",
   "metadata": {},
   "source": [
    "## 2. 함수의 실행 결과를 반환하는 return"
   ]
  },
  {
   "cell_type": "code",
   "execution_count": 8,
   "metadata": {
    "ExecuteTime": {
     "end_time": "2021-02-28T13:41:39.529148Z",
     "start_time": "2021-02-28T13:41:39.522153Z"
    }
   },
   "outputs": [],
   "source": [
    "def fibonacci_print(n):\n",
    "    \"매개변수로 들어온 n값 미만까지 피보나치 수열을 출력합니다.\"\n",
    "    a, b = 0, 1\n",
    "    \n",
    "    while a < n:\n",
    "        print(a, end = '  ')\n",
    "        a, b = b, a+b\n",
    "    print()\n",
    "\n",
    "def fibonacci(n):\n",
    "    \"n값 미만의 피보나치 수열을 return합니다.\"\n",
    "    result = []\n",
    "    a, b = 0, 1 \n",
    "    \n",
    "    while a < n:\n",
    "        result.append(a)\n",
    "        a, b = b, a+b \n",
    "    return result"
   ]
  },
  {
   "cell_type": "code",
   "execution_count": 9,
   "metadata": {
    "ExecuteTime": {
     "end_time": "2021-02-28T13:41:52.971899Z",
     "start_time": "2021-02-28T13:41:52.954909Z"
    }
   },
   "outputs": [
    {
     "name": "stdout",
     "output_type": "stream",
     "text": [
      "0  1  1  2  3  5  8  13  21  34  55  89  \n"
     ]
    }
   ],
   "source": [
    "x = fibonacci_print(100)"
   ]
  },
  {
   "cell_type": "code",
   "execution_count": 10,
   "metadata": {
    "ExecuteTime": {
     "end_time": "2021-02-28T13:42:46.251407Z",
     "start_time": "2021-02-28T13:42:46.232416Z"
    }
   },
   "outputs": [
    {
     "name": "stdout",
     "output_type": "stream",
     "text": [
      "None <class 'NoneType'>\n"
     ]
    }
   ],
   "source": [
    "print(x, type(x))"
   ]
  },
  {
   "cell_type": "code",
   "execution_count": 11,
   "metadata": {
    "ExecuteTime": {
     "end_time": "2021-02-28T13:42:55.788514Z",
     "start_time": "2021-02-28T13:42:55.770524Z"
    }
   },
   "outputs": [],
   "source": [
    "list_ = fibonacci(100)"
   ]
  },
  {
   "cell_type": "code",
   "execution_count": 12,
   "metadata": {
    "ExecuteTime": {
     "end_time": "2021-02-28T13:43:03.510022Z",
     "start_time": "2021-02-28T13:43:03.491030Z"
    }
   },
   "outputs": [
    {
     "name": "stdout",
     "output_type": "stream",
     "text": [
      "[0, 1, 1, 2, 3, 5, 8, 13, 21, 34, 55, 89] <class 'list'>\n"
     ]
    }
   ],
   "source": [
    "print(list_, type(list_))"
   ]
  },
  {
   "cell_type": "markdown",
   "metadata": {},
   "source": [
    "### (1) 여러개의 값 반환하기"
   ]
  },
  {
   "cell_type": "code",
   "execution_count": 13,
   "metadata": {
    "ExecuteTime": {
     "end_time": "2021-02-28T13:43:38.388284Z",
     "start_time": "2021-02-28T13:43:38.381289Z"
    }
   },
   "outputs": [],
   "source": [
    "def swap(a, b):\n",
    "    return b, a"
   ]
  },
  {
   "cell_type": "code",
   "execution_count": 15,
   "metadata": {
    "ExecuteTime": {
     "end_time": "2021-02-28T13:44:21.864478Z",
     "start_time": "2021-02-28T13:44:21.848490Z"
    }
   },
   "outputs": [
    {
     "name": "stdout",
     "output_type": "stream",
     "text": [
      "함수 실행 전:  5 10\n",
      "함수 실행 후:  10 5\n"
     ]
    }
   ],
   "source": [
    "x, y = 5, 10\n",
    "print('함수 실행 전: ', x, y)\n",
    "x, y = swap(x, y)\n",
    "print('함수 실행 후: ', x, y)"
   ]
  },
  {
   "cell_type": "code",
   "execution_count": 16,
   "metadata": {
    "ExecuteTime": {
     "end_time": "2021-02-28T13:44:44.535860Z",
     "start_time": "2021-02-28T13:44:44.516872Z"
    }
   },
   "outputs": [
    {
     "name": "stdout",
     "output_type": "stream",
     "text": [
      "<class 'tuple'>\n",
      "(5, 10)\n"
     ]
    }
   ],
   "source": [
    "a = swap(x, y)\n",
    "\n",
    "print(type(a))\n",
    "print(a)"
   ]
  },
  {
   "cell_type": "markdown",
   "metadata": {},
   "source": [
    "## 3. 함수의 매개변수 ★\n",
    "\n",
    "### (1) 기본값을 갖는 매개변수 "
   ]
  },
  {
   "cell_type": "code",
   "execution_count": 17,
   "metadata": {
    "ExecuteTime": {
     "end_time": "2021-02-28T13:46:42.849184Z",
     "start_time": "2021-02-28T13:46:42.838189Z"
    }
   },
   "outputs": [
    {
     "data": {
      "text/plain": [
       "'http://localhost:80'"
      ]
     },
     "execution_count": 17,
     "metadata": {},
     "output_type": "execute_result"
    }
   ],
   "source": [
    "def make_url(ip, port=80):\n",
    "    return 'http://{}:{}'.format(ip, port)\n",
    "make_url('localhost', 80)"
   ]
  },
  {
   "cell_type": "code",
   "execution_count": 18,
   "metadata": {
    "ExecuteTime": {
     "end_time": "2021-02-28T13:47:05.930821Z",
     "start_time": "2021-02-28T13:47:05.921827Z"
    }
   },
   "outputs": [
    {
     "data": {
      "text/plain": [
       "'http://localhost:80'"
      ]
     },
     "execution_count": 18,
     "metadata": {},
     "output_type": "execute_result"
    }
   ],
   "source": [
    "make_url('localhost')"
   ]
  },
  {
   "cell_type": "markdown",
   "metadata": {},
   "source": [
    "### (2) 기본 변수를 갖는 매개변수 "
   ]
  },
  {
   "cell_type": "markdown",
   "metadata": {},
   "source": [
    "- 기본변수가 스칼라변수일 때: arg의 기본값은 함수가 정의되는 지점에 한번만 평가됨 "
   ]
  },
  {
   "cell_type": "code",
   "execution_count": 20,
   "metadata": {
    "ExecuteTime": {
     "end_time": "2021-02-28T13:49:27.251761Z",
     "start_time": "2021-02-28T13:49:27.234775Z"
    }
   },
   "outputs": [],
   "source": [
    "i = 5 \n",
    "\n",
    "def func1(arg=i):\n",
    "    print('arg = ', arg)"
   ]
  },
  {
   "cell_type": "code",
   "execution_count": 21,
   "metadata": {
    "ExecuteTime": {
     "end_time": "2021-02-28T13:49:47.387886Z",
     "start_time": "2021-02-28T13:49:47.377889Z"
    }
   },
   "outputs": [
    {
     "name": "stdout",
     "output_type": "stream",
     "text": [
      "arg =  5\n"
     ]
    }
   ],
   "source": [
    "i = 6 \n",
    "func1() # 변경되지 않는다. "
   ]
  },
  {
   "cell_type": "code",
   "execution_count": 22,
   "metadata": {
    "ExecuteTime": {
     "end_time": "2021-02-28T13:49:55.285532Z",
     "start_time": "2021-02-28T13:49:55.279536Z"
    }
   },
   "outputs": [
    {
     "name": "stdout",
     "output_type": "stream",
     "text": [
      "arg =  5\n",
      "None\n"
     ]
    }
   ],
   "source": [
    "print(func1())"
   ]
  },
  {
   "cell_type": "markdown",
   "metadata": {},
   "source": [
    "- 기본변수가 리스트, 셋, 딕셔너리 또는 객체일 때: 함수 호출 후 다시 전달"
   ]
  },
  {
   "cell_type": "code",
   "execution_count": 26,
   "metadata": {
    "ExecuteTime": {
     "end_time": "2021-02-28T13:52:50.893065Z",
     "start_time": "2021-02-28T13:52:50.887069Z"
    }
   },
   "outputs": [
    {
     "name": "stdout",
     "output_type": "stream",
     "text": [
      "[1]\n",
      "[1]\n"
     ]
    }
   ],
   "source": [
    "list_ = []\n",
    "\n",
    "def func2(a, L=list_):\n",
    "    L.append(a)\n",
    "    return L\n",
    "print(func2(1))\n",
    "print(list_)"
   ]
  },
  {
   "cell_type": "code",
   "execution_count": 27,
   "metadata": {
    "ExecuteTime": {
     "end_time": "2021-02-28T13:53:22.166549Z",
     "start_time": "2021-02-28T13:53:22.152554Z"
    }
   },
   "outputs": [
    {
     "name": "stdout",
     "output_type": "stream",
     "text": [
      "[1, 2]\n",
      "[1, 2]\n"
     ]
    }
   ],
   "source": [
    "print(func2(2))\n",
    "print(list_)"
   ]
  },
  {
   "cell_type": "code",
   "execution_count": 28,
   "metadata": {
    "ExecuteTime": {
     "end_time": "2021-02-28T13:53:58.960378Z",
     "start_time": "2021-02-28T13:53:58.944388Z"
    }
   },
   "outputs": [
    {
     "name": "stdout",
     "output_type": "stream",
     "text": [
      "[1]\n"
     ]
    }
   ],
   "source": [
    "def func(a, L=[]):\n",
    "    L.append(a)\n",
    "    return L\n",
    "print(func(1))"
   ]
  },
  {
   "cell_type": "code",
   "execution_count": 29,
   "metadata": {
    "ExecuteTime": {
     "end_time": "2021-02-28T13:54:10.940813Z",
     "start_time": "2021-02-28T13:54:10.928818Z"
    }
   },
   "outputs": [
    {
     "name": "stdout",
     "output_type": "stream",
     "text": [
      "[1, 2]\n"
     ]
    }
   ],
   "source": [
    "print(func(2))"
   ]
  },
  {
   "cell_type": "markdown",
   "metadata": {},
   "source": [
    "### (3) 순서 인수와 키워드 인수 \n",
    "- 순서 인수와 키워드 인수(기본값을 갖는 인수)가 같이 올 때는 키워드 인수가 반드시 뒤에 온다. \n",
    "               def 함수명(변수명1, 변수명2, 변수명n=기본값):\n",
    "                             순서인수         키워드인수"
   ]
  },
  {
   "cell_type": "code",
   "execution_count": 31,
   "metadata": {
    "ExecuteTime": {
     "end_time": "2021-02-28T13:57:02.725315Z",
     "start_time": "2021-02-28T13:57:02.704329Z"
    }
   },
   "outputs": [
    {
     "data": {
      "text/plain": [
       "[10]"
      ]
     },
     "execution_count": 31,
     "metadata": {},
     "output_type": "execute_result"
    }
   ],
   "source": [
    "def func3(a, L=None):\n",
    "    if L is None:\n",
    "        L = []\n",
    "    L.append(a)\n",
    "    return L\n",
    "func3(10)"
   ]
  },
  {
   "cell_type": "code",
   "execution_count": 32,
   "metadata": {
    "ExecuteTime": {
     "end_time": "2021-02-28T13:57:23.278463Z",
     "start_time": "2021-02-28T13:57:23.257477Z"
    }
   },
   "outputs": [
    {
     "data": {
      "text/plain": [
       "[30]"
      ]
     },
     "execution_count": 32,
     "metadata": {},
     "output_type": "execute_result"
    }
   ],
   "source": [
    "func3(30)"
   ]
  },
  {
   "cell_type": "code",
   "execution_count": 33,
   "metadata": {
    "ExecuteTime": {
     "end_time": "2021-02-28T13:57:40.313480Z",
     "start_time": "2021-02-28T13:57:40.297490Z"
    }
   },
   "outputs": [
    {
     "data": {
      "text/plain": [
       "[10]"
      ]
     },
     "execution_count": 33,
     "metadata": {},
     "output_type": "execute_result"
    }
   ],
   "source": [
    "list_ = []\n",
    "func3(10, list_)"
   ]
  },
  {
   "cell_type": "code",
   "execution_count": 34,
   "metadata": {
    "ExecuteTime": {
     "end_time": "2021-02-28T13:58:02.518922Z",
     "start_time": "2021-02-28T13:58:02.508927Z"
    }
   },
   "outputs": [
    {
     "data": {
      "text/plain": [
       "[10, 2]"
      ]
     },
     "execution_count": 34,
     "metadata": {},
     "output_type": "execute_result"
    }
   ],
   "source": [
    "func3(2, list_)"
   ]
  },
  {
   "cell_type": "code",
   "execution_count": 35,
   "metadata": {
    "ExecuteTime": {
     "end_time": "2021-02-28T13:58:19.172445Z",
     "start_time": "2021-02-28T13:58:19.156454Z"
    }
   },
   "outputs": [
    {
     "data": {
      "text/plain": [
       "[10, 2, 2]"
      ]
     },
     "execution_count": 35,
     "metadata": {},
     "output_type": "execute_result"
    }
   ],
   "source": [
    "func3(a=2, L=list_)"
   ]
  },
  {
   "cell_type": "code",
   "execution_count": 36,
   "metadata": {
    "ExecuteTime": {
     "end_time": "2021-02-28T13:58:34.420367Z",
     "start_time": "2021-02-28T13:58:34.403372Z"
    }
   },
   "outputs": [
    {
     "data": {
      "text/plain": [
       "[10, 2, 2, 2]"
      ]
     },
     "execution_count": 36,
     "metadata": {},
     "output_type": "execute_result"
    }
   ],
   "source": [
    "func3(L=list_, a=2)"
   ]
  },
  {
   "cell_type": "code",
   "execution_count": 37,
   "metadata": {
    "ExecuteTime": {
     "end_time": "2021-02-28T13:58:43.422685Z",
     "start_time": "2021-02-28T13:58:43.414688Z"
    }
   },
   "outputs": [
    {
     "data": {
      "text/plain": [
       "[30]"
      ]
     },
     "execution_count": 37,
     "metadata": {},
     "output_type": "execute_result"
    }
   ],
   "source": [
    "func3(a=30)"
   ]
  },
  {
   "cell_type": "code",
   "execution_count": 38,
   "metadata": {
    "ExecuteTime": {
     "end_time": "2021-02-28T13:58:57.356417Z",
     "start_time": "2021-02-28T13:58:57.339428Z"
    }
   },
   "outputs": [
    {
     "ename": "TypeError",
     "evalue": "func3() missing 1 required positional argument: 'a'",
     "output_type": "error",
     "traceback": [
      "\u001b[1;31m---------------------------------------------------------------------------\u001b[0m",
      "\u001b[1;31mTypeError\u001b[0m                                 Traceback (most recent call last)",
      "\u001b[1;32m<ipython-input-38-b7e4f488dc81>\u001b[0m in \u001b[0;36m<module>\u001b[1;34m\u001b[0m\n\u001b[1;32m----> 1\u001b[1;33m \u001b[0mfunc3\u001b[0m\u001b[1;33m(\u001b[0m\u001b[1;33m)\u001b[0m\u001b[1;33m\u001b[0m\u001b[1;33m\u001b[0m\u001b[0m\n\u001b[0m",
      "\u001b[1;31mTypeError\u001b[0m: func3() missing 1 required positional argument: 'a'"
     ]
    }
   ],
   "source": [
    "# 에러 발생 경우1 \n",
    "func3()"
   ]
  },
  {
   "cell_type": "code",
   "execution_count": 41,
   "metadata": {
    "ExecuteTime": {
     "end_time": "2021-02-28T13:59:53.503090Z",
     "start_time": "2021-02-28T13:59:53.482104Z"
    }
   },
   "outputs": [
    {
     "ename": "TypeError",
     "evalue": "func3() got multiple values for argument 'a'",
     "output_type": "error",
     "traceback": [
      "\u001b[1;31m---------------------------------------------------------------------------\u001b[0m",
      "\u001b[1;31mTypeError\u001b[0m                                 Traceback (most recent call last)",
      "\u001b[1;32m<ipython-input-41-068616b518a0>\u001b[0m in \u001b[0;36m<module>\u001b[1;34m\u001b[0m\n\u001b[0;32m      1\u001b[0m \u001b[1;31m# 에러 발생 경우2\u001b[0m\u001b[1;33m\u001b[0m\u001b[1;33m\u001b[0m\u001b[1;33m\u001b[0m\u001b[0m\n\u001b[1;32m----> 2\u001b[1;33m \u001b[0mfunc3\u001b[0m\u001b[1;33m(\u001b[0m\u001b[1;36m50\u001b[0m\u001b[1;33m,\u001b[0m \u001b[0ma\u001b[0m\u001b[1;33m=\u001b[0m\u001b[1;36m30\u001b[0m\u001b[1;33m,\u001b[0m \u001b[0mL\u001b[0m \u001b[1;33m=\u001b[0m \u001b[1;33m[\u001b[0m\u001b[1;33m]\u001b[0m\u001b[1;33m)\u001b[0m\u001b[1;33m\u001b[0m\u001b[1;33m\u001b[0m\u001b[0m\n\u001b[0m",
      "\u001b[1;31mTypeError\u001b[0m: func3() got multiple values for argument 'a'"
     ]
    }
   ],
   "source": [
    "# 에러 발생 경우2 \n",
    "func3(50, a=30, L = [])"
   ]
  },
  {
   "cell_type": "code",
   "execution_count": 46,
   "metadata": {
    "ExecuteTime": {
     "end_time": "2021-02-28T14:00:58.588153Z",
     "start_time": "2021-02-28T14:00:58.576159Z"
    }
   },
   "outputs": [
    {
     "ename": "TypeError",
     "evalue": "func3() got multiple values for argument 'a'",
     "output_type": "error",
     "traceback": [
      "\u001b[1;31m---------------------------------------------------------------------------\u001b[0m",
      "\u001b[1;31mTypeError\u001b[0m                                 Traceback (most recent call last)",
      "\u001b[1;32m<ipython-input-46-df11b106d788>\u001b[0m in \u001b[0;36m<module>\u001b[1;34m\u001b[0m\n\u001b[0;32m      1\u001b[0m \u001b[1;31m# 에러 발생 경우3\u001b[0m\u001b[1;33m\u001b[0m\u001b[1;33m\u001b[0m\u001b[1;33m\u001b[0m\u001b[0m\n\u001b[1;32m----> 2\u001b[1;33m \u001b[0mfunc3\u001b[0m\u001b[1;33m(\u001b[0m\u001b[1;33m[\u001b[0m\u001b[1;33m]\u001b[0m\u001b[1;33m,\u001b[0m \u001b[0ma\u001b[0m \u001b[1;33m=\u001b[0m \u001b[1;36m30\u001b[0m\u001b[1;33m)\u001b[0m\u001b[1;33m\u001b[0m\u001b[1;33m\u001b[0m\u001b[0m\n\u001b[0m",
      "\u001b[1;31mTypeError\u001b[0m: func3() got multiple values for argument 'a'"
     ]
    }
   ],
   "source": [
    "# 에러 발생 경우3 \n",
    "func3([], a = 30)"
   ]
  },
  {
   "cell_type": "code",
   "execution_count": 48,
   "metadata": {
    "ExecuteTime": {
     "end_time": "2021-02-28T14:01:09.786978Z",
     "start_time": "2021-02-28T14:01:09.765993Z"
    }
   },
   "outputs": [
    {
     "data": {
      "text/plain": [
       "[[]]"
      ]
     },
     "execution_count": 48,
     "metadata": {},
     "output_type": "execute_result"
    }
   ],
   "source": [
    "func3([])"
   ]
  },
  {
   "cell_type": "code",
   "execution_count": 52,
   "metadata": {
    "ExecuteTime": {
     "end_time": "2021-02-28T14:02:10.699498Z",
     "start_time": "2021-02-28T14:02:10.680508Z"
    }
   },
   "outputs": [
    {
     "ename": "SyntaxError",
     "evalue": "positional argument follows keyword argument (<ipython-input-52-0f4f78e0125f>, line 2)",
     "output_type": "error",
     "traceback": [
      "\u001b[1;36m  File \u001b[1;32m\"<ipython-input-52-0f4f78e0125f>\"\u001b[1;36m, line \u001b[1;32m2\u001b[0m\n\u001b[1;33m    func3(L=list_, 70)\u001b[0m\n\u001b[1;37m                   ^\u001b[0m\n\u001b[1;31mSyntaxError\u001b[0m\u001b[1;31m:\u001b[0m positional argument follows keyword argument\n"
     ]
    }
   ],
   "source": [
    "# 에러 발생 경우 4\n",
    "func3(L=list_, 70)"
   ]
  },
  {
   "cell_type": "markdown",
   "metadata": {},
   "source": [
    "### (4) 튜플 매개변수를 이용한 가변인수 설정"
   ]
  },
  {
   "cell_type": "code",
   "execution_count": 53,
   "metadata": {
    "ExecuteTime": {
     "end_time": "2021-02-28T14:02:56.799177Z",
     "start_time": "2021-02-28T14:02:56.791182Z"
    }
   },
   "outputs": [
    {
     "name": "stdout",
     "output_type": "stream",
     "text": [
      "3\n"
     ]
    }
   ],
   "source": [
    "def add(a, b):\n",
    "    return a + b\n",
    "print(add(1, 2))"
   ]
  },
  {
   "cell_type": "code",
   "execution_count": 54,
   "metadata": {
    "ExecuteTime": {
     "end_time": "2021-02-28T14:03:17.107259Z",
     "start_time": "2021-02-28T14:03:17.100263Z"
    }
   },
   "outputs": [
    {
     "name": "stdout",
     "output_type": "stream",
     "text": [
      "6\n"
     ]
    }
   ],
   "source": [
    "def add(a, b, c):\n",
    "    return a + b + c\n",
    "print(add(1, 2, 3))"
   ]
  },
  {
   "cell_type": "code",
   "execution_count": 56,
   "metadata": {
    "ExecuteTime": {
     "end_time": "2021-02-28T14:03:56.055948Z",
     "start_time": "2021-02-28T14:03:56.015973Z"
    }
   },
   "outputs": [
    {
     "ename": "TypeError",
     "evalue": "add() missing 1 required positional argument: 'c'",
     "output_type": "error",
     "traceback": [
      "\u001b[1;31m---------------------------------------------------------------------------\u001b[0m",
      "\u001b[1;31mTypeError\u001b[0m                                 Traceback (most recent call last)",
      "\u001b[1;32m<ipython-input-56-49299abb255e>\u001b[0m in \u001b[0;36m<module>\u001b[1;34m\u001b[0m\n\u001b[0;32m      1\u001b[0m \u001b[1;31m# python은 함수의 중복정의 불가능\u001b[0m\u001b[1;33m\u001b[0m\u001b[1;33m\u001b[0m\u001b[1;33m\u001b[0m\u001b[0m\n\u001b[1;32m----> 2\u001b[1;33m \u001b[0mprint\u001b[0m\u001b[1;33m(\u001b[0m\u001b[0madd\u001b[0m\u001b[1;33m(\u001b[0m\u001b[1;36m10\u001b[0m\u001b[1;33m,\u001b[0m \u001b[1;36m20\u001b[0m\u001b[1;33m)\u001b[0m\u001b[1;33m)\u001b[0m\u001b[1;33m\u001b[0m\u001b[1;33m\u001b[0m\u001b[0m\n\u001b[0m",
      "\u001b[1;31mTypeError\u001b[0m: add() missing 1 required positional argument: 'c'"
     ]
    }
   ],
   "source": [
    "# python은 함수의 중복정의 불가능\n",
    "print(add(10, 20))"
   ]
  },
  {
   "cell_type": "code",
   "execution_count": 57,
   "metadata": {
    "ExecuteTime": {
     "end_time": "2021-02-28T14:05:41.198578Z",
     "start_time": "2021-02-28T14:05:41.184589Z"
    }
   },
   "outputs": [
    {
     "name": "stdout",
     "output_type": "stream",
     "text": [
      "66\n",
      "1\n"
     ]
    }
   ],
   "source": [
    "# *args: args가 튜플 전달 \n",
    "def add(*args): # args = (1,)\n",
    "    sum = 0\n",
    "    for num in args:\n",
    "        sum += num \n",
    "    return sum \n",
    "# 중복정의가 가능해지도록 함수식이 만들어짐 \n",
    "print(add(1, 2, 3, 4, 5, 6, 7, 8, 9, 10, 11))\n",
    "print(add(1))"
   ]
  },
  {
   "cell_type": "markdown",
   "metadata": {},
   "source": [
    "**cf) 문자 연결하기**"
   ]
  },
  {
   "cell_type": "code",
   "execution_count": 59,
   "metadata": {
    "ExecuteTime": {
     "end_time": "2021-02-28T14:10:01.190070Z",
     "start_time": "2021-02-28T14:10:01.179077Z"
    }
   },
   "outputs": [
    {
     "data": {
      "text/plain": [
       "'Bucheon-London-Manila'"
      ]
     },
     "execution_count": 59,
     "metadata": {},
     "output_type": "execute_result"
    }
   ],
   "source": [
    "cities = ('Bucheon', 'London', 'Manila')\n",
    "'-'.join(cities)"
   ]
  },
  {
   "cell_type": "code",
   "execution_count": 61,
   "metadata": {
    "ExecuteTime": {
     "end_time": "2021-02-28T14:10:30.197655Z",
     "start_time": "2021-02-28T14:10:30.181664Z"
    }
   },
   "outputs": [],
   "source": [
    "def concat(*args, sep):\n",
    "    return sep.join(args)"
   ]
  },
  {
   "cell_type": "code",
   "execution_count": 62,
   "metadata": {
    "ExecuteTime": {
     "end_time": "2021-02-28T14:10:45.876487Z",
     "start_time": "2021-02-28T14:10:45.864494Z"
    }
   },
   "outputs": [
    {
     "ename": "TypeError",
     "evalue": "concat() missing 1 required keyword-only argument: 'sep'",
     "output_type": "error",
     "traceback": [
      "\u001b[1;31m---------------------------------------------------------------------------\u001b[0m",
      "\u001b[1;31mTypeError\u001b[0m                                 Traceback (most recent call last)",
      "\u001b[1;32m<ipython-input-62-e7f24296ec96>\u001b[0m in \u001b[0;36m<module>\u001b[1;34m\u001b[0m\n\u001b[1;32m----> 1\u001b[1;33m \u001b[0mconcat\u001b[0m\u001b[1;33m(\u001b[0m\u001b[1;34m'hello'\u001b[0m\u001b[1;33m,\u001b[0m \u001b[1;34m'world'\u001b[0m\u001b[1;33m,\u001b[0m \u001b[1;34m'/'\u001b[0m\u001b[1;33m)\u001b[0m\u001b[1;33m\u001b[0m\u001b[1;33m\u001b[0m\u001b[0m\n\u001b[0m",
      "\u001b[1;31mTypeError\u001b[0m: concat() missing 1 required keyword-only argument: 'sep'"
     ]
    }
   ],
   "source": [
    "concat('hello', 'world', '/') # 에러 발생 "
   ]
  },
  {
   "cell_type": "code",
   "execution_count": 63,
   "metadata": {
    "ExecuteTime": {
     "end_time": "2021-02-28T14:11:20.275955Z",
     "start_time": "2021-02-28T14:11:20.255967Z"
    }
   },
   "outputs": [
    {
     "data": {
      "text/plain": [
       "'hello/world'"
      ]
     },
     "execution_count": 63,
     "metadata": {},
     "output_type": "execute_result"
    }
   ],
   "source": [
    "# 해결책1\n",
    "concat('hello', 'world', sep = '/')"
   ]
  },
  {
   "cell_type": "code",
   "execution_count": 64,
   "metadata": {
    "ExecuteTime": {
     "end_time": "2021-02-28T14:11:58.811074Z",
     "start_time": "2021-02-28T14:11:58.804078Z"
    }
   },
   "outputs": [],
   "source": [
    "# 해결책2\n",
    "def concat(sep, *args):\n",
    "    return sep.join(args)"
   ]
  },
  {
   "cell_type": "code",
   "execution_count": 65,
   "metadata": {
    "ExecuteTime": {
     "end_time": "2021-02-28T14:12:44.325250Z",
     "start_time": "2021-02-28T14:12:44.309259Z"
    }
   },
   "outputs": [
    {
     "data": {
      "text/plain": [
       "'earth/mars/venus'"
      ]
     },
     "execution_count": 65,
     "metadata": {},
     "output_type": "execute_result"
    }
   ],
   "source": [
    "concat('/', 'earth', 'mars', 'venus')"
   ]
  },
  {
   "cell_type": "code",
   "execution_count": 66,
   "metadata": {
    "ExecuteTime": {
     "end_time": "2021-02-28T14:13:19.774780Z",
     "start_time": "2021-02-28T14:13:19.753794Z"
    }
   },
   "outputs": [
    {
     "data": {
      "text/plain": [
       "'marsearthvenus'"
      ]
     },
     "execution_count": 66,
     "metadata": {},
     "output_type": "execute_result"
    }
   ],
   "source": [
    "concat('earth', 'mars', 'venus') # earth가 sep 역할을 함"
   ]
  },
  {
   "cell_type": "code",
   "execution_count": 67,
   "metadata": {
    "ExecuteTime": {
     "end_time": "2021-02-28T14:14:21.125887Z",
     "start_time": "2021-02-28T14:14:21.103899Z"
    }
   },
   "outputs": [],
   "source": [
    "# 해결책 3\n",
    "def concat(*args, sep = '/'): # 순서인수 > 튜플인수 > 키워드인수 \n",
    "    return sep.join(args)"
   ]
  },
  {
   "cell_type": "code",
   "execution_count": 68,
   "metadata": {
    "ExecuteTime": {
     "end_time": "2021-02-28T14:14:36.885575Z",
     "start_time": "2021-02-28T14:14:36.870584Z"
    }
   },
   "outputs": [
    {
     "data": {
      "text/plain": [
       "'earth/mars/venus'"
      ]
     },
     "execution_count": 68,
     "metadata": {},
     "output_type": "execute_result"
    }
   ],
   "source": [
    "concat('earth', 'mars', 'venus')"
   ]
  },
  {
   "cell_type": "code",
   "execution_count": 69,
   "metadata": {
    "ExecuteTime": {
     "end_time": "2021-02-28T14:15:11.803284Z",
     "start_time": "2021-02-28T14:15:11.794290Z"
    }
   },
   "outputs": [
    {
     "data": {
      "text/plain": [
       "'Python ~ R ~ hadoop'"
      ]
     },
     "execution_count": 69,
     "metadata": {},
     "output_type": "execute_result"
    }
   ],
   "source": [
    "concat('Python', 'R', 'hadoop', sep = ' ~ ')"
   ]
  },
  {
   "cell_type": "markdown",
   "metadata": {},
   "source": [
    "### (5) 딕셔너리 매개변수 \n",
    "- 순서인수, 튜플인수, 키워드인수, 딕셔너리인수 등은 같이 사용 가능하지만 순서를 유의해서 사용하도록 한다."
   ]
  },
  {
   "cell_type": "code",
   "execution_count": 74,
   "metadata": {
    "ExecuteTime": {
     "end_time": "2021-02-28T14:19:28.283639Z",
     "start_time": "2021-02-28T14:19:28.268649Z"
    }
   },
   "outputs": [
    {
     "name": "stdout",
     "output_type": "stream",
     "text": [
      "name:park\n",
      "age:30\n",
      "address:부천시\n"
     ]
    }
   ],
   "source": [
    "def func5(**args): # arg가 딕셔너리로 전달(**)\n",
    "    for key, value in args.items():\n",
    "        print(\"{}:{}\".format(key, value))\n",
    "func5(name = 'park', age = 30, address = '부천시')"
   ]
  },
  {
   "cell_type": "code",
   "execution_count": 75,
   "metadata": {
    "ExecuteTime": {
     "end_time": "2021-02-28T14:20:23.775219Z",
     "start_time": "2021-02-28T14:20:23.761225Z"
    }
   },
   "outputs": [],
   "source": [
    "# 순서인수, 튜플인수, 키워드인수, 딕셔너리인수\n",
    "def func6(a, *b, **c):\n",
    "    print('a = ', a)\n",
    "    print('b = ', b)\n",
    "    print('c = ', c)"
   ]
  },
  {
   "cell_type": "code",
   "execution_count": 77,
   "metadata": {
    "ExecuteTime": {
     "end_time": "2021-02-28T14:20:30.555580Z",
     "start_time": "2021-02-28T14:20:30.534593Z"
    }
   },
   "outputs": [
    {
     "name": "stdout",
     "output_type": "stream",
     "text": [
      "a =  10\n",
      "b =  (1, 2, 3, 4, 5)\n",
      "c =  {'name': 'park', 'age': 30}\n"
     ]
    }
   ],
   "source": [
    "func6(10, 1, 2, 3, 4, 5, name = 'park', age = 30)"
   ]
  },
  {
   "cell_type": "markdown",
   "metadata": {},
   "source": [
    "### (6) 함수 정의 시 매개변수의 순서"
   ]
  },
  {
   "cell_type": "code",
   "execution_count": 78,
   "metadata": {
    "ExecuteTime": {
     "end_time": "2021-02-28T14:22:31.412293Z",
     "start_time": "2021-02-28T14:22:31.391306Z"
    }
   },
   "outputs": [],
   "source": [
    "# 순서인수, 튜플인수, 키워드인수, 딕셔너리 인수 \n",
    "def func(a, b, c, *d, e=10, **f):\n",
    "    print('a = ', a)\n",
    "    print('b = ', b)\n",
    "    print('c = ', c)\n",
    "    print('d = ', d)\n",
    "    print('e = ', e)\n",
    "    print('f = ', f)"
   ]
  },
  {
   "cell_type": "code",
   "execution_count": 81,
   "metadata": {
    "ExecuteTime": {
     "end_time": "2021-02-28T14:23:23.650362Z",
     "start_time": "2021-02-28T14:23:23.632370Z"
    }
   },
   "outputs": [
    {
     "name": "stdout",
     "output_type": "stream",
     "text": [
      "a =  10\n",
      "b =  20\n",
      "c =  30\n",
      "d =  (1, 2, 3, 4, 2, 4)\n",
      "e =  20\n",
      "f =  {'name': 'park', 'age': 30}\n"
     ]
    }
   ],
   "source": [
    "func(10, 20, 30, 1, 2, 3, 4, 2, 4, e=20, name = 'park', age = 30)"
   ]
  },
  {
   "cell_type": "markdown",
   "metadata": {},
   "source": [
    "### (7) 인수의 언패킹 \n",
    "\n",
    "#### 1) 튜플 언패킹"
   ]
  },
  {
   "cell_type": "code",
   "execution_count": 82,
   "metadata": {
    "ExecuteTime": {
     "end_time": "2021-02-28T14:24:28.407794Z",
     "start_time": "2021-02-28T14:24:28.386809Z"
    }
   },
   "outputs": [
    {
     "data": {
      "text/plain": [
       "10"
      ]
     },
     "execution_count": 82,
     "metadata": {},
     "output_type": "execute_result"
    }
   ],
   "source": [
    "def add(*args):\n",
    "    sum = 0\n",
    "    for num in args:\n",
    "        sum += num  # sum = num + sum\n",
    "    return sum\n",
    "add(1, 2 ,3, 4)"
   ]
  },
  {
   "cell_type": "code",
   "execution_count": 88,
   "metadata": {
    "ExecuteTime": {
     "end_time": "2021-02-28T14:29:16.010429Z",
     "start_time": "2021-02-28T14:29:16.003435Z"
    }
   },
   "outputs": [
    {
     "data": {
      "text/plain": [
       "10"
      ]
     },
     "execution_count": 88,
     "metadata": {},
     "output_type": "execute_result"
    }
   ],
   "source": [
    "numbers = (1, 2, 3, 4)\n",
    "\n",
    "# add(numbers) 에러\n",
    "add(*numbers) # 언패킹 "
   ]
  },
  {
   "cell_type": "markdown",
   "metadata": {},
   "source": [
    "- ex. 다음과 같은 실행 결과의 튜플 인수를 갖는 range2함수를 구현하시오 \n",
    "\n",
    "- print(range2(10))\n",
    "- print(range2(5,10))\n",
    "- print(range2(5,10,2))"
   ]
  },
  {
   "cell_type": "code",
   "execution_count": 90,
   "metadata": {
    "ExecuteTime": {
     "end_time": "2021-02-28T14:34:45.584942Z",
     "start_time": "2021-02-28T14:34:45.562958Z"
    }
   },
   "outputs": [
    {
     "name": "stdout",
     "output_type": "stream",
     "text": [
      "[0, 1, 2, 3, 4, 5, 6, 7, 8, 9]\n",
      "[5, 6, 7, 8, 9]\n",
      "[5, 7, 9]\n",
      "No way!\n",
      "None\n"
     ]
    }
   ],
   "source": [
    "def range2(*args):\n",
    "    length = len(args)\n",
    "    result = []\n",
    "    \n",
    "    if length == 0:\n",
    "        raise Exception('매개변수가 있어야 해')\n",
    "    elif length == 1:\n",
    "        for i in range(args[0]):\n",
    "            result.append(i)\n",
    "    elif length == 2:\n",
    "        for i in range(args[0], args[1]):\n",
    "            result.append(i)\n",
    "    elif length == 3:\n",
    "        for i in range(args[0], args[1], args[2]):\n",
    "            result.append(i)\n",
    "    else:\n",
    "        print('No way!')\n",
    "        return\n",
    "    return result\n",
    "print(range2(10))\n",
    "print(range2(5,10))\n",
    "print(range2(5,10,2))\n",
    "print(range2(1,2,3,4))"
   ]
  },
  {
   "cell_type": "code",
   "execution_count": 92,
   "metadata": {
    "ExecuteTime": {
     "end_time": "2021-02-28T14:35:50.505807Z",
     "start_time": "2021-02-28T14:35:50.489815Z"
    }
   },
   "outputs": [
    {
     "data": {
      "text/plain": [
       "[5, 7, 9]"
      ]
     },
     "execution_count": 92,
     "metadata": {},
     "output_type": "execute_result"
    }
   ],
   "source": [
    "t = (5, 10, 2)\n",
    "range2(*t) # range2함수를 사용하려면 언패킹 필요 "
   ]
  },
  {
   "cell_type": "markdown",
   "metadata": {},
   "source": [
    "#### 2) 딕셔너리 인수 언패킹 "
   ]
  },
  {
   "cell_type": "code",
   "execution_count": 93,
   "metadata": {
    "ExecuteTime": {
     "end_time": "2021-02-28T14:37:28.170243Z",
     "start_time": "2021-02-28T14:37:28.160250Z"
    }
   },
   "outputs": [
    {
     "name": "stdout",
     "output_type": "stream",
     "text": [
      "('name', 'park')\n",
      "('age', 30)\n",
      "('birth', 1010)\n"
     ]
    }
   ],
   "source": [
    "def func1(**data):\n",
    "    for item in data.items():\n",
    "        print(item)\n",
    "func1(name = 'park', age = 30, birth = 1010)"
   ]
  },
  {
   "cell_type": "code",
   "execution_count": 94,
   "metadata": {
    "ExecuteTime": {
     "end_time": "2021-02-28T14:38:11.055190Z",
     "start_time": "2021-02-28T14:38:11.036199Z"
    }
   },
   "outputs": [
    {
     "name": "stdout",
     "output_type": "stream",
     "text": [
      "name:park\n",
      "age:30\n",
      "birth:1010\n"
     ]
    }
   ],
   "source": [
    "customerInfo = {'name':'park', 'age':30, 'birth':'1010'}\n",
    "func5(**customerInfo) # 딕셔너리 인수 언패킹 "
   ]
  },
  {
   "cell_type": "markdown",
   "metadata": {},
   "source": [
    "## 4. 람다식 \n",
    "- 작은 익명함수를 의미한다.\n",
    "- 실행할 문장을 한 문장만 작성 가능\n",
    "- return구문이 없어도 statement 결과를 반환한다.\n",
    "- 리스트컴프리헨션, filter(), map()을 참조하여 학습하길 추천함\n",
    "\n",
    "### (1) 람다식: 한줄짜리 작은 익명함수"
   ]
  },
  {
   "cell_type": "code",
   "execution_count": 95,
   "metadata": {
    "ExecuteTime": {
     "end_time": "2021-02-28T14:40:12.607354Z",
     "start_time": "2021-02-28T14:40:12.587369Z"
    }
   },
   "outputs": [
    {
     "data": {
      "text/plain": [
       "11"
      ]
     },
     "execution_count": 95,
     "metadata": {},
     "output_type": "execute_result"
    }
   ],
   "source": [
    "def add(a, b):\n",
    "    return a + b\n",
    "add(5, 6)"
   ]
  },
  {
   "cell_type": "code",
   "execution_count": 96,
   "metadata": {
    "ExecuteTime": {
     "end_time": "2021-02-28T14:40:18.551691Z",
     "start_time": "2021-02-28T14:40:18.544696Z"
    }
   },
   "outputs": [
    {
     "data": {
      "text/plain": [
       "function"
      ]
     },
     "execution_count": 96,
     "metadata": {},
     "output_type": "execute_result"
    }
   ],
   "source": [
    "type(add)"
   ]
  },
  {
   "cell_type": "code",
   "execution_count": 98,
   "metadata": {
    "ExecuteTime": {
     "end_time": "2021-02-28T14:40:51.677141Z",
     "start_time": "2021-02-28T14:40:51.663149Z"
    }
   },
   "outputs": [],
   "source": [
    "add2 = lambda a, b : a+b"
   ]
  },
  {
   "cell_type": "code",
   "execution_count": 99,
   "metadata": {
    "ExecuteTime": {
     "end_time": "2021-02-28T14:40:53.399912Z",
     "start_time": "2021-02-28T14:40:53.389923Z"
    }
   },
   "outputs": [
    {
     "data": {
      "text/plain": [
       "30"
      ]
     },
     "execution_count": 99,
     "metadata": {},
     "output_type": "execute_result"
    }
   ],
   "source": [
    "add2(10,20)"
   ]
  },
  {
   "cell_type": "code",
   "execution_count": 100,
   "metadata": {
    "ExecuteTime": {
     "end_time": "2021-02-28T14:41:08.979636Z",
     "start_time": "2021-02-28T14:41:08.964648Z"
    }
   },
   "outputs": [
    {
     "data": {
      "text/plain": [
       "70"
      ]
     },
     "execution_count": 100,
     "metadata": {},
     "output_type": "execute_result"
    }
   ],
   "source": [
    "(lambda a, b : a + b)(30, 40)"
   ]
  },
  {
   "cell_type": "markdown",
   "metadata": {},
   "source": [
    "### (2) 함수의 인수에 람다식 사용하기 "
   ]
  },
  {
   "cell_type": "code",
   "execution_count": 101,
   "metadata": {
    "ExecuteTime": {
     "end_time": "2021-02-28T14:42:06.802755Z",
     "start_time": "2021-02-28T14:42:06.788765Z"
    }
   },
   "outputs": [],
   "source": [
    "def map_template(func, l = []):\n",
    "    result = []\n",
    "    for item in l:\n",
    "        result.append(func(item))\n",
    "    return result"
   ]
  },
  {
   "cell_type": "code",
   "execution_count": 102,
   "metadata": {
    "ExecuteTime": {
     "end_time": "2021-02-28T14:42:52.650801Z",
     "start_time": "2021-02-28T14:42:52.643807Z"
    }
   },
   "outputs": [
    {
     "data": {
      "text/plain": [
       "[2, 4, 6, 8, 10]"
      ]
     },
     "execution_count": 102,
     "metadata": {},
     "output_type": "execute_result"
    }
   ],
   "source": [
    "list_data = [1, 2, 3, 4, 5]\n",
    "\n",
    "def x_2(x):\n",
    "    return x*2\n",
    "map_template(x_2, list_data)"
   ]
  },
  {
   "cell_type": "code",
   "execution_count": 103,
   "metadata": {
    "ExecuteTime": {
     "end_time": "2021-02-28T14:43:52.247488Z",
     "start_time": "2021-02-28T14:43:52.225500Z"
    }
   },
   "outputs": [
    {
     "name": "stdout",
     "output_type": "stream",
     "text": [
      "[1, 2, 3, 4, 5]\n"
     ]
    },
    {
     "data": {
      "text/plain": [
       "[2, 4, 6, 8, 10]"
      ]
     },
     "execution_count": 103,
     "metadata": {},
     "output_type": "execute_result"
    }
   ],
   "source": [
    "print(list_data)\n",
    "map_template(lambda x : x*2, list_data)"
   ]
  },
  {
   "cell_type": "code",
   "execution_count": 104,
   "metadata": {
    "ExecuteTime": {
     "end_time": "2021-02-28T14:44:21.131296Z",
     "start_time": "2021-02-28T14:44:21.111308Z"
    }
   },
   "outputs": [
    {
     "data": {
      "text/plain": [
       "[2, 4, 6, 8, 10]"
      ]
     },
     "execution_count": 104,
     "metadata": {},
     "output_type": "execute_result"
    }
   ],
   "source": [
    "# map()함수 이용 \n",
    "list(map(lambda x:x*2, list_data))"
   ]
  },
  {
   "cell_type": "code",
   "execution_count": 105,
   "metadata": {
    "ExecuteTime": {
     "end_time": "2021-02-28T14:44:41.645422Z",
     "start_time": "2021-02-28T14:44:41.636427Z"
    }
   },
   "outputs": [
    {
     "data": {
      "text/plain": [
       "[2, 4, 6, 8, 10]"
      ]
     },
     "execution_count": 105,
     "metadata": {},
     "output_type": "execute_result"
    }
   ],
   "source": [
    "# 리스트 컴프리헨션\n",
    "[x*2 for x in list_data]"
   ]
  },
  {
   "cell_type": "code",
   "execution_count": 114,
   "metadata": {
    "ExecuteTime": {
     "end_time": "2021-02-28T14:48:53.049396Z",
     "start_time": "2021-02-28T14:48:53.031404Z"
    }
   },
   "outputs": [],
   "source": [
    "list_data = [1,2,3,4,5]\n",
    "def filter_template(func, L=[]):\n",
    "    result = []\n",
    "    for item in L:\n",
    "        if func(item):\n",
    "            result.append(item)\n",
    "    return result"
   ]
  },
  {
   "cell_type": "code",
   "execution_count": 115,
   "metadata": {
    "ExecuteTime": {
     "end_time": "2021-02-28T14:48:56.120974Z",
     "start_time": "2021-02-28T14:48:56.107982Z"
    }
   },
   "outputs": [
    {
     "data": {
      "text/plain": [
       "[2, 4]"
      ]
     },
     "execution_count": 115,
     "metadata": {},
     "output_type": "execute_result"
    }
   ],
   "source": [
    "def evenyesorno(x):\n",
    "    if x%2==0:\n",
    "        return True\n",
    "filter_template(evenyesorno, list_data)"
   ]
  },
  {
   "cell_type": "code",
   "execution_count": 116,
   "metadata": {
    "ExecuteTime": {
     "end_time": "2021-02-28T14:49:25.576721Z",
     "start_time": "2021-02-28T14:49:25.567727Z"
    }
   },
   "outputs": [
    {
     "data": {
      "text/plain": [
       "[2, 4]"
      ]
     },
     "execution_count": 116,
     "metadata": {},
     "output_type": "execute_result"
    }
   ],
   "source": [
    "filter_template(lambda x : x%2 == 0, list_data)"
   ]
  },
  {
   "cell_type": "code",
   "execution_count": 117,
   "metadata": {
    "ExecuteTime": {
     "end_time": "2021-02-28T14:49:54.546328Z",
     "start_time": "2021-02-28T14:49:54.540330Z"
    }
   },
   "outputs": [
    {
     "data": {
      "text/plain": [
       "[2, 4]"
      ]
     },
     "execution_count": 117,
     "metadata": {},
     "output_type": "execute_result"
    }
   ],
   "source": [
    "# filter()함수 이용\n",
    "list(filter(lambda x : x%2 == 0, list_data))"
   ]
  },
  {
   "cell_type": "code",
   "execution_count": 118,
   "metadata": {
    "ExecuteTime": {
     "end_time": "2021-02-28T14:50:14.911204Z",
     "start_time": "2021-02-28T14:50:14.894215Z"
    }
   },
   "outputs": [
    {
     "data": {
      "text/plain": [
       "[2, 4]"
      ]
     },
     "execution_count": 118,
     "metadata": {},
     "output_type": "execute_result"
    }
   ],
   "source": [
    "# 리스트 컴프리헨션\n",
    "[x for x in list_data if x%2==0]"
   ]
  },
  {
   "cell_type": "markdown",
   "metadata": {},
   "source": [
    "**람다식은 함수가 실행할 문장이 한문장이 경우에만 사용한다**<br>\n",
    "**람다식이 가장 많이 사용되는 곳은 함수의 인수로 전달할 때나 return할 때**"
   ]
  },
  {
   "cell_type": "code",
   "execution_count": 119,
   "metadata": {
    "ExecuteTime": {
     "end_time": "2021-02-28T14:52:02.281895Z",
     "start_time": "2021-02-28T14:52:02.258909Z"
    }
   },
   "outputs": [
    {
     "data": {
      "text/plain": [
       "[(1, 'one'), (2, 'two'), (3, 'three'), (4, 'four')]"
      ]
     },
     "execution_count": 119,
     "metadata": {},
     "output_type": "execute_result"
    }
   ],
   "source": [
    "pairs = [(1, 'one'), (3, 'three'), (4, 'four'), (2, 'two')]\n",
    "pairs.sort()\n",
    "pairs"
   ]
  },
  {
   "cell_type": "code",
   "execution_count": 120,
   "metadata": {
    "ExecuteTime": {
     "end_time": "2021-02-28T14:52:35.311298Z",
     "start_time": "2021-02-28T14:52:35.302304Z"
    }
   },
   "outputs": [
    {
     "data": {
      "text/plain": [
       "[(4, 'four'), (1, 'one'), (3, 'three'), (2, 'two')]"
      ]
     },
     "execution_count": 120,
     "metadata": {},
     "output_type": "execute_result"
    }
   ],
   "source": [
    "pairs.sort(key=lambda pair : pair[1])\n",
    "pairs"
   ]
  },
  {
   "cell_type": "code",
   "execution_count": 121,
   "metadata": {
    "ExecuteTime": {
     "end_time": "2021-02-28T14:53:22.614670Z",
     "start_time": "2021-02-28T14:53:22.599678Z"
    }
   },
   "outputs": [
    {
     "data": {
      "text/plain": [
       "1000000"
      ]
     },
     "execution_count": 121,
     "metadata": {},
     "output_type": "execute_result"
    }
   ],
   "source": [
    "def apply(data, func=None):\n",
    "    if func == None:\n",
    "        return data\n",
    "    else:\n",
    "        return func(data)\n",
    "apply(100, lambda x : x**3)"
   ]
  },
  {
   "cell_type": "markdown",
   "metadata": {},
   "source": [
    "### (3) 리턴문에 람다식 사용 "
   ]
  },
  {
   "cell_type": "code",
   "execution_count": 122,
   "metadata": {
    "ExecuteTime": {
     "end_time": "2021-02-28T14:56:36.486209Z",
     "start_time": "2021-02-28T14:56:36.467221Z"
    }
   },
   "outputs": [],
   "source": [
    "# 함수를 return하는 함수 \n",
    "'''\n",
    "make_box((5,)) => 1차원 5열 list를 만드는 함수 fun => fun(10) => [10,10,10,10,10]\n",
    "make_box((2,3)) => 2차원 2행 3열 list를 만드는 함수 fun => fun(10) =>\n",
    "                                                [[10,10,10],[10,10,10]]\n",
    "'''\n",
    "def make_box(shape):\n",
    "    def box(init_value):\n",
    "        if len(shape)==1:\n",
    "            return [init_value] * shape[0]\n",
    "        elif len(shape)==2:\n",
    "            return [ [init_value] * shape[1] ] * shape[0]\n",
    "    return box"
   ]
  },
  {
   "cell_type": "code",
   "execution_count": 124,
   "metadata": {
    "ExecuteTime": {
     "end_time": "2021-02-28T14:57:01.371121Z",
     "start_time": "2021-02-28T14:57:01.357130Z"
    }
   },
   "outputs": [
    {
     "data": {
      "text/plain": [
       "function"
      ]
     },
     "execution_count": 124,
     "metadata": {},
     "output_type": "execute_result"
    }
   ],
   "source": [
    "box1 = make_box([5,])\n",
    "type(box1)"
   ]
  },
  {
   "cell_type": "code",
   "execution_count": 125,
   "metadata": {
    "ExecuteTime": {
     "end_time": "2021-02-28T14:57:06.278302Z",
     "start_time": "2021-02-28T14:57:06.256317Z"
    }
   },
   "outputs": [
    {
     "data": {
      "text/plain": [
       "[10, 10, 10, 10, 10]"
      ]
     },
     "execution_count": 125,
     "metadata": {},
     "output_type": "execute_result"
    }
   ],
   "source": [
    "box1(10)"
   ]
  },
  {
   "cell_type": "code",
   "execution_count": 126,
   "metadata": {
    "ExecuteTime": {
     "end_time": "2021-02-28T14:58:14.720786Z",
     "start_time": "2021-02-28T14:58:14.699799Z"
    }
   },
   "outputs": [
    {
     "data": {
      "text/plain": [
       "[[10, 10, 10], [10, 10, 10]]"
      ]
     },
     "execution_count": 126,
     "metadata": {},
     "output_type": "execute_result"
    }
   ],
   "source": [
    "box2 = make_box([2,3])\n",
    "box2(10)"
   ]
  },
  {
   "cell_type": "code",
   "execution_count": 127,
   "metadata": {
    "ExecuteTime": {
     "end_time": "2021-02-28T15:00:04.321116Z",
     "start_time": "2021-02-28T15:00:04.309119Z"
    }
   },
   "outputs": [],
   "source": [
    "def make_box1(shape):\n",
    "    if len(shape) == 1:\n",
    "        return lambda x : [x] * shape[0]\n",
    "    elif len(shape) == 2:\n",
    "        return lambda x : [ [x] * shape[1] ] * shape[0]"
   ]
  },
  {
   "cell_type": "code",
   "execution_count": 129,
   "metadata": {
    "ExecuteTime": {
     "end_time": "2021-02-28T15:01:06.473589Z",
     "start_time": "2021-02-28T15:01:06.454601Z"
    }
   },
   "outputs": [
    {
     "data": {
      "text/plain": [
       "[[5, 5], [5, 5], [5, 5]]"
      ]
     },
     "execution_count": 129,
     "metadata": {},
     "output_type": "execute_result"
    }
   ],
   "source": [
    "box1 = make_box1((3,2))\n",
    "box1(5)"
   ]
  },
  {
   "cell_type": "code",
   "execution_count": 130,
   "metadata": {
    "ExecuteTime": {
     "end_time": "2021-02-28T15:01:19.959209Z",
     "start_time": "2021-02-28T15:01:19.942218Z"
    }
   },
   "outputs": [
    {
     "data": {
      "text/plain": [
       "[10, 10, 10, 10, 10, 10, 10]"
      ]
     },
     "execution_count": 130,
     "metadata": {},
     "output_type": "execute_result"
    }
   ],
   "source": [
    "box2 = make_box((7,))\n",
    "box2(10)"
   ]
  },
  {
   "cell_type": "markdown",
   "metadata": {},
   "source": [
    "## 5. 파이썬 내장함수 \n",
    "- import하지 않고 바로 사용 가능한 함수\n",
    "- 키워드처럼 간주되므로 식별자로 사용하는 것을 피한다."
   ]
  },
  {
   "cell_type": "code",
   "execution_count": 131,
   "metadata": {
    "ExecuteTime": {
     "end_time": "2021-02-28T15:02:14.891829Z",
     "start_time": "2021-02-28T15:02:14.878838Z"
    }
   },
   "outputs": [
    {
     "data": {
      "text/plain": [
       "1"
      ]
     },
     "execution_count": 131,
     "metadata": {},
     "output_type": "execute_result"
    }
   ],
   "source": [
    "int('1')"
   ]
  },
  {
   "cell_type": "code",
   "execution_count": 132,
   "metadata": {
    "ExecuteTime": {
     "end_time": "2021-02-28T15:02:23.567190Z",
     "start_time": "2021-02-28T15:02:23.550198Z"
    }
   },
   "outputs": [
    {
     "ename": "ValueError",
     "evalue": "invalid literal for int() with base 10: '1.2'",
     "output_type": "error",
     "traceback": [
      "\u001b[1;31m---------------------------------------------------------------------------\u001b[0m",
      "\u001b[1;31mValueError\u001b[0m                                Traceback (most recent call last)",
      "\u001b[1;32m<ipython-input-132-b36c460efb9b>\u001b[0m in \u001b[0;36m<module>\u001b[1;34m\u001b[0m\n\u001b[1;32m----> 1\u001b[1;33m \u001b[0mint\u001b[0m\u001b[1;33m(\u001b[0m\u001b[1;34m'1.2'\u001b[0m\u001b[1;33m)\u001b[0m\u001b[1;33m\u001b[0m\u001b[1;33m\u001b[0m\u001b[0m\n\u001b[0m",
      "\u001b[1;31mValueError\u001b[0m: invalid literal for int() with base 10: '1.2'"
     ]
    }
   ],
   "source": [
    "int('1.2')"
   ]
  },
  {
   "cell_type": "code",
   "execution_count": 133,
   "metadata": {
    "ExecuteTime": {
     "end_time": "2021-02-28T15:02:40.174987Z",
     "start_time": "2021-02-28T15:02:40.154001Z"
    }
   },
   "outputs": [
    {
     "data": {
      "text/plain": [
       "1"
      ]
     },
     "execution_count": 133,
     "metadata": {},
     "output_type": "execute_result"
    }
   ],
   "source": [
    "int(float(\"1.2\"))"
   ]
  },
  {
   "cell_type": "code",
   "execution_count": 134,
   "metadata": {
    "ExecuteTime": {
     "end_time": "2021-02-28T15:03:03.336424Z",
     "start_time": "2021-02-28T15:03:03.281460Z"
    }
   },
   "outputs": [
    {
     "data": {
      "text/plain": [
       "{'__name__': '__main__',\n",
       " '__doc__': '\\nmake_box((5,)) => 1차원 5열 list를 만드는 함수 fun => fun(10) => [10,10,10,10,10]\\nmake_box((2,3)) => 2차원 2행 3열 list를 만드는 함수 fun => fun(10) =>\\n                                                [[10,10,10],[10,10,10]]\\n',\n",
       " '__package__': None,\n",
       " '__loader__': None,\n",
       " '__spec__': None,\n",
       " '__builtin__': <module 'builtins' (built-in)>,\n",
       " '__builtins__': <module 'builtins' (built-in)>,\n",
       " '_ih': ['',\n",
       "  'list_ = [1, 2, 3, 4, 5]\\nid(list_)',\n",
       "  \"def func2(foo): # 지역변수 \\n    print('before: ', foo, '의 주소: ', id(foo))\\n    foo.append(6)\\n    print('after: ', foo, '의 주소: ', id(foo))\\nfunc2(list_)\\nprint('함수 호출 후 list_: ', list_, '의 주소', id(list_))\",\n",
       "  'def fibonacci(n):\\n    \"매개변수로 들어온 n값 미만까지 피보나치 수열을 출력합니다.\"\\n    a, b = 0, 1\\n    \\n    while a < n:\\n        print(a, end = \\'  \\')\\n        a, b = b, a+b\\n    print()',\n",
       "  'type(fibonacci)',\n",
       "  'fibo = fibonacci ',\n",
       "  'fibo(100)',\n",
       "  'def fibonacci_print(n):\\n    \"매개변수로 들어온 n값 미만까지 피보나치 수열을 출력합니다.\"\\n    a, b = 0, 1\\n    \\n    while a < n:\\n        print(a, end = \\'  \\')\\n        a, b = b, a+b\\n    print()\\n\\ndef fibonacci(n):\\n    \"n값 미만의 피보나치 수열을 return합니다.\"\\n    return = []\\n    a, b = 0, 1 \\n    \\n    while a < n:\\n        result.append(a)\\n        a, b = b, a+b \\n    return result',\n",
       "  'def fibonacci_print(n):\\n    \"매개변수로 들어온 n값 미만까지 피보나치 수열을 출력합니다.\"\\n    a, b = 0, 1\\n    \\n    while a < n:\\n        print(a, end = \\'  \\')\\n        a, b = b, a+b\\n    print()\\n\\ndef fibonacci(n):\\n    \"n값 미만의 피보나치 수열을 return합니다.\"\\n    result = []\\n    a, b = 0, 1 \\n    \\n    while a < n:\\n        result.append(a)\\n        a, b = b, a+b \\n    return result',\n",
       "  'x = fibonacci_print(100)',\n",
       "  'print(x, type(x))',\n",
       "  'list_ = fibonacci(100)',\n",
       "  'print(list_, type(list_))',\n",
       "  'def swap(a, b):\\n    return b, a',\n",
       "  \"x, y = 5, 10\\nprint('함수 실행 전: ' x, y)\\nx, y = swap(x, y)\\nprint('함수 실행 후: ' x, y)\",\n",
       "  \"x, y = 5, 10\\nprint('함수 실행 전: ', x, y)\\nx, y = swap(x, y)\\nprint('함수 실행 후: ', x, y)\",\n",
       "  'a = swap(x, y)\\n\\nprint(type(a))\\nprint(a)',\n",
       "  \"def make_url(ip, port=80):\\n    return 'http://{}:{}'.format(ip, port)\\nmake_url('localhost', 80)\",\n",
       "  \"make_url('localhost')\",\n",
       "  'i = 5 \\n\\ndef func1(arg=i):',\n",
       "  \"i = 5 \\n\\ndef func1(arg=i):\\n    print('arg = ', arg)\",\n",
       "  'i = 6 \\nfunc1()',\n",
       "  'print(func1())',\n",
       "  'list_ = []\\n\\ndef func2(a, l=list_):\\n    l.append(a)\\n    return l\\nprint(func2(l))\\nprint(list_)',\n",
       "  'list_ = []\\n\\ndef func2(a, L=list_):\\n    L.append(a)\\n    return L\\nprint(func2(l))\\nprint(list_)',\n",
       "  'list_ = []\\n\\ndef func2(a, L=list_):\\n    L.append(a)\\n    return L\\nprint(func2(L))\\nprint(list_)',\n",
       "  'list_ = []\\n\\ndef func2(a, L=list_):\\n    L.append(a)\\n    return L\\nprint(func2(1))\\nprint(list_)',\n",
       "  'print(func2(2))\\nprint(list_)',\n",
       "  'def func(a, L=[]):\\n    L.append(a)\\n    return L\\nprint(func(1))',\n",
       "  'print(func(2))',\n",
       "  'def func3(a, L=None):\\n    if L is None:\\n        L = []\\n    L.append(a)\\n    return L\\nfunc3()',\n",
       "  'def func3(a, L=None):\\n    if L is None:\\n        L = []\\n    L.append(a)\\n    return L\\nfunc3(10)',\n",
       "  'func3(30)',\n",
       "  'list_ = []\\nfunc3(10, list_)',\n",
       "  'func3(2, list_)',\n",
       "  'func3(a=2, L=list_)',\n",
       "  'func3(L=list_, a=2)',\n",
       "  'func3(a=30)',\n",
       "  'func3()',\n",
       "  'func3(50, a=30, L = [])',\n",
       "  '# 에러 발생 경우2 \\nfunc3( a=30, L = [])',\n",
       "  '# 에러 발생 경우2 \\nfunc3(50, a=30, L = [])',\n",
       "  '# 에러 발생 경우3 \\nfunc3([], a=30)',\n",
       "  '# 에러 발생 경우3 \\nfunc3([a=30, [])',\n",
       "  '# 에러 발생 경우3 \\nfunc3(a=30, [])',\n",
       "  '# 에러 발생 경우3 \\nfunc3([], a= 30)',\n",
       "  '# 에러 발생 경우3 \\nfunc3([], a = 30)',\n",
       "  'fuc3([])',\n",
       "  'func3([])',\n",
       "  'func3(L=list_, 70)',\n",
       "  'func3(L=list_, a=70)',\n",
       "  'func3(L=list_, 70)',\n",
       "  '# 에러 발생 경우 4\\nfunc3(L=list_, 70)',\n",
       "  'def add(a, b):\\n    return a + b\\nprint(add(1, 2))',\n",
       "  'def add(a, b, c):\\n    return a + b + c\\nprint(add(1, 2, 3))',\n",
       "  'print(add(10, 20))',\n",
       "  '# python은 함수의 중복정의 불가능\\nprint(add(10, 20))',\n",
       "  '# *args: args가 튜플 전달 \\ndef add(*args): # args = (1,)\\n    sum = 0\\n    for num in args:\\n        sum += num \\n    return sum \\n\\nprint(add(1, 2, 3, 4, 5, 6, 7, 8, 9, 10, 11))\\nprint(add(1))',\n",
       "  \"cities = ('Seoul', 'London', 'Manila')\\n'-'.join(cities)\",\n",
       "  \"cities = ('Bucheon', 'London', 'Manila')\\n'-'.join(cities)\",\n",
       "  'def concat(*args, sep):',\n",
       "  'def concat(*args, sep):\\n    return sep.join(args)',\n",
       "  \"concat('hello', 'world', '/')\",\n",
       "  \"# 해결책 \\nconcat('hello', 'world', sep = '/')\",\n",
       "  '# 해결책2\\ndef concat(sep, *args):\\n    return sep.join(args)',\n",
       "  \"concat('/', 'earth', 'mars', 'venus')\",\n",
       "  \"concat('earth', 'mars', 'venus') # earth가 sep 역할을 함\",\n",
       "  \"# 해결책 3\\ndef concat(*args, sep = '/'): # 순서인수 > 튜플인수 > 키워드인수 \\n    return sep.join(args)\",\n",
       "  \"concat('earth', 'mars', 'venus')\",\n",
       "  \"concat('Python', 'R', 'hadoop', sep = ' ~ ')\",\n",
       "  'def func5(**args): # arg가 딕셔너리로 전달(**)\\n    for key, value in args.items():\\n        print(\"{}:{}\".format(key, value))\\nfunc5(name = \\'park\\', age = 30), address = \\'부천시\\')',\n",
       "  'def func5(**args): # arg가 딕셔너리로 전달(**)\\n    for key, value in args.items():\\n        print(\"{}:{}\".format(key, value))\\nfunc5(name = \\'park\\', age = 30, address = \\'부천시\\')',\n",
       "  \"func6(10, 1, 2, 3, 4, 5, name = 'park', age = 30)\",\n",
       "  \"func5(10, 1, 2, 3, 4, 5, name = 'park', age = 30)\",\n",
       "  'def func5(**args): # arg가 딕셔너리로 전달(**)\\n    for key, value in args.items():\\n        print(\"{}:{}\".format(key, value))\\nfunc5(name = \\'park\\', age = 30, address = \\'부천시\\')',\n",
       "  \"# 순서인수, 튜플인수, 키워드인수, 딕셔너리인수\\ndef func6(a, *b, **c):\\n    print('a = ', a)\\n    print('b = ', b)\\n    print('c = ', c)\",\n",
       "  \"func5(10, 1, 2, 3, 4, 5, name = 'park', age = 30)\",\n",
       "  \"func6(10, 1, 2, 3, 4, 5, name = 'park', age = 30)\",\n",
       "  \"# 순서인수, 튜플인수, 키워드인수, 딕셔너리 인수 \\ndef func(a, b, c, *d, e=10, **f):\\n    print('a = ', a)\\n    print('b = ', b)\\n    print('c = ', c)\\n    print('d = ', d)\\n    print('e = ', e)\\n    print('f = ', f)\",\n",
       "  \"func(10, 20, 30, 1, 2, 3, 4, 2, 4, e=20, name = 'park', age = 30)\",\n",
       "  \"func(10, 20, 1, 2, 3, 4, 2, 4, e=20, name = 'park', age = 30)\",\n",
       "  \"func(10, 20, 30, 1, 2, 3, 4, 2, 4, e=20, name = 'park', age = 30)\",\n",
       "  'def add(*args):\\n    sum = 0\\n    for num in args:\\n        sum += num\\n    return sum\\nadd(1, 2 ,3, 4)',\n",
       "  'numbers = (1, 2, 3, 4)\\n\\n# add(numbers)\\nadd(*numbers)',\n",
       "  'numbers = (1, 2, 3, 4)\\n\\n add(numbers)\\nadd(*numbers)',\n",
       "  'numbers = (1, 2, 3, 4)\\n\\nadd(numbers)\\nadd(*numbers)',\n",
       "  'numbers = (1, 2, 3, 4)\\n\\nadd(numbers)\\n#add(*numbers)',\n",
       "  'numbers = (1, 2, 3, 4)\\n\\n# add(numbers) 에러\\nadd(*numbers)',\n",
       "  'numbers = (1, 2, 3, 4)\\n\\n# add(numbers) 에러\\nadd(*numbers) # 언패킹 ',\n",
       "  \"def range2(*args):\\n    length = len(args)\\n    result = []\\n    \\n    if length == 0:\\n        raise Exception('매개변수가 있어야 해')\\n    elif length == 1:\\n        for i in range(args[0]):\\n    elif length == 2:\\n        for i in ragn\",\n",
       "  \"def range2(*args):\\n    length = len(args)\\n    result = []\\n    \\n    if length == 0:\\n        raise Exception('매개변수가 있어야 해')\\n    elif length == 1:\\n        for i in range(args[0]):\\n            result.append(i)\\n    elif length == 2:\\n        for i in range(args[0], args[1]):\\n            result.append(i)\\n    elif length == 3:\\n        for i in range(args[0], args[1], args[2]):\\n            result.append(i)\\n    else:\\n        print('No way!')\\n        return\\n    return result\\nprint(range2(10))\\nprint(range2(5,10))\\nprint(range2(5,10,2))\\nprint(range2(1,2,3,4))\",\n",
       "  't = (5, 10, 2)\\nrange2(t)',\n",
       "  't = (5, 10, 2)\\nrange2(*t)',\n",
       "  \"def func1(**data):\\n    for item in data.items():\\n        print(item)\\nfunc1(name = 'park', age = 30, birth = 1010)\",\n",
       "  \"customerInfo = {'name':'park', 'age':30, 'birth':'1010'}\\nfunc5(**customerInfo)\",\n",
       "  'def add(a, b):\\n    return a + b\\nadd(5, 6)',\n",
       "  'type(add)',\n",
       "  'add2(10,20)',\n",
       "  'add2 = lambda a, b : a+b',\n",
       "  'add2(10,20)',\n",
       "  '(lambda a, b : a + b)(30, 40)',\n",
       "  'def map_template(func, l = []):\\n    result = []\\n    for item in l:\\n        result.append(func(item))\\n    return result',\n",
       "  'list_data = [1, 2, 3, 4, 5]\\n\\ndef x_2(x):\\n    return x*2\\nmap_template(x_2, list_data)',\n",
       "  'print(list_data)\\nmap_template(lambda x : x*2, list_data)',\n",
       "  '# map()함수 이용 \\nlist(map(lambda x:x*2, list_data))',\n",
       "  '# 리스트 컴프리헨션\\n[x*2 for x in list_data]',\n",
       "  'list_data = [1, 2, 3, 4, 5]\\n\\ndef filter_template(func, l = []):',\n",
       "  'list_data = [1, 2, 3, 4, 5]\\n\\ndef filter_template(func, l = []):\\n    result = []\\n    for item in l:\\n        if func(item):\\n            result.append(item)\\n        return result',\n",
       "  'def evenyesorno(x):\\n    if x%2 == 0:\\n        return True\\nfilter_template(evenyesorno, list_data)',\n",
       "  'list_data = [1, 2, 3, 4, 5]\\n\\ndef filter_template(func, l = []):\\n    result = []\\n    for item in l:\\n        if func(item):\\n            result.append(item)\\n        return result',\n",
       "  'def evenyesorno(x):\\n    if x%2 == 0:\\n        return True\\nfilter_template(evenyesorno, list_data)',\n",
       "  'def evenyesorno(x):\\n    if x%2 == 0:\\n        return True\\nfilter_template(evenyesorno, list_data)',\n",
       "  'def evenyesorno(x):\\n    if x%2 == 0:\\n        return True\\nfilter_template(evenyesorno, list_data)',\n",
       "  'def evenyesorno(x):\\n    if x%2==0:\\n        return True\\nfilter_template(evenyesorno, list_data)',\n",
       "  'list_data = [1,2,3,4,5]\\ndef filter_template(func, L=[]):\\n    result = []\\n    for item in L:\\n        if func(item):\\n            result.append(item)\\n    return result',\n",
       "  'def evenyesorno(x):\\n    if x%2==0:\\n        return True\\nfilter_template(evenyesorno, list_data)',\n",
       "  'filter_template(lambda x : x%2 == 0, list_data)',\n",
       "  '# filter()함수 이용\\nlist(filter(lambda x : x%2 == 0, list_data))',\n",
       "  '# 리스트 컴프리헨션\\n[x for x in list_data if x%2==0]',\n",
       "  \"pairs = [(1, 'one'), (3, 'three'), (4, 'four'), (2, 'two')]\\npairs.sort()\\npairs\",\n",
       "  'pairs.sort(key=lambda pair : pair[1])\\npairs',\n",
       "  'def apply(data, func=None):\\n    if func == None:\\n        return data\\n    else:\\n        return func(data)\\napply(100, lambda x : x**3)',\n",
       "  \"# 함수를 return하는 함수 \\n'''\\nmake_box((5,)) => 1차원 5열 list를 만드는 함수 fun => fun(10) => [10,10,10,10,10]\\nmake_box((2,3)) => 2차원 2행 3열 list를 만드는 함수 fun => fun(10) =>\\n                                                [[10,10,10],[10,10,10]]\\n'''\\ndef make_box(shape):\\n    def box(init_value):\\n        if len(shape)==1:\\n            return [init_value] * shape[0]\\n        elif len(shape)==2:\\n            return [ [init_value] * shape[1] ] * shape[0]\\n    return box\",\n",
       "  'box1 = make_box([5,])',\n",
       "  'box1 = make_box([5,])\\ntype(box1)',\n",
       "  'box1(10)',\n",
       "  'box2 = make_box([2,3])\\nbox2(10)',\n",
       "  'def make_box1(shape):\\n    if len(shape) == 1:\\n        return lambda x : [x] * shape[0]\\n    elif len(shape) == 2:\\n        return lambda x : [ [x] * shape[1] ] * shape[0]',\n",
       "  'box1 = make_box1((3,2))',\n",
       "  'box1 = make_box1((3,2))\\nbox1(5)',\n",
       "  'box2 = make_box((7,))\\nbox2(10)',\n",
       "  \"int('1')\",\n",
       "  \"int('1.2')\",\n",
       "  'int(float(\"1.2\"))',\n",
       "  'var = 10 \\nglobals() # 현재까지 사용한 전역변수들 딕셔너리'],\n",
       " '_oh': {1: 1856464707648,\n",
       "  4: function,\n",
       "  17: 'http://localhost:80',\n",
       "  18: 'http://localhost:80',\n",
       "  31: [10],\n",
       "  32: [30],\n",
       "  33: [10, 2, 2, 2, 70],\n",
       "  34: [10, 2, 2, 2, 70],\n",
       "  35: [10, 2, 2, 2, 70],\n",
       "  36: [10, 2, 2, 2, 70],\n",
       "  37: [30],\n",
       "  40: [30],\n",
       "  48: [[]],\n",
       "  50: [10, 2, 2, 2, 70],\n",
       "  58: 'Seoul-London-Manila',\n",
       "  59: 'Bucheon-London-Manila',\n",
       "  63: 'hello/world',\n",
       "  65: 'earth/mars/venus',\n",
       "  66: 'marsearthvenus',\n",
       "  68: 'earth/mars/venus',\n",
       "  69: 'Python ~ R ~ hadoop',\n",
       "  82: 10,\n",
       "  83: 10,\n",
       "  87: 10,\n",
       "  88: 10,\n",
       "  92: [5, 7, 9],\n",
       "  95: 11,\n",
       "  96: function,\n",
       "  99: 30,\n",
       "  100: 70,\n",
       "  102: [2, 4, 6, 8, 10],\n",
       "  103: [2, 4, 6, 8, 10],\n",
       "  104: [2, 4, 6, 8, 10],\n",
       "  105: [2, 4, 6, 8, 10],\n",
       "  108: [],\n",
       "  110: [],\n",
       "  111: [],\n",
       "  112: [],\n",
       "  113: [],\n",
       "  115: [2, 4],\n",
       "  116: [2, 4],\n",
       "  117: [2, 4],\n",
       "  118: [2, 4],\n",
       "  119: [(4, 'four'), (1, 'one'), (3, 'three'), (2, 'two')],\n",
       "  120: [(4, 'four'), (1, 'one'), (3, 'three'), (2, 'two')],\n",
       "  121: 1000000,\n",
       "  124: function,\n",
       "  125: [10, 10, 10, 10, 10],\n",
       "  126: [[10, 10, 10], [10, 10, 10]],\n",
       "  129: [[5, 5], [5, 5], [5, 5]],\n",
       "  130: [10, 10, 10, 10, 10, 10, 10],\n",
       "  131: 1,\n",
       "  133: 1},\n",
       " '_dh': ['D:\\\\BigData\\\\src\\\\08_Python'],\n",
       " 'In': ['',\n",
       "  'list_ = [1, 2, 3, 4, 5]\\nid(list_)',\n",
       "  \"def func2(foo): # 지역변수 \\n    print('before: ', foo, '의 주소: ', id(foo))\\n    foo.append(6)\\n    print('after: ', foo, '의 주소: ', id(foo))\\nfunc2(list_)\\nprint('함수 호출 후 list_: ', list_, '의 주소', id(list_))\",\n",
       "  'def fibonacci(n):\\n    \"매개변수로 들어온 n값 미만까지 피보나치 수열을 출력합니다.\"\\n    a, b = 0, 1\\n    \\n    while a < n:\\n        print(a, end = \\'  \\')\\n        a, b = b, a+b\\n    print()',\n",
       "  'type(fibonacci)',\n",
       "  'fibo = fibonacci ',\n",
       "  'fibo(100)',\n",
       "  'def fibonacci_print(n):\\n    \"매개변수로 들어온 n값 미만까지 피보나치 수열을 출력합니다.\"\\n    a, b = 0, 1\\n    \\n    while a < n:\\n        print(a, end = \\'  \\')\\n        a, b = b, a+b\\n    print()\\n\\ndef fibonacci(n):\\n    \"n값 미만의 피보나치 수열을 return합니다.\"\\n    return = []\\n    a, b = 0, 1 \\n    \\n    while a < n:\\n        result.append(a)\\n        a, b = b, a+b \\n    return result',\n",
       "  'def fibonacci_print(n):\\n    \"매개변수로 들어온 n값 미만까지 피보나치 수열을 출력합니다.\"\\n    a, b = 0, 1\\n    \\n    while a < n:\\n        print(a, end = \\'  \\')\\n        a, b = b, a+b\\n    print()\\n\\ndef fibonacci(n):\\n    \"n값 미만의 피보나치 수열을 return합니다.\"\\n    result = []\\n    a, b = 0, 1 \\n    \\n    while a < n:\\n        result.append(a)\\n        a, b = b, a+b \\n    return result',\n",
       "  'x = fibonacci_print(100)',\n",
       "  'print(x, type(x))',\n",
       "  'list_ = fibonacci(100)',\n",
       "  'print(list_, type(list_))',\n",
       "  'def swap(a, b):\\n    return b, a',\n",
       "  \"x, y = 5, 10\\nprint('함수 실행 전: ' x, y)\\nx, y = swap(x, y)\\nprint('함수 실행 후: ' x, y)\",\n",
       "  \"x, y = 5, 10\\nprint('함수 실행 전: ', x, y)\\nx, y = swap(x, y)\\nprint('함수 실행 후: ', x, y)\",\n",
       "  'a = swap(x, y)\\n\\nprint(type(a))\\nprint(a)',\n",
       "  \"def make_url(ip, port=80):\\n    return 'http://{}:{}'.format(ip, port)\\nmake_url('localhost', 80)\",\n",
       "  \"make_url('localhost')\",\n",
       "  'i = 5 \\n\\ndef func1(arg=i):',\n",
       "  \"i = 5 \\n\\ndef func1(arg=i):\\n    print('arg = ', arg)\",\n",
       "  'i = 6 \\nfunc1()',\n",
       "  'print(func1())',\n",
       "  'list_ = []\\n\\ndef func2(a, l=list_):\\n    l.append(a)\\n    return l\\nprint(func2(l))\\nprint(list_)',\n",
       "  'list_ = []\\n\\ndef func2(a, L=list_):\\n    L.append(a)\\n    return L\\nprint(func2(l))\\nprint(list_)',\n",
       "  'list_ = []\\n\\ndef func2(a, L=list_):\\n    L.append(a)\\n    return L\\nprint(func2(L))\\nprint(list_)',\n",
       "  'list_ = []\\n\\ndef func2(a, L=list_):\\n    L.append(a)\\n    return L\\nprint(func2(1))\\nprint(list_)',\n",
       "  'print(func2(2))\\nprint(list_)',\n",
       "  'def func(a, L=[]):\\n    L.append(a)\\n    return L\\nprint(func(1))',\n",
       "  'print(func(2))',\n",
       "  'def func3(a, L=None):\\n    if L is None:\\n        L = []\\n    L.append(a)\\n    return L\\nfunc3()',\n",
       "  'def func3(a, L=None):\\n    if L is None:\\n        L = []\\n    L.append(a)\\n    return L\\nfunc3(10)',\n",
       "  'func3(30)',\n",
       "  'list_ = []\\nfunc3(10, list_)',\n",
       "  'func3(2, list_)',\n",
       "  'func3(a=2, L=list_)',\n",
       "  'func3(L=list_, a=2)',\n",
       "  'func3(a=30)',\n",
       "  'func3()',\n",
       "  'func3(50, a=30, L = [])',\n",
       "  '# 에러 발생 경우2 \\nfunc3( a=30, L = [])',\n",
       "  '# 에러 발생 경우2 \\nfunc3(50, a=30, L = [])',\n",
       "  '# 에러 발생 경우3 \\nfunc3([], a=30)',\n",
       "  '# 에러 발생 경우3 \\nfunc3([a=30, [])',\n",
       "  '# 에러 발생 경우3 \\nfunc3(a=30, [])',\n",
       "  '# 에러 발생 경우3 \\nfunc3([], a= 30)',\n",
       "  '# 에러 발생 경우3 \\nfunc3([], a = 30)',\n",
       "  'fuc3([])',\n",
       "  'func3([])',\n",
       "  'func3(L=list_, 70)',\n",
       "  'func3(L=list_, a=70)',\n",
       "  'func3(L=list_, 70)',\n",
       "  '# 에러 발생 경우 4\\nfunc3(L=list_, 70)',\n",
       "  'def add(a, b):\\n    return a + b\\nprint(add(1, 2))',\n",
       "  'def add(a, b, c):\\n    return a + b + c\\nprint(add(1, 2, 3))',\n",
       "  'print(add(10, 20))',\n",
       "  '# python은 함수의 중복정의 불가능\\nprint(add(10, 20))',\n",
       "  '# *args: args가 튜플 전달 \\ndef add(*args): # args = (1,)\\n    sum = 0\\n    for num in args:\\n        sum += num \\n    return sum \\n\\nprint(add(1, 2, 3, 4, 5, 6, 7, 8, 9, 10, 11))\\nprint(add(1))',\n",
       "  \"cities = ('Seoul', 'London', 'Manila')\\n'-'.join(cities)\",\n",
       "  \"cities = ('Bucheon', 'London', 'Manila')\\n'-'.join(cities)\",\n",
       "  'def concat(*args, sep):',\n",
       "  'def concat(*args, sep):\\n    return sep.join(args)',\n",
       "  \"concat('hello', 'world', '/')\",\n",
       "  \"# 해결책 \\nconcat('hello', 'world', sep = '/')\",\n",
       "  '# 해결책2\\ndef concat(sep, *args):\\n    return sep.join(args)',\n",
       "  \"concat('/', 'earth', 'mars', 'venus')\",\n",
       "  \"concat('earth', 'mars', 'venus') # earth가 sep 역할을 함\",\n",
       "  \"# 해결책 3\\ndef concat(*args, sep = '/'): # 순서인수 > 튜플인수 > 키워드인수 \\n    return sep.join(args)\",\n",
       "  \"concat('earth', 'mars', 'venus')\",\n",
       "  \"concat('Python', 'R', 'hadoop', sep = ' ~ ')\",\n",
       "  'def func5(**args): # arg가 딕셔너리로 전달(**)\\n    for key, value in args.items():\\n        print(\"{}:{}\".format(key, value))\\nfunc5(name = \\'park\\', age = 30), address = \\'부천시\\')',\n",
       "  'def func5(**args): # arg가 딕셔너리로 전달(**)\\n    for key, value in args.items():\\n        print(\"{}:{}\".format(key, value))\\nfunc5(name = \\'park\\', age = 30, address = \\'부천시\\')',\n",
       "  \"func6(10, 1, 2, 3, 4, 5, name = 'park', age = 30)\",\n",
       "  \"func5(10, 1, 2, 3, 4, 5, name = 'park', age = 30)\",\n",
       "  'def func5(**args): # arg가 딕셔너리로 전달(**)\\n    for key, value in args.items():\\n        print(\"{}:{}\".format(key, value))\\nfunc5(name = \\'park\\', age = 30, address = \\'부천시\\')',\n",
       "  \"# 순서인수, 튜플인수, 키워드인수, 딕셔너리인수\\ndef func6(a, *b, **c):\\n    print('a = ', a)\\n    print('b = ', b)\\n    print('c = ', c)\",\n",
       "  \"func5(10, 1, 2, 3, 4, 5, name = 'park', age = 30)\",\n",
       "  \"func6(10, 1, 2, 3, 4, 5, name = 'park', age = 30)\",\n",
       "  \"# 순서인수, 튜플인수, 키워드인수, 딕셔너리 인수 \\ndef func(a, b, c, *d, e=10, **f):\\n    print('a = ', a)\\n    print('b = ', b)\\n    print('c = ', c)\\n    print('d = ', d)\\n    print('e = ', e)\\n    print('f = ', f)\",\n",
       "  \"func(10, 20, 30, 1, 2, 3, 4, 2, 4, e=20, name = 'park', age = 30)\",\n",
       "  \"func(10, 20, 1, 2, 3, 4, 2, 4, e=20, name = 'park', age = 30)\",\n",
       "  \"func(10, 20, 30, 1, 2, 3, 4, 2, 4, e=20, name = 'park', age = 30)\",\n",
       "  'def add(*args):\\n    sum = 0\\n    for num in args:\\n        sum += num\\n    return sum\\nadd(1, 2 ,3, 4)',\n",
       "  'numbers = (1, 2, 3, 4)\\n\\n# add(numbers)\\nadd(*numbers)',\n",
       "  'numbers = (1, 2, 3, 4)\\n\\n add(numbers)\\nadd(*numbers)',\n",
       "  'numbers = (1, 2, 3, 4)\\n\\nadd(numbers)\\nadd(*numbers)',\n",
       "  'numbers = (1, 2, 3, 4)\\n\\nadd(numbers)\\n#add(*numbers)',\n",
       "  'numbers = (1, 2, 3, 4)\\n\\n# add(numbers) 에러\\nadd(*numbers)',\n",
       "  'numbers = (1, 2, 3, 4)\\n\\n# add(numbers) 에러\\nadd(*numbers) # 언패킹 ',\n",
       "  \"def range2(*args):\\n    length = len(args)\\n    result = []\\n    \\n    if length == 0:\\n        raise Exception('매개변수가 있어야 해')\\n    elif length == 1:\\n        for i in range(args[0]):\\n    elif length == 2:\\n        for i in ragn\",\n",
       "  \"def range2(*args):\\n    length = len(args)\\n    result = []\\n    \\n    if length == 0:\\n        raise Exception('매개변수가 있어야 해')\\n    elif length == 1:\\n        for i in range(args[0]):\\n            result.append(i)\\n    elif length == 2:\\n        for i in range(args[0], args[1]):\\n            result.append(i)\\n    elif length == 3:\\n        for i in range(args[0], args[1], args[2]):\\n            result.append(i)\\n    else:\\n        print('No way!')\\n        return\\n    return result\\nprint(range2(10))\\nprint(range2(5,10))\\nprint(range2(5,10,2))\\nprint(range2(1,2,3,4))\",\n",
       "  't = (5, 10, 2)\\nrange2(t)',\n",
       "  't = (5, 10, 2)\\nrange2(*t)',\n",
       "  \"def func1(**data):\\n    for item in data.items():\\n        print(item)\\nfunc1(name = 'park', age = 30, birth = 1010)\",\n",
       "  \"customerInfo = {'name':'park', 'age':30, 'birth':'1010'}\\nfunc5(**customerInfo)\",\n",
       "  'def add(a, b):\\n    return a + b\\nadd(5, 6)',\n",
       "  'type(add)',\n",
       "  'add2(10,20)',\n",
       "  'add2 = lambda a, b : a+b',\n",
       "  'add2(10,20)',\n",
       "  '(lambda a, b : a + b)(30, 40)',\n",
       "  'def map_template(func, l = []):\\n    result = []\\n    for item in l:\\n        result.append(func(item))\\n    return result',\n",
       "  'list_data = [1, 2, 3, 4, 5]\\n\\ndef x_2(x):\\n    return x*2\\nmap_template(x_2, list_data)',\n",
       "  'print(list_data)\\nmap_template(lambda x : x*2, list_data)',\n",
       "  '# map()함수 이용 \\nlist(map(lambda x:x*2, list_data))',\n",
       "  '# 리스트 컴프리헨션\\n[x*2 for x in list_data]',\n",
       "  'list_data = [1, 2, 3, 4, 5]\\n\\ndef filter_template(func, l = []):',\n",
       "  'list_data = [1, 2, 3, 4, 5]\\n\\ndef filter_template(func, l = []):\\n    result = []\\n    for item in l:\\n        if func(item):\\n            result.append(item)\\n        return result',\n",
       "  'def evenyesorno(x):\\n    if x%2 == 0:\\n        return True\\nfilter_template(evenyesorno, list_data)',\n",
       "  'list_data = [1, 2, 3, 4, 5]\\n\\ndef filter_template(func, l = []):\\n    result = []\\n    for item in l:\\n        if func(item):\\n            result.append(item)\\n        return result',\n",
       "  'def evenyesorno(x):\\n    if x%2 == 0:\\n        return True\\nfilter_template(evenyesorno, list_data)',\n",
       "  'def evenyesorno(x):\\n    if x%2 == 0:\\n        return True\\nfilter_template(evenyesorno, list_data)',\n",
       "  'def evenyesorno(x):\\n    if x%2 == 0:\\n        return True\\nfilter_template(evenyesorno, list_data)',\n",
       "  'def evenyesorno(x):\\n    if x%2==0:\\n        return True\\nfilter_template(evenyesorno, list_data)',\n",
       "  'list_data = [1,2,3,4,5]\\ndef filter_template(func, L=[]):\\n    result = []\\n    for item in L:\\n        if func(item):\\n            result.append(item)\\n    return result',\n",
       "  'def evenyesorno(x):\\n    if x%2==0:\\n        return True\\nfilter_template(evenyesorno, list_data)',\n",
       "  'filter_template(lambda x : x%2 == 0, list_data)',\n",
       "  '# filter()함수 이용\\nlist(filter(lambda x : x%2 == 0, list_data))',\n",
       "  '# 리스트 컴프리헨션\\n[x for x in list_data if x%2==0]',\n",
       "  \"pairs = [(1, 'one'), (3, 'three'), (4, 'four'), (2, 'two')]\\npairs.sort()\\npairs\",\n",
       "  'pairs.sort(key=lambda pair : pair[1])\\npairs',\n",
       "  'def apply(data, func=None):\\n    if func == None:\\n        return data\\n    else:\\n        return func(data)\\napply(100, lambda x : x**3)',\n",
       "  \"# 함수를 return하는 함수 \\n'''\\nmake_box((5,)) => 1차원 5열 list를 만드는 함수 fun => fun(10) => [10,10,10,10,10]\\nmake_box((2,3)) => 2차원 2행 3열 list를 만드는 함수 fun => fun(10) =>\\n                                                [[10,10,10],[10,10,10]]\\n'''\\ndef make_box(shape):\\n    def box(init_value):\\n        if len(shape)==1:\\n            return [init_value] * shape[0]\\n        elif len(shape)==2:\\n            return [ [init_value] * shape[1] ] * shape[0]\\n    return box\",\n",
       "  'box1 = make_box([5,])',\n",
       "  'box1 = make_box([5,])\\ntype(box1)',\n",
       "  'box1(10)',\n",
       "  'box2 = make_box([2,3])\\nbox2(10)',\n",
       "  'def make_box1(shape):\\n    if len(shape) == 1:\\n        return lambda x : [x] * shape[0]\\n    elif len(shape) == 2:\\n        return lambda x : [ [x] * shape[1] ] * shape[0]',\n",
       "  'box1 = make_box1((3,2))',\n",
       "  'box1 = make_box1((3,2))\\nbox1(5)',\n",
       "  'box2 = make_box((7,))\\nbox2(10)',\n",
       "  \"int('1')\",\n",
       "  \"int('1.2')\",\n",
       "  'int(float(\"1.2\"))',\n",
       "  'var = 10 \\nglobals() # 현재까지 사용한 전역변수들 딕셔너리'],\n",
       " 'Out': {1: 1856464707648,\n",
       "  4: function,\n",
       "  17: 'http://localhost:80',\n",
       "  18: 'http://localhost:80',\n",
       "  31: [10],\n",
       "  32: [30],\n",
       "  33: [10, 2, 2, 2, 70],\n",
       "  34: [10, 2, 2, 2, 70],\n",
       "  35: [10, 2, 2, 2, 70],\n",
       "  36: [10, 2, 2, 2, 70],\n",
       "  37: [30],\n",
       "  40: [30],\n",
       "  48: [[]],\n",
       "  50: [10, 2, 2, 2, 70],\n",
       "  58: 'Seoul-London-Manila',\n",
       "  59: 'Bucheon-London-Manila',\n",
       "  63: 'hello/world',\n",
       "  65: 'earth/mars/venus',\n",
       "  66: 'marsearthvenus',\n",
       "  68: 'earth/mars/venus',\n",
       "  69: 'Python ~ R ~ hadoop',\n",
       "  82: 10,\n",
       "  83: 10,\n",
       "  87: 10,\n",
       "  88: 10,\n",
       "  92: [5, 7, 9],\n",
       "  95: 11,\n",
       "  96: function,\n",
       "  99: 30,\n",
       "  100: 70,\n",
       "  102: [2, 4, 6, 8, 10],\n",
       "  103: [2, 4, 6, 8, 10],\n",
       "  104: [2, 4, 6, 8, 10],\n",
       "  105: [2, 4, 6, 8, 10],\n",
       "  108: [],\n",
       "  110: [],\n",
       "  111: [],\n",
       "  112: [],\n",
       "  113: [],\n",
       "  115: [2, 4],\n",
       "  116: [2, 4],\n",
       "  117: [2, 4],\n",
       "  118: [2, 4],\n",
       "  119: [(4, 'four'), (1, 'one'), (3, 'three'), (2, 'two')],\n",
       "  120: [(4, 'four'), (1, 'one'), (3, 'three'), (2, 'two')],\n",
       "  121: 1000000,\n",
       "  124: function,\n",
       "  125: [10, 10, 10, 10, 10],\n",
       "  126: [[10, 10, 10], [10, 10, 10]],\n",
       "  129: [[5, 5], [5, 5], [5, 5]],\n",
       "  130: [10, 10, 10, 10, 10, 10, 10],\n",
       "  131: 1,\n",
       "  133: 1},\n",
       " 'get_ipython': <function IPython.core.getipython.get_ipython()>,\n",
       " 'exit': <IPython.core.autocall.ZMQExitAutocall at 0x1b03c9894f0>,\n",
       " 'quit': <IPython.core.autocall.ZMQExitAutocall at 0x1b03c9894f0>,\n",
       " '_': 1,\n",
       " '__': 1,\n",
       " '___': [10, 10, 10, 10, 10, 10, 10],\n",
       " 'json': <module 'json' from 'C:\\\\Users\\\\mupie\\\\anaconda3\\\\lib\\\\json\\\\__init__.py'>,\n",
       " 'yapf_reformat': <function __main__.yapf_reformat(cell_text)>,\n",
       " 'autopep8': <module 'autopep8' from 'C:\\\\Users\\\\mupie\\\\anaconda3\\\\lib\\\\site-packages\\\\autopep8.py'>,\n",
       " 'getsizeof': <function sys.getsizeof>,\n",
       " 'NamespaceMagics': IPython.core.magics.namespace.NamespaceMagics,\n",
       " '_nms': <IPython.core.magics.namespace.NamespaceMagics at 0x1b03deac6d0>,\n",
       " '_Jupyter': <ipykernel.zmqshell.ZMQInteractiveShell at 0x1b03c919a00>,\n",
       " 'np': <module 'numpy' from 'C:\\\\Users\\\\mupie\\\\anaconda3\\\\lib\\\\site-packages\\\\numpy\\\\__init__.py'>,\n",
       " '_getsizeof': <function __main__._getsizeof(x)>,\n",
       " '_getshapeof': <function __main__._getshapeof(x)>,\n",
       " 'var_dic_list': <function __main__.var_dic_list()>,\n",
       " '_i': 'int(float(\"1.2\"))',\n",
       " '_ii': \"int('1.2')\",\n",
       " '_iii': \"int('1')\",\n",
       " '_i1': 'list_ = [1, 2, 3, 4, 5]\\nid(list_)',\n",
       " 'list_': [10, 2, 2, 2, 70],\n",
       " '_1': 1856464707648,\n",
       " '_i2': \"def func2(foo): # 지역변수 \\n    print('before: ', foo, '의 주소: ', id(foo))\\n    foo.append(6)\\n    print('after: ', foo, '의 주소: ', id(foo))\\nfunc2(list_)\\nprint('함수 호출 후 list_: ', list_, '의 주소', id(list_))\",\n",
       " 'func2': <function __main__.func2(a, L=[1, 2])>,\n",
       " '_i3': 'def fibonacci(n):\\n    \"매개변수로 들어온 n값 미만까지 피보나치 수열을 출력합니다.\"\\n    a, b = 0, 1\\n    \\n    while a < n:\\n        print(a, end = \\'  \\')\\n        a, b = b, a+b\\n    print()',\n",
       " 'fibonacci': <function __main__.fibonacci(n)>,\n",
       " '_i4': 'type(fibonacci)',\n",
       " '_4': function,\n",
       " '_i5': 'fibo = fibonacci ',\n",
       " 'fibo': <function __main__.fibonacci(n)>,\n",
       " '_i6': 'fibo(100)',\n",
       " '_i7': 'def fibonacci_print(n):\\n    \"매개변수로 들어온 n값 미만까지 피보나치 수열을 출력합니다.\"\\n    a, b = 0, 1\\n    \\n    while a < n:\\n        print(a, end = \\'  \\')\\n        a, b = b, a+b\\n    print()\\n\\ndef fibonacci(n):\\n    \"n값 미만의 피보나치 수열을 return합니다.\"\\n    return = []\\n    a, b = 0, 1 \\n    \\n    while a < n:\\n        result.append(a)\\n        a, b = b, a+b \\n    return result',\n",
       " '_i8': 'def fibonacci_print(n):\\n    \"매개변수로 들어온 n값 미만까지 피보나치 수열을 출력합니다.\"\\n    a, b = 0, 1\\n    \\n    while a < n:\\n        print(a, end = \\'  \\')\\n        a, b = b, a+b\\n    print()\\n\\ndef fibonacci(n):\\n    \"n값 미만의 피보나치 수열을 return합니다.\"\\n    result = []\\n    a, b = 0, 1 \\n    \\n    while a < n:\\n        result.append(a)\\n        a, b = b, a+b \\n    return result',\n",
       " 'fibonacci_print': <function __main__.fibonacci_print(n)>,\n",
       " '_i9': 'x = fibonacci_print(100)',\n",
       " 'x': 10,\n",
       " '_i10': 'print(x, type(x))',\n",
       " '_i11': 'list_ = fibonacci(100)',\n",
       " '_i12': 'print(list_, type(list_))',\n",
       " '_i13': 'def swap(a, b):\\n    return b, a',\n",
       " 'swap': <function __main__.swap(a, b)>,\n",
       " '_i14': \"x, y = 5, 10\\nprint('함수 실행 전: ' x, y)\\nx, y = swap(x, y)\\nprint('함수 실행 후: ' x, y)\",\n",
       " '_i15': \"x, y = 5, 10\\nprint('함수 실행 전: ', x, y)\\nx, y = swap(x, y)\\nprint('함수 실행 후: ', x, y)\",\n",
       " 'y': 5,\n",
       " '_i16': 'a = swap(x, y)\\n\\nprint(type(a))\\nprint(a)',\n",
       " 'a': (5, 10),\n",
       " '_i17': \"def make_url(ip, port=80):\\n    return 'http://{}:{}'.format(ip, port)\\nmake_url('localhost', 80)\",\n",
       " 'make_url': <function __main__.make_url(ip, port=80)>,\n",
       " '_17': 'http://localhost:80',\n",
       " '_i18': \"make_url('localhost')\",\n",
       " '_18': 'http://localhost:80',\n",
       " '_i19': 'i = 5 \\n\\ndef func1(arg=i):',\n",
       " '_i20': \"i = 5 \\n\\ndef func1(arg=i):\\n    print('arg = ', arg)\",\n",
       " 'i': 6,\n",
       " 'func1': <function __main__.func1(**data)>,\n",
       " '_i21': 'i = 6 \\nfunc1()',\n",
       " '_i22': 'print(func1())',\n",
       " '_i23': 'list_ = []\\n\\ndef func2(a, l=list_):\\n    l.append(a)\\n    return l\\nprint(func2(l))\\nprint(list_)',\n",
       " '_i24': 'list_ = []\\n\\ndef func2(a, L=list_):\\n    L.append(a)\\n    return L\\nprint(func2(l))\\nprint(list_)',\n",
       " '_i25': 'list_ = []\\n\\ndef func2(a, L=list_):\\n    L.append(a)\\n    return L\\nprint(func2(L))\\nprint(list_)',\n",
       " '_i26': 'list_ = []\\n\\ndef func2(a, L=list_):\\n    L.append(a)\\n    return L\\nprint(func2(1))\\nprint(list_)',\n",
       " '_i27': 'print(func2(2))\\nprint(list_)',\n",
       " '_i28': 'def func(a, L=[]):\\n    L.append(a)\\n    return L\\nprint(func(1))',\n",
       " 'func': <function __main__.func(a, b, c, *d, e=10, **f)>,\n",
       " '_i29': 'print(func(2))',\n",
       " '_i30': 'def func3(a, L=None):\\n    if L is None:\\n        L = []\\n    L.append(a)\\n    return L\\nfunc3()',\n",
       " 'func3': <function __main__.func3(a, L=None)>,\n",
       " '_i31': 'def func3(a, L=None):\\n    if L is None:\\n        L = []\\n    L.append(a)\\n    return L\\nfunc3(10)',\n",
       " '_31': [10],\n",
       " '_i32': 'func3(30)',\n",
       " '_32': [30],\n",
       " '_i33': 'list_ = []\\nfunc3(10, list_)',\n",
       " '_33': [10, 2, 2, 2, 70],\n",
       " '_i34': 'func3(2, list_)',\n",
       " '_34': [10, 2, 2, 2, 70],\n",
       " '_i35': 'func3(a=2, L=list_)',\n",
       " '_35': [10, 2, 2, 2, 70],\n",
       " '_i36': 'func3(L=list_, a=2)',\n",
       " '_36': [10, 2, 2, 2, 70],\n",
       " '_i37': 'func3(a=30)',\n",
       " '_37': [30],\n",
       " '_i38': 'func3()',\n",
       " '_i39': 'func3(50, a=30, L = [])',\n",
       " '_i40': '# 에러 발생 경우2 \\nfunc3( a=30, L = [])',\n",
       " '_40': [30],\n",
       " '_i41': '# 에러 발생 경우2 \\nfunc3(50, a=30, L = [])',\n",
       " '_i42': '# 에러 발생 경우3 \\nfunc3([], a=30)',\n",
       " '_i43': '# 에러 발생 경우3 \\nfunc3([a=30, [])',\n",
       " '_i44': '# 에러 발생 경우3 \\nfunc3(a=30, [])',\n",
       " '_i45': '# 에러 발생 경우3 \\nfunc3([], a= 30)',\n",
       " '_i46': '# 에러 발생 경우3 \\nfunc3([], a = 30)',\n",
       " '_i47': 'fuc3([])',\n",
       " '_i48': 'func3([])',\n",
       " '_48': [[]],\n",
       " '_i49': 'func3(L=list_, 70)',\n",
       " '_i50': 'func3(L=list_, a=70)',\n",
       " '_50': [10, 2, 2, 2, 70],\n",
       " '_i51': 'func3(L=list_, 70)',\n",
       " '_i52': '# 에러 발생 경우 4\\nfunc3(L=list_, 70)',\n",
       " '_i53': 'def add(a, b):\\n    return a + b\\nprint(add(1, 2))',\n",
       " 'add': <function __main__.add(a, b)>,\n",
       " '_i54': 'def add(a, b, c):\\n    return a + b + c\\nprint(add(1, 2, 3))',\n",
       " '_i55': 'print(add(10, 20))',\n",
       " '_i56': '# python은 함수의 중복정의 불가능\\nprint(add(10, 20))',\n",
       " '_i57': '# *args: args가 튜플 전달 \\ndef add(*args): # args = (1,)\\n    sum = 0\\n    for num in args:\\n        sum += num \\n    return sum \\n\\nprint(add(1, 2, 3, 4, 5, 6, 7, 8, 9, 10, 11))\\nprint(add(1))',\n",
       " '_i58': \"cities = ('Seoul', 'London', 'Manila')\\n'-'.join(cities)\",\n",
       " 'cities': ('Bucheon', 'London', 'Manila'),\n",
       " '_58': 'Seoul-London-Manila',\n",
       " '_i59': \"cities = ('Bucheon', 'London', 'Manila')\\n'-'.join(cities)\",\n",
       " '_59': 'Bucheon-London-Manila',\n",
       " '_i60': 'def concat(*args, sep):',\n",
       " '_i61': 'def concat(*args, sep):\\n    return sep.join(args)',\n",
       " 'concat': <function __main__.concat(*args, sep='/')>,\n",
       " '_i62': \"concat('hello', 'world', '/')\",\n",
       " '_i63': \"# 해결책 \\nconcat('hello', 'world', sep = '/')\",\n",
       " '_63': 'hello/world',\n",
       " '_i64': '# 해결책2\\ndef concat(sep, *args):\\n    return sep.join(args)',\n",
       " '_i65': \"concat('/', 'earth', 'mars', 'venus')\",\n",
       " '_65': 'earth/mars/venus',\n",
       " '_i66': \"concat('earth', 'mars', 'venus') # earth가 sep 역할을 함\",\n",
       " '_66': 'marsearthvenus',\n",
       " '_i67': \"# 해결책 3\\ndef concat(*args, sep = '/'): # 순서인수 > 튜플인수 > 키워드인수 \\n    return sep.join(args)\",\n",
       " '_i68': \"concat('earth', 'mars', 'venus')\",\n",
       " '_68': 'earth/mars/venus',\n",
       " '_i69': \"concat('Python', 'R', 'hadoop', sep = ' ~ ')\",\n",
       " '_69': 'Python ~ R ~ hadoop',\n",
       " '_i70': 'def func5(**args): # arg가 딕셔너리로 전달(**)\\n    for key, value in args.items():\\n        print(\"{}:{}\".format(key, value))\\nfunc5(name = \\'park\\', age = 30), address = \\'부천시\\')',\n",
       " '_i71': 'def func5(**args): # arg가 딕셔너리로 전달(**)\\n    for key, value in args.items():\\n        print(\"{}:{}\".format(key, value))\\nfunc5(name = \\'park\\', age = 30, address = \\'부천시\\')',\n",
       " 'func5': <function __main__.func5(**args)>,\n",
       " '_i72': \"func6(10, 1, 2, 3, 4, 5, name = 'park', age = 30)\",\n",
       " '_i73': \"func5(10, 1, 2, 3, 4, 5, name = 'park', age = 30)\",\n",
       " '_i74': 'def func5(**args): # arg가 딕셔너리로 전달(**)\\n    for key, value in args.items():\\n        print(\"{}:{}\".format(key, value))\\nfunc5(name = \\'park\\', age = 30, address = \\'부천시\\')',\n",
       " '_i75': \"# 순서인수, 튜플인수, 키워드인수, 딕셔너리인수\\ndef func6(a, *b, **c):\\n    print('a = ', a)\\n    print('b = ', b)\\n    print('c = ', c)\",\n",
       " 'func6': <function __main__.func6(a, *b, **c)>,\n",
       " '_i76': \"func5(10, 1, 2, 3, 4, 5, name = 'park', age = 30)\",\n",
       " '_i77': \"func6(10, 1, 2, 3, 4, 5, name = 'park', age = 30)\",\n",
       " '_i78': \"# 순서인수, 튜플인수, 키워드인수, 딕셔너리 인수 \\ndef func(a, b, c, *d, e=10, **f):\\n    print('a = ', a)\\n    print('b = ', b)\\n    print('c = ', c)\\n    print('d = ', d)\\n    print('e = ', e)\\n    print('f = ', f)\",\n",
       " '_i79': \"func(10, 20, 30, 1, 2, 3, 4, 2, 4, e=20, name = 'park', age = 30)\",\n",
       " '_i80': \"func(10, 20, 1, 2, 3, 4, 2, 4, e=20, name = 'park', age = 30)\",\n",
       " '_i81': \"func(10, 20, 30, 1, 2, 3, 4, 2, 4, e=20, name = 'park', age = 30)\",\n",
       " '_i82': 'def add(*args):\\n    sum = 0\\n    for num in args:\\n        sum += num\\n    return sum\\nadd(1, 2 ,3, 4)',\n",
       " '_82': 10,\n",
       " '_i83': 'numbers = (1, 2, 3, 4)\\n\\n# add(numbers)\\nadd(*numbers)',\n",
       " 'numbers': (1, 2, 3, 4),\n",
       " '_83': 10,\n",
       " '_i84': 'numbers = (1, 2, 3, 4)\\n\\n add(numbers)\\nadd(*numbers)',\n",
       " '_i85': 'numbers = (1, 2, 3, 4)\\n\\nadd(numbers)\\nadd(*numbers)',\n",
       " '_i86': 'numbers = (1, 2, 3, 4)\\n\\nadd(numbers)\\n#add(*numbers)',\n",
       " '_i87': 'numbers = (1, 2, 3, 4)\\n\\n# add(numbers) 에러\\nadd(*numbers)',\n",
       " '_87': 10,\n",
       " '_i88': 'numbers = (1, 2, 3, 4)\\n\\n# add(numbers) 에러\\nadd(*numbers) # 언패킹 ',\n",
       " '_88': 10,\n",
       " '_i89': \"def range2(*args):\\n    length = len(args)\\n    result = []\\n    \\n    if length == 0:\\n        raise Exception('매개변수가 있어야 해')\\n    elif length == 1:\\n        for i in range(args[0]):\\n    elif length == 2:\\n        for i in ragn\",\n",
       " '_i90': \"def range2(*args):\\n    length = len(args)\\n    result = []\\n    \\n    if length == 0:\\n        raise Exception('매개변수가 있어야 해')\\n    elif length == 1:\\n        for i in range(args[0]):\\n            result.append(i)\\n    elif length == 2:\\n        for i in range(args[0], args[1]):\\n            result.append(i)\\n    elif length == 3:\\n        for i in range(args[0], args[1], args[2]):\\n            result.append(i)\\n    else:\\n        print('No way!')\\n        return\\n    return result\\nprint(range2(10))\\nprint(range2(5,10))\\nprint(range2(5,10,2))\\nprint(range2(1,2,3,4))\",\n",
       " 'range2': <function __main__.range2(*args)>,\n",
       " '_i91': 't = (5, 10, 2)\\nrange2(t)',\n",
       " 't': (5, 10, 2),\n",
       " '_i92': 't = (5, 10, 2)\\nrange2(*t)',\n",
       " '_92': [5, 7, 9],\n",
       " '_i93': \"def func1(**data):\\n    for item in data.items():\\n        print(item)\\nfunc1(name = 'park', age = 30, birth = 1010)\",\n",
       " '_i94': \"customerInfo = {'name':'park', 'age':30, 'birth':'1010'}\\nfunc5(**customerInfo)\",\n",
       " 'customerInfo': {'name': 'park', 'age': 30, 'birth': '1010'},\n",
       " '_i95': 'def add(a, b):\\n    return a + b\\nadd(5, 6)',\n",
       " '_95': 11,\n",
       " '_i96': 'type(add)',\n",
       " '_96': function,\n",
       " '_i97': 'add2(10,20)',\n",
       " '_i98': 'add2 = lambda a, b : a+b',\n",
       " 'add2': <function __main__.<lambda>(a, b)>,\n",
       " '_i99': 'add2(10,20)',\n",
       " '_99': 30,\n",
       " '_i100': '(lambda a, b : a + b)(30, 40)',\n",
       " '_100': 70,\n",
       " '_i101': 'def map_template(func, l = []):\\n    result = []\\n    for item in l:\\n        result.append(func(item))\\n    return result',\n",
       " 'map_template': <function __main__.map_template(func, l=[])>,\n",
       " '_i102': 'list_data = [1, 2, 3, 4, 5]\\n\\ndef x_2(x):\\n    return x*2\\nmap_template(x_2, list_data)',\n",
       " 'list_data': [1, 2, 3, 4, 5],\n",
       " 'x_2': <function __main__.x_2(x)>,\n",
       " '_102': [2, 4, 6, 8, 10],\n",
       " '_i103': 'print(list_data)\\nmap_template(lambda x : x*2, list_data)',\n",
       " '_103': [2, 4, 6, 8, 10],\n",
       " '_i104': '# map()함수 이용 \\nlist(map(lambda x:x*2, list_data))',\n",
       " '_104': [2, 4, 6, 8, 10],\n",
       " '_i105': '# 리스트 컴프리헨션\\n[x*2 for x in list_data]',\n",
       " '_105': [2, 4, 6, 8, 10],\n",
       " '_i106': 'list_data = [1, 2, 3, 4, 5]\\n\\ndef filter_template(func, l = []):',\n",
       " '_i107': 'list_data = [1, 2, 3, 4, 5]\\n\\ndef filter_template(func, l = []):\\n    result = []\\n    for item in l:\\n        if func(item):\\n            result.append(item)\\n        return result',\n",
       " 'filter_template': <function __main__.filter_template(func, L=[])>,\n",
       " '_i108': 'def evenyesorno(x):\\n    if x%2 == 0:\\n        return True\\nfilter_template(evenyesorno, list_data)',\n",
       " 'evenyesorno': <function __main__.evenyesorno(x)>,\n",
       " '_108': [],\n",
       " '_i109': 'list_data = [1, 2, 3, 4, 5]\\n\\ndef filter_template(func, l = []):\\n    result = []\\n    for item in l:\\n        if func(item):\\n            result.append(item)\\n        return result',\n",
       " '_i110': 'def evenyesorno(x):\\n    if x%2 == 0:\\n        return True\\nfilter_template(evenyesorno, list_data)',\n",
       " '_110': [],\n",
       " '_i111': 'def evenyesorno(x):\\n    if x%2 == 0:\\n        return True\\nfilter_template(evenyesorno, list_data)',\n",
       " '_111': [],\n",
       " '_i112': 'def evenyesorno(x):\\n    if x%2 == 0:\\n        return True\\nfilter_template(evenyesorno, list_data)',\n",
       " '_112': [],\n",
       " '_i113': 'def evenyesorno(x):\\n    if x%2==0:\\n        return True\\nfilter_template(evenyesorno, list_data)',\n",
       " '_113': [],\n",
       " '_i114': 'list_data = [1,2,3,4,5]\\ndef filter_template(func, L=[]):\\n    result = []\\n    for item in L:\\n        if func(item):\\n            result.append(item)\\n    return result',\n",
       " '_i115': 'def evenyesorno(x):\\n    if x%2==0:\\n        return True\\nfilter_template(evenyesorno, list_data)',\n",
       " '_115': [2, 4],\n",
       " '_i116': 'filter_template(lambda x : x%2 == 0, list_data)',\n",
       " '_116': [2, 4],\n",
       " '_i117': '# filter()함수 이용\\nlist(filter(lambda x : x%2 == 0, list_data))',\n",
       " '_117': [2, 4],\n",
       " '_i118': '# 리스트 컴프리헨션\\n[x for x in list_data if x%2==0]',\n",
       " '_118': [2, 4],\n",
       " '_i119': \"pairs = [(1, 'one'), (3, 'three'), (4, 'four'), (2, 'two')]\\npairs.sort()\\npairs\",\n",
       " 'pairs': [(4, 'four'), (1, 'one'), (3, 'three'), (2, 'two')],\n",
       " '_119': [(4, 'four'), (1, 'one'), (3, 'three'), (2, 'two')],\n",
       " '_i120': 'pairs.sort(key=lambda pair : pair[1])\\npairs',\n",
       " '_120': [(4, 'four'), (1, 'one'), (3, 'three'), (2, 'two')],\n",
       " '_i121': 'def apply(data, func=None):\\n    if func == None:\\n        return data\\n    else:\\n        return func(data)\\napply(100, lambda x : x**3)',\n",
       " 'apply': <function __main__.apply(data, func=None)>,\n",
       " '_121': 1000000,\n",
       " '_i122': \"# 함수를 return하는 함수 \\n'''\\nmake_box((5,)) => 1차원 5열 list를 만드는 함수 fun => fun(10) => [10,10,10,10,10]\\nmake_box((2,3)) => 2차원 2행 3열 list를 만드는 함수 fun => fun(10) =>\\n                                                [[10,10,10],[10,10,10]]\\n'''\\ndef make_box(shape):\\n    def box(init_value):\\n        if len(shape)==1:\\n            return [init_value] * shape[0]\\n        elif len(shape)==2:\\n            return [ [init_value] * shape[1] ] * shape[0]\\n    return box\",\n",
       " 'make_box': <function __main__.make_box(shape)>,\n",
       " '_i123': 'box1 = make_box([5,])',\n",
       " 'box1': <function __main__.make_box1.<locals>.<lambda>(x)>,\n",
       " '_i124': 'box1 = make_box([5,])\\ntype(box1)',\n",
       " '_124': function,\n",
       " '_i125': 'box1(10)',\n",
       " '_125': [10, 10, 10, 10, 10],\n",
       " '_i126': 'box2 = make_box([2,3])\\nbox2(10)',\n",
       " 'box2': <function __main__.make_box.<locals>.box(init_value)>,\n",
       " '_126': [[10, 10, 10], [10, 10, 10]],\n",
       " '_i127': 'def make_box1(shape):\\n    if len(shape) == 1:\\n        return lambda x : [x] * shape[0]\\n    elif len(shape) == 2:\\n        return lambda x : [ [x] * shape[1] ] * shape[0]',\n",
       " 'make_box1': <function __main__.make_box1(shape)>,\n",
       " '_i128': 'box1 = make_box1((3,2))',\n",
       " '_i129': 'box1 = make_box1((3,2))\\nbox1(5)',\n",
       " '_129': [[5, 5], [5, 5], [5, 5]],\n",
       " '_i130': 'box2 = make_box((7,))\\nbox2(10)',\n",
       " '_130': [10, 10, 10, 10, 10, 10, 10],\n",
       " '_i131': \"int('1')\",\n",
       " '_131': 1,\n",
       " '_i132': \"int('1.2')\",\n",
       " '_i133': 'int(float(\"1.2\"))',\n",
       " '_133': 1,\n",
       " '_i134': 'var = 10 \\nglobals() # 현재까지 사용한 전역변수들 딕셔너리',\n",
       " 'var': 10}"
      ]
     },
     "execution_count": 134,
     "metadata": {},
     "output_type": "execute_result"
    }
   ],
   "source": [
    "var = 10 \n",
    "globals() # 현재까지 사용된 전역변수들 딕셔너리"
   ]
  },
  {
   "cell_type": "code",
   "execution_count": 135,
   "metadata": {
    "ExecuteTime": {
     "end_time": "2021-02-28T15:04:58.054838Z",
     "start_time": "2021-02-28T15:04:58.034851Z"
    }
   },
   "outputs": [
    {
     "name": "stdout",
     "output_type": "stream",
     "text": [
      "{'n': 5, 'L': [0, 1, 2, 3, 4], 'i': 4}\n"
     ]
    },
    {
     "data": {
      "text/plain": [
       "[0, 1, 2, 3, 4]"
      ]
     },
     "execution_count": 135,
     "metadata": {},
     "output_type": "execute_result"
    }
   ],
   "source": [
    "def abc(n): # 매개변수로 들어온 수 5 [0,1,2,3,4]\n",
    "    L = []\n",
    "    for i in range(n):\n",
    "        L.append(i)\n",
    "    print(locals()) # 지역변수들 출력 \n",
    "    return L\n",
    "abc(5)"
   ]
  },
  {
   "cell_type": "code",
   "execution_count": 136,
   "metadata": {
    "ExecuteTime": {
     "end_time": "2021-02-28T15:05:47.629668Z",
     "start_time": "2021-02-28T15:05:47.614676Z"
    }
   },
   "outputs": [
    {
     "data": {
      "text/plain": [
       "True"
      ]
     },
     "execution_count": 136,
     "metadata": {},
     "output_type": "execute_result"
    }
   ],
   "source": [
    "isinstance(3.5, float)"
   ]
  },
  {
   "cell_type": "code",
   "execution_count": 137,
   "metadata": {
    "ExecuteTime": {
     "end_time": "2021-02-28T15:06:33.011405Z",
     "start_time": "2021-02-28T15:06:33.000411Z"
    }
   },
   "outputs": [],
   "source": [
    "class Test:\n",
    "    def __init__(self, a, b):\n",
    "        self.a = a\n",
    "        self.b = b\n",
    "    def print_info(self):\n",
    "        print(self.a, self.b)"
   ]
  },
  {
   "cell_type": "code",
   "execution_count": 138,
   "metadata": {
    "ExecuteTime": {
     "end_time": "2021-02-28T15:06:51.785028Z",
     "start_time": "2021-02-28T15:06:51.766034Z"
    }
   },
   "outputs": [
    {
     "name": "stdout",
     "output_type": "stream",
     "text": [
      "10 8\n"
     ]
    }
   ],
   "source": [
    "t = Test(10, 8)\n",
    "t.print_info()"
   ]
  },
  {
   "cell_type": "code",
   "execution_count": 139,
   "metadata": {
    "ExecuteTime": {
     "end_time": "2021-02-28T15:07:03.011773Z",
     "start_time": "2021-02-28T15:07:03.004778Z"
    }
   },
   "outputs": [
    {
     "data": {
      "text/plain": [
       "True"
      ]
     },
     "execution_count": 139,
     "metadata": {},
     "output_type": "execute_result"
    }
   ],
   "source": [
    "isinstance(t, Test)"
   ]
  },
  {
   "cell_type": "code",
   "execution_count": 140,
   "metadata": {
    "ExecuteTime": {
     "end_time": "2021-02-28T15:07:07.988375Z",
     "start_time": "2021-02-28T15:07:07.977379Z"
    }
   },
   "outputs": [
    {
     "data": {
      "text/plain": [
       "['__class__',\n",
       " '__delattr__',\n",
       " '__dict__',\n",
       " '__dir__',\n",
       " '__doc__',\n",
       " '__eq__',\n",
       " '__format__',\n",
       " '__ge__',\n",
       " '__getattribute__',\n",
       " '__gt__',\n",
       " '__hash__',\n",
       " '__init__',\n",
       " '__init_subclass__',\n",
       " '__le__',\n",
       " '__lt__',\n",
       " '__module__',\n",
       " '__ne__',\n",
       " '__new__',\n",
       " '__reduce__',\n",
       " '__reduce_ex__',\n",
       " '__repr__',\n",
       " '__setattr__',\n",
       " '__sizeof__',\n",
       " '__str__',\n",
       " '__subclasshook__',\n",
       " '__weakref__',\n",
       " 'a',\n",
       " 'b',\n",
       " 'print_info']"
      ]
     },
     "execution_count": 140,
     "metadata": {},
     "output_type": "execute_result"
    }
   ],
   "source": [
    "dir(t)"
   ]
  },
  {
   "cell_type": "code",
   "execution_count": 141,
   "metadata": {
    "ExecuteTime": {
     "end_time": "2021-02-28T15:07:38.493678Z",
     "start_time": "2021-02-28T15:07:38.476686Z"
    }
   },
   "outputs": [
    {
     "data": {
      "text/plain": [
       "[(0, 10), (1, 20), (2, 30)]"
      ]
     },
     "execution_count": 141,
     "metadata": {},
     "output_type": "execute_result"
    }
   ],
   "source": [
    "list(enumerate([10, 20, 30]))"
   ]
  },
  {
   "cell_type": "code",
   "execution_count": 142,
   "metadata": {
    "ExecuteTime": {
     "end_time": "2021-02-28T15:07:47.667429Z",
     "start_time": "2021-02-28T15:07:47.647443Z"
    }
   },
   "outputs": [
    {
     "data": {
      "text/plain": [
       "False"
      ]
     },
     "execution_count": 142,
     "metadata": {},
     "output_type": "execute_result"
    }
   ],
   "source": [
    "all([0,1,2,3])"
   ]
  },
  {
   "cell_type": "code",
   "execution_count": 143,
   "metadata": {
    "ExecuteTime": {
     "end_time": "2021-02-28T15:08:08.584702Z",
     "start_time": "2021-02-28T15:08:08.577707Z"
    }
   },
   "outputs": [
    {
     "data": {
      "text/plain": [
       "True"
      ]
     },
     "execution_count": 143,
     "metadata": {},
     "output_type": "execute_result"
    }
   ],
   "source": [
    "any([0,1,2,3])"
   ]
  },
  {
   "cell_type": "code",
   "execution_count": 144,
   "metadata": {
    "ExecuteTime": {
     "end_time": "2021-02-28T15:08:25.324984Z",
     "start_time": "2021-02-28T15:08:25.308998Z"
    }
   },
   "outputs": [
    {
     "data": {
      "text/plain": [
       "(4, 3.6)"
      ]
     },
     "execution_count": 144,
     "metadata": {},
     "output_type": "execute_result"
    }
   ],
   "source": [
    "round(3.59), round(3.59, 1)"
   ]
  },
  {
   "cell_type": "code",
   "execution_count": 145,
   "metadata": {
    "ExecuteTime": {
     "end_time": "2021-02-28T15:09:02.759186Z",
     "start_time": "2021-02-28T15:09:02.704222Z"
    }
   },
   "outputs": [
    {
     "data": {
      "text/plain": [
       "(3.0, 4.0, 4.0)"
      ]
     },
     "execution_count": 145,
     "metadata": {},
     "output_type": "execute_result"
    }
   ],
   "source": [
    "import numpy\n",
    "numpy.floor(3.59), numpy.ceil(3.59), numpy.round(3.59)"
   ]
  },
  {
   "cell_type": "markdown",
   "metadata": {},
   "source": [
    "## <연습문제> "
   ]
  },
  {
   "cell_type": "markdown",
   "metadata": {},
   "source": [
    "### 실습형"
   ]
  },
  {
   "cell_type": "code",
   "execution_count": null,
   "metadata": {},
   "outputs": [],
   "source": []
  },
  {
   "cell_type": "code",
   "execution_count": null,
   "metadata": {},
   "outputs": [],
   "source": []
  },
  {
   "cell_type": "code",
   "execution_count": null,
   "metadata": {},
   "outputs": [],
   "source": []
  },
  {
   "cell_type": "code",
   "execution_count": null,
   "metadata": {},
   "outputs": [],
   "source": []
  }
 ],
 "metadata": {
  "kernelspec": {
   "display_name": "Python 3",
   "language": "python",
   "name": "python3"
  },
  "language_info": {
   "codemirror_mode": {
    "name": "ipython",
    "version": 3
   },
   "file_extension": ".py",
   "mimetype": "text/x-python",
   "name": "python",
   "nbconvert_exporter": "python",
   "pygments_lexer": "ipython3",
   "version": "3.8.5"
  },
  "toc": {
   "base_numbering": 1,
   "nav_menu": {},
   "number_sections": false,
   "sideBar": true,
   "skip_h1_title": false,
   "title_cell": "Table of Contents",
   "title_sidebar": "Contents",
   "toc_cell": false,
   "toc_position": {},
   "toc_section_display": true,
   "toc_window_display": false
  },
  "varInspector": {
   "cols": {
    "lenName": 16,
    "lenType": 16,
    "lenVar": 40
   },
   "kernels_config": {
    "python": {
     "delete_cmd_postfix": "",
     "delete_cmd_prefix": "del ",
     "library": "var_list.py",
     "varRefreshCmd": "print(var_dic_list())"
    },
    "r": {
     "delete_cmd_postfix": ") ",
     "delete_cmd_prefix": "rm(",
     "library": "var_list.r",
     "varRefreshCmd": "cat(var_dic_list()) "
    }
   },
   "types_to_exclude": [
    "module",
    "function",
    "builtin_function_or_method",
    "instance",
    "_Feature"
   ],
   "window_display": false
  }
 },
 "nbformat": 4,
 "nbformat_minor": 4
}
