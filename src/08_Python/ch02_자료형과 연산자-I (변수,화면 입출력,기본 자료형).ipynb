{
 "cells": [
  {
   "cell_type": "markdown",
   "metadata": {},
   "source": [
    "**<font size = \"5\" color = \"darkred\">ch02. 자료형과 연산자-I</font>**"
   ]
  },
  {
   "cell_type": "markdown",
   "metadata": {},
   "source": [
    "## 1. 변수\n",
    "### (1) 변수 선언\n",
    "- 값을 저장할 수 있는 변수를 만드는 것\n",
    "- 파이썬은 변수 선언을 위한 타입과 변수 선언 과정이 없다. "
   ]
  },
  {
   "cell_type": "markdown",
   "metadata": {},
   "source": [
    "### (2) 변수 할당\n",
    "- 어떤 값이 이름을 갖도록 하는 과정\n",
    "- 할당 연산자(=)를 이용 "
   ]
  },
  {
   "cell_type": "code",
   "execution_count": 1,
   "metadata": {
    "ExecuteTime": {
     "end_time": "2021-02-25T15:51:40.142913Z",
     "start_time": "2021-02-25T15:51:40.134919Z"
    }
   },
   "outputs": [
    {
     "name": "stdout",
     "output_type": "stream",
     "text": [
      "78.5\n"
     ]
    }
   ],
   "source": [
    "# ex .원의 넓이 구하기 \n",
    "r = 5\n",
    "area = 3.14 * 5 * 5 \n",
    "print(area)"
   ]
  },
  {
   "cell_type": "code",
   "execution_count": 1,
   "metadata": {
    "ExecuteTime": {
     "end_time": "2021-02-25T16:09:21.160031Z",
     "start_time": "2021-02-25T16:09:21.145040Z"
    }
   },
   "outputs": [
    {
     "name": "stdout",
     "output_type": "stream",
     "text": [
      "반지름이 5인 원의 넓이는  78.53981633974483\n"
     ]
    }
   ],
   "source": [
    "import numpy as np  \n",
    "r = 5 \n",
    "area = np.pi * r * r\n",
    "print('반지름이 5인 원의 넓이는 ', area)"
   ]
  },
  {
   "cell_type": "code",
   "execution_count": 5,
   "metadata": {
    "ExecuteTime": {
     "end_time": "2021-02-25T15:54:41.802799Z",
     "start_time": "2021-02-25T15:54:41.791805Z"
    }
   },
   "outputs": [
    {
     "name": "stdout",
     "output_type": "stream",
     "text": [
      "140733449513024\n",
      "<class 'int'>\n"
     ]
    }
   ],
   "source": [
    "# ex. a 변수의 주소와 타입 출력하기 \n",
    "a = 10 \n",
    "print(id(a)) # 주소\n",
    "print(type(a)) # 타입"
   ]
  },
  {
   "cell_type": "code",
   "execution_count": 6,
   "metadata": {
    "ExecuteTime": {
     "end_time": "2021-02-25T15:55:14.343652Z",
     "start_time": "2021-02-25T15:55:14.323664Z"
    }
   },
   "outputs": [
    {
     "name": "stdout",
     "output_type": "stream",
     "text": [
      "140733449512864\n",
      "<class 'int'>\n"
     ]
    }
   ],
   "source": [
    "a = 5\n",
    "print(id(a)) # 주소\n",
    "print(type(a)) # 타입"
   ]
  },
  {
   "cell_type": "code",
   "execution_count": 7,
   "metadata": {
    "ExecuteTime": {
     "end_time": "2021-02-25T15:55:59.706985Z",
     "start_time": "2021-02-25T15:55:59.691995Z"
    }
   },
   "outputs": [
    {
     "name": "stdout",
     "output_type": "stream",
     "text": [
      "2895735010160\n",
      "<class 'str'>\n"
     ]
    }
   ],
   "source": [
    "a = 'Python'\n",
    "print(id(a)) # 주소\n",
    "print(type(a)) # 타입\n",
    "#  변수값이 바뀔 때 주소도 바뀐다. "
   ]
  },
  {
   "cell_type": "markdown",
   "metadata": {},
   "source": [
    "### (3) 변수 이름 규칙"
   ]
  },
  {
   "cell_type": "code",
   "execution_count": 8,
   "metadata": {
    "ExecuteTime": {
     "end_time": "2021-02-25T15:56:42.502578Z",
     "start_time": "2021-02-25T15:56:42.430654Z"
    }
   },
   "outputs": [],
   "source": [
    "불용어 = '북한'"
   ]
  },
  {
   "cell_type": "code",
   "execution_count": 9,
   "metadata": {
    "ExecuteTime": {
     "end_time": "2021-02-25T15:56:46.348630Z",
     "start_time": "2021-02-25T15:56:46.321646Z"
    }
   },
   "outputs": [
    {
     "data": {
      "text/plain": [
       "'북한'"
      ]
     },
     "execution_count": 9,
     "metadata": {},
     "output_type": "execute_result"
    }
   ],
   "source": [
    "불용어"
   ]
  },
  {
   "cell_type": "code",
   "execution_count": 10,
   "metadata": {
    "ExecuteTime": {
     "end_time": "2021-02-25T15:57:13.993542Z",
     "start_time": "2021-02-25T15:57:13.987547Z"
    }
   },
   "outputs": [
    {
     "name": "stdout",
     "output_type": "stream",
     "text": [
      "Hello, World2\n"
     ]
    }
   ],
   "source": [
    "# 문자형은 문자형, 숫자형은 숫자형끼리만 + 가능\n",
    "# 서로 다른 형끼리 +를 하려면 둘중 하나의 타입을 변환해야 한다. \n",
    "print('Hello' + ', World' + str(2)) "
   ]
  },
  {
   "cell_type": "code",
   "execution_count": 12,
   "metadata": {
    "ExecuteTime": {
     "end_time": "2021-02-25T16:00:59.626503Z",
     "start_time": "2021-02-25T16:00:59.617509Z"
    }
   },
   "outputs": [],
   "source": [
    "# 기존의 명령어나 함수와 같은 이름을 변수명은 설정하지 않는 것이 좋다. \n",
    "print = 5 \n",
    "    # 위의 식을 실행할 경우 print()가 실행되지 않는다. "
   ]
  },
  {
   "cell_type": "code",
   "execution_count": 13,
   "metadata": {
    "ExecuteTime": {
     "end_time": "2021-02-25T16:01:12.176725Z",
     "start_time": "2021-02-25T16:01:12.151742Z"
    }
   },
   "outputs": [
    {
     "ename": "TypeError",
     "evalue": "'int' object is not callable",
     "output_type": "error",
     "traceback": [
      "\u001b[1;31m---------------------------------------------------------------------------\u001b[0m",
      "\u001b[1;31mTypeError\u001b[0m                                 Traceback (most recent call last)",
      "\u001b[1;32m<ipython-input-13-21e7c95aa057>\u001b[0m in \u001b[0;36m<module>\u001b[1;34m\u001b[0m\n\u001b[1;32m----> 1\u001b[1;33m \u001b[0mprint\u001b[0m\u001b[1;33m(\u001b[0m\u001b[1;34m'Hello'\u001b[0m\u001b[1;33m)\u001b[0m\u001b[1;33m\u001b[0m\u001b[1;33m\u001b[0m\u001b[0m\n\u001b[0m",
      "\u001b[1;31mTypeError\u001b[0m: 'int' object is not callable"
     ]
    }
   ],
   "source": [
    "print('Hello') # 위의 식을 실행한 후의 결과 "
   ]
  },
  {
   "cell_type": "code",
   "execution_count": 1,
   "metadata": {
    "ExecuteTime": {
     "end_time": "2021-02-25T16:01:39.637439Z",
     "start_time": "2021-02-25T16:01:39.622449Z"
    }
   },
   "outputs": [],
   "source": [
    "# 변수에 언더바(_) 사용 가능 \n",
    "print_ = 5\n",
    "_print = 5"
   ]
  },
  {
   "cell_type": "code",
   "execution_count": 4,
   "metadata": {
    "ExecuteTime": {
     "end_time": "2021-02-25T16:02:20.154402Z",
     "start_time": "2021-02-25T16:02:20.124422Z"
    }
   },
   "outputs": [
    {
     "data": {
      "text/plain": [
       "complex"
      ]
     },
     "execution_count": 4,
     "metadata": {},
     "output_type": "execute_result"
    }
   ],
   "source": [
    "# 복소수 \n",
    "i = 5j + 4 \n",
    "type(i)"
   ]
  },
  {
   "cell_type": "code",
   "execution_count": 5,
   "metadata": {
    "ExecuteTime": {
     "end_time": "2021-02-25T16:03:08.990708Z",
     "start_time": "2021-02-25T16:03:08.972720Z"
    }
   },
   "outputs": [
    {
     "data": {
      "text/plain": [
       "True"
      ]
     },
     "execution_count": 5,
     "metadata": {},
     "output_type": "execute_result"
    }
   ],
   "source": [
    "# 특정 변수가 특정 타입인지 묻는 함수: isinstance\n",
    "isinstance(i, complex)"
   ]
  },
  {
   "cell_type": "code",
   "execution_count": 9,
   "metadata": {
    "ExecuteTime": {
     "end_time": "2021-02-25T16:04:29.988794Z",
     "start_time": "2021-02-25T16:04:29.975802Z"
    }
   },
   "outputs": [
    {
     "name": "stdout",
     "output_type": "stream",
     "text": [
      "a =  10 / b =  20\n"
     ]
    }
   ],
   "source": [
    "# 한꺼번에 두 개의 변수 설정 가능 \n",
    "a, b = 10, 20\n",
    "print('a = ',a, '/ b = ', b)"
   ]
  },
  {
   "cell_type": "code",
   "execution_count": 10,
   "metadata": {
    "ExecuteTime": {
     "end_time": "2021-02-25T16:04:50.903392Z",
     "start_time": "2021-02-25T16:04:50.897395Z"
    }
   },
   "outputs": [
    {
     "name": "stdout",
     "output_type": "stream",
     "text": [
      "20\n",
      "30\n"
     ]
    }
   ],
   "source": [
    "a, b = b, a+b\n",
    "print(a)\n",
    "print(b)"
   ]
  },
  {
   "cell_type": "code",
   "execution_count": 11,
   "metadata": {
    "ExecuteTime": {
     "end_time": "2021-02-25T16:05:07.881042Z",
     "start_time": "2021-02-25T16:05:07.864056Z"
    }
   },
   "outputs": [
    {
     "data": {
      "text/plain": [
       "<function print>"
      ]
     },
     "execution_count": 11,
     "metadata": {},
     "output_type": "execute_result"
    }
   ],
   "source": [
    "print"
   ]
  },
  {
   "cell_type": "markdown",
   "metadata": {},
   "source": [
    "### (4) 도움말"
   ]
  },
  {
   "cell_type": "code",
   "execution_count": 12,
   "metadata": {
    "ExecuteTime": {
     "end_time": "2021-02-25T16:08:36.514680Z",
     "start_time": "2021-02-25T16:05:36.627042Z"
    },
    "scrolled": true
   },
   "outputs": [
    {
     "name": "stdout",
     "output_type": "stream",
     "text": [
      "\n",
      "Welcome to Python 3.8's help utility!\n",
      "\n",
      "If this is your first time using Python, you should definitely check out\n",
      "the tutorial on the Internet at https://docs.python.org/3.8/tutorial/.\n",
      "\n",
      "Enter the name of any module, keyword, or topic to get help on writing\n",
      "Python programs and using Python modules.  To quit this help utility and\n",
      "return to the interpreter, just type \"quit\".\n",
      "\n",
      "To get a list of available modules, keywords, symbols, or topics, type\n",
      "\"modules\", \"keywords\", \"symbols\", or \"topics\".  Each module also comes\n",
      "with a one-line summary of what it does; to list the modules whose name\n",
      "or summary contain a given string such as \"spam\", type \"modules spam\".\n",
      "\n",
      "\n",
      "You are now leaving help and returning to the Python interpreter.\n",
      "If you want to ask for help on a particular object directly from the\n",
      "interpreter, you can type \"help(object)\".  Executing \"help('string')\"\n",
      "has the same effect as typing a particular string at the help> prompt.\n"
     ]
    }
   ],
   "source": [
    "help()"
   ]
  },
  {
   "cell_type": "markdown",
   "metadata": {},
   "source": [
    "- shift + tab: 특정 함수의 도움말\n",
    "- tab : 자동완성 "
   ]
  },
  {
   "cell_type": "markdown",
   "metadata": {},
   "source": [
    "## 2. 화면 입출력"
   ]
  },
  {
   "cell_type": "code",
   "execution_count": 2,
   "metadata": {
    "ExecuteTime": {
     "end_time": "2021-02-25T16:09:34.692578Z",
     "start_time": "2021-02-25T16:09:28.950217Z"
    }
   },
   "outputs": [
    {
     "name": "stdout",
     "output_type": "stream",
     "text": [
      "첫번째 수: 8\n",
      "두번째 수: 12\n"
     ]
    }
   ],
   "source": [
    "# 화면에 입력하도록 하기: input()\n",
    "first = input('첫번째 수: ')\n",
    "second = input('두번째 수: ')"
   ]
  },
  {
   "cell_type": "code",
   "execution_count": 3,
   "metadata": {
    "ExecuteTime": {
     "end_time": "2021-02-25T16:09:38.115430Z",
     "start_time": "2021-02-25T16:09:38.109433Z"
    }
   },
   "outputs": [
    {
     "name": "stdout",
     "output_type": "stream",
     "text": [
      "두 수의 합은  812\n"
     ]
    }
   ],
   "source": [
    "print('두 수의 합은 ', (first + second)) # 두 수가 더해지지 않고, 이어져서 출력딤"
   ]
  },
  {
   "cell_type": "code",
   "execution_count": 4,
   "metadata": {
    "ExecuteTime": {
     "end_time": "2021-02-25T16:11:03.446670Z",
     "start_time": "2021-02-25T16:11:00.535618Z"
    }
   },
   "outputs": [
    {
     "name": "stdout",
     "output_type": "stream",
     "text": [
      "첫번째 수: 8\n",
      "두번째 수: 12\n"
     ]
    }
   ],
   "source": [
    "# 더해지도록 하려면, 입력받는 자료의 타입을 숫자형으로 변환해야 한다.\n",
    "first = int(input('첫번째 수: '))\n",
    "second = int(input('두번째 수: '))"
   ]
  },
  {
   "cell_type": "code",
   "execution_count": 5,
   "metadata": {
    "ExecuteTime": {
     "end_time": "2021-02-25T16:11:25.157492Z",
     "start_time": "2021-02-25T16:11:25.145502Z"
    }
   },
   "outputs": [
    {
     "name": "stdout",
     "output_type": "stream",
     "text": [
      "두 수의 합은  20\n"
     ]
    }
   ],
   "source": [
    "print('두 수의 합은 ', (first + second)) "
   ]
  },
  {
   "cell_type": "code",
   "execution_count": 7,
   "metadata": {
    "ExecuteTime": {
     "end_time": "2021-02-25T16:13:04.676827Z",
     "start_time": "2021-02-25T16:13:04.664832Z"
    }
   },
   "outputs": [
    {
     "name": "stdout",
     "output_type": "stream",
     "text": [
      "Hello/World\n",
      "\n",
      "Hello ~ World\n"
     ]
    }
   ],
   "source": [
    "# 문자형 자료 연결하기 \n",
    "print('Hello', 'World', sep = '/', end= '\\n\\n')\n",
    "print('Hello', 'World', sep = ' ~ ')"
   ]
  },
  {
   "cell_type": "markdown",
   "metadata": {},
   "source": [
    "## 3. 기본 자료형\n",
    "### (1) 숫자형"
   ]
  },
  {
   "cell_type": "code",
   "execution_count": 8,
   "metadata": {
    "ExecuteTime": {
     "end_time": "2021-02-25T16:13:49.708488Z",
     "start_time": "2021-02-25T16:13:49.689498Z"
    }
   },
   "outputs": [
    {
     "name": "stdout",
     "output_type": "stream",
     "text": [
      "9223372036854775807\n"
     ]
    }
   ],
   "source": [
    "import sys\n",
    "print(sys.maxsize) # 출력되는 정수의 최대값 "
   ]
  },
  {
   "cell_type": "code",
   "execution_count": 9,
   "metadata": {
    "ExecuteTime": {
     "end_time": "2021-02-25T16:14:16.818378Z",
     "start_time": "2021-02-25T16:14:16.800390Z"
    }
   },
   "outputs": [
    {
     "data": {
      "text/plain": [
       "int"
      ]
     },
     "execution_count": 9,
     "metadata": {},
     "output_type": "execute_result"
    }
   ],
   "source": [
    "i = 9223372036854775807\n",
    "type(i)"
   ]
  },
  {
   "cell_type": "code",
   "execution_count": 10,
   "metadata": {
    "ExecuteTime": {
     "end_time": "2021-02-25T16:14:46.016208Z",
     "start_time": "2021-02-25T16:14:46.004218Z"
    }
   },
   "outputs": [
    {
     "data": {
      "text/plain": [
       "float"
      ]
     },
     "execution_count": 10,
     "metadata": {},
     "output_type": "execute_result"
    }
   ],
   "source": [
    "# 실수형(float)은 소수점이 붙는 숫자 자료형이다.\n",
    "f = 3.0 \n",
    "type(f)"
   ]
  },
  {
   "cell_type": "code",
   "execution_count": 11,
   "metadata": {
    "ExecuteTime": {
     "end_time": "2021-02-25T16:15:13.186869Z",
     "start_time": "2021-02-25T16:15:13.169880Z"
    }
   },
   "outputs": [
    {
     "name": "stdout",
     "output_type": "stream",
     "text": [
      "1.5\n",
      "<class 'float'>\n"
     ]
    }
   ],
   "source": [
    "# 나눗셈의 몫은 나머지 여부에 상관없이 실수형으로 출력된다. \n",
    "f = 3 / 2  \n",
    "print(f) \n",
    "print(type(f))"
   ]
  },
  {
   "cell_type": "code",
   "execution_count": 12,
   "metadata": {
    "ExecuteTime": {
     "end_time": "2021-02-25T16:16:02.944463Z",
     "start_time": "2021-02-25T16:16:02.930467Z"
    }
   },
   "outputs": [
    {
     "name": "stdout",
     "output_type": "stream",
     "text": [
      "1.0\n",
      "<class 'float'>\n"
     ]
    }
   ],
   "source": [
    "f = 2 / 2 \n",
    "print(f)\n",
    "print(type(f))"
   ]
  },
  {
   "cell_type": "code",
   "execution_count": 15,
   "metadata": {
    "ExecuteTime": {
     "end_time": "2021-02-25T16:17:05.699535Z",
     "start_time": "2021-02-25T16:17:05.684543Z"
    }
   },
   "outputs": [
    {
     "name": "stdout",
     "output_type": "stream",
     "text": [
      "(3+2j)\n",
      "<class 'complex'>\n",
      "(3+3j)\n",
      "(-1+0j)\n"
     ]
    }
   ],
   "source": [
    "# 복소수 \n",
    "a = 3 + 2j\n",
    "b = 1j\n",
    "\n",
    "print(a)\n",
    "print(type(a))\n",
    "print(a + b)\n",
    "print(b ** 2) # b의 제곱"
   ]
  },
  {
   "cell_type": "code",
   "execution_count": 16,
   "metadata": {
    "ExecuteTime": {
     "end_time": "2021-02-25T16:18:17.300162Z",
     "start_time": "2021-02-25T16:18:17.280177Z"
    }
   },
   "outputs": [
    {
     "name": "stdout",
     "output_type": "stream",
     "text": [
      "1.13e-08\n",
      "1130000000000.0\n"
     ]
    }
   ],
   "source": [
    "# 지수 \n",
    "f = 1.13e-8\n",
    "print(f)\n",
    "\n",
    "g = 1.13e12\n",
    "print(g)"
   ]
  },
  {
   "cell_type": "markdown",
   "metadata": {},
   "source": [
    "### (2) 문자형"
   ]
  },
  {
   "cell_type": "code",
   "execution_count": 17,
   "metadata": {
    "ExecuteTime": {
     "end_time": "2021-02-25T16:20:27.874170Z",
     "start_time": "2021-02-25T16:20:27.855184Z"
    }
   },
   "outputs": [
    {
     "name": "stdout",
     "output_type": "stream",
     "text": [
      "김\"둘리\" 경기도 '부천'시\n"
     ]
    }
   ],
   "source": [
    "# 문자형 자료값은 \"\"나 ''로 감싸진다. \n",
    "# \"\"안에 ''가 들어가거나, 그 반대의 경우도 가능하다.\n",
    "name = '김\"둘리\"'\n",
    "address = \"경기도 '부천'시\"\n",
    "print(name, address)"
   ]
  },
  {
   "cell_type": "code",
   "execution_count": 18,
   "metadata": {
    "ExecuteTime": {
     "end_time": "2021-02-25T16:21:30.833626Z",
     "start_time": "2021-02-25T16:21:30.822634Z"
    }
   },
   "outputs": [
    {
     "name": "stdout",
     "output_type": "stream",
     "text": [
      "이렇게 작성하면 \n",
      "여러 줄의 문자를 입력할 수 있습니다.\n",
      "줄 바꿈도 그대로 적용됩니다.\n"
     ]
    }
   ],
   "source": [
    "# \"\"\" \"\"\" 사이에 여러 줄 입력 가능 \n",
    "text = \"\"\"이렇게 작성하면 \n",
    "여러 줄의 문자를 입력할 수 있습니다.\n",
    "줄 바꿈도 그대로 적용됩니다.\"\"\"\n",
    "\n",
    "print(text)"
   ]
  },
  {
   "cell_type": "code",
   "execution_count": 19,
   "metadata": {
    "ExecuteTime": {
     "end_time": "2021-02-25T16:22:04.105532Z",
     "start_time": "2021-02-25T16:22:04.087544Z"
    }
   },
   "outputs": [
    {
     "name": "stdout",
     "output_type": "stream",
     "text": [
      "Hello World!\n"
     ]
    }
   ],
   "source": [
    "greeting = \"\"\"Hello World!\"\"\"\n",
    "print(greeting)"
   ]
  },
  {
   "cell_type": "code",
   "execution_count": 20,
   "metadata": {
    "ExecuteTime": {
     "end_time": "2021-02-25T16:22:56.638979Z",
     "start_time": "2021-02-25T16:22:56.633982Z"
    }
   },
   "outputs": [
    {
     "name": "stdout",
     "output_type": "stream",
     "text": [
      "Hello\n",
      "World\n"
     ]
    }
   ],
   "source": [
    "# 줄바꿈: 바꿀 위치에 \\n\n",
    "print(\"Hello\\nWorld\")"
   ]
  },
  {
   "cell_type": "code",
   "execution_count": 21,
   "metadata": {
    "ExecuteTime": {
     "end_time": "2021-02-25T16:23:32.655135Z",
     "start_time": "2021-02-25T16:23:32.645144Z"
    }
   },
   "outputs": [
    {
     "name": "stdout",
     "output_type": "stream",
     "text": [
      "Hello\\nWorld\n"
     ]
    }
   ],
   "source": [
    "# \\n이라는 문자를 그대로 출력하도록 하려면 \n",
    "print(r\"Hello\\nWorld\") # r: row data"
   ]
  },
  {
   "cell_type": "code",
   "execution_count": 22,
   "metadata": {
    "ExecuteTime": {
     "end_time": "2021-02-25T16:24:18.607386Z",
     "start_time": "2021-02-25T16:24:18.599391Z"
    }
   },
   "outputs": [
    {
     "name": "stdout",
     "output_type": "stream",
     "text": [
      "Hello, World!\n"
     ]
    }
   ],
   "source": [
    "# 같은 문자형끼리는 + 로도 연결이 가능하다. \n",
    "print(\"Hello\" + \", World!\")"
   ]
  },
  {
   "cell_type": "code",
   "execution_count": 23,
   "metadata": {
    "ExecuteTime": {
     "end_time": "2021-02-25T16:24:52.036194Z",
     "start_time": "2021-02-25T16:24:52.021203Z"
    }
   },
   "outputs": [
    {
     "name": "stdout",
     "output_type": "stream",
     "text": [
      "Hello! Hello! Hello! \n"
     ]
    }
   ],
   "source": [
    "# 문자열 * 숫자: 해당 숫자만큼 해당 문자를 반복 \n",
    "print(\"Hello! \" * 3)"
   ]
  },
  {
   "cell_type": "code",
   "execution_count": 24,
   "metadata": {
    "ExecuteTime": {
     "end_time": "2021-02-25T16:25:52.123808Z",
     "start_time": "2021-02-25T16:25:52.114814Z"
    }
   },
   "outputs": [
    {
     "data": {
      "text/plain": [
       "str"
      ]
     },
     "execution_count": 24,
     "metadata": {},
     "output_type": "execute_result"
    }
   ],
   "source": [
    "# 숫자를 \"\"나 ''로 감싸면 문자형으로 인식된다.\n",
    "str = '0123456789'\n",
    "type(str)"
   ]
  },
  {
   "cell_type": "markdown",
   "metadata": {},
   "source": [
    "<pre>★ 문자열 슬라이싱 ★</pre>"
   ]
  },
  {
   "cell_type": "code",
   "execution_count": 25,
   "metadata": {
    "ExecuteTime": {
     "end_time": "2021-02-25T16:27:24.469351Z",
     "start_time": "2021-02-25T16:27:24.456355Z"
    }
   },
   "outputs": [],
   "source": [
    "str = '0123456789'"
   ]
  },
  {
   "cell_type": "code",
   "execution_count": 26,
   "metadata": {
    "ExecuteTime": {
     "end_time": "2021-02-25T16:27:58.420622Z",
     "start_time": "2021-02-25T16:27:58.413626Z"
    }
   },
   "outputs": [
    {
     "data": {
      "text/plain": [
       "'012'"
      ]
     },
     "execution_count": 26,
     "metadata": {},
     "output_type": "execute_result"
    }
   ],
   "source": [
    "# 0번째 ~ 3번째 앞(2번째)까지 \n",
    "str[0:3]"
   ]
  },
  {
   "cell_type": "code",
   "execution_count": 28,
   "metadata": {
    "ExecuteTime": {
     "end_time": "2021-02-25T16:28:59.138222Z",
     "start_time": "2021-02-25T16:28:59.120235Z"
    }
   },
   "outputs": [
    {
     "data": {
      "text/plain": [
       "'7'"
      ]
     },
     "execution_count": 28,
     "metadata": {},
     "output_type": "execute_result"
    }
   ],
   "source": [
    "# 뒤에서부터 3번째 문자 \n",
    "str[-3] # 음수 인덱스는 제일 뒤의 문자열이 -1 "
   ]
  },
  {
   "cell_type": "code",
   "execution_count": 29,
   "metadata": {
    "ExecuteTime": {
     "end_time": "2021-02-25T16:29:21.638505Z",
     "start_time": "2021-02-25T16:29:21.627513Z"
    }
   },
   "outputs": [
    {
     "data": {
      "text/plain": [
       "'56789'"
      ]
     },
     "execution_count": 29,
     "metadata": {},
     "output_type": "execute_result"
    }
   ],
   "source": [
    "# 5번째 문자부터 마지막까지 \n",
    "str[5:]"
   ]
  },
  {
   "cell_type": "code",
   "execution_count": 30,
   "metadata": {
    "ExecuteTime": {
     "end_time": "2021-02-25T16:29:59.399986Z",
     "start_time": "2021-02-25T16:29:59.385994Z"
    }
   },
   "outputs": [
    {
     "data": {
      "text/plain": [
       "'01234'"
      ]
     },
     "execution_count": 30,
     "metadata": {},
     "output_type": "execute_result"
    }
   ],
   "source": [
    "# 처음부터 5번째 앞까지\n",
    "str[:5]"
   ]
  },
  {
   "cell_type": "code",
   "execution_count": 31,
   "metadata": {
    "ExecuteTime": {
     "end_time": "2021-02-25T16:30:19.929027Z",
     "start_time": "2021-02-25T16:30:19.913037Z"
    }
   },
   "outputs": [
    {
     "data": {
      "text/plain": [
       "'0123456789'"
      ]
     },
     "execution_count": 31,
     "metadata": {},
     "output_type": "execute_result"
    }
   ],
   "source": [
    "# 처음부터 끝까지\n",
    "str[:]"
   ]
  },
  {
   "cell_type": "code",
   "execution_count": 32,
   "metadata": {
    "ExecuteTime": {
     "end_time": "2021-02-25T16:31:05.702132Z",
     "start_time": "2021-02-25T16:31:05.692140Z"
    }
   },
   "outputs": [
    {
     "data": {
      "text/plain": [
       "'56789'"
      ]
     },
     "execution_count": 32,
     "metadata": {},
     "output_type": "execute_result"
    }
   ],
   "source": [
    "# 뒤에 없는 인덱스 번호를 출력시 자동으로 끝까지 출력된다.\n",
    "str[5:100]"
   ]
  },
  {
   "cell_type": "code",
   "execution_count": 34,
   "metadata": {
    "ExecuteTime": {
     "end_time": "2021-02-25T16:32:00.610891Z",
     "start_time": "2021-02-25T16:32:00.598899Z"
    }
   },
   "outputs": [
    {
     "name": "stdout",
     "output_type": "stream",
     "text": [
      "02468\n",
      "02468\n"
     ]
    }
   ],
   "source": [
    "# 처음부터 끝까지 2씩 증가시켜서 출력 \n",
    "print(str[0:9:2])\n",
    "print(str[::2])"
   ]
  },
  {
   "cell_type": "code",
   "execution_count": 38,
   "metadata": {
    "ExecuteTime": {
     "end_time": "2021-02-25T16:34:19.187833Z",
     "start_time": "2021-02-25T16:34:19.168844Z"
    }
   },
   "outputs": [
    {
     "name": "stdout",
     "output_type": "stream",
     "text": [
      "9876543210\n",
      "9876543210\n",
      "987654321\n"
     ]
    }
   ],
   "source": [
    "# 처음부터 끝까지 거꾸로 출력 \n",
    "print(str[9::-1])\n",
    "print(str[::-1])\n",
    "\n",
    "print(str[9:0:-1]) # 끝부터 0번 전(1번)까지 출력 => 끝까지 출력되지 않는다."
   ]
  },
  {
   "cell_type": "code",
   "execution_count": null,
   "metadata": {},
   "outputs": [],
   "source": []
  },
  {
   "cell_type": "code",
   "execution_count": 40,
   "metadata": {
    "ExecuteTime": {
     "end_time": "2021-02-25T16:35:14.937814Z",
     "start_time": "2021-02-25T16:35:14.930820Z"
    }
   },
   "outputs": [
    {
     "name": "stdout",
     "output_type": "stream",
     "text": [
      "이름: 홍길동, 주소: 서울, 전화: 02-111-2222, 특징: 번쩍번쩍\n"
     ]
    }
   ],
   "source": [
    "import re\n",
    "data = \"이름: 홍길동, 주소: 서울, 전화: 02-111-2222, 특징: 번쩍번쩍\"\n",
    "print(data)"
   ]
  },
  {
   "cell_type": "code",
   "execution_count": 41,
   "metadata": {
    "ExecuteTime": {
     "end_time": "2021-02-25T16:36:37.071921Z",
     "start_time": "2021-02-25T16:36:37.057929Z"
    }
   },
   "outputs": [
    {
     "name": "stdout",
     "output_type": "stream",
     "text": [
      "data에서 추출된 전화번호 ['02-111-2222']\n"
     ]
    }
   ],
   "source": [
    "# 정규표현식으로 전화번호 추출하기 \n",
    "phone_pattern = r'[\\d]{2,3}-[\\d]{3,4}-[\\d]{4}'\n",
    "phone = re.findall(phone_pattern, data)\n",
    "\n",
    "print('data에서 추출된 전화번호', phone)"
   ]
  },
  {
   "cell_type": "markdown",
   "metadata": {},
   "source": [
    "### (3) 논리형(True / False)"
   ]
  },
  {
   "cell_type": "code",
   "execution_count": 42,
   "metadata": {
    "ExecuteTime": {
     "end_time": "2021-02-25T16:37:55.949308Z",
     "start_time": "2021-02-25T16:37:55.943312Z"
    }
   },
   "outputs": [
    {
     "name": "stdout",
     "output_type": "stream",
     "text": [
      "True\n",
      "<class 'bool'>\n",
      "True\n"
     ]
    }
   ],
   "source": [
    "a = True\n",
    "\n",
    "print(a)\n",
    "print(type(a))\n",
    "print(isinstance(a, bool))"
   ]
  },
  {
   "cell_type": "markdown",
   "metadata": {},
   "source": [
    "- False로 간주: 0, None, \"\"(빈 스트링), [], (), {}\n",
    "- True로 간주: ' '(space bar 한 개), 널 문자('\\0') "
   ]
  },
  {
   "cell_type": "code",
   "execution_count": 43,
   "metadata": {
    "ExecuteTime": {
     "end_time": "2021-02-25T16:39:34.084549Z",
     "start_time": "2021-02-25T16:39:34.076555Z"
    }
   },
   "outputs": [
    {
     "name": "stdout",
     "output_type": "stream",
     "text": [
      "False\n"
     ]
    }
   ],
   "source": [
    "if []:\n",
    "    print(True)\n",
    "else:\n",
    "    print(False)"
   ]
  },
  {
   "cell_type": "code",
   "execution_count": 44,
   "metadata": {
    "ExecuteTime": {
     "end_time": "2021-02-25T16:40:04.009187Z",
     "start_time": "2021-02-25T16:40:03.999190Z"
    }
   },
   "outputs": [
    {
     "name": "stdout",
     "output_type": "stream",
     "text": [
      "False\n"
     ]
    }
   ],
   "source": [
    "a = 10 \n",
    "b = 10 \n",
    "\n",
    "if a-b:\n",
    "    print(True)\n",
    "else:\n",
    "    print(False)"
   ]
  },
  {
   "cell_type": "code",
   "execution_count": 45,
   "metadata": {
    "ExecuteTime": {
     "end_time": "2021-02-25T16:40:30.760529Z",
     "start_time": "2021-02-25T16:40:30.741541Z"
    }
   },
   "outputs": [
    {
     "name": "stdout",
     "output_type": "stream",
     "text": [
      "False\n"
     ]
    }
   ],
   "source": [
    "if 0+0j:\n",
    "    print(True)\n",
    "else:\n",
    "    print(False)"
   ]
  }
 ],
 "metadata": {
  "kernelspec": {
   "display_name": "Python 3",
   "language": "python",
   "name": "python3"
  },
  "language_info": {
   "codemirror_mode": {
    "name": "ipython",
    "version": 3
   },
   "file_extension": ".py",
   "mimetype": "text/x-python",
   "name": "python",
   "nbconvert_exporter": "python",
   "pygments_lexer": "ipython3",
   "version": "3.8.5"
  },
  "toc": {
   "base_numbering": 1,
   "nav_menu": {},
   "number_sections": false,
   "sideBar": true,
   "skip_h1_title": false,
   "title_cell": "Table of Contents",
   "title_sidebar": "Contents",
   "toc_cell": false,
   "toc_position": {
    "height": "calc(100% - 180px)",
    "left": "10px",
    "top": "150px",
    "width": "192.188px"
   },
   "toc_section_display": true,
   "toc_window_display": true
  },
  "varInspector": {
   "cols": {
    "lenName": 16,
    "lenType": 16,
    "lenVar": 40
   },
   "kernels_config": {
    "python": {
     "delete_cmd_postfix": "",
     "delete_cmd_prefix": "del ",
     "library": "var_list.py",
     "varRefreshCmd": "print(var_dic_list())"
    },
    "r": {
     "delete_cmd_postfix": ") ",
     "delete_cmd_prefix": "rm(",
     "library": "var_list.r",
     "varRefreshCmd": "cat(var_dic_list()) "
    }
   },
   "types_to_exclude": [
    "module",
    "function",
    "builtin_function_or_method",
    "instance",
    "_Feature"
   ],
   "window_display": false
  }
 },
 "nbformat": 4,
 "nbformat_minor": 4
}
