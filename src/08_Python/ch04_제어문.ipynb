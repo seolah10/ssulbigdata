{
 "cells": [
  {
   "cell_type": "markdown",
   "metadata": {},
   "source": [
    "**<font size=\"5\" color=\"darkred\">ch04. 제어문</font>**"
   ]
  },
  {
   "cell_type": "markdown",
   "metadata": {},
   "source": [
    "## 1. 조건문"
   ]
  },
  {
   "cell_type": "code",
   "execution_count": 1,
   "metadata": {
    "ExecuteTime": {
     "end_time": "2021-02-28T09:32:02.740161Z",
     "start_time": "2021-02-28T09:31:58.985055Z"
    }
   },
   "outputs": [
    {
     "name": "stdout",
     "output_type": "stream",
     "text": [
      "Enter your score: 91\n",
      "Good Job!\n"
     ]
    }
   ],
   "source": [
    "score = int(input('Enter your score: '))\n",
    "\n",
    "if score >= 90:\n",
    "    print('Good Job!')\n",
    "else:\n",
    "    print('Cheer Up!')"
   ]
  },
  {
   "cell_type": "code",
   "execution_count": 3,
   "metadata": {
    "ExecuteTime": {
     "end_time": "2021-02-28T09:34:21.018236Z",
     "start_time": "2021-02-28T09:34:17.330466Z"
    }
   },
   "outputs": [
    {
     "name": "stdout",
     "output_type": "stream",
     "text": [
      "Enter your score: -91\n",
      "입력한 점수: -91, 등급: 유효하지 않은 점수입니다.\n"
     ]
    }
   ],
   "source": [
    "score = int(input('Enter your score: '))\n",
    "\n",
    "if 90 <= score <= 100:\n",
    "    grade = 'A'\n",
    "elif 80 <= score < 90:\n",
    "    grade = 'B'\n",
    "elif 70 <= score < 80:\n",
    "    grade = 'C'\n",
    "elif 60 <= score < 70:\n",
    "    grade = 'D'\n",
    "elif 0 <= score < 60:\n",
    "    grade = 'F'\n",
    "else: \n",
    "    grade = '유효하지 않은 점수입니다.'\n",
    "\n",
    "print('입력한 점수: {}, 등급: {}'.format(score, grade))"
   ]
  },
  {
   "cell_type": "markdown",
   "metadata": {},
   "source": [
    "## 2. 반복문\n",
    "\n",
    "### (1) for ~ in \n",
    "- <h5>for 변수 in 나열할자료:</h5>\n",
    "    <pre>반복할 문장1</pre>\n",
    "    <pre>반복할 문장2</pre> \n",
    "    <pre>...</pre>\n",
    "  <h5>else: (option) </h5>\n",
    "    <pre>변수에 값이 할당되지 않은 경우 한번 실행할 문장</pre>\n"
   ]
  },
  {
   "cell_type": "code",
   "execution_count": 4,
   "metadata": {
    "ExecuteTime": {
     "end_time": "2021-02-28T09:40:07.324081Z",
     "start_time": "2021-02-28T09:40:07.307092Z"
    }
   },
   "outputs": [
    {
     "name": "stdout",
     "output_type": "stream",
     "text": [
      "1\t3\t5\t7\t9\tDONE\n"
     ]
    }
   ],
   "source": [
    "for i in range(1, 10, 2):\n",
    "    print(i, end = '\\t')\n",
    "else:\n",
    "    print('DONE')"
   ]
  },
  {
   "cell_type": "markdown",
   "metadata": {},
   "source": [
    "### (2) while \n",
    "- <h5>while 조건:</h5>\n",
    "    <pre>반복할 문장1</pre>\n",
    "    <pre>반복할 문장2</pre> \n",
    "    <pre>...</pre>\n",
    "  <h5>else: (option) </h5> <br>\n",
    "- 무한 반복문에 빠지지 않도록 조건식이 바뀔 수 있는 변수값을 수정하는 코드 필요\n"
   ]
  },
  {
   "cell_type": "code",
   "execution_count": 5,
   "metadata": {
    "ExecuteTime": {
     "end_time": "2021-02-28T09:42:10.565874Z",
     "start_time": "2021-02-28T09:42:10.557879Z"
    }
   },
   "outputs": [
    {
     "name": "stdout",
     "output_type": "stream",
     "text": [
      "0\t1\t2\t3\t4\t5\t6\t7\t8\t9\ti값이 10이므로 빠져나감\n"
     ]
    }
   ],
   "source": [
    "i = 0\n",
    "\n",
    "while i < 10:\n",
    "    print(i, end = '\\t')\n",
    "    i += 1\n",
    "else:\n",
    "    print('i값이 {}이므로 빠져나감'.format(i))"
   ]
  },
  {
   "cell_type": "code",
   "execution_count": 7,
   "metadata": {
    "ExecuteTime": {
     "end_time": "2021-02-28T09:51:17.731018Z",
     "start_time": "2021-02-28T09:51:17.716025Z"
    }
   },
   "outputs": [
    {
     "name": "stdout",
     "output_type": "stream",
     "text": [
      "1부터 100까지의 짝수의 합은  2550\n"
     ]
    }
   ],
   "source": [
    "# 1~ 100 의 숫자 중 짝수들의 합 \n",
    "sum = 0 \n",
    "i = 1 \n",
    "\n",
    "while i <= 100 :\n",
    "    if i%2 == 0:\n",
    "        sum += i \n",
    "    i += 1\n",
    "else:\n",
    "    print(\"1부터 100까지의 짝수의 합은 \", sum)"
   ]
  },
  {
   "cell_type": "markdown",
   "metadata": {},
   "source": [
    "## (3) break / continue"
   ]
  },
  {
   "cell_type": "code",
   "execution_count": 9,
   "metadata": {
    "ExecuteTime": {
     "end_time": "2021-02-28T09:52:51.702943Z",
     "start_time": "2021-02-28T09:52:51.680958Z"
    }
   },
   "outputs": [
    {
     "name": "stdout",
     "output_type": "stream",
     "text": [
      "1  2  3  4  "
     ]
    }
   ],
   "source": [
    "num = 0\n",
    "\n",
    "while num <= 10:\n",
    "    num += 1\n",
    "    if num == 5:\n",
    "        break; # 현재 반복문 빠져나감 \n",
    "    print(num, end = '  ')"
   ]
  },
  {
   "cell_type": "code",
   "execution_count": 10,
   "metadata": {
    "ExecuteTime": {
     "end_time": "2021-02-28T09:53:53.098939Z",
     "start_time": "2021-02-28T09:53:53.091944Z"
    }
   },
   "outputs": [
    {
     "name": "stdout",
     "output_type": "stream",
     "text": [
      "1  2  3  4  6  7  8  9  10  11  "
     ]
    }
   ],
   "source": [
    "num = 0\n",
    "\n",
    "while num <= 10:\n",
    "    num += 1\n",
    "    if num == 5:\n",
    "        continue; # 반복문 조건으로 감\n",
    "    print(num, end = '  ')"
   ]
  },
  {
   "cell_type": "code",
   "execution_count": 3,
   "metadata": {
    "ExecuteTime": {
     "end_time": "2021-02-28T11:41:37.037984Z",
     "start_time": "2021-02-28T11:41:37.013999Z"
    }
   },
   "outputs": [
    {
     "data": {
      "text/plain": [
       "20"
      ]
     },
     "execution_count": 3,
     "metadata": {},
     "output_type": "execute_result"
    }
   ],
   "source": [
    "# ex. 숫자찾기 게임 \n",
    "'''\n",
    "1~ 100 사이의 숫자를 맞추는 프로그램을 제작하시오\n",
    "(프로그램 안에서 임의의 숫자가 만들어지고, 숫자를 맞추도록 한다\n",
    "방법1. 숫자가 틑리면 UP, DOWN을 알려주고 숫자를 맞추면 종료한다.\n",
    "방법2. 숫자가 틀리면 min~max 사이의 수라고 알려주고 숫자를 맞추면 종료한다)\n",
    "'''\n",
    "import random\n",
    "random.randint(1, 100)"
   ]
  },
  {
   "cell_type": "code",
   "execution_count": 4,
   "metadata": {
    "ExecuteTime": {
     "end_time": "2021-02-28T11:42:39.573371Z",
     "start_time": "2021-02-28T11:41:37.298991Z"
    }
   },
   "outputs": [
    {
     "name": "stdout",
     "output_type": "stream",
     "text": [
      "1 ~ 100 사이의 수에요!\n",
      "61\n",
      "Down\n",
      "1 ~ 60 사이의 수에요!\n",
      "50\n",
      "Down\n",
      "1 ~ 49 사이의 수에요!\n",
      "30\n",
      "UP\n",
      "31 ~ 49 사이의 수에요!\n",
      "40\n",
      "Down\n",
      "31 ~ 39 사이의 수에요!\n",
      "35\n",
      "UP\n",
      "36 ~ 39 사이의 수에요!\n",
      "38\n",
      "정답입니다! \n"
     ]
    }
   ],
   "source": [
    "min = 1\n",
    "max = 100 \n",
    "randomNum = random.randint(min, max)\n",
    "inputNum = 0\n",
    "\n",
    "while randomNum != inputNum:\n",
    "    print(min, '~', max, '사이의 수에요!')\n",
    "    inputNum = int(input())\n",
    "    \n",
    "    if randomNum < inputNum:\n",
    "        max = inputNum - 1\n",
    "        print('Down')\n",
    "    elif randomNum > inputNum:\n",
    "        min = inputNum + 1 \n",
    "        print('UP')\n",
    "    else: \n",
    "        print('정답입니다! ')"
   ]
  },
  {
   "cell_type": "code",
   "execution_count": 6,
   "metadata": {
    "ExecuteTime": {
     "end_time": "2021-02-28T11:44:18.711896Z",
     "start_time": "2021-02-28T11:44:12.626022Z"
    }
   },
   "outputs": [
    {
     "name": "stdout",
     "output_type": "stream",
     "text": [
      "1 ~ 100 사이의 수에요!\n",
      "50\n",
      "Down\n",
      "1 ~ 49 사이의 수에요!\n",
      "30\n",
      "UP\n",
      "31 ~ 49 사이의 수에요!\n",
      "40\n",
      "정답입니다! \n"
     ]
    }
   ],
   "source": [
    "min = 1\n",
    "max = 100 \n",
    "randomNum = random.randint(min, max)\n",
    "inputNum = 0\n",
    "\n",
    "while True:\n",
    "    print(min, '~', max, '사이의 수에요!')\n",
    "    inputNum = int(input())\n",
    "    \n",
    "    if randomNum < inputNum:\n",
    "        max = inputNum - 1\n",
    "        print('Down')\n",
    "    elif randomNum > inputNum:\n",
    "        min = inputNum + 1 \n",
    "        print('UP')\n",
    "    else: \n",
    "        print('정답입니다! ')\n",
    "        break;"
   ]
  },
  {
   "cell_type": "markdown",
   "metadata": {},
   "source": [
    "## 3. 중첩 루프(반복눈 안에 반복문)\n",
    "- 2차원 이상 데이터 구조의 모든 항목을 처리하기 위해 사용 "
   ]
  },
  {
   "cell_type": "code",
   "execution_count": 7,
   "metadata": {
    "ExecuteTime": {
     "end_time": "2021-02-28T11:45:46.608341Z",
     "start_time": "2021-02-28T11:45:46.593351Z"
    }
   },
   "outputs": [
    {
     "name": "stdout",
     "output_type": "stream",
     "text": [
      "[[1, 2, 3, 4, 5], [10, 20, 30, 40], [11, 22, 33, 44]]\n"
     ]
    }
   ],
   "source": [
    "list_2d = [[1, 2, 3, 4, 5], [10, 20, 30, 40], [11, 22, 33, 44]]\n",
    "print(list_2d)"
   ]
  },
  {
   "cell_type": "code",
   "execution_count": 8,
   "metadata": {
    "ExecuteTime": {
     "end_time": "2021-02-28T11:47:18.284803Z",
     "start_time": "2021-02-28T11:47:18.265811Z"
    }
   },
   "outputs": [
    {
     "name": "stdout",
     "output_type": "stream",
     "text": [
      "0행 0열: 1\t0행 1열: 2\t0행 2열: 3\t0행 3열: 4\t0행 4열: 5\t\n",
      "1행 0열: 10\t1행 1열: 20\t1행 2열: 30\t1행 3열: 40\t\n",
      "2행 0열: 11\t2행 1열: 22\t2행 2열: 33\t2행 3열: 44\t\n"
     ]
    }
   ],
   "source": [
    "for i in range(len(list_2d)):\n",
    "    for j in range(len(list_2d[i])):\n",
    "        print(\"{}행 {}열: {}\".format(i, j, list_2d[i][j]), end = '\\t')\n",
    "    print()"
   ]
  },
  {
   "cell_type": "code",
   "execution_count": 9,
   "metadata": {
    "ExecuteTime": {
     "end_time": "2021-02-28T11:48:37.320020Z",
     "start_time": "2021-02-28T11:48:37.308027Z"
    }
   },
   "outputs": [
    {
     "name": "stdout",
     "output_type": "stream",
     "text": [
      "0행 0열: 1\t0행 1열: 2\t0행 2열: 3\t0행 3열: 4\t0행 4열: 5\t\n",
      "1행 0열: 10\t1행 1열: 20\t1행 2열: 30\t1행 3열: 40\t\n",
      "2행 0열: 11\t2행 1열: 22\t2행 2열: 33\t2행 3열: 44\t\n"
     ]
    }
   ],
   "source": [
    "for i, row in enumerate(list_2d):\n",
    "    for j, data in enumerate(row):\n",
    "        print(\"{}행 {}열: {}\".format(i, j, data), end = '\\t')\n",
    "    print()"
   ]
  },
  {
   "cell_type": "code",
   "execution_count": null,
   "metadata": {},
   "outputs": [],
   "source": [
    "# 2~9단까지 구구단 전체 출력하시오\n",
    "'''\n",
    "2*1= 2   3*1= 3   4*1= 4   5*1= 5   ... 9*1= 9\n",
    "2*2= 4   3*2= 6   4*2= 8   5*2=10   ... 9*2=18 \n",
    "                     ...\n",
    "2*9=19   3*2=27   4*9=36   5*9=45   ... 9*9=81\n",
    "'''"
   ]
  },
  {
   "cell_type": "code",
   "execution_count": 10,
   "metadata": {
    "ExecuteTime": {
     "end_time": "2021-02-28T11:50:01.637164Z",
     "start_time": "2021-02-28T11:50:01.622174Z"
    }
   },
   "outputs": [
    {
     "name": "stdout",
     "output_type": "stream",
     "text": [
      "2*1= 2\t3*1= 3\t4*1= 4\t5*1= 5\t6*1= 6\t7*1= 7\t8*1= 8\t9*1= 9\t\n",
      "2*2= 4\t3*2= 6\t4*2= 8\t5*2=10\t6*2=12\t7*2=14\t8*2=16\t9*2=18\t\n",
      "2*3= 6\t3*3= 9\t4*3=12\t5*3=15\t6*3=18\t7*3=21\t8*3=24\t9*3=27\t\n",
      "2*4= 8\t3*4=12\t4*4=16\t5*4=20\t6*4=24\t7*4=28\t8*4=32\t9*4=36\t\n",
      "2*5=10\t3*5=15\t4*5=20\t5*5=25\t6*5=30\t7*5=35\t8*5=40\t9*5=45\t\n",
      "2*6=12\t3*6=18\t4*6=24\t5*6=30\t6*6=36\t7*6=42\t8*6=48\t9*6=54\t\n",
      "2*7=14\t3*7=21\t4*7=28\t5*7=35\t6*7=42\t7*7=49\t8*7=56\t9*7=63\t\n",
      "2*8=16\t3*8=24\t4*8=32\t5*8=40\t6*8=48\t7*8=56\t8*8=64\t9*8=72\t\n",
      "2*9=18\t3*9=27\t4*9=36\t5*9=45\t6*9=54\t7*9=63\t8*9=72\t9*9=81\t\n"
     ]
    }
   ],
   "source": [
    "for i in range(1,10):\n",
    "    for j in range(2,10):\n",
    "        print(\"{}*{}={:>2}\".format(j, i, i*j), end = '\\t')\n",
    "    print()"
   ]
  },
  {
   "cell_type": "markdown",
   "metadata": {},
   "source": [
    "## 4. 중첩루프 탈출"
   ]
  },
  {
   "cell_type": "code",
   "execution_count": 12,
   "metadata": {
    "ExecuteTime": {
     "end_time": "2021-02-28T11:52:05.088639Z",
     "start_time": "2021-02-28T11:52:05.066650Z"
    }
   },
   "outputs": [
    {
     "name": "stdout",
     "output_type": "stream",
     "text": [
      "0 1\n",
      "0 2\n",
      "2 1\n"
     ]
    }
   ],
   "source": [
    "# 이 예제에서 break는 안쪽 반복문만 빠져나온다. \n",
    "for a in range(0,3): # a = 0, 1, 2\n",
    "    for b in range(1,3): # b = 1, 2\n",
    "        if a == b:\n",
    "            break;\n",
    "        print(a, b)"
   ]
  },
  {
   "cell_type": "code",
   "execution_count": 13,
   "metadata": {
    "ExecuteTime": {
     "end_time": "2021-02-28T11:53:46.498870Z",
     "start_time": "2021-02-28T11:53:46.481880Z"
    }
   },
   "outputs": [
    {
     "name": "stdout",
     "output_type": "stream",
     "text": [
      "0 1\n",
      "0 2\n"
     ]
    }
   ],
   "source": [
    "# break를 만나면 바깥쪽 반복문까지 탈출하기 \n",
    "# 방법 1 - 플래그 변수 이용 \n",
    "break_out_flag = False\n",
    "\n",
    "for a in range(3):\n",
    "    for b in range(1,3):a\n",
    "        if a == b:\n",
    "            break_out_flag = True\n",
    "            break;\n",
    "        print(a, b)\n",
    "    if break_out_flag:\n",
    "        break;"
   ]
  },
  {
   "cell_type": "code",
   "execution_count": 14,
   "metadata": {
    "ExecuteTime": {
     "end_time": "2021-02-28T11:58:33.724345Z",
     "start_time": "2021-02-28T11:58:33.717350Z"
    }
   },
   "outputs": [],
   "source": [
    "# 방법2 - Exception 이용 \n",
    "class BreakOutLoop(Exception):\n",
    "    pass # 아무것도 추가하지 않겠다."
   ]
  },
  {
   "cell_type": "code",
   "execution_count": 19,
   "metadata": {
    "ExecuteTime": {
     "end_time": "2021-02-28T12:01:05.506052Z",
     "start_time": "2021-02-28T12:01:05.494058Z"
    }
   },
   "outputs": [
    {
     "name": "stdout",
     "output_type": "stream",
     "text": [
      "0 1\n",
      "0 2\n"
     ]
    }
   ],
   "source": [
    "for a in range(3):\n",
    "    try:\n",
    "        for b in range(1,3):\n",
    "            if a == b:\n",
    "                raise BreakOutLoop\n",
    "            print(a, b)\n",
    "    except BreakOutLoop:\n",
    "        break;"
   ]
  },
  {
   "cell_type": "code",
   "execution_count": 23,
   "metadata": {
    "ExecuteTime": {
     "end_time": "2021-02-28T12:02:48.095728Z",
     "start_time": "2021-02-28T12:02:48.085732Z"
    }
   },
   "outputs": [
    {
     "name": "stdout",
     "output_type": "stream",
     "text": [
      "0 1\n",
      "0 2\n",
      "a와 b가 같아지면 break\n"
     ]
    }
   ],
   "source": [
    "try:\n",
    "    for a in range(3):\n",
    "        for b in range(1,3):\n",
    "            if a == b:\n",
    "                raise BreakOutLoop\n",
    "            print(a, b)\n",
    "except BreakOutLoop:\n",
    "    print('a와 b가 같아지면 break')"
   ]
  },
  {
   "cell_type": "markdown",
   "metadata": {},
   "source": [
    "## <연습문제>\n",
    "### 실습형 "
   ]
  },
  {
   "cell_type": "code",
   "execution_count": 42,
   "metadata": {
    "ExecuteTime": {
     "end_time": "2021-02-28T12:16:15.025548Z",
     "start_time": "2021-02-28T12:16:05.675657Z"
    }
   },
   "outputs": [
    {
     "name": "stdout",
     "output_type": "stream",
     "text": [
      "양의 정수를 입력하세요: -4\n",
      "양의 정수만 입력해주세요.\n",
      "양의 정수를 입력하세요: 6\n",
      "짝수\n"
     ]
    }
   ],
   "source": [
    "#1. 양의 정수를 입력받아 홀수인지 짝수인지 판단하는 프로그램 만들기\n",
    "num = -1\n",
    "\n",
    "while (num <= 0):\n",
    "    num = int(input('양의 정수를 입력하세요: '))\n",
    "    \n",
    "    if(num > 0) and (num % 2 == 0):\n",
    "        print('짝수')\n",
    "    elif(num > 0) and (num % 2 == 1):\n",
    "        print('홀수')\n",
    "    else:\n",
    "        print('양의 정수만 입력해주세요.')"
   ]
  },
  {
   "cell_type": "code",
   "execution_count": 43,
   "metadata": {
    "ExecuteTime": {
     "end_time": "2021-02-28T12:17:40.961022Z",
     "start_time": "2021-02-28T12:17:33.973776Z"
    }
   },
   "outputs": [
    {
     "name": "stdout",
     "output_type": "stream",
     "text": [
      "양의 정수를 입력하세요: -5\n",
      "양의 정수만 입력해주세요.\n",
      "양의 정수를 입력하세요: 24\n",
      "짝수\n"
     ]
    }
   ],
   "source": [
    "while(True):\n",
    "    num = int(input('양의 정수를 입력하세요: '))\n",
    "    \n",
    "    if(num >= 0):\n",
    "        if num % 2 == 0:\n",
    "            print('짝수')\n",
    "        else: \n",
    "            print('홀수')\n",
    "        break;\n",
    "    else:\n",
    "        print('양의 정수만 입력해주세요.')"
   ]
  },
  {
   "cell_type": "code",
   "execution_count": 45,
   "metadata": {
    "ExecuteTime": {
     "end_time": "2021-02-28T12:18:30.854613Z",
     "start_time": "2021-02-28T12:18:30.843621Z"
    }
   },
   "outputs": [
    {
     "name": "stdout",
     "output_type": "stream",
     "text": [
      "1~50 중 3의 배수들의 총합: 408\n"
     ]
    }
   ],
   "source": [
    "#2. 1~50의 자연수 중 3의 배수들의 총합을 출력하기 \n",
    "sum = 0\n",
    "\n",
    "for i in range(1,51):\n",
    "    if (i % 3 == 0):\n",
    "        sum += i \n",
    "else:\n",
    "    print('1~50 중 3의 배수들의 총합:', sum)"
   ]
  },
  {
   "cell_type": "code",
   "execution_count": null,
   "metadata": {},
   "outputs": [],
   "source": [
    "#3. *의 패턴을 출력하는 5가지 프로그램 작성하기 \n"
   ]
  },
  {
   "cell_type": "code",
   "execution_count": 46,
   "metadata": {
    "ExecuteTime": {
     "end_time": "2021-02-28T12:20:19.707216Z",
     "start_time": "2021-02-28T12:20:19.693225Z"
    }
   },
   "outputs": [
    {
     "name": "stdout",
     "output_type": "stream",
     "text": [
      "a\n",
      "*****\n",
      "*****\n",
      "*****\n",
      "*****\n",
      "*****\n"
     ]
    }
   ],
   "source": [
    "print('a')\n",
    "for i in range(5):\n",
    "    for j in range(5):\n",
    "        print('*', end='')\n",
    "    print()"
   ]
  },
  {
   "cell_type": "code",
   "execution_count": 47,
   "metadata": {
    "ExecuteTime": {
     "end_time": "2021-02-28T12:21:23.057102Z",
     "start_time": "2021-02-28T12:21:23.035114Z"
    }
   },
   "outputs": [
    {
     "name": "stdout",
     "output_type": "stream",
     "text": [
      "b\n",
      "*\n",
      "**\n",
      "***\n",
      "****\n",
      "*****\n"
     ]
    }
   ],
   "source": [
    "print('b')\n",
    "for i in range(5):\n",
    "    for j in range(i+1):\n",
    "        print('*', end='')\n",
    "    print()"
   ]
  },
  {
   "cell_type": "code",
   "execution_count": 48,
   "metadata": {
    "ExecuteTime": {
     "end_time": "2021-02-28T12:24:04.611387Z",
     "start_time": "2021-02-28T12:24:04.589404Z"
    }
   },
   "outputs": [
    {
     "name": "stdout",
     "output_type": "stream",
     "text": [
      "c\n",
      "*****\n",
      "****\n",
      "***\n",
      "**\n",
      "*\n"
     ]
    }
   ],
   "source": [
    "print('c')\n",
    "for i in range(5):\n",
    "    for j in range(5-i):\n",
    "        print('*', end = '')\n",
    "    print()"
   ]
  },
  {
   "cell_type": "code",
   "execution_count": 50,
   "metadata": {
    "ExecuteTime": {
     "end_time": "2021-02-28T12:26:56.620612Z",
     "start_time": "2021-02-28T12:26:56.606620Z"
    }
   },
   "outputs": [
    {
     "name": "stdout",
     "output_type": "stream",
     "text": [
      "c\n",
      "*****\n",
      "****\n",
      "***\n",
      "**\n",
      "*\n"
     ]
    }
   ],
   "source": [
    "print('c')\n",
    "for i in range(5, 0, -1):\n",
    "    for j in range(i):\n",
    "        print('*', end = '')\n",
    "    print()"
   ]
  },
  {
   "cell_type": "code",
   "execution_count": 51,
   "metadata": {
    "ExecuteTime": {
     "end_time": "2021-02-28T12:29:00.080016Z",
     "start_time": "2021-02-28T12:29:00.061029Z"
    }
   },
   "outputs": [
    {
     "name": "stdout",
     "output_type": "stream",
     "text": [
      "d\n",
      "    *\n",
      "   **\n",
      "  ***\n",
      " ****\n",
      "*****\n"
     ]
    }
   ],
   "source": [
    "print('d')\n",
    "for i in range(1,6):\n",
    "    for j in range(5-i):\n",
    "        print(' ', end = '')\n",
    "    for j in range(i):\n",
    "        print('*', end = '')\n",
    "    print()"
   ]
  },
  {
   "cell_type": "code",
   "execution_count": 57,
   "metadata": {
    "ExecuteTime": {
     "end_time": "2021-02-28T12:32:58.654404Z",
     "start_time": "2021-02-28T12:32:58.648407Z"
    }
   },
   "outputs": [
    {
     "name": "stdout",
     "output_type": "stream",
     "text": [
      "d\n",
      "    *\n",
      "   **\n",
      "  ***\n",
      " ****\n",
      "*****\n"
     ]
    }
   ],
   "source": [
    "print('d')\n",
    "for i in range(1,6):\n",
    "    start = ''\n",
    "    for j in range(5-i):\n",
    "        start += ' '\n",
    "    for j in range(i):\n",
    "        start += '*'\n",
    "    print(start)"
   ]
  },
  {
   "cell_type": "code",
   "execution_count": 59,
   "metadata": {
    "ExecuteTime": {
     "end_time": "2021-02-28T12:35:43.563357Z",
     "start_time": "2021-02-28T12:35:43.542369Z"
    }
   },
   "outputs": [
    {
     "name": "stdout",
     "output_type": "stream",
     "text": [
      "e\n",
      "*****\n",
      " ****\n",
      "  ***\n",
      "   **\n",
      "    *\n"
     ]
    }
   ],
   "source": [
    "print('e')\n",
    "for i in range(5,0,-1):\n",
    "    for j in range(5-i):\n",
    "        print(' ', end = '')\n",
    "    for j in range(i):\n",
    "        print('*', end = '')\n",
    "    print()"
   ]
  },
  {
   "cell_type": "markdown",
   "metadata": {},
   "source": [
    "### 서술형"
   ]
  },
  {
   "cell_type": "code",
   "execution_count": 60,
   "metadata": {
    "ExecuteTime": {
     "end_time": "2021-02-28T12:38:11.261714Z",
     "start_time": "2021-02-28T12:38:11.254717Z"
    }
   },
   "outputs": [
    {
     "name": "stdout",
     "output_type": "stream",
     "text": [
      "165\n"
     ]
    }
   ],
   "source": [
    "#1\n",
    "sum = 0\n",
    "\n",
    "for i in range(1,31):\n",
    "    if (i%3 == 0):\n",
    "        sum = sum + i\n",
    "    else:\n",
    "        pass\n",
    "print(sum)"
   ]
  },
  {
   "cell_type": "code",
   "execution_count": 62,
   "metadata": {
    "ExecuteTime": {
     "end_time": "2021-02-28T12:39:06.191795Z",
     "start_time": "2021-02-28T12:39:06.176806Z"
    }
   },
   "outputs": [
    {
     "name": "stdout",
     "output_type": "stream",
     "text": [
      "1 3 5 7 9 "
     ]
    }
   ],
   "source": [
    "#2 \n",
    "num = 0\n",
    "while num <= 10:\n",
    "    if num%2 == 1:\n",
    "        print(num, end = ' ')\n",
    "    num +=1"
   ]
  },
  {
   "cell_type": "code",
   "execution_count": 66,
   "metadata": {
    "ExecuteTime": {
     "end_time": "2021-02-28T12:40:43.607331Z",
     "start_time": "2021-02-28T12:40:43.592338Z"
    }
   },
   "outputs": [
    {
     "name": "stdout",
     "output_type": "stream",
     "text": [
      "1 2 3 \n",
      "4 5 6 7 \n",
      "8 9 \n"
     ]
    }
   ],
   "source": [
    "#3\n",
    "list_2d = [[1, 2, 3], [4, 5, 6, 7], [8, 9]]\n",
    "\n",
    "for row in list_2d:\n",
    "    for data in row:\n",
    "        print(data, end = ' ')\n",
    "    print()"
   ]
  },
  {
   "cell_type": "code",
   "execution_count": 68,
   "metadata": {
    "ExecuteTime": {
     "end_time": "2021-02-28T12:42:03.253740Z",
     "start_time": "2021-02-28T12:42:03.247743Z"
    }
   },
   "outputs": [
    {
     "name": "stdout",
     "output_type": "stream",
     "text": [
      "0 apple\n",
      "1 banana\n"
     ]
    }
   ],
   "source": [
    "#4\n",
    "colors= {\"red\":\"apple\", \"yellow\":\"banana\"}\n",
    "\n",
    "for i, v in enumerate(colors.values()):\n",
    "    print(i, v)"
   ]
  },
  {
   "cell_type": "code",
   "execution_count": 70,
   "metadata": {
    "ExecuteTime": {
     "end_time": "2021-02-28T12:43:56.090893Z",
     "start_time": "2021-02-28T12:43:56.076903Z"
    }
   },
   "outputs": [
    {
     "name": "stdout",
     "output_type": "stream",
     "text": [
      "1 0\n"
     ]
    }
   ],
   "source": [
    "#5 \n",
    "for i in range(0,2):\n",
    "    for j in range(0,2):\n",
    "        if i == j:\n",
    "            break;\n",
    "        print(i, j)"
   ]
  },
  {
   "cell_type": "code",
   "execution_count": 71,
   "metadata": {
    "ExecuteTime": {
     "end_time": "2021-02-28T12:46:02.295370Z",
     "start_time": "2021-02-28T12:46:02.279380Z"
    }
   },
   "outputs": [
    {
     "name": "stdout",
     "output_type": "stream",
     "text": [
      "0 0\n",
      "1 0\n",
      "1 1\n"
     ]
    }
   ],
   "source": [
    "#6 \n",
    "for i in range(0,2):\n",
    "    for j in range(0,2):\n",
    "        print(i,j)\n",
    "        if i == j:\n",
    "            break;"
   ]
  },
  {
   "cell_type": "code",
   "execution_count": 73,
   "metadata": {
    "ExecuteTime": {
     "end_time": "2021-02-28T12:51:27.766449Z",
     "start_time": "2021-02-28T12:51:27.751456Z"
    }
   },
   "outputs": [
    {
     "name": "stdout",
     "output_type": "stream",
     "text": [
      "3 5 7 9 "
     ]
    }
   ],
   "source": [
    "#7 \n",
    "list_ = [3, 4, 5, 6, 7, 8, 9, 10]\n",
    "\n",
    "for i, data in enumerate(list_):\n",
    "    if(i%2 == 0):\n",
    "        print(data, end = ' ')"
   ]
  }
 ],
 "metadata": {
  "kernelspec": {
   "display_name": "Python 3",
   "language": "python",
   "name": "python3"
  },
  "language_info": {
   "codemirror_mode": {
    "name": "ipython",
    "version": 3
   },
   "file_extension": ".py",
   "mimetype": "text/x-python",
   "name": "python",
   "nbconvert_exporter": "python",
   "pygments_lexer": "ipython3",
   "version": "3.8.5"
  },
  "toc": {
   "base_numbering": 1,
   "nav_menu": {},
   "number_sections": false,
   "sideBar": true,
   "skip_h1_title": false,
   "title_cell": "Table of Contents",
   "title_sidebar": "Contents",
   "toc_cell": false,
   "toc_position": {},
   "toc_section_display": true,
   "toc_window_display": false
  },
  "varInspector": {
   "cols": {
    "lenName": 16,
    "lenType": 16,
    "lenVar": 40
   },
   "kernels_config": {
    "python": {
     "delete_cmd_postfix": "",
     "delete_cmd_prefix": "del ",
     "library": "var_list.py",
     "varRefreshCmd": "print(var_dic_list())"
    },
    "r": {
     "delete_cmd_postfix": ") ",
     "delete_cmd_prefix": "rm(",
     "library": "var_list.r",
     "varRefreshCmd": "cat(var_dic_list()) "
    }
   },
   "types_to_exclude": [
    "module",
    "function",
    "builtin_function_or_method",
    "instance",
    "_Feature"
   ],
   "window_display": false
  }
 },
 "nbformat": 4,
 "nbformat_minor": 4
}
