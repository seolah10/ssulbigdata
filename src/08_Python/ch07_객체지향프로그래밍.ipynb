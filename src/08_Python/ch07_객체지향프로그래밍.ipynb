{
 "cells": [
  {
   "cell_type": "markdown",
   "metadata": {},
   "source": [
    "**<font color = \"darkred\" size=\"5\">ch07. 객체지향 프로그래밍</font>**"
   ]
  },
  {
   "cell_type": "markdown",
   "metadata": {},
   "source": [
    "## 1. 객체와 클래스 \n",
    "\n",
    "<pre>\n",
    "       class 클래스명(부모클래스명):\n",
    "            함수나 변수들 선언\n",
    "</pre>"
   ]
  },
  {
   "cell_type": "code",
   "execution_count": 1,
   "metadata": {
    "ExecuteTime": {
     "end_time": "2021-03-01T15:10:43.430181Z",
     "start_time": "2021-03-01T15:10:43.416189Z"
    }
   },
   "outputs": [],
   "source": [
    "class Person: \n",
    "    \"Person 클래스\"\n",
    "    pass\n",
    "\n",
    "p1 = Person()"
   ]
  },
  {
   "cell_type": "code",
   "execution_count": 2,
   "metadata": {
    "ExecuteTime": {
     "end_time": "2021-03-01T15:10:55.000292Z",
     "start_time": "2021-03-01T15:10:54.979306Z"
    }
   },
   "outputs": [
    {
     "data": {
      "text/plain": [
       "__main__.Person"
      ]
     },
     "execution_count": 2,
     "metadata": {},
     "output_type": "execute_result"
    }
   ],
   "source": [
    "type(p1)"
   ]
  },
  {
   "cell_type": "code",
   "execution_count": 3,
   "metadata": {
    "ExecuteTime": {
     "end_time": "2021-03-01T15:11:00.001215Z",
     "start_time": "2021-03-01T15:10:59.995219Z"
    }
   },
   "outputs": [
    {
     "name": "stdout",
     "output_type": "stream",
     "text": [
      "<__main__.Person object at 0x0000021DA91DC1C0>\n"
     ]
    }
   ],
   "source": [
    "print(p1)"
   ]
  },
  {
   "cell_type": "code",
   "execution_count": 4,
   "metadata": {
    "ExecuteTime": {
     "end_time": "2021-03-01T15:11:18.952631Z",
     "start_time": "2021-03-01T15:11:18.935641Z"
    }
   },
   "outputs": [
    {
     "data": {
      "text/plain": [
       "True"
      ]
     },
     "execution_count": 4,
     "metadata": {},
     "output_type": "execute_result"
    }
   ],
   "source": [
    "isinstance(p1, Person)"
   ]
  },
  {
   "cell_type": "code",
   "execution_count": 5,
   "metadata": {
    "ExecuteTime": {
     "end_time": "2021-03-01T15:11:26.294793Z",
     "start_time": "2021-03-01T15:11:26.283800Z"
    }
   },
   "outputs": [
    {
     "name": "stdout",
     "output_type": "stream",
     "text": [
      "Person 클래스\n"
     ]
    }
   ],
   "source": [
    "print(p1.__doc__)"
   ]
  },
  {
   "cell_type": "markdown",
   "metadata": {},
   "source": [
    "## 2. 변수와 메소드"
   ]
  },
  {
   "cell_type": "code",
   "execution_count": 6,
   "metadata": {
    "ExecuteTime": {
     "end_time": "2021-03-01T15:12:29.071694Z",
     "start_time": "2021-03-01T15:12:29.059703Z"
    }
   },
   "outputs": [
    {
     "name": "stdout",
     "output_type": "stream",
     "text": [
      "Park female\n"
     ]
    }
   ],
   "source": [
    "# 변수 추가 \n",
    "class Person:\n",
    "    name = 'Park'\n",
    "    gender = 'female'\n",
    "\n",
    "p1 = Person()\n",
    "print(p1.name, p1.gender)"
   ]
  },
  {
   "cell_type": "code",
   "execution_count": 7,
   "metadata": {
    "ExecuteTime": {
     "end_time": "2021-03-01T15:13:06.970818Z",
     "start_time": "2021-03-01T15:13:06.948833Z"
    }
   },
   "outputs": [
    {
     "name": "stdout",
     "output_type": "stream",
     "text": [
      "Kim female\n"
     ]
    }
   ],
   "source": [
    "p2 = Person()\n",
    "p2.name = 'Kim'\n",
    "print(p2.name, p2.gender)"
   ]
  },
  {
   "cell_type": "code",
   "execution_count": 8,
   "metadata": {
    "ExecuteTime": {
     "end_time": "2021-03-01T15:13:39.484401Z",
     "start_time": "2021-03-01T15:13:39.467414Z"
    }
   },
   "outputs": [],
   "source": [
    "Person.name = 'Jang'\n",
    "Person.gender = 'male'"
   ]
  },
  {
   "cell_type": "code",
   "execution_count": 9,
   "metadata": {
    "ExecuteTime": {
     "end_time": "2021-03-01T15:13:52.580368Z",
     "start_time": "2021-03-01T15:13:52.572372Z"
    }
   },
   "outputs": [
    {
     "name": "stdout",
     "output_type": "stream",
     "text": [
      "Jang male\n",
      "Kim male\n"
     ]
    }
   ],
   "source": [
    "print(p1.name, p1.gender)\n",
    "print(p2.name, p2.gender)"
   ]
  },
  {
   "cell_type": "code",
   "execution_count": 10,
   "metadata": {
    "ExecuteTime": {
     "end_time": "2021-03-01T15:15:00.862562Z",
     "start_time": "2021-03-01T15:15:00.853566Z"
    }
   },
   "outputs": [
    {
     "name": "stdout",
     "output_type": "stream",
     "text": [
      "Jang male\n",
      "shin female\n",
      "Kim male\n"
     ]
    }
   ],
   "source": [
    "p1.name = 'shin'\n",
    "p1.gender = 'female'\n",
    "\n",
    "print(Person.name, Person.gender)\n",
    "print(p1.name, p1.gender)\n",
    "print(p2.name, p2.gender)"
   ]
  },
  {
   "cell_type": "code",
   "execution_count": 11,
   "metadata": {
    "ExecuteTime": {
     "end_time": "2021-03-01T15:16:13.513918Z",
     "start_time": "2021-03-01T15:16:13.492930Z"
    }
   },
   "outputs": [
    {
     "name": "stdout",
     "output_type": "stream",
     "text": [
      "park female\n",
      "Person 메소드\n"
     ]
    }
   ],
   "source": [
    "# 메소드 추가 \n",
    "class Person:\n",
    "    name = 'park'\n",
    "    gender = 'female'\n",
    "    \n",
    "    def print_info():\n",
    "        print('Person 메소드')\n",
    "        \n",
    "print(Person.name, Person.gender)\n",
    "Person.print_info()"
   ]
  },
  {
   "cell_type": "code",
   "execution_count": 13,
   "metadata": {
    "ExecuteTime": {
     "end_time": "2021-03-01T15:17:00.229266Z",
     "start_time": "2021-03-01T15:17:00.218272Z"
    }
   },
   "outputs": [
    {
     "name": "stdout",
     "output_type": "stream",
     "text": [
      "Jang male\n",
      "park female\n"
     ]
    }
   ],
   "source": [
    "p1 = Person()\n",
    "p1.name = 'Jang'\n",
    "p1.gender = 'male'\n",
    "print(p1.name, p1.gender)\n",
    "print(Person.name, Person.gender)"
   ]
  },
  {
   "cell_type": "code",
   "execution_count": 14,
   "metadata": {
    "ExecuteTime": {
     "end_time": "2021-03-01T15:17:13.799885Z",
     "start_time": "2021-03-01T15:17:13.779894Z"
    }
   },
   "outputs": [
    {
     "name": "stdout",
     "output_type": "stream",
     "text": [
      "Person 메소드\n"
     ]
    }
   ],
   "source": [
    "Person.print_info()"
   ]
  },
  {
   "cell_type": "code",
   "execution_count": 17,
   "metadata": {
    "ExecuteTime": {
     "end_time": "2021-03-01T15:17:38.328098Z",
     "start_time": "2021-03-01T15:17:38.308110Z"
    }
   },
   "outputs": [
    {
     "ename": "TypeError",
     "evalue": "print_info() takes 0 positional arguments but 1 was given",
     "output_type": "error",
     "traceback": [
      "\u001b[1;31m---------------------------------------------------------------------------\u001b[0m",
      "\u001b[1;31mTypeError\u001b[0m                                 Traceback (most recent call last)",
      "\u001b[1;32m<ipython-input-17-123b1e7cbd59>\u001b[0m in \u001b[0;36m<module>\u001b[1;34m\u001b[0m\n\u001b[1;32m----> 1\u001b[1;33m \u001b[0mp1\u001b[0m\u001b[1;33m.\u001b[0m\u001b[0mprint_info\u001b[0m\u001b[1;33m(\u001b[0m\u001b[1;33m)\u001b[0m\u001b[1;33m\u001b[0m\u001b[1;33m\u001b[0m\u001b[0m\n\u001b[0m",
      "\u001b[1;31mTypeError\u001b[0m: print_info() takes 0 positional arguments but 1 was given"
     ]
    }
   ],
   "source": [
    "p1.print_info() # 에러 "
   ]
  },
  {
   "cell_type": "code",
   "execution_count": 18,
   "metadata": {
    "ExecuteTime": {
     "end_time": "2021-03-01T15:19:44.591812Z",
     "start_time": "2021-03-01T15:19:44.577821Z"
    }
   },
   "outputs": [
    {
     "name": "stdout",
     "output_type": "stream",
     "text": [
      "park 30\n",
      "Song, 30세, female\n"
     ]
    }
   ],
   "source": [
    "# 인스턴스 메소드: 객체만 실행 가능한 메소드\n",
    "class Person:\n",
    "    name = 'park'\n",
    "    gender = 'female'\n",
    "    age = 30 \n",
    "    \n",
    "    def print_info(self): # 인스턴스 메소드\n",
    "        print(\"{}, {}세, {}\".format(self.name, self.age, self.gender))\n",
    "\n",
    "print(Person.name, Person.age)\n",
    "p1 = Person()\n",
    "p1.name = 'Song'\n",
    "p1.print_info()"
   ]
  },
  {
   "cell_type": "code",
   "execution_count": 19,
   "metadata": {
    "ExecuteTime": {
     "end_time": "2021-03-01T15:20:11.984309Z",
     "start_time": "2021-03-01T15:20:11.958325Z"
    }
   },
   "outputs": [
    {
     "ename": "TypeError",
     "evalue": "print_info() missing 1 required positional argument: 'self'",
     "output_type": "error",
     "traceback": [
      "\u001b[1;31m---------------------------------------------------------------------------\u001b[0m",
      "\u001b[1;31mTypeError\u001b[0m                                 Traceback (most recent call last)",
      "\u001b[1;32m<ipython-input-19-5d08db0c8414>\u001b[0m in \u001b[0;36m<module>\u001b[1;34m\u001b[0m\n\u001b[1;32m----> 1\u001b[1;33m \u001b[0mPerson\u001b[0m\u001b[1;33m.\u001b[0m\u001b[0mprint_info\u001b[0m\u001b[1;33m(\u001b[0m\u001b[1;33m)\u001b[0m\u001b[1;33m\u001b[0m\u001b[1;33m\u001b[0m\u001b[0m\n\u001b[0m",
      "\u001b[1;31mTypeError\u001b[0m: print_info() missing 1 required positional argument: 'self'"
     ]
    }
   ],
   "source": [
    "Person.print_info() # 에러(print_info는 class를 위한 메소드가 아니다.)"
   ]
  },
  {
   "cell_type": "code",
   "execution_count": 20,
   "metadata": {
    "ExecuteTime": {
     "end_time": "2021-03-01T15:20:49.862956Z",
     "start_time": "2021-03-01T15:20:49.842970Z"
    }
   },
   "outputs": [
    {
     "data": {
      "text/plain": [
       "('Song', 'female', 30)"
      ]
     },
     "execution_count": 20,
     "metadata": {},
     "output_type": "execute_result"
    }
   ],
   "source": [
    "p1.name, p1.gender, p1.age"
   ]
  },
  {
   "cell_type": "markdown",
   "metadata": {},
   "source": [
    "- 파이썬은 클래스와 인스턴스(객체)의 이름 공간이 분리되어 있다.\n",
    "- 클래스와 인스턴스의 변수명이 다를 수 있다. \n",
    "- 동적으로 인스턴스에 멤버 추가 가능 "
   ]
  },
  {
   "cell_type": "code",
   "execution_count": 21,
   "metadata": {
    "ExecuteTime": {
     "end_time": "2021-03-01T15:21:55.939115Z",
     "start_time": "2021-03-01T15:21:55.916129Z"
    }
   },
   "outputs": [],
   "source": [
    "p1.address = 'Seoul, Korea'\n",
    "p1.nickname = 'snowman'"
   ]
  },
  {
   "cell_type": "code",
   "execution_count": 22,
   "metadata": {
    "ExecuteTime": {
     "end_time": "2021-03-01T15:22:03.362062Z",
     "start_time": "2021-03-01T15:22:03.357065Z"
    }
   },
   "outputs": [
    {
     "name": "stdout",
     "output_type": "stream",
     "text": [
      "Song, 30세, female\n"
     ]
    }
   ],
   "source": [
    "p1.print_info()"
   ]
  },
  {
   "cell_type": "markdown",
   "metadata": {},
   "source": [
    "**메소드의 유형**\n",
    "1. 인스턴스 메소드: 첫 인자에 꼭 self 삽입. 객체를 통해서 호출할 메소드\n",
    "2. 클래스 메소드: 첫 인자에 cls(clazz) 꼭 삽입. @classmethod를 통해 선언\n",
    "3. 정적(static) 메소드: @staticmethod를 통해서 선언 "
   ]
  },
  {
   "cell_type": "code",
   "execution_count": 24,
   "metadata": {
    "ExecuteTime": {
     "end_time": "2021-03-01T15:27:56.917145Z",
     "start_time": "2021-03-01T15:27:56.896158Z"
    }
   },
   "outputs": [],
   "source": [
    "class Person:\n",
    "    name = 'Jo'\n",
    "    gender = 'male'\n",
    "    age = 32\n",
    "    \n",
    "    def print_info(self): # 인스턴스 메소드\n",
    "        print(\"{}세 {}씨는 {}\".format(self.age, self.name, self.gender))\n",
    "        \n",
    "    @classmethod\n",
    "    def do_(cls): # 클래스 메소드\n",
    "        cls.name = 'park'\n",
    "        cls.gender = 'female'\n",
    "        cls.age = 30\n",
    "        print(\"{}세 {}씨는 {}\".format(cls.age, cls.name, cls.gender))\n",
    "    \n",
    "    @staticmethod\n",
    "    def that_(): # static 메소드 (인자 없음)\n",
    "        print(\"{}세 {}씨는 {}\".format(Person.age, Person.name, Person.gender))\n",
    "    "
   ]
  },
  {
   "cell_type": "code",
   "execution_count": 26,
   "metadata": {
    "ExecuteTime": {
     "end_time": "2021-03-01T15:28:37.802201Z",
     "start_time": "2021-03-01T15:28:37.792207Z"
    }
   },
   "outputs": [
    {
     "name": "stdout",
     "output_type": "stream",
     "text": [
      "32세 Jo씨는 male\n",
      "32세 Jo씨는 male\n"
     ]
    }
   ],
   "source": [
    "p1 = Person()\n",
    "p2 = Person()\n",
    "p1.print_info()\n",
    "p2.print_info()"
   ]
  },
  {
   "cell_type": "code",
   "execution_count": 28,
   "metadata": {
    "ExecuteTime": {
     "end_time": "2021-03-01T15:30:23.927560Z",
     "start_time": "2021-03-01T15:30:23.908569Z"
    }
   },
   "outputs": [
    {
     "name": "stdout",
     "output_type": "stream",
     "text": [
      "34세 Jang씨는 male\n",
      "32세 Jo씨는 male\n",
      "32세 Jo씨는 male\n",
      "32세 Jo씨는 male\n"
     ]
    }
   ],
   "source": [
    "p1.name = 'Jang'\n",
    "p1.age += 1 # 실행할 때마다 1살씩 증가\n",
    "p1.print_info()\n",
    "p2.print_info()\n",
    "\n",
    "p2.that_() # static 메소드는 객체를 통해서, 클래스를 통해서 모두 호출 가능\n",
    "Person.that_()"
   ]
  },
  {
   "cell_type": "code",
   "execution_count": 29,
   "metadata": {
    "ExecuteTime": {
     "end_time": "2021-03-01T15:30:42.960220Z",
     "start_time": "2021-03-01T15:30:42.950226Z"
    }
   },
   "outputs": [
    {
     "name": "stdout",
     "output_type": "stream",
     "text": [
      "30세 park씨는 female\n"
     ]
    }
   ],
   "source": [
    "Person.do_() # 클래스 메소드"
   ]
  },
  {
   "cell_type": "code",
   "execution_count": 30,
   "metadata": {
    "ExecuteTime": {
     "end_time": "2021-03-01T15:30:59.155348Z",
     "start_time": "2021-03-01T15:30:59.138361Z"
    }
   },
   "outputs": [
    {
     "name": "stdout",
     "output_type": "stream",
     "text": [
      "34세 Jang씨는 female\n",
      "30세 park씨는 female\n"
     ]
    }
   ],
   "source": [
    "p1.print_info() \n",
    "p2.print_info()"
   ]
  },
  {
   "cell_type": "code",
   "execution_count": 33,
   "metadata": {
    "ExecuteTime": {
     "end_time": "2021-03-01T15:33:59.513255Z",
     "start_time": "2021-03-01T15:33:59.499266Z"
    }
   },
   "outputs": [
    {
     "name": "stdout",
     "output_type": "stream",
     "text": [
      "34세 Jang씨는 male\n",
      "33세 shin씨는 male\n"
     ]
    }
   ],
   "source": [
    "Person.name = 'shin'\n",
    "Person.gender = 'male'\n",
    "Person.age = 33\n",
    "\n",
    "p1.print_info()\n",
    "p2.print_info()"
   ]
  },
  {
   "cell_type": "markdown",
   "metadata": {},
   "source": [
    "## 3. 생성자와 소멸자\n",
    "- 생성자 함수: 객체가 생성될 때 자동 실행 /  생성시 필요한 코드를 포함함 \n",
    "- 소멸자 함수: 객체가 소멸될 때 자동 실행 / 소멸시 필요한 코드를 포함함 <br> 인스턴스 객체의 레퍼런스 카운트가 0이 될 때 실행"
   ]
  },
  {
   "cell_type": "code",
   "execution_count": 34,
   "metadata": {
    "ExecuteTime": {
     "end_time": "2021-03-01T15:39:22.073625Z",
     "start_time": "2021-03-01T15:39:22.060634Z"
    }
   },
   "outputs": [],
   "source": [
    "class Person:\n",
    "    def __init__(self): # 생성자함수\n",
    "        print('Person 객체를 생성합니다.')\n",
    "        self.name = 'Hong'\n",
    "        self.age = 30\n",
    "    \n",
    "    def __del__(self): # 소멸자함수\n",
    "        print('Person 객체를 소멸시킵니다.')\n",
    "    \n",
    "    def print_info(self): # 인스턴스(일반) 메소드\n",
    "        print(\"{}님의 나이는 {}\".format(self.name, self.age))"
   ]
  },
  {
   "cell_type": "code",
   "execution_count": 35,
   "metadata": {
    "ExecuteTime": {
     "end_time": "2021-03-01T15:39:34.092963Z",
     "start_time": "2021-03-01T15:39:34.076975Z"
    }
   },
   "outputs": [
    {
     "name": "stdout",
     "output_type": "stream",
     "text": [
      "Person 객체를 생성합니다.\n",
      "Hong님의 나이는 30\n"
     ]
    }
   ],
   "source": [
    "p1 = Person()\n",
    "p1.print_info()"
   ]
  },
  {
   "cell_type": "code",
   "execution_count": 36,
   "metadata": {
    "ExecuteTime": {
     "end_time": "2021-03-01T15:40:32.955064Z",
     "start_time": "2021-03-01T15:40:32.935076Z"
    }
   },
   "outputs": [
    {
     "name": "stdout",
     "output_type": "stream",
     "text": [
      "Lim님의 나이는 30\n"
     ]
    }
   ],
   "source": [
    "p1.name = 'Lim'\n",
    "p1.print_info()"
   ]
  },
  {
   "cell_type": "code",
   "execution_count": 37,
   "metadata": {
    "ExecuteTime": {
     "end_time": "2021-03-01T15:41:17.816677Z",
     "start_time": "2021-03-01T15:41:17.798689Z"
    }
   },
   "outputs": [
    {
     "data": {
      "text/plain": [
       "(__main__.Person, True)"
      ]
     },
     "execution_count": 37,
     "metadata": {},
     "output_type": "execute_result"
    }
   ],
   "source": [
    "type(p1), isinstance(p1, Person)"
   ]
  },
  {
   "cell_type": "code",
   "execution_count": 38,
   "metadata": {
    "ExecuteTime": {
     "end_time": "2021-03-01T15:41:32.899930Z",
     "start_time": "2021-03-01T15:41:32.881944Z"
    }
   },
   "outputs": [
    {
     "name": "stdout",
     "output_type": "stream",
     "text": [
      "Person 객체를 소멸시킵니다.\n"
     ]
    }
   ],
   "source": [
    "del p1"
   ]
  },
  {
   "cell_type": "code",
   "execution_count": 39,
   "metadata": {
    "ExecuteTime": {
     "end_time": "2021-03-01T15:41:39.799888Z",
     "start_time": "2021-03-01T15:41:39.785896Z"
    }
   },
   "outputs": [
    {
     "name": "stdout",
     "output_type": "stream",
     "text": [
      "Person 객체를 생성합니다.\n"
     ]
    }
   ],
   "source": [
    "p1 = Person()"
   ]
  },
  {
   "cell_type": "code",
   "execution_count": 40,
   "metadata": {
    "ExecuteTime": {
     "end_time": "2021-03-01T15:41:48.695032Z",
     "start_time": "2021-03-01T15:41:48.675045Z"
    }
   },
   "outputs": [
    {
     "name": "stdout",
     "output_type": "stream",
     "text": [
      "Person 객체를 생성합니다.\n",
      "Person 객체를 소멸시킵니다.\n"
     ]
    }
   ],
   "source": [
    "p1 = Person()"
   ]
  },
  {
   "cell_type": "code",
   "execution_count": 41,
   "metadata": {
    "ExecuteTime": {
     "end_time": "2021-03-01T15:41:56.343528Z",
     "start_time": "2021-03-01T15:41:56.331536Z"
    }
   },
   "outputs": [],
   "source": [
    "p2 = p1"
   ]
  },
  {
   "cell_type": "code",
   "execution_count": 42,
   "metadata": {
    "ExecuteTime": {
     "end_time": "2021-03-01T15:42:02.588852Z",
     "start_time": "2021-03-01T15:42:02.581857Z"
    }
   },
   "outputs": [],
   "source": [
    "del p1"
   ]
  },
  {
   "cell_type": "code",
   "execution_count": 43,
   "metadata": {
    "ExecuteTime": {
     "end_time": "2021-03-01T15:42:08.107271Z",
     "start_time": "2021-03-01T15:42:08.090280Z"
    }
   },
   "outputs": [
    {
     "name": "stdout",
     "output_type": "stream",
     "text": [
      "Person 객체를 소멸시킵니다.\n"
     ]
    }
   ],
   "source": [
    "del p2"
   ]
  },
  {
   "cell_type": "markdown",
   "metadata": {},
   "source": [
    "★생성자 함수를 통한 멤버변수의 초기화★ <br>\n",
    "★파이썬은 함수를 통한 중복정의(오버로딩) 불가★ <br>\n",
    "★생성자 함수도 중복정의 불가★"
   ]
  },
  {
   "cell_type": "code",
   "execution_count": 45,
   "metadata": {
    "ExecuteTime": {
     "end_time": "2021-03-01T15:45:47.206315Z",
     "start_time": "2021-03-01T15:45:47.189326Z"
    }
   },
   "outputs": [],
   "source": [
    "class Person:\n",
    "    def __init__(self, name = 'Hong', gender = 'male'): # \n",
    "        print('Person객체 생성')\n",
    "        self.name = name\n",
    "        self.gender = gender\n",
    "    \n",
    "    def __del__(self):\n",
    "        print('Person객체 소멸')\n",
    "        \n",
    "    def print_info(self):\n",
    "        print('{} is {}'.format(self.name, self.gender))\n",
    "    \n",
    "    def __str__(self):\n",
    "        return '{} is {}'.format(self.name, self.gender)"
   ]
  },
  {
   "cell_type": "code",
   "execution_count": 46,
   "metadata": {
    "ExecuteTime": {
     "end_time": "2021-03-01T15:46:25.958202Z",
     "start_time": "2021-03-01T15:46:25.943211Z"
    }
   },
   "outputs": [
    {
     "name": "stdout",
     "output_type": "stream",
     "text": [
      "Person객체 생성\n",
      "Person객체 생성\n",
      "Person객체 생성\n"
     ]
    }
   ],
   "source": [
    "p1 = Person('Lim', 'male')\n",
    "p2 = Person('Park')\n",
    "p3 = Person()"
   ]
  },
  {
   "cell_type": "code",
   "execution_count": 48,
   "metadata": {
    "ExecuteTime": {
     "end_time": "2021-03-01T15:46:42.531905Z",
     "start_time": "2021-03-01T15:46:42.524909Z"
    }
   },
   "outputs": [
    {
     "name": "stdout",
     "output_type": "stream",
     "text": [
      "Lim is male\n",
      "Lim is male\n"
     ]
    }
   ],
   "source": [
    "print(p1)\n",
    "p1.print_info()"
   ]
  },
  {
   "cell_type": "code",
   "execution_count": 49,
   "metadata": {
    "ExecuteTime": {
     "end_time": "2021-03-01T15:46:55.753579Z",
     "start_time": "2021-03-01T15:46:55.746584Z"
    }
   },
   "outputs": [
    {
     "name": "stdout",
     "output_type": "stream",
     "text": [
      "Park is male\n",
      "Hong is male\n"
     ]
    }
   ],
   "source": [
    "print(p2)\n",
    "print(p3)"
   ]
  },
  {
   "cell_type": "markdown",
   "metadata": {},
   "source": [
    "## 4. 상속과 재정의"
   ]
  },
  {
   "cell_type": "code",
   "execution_count": 1,
   "metadata": {
    "ExecuteTime": {
     "end_time": "2021-03-01T15:48:45.950100Z",
     "start_time": "2021-03-01T15:48:45.933111Z"
    }
   },
   "outputs": [],
   "source": [
    "class Person:\n",
    "    def __init__(self, name = 'Hong', gender = 'male'): # \n",
    "        print('Person객체 생성')\n",
    "        self.name = name\n",
    "        self.gender = gender\n",
    "    \n",
    "    def __del__(self):\n",
    "        print('Person객체 소멸')\n",
    "        \n",
    "    def print_info(self):\n",
    "        print('{} is {}'.format(self.name, self.gender))\n",
    "    \n",
    "    def __str__(self):\n",
    "        return '{} is {}'.format(self.name, self.gender)"
   ]
  },
  {
   "cell_type": "code",
   "execution_count": 2,
   "metadata": {
    "ExecuteTime": {
     "end_time": "2021-03-01T15:48:47.673170Z",
     "start_time": "2021-03-01T15:48:47.654180Z"
    }
   },
   "outputs": [
    {
     "name": "stdout",
     "output_type": "stream",
     "text": [
      "Person객체 생성\n"
     ]
    }
   ],
   "source": [
    "p1 = Person('Choi', 'male')"
   ]
  },
  {
   "cell_type": "code",
   "execution_count": 3,
   "metadata": {
    "ExecuteTime": {
     "end_time": "2021-03-01T15:49:20.633180Z",
     "start_time": "2021-03-01T15:49:20.614193Z"
    }
   },
   "outputs": [],
   "source": [
    "class Student(Person): # 부모클래스 Person에게 상속받을 Student클래스 \n",
    "    pass"
   ]
  },
  {
   "cell_type": "code",
   "execution_count": 4,
   "metadata": {
    "ExecuteTime": {
     "end_time": "2021-03-01T15:49:50.261034Z",
     "start_time": "2021-03-01T15:49:50.235051Z"
    }
   },
   "outputs": [
    {
     "data": {
      "text/plain": [
       "True"
      ]
     },
     "execution_count": 4,
     "metadata": {},
     "output_type": "execute_result"
    }
   ],
   "source": [
    "issubclass(Student, Person) # Student는 Person의 자식클래스니?"
   ]
  },
  {
   "cell_type": "code",
   "execution_count": 5,
   "metadata": {
    "ExecuteTime": {
     "end_time": "2021-03-01T15:50:00.053890Z",
     "start_time": "2021-03-01T15:50:00.042898Z"
    }
   },
   "outputs": [
    {
     "name": "stdout",
     "output_type": "stream",
     "text": [
      "Person객체 생성\n"
     ]
    }
   ],
   "source": [
    "s1 = Student() # Person클래스의 생성자함수 상속받음 "
   ]
  },
  {
   "cell_type": "code",
   "execution_count": 6,
   "metadata": {
    "ExecuteTime": {
     "end_time": "2021-03-01T15:50:40.514182Z",
     "start_time": "2021-03-01T15:50:40.504186Z"
    }
   },
   "outputs": [
    {
     "name": "stdout",
     "output_type": "stream",
     "text": [
      "Person객체 생성\n",
      "Person객체 소멸\n"
     ]
    }
   ],
   "source": [
    "s1 = Student('Lim', 'male')"
   ]
  },
  {
   "cell_type": "code",
   "execution_count": 7,
   "metadata": {
    "ExecuteTime": {
     "end_time": "2021-03-01T15:50:48.500919Z",
     "start_time": "2021-03-01T15:50:48.487928Z"
    }
   },
   "outputs": [
    {
     "name": "stdout",
     "output_type": "stream",
     "text": [
      "Lim is male\n"
     ]
    }
   ],
   "source": [
    "print(s1)"
   ]
  },
  {
   "cell_type": "code",
   "execution_count": 8,
   "metadata": {
    "ExecuteTime": {
     "end_time": "2021-03-01T15:50:58.993861Z",
     "start_time": "2021-03-01T15:50:58.979871Z"
    }
   },
   "outputs": [
    {
     "name": "stdout",
     "output_type": "stream",
     "text": [
      "Lim is male\n"
     ]
    }
   ],
   "source": [
    "s1.print_info()"
   ]
  },
  {
   "cell_type": "code",
   "execution_count": 3,
   "metadata": {
    "ExecuteTime": {
     "end_time": "2021-03-01T16:08:32.437105Z",
     "start_time": "2021-03-01T16:08:32.415117Z"
    }
   },
   "outputs": [],
   "source": [
    "class Person:\n",
    "    def __init__(self, name = 'Hong', gender = 'male'): # \n",
    "        print('Person객체 생성')\n",
    "        self.name = name\n",
    "        self.gender = gender\n",
    "    \n",
    "    def __del__(self):\n",
    "        print('Person객체 소멸')\n",
    "        \n",
    "    def print_info(self):\n",
    "        print('{} is {}'.format(self.name, self.gender))\n",
    "    \n",
    "    def __str__(self):\n",
    "        return '{} is {}'.format(self.name, self.gender)"
   ]
  },
  {
   "cell_type": "code",
   "execution_count": 5,
   "metadata": {
    "ExecuteTime": {
     "end_time": "2021-03-01T15:57:45.056666Z",
     "start_time": "2021-03-01T15:57:45.034679Z"
    }
   },
   "outputs": [],
   "source": [
    "class Student(Person):\n",
    "    \"name과 gender에 major변수를 갖는 Student타입\"\n",
    "    \n",
    "    def __init__(self, name, gender, major):\n",
    "        self.name = name \n",
    "        self.gender = gender \n",
    "        self.major = major\n",
    "    \n",
    "    def __del__(self):\n",
    "        pass\n",
    "    \n",
    "    def print_info(self):\n",
    "        print('%s님 전공은 %s, 성별은 %s'%(self.name, self.major, self.gender))\n",
    "    \n",
    "    def __str__(self):\n",
    "        return '%s님 전공은 %s, 성별은 %s'%(self.name, self.major, self.gender)\n",
    "                    "
   ]
  },
  {
   "cell_type": "code",
   "execution_count": 6,
   "metadata": {
    "ExecuteTime": {
     "end_time": "2021-03-01T15:57:47.166184Z",
     "start_time": "2021-03-01T15:57:47.117213Z"
    }
   },
   "outputs": [
    {
     "name": "stdout",
     "output_type": "stream",
     "text": [
      "Jang님 전공은 bigdata, 성별은 male\n",
      "Jang님 전공은 bigdata, 성별은 male\n"
     ]
    }
   ],
   "source": [
    "s1 = Student('Jang', 'male', 'bigdata')\n",
    "print(s1)\n",
    "print(s1.__str__())"
   ]
  },
  {
   "cell_type": "code",
   "execution_count": 7,
   "metadata": {
    "ExecuteTime": {
     "end_time": "2021-03-01T15:58:16.368041Z",
     "start_time": "2021-03-01T15:58:16.343057Z"
    }
   },
   "outputs": [
    {
     "data": {
      "text/plain": [
       "(True, True)"
      ]
     },
     "execution_count": 7,
     "metadata": {},
     "output_type": "execute_result"
    }
   ],
   "source": [
    "isinstance(s1, Student), isinstance(s1, Person)"
   ]
  },
  {
   "cell_type": "markdown",
   "metadata": {},
   "source": [
    "**super()**"
   ]
  },
  {
   "cell_type": "code",
   "execution_count": 8,
   "metadata": {
    "ExecuteTime": {
     "end_time": "2021-03-01T15:59:07.160060Z",
     "start_time": "2021-03-01T15:59:07.143072Z"
    }
   },
   "outputs": [],
   "source": [
    "class Person:\n",
    "    def __init__(self, name = 'Hong', gender = 'male'): # \n",
    "        print('Person객체 생성')\n",
    "        self.name = name\n",
    "        self.gender = gender\n",
    "    \n",
    "    def __del__(self):\n",
    "        print('Person객체 소멸')\n",
    "        \n",
    "    def print_info(self):\n",
    "        print('{} is {}'.format(self.name, self.gender))\n",
    "    \n",
    "    def __str__(self):\n",
    "        return '{} is {}'.format(self.name, self.gender)"
   ]
  },
  {
   "cell_type": "code",
   "execution_count": 4,
   "metadata": {
    "ExecuteTime": {
     "end_time": "2021-03-01T16:08:39.386740Z",
     "start_time": "2021-03-01T16:08:39.369748Z"
    }
   },
   "outputs": [],
   "source": [
    "class Student(Person):\n",
    "    \"name과 gender에 major변수를 갖는 Student타입\"\n",
    "    \n",
    "    def __init__(self, name, gender, major):\n",
    "        # 부모클래스의 생성자를 호출하여 자식클래스의 생성자를 쉽게 \n",
    "        Person.__init__(self, name, gender) \n",
    "        self.major = major\n",
    "    \n",
    "    def __del__(self):\n",
    "        pass\n",
    "    \n",
    "    def print_info(self):\n",
    "        print('%s님 전공은 %s, 성별은 %s'%(self.name, self.major, self.gender))\n",
    "    \n",
    "    def __str__(self): # 부모클래스의 __str__불러오기  \n",
    "        return super().__str__() + '전공은 {}'.format(self.major)"
   ]
  },
  {
   "cell_type": "code",
   "execution_count": 12,
   "metadata": {
    "ExecuteTime": {
     "end_time": "2021-03-01T16:02:12.067881Z",
     "start_time": "2021-03-01T16:02:12.052887Z"
    }
   },
   "outputs": [
    {
     "name": "stdout",
     "output_type": "stream",
     "text": [
      "Person객체 생성\n",
      "Park is female전공은 statistics\n"
     ]
    }
   ],
   "source": [
    "s1 = Student('Park', 'female', 'statistics')\n",
    "print(s1)"
   ]
  },
  {
   "cell_type": "markdown",
   "metadata": {},
   "source": [
    "**static변수: 여러 객체들 사이에 데이터를 공유할 때 사용**\n",
    "- 클래스변수 이름 앞에 under score 2개( __ ) 붙이면 <br> 내부적으로 클래스명._클래스변수명으로 참조"
   ]
  },
  {
   "cell_type": "code",
   "execution_count": 6,
   "metadata": {
    "ExecuteTime": {
     "end_time": "2021-03-01T16:08:48.368882Z",
     "start_time": "2021-03-01T16:08:48.358888Z"
    }
   },
   "outputs": [],
   "source": [
    "class Student(Person):\n",
    "    \"name과 gender에 major변수를 갖는 Student타입\"\n",
    "    __count = 0; # static 변수\n",
    "    \n",
    "    def __init__(self, name, gender, major):\n",
    "        Student._Student__count += 1 # 객체 생성될 때마다 __count 증가 \n",
    "        Person.__init__(self, name, gender) \n",
    "        self.major = major\n",
    "    \n",
    "    def __del__(self):\n",
    "        Student._Student__count -= 1 # 객체 소멸될 때마다 __count 감소 \n",
    "    \n",
    "    def print_info(self):\n",
    "        print('%s님 전공은 %s, 성별은 %s'%(self.name, self.major, self.gender))\n",
    "    \n",
    "    def __str__(self): # 부모클래스의 __str__불러오기  \n",
    "        return super().__str__() + '전공은 {}'.format(self.major)\n",
    "    \n",
    "    @classmethod\n",
    "    def get_count(cls):\n",
    "        return Student._Student__count"
   ]
  },
  {
   "cell_type": "code",
   "execution_count": 7,
   "metadata": {
    "ExecuteTime": {
     "end_time": "2021-03-01T16:08:50.380619Z",
     "start_time": "2021-03-01T16:08:50.366628Z"
    }
   },
   "outputs": [
    {
     "name": "stdout",
     "output_type": "stream",
     "text": [
      "Person객체 생성\n",
      "Jang is male전공은 bigdata\n",
      "객체 수:  1\n"
     ]
    }
   ],
   "source": [
    "s1 = Student('Jang', 'male', 'bigdata')\n",
    "print(s1)\n",
    "print('객체 수: ',Student.get_count())"
   ]
  },
  {
   "cell_type": "code",
   "execution_count": 8,
   "metadata": {
    "ExecuteTime": {
     "end_time": "2021-03-01T16:09:44.117140Z",
     "start_time": "2021-03-01T16:09:44.095152Z"
    }
   },
   "outputs": [
    {
     "name": "stdout",
     "output_type": "stream",
     "text": [
      "Person객체 생성\n",
      "park님 전공은 statistics, 성별은 female\n",
      "객체 수:  2\n"
     ]
    }
   ],
   "source": [
    "s2 = Student('park', 'female', 'statistics')\n",
    "s2.print_info()\n",
    "print('객체 수: ', s2.get_count())"
   ]
  },
  {
   "cell_type": "code",
   "execution_count": 9,
   "metadata": {
    "ExecuteTime": {
     "end_time": "2021-03-01T16:11:21.584070Z",
     "start_time": "2021-03-01T16:11:21.562086Z"
    }
   },
   "outputs": [
    {
     "name": "stdout",
     "output_type": "stream",
     "text": [
      "Person객체 생성\n",
      "park님 전공은 statistics, 성별은 female\n",
      "객체 수:  3\n",
      "객체 수:  3\n",
      "객체 수:  3\n"
     ]
    }
   ],
   "source": [
    "s3 = Student('park', 'female', 'statistics')\n",
    "s3.print_info()\n",
    "\n",
    "print('객체 수: ', s2.get_count())\n",
    "print('객체 수: ', s3.get_count())\n",
    "print('객체 수: ', Student.get_count())"
   ]
  },
  {
   "cell_type": "code",
   "execution_count": 10,
   "metadata": {
    "ExecuteTime": {
     "end_time": "2021-03-01T16:11:51.597224Z",
     "start_time": "2021-03-01T16:11:51.585232Z"
    }
   },
   "outputs": [
    {
     "name": "stdout",
     "output_type": "stream",
     "text": [
      "객체 수:  2\n"
     ]
    }
   ],
   "source": [
    "del s3\n",
    "print('객체 수: ', Student.get_count())"
   ]
  },
  {
   "cell_type": "markdown",
   "metadata": {},
   "source": [
    "## <연습문제>"
   ]
  },
  {
   "cell_type": "code",
   "execution_count": 23,
   "metadata": {
    "ExecuteTime": {
     "end_time": "2021-03-01T16:21:44.815006Z",
     "start_time": "2021-03-01T16:21:44.796015Z"
    }
   },
   "outputs": [],
   "source": [
    "# 실습1 \n",
    "class Shape:\n",
    "    def __init__(self, x=0, y=0):\n",
    "        self.x = x\n",
    "        self.y = y\n",
    "    \n",
    "    def __str__(self):\n",
    "        return \"x좌표:{}, y좌표:{}\".format(self.x, self.y)\n",
    "    \n",
    "    def move(self, x, y):\n",
    "        self.x += x\n",
    "        self.y += y\n",
    "        \n",
    "    def cal_area(self):\n",
    "        raise Exception('이 메소드는 반드시 구현할 것')\n",
    "    \n",
    "    @staticmethod\n",
    "    def staticmethod_():\n",
    "        print('도형 클래스 정적 메소드 호출')"
   ]
  },
  {
   "cell_type": "code",
   "execution_count": 30,
   "metadata": {
    "ExecuteTime": {
     "end_time": "2021-03-01T16:23:59.721269Z",
     "start_time": "2021-03-01T16:23:59.698285Z"
    }
   },
   "outputs": [],
   "source": [
    "class Triangle(Shape):\n",
    "    __count = 0\n",
    "    \n",
    "    def __init__(self, width, height, x=0, y=0):\n",
    "        Triangle._Triangle__count += 1 \n",
    "        Shape.__init__(self, x, y)\n",
    "        self.width = width\n",
    "        self.height = height \n",
    "        \n",
    "    def __del__(self):\n",
    "        Triangle._Triangle__count -= 1 \n",
    "    \n",
    "    def __str__(self):\n",
    "        return super().__str__() + ', 밑변:{}, 높이:{}'.format(self.width, self.height)\n",
    "    \n",
    "    def cal_area(self):\n",
    "        return (self.width * self.height) / 2 \n",
    "    \n",
    "    @classmethod\n",
    "    def get_count(cls):\n",
    "        return cls.__count\n",
    "    "
   ]
  },
  {
   "cell_type": "code",
   "execution_count": 20,
   "metadata": {
    "ExecuteTime": {
     "end_time": "2021-03-01T16:19:45.339967Z",
     "start_time": "2021-03-01T16:19:45.327975Z"
    }
   },
   "outputs": [],
   "source": [
    "s1 = Shape()"
   ]
  },
  {
   "cell_type": "code",
   "execution_count": 21,
   "metadata": {
    "ExecuteTime": {
     "end_time": "2021-03-01T16:19:55.951265Z",
     "start_time": "2021-03-01T16:19:55.935276Z"
    }
   },
   "outputs": [
    {
     "ename": "Exception",
     "evalue": "이 메소드는 반드시 구현할 것",
     "output_type": "error",
     "traceback": [
      "\u001b[1;31m---------------------------------------------------------------------------\u001b[0m",
      "\u001b[1;31mException\u001b[0m                                 Traceback (most recent call last)",
      "\u001b[1;32m<ipython-input-21-fb0c98ab0374>\u001b[0m in \u001b[0;36m<module>\u001b[1;34m\u001b[0m\n\u001b[1;32m----> 1\u001b[1;33m \u001b[0ms1\u001b[0m\u001b[1;33m.\u001b[0m\u001b[0mcal_area\u001b[0m\u001b[1;33m(\u001b[0m\u001b[1;33m)\u001b[0m\u001b[1;33m\u001b[0m\u001b[1;33m\u001b[0m\u001b[0m\n\u001b[0m",
      "\u001b[1;32m<ipython-input-14-c786085375c6>\u001b[0m in \u001b[0;36mcal_area\u001b[1;34m(self)\u001b[0m\n\u001b[0;32m     13\u001b[0m \u001b[1;33m\u001b[0m\u001b[0m\n\u001b[0;32m     14\u001b[0m     \u001b[1;32mdef\u001b[0m \u001b[0mcal_area\u001b[0m\u001b[1;33m(\u001b[0m\u001b[0mself\u001b[0m\u001b[1;33m)\u001b[0m\u001b[1;33m:\u001b[0m\u001b[1;33m\u001b[0m\u001b[1;33m\u001b[0m\u001b[0m\n\u001b[1;32m---> 15\u001b[1;33m         \u001b[1;32mraise\u001b[0m \u001b[0mException\u001b[0m\u001b[1;33m(\u001b[0m\u001b[1;34m'이 메소드는 반드시 구현할 것'\u001b[0m\u001b[1;33m)\u001b[0m\u001b[1;33m\u001b[0m\u001b[1;33m\u001b[0m\u001b[0m\n\u001b[0m\u001b[0;32m     16\u001b[0m \u001b[1;33m\u001b[0m\u001b[0m\n\u001b[0;32m     17\u001b[0m     \u001b[1;33m@\u001b[0m\u001b[0mstaticmethod\u001b[0m\u001b[1;33m\u001b[0m\u001b[1;33m\u001b[0m\u001b[0m\n",
      "\u001b[1;31mException\u001b[0m: 이 메소드는 반드시 구현할 것"
     ]
    }
   ],
   "source": [
    "s1.cal_area() # 에러 발생"
   ]
  },
  {
   "cell_type": "code",
   "execution_count": 32,
   "metadata": {
    "ExecuteTime": {
     "end_time": "2021-03-01T16:24:10.918166Z",
     "start_time": "2021-03-01T16:24:10.914170Z"
    }
   },
   "outputs": [],
   "source": [
    "t1 = Triangle(10, 20)\n",
    "t2 = Triangle(3, 4, 5, 5)"
   ]
  },
  {
   "cell_type": "code",
   "execution_count": 33,
   "metadata": {
    "ExecuteTime": {
     "end_time": "2021-03-01T16:24:13.223244Z",
     "start_time": "2021-03-01T16:24:13.200256Z"
    }
   },
   "outputs": [
    {
     "name": "stdout",
     "output_type": "stream",
     "text": [
      "x좌표:0, y좌표:0, 밑변:10, 높이:20\n",
      "x좌표:5, y좌표:5, 밑변:3, 높이:4\n",
      "트라이앵글 객체 수:  1\n",
      "트라이앵글 객체 수:  1\n",
      "트라이앵글 객체 수:  1\n"
     ]
    }
   ],
   "source": [
    "print(t1)\n",
    "print(t2)\n",
    "print('트라이앵글 객체 수: ', Triangle.get_count())\n",
    "print('트라이앵글 객체 수: ', t1.get_count())\n",
    "print('트라이앵글 객체 수: ', t2.get_count())"
   ]
  },
  {
   "cell_type": "code",
   "execution_count": 34,
   "metadata": {
    "ExecuteTime": {
     "end_time": "2021-03-01T16:24:30.962732Z",
     "start_time": "2021-03-01T16:24:30.944743Z"
    }
   },
   "outputs": [],
   "source": [
    "t1.move(50, 50)"
   ]
  },
  {
   "cell_type": "code",
   "execution_count": 35,
   "metadata": {
    "ExecuteTime": {
     "end_time": "2021-03-01T16:24:37.099306Z",
     "start_time": "2021-03-01T16:24:37.093312Z"
    }
   },
   "outputs": [
    {
     "name": "stdout",
     "output_type": "stream",
     "text": [
      "x좌표:50, y좌표:50, 밑변:10, 높이:20\n"
     ]
    }
   ],
   "source": [
    "print(t1)"
   ]
  },
  {
   "cell_type": "markdown",
   "metadata": {},
   "source": [
    "**서술형**\n",
    "- 1 - 1 \n",
    "- 2 - 2 \n",
    "- 3 - 4\n",
    "- 4 - 1 \n",
    "- 5 - 2 \n",
    "- 6 - 2\n",
    "- 7 - 3 "
   ]
  },
  {
   "cell_type": "code",
   "execution_count": 36,
   "metadata": {
    "ExecuteTime": {
     "end_time": "2021-03-01T16:26:59.220846Z",
     "start_time": "2021-03-01T16:26:59.212851Z"
    }
   },
   "outputs": [],
   "source": [
    "#8.\n",
    "class Super:\n",
    "    def do_(self, a):\n",
    "        print('super.do_')\n",
    "\n",
    "class Sub(Super):\n",
    "    def do_(self, a):\n",
    "        #super.do_(self, a)\n",
    "        super().do_(a)\n",
    "        print('sub.do_')"
   ]
  },
  {
   "cell_type": "code",
   "execution_count": 37,
   "metadata": {
    "ExecuteTime": {
     "end_time": "2021-03-01T16:27:15.284922Z",
     "start_time": "2021-03-01T16:27:15.264934Z"
    }
   },
   "outputs": [
    {
     "name": "stdout",
     "output_type": "stream",
     "text": [
      "super.do_\n",
      "sub.do_\n"
     ]
    }
   ],
   "source": [
    "s1 = Sub()\n",
    "s1.do_(10)"
   ]
  },
  {
   "cell_type": "code",
   "execution_count": null,
   "metadata": {},
   "outputs": [],
   "source": [
    "#9 - 2 "
   ]
  },
  {
   "cell_type": "code",
   "execution_count": 38,
   "metadata": {
    "ExecuteTime": {
     "end_time": "2021-03-01T16:29:03.030096Z",
     "start_time": "2021-03-01T16:29:03.020103Z"
    }
   },
   "outputs": [],
   "source": [
    "class Person:\n",
    "    def __init__(self, name = '홍길동', gender = '남'):\n",
    "        self.name = name\n",
    "        self.gender = gender \n",
    "        \n",
    "    def __del__(self):\n",
    "        pass\n",
    "    \n",
    "    def __str__(self):\n",
    "        return \"이름은 \" + self.name\n",
    "    \n",
    "    def print_info(self):\n",
    "        print(self.name)"
   ]
  },
  {
   "cell_type": "code",
   "execution_count": 39,
   "metadata": {
    "ExecuteTime": {
     "end_time": "2021-03-01T16:29:13.447265Z",
     "start_time": "2021-03-01T16:29:13.441270Z"
    }
   },
   "outputs": [
    {
     "name": "stdout",
     "output_type": "stream",
     "text": [
      "이름은 홍길동\n"
     ]
    }
   ],
   "source": [
    "p = Person()\n",
    "print(p)"
   ]
  },
  {
   "cell_type": "code",
   "execution_count": 40,
   "metadata": {
    "ExecuteTime": {
     "end_time": "2021-03-01T16:29:22.195342Z",
     "start_time": "2021-03-01T16:29:22.173355Z"
    }
   },
   "outputs": [
    {
     "data": {
      "text/plain": [
       "{'name': '홍길동', 'gender': '남'}"
      ]
     },
     "execution_count": 40,
     "metadata": {},
     "output_type": "execute_result"
    }
   ],
   "source": [
    "p.__dict__ # 클래스 멤버들 확인"
   ]
  }
 ],
 "metadata": {
  "kernelspec": {
   "display_name": "Python 3",
   "language": "python",
   "name": "python3"
  },
  "toc": {
   "base_numbering": 1,
   "nav_menu": {},
   "number_sections": false,
   "sideBar": true,
   "skip_h1_title": false,
   "title_cell": "Table of Contents",
   "title_sidebar": "Contents",
   "toc_cell": false,
   "toc_position": {},
   "toc_section_display": true,
   "toc_window_display": false
  },
  "varInspector": {
   "cols": {
    "lenName": 16,
    "lenType": 16,
    "lenVar": 40
   },
   "kernels_config": {
    "python": {
     "delete_cmd_postfix": "",
     "delete_cmd_prefix": "del ",
     "library": "var_list.py",
     "varRefreshCmd": "print(var_dic_list())"
    },
    "r": {
     "delete_cmd_postfix": ") ",
     "delete_cmd_prefix": "rm(",
     "library": "var_list.r",
     "varRefreshCmd": "cat(var_dic_list()) "
    }
   },
   "types_to_exclude": [
    "module",
    "function",
    "builtin_function_or_method",
    "instance",
    "_Feature"
   ],
   "window_display": false
  }
 },
 "nbformat": 4,
 "nbformat_minor": 4
}
