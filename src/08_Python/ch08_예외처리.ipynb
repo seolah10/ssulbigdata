{
 "cells": [
  {
   "cell_type": "markdown",
   "metadata": {
    "ExecuteTime": {
     "end_time": "2021-03-01T16:30:17.573921Z",
     "start_time": "2021-03-01T16:30:17.537946Z"
    }
   },
   "source": [
    "**<font color = \"darkred\" size=\"5\">ch08. 예외처리</font>**"
   ]
  },
  {
   "cell_type": "markdown",
   "metadata": {},
   "source": [
    "## 1. 예외가 발생하는 경우"
   ]
  },
  {
   "cell_type": "code",
   "execution_count": 8,
   "metadata": {
    "ExecuteTime": {
     "end_time": "2021-03-01T16:38:35.921292Z",
     "start_time": "2021-03-01T16:38:22.574747Z"
    }
   },
   "outputs": [
    {
     "name": "stdout",
     "output_type": "stream",
     "text": [
      "읽을 파일명: ㅎㄴㄹㅇ\n"
     ]
    },
    {
     "ename": "FileNotFoundError",
     "evalue": "[Errno 2] No such file or directory: 'data/ㅎㄴㄹㅇ'",
     "output_type": "error",
     "traceback": [
      "\u001b[1;31m---------------------------------------------------------------------------\u001b[0m",
      "\u001b[1;31mFileNotFoundError\u001b[0m                         Traceback (most recent call last)",
      "\u001b[1;32m<ipython-input-8-6fb2577a9e12>\u001b[0m in \u001b[0;36m<module>\u001b[1;34m\u001b[0m\n\u001b[0;32m      1\u001b[0m \u001b[0mfilename\u001b[0m \u001b[1;33m=\u001b[0m \u001b[0minput\u001b[0m\u001b[1;33m(\u001b[0m\u001b[1;34m'읽을 파일명: '\u001b[0m\u001b[1;33m)\u001b[0m\u001b[1;33m\u001b[0m\u001b[1;33m\u001b[0m\u001b[0m\n\u001b[1;32m----> 2\u001b[1;33m \u001b[0mf\u001b[0m \u001b[1;33m=\u001b[0m \u001b[0mopen\u001b[0m\u001b[1;33m(\u001b[0m\u001b[1;34m'data/'\u001b[0m \u001b[1;33m+\u001b[0m \u001b[0mfilename\u001b[0m\u001b[1;33m,\u001b[0m \u001b[1;34m'r'\u001b[0m\u001b[1;33m)\u001b[0m \u001b[1;31m# 읽기\u001b[0m\u001b[1;33m\u001b[0m\u001b[1;33m\u001b[0m\u001b[0m\n\u001b[0m\u001b[0;32m      3\u001b[0m \u001b[0mfirstline\u001b[0m \u001b[1;33m=\u001b[0m \u001b[0mf\u001b[0m\u001b[1;33m.\u001b[0m\u001b[0mreadline\u001b[0m\u001b[1;33m(\u001b[0m\u001b[1;33m)\u001b[0m \u001b[1;31m# 한줄만 읽어오기\u001b[0m\u001b[1;33m\u001b[0m\u001b[1;33m\u001b[0m\u001b[0m\n\u001b[0;32m      4\u001b[0m \u001b[0mprint\u001b[0m\u001b[1;33m(\u001b[0m\u001b[0mfirstline\u001b[0m\u001b[1;33m)\u001b[0m\u001b[1;33m\u001b[0m\u001b[1;33m\u001b[0m\u001b[0m\n\u001b[0;32m      5\u001b[0m \u001b[0mf\u001b[0m\u001b[1;33m.\u001b[0m\u001b[0mclose\u001b[0m\u001b[1;33m(\u001b[0m\u001b[1;33m)\u001b[0m\u001b[1;33m\u001b[0m\u001b[1;33m\u001b[0m\u001b[0m\n",
      "\u001b[1;31mFileNotFoundError\u001b[0m: [Errno 2] No such file or directory: 'data/ㅎㄴㄹㅇ'"
     ]
    }
   ],
   "source": [
    "filename = input('읽을 파일명: ') # 에러0 (없는 파일 불러올 때)\n",
    "f = open('data/' + filename, 'r') # 읽기 \n",
    "firstline = f.readline() # 한줄만 읽어오기\n",
    "print(firstline) \n",
    "f.close()"
   ]
  },
  {
   "cell_type": "code",
   "execution_count": 4,
   "metadata": {
    "ExecuteTime": {
     "end_time": "2021-03-01T16:35:57.730540Z",
     "start_time": "2021-03-01T16:35:54.794446Z"
    }
   },
   "outputs": [
    {
     "name": "stdout",
     "output_type": "stream",
     "text": [
      "점수: s\n"
     ]
    },
    {
     "ename": "ValueError",
     "evalue": "invalid literal for int() with base 10: 's'",
     "output_type": "error",
     "traceback": [
      "\u001b[1;31m---------------------------------------------------------------------------\u001b[0m",
      "\u001b[1;31mValueError\u001b[0m                                Traceback (most recent call last)",
      "\u001b[1;32m<ipython-input-4-3d152fb97617>\u001b[0m in \u001b[0;36m<module>\u001b[1;34m\u001b[0m\n\u001b[1;32m----> 1\u001b[1;33m \u001b[0mnum\u001b[0m \u001b[1;33m=\u001b[0m \u001b[0mint\u001b[0m\u001b[1;33m(\u001b[0m\u001b[0minput\u001b[0m\u001b[1;33m(\u001b[0m\u001b[1;34m'점수: '\u001b[0m\u001b[1;33m)\u001b[0m\u001b[1;33m)\u001b[0m\u001b[1;33m\u001b[0m\u001b[1;33m\u001b[0m\u001b[0m\n\u001b[0m",
      "\u001b[1;31mValueError\u001b[0m: invalid literal for int() with base 10: 's'"
     ]
    }
   ],
   "source": [
    "num = int(input('점수: ')) # 에러1 (숫자가 아닌 타입 입력)"
   ]
  },
  {
   "cell_type": "code",
   "execution_count": 5,
   "metadata": {
    "ExecuteTime": {
     "end_time": "2021-03-01T16:36:51.086937Z",
     "start_time": "2021-03-01T16:36:48.086903Z"
    }
   },
   "outputs": [
    {
     "name": "stdout",
     "output_type": "stream",
     "text": [
      "점수: 0\n"
     ]
    },
    {
     "ename": "ZeroDivisionError",
     "evalue": "division by zero",
     "output_type": "error",
     "traceback": [
      "\u001b[1;31m---------------------------------------------------------------------------\u001b[0m",
      "\u001b[1;31mZeroDivisionError\u001b[0m                         Traceback (most recent call last)",
      "\u001b[1;32m<ipython-input-5-9292a3ec822c>\u001b[0m in \u001b[0;36m<module>\u001b[1;34m\u001b[0m\n\u001b[0;32m      1\u001b[0m \u001b[0mnum\u001b[0m \u001b[1;33m=\u001b[0m \u001b[0mint\u001b[0m\u001b[1;33m(\u001b[0m\u001b[0minput\u001b[0m\u001b[1;33m(\u001b[0m\u001b[1;34m'점수: '\u001b[0m\u001b[1;33m)\u001b[0m\u001b[1;33m)\u001b[0m \u001b[1;31m# 에러2 (0으로 나눌 때)\u001b[0m\u001b[1;33m\u001b[0m\u001b[1;33m\u001b[0m\u001b[0m\n\u001b[1;32m----> 2\u001b[1;33m \u001b[0mprint\u001b[0m\u001b[1;33m(\u001b[0m\u001b[1;36m10\u001b[0m \u001b[1;33m/\u001b[0m \u001b[0mnum\u001b[0m\u001b[1;33m)\u001b[0m\u001b[1;33m\u001b[0m\u001b[1;33m\u001b[0m\u001b[0m\n\u001b[0m",
      "\u001b[1;31mZeroDivisionError\u001b[0m: division by zero"
     ]
    }
   ],
   "source": [
    "num = int(input('점수: ')) # 에러2 (0으로 나눌 때)\n",
    "print(10 / num)"
   ]
  },
  {
   "cell_type": "code",
   "execution_count": 7,
   "metadata": {
    "ExecuteTime": {
     "end_time": "2021-03-01T16:37:57.456421Z",
     "start_time": "2021-03-01T16:37:55.979209Z"
    }
   },
   "outputs": [
    {
     "name": "stdout",
     "output_type": "stream",
     "text": [
      "찾는 인덱스: 5\n"
     ]
    },
    {
     "ename": "IndexError",
     "evalue": "list index out of range",
     "output_type": "error",
     "traceback": [
      "\u001b[1;31m---------------------------------------------------------------------------\u001b[0m",
      "\u001b[1;31mIndexError\u001b[0m                                Traceback (most recent call last)",
      "\u001b[1;32m<ipython-input-7-9169d85f0556>\u001b[0m in \u001b[0;36m<module>\u001b[1;34m\u001b[0m\n\u001b[0;32m      1\u001b[0m \u001b[0mlist_\u001b[0m \u001b[1;33m=\u001b[0m \u001b[1;33m[\u001b[0m\u001b[1;36m1\u001b[0m\u001b[1;33m,\u001b[0m \u001b[1;36m2\u001b[0m\u001b[1;33m,\u001b[0m \u001b[1;36m3\u001b[0m\u001b[1;33m]\u001b[0m  \u001b[1;31m# 에러3 (범위를 벗어나는 인덱스 입력시)\u001b[0m\u001b[1;33m\u001b[0m\u001b[1;33m\u001b[0m\u001b[0m\n\u001b[0;32m      2\u001b[0m \u001b[0midx\u001b[0m \u001b[1;33m=\u001b[0m \u001b[0mint\u001b[0m\u001b[1;33m(\u001b[0m\u001b[0minput\u001b[0m\u001b[1;33m(\u001b[0m\u001b[1;34m'찾는 인덱스: '\u001b[0m\u001b[1;33m)\u001b[0m\u001b[1;33m)\u001b[0m\u001b[1;33m\u001b[0m\u001b[1;33m\u001b[0m\u001b[0m\n\u001b[1;32m----> 3\u001b[1;33m \u001b[0mprint\u001b[0m\u001b[1;33m(\u001b[0m\u001b[1;34m\"{}인덱스 값: {}\"\u001b[0m\u001b[1;33m.\u001b[0m\u001b[0mformat\u001b[0m\u001b[1;33m(\u001b[0m\u001b[0midx\u001b[0m\u001b[1;33m,\u001b[0m \u001b[0mlist_\u001b[0m\u001b[1;33m[\u001b[0m\u001b[0midx\u001b[0m\u001b[1;33m]\u001b[0m\u001b[1;33m)\u001b[0m\u001b[1;33m)\u001b[0m\u001b[1;33m\u001b[0m\u001b[1;33m\u001b[0m\u001b[0m\n\u001b[0m",
      "\u001b[1;31mIndexError\u001b[0m: list index out of range"
     ]
    }
   ],
   "source": [
    "list_ = [1, 2, 3]  # 에러3 (범위를 벗어나는 인덱스 입력시)\n",
    "idx = int(input('찾는 인덱스: '))\n",
    "print(\"{}인덱스 값: {}\".format(idx, list_[idx]))"
   ]
  },
  {
   "cell_type": "markdown",
   "metadata": {},
   "source": [
    "## 2. 예외처리 (try ~ except)\n",
    "- 예외날 가능성이 있는 부분에 대해 미리 대비하는 프로그래밍"
   ]
  },
  {
   "cell_type": "code",
   "execution_count": 9,
   "metadata": {
    "ExecuteTime": {
     "end_time": "2021-03-01T16:39:59.974725Z",
     "start_time": "2021-03-01T16:39:58.228259Z"
    }
   },
   "outputs": [
    {
     "name": "stdout",
     "output_type": "stream",
     "text": [
      "정수: s\n",
      "invalid literal for int() with base 10: 's'\n",
      "정수만 입력하세요.\n"
     ]
    }
   ],
   "source": [
    "try:\n",
    "    x = int(input(\"정수: \"))\n",
    "    print('입력한 정수:{}'.format(x))\n",
    "except ValueError as e:\n",
    "    print(e)\n",
    "    print('정수만 입력하세요.')"
   ]
  },
  {
   "cell_type": "code",
   "execution_count": 11,
   "metadata": {
    "ExecuteTime": {
     "end_time": "2021-03-01T16:41:03.247317Z",
     "start_time": "2021-03-01T16:40:57.234240Z"
    }
   },
   "outputs": [
    {
     "name": "stdout",
     "output_type": "stream",
     "text": [
      "정수: s\n",
      "invalid literal for int() with base 10: 's'\n",
      "정수만 입력하세요.\n",
      "정수: ㄴ\n",
      "invalid literal for int() with base 10: 'ㄴ'\n",
      "정수만 입력하세요.\n",
      "정수: 10\n",
      "입력한 정수:10\n"
     ]
    }
   ],
   "source": [
    "# 입력한 값이 정수가 아닐 경우, 예외 메시지르를 출력하고 다시 입력받기\n",
    "while True:\n",
    "    try:\n",
    "        x = int(input(\"정수: \"))\n",
    "        print('입력한 정수:{}'.format(x))\n",
    "        break;\n",
    "    except ValueError as e:\n",
    "        print(e)\n",
    "        print('정수만 입력하세요.')"
   ]
  },
  {
   "cell_type": "code",
   "execution_count": 17,
   "metadata": {
    "ExecuteTime": {
     "end_time": "2021-03-01T16:44:46.347204Z",
     "start_time": "2021-03-01T16:44:37.606703Z"
    }
   },
   "outputs": [
    {
     "name": "stdout",
     "output_type": "stream",
     "text": [
      "정수: s\n",
      "정수만 입력하세요.\n",
      "정수: 0\n",
      "입력한 정수:0\n",
      "0으로는 나눌 수 없습니다.\n",
      "정수: 10\n",
      "입력한 정수:10\n",
      "100 / 10 = 10.0\n"
     ]
    }
   ],
   "source": [
    "# 100을, 입력한 정수값으로 나누어 출력한다. (두가지 예외사항 따로 처리) \n",
    "while True:\n",
    "    try:\n",
    "        x = int(input(\"정수: \"))\n",
    "        print('입력한 정수:{}'.format(x))\n",
    "\n",
    "        result = 100 / x \n",
    "        print('100 / {} = {}'.format(x, result))\n",
    "        break;\n",
    "    except ZeroDivisionError:\n",
    "        print('0으로는 나눌 수 없습니다.')\n",
    "    except ValueError:\n",
    "        print('정수만 입력하세요.') "
   ]
  },
  {
   "cell_type": "code",
   "execution_count": 19,
   "metadata": {
    "ExecuteTime": {
     "end_time": "2021-03-01T16:46:19.405577Z",
     "start_time": "2021-03-01T16:46:16.027643Z"
    }
   },
   "outputs": [
    {
     "name": "stdout",
     "output_type": "stream",
     "text": [
      "정수: ㄹㅇ\n",
      "문자나 0은 입력할 수 없습니다.\n",
      "정수: 0\n",
      "입력한 정수:0\n",
      "문자나 0은 입력할 수 없습니다.\n",
      "정수: 10\n",
      "입력한 정수:10\n",
      "100 / 10 = 10.0\n"
     ]
    }
   ],
   "source": [
    "# 100을, 입력한 정수값으로 나누어 출력한다. (두가지 예외사항 하나로 처리) \n",
    "while True:\n",
    "    try:\n",
    "        x = int(input(\"정수: \"))\n",
    "        print('입력한 정수:{}'.format(x))\n",
    "\n",
    "        result = 100 / x \n",
    "        print('100 / {} = {}'.format(x, result))\n",
    "        break;\n",
    "    except (ZeroDivisionError, ValueError) as e:\n",
    "        print('문자나 0은 입력할 수 없습니다.')"
   ]
  },
  {
   "cell_type": "code",
   "execution_count": 20,
   "metadata": {
    "ExecuteTime": {
     "end_time": "2021-03-01T16:47:09.690415Z",
     "start_time": "2021-03-01T16:47:04.230018Z"
    }
   },
   "outputs": [
    {
     "name": "stdout",
     "output_type": "stream",
     "text": [
      "정수: ㄹ\n",
      "다시 입력하세요.\n",
      "정수: ㄴ\n",
      "다시 입력하세요.\n",
      "정수: 하\n",
      "다시 입력하세요.\n",
      "정수: 0\n",
      "입력한 정수:0\n",
      "다시 입력하세요.\n",
      "정수: 10\n",
      "입력한 정수:10\n",
      "100 / 10 = 10.0\n"
     ]
    }
   ],
   "source": [
    "# 100을, 입력한 정수값으로 나누어 출력한다. (모든 예외사항 하나로 처리) \n",
    "while True:\n",
    "    try:\n",
    "        x = int(input(\"정수: \"))\n",
    "        print('입력한 정수:{}'.format(x))\n",
    "\n",
    "        result = 100 / x \n",
    "        print('100 / {} = {}'.format(x, result))\n",
    "        break;\n",
    "    except:\n",
    "        print('다시 입력하세요.')"
   ]
  },
  {
   "cell_type": "code",
   "execution_count": 21,
   "metadata": {
    "ExecuteTime": {
     "end_time": "2021-03-01T16:48:49.285156Z",
     "start_time": "2021-03-01T16:48:49.277161Z"
    }
   },
   "outputs": [
    {
     "name": "stdout",
     "output_type": "stream",
     "text": [
      "jupyter notebook KR utf-8\n",
      "Hello\n",
      "I'm ssul.\n"
     ]
    }
   ],
   "source": [
    "# else블록 : try블록에서 예외가 발생되면 except블록 실행. \n",
    "#                        예외발생 안되면 else블록 실행\n",
    "try:\n",
    "    f = open('data/ch08_abc.txt', 'r')\n",
    "except FileNotFoundError:\n",
    "    print('없는 파일입니다.')\n",
    "else:\n",
    "    data = f.read()\n",
    "    print(data)\n",
    "finally: # 예외 발생여부에 상관없이 실행되는 구문 \n",
    "    f.close()"
   ]
  },
  {
   "cell_type": "code",
   "execution_count": 22,
   "metadata": {
    "ExecuteTime": {
     "end_time": "2021-03-01T16:49:18.018793Z",
     "start_time": "2021-03-01T16:49:18.010798Z"
    }
   },
   "outputs": [
    {
     "name": "stdout",
     "output_type": "stream",
     "text": [
      "없는 파일입니다.\n"
     ]
    }
   ],
   "source": [
    "try:\n",
    "    f = open('data/ch08_ab.txt', 'r')\n",
    "except FileNotFoundError:\n",
    "    print('없는 파일입니다.')\n",
    "else:\n",
    "    data = f.read()\n",
    "    print(data)\n",
    "finally: # 예외 발생여부에 상관없이 실행되는 구문 \n",
    "    f.close()"
   ]
  },
  {
   "cell_type": "code",
   "execution_count": 23,
   "metadata": {
    "ExecuteTime": {
     "end_time": "2021-03-01T16:51:02.876394Z",
     "start_time": "2021-03-01T16:50:40.314709Z"
    }
   },
   "outputs": [
    {
     "name": "stdout",
     "output_type": "stream",
     "text": [
      "정수: 0\n",
      "입력한 정수:0\n",
      "division by zero\n",
      "division by zero\n",
      "정수: ㅇ\n",
      "invalid literal for int() with base 10: 'ㅇ'\n",
      "invalid literal for int() with base 10: 'ㅇ'\n",
      "정수: 10\n",
      "입력한 정수:10\n",
      "100 / 10 = 10.0\n"
     ]
    }
   ],
   "source": [
    "# 예외인수 e\n",
    "# 100을, 입력한 정수값으로 나누어 출력한다. (두가지 예외사항 하나로 처리) \n",
    "while True:\n",
    "    try:\n",
    "        x = int(input(\"정수: \"))\n",
    "        print('입력한 정수:{}'.format(x))\n",
    "\n",
    "        result = 100 / x \n",
    "        print('100 / {} = {}'.format(x, result))\n",
    "        break;\n",
    "    except (ZeroDivisionError, ValueError) as e:\n",
    "        print(e)\n",
    "        print(e.args[0]) \n",
    "        # e.arg는 튜플형식이므로 e.arg[0] 형식으로 예외메시지를 본다 "
   ]
  },
  {
   "cell_type": "markdown",
   "metadata": {},
   "source": [
    "## 3. raise로 예외 발생시키기"
   ]
  },
  {
   "cell_type": "code",
   "execution_count": 24,
   "metadata": {
    "ExecuteTime": {
     "end_time": "2021-03-01T16:51:48.833933Z",
     "start_time": "2021-03-01T16:51:48.816941Z"
    }
   },
   "outputs": [
    {
     "ename": "NameError",
     "evalue": "예외 발생",
     "output_type": "error",
     "traceback": [
      "\u001b[1;31m---------------------------------------------------------------------------\u001b[0m",
      "\u001b[1;31mNameError\u001b[0m                                 Traceback (most recent call last)",
      "\u001b[1;32m<ipython-input-24-e58b31f2f51e>\u001b[0m in \u001b[0;36m<module>\u001b[1;34m\u001b[0m\n\u001b[1;32m----> 1\u001b[1;33m \u001b[1;32mraise\u001b[0m \u001b[0mNameError\u001b[0m\u001b[1;33m(\u001b[0m\u001b[1;34m'예외 발생'\u001b[0m\u001b[1;33m)\u001b[0m\u001b[1;33m\u001b[0m\u001b[1;33m\u001b[0m\u001b[0m\n\u001b[0m",
      "\u001b[1;31mNameError\u001b[0m: 예외 발생"
     ]
    }
   ],
   "source": [
    "raise NameError('예외 발생')"
   ]
  },
  {
   "cell_type": "code",
   "execution_count": 25,
   "metadata": {
    "ExecuteTime": {
     "end_time": "2021-03-01T16:52:36.798977Z",
     "start_time": "2021-03-01T16:52:36.791981Z"
    }
   },
   "outputs": [],
   "source": [
    "def insert(data):\n",
    "    if len(data) == 0:\n",
    "        raise Exception('길이가 0이라 출력할 것도 없네요.')\n",
    "    print(data, '를 입력할게요.')"
   ]
  },
  {
   "cell_type": "code",
   "execution_count": 30,
   "metadata": {
    "ExecuteTime": {
     "end_time": "2021-03-01T16:53:32.148052Z",
     "start_time": "2021-03-01T16:53:32.139057Z"
    }
   },
   "outputs": [
    {
     "name": "stdout",
     "output_type": "stream",
     "text": [
      "길이가 0이라 출력할 것도 없네요.\n"
     ]
    }
   ],
   "source": [
    "try:\n",
    "    insert({})\n",
    "except Exception as e:\n",
    "    print(e.args[0])"
   ]
  },
  {
   "cell_type": "markdown",
   "metadata": {},
   "source": [
    "## 4. raise를 이용하여 추상클래스 정의하기\n",
    "- 파이썬은 추상클래스를 생성할 수 없으나, raise를 이용하여 흉내는 낼 수 있다.\n",
    "\n",
    "## 5. 사용자정의 예외\n"
   ]
  },
  {
   "cell_type": "code",
   "execution_count": 31,
   "metadata": {
    "ExecuteTime": {
     "end_time": "2021-03-01T16:56:05.958647Z",
     "start_time": "2021-03-01T16:56:05.938658Z"
    }
   },
   "outputs": [],
   "source": [
    "class AbstractError(Exception): # 예외 생성\n",
    "    \"추상클래스를 이용하여 객체 생성시 발생하는 오류\"\n",
    "    def __init__(self):\n",
    "        Exception.__init__(self, \"Shape는 추상클래스라 객체생성 불가\")"
   ]
  },
  {
   "cell_type": "code",
   "execution_count": 32,
   "metadata": {
    "ExecuteTime": {
     "end_time": "2021-03-01T16:56:51.265054Z",
     "start_time": "2021-03-01T16:56:51.247061Z"
    }
   },
   "outputs": [],
   "source": [
    "class Shape:\n",
    "    def __init__(self):\n",
    "        raise AbstractError()\n",
    "    \n",
    "    def cal_area(self):\n",
    "        raise AbstractError()"
   ]
  },
  {
   "cell_type": "code",
   "execution_count": 33,
   "metadata": {
    "ExecuteTime": {
     "end_time": "2021-03-01T16:57:31.326502Z",
     "start_time": "2021-03-01T16:57:31.309513Z"
    }
   },
   "outputs": [],
   "source": [
    "class Circle(Shape):\n",
    "    def __init__(self, r):\n",
    "        self.r = r\n",
    "    \n",
    "    def cal_area(self):\n",
    "        return r * r * 3.14"
   ]
  },
  {
   "cell_type": "code",
   "execution_count": 34,
   "metadata": {
    "ExecuteTime": {
     "end_time": "2021-03-01T16:57:37.672559Z",
     "start_time": "2021-03-01T16:57:37.658570Z"
    }
   },
   "outputs": [],
   "source": [
    "c = Circle(3)"
   ]
  },
  {
   "cell_type": "markdown",
   "metadata": {},
   "source": [
    "## 6. 파일정리작업"
   ]
  },
  {
   "cell_type": "code",
   "execution_count": 35,
   "metadata": {
    "ExecuteTime": {
     "end_time": "2021-03-01T16:58:58.655717Z",
     "start_time": "2021-03-01T16:58:44.601021Z"
    }
   },
   "outputs": [
    {
     "name": "stdout",
     "output_type": "stream",
     "text": [
      "파일명: ch08_abc.txt\n",
      "['jupyter notebook KR utf-8\\n', 'Hello\\n', \"I'm ssul.\"]\n"
     ]
    }
   ],
   "source": [
    "filename = input('파일명: ')\n",
    "\n",
    "f = open('data/' + filename, 'r')\n",
    "lines = f.readlines() # 여러줄 읽어오기 \n",
    "print(lines)\n",
    "f.close() # 반드시 실행할것! "
   ]
  },
  {
   "cell_type": "code",
   "execution_count": 36,
   "metadata": {
    "ExecuteTime": {
     "end_time": "2021-03-01T16:59:45.969244Z",
     "start_time": "2021-03-01T16:59:45.958252Z"
    }
   },
   "outputs": [
    {
     "name": "stdout",
     "output_type": "stream",
     "text": [
      "['jupyter notebook KR utf-8\\n', 'Hello\\n', \"I'm ssul.\"]\n"
     ]
    }
   ],
   "source": [
    "# with절 이후에는 자동적으로 close()\n",
    "with open('data/ch08_abc.txt', 'r') as f:\n",
    "    lines = f.readlines()\n",
    "    print(lines)"
   ]
  },
  {
   "cell_type": "markdown",
   "metadata": {},
   "source": [
    "## <연습문제>"
   ]
  },
  {
   "cell_type": "code",
   "execution_count": 38,
   "metadata": {
    "ExecuteTime": {
     "end_time": "2021-03-01T17:02:00.076739Z",
     "start_time": "2021-03-01T17:01:57.060557Z"
    }
   },
   "outputs": [
    {
     "name": "stdout",
     "output_type": "stream",
     "text": [
      "첫번째 수: ㄴ\n",
      "유효한 숫자가 아닙니다. 다시 시도하세요.\n",
      "첫번째 수: 10\n",
      "두번째 수: 2\n",
      "입력한 수: 10.0, 2.0\n",
      "10.0 / 2.0 = 5.0\n"
     ]
    }
   ],
   "source": [
    "# 실습형 1. 모든 예외처리를 하나로 \"유효한 숫자가 아닙니다. 다시 시도하세요\"로 메세지 출력\n",
    "\n",
    "while True:\n",
    "    try:\n",
    "        n1 = float(input('첫번째 수: '))\n",
    "        n2 = float(input('두번째 수: '))\n",
    "        \n",
    "        print('입력한 수: {}, {}'.format(n1, n2))\n",
    "        print('{} / {} = {}'.format(n1, n2, n1/n2))\n",
    "        break;\n",
    "    except:\n",
    "        print('유효한 숫자가 아닙니다. 다시 시도하세요.')"
   ]
  },
  {
   "cell_type": "code",
   "execution_count": null,
   "metadata": {},
   "outputs": [],
   "source": [
    "# 실습형 2 : 문자 입력과 0입력의 예외를 따로 처리"
   ]
  },
  {
   "cell_type": "code",
   "execution_count": 39,
   "metadata": {
    "ExecuteTime": {
     "end_time": "2021-03-01T17:03:11.750130Z",
     "start_time": "2021-03-01T17:03:06.001353Z"
    }
   },
   "outputs": [
    {
     "name": "stdout",
     "output_type": "stream",
     "text": [
      "첫번째 수: ㄴ\n",
      "숫자를 입력해주세요.\n",
      "첫번째 수: 10\n",
      "두번째 수: 0\n",
      "입력한 수: 10.0, 0.0\n",
      "0으로는 나눌 수 없습니다.\n",
      "첫번째 수: 10\n",
      "두번째 수: 5\n",
      "입력한 수: 10.0, 5.0\n",
      "10.0 / 5.0 = 2.0\n"
     ]
    }
   ],
   "source": [
    "while True:\n",
    "    try:\n",
    "        n1 = float(input('첫번째 수: '))\n",
    "        n2 = float(input('두번째 수: '))\n",
    "        \n",
    "        print('입력한 수: {}, {}'.format(n1, n2))\n",
    "        print('{} / {} = {}'.format(n1, n2, n1/n2))\n",
    "        break;\n",
    "    except ValueError:\n",
    "        print('숫자를 입력해주세요.')\n",
    "    except ZeroDivisionError:\n",
    "        print('0으로는 나눌 수 없습니다.')"
   ]
  }
 ],
 "metadata": {
  "kernelspec": {
   "display_name": "Python 3",
   "language": "python",
   "name": "python3"
  },
  "language_info": {
   "codemirror_mode": {
    "name": "ipython",
    "version": 3
   },
   "file_extension": ".py",
   "mimetype": "text/x-python",
   "name": "python",
   "nbconvert_exporter": "python",
   "pygments_lexer": "ipython3",
   "version": "3.8.5"
  },
  "toc": {
   "base_numbering": 1,
   "nav_menu": {},
   "number_sections": false,
   "sideBar": true,
   "skip_h1_title": false,
   "title_cell": "Table of Contents",
   "title_sidebar": "Contents",
   "toc_cell": false,
   "toc_position": {},
   "toc_section_display": true,
   "toc_window_display": false
  },
  "varInspector": {
   "cols": {
    "lenName": 16,
    "lenType": 16,
    "lenVar": 40
   },
   "kernels_config": {
    "python": {
     "delete_cmd_postfix": "",
     "delete_cmd_prefix": "del ",
     "library": "var_list.py",
     "varRefreshCmd": "print(var_dic_list())"
    },
    "r": {
     "delete_cmd_postfix": ") ",
     "delete_cmd_prefix": "rm(",
     "library": "var_list.r",
     "varRefreshCmd": "cat(var_dic_list()) "
    }
   },
   "types_to_exclude": [
    "module",
    "function",
    "builtin_function_or_method",
    "instance",
    "_Feature"
   ],
   "window_display": false
  }
 },
 "nbformat": 4,
 "nbformat_minor": 4
}
