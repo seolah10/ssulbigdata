{
 "cells": [
  {
   "cell_type": "code",
   "execution_count": 1,
   "metadata": {
    "ExecuteTime": {
     "end_time": "2021-03-20T14:41:58.499607Z",
     "start_time": "2021-03-20T14:41:58.482617Z"
    }
   },
   "outputs": [
    {
     "data": {
      "text/html": [
       "\n",
       "<style>\n",
       "div.container{width:100% !important;}\n",
       "div.CodeMirror {font-family:Consolas; font-size:10pt;}\n",
       "div.output {font-size:10pt;}\n",
       "div.input {font-family:Consolas; font-size:10pt;}\n",
       "div.prompt {min-width:70px;}\n",
       "</style>\n"
      ],
      "text/plain": [
       "<IPython.core.display.HTML object>"
      ]
     },
     "metadata": {},
     "output_type": "display_data"
    }
   ],
   "source": [
    "from IPython.display import display, HTML\n",
    "display(HTML(\"\"\"\n",
    "<style>\n",
    "div.container{width:100% !important;}\n",
    "div.CodeMirror {font-family:Consolas; font-size:10pt;}\n",
    "div.output {font-size:10pt;}\n",
    "div.input {font-family:Consolas; font-size:10pt;}\n",
    "div.prompt {min-width:70px;}\n",
    "</style>\n",
    "\"\"\"))"
   ]
  },
  {
   "cell_type": "markdown",
   "metadata": {},
   "source": [
    "- class를 이용하여 출력하기"
   ]
  },
  {
   "cell_type": "code",
   "execution_count": 1,
   "metadata": {
    "ExecuteTime": {
     "end_time": "2021-03-06T15:32:10.267408Z",
     "start_time": "2021-03-06T15:32:10.254417Z"
    }
   },
   "outputs": [],
   "source": [
    "class Member:\n",
    "    def __init__(self, name, phone, email, age, grade, etc):\n",
    "        self.name = name\n",
    "        self.phone = phone\n",
    "        self.email = email\n",
    "        self.age = age\n",
    "        self.grade = grade\n",
    "        self.etc = etc\n",
    "    \n",
    "    def __str__(self):\n",
    "        return \"{:>5}\\t{:3}\\t{:15}\\t{:15}\\t{:3}\\t{}\".format(\n",
    "            '*'*self.grade, self.name, self.phone, self.email, self.age, self.etc)\n",
    "    \n",
    "    def to_dict(self):\n",
    "        return {\"name\":self.name, \"phone\":self.phone, \"email\":self.email,\n",
    "               \"age\":self.age, \"grade\":self.grade, \"etc\":self.etc}\n",
    "    \n",
    "def to_member(*row): # 튜플 데이터를 매개변수로 받아 Member형 객체로 변환\n",
    "    return Member(row[0], row[1], row[2], row[3], row[4], row[5])"
   ]
  },
  {
   "cell_type": "code",
   "execution_count": 2,
   "metadata": {
    "ExecuteTime": {
     "end_time": "2021-03-06T15:32:12.012229Z",
     "start_time": "2021-03-06T15:32:11.995239Z"
    }
   },
   "outputs": [],
   "source": [
    "# 1.입력\n",
    "def insert_member_info():\n",
    "    cursor = conn.cursor()\n",
    "    \n",
    "    name = input('이름: ')\n",
    "    phone = input('전화번호: ')\n",
    "    email = input('이메일: ')\n",
    "    try:\n",
    "        age = int(input('나이: '))\n",
    "    except ValueError as e:\n",
    "        print('올바르지 않은 값을 입력시 0으로 초기화합니다.')\n",
    "        age = 0\n",
    "    \n",
    "    try:\n",
    "        grade = int(input('고객등급(1~5): '))\n",
    "        if grade < 0:\n",
    "            grade = 0\n",
    "        elif grade > 5:\n",
    "            grade = 5 \n",
    "    except ValueError as e:\n",
    "        print('올바르지 않은 값을 입력시 1로 초기화합니다.')\n",
    "        grade = 1 \n",
    "    etc = input('기타 정보: ')\n",
    "    \n",
    "    member = Member(name, phone, email, age, grade, etc)\n",
    "    cursor.execute(\"\"\"\n",
    "        INSERT INTO MEMBERS VALUES \n",
    "        (:name, :phone, :email, :age, :grade, :etc)\n",
    "    \"\"\", member.to_dict())\n",
    "    \n",
    "    conn.commit()\n",
    "    cursor.close()"
   ]
  },
  {
   "cell_type": "code",
   "execution_count": 3,
   "metadata": {
    "ExecuteTime": {
     "end_time": "2021-03-06T15:32:13.106842Z",
     "start_time": "2021-03-06T15:32:13.099847Z"
    }
   },
   "outputs": [],
   "source": [
    "# 2. 전체 조회\n",
    "def print_members():\n",
    "    cursor = conn.cursor()\n",
    "    cursor.execute(\"SELECT * FROM MEMBERS\")\n",
    "    members = cursor.fetchall()\n",
    "    \n",
    "    print('='*70)\n",
    "    print(\"{:^70}\".format(\"고객 정보\"))\n",
    "    print('-'*70)\n",
    "    print(\"{}\\t{}\\t{}\\t\\t{}\\t\\t{}\\t{}\".format(\n",
    "            \"GRADE\",\"이름\",\"전화\",\"메일\",\"나이\",\"기타\"))\n",
    "    print('='*70)    \n",
    "    for member in members:\n",
    "        print(to_member(*member))\n",
    "    \n",
    "    if len(members) == 0:\n",
    "        print('저장된 회원이 없습니다.')\n",
    "    print('='*70)\n",
    "    \n",
    "    cursor.close()"
   ]
  },
  {
   "cell_type": "code",
   "execution_count": 4,
   "metadata": {
    "ExecuteTime": {
     "end_time": "2021-03-06T15:32:13.986305Z",
     "start_time": "2021-03-06T15:32:13.972314Z"
    }
   },
   "outputs": [],
   "source": [
    "# 3. 이름 검색 \n",
    "def search_member():\n",
    "    cursor = conn.cursor()\n",
    "    \n",
    "    name = input(\"이름: \")\n",
    "    cursor.execute(\"SELECT * FROM MEMBERS WHERE NAME = ?\", (name,))\n",
    "    members = cursor.fetchall()\n",
    "    for member in members:\n",
    "        print(to_member(*member))\n",
    "    if len(members) == 0:\n",
    "        print('해당 이름의 회원이 존재하지 않습니다.')"
   ]
  },
  {
   "cell_type": "code",
   "execution_count": 5,
   "metadata": {
    "ExecuteTime": {
     "end_time": "2021-03-06T15:32:15.104575Z",
     "start_time": "2021-03-06T15:32:15.087588Z"
    }
   },
   "outputs": [],
   "source": [
    "# 4. 메일로 삭제하기\n",
    "def delete_member():\n",
    "    cursor = conn.cursor()\n",
    "    \n",
    "    email = input('이메일: ')\n",
    "    cursor.execute(\"SELECT * FROM MEMBERS WHERE EMAIL=:email\", {'email':email})\n",
    "    members = cursor.fetchall()\n",
    "    \n",
    "    if len(members) != 0:\n",
    "        cursor.execute('DELETE FROM MEMBERS WHERE EMAIL=:email', {'email':email})\n",
    "        conn.commit()\n",
    "        print('요청하신 정보를 삭제하였습니다.')\n",
    "    else: \n",
    "        print('요청하신 메일이 데이터에 존재하지 않습니다.')\n",
    "    cursor.close()"
   ]
  },
  {
   "cell_type": "code",
   "execution_count": 10,
   "metadata": {
    "ExecuteTime": {
     "end_time": "2021-03-06T15:35:44.815953Z",
     "start_time": "2021-03-06T15:35:44.799963Z"
    }
   },
   "outputs": [],
   "source": [
    "# 5. 데이터베이스에서 조회한 정보를 CSV파일로 저장 \n",
    "def export_csv_member():\n",
    "    import csv\n",
    "    \n",
    "    filename = input('파일명(csv확장자 포함): ')\n",
    "    cursor = conn.cursor()\n",
    "    cursor.execute('SELECT * FROM MEMBERS')\n",
    "    members = cursor.fetchall()\n",
    "    colnames = [row[0] for row in cursor.description]\n",
    "    # colnames = [row[0].lower() for row in cursor.description]\n",
    "    cursor.close()\n",
    "    \n",
    "    with open(filename, 'w', newline='', encoding='utf8') as file:\n",
    "        w = csv.writer(file)\n",
    "        w.writerow(colnames)\n",
    "        w.writerows(members)"
   ]
  },
  {
   "cell_type": "code",
   "execution_count": 7,
   "metadata": {
    "ExecuteTime": {
     "end_time": "2021-03-06T15:32:17.957967Z",
     "start_time": "2021-03-06T15:32:17.944976Z"
    }
   },
   "outputs": [],
   "source": [
    "# 메인 함수\n",
    "def main():\n",
    "    while True:\n",
    "        print(\"1:입력\", \"2:전체 출력\", \"3: 이름 검색\", \n",
    "             \"4:메일 삭제\", \"5: 내보내기(CSV)\", \"0:종료\",\n",
    "             sep = \" | \", end = \"\")\n",
    "        menu = int(input(\"메뉴 선택: \"))\n",
    "    \n",
    "        if menu == 1:\n",
    "            insert_member_info()\n",
    "        elif menu == 2:\n",
    "            print_members()\n",
    "        elif menu == 3:\n",
    "            search_member()\n",
    "        elif menu == 4:\n",
    "            delete_member()\n",
    "        elif menu == 5:\n",
    "            export_csv_member()\n",
    "        elif menu == 0:\n",
    "            conn.close()\n",
    "            break;"
   ]
  },
  {
   "cell_type": "code",
   "execution_count": 12,
   "metadata": {
    "ExecuteTime": {
     "end_time": "2021-03-06T15:37:22.271927Z",
     "start_time": "2021-03-06T15:36:05.402830Z"
    }
   },
   "outputs": [
    {
     "name": "stdout",
     "output_type": "stream",
     "text": [
      "1:입력 | 2:전체 출력 | 3: 이름 검색 | 4:메일 삭제 | 5: 내보내기(CSV) | 0:종료메뉴 선택: 2\n",
      "======================================================================\n",
      "                                고객 정보                                 \n",
      "----------------------------------------------------------------------\n",
      "GRADE\t이름\t전화\t\t메일\t\t나이\t기타\n",
      "======================================================================\n",
      "    *\tSong\t010            \tsong@si.com    \t  3\tfriend\n",
      "   **\tShin\t011            \tshin@hj.com    \t 30\tfriend\n",
      "======================================================================\n",
      "1:입력 | 2:전체 출력 | 3: 이름 검색 | 4:메일 삭제 | 5: 내보내기(CSV) | 0:종료메뉴 선택: 1\n",
      "이름: Park\n",
      "전화번호: 012\n",
      "이메일: park@sa.com\n",
      "나이: 30\n",
      "고객등급(1~5): 3\n",
      "기타 정보: friend\n",
      "1:입력 | 2:전체 출력 | 3: 이름 검색 | 4:메일 삭제 | 5: 내보내기(CSV) | 0:종료메뉴 선택: 2\n",
      "======================================================================\n",
      "                                고객 정보                                 \n",
      "----------------------------------------------------------------------\n",
      "GRADE\t이름\t전화\t\t메일\t\t나이\t기타\n",
      "======================================================================\n",
      "    *\tSong\t010            \tsong@si.com    \t  3\tfriend\n",
      "   **\tShin\t011            \tshin@hj.com    \t 30\tfriend\n",
      "  ***\tPark\t012            \tpark@sa.com    \t 30\tfriend\n",
      "======================================================================\n",
      "1:입력 | 2:전체 출력 | 3: 이름 검색 | 4:메일 삭제 | 5: 내보내기(CSV) | 0:종료메뉴 선택: 3\n",
      "이름: park\n",
      "해당 이름의 회원이 존재하지 않습니다.\n",
      "1:입력 | 2:전체 출력 | 3: 이름 검색 | 4:메일 삭제 | 5: 내보내기(CSV) | 0:종료메뉴 선택: 4\n",
      "이메일: pak@sa.com\n",
      "요청하신 메일이 데이터에 존재하지 않습니다.\n",
      "1:입력 | 2:전체 출력 | 3: 이름 검색 | 4:메일 삭제 | 5: 내보내기(CSV) | 0:종료메뉴 선택: 5\n",
      "파일명(csv확장자 포함): member.csv\n",
      "1:입력 | 2:전체 출력 | 3: 이름 검색 | 4:메일 삭제 | 5: 내보내기(CSV) | 0:종료메뉴 선택: 0\n"
     ]
    }
   ],
   "source": [
    "# 실행 \n",
    "if __name__ == '__main__':\n",
    "    import sqlite3\n",
    "    global conn\n",
    "    conn = sqlite3.connect('data/data.db')\n",
    "    main()"
   ]
  },
  {
   "cell_type": "markdown",
   "metadata": {},
   "source": [
    "**class를 이용하지 않고 출력하기**"
   ]
  },
  {
   "cell_type": "code",
   "execution_count": null,
   "metadata": {
    "ExecuteTime": {
     "end_time": "2021-03-20T15:11:26.391970Z",
     "start_time": "2021-03-20T14:56:06.092Z"
    }
   },
   "outputs": [],
   "source": [
    "# 1. 입력 \n",
    "def insert_member_info():\n",
    "    cursor = conn.cursor()\n",
    "    \n",
    "    name = input('이름: ')\n",
    "    phone = input('전화번호: ')\n",
    "    email = input('이메일: ')\n",
    "    try:\n",
    "        age = int(input('나이: '))\n",
    "    except ValueError as e:\n",
    "        print('유효하지 않은 값 입력 시, 값은 0으로 초기화됩니다.')\n",
    "        age = 0\n",
    "    \n",
    "    try:\n",
    "        grade = int(input('고객등급(1~5): '))\n",
    "        if grade < 0:\n",
    "            grade = 0\n",
    "        elif grade > 5:\n",
    "            grade = 5\n",
    "    except ValueError as e:\n",
    "        print('유효하지 않은 값 입력시, 값은 1로 초기화됩니다.')\n",
    "        grade = 1\n",
    "    \n",
    "    etc = input('기타정보: ')\n",
    "    \n",
    "    cursor execute(\"\"\"\n",
    "        INSERT INTO member VALUES \n",
    "            (:name, :phone, :email, :age, :grade, :etc)\"\"\", \n",
    "        {'name':name, 'phone':phone, 'email':email,\n",
    "         'age':age, 'grade':grade, 'etc',:etc})\n",
    "    conn.commit\n",
    "    cursor.close()"
   ]
  },
  {
   "cell_type": "code",
   "execution_count": null,
   "metadata": {
    "ExecuteTime": {
     "end_time": "2021-03-20T15:11:26.400965Z",
     "start_time": "2021-03-20T15:01:53.844Z"
    }
   },
   "outputs": [],
   "source": [
    "# 2. 전체 출력 \n",
    "def print_members():\n",
    "    cursor = conn.cursor()\n",
    "    cursor.execute(\"SELECT * FROM MEMBER\")\n",
    "    members = cursor.fetchall()\n",
    "    \n",
    "    print('='*70)\n",
    "    print(\"{:^70}\".format('고객 정보'))\n",
    "    print('-'*70)\n",
    "    print(\"{}\\t{}\\t{}\\t\\t{}\\t\\t{}\\t{}\".format('GRADE', '이름', '전화', '메일', '나이', '기타'))\n",
    "    print('='*70)\n",
    "    \n",
    "    for member in members:\n",
    "        print(\"{}\\t{}\\t{}\\t\\t{}\\t\\t{}\\t{}\".format('*'*int(member[4]), member[0], member[1], \n",
    "                                                  member[2], member[3], member[5]))\n",
    "    if len(members) == 0:\n",
    "        print('회원 정보가 없습니다.')\n",
    "    print('='*70)\n",
    "    \n",
    "    cursur.close()        "
   ]
  },
  {
   "cell_type": "code",
   "execution_count": null,
   "metadata": {
    "ExecuteTime": {
     "end_time": "2021-03-20T15:11:26.421952Z",
     "start_time": "2021-03-20T15:04:38.372Z"
    }
   },
   "outputs": [],
   "source": [
    "# 3. 이름 찾기\n",
    "def search_member():\n",
    "    cursur = conn.cursor()\n",
    "    name = input('이름 검색: ')\n",
    "    cursor.execute(\"SELECT * FROM MEMBER WHERE NAME=?\", (name,))\n",
    "    members = cursor.fetchall()\n",
    "    \n",
    "    for member in members:\n",
    "        print(\"{}\\t{}\\t{}\\t\\t{}\\t\\t{}\\t{}\".format('*'*int(member[4]), member[0], member[1], \n",
    "                                                  member[2], member[3], member[5]))\n",
    "    if len(members) == 0:\n",
    "        print('검색하신 이름을 찾을 수 없습니다.')"
   ]
  },
  {
   "cell_type": "code",
   "execution_count": null,
   "metadata": {
    "ExecuteTime": {
     "end_time": "2021-03-20T15:11:26.428948Z",
     "start_time": "2021-03-20T15:07:51.161Z"
    }
   },
   "outputs": [],
   "source": [
    "# 4. 메일 삭제 \n",
    "def delete_member():\n",
    "    cursor = conn.cursor()\n",
    "    email = input(\"삭제할 회원 이메일: \")\n",
    "    cursor.execute('SELECT * FROM MEMBER WHERE EMAIL=:email', {'email':email})\n",
    "    members = cursur.fetchall()\n",
    "    \n",
    "    if len(members) != 0:\n",
    "        cursor.execute('DELETE FROM MEMBER WHERE EMAIL=:email',{'email':email})\n",
    "        conn.commit()\n",
    "        print('요청하신 회원을 삭제하였습니다.')\n",
    "    else:\n",
    "        print('검색하신 이메일을 찾을 수 없습니다.')\n",
    "    \n",
    "    cursor.close()"
   ]
  },
  {
   "cell_type": "code",
   "execution_count": null,
   "metadata": {
    "ExecuteTime": {
     "end_time": "2021-03-20T15:11:26.438941Z",
     "start_time": "2021-03-20T15:11:09.996Z"
    }
   },
   "outputs": [],
   "source": [
    "# 5. 내보내기(csv)\n",
    "def export_csv_member():\n",
    "    file_name = input('파일명(csv확장자 포함): ')\n",
    "    cursor = conn.cursor()\n",
    "    cursor.execute(\"SELECT * FROM MEMBER\")\n",
    "    members = cursor.fetchall()\n",
    "    colnames = [row[0] for row in cursor.description]\n",
    "    # colnames = [row[0].lower() for row in cursor.description]\n",
    "    corsur.close()\n",
    "    \n",
    "    import csv\n",
    "    with open(file_name, 'w', newline='', encoding='UTF8') as file:\n",
    "        w = csv.writer(file)\n",
    "        w.writerow(colnames)\n",
    "        w.writerows(members)"
   ]
  },
  {
   "cell_type": "code",
   "execution_count": 3,
   "metadata": {
    "ExecuteTime": {
     "end_time": "2021-03-20T14:50:29.743689Z",
     "start_time": "2021-03-20T14:50:29.736692Z"
    }
   },
   "outputs": [],
   "source": [
    "def main():\n",
    "    while True:\n",
    "        print(\"1:입력\", \"2:전체출력\", \"3:이름찾기\", \"4:메일삭제\", \n",
    "              \"5:내보내기(CSV)\", \"0:종료\", sep=\"|\", end=\"\")\n",
    "        menu = int(input('메뉴 선택: '))\n",
    "        \n",
    "        if menu == 1:\n",
    "            insert_member_info()\n",
    "        elif menu == 2:\n",
    "            print_members()\n",
    "        elif menu == 3:\n",
    "            search_member()\n",
    "        elif menu == 4:\n",
    "            delete_member()\n",
    "        elif menu == 5:\n",
    "            export_csv_member()\n",
    "        elif menu == 0:\n",
    "            conn.close()\n",
    "            break;"
   ]
  },
  {
   "cell_type": "code",
   "execution_count": null,
   "metadata": {
    "ExecuteTime": {
     "start_time": "2021-03-20T15:11:46.617Z"
    }
   },
   "outputs": [
    {
     "name": "stdout",
     "output_type": "stream",
     "text": [
      "1:입력|2:전체출력|3:이름찾기|4:메일삭제|5:내보내기(CSV)|0:종료"
     ]
    }
   ],
   "source": [
    "if __name__=='__main__':\n",
    "    import sqlite3\n",
    "    global conn\n",
    "    conn = sqlite3.connect('data.db')\n",
    "    main()"
   ]
  }
 ],
 "metadata": {
  "kernelspec": {
   "display_name": "Python 3",
   "language": "python",
   "name": "python3"
  },
  "language_info": {
   "codemirror_mode": {
    "name": "ipython",
    "version": 3
   },
   "file_extension": ".py",
   "mimetype": "text/x-python",
   "name": "python",
   "nbconvert_exporter": "python",
   "pygments_lexer": "ipython3",
   "version": "3.8.5"
  },
  "toc": {
   "base_numbering": 1,
   "nav_menu": {},
   "number_sections": true,
   "sideBar": true,
   "skip_h1_title": false,
   "title_cell": "Table of Contents",
   "title_sidebar": "Contents",
   "toc_cell": false,
   "toc_position": {},
   "toc_section_display": true,
   "toc_window_display": false
  },
  "varInspector": {
   "cols": {
    "lenName": 16,
    "lenType": 16,
    "lenVar": 40
   },
   "kernels_config": {
    "python": {
     "delete_cmd_postfix": "",
     "delete_cmd_prefix": "del ",
     "library": "var_list.py",
     "varRefreshCmd": "print(var_dic_list())"
    },
    "r": {
     "delete_cmd_postfix": ") ",
     "delete_cmd_prefix": "rm(",
     "library": "var_list.r",
     "varRefreshCmd": "cat(var_dic_list()) "
    }
   },
   "types_to_exclude": [
    "module",
    "function",
    "builtin_function_or_method",
    "instance",
    "_Feature"
   ],
   "window_display": false
  }
 },
 "nbformat": 4,
 "nbformat_minor": 4
}
