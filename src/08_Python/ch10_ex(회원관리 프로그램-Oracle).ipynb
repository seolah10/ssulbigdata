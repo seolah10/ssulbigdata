{
 "cells": [
  {
   "cell_type": "code",
   "execution_count": 1,
   "metadata": {
    "ExecuteTime": {
     "end_time": "2021-03-20T15:16:50.494305Z",
     "start_time": "2021-03-20T15:16:50.475318Z"
    }
   },
   "outputs": [
    {
     "data": {
      "text/html": [
       "\n",
       "<style>\n",
       "div.container{width:100% !important;}\n",
       "div.CodeMirror {font-family:Consolas; font-size:10pt;}\n",
       "div.output {font-size:10pt;}\n",
       "div.input {font-family:Consolas; font-size:10pt;}\n",
       "div.prompt {min-width:70px;}\n",
       "</style>\n"
      ],
      "text/plain": [
       "<IPython.core.display.HTML object>"
      ]
     },
     "metadata": {},
     "output_type": "display_data"
    }
   ],
   "source": [
    "from IPython.display import display, HTML\n",
    "display(HTML(\"\"\"\n",
    "<style>\n",
    "div.container{width:100% !important;}\n",
    "div.CodeMirror {font-family:Consolas; font-size:10pt;}\n",
    "div.output {font-size:10pt;}\n",
    "div.input {font-family:Consolas; font-size:10pt;}\n",
    "div.prompt {min-width:70px;}\n",
    "</style>\n",
    "\"\"\"))"
   ]
  },
  {
   "cell_type": "markdown",
   "metadata": {},
   "source": [
    "- class를 이용하여 출력하기 "
   ]
  },
  {
   "cell_type": "code",
   "execution_count": 38,
   "metadata": {
    "ExecuteTime": {
     "end_time": "2021-03-06T16:16:46.836793Z",
     "start_time": "2021-03-06T16:16:46.818804Z"
    }
   },
   "outputs": [],
   "source": [
    "class Member:\n",
    "    def __init__(self, name, phone, email, age, grade, etc):\n",
    "        self.name = name\n",
    "        self.phone = phone\n",
    "        self.email = email\n",
    "        self.age = age\n",
    "        self.grade = grade\n",
    "        self.etc = etc\n",
    "    \n",
    "    def __str__(self):\n",
    "        return \"{:>5}\\t{:3}\\t{:15}\\t{:15}\\t{:3}\\t{}\".format(\n",
    "            '*'*self.grade, self.name, self.phone, \n",
    "                self.email,self.age, self.etc)\n",
    "    \n",
    "    def to_dict(self):\n",
    "        return {\"name\":self.name, \"phone\":self.phone,\n",
    "               \"email\":self.email, \"age\":self.age,\n",
    "               \"grade\":self.grade, \"etc\":self.etc}\n",
    "    \n",
    "\n",
    "def to_member(*row):\n",
    "    return Member(row[0], row[1], row[2], row[3], row[4], row[5])"
   ]
  },
  {
   "cell_type": "code",
   "execution_count": 39,
   "metadata": {
    "ExecuteTime": {
     "end_time": "2021-03-06T16:16:48.767030Z",
     "start_time": "2021-03-06T16:16:48.751042Z"
    }
   },
   "outputs": [],
   "source": [
    "# 1. 입력\n",
    "def insert_member_info():\n",
    "    cursor = conn.cursor()\n",
    "    \n",
    "    name = input(\"이름: \")\n",
    "    phone = input(\"전화번호: \")\n",
    "    email = input(\"이메일: \")\n",
    "    try:\n",
    "        age = int(input('나이: '))\n",
    "    except ValueError as e:\n",
    "        print('유효하지 않은 나이 입력시 나이는 0으로 초기화')\n",
    "        age = 0\n",
    "    try:\n",
    "        grade = int(input('고객등급(1~5): '))\n",
    "        if grade < 0:\n",
    "            grade = 0\n",
    "        elif grade > 5:\n",
    "            grade = 5\n",
    "    except ValueError as e:\n",
    "        print('유효하지 않은 등급을 입력시 등급은 1로 초기화')\n",
    "        grade = 1\n",
    "    etc = input('기타: ')\n",
    "    \n",
    "    member = Member(name, phone, email, age, grade, etc)\n",
    "    cursor.execute(\"\"\"\n",
    "        INSERT INTO MEMBER VALUES\n",
    "        (:name, :phone, :email, :age, :grade, :etc)\n",
    "    \"\"\", member.to_dict())\n",
    "    \n",
    "    conn.commit()\n",
    "    conn.close()"
   ]
  },
  {
   "cell_type": "code",
   "execution_count": null,
   "metadata": {
    "ExecuteTime": {
     "end_time": "2021-03-06T16:18:35.900800Z",
     "start_time": "2021-03-06T16:18:30.814Z"
    }
   },
   "outputs": [],
   "source": [
    "# 2. 전체 조회 \n",
    "def print_members():\n",
    "    cursor = conn.cursor()\n",
    "    cursor.execute(\"SELECT * FROM MEMBER\")\n",
    "    members = cursor.fetchall()\n",
    "    \n",
    "    members = cursor.fetchall()\n",
    "    print('='*70)\n",
    "    print(\"{:^70}\".format(\"고객 정보\"))\n",
    "    print('-'*70)\n",
    "    print(\"{}\\t{}\\t{}\\t\\t{}\\t\\t{}\\t{}\".format\n",
    "          (\"GRADE\",\"이름\",\"전화\",\"메일\",\"나이\",\"기타\"))\n",
    "    print('='*70)\n",
    "    for member in members:\n",
    "        print(to_member(*member))\n",
    "    if len(members) == 0:\n",
    "        print('저장된 회원이 없습니다.')\n",
    "    print('='*70)\n",
    "    \n",
    "    cursor.close()"
   ]
  },
  {
   "cell_type": "code",
   "execution_count": 50,
   "metadata": {
    "ExecuteTime": {
     "end_time": "2021-03-06T16:19:53.402518Z",
     "start_time": "2021-03-06T16:19:53.387529Z"
    }
   },
   "outputs": [],
   "source": [
    "# 3.이름 찾기 \n",
    "def search_member():\n",
    "    cursor = conn.cursor()\n",
    "    \n",
    "    name = input('이름: ')\n",
    "    corsur.execute(\"SELECT * FROM MEMBER WHERE NAME =:name\", {'name':name})\n",
    "    members = cursor.fetchall()\n",
    "    \n",
    "    for member in members:\n",
    "        print(to_member(*member))\n",
    "    if len(members) == 0:\n",
    "        print('해당 이름의 회원이 조회되지 않습니다.')"
   ]
  },
  {
   "cell_type": "code",
   "execution_count": 42,
   "metadata": {
    "ExecuteTime": {
     "end_time": "2021-03-06T16:16:51.397313Z",
     "start_time": "2021-03-06T16:16:51.391316Z"
    }
   },
   "outputs": [],
   "source": [
    "# 4. 메일로 삭제하기\n",
    "def delete_member():\n",
    "    cursor = conn.cursor()\n",
    "    \n",
    "    email = input(\"이메일: \")\n",
    "    cursor.execute(\"SELECT * FROM MEMBER WHERE EMAIL=:email\",\n",
    "                   {'email':email})\n",
    "    members = cursor.fetchall()\n",
    "    \n",
    "    if len(members) != 0:\n",
    "        cursor.execute(\"DELETE FROM MEMBER WHERE EMAIL=:emali\",\n",
    "                      {'email':email})\n",
    "        conn.commit()\n",
    "        print('요청하신 정보를 삭제하였습니다.')\n",
    "    else:\n",
    "        print('요청하신 정보가 존재하지 않습니다.')"
   ]
  },
  {
   "cell_type": "code",
   "execution_count": 43,
   "metadata": {
    "ExecuteTime": {
     "end_time": "2021-03-06T16:16:52.159551Z",
     "start_time": "2021-03-06T16:16:52.144562Z"
    }
   },
   "outputs": [],
   "source": [
    "# 5. csv파일로 내보내기 \n",
    "def export_csv_member():\n",
    "    filename = input('파일명(csv확장자 포함): ')\n",
    "    cursor = conn.cursor()\n",
    "    cursor.execute(\"SELECT * FROM MEMBER\")\n",
    "    members = cursor.fetchall()\n",
    "    colnames = [row[0] for row in cursor.description]\n",
    "    cursor.close()\n",
    "    \n",
    "    import csv\n",
    "    \n",
    "    with open(filename, 'w', newline='', encoding='utf8') as file:\n",
    "        w = csv.writer(file)\n",
    "        w.writerow(colnames)\n",
    "        w.writerow(members)"
   ]
  },
  {
   "cell_type": "code",
   "execution_count": 44,
   "metadata": {
    "ExecuteTime": {
     "end_time": "2021-03-06T16:16:52.853616Z",
     "start_time": "2021-03-06T16:16:52.841626Z"
    }
   },
   "outputs": [],
   "source": [
    "def main():\n",
    "    while True:\n",
    "        print(\"1:입력\", \"2:전체출력\", \"3:이름찾기\", \"4:메일삭제\",\n",
    "              \"5:내보내기(CSV)\", \"0:종료\", sep=\"|\", end=\"\")\n",
    "        menu = int(input(\"메뉴 선택: \"))\n",
    "        \n",
    "        if menu == 1:\n",
    "            insert_member_info()\n",
    "        elif menu == 2:\n",
    "            print_members()\n",
    "        elif menu == 3:\n",
    "            search_member()\n",
    "        elif menu == 4:\n",
    "            delete_member()\n",
    "        elif menu == 5:\n",
    "            export_csv_member()\n",
    "        elif menu == 0:\n",
    "            conn.close()\n",
    "            break;"
   ]
  },
  {
   "cell_type": "code",
   "execution_count": null,
   "metadata": {
    "ExecuteTime": {
     "start_time": "2021-03-06T16:20:33.607Z"
    }
   },
   "outputs": [
    {
     "name": "stdout",
     "output_type": "stream",
     "text": [
      "1:입력|2:전체출력|3:이름찾기|4:메일삭제|5:내보내기(CSV)|0:종료"
     ]
    }
   ],
   "source": [
    "if __name__ == '__main__':\n",
    "    import cx_Oracle\n",
    "    global conn\n",
    "    oracle_dsn = cx_Oracle.makedsn(host='localhost', port=1521, sid='xe')\n",
    "    conn = cx_Oracle.connect('scott', 'tiger', dsn=oracle_dsn)\n",
    "    main()"
   ]
  },
  {
   "cell_type": "markdown",
   "metadata": {},
   "source": [
    "- 클래스를 이용하지 않고 출력"
   ]
  },
  {
   "cell_type": "code",
   "execution_count": 8,
   "metadata": {
    "ExecuteTime": {
     "end_time": "2021-03-20T15:22:06.326023Z",
     "start_time": "2021-03-20T15:22:06.304037Z"
    }
   },
   "outputs": [],
   "source": [
    "# 1. 입력 \n",
    "def insert_member_info():\n",
    "    cursor = conn.cursor()\n",
    "    name = input('이름: ')\n",
    "    phone = input('전화번호: ')\n",
    "    email = input('이메일: ')\n",
    "    try:\n",
    "        age = int(input('나이: '))\n",
    "    except ValueError as e:\n",
    "        print('유효하지 않은 값 입력시 나이는 0으로 초기화')\n",
    "        age = 0\n",
    "    try:\n",
    "        grade = int(input(\"고객등급(1~5) : \"))\n",
    "        if grade<0:\n",
    "            grade = 0\n",
    "        elif grade > 5:\n",
    "            grade = 5\n",
    "    except ValueError as e:\n",
    "        print('유효하지 않은 등급을 입력시 등급은 1로 초기화')\n",
    "        grade = 1\n",
    "    etc = input(\"기타 정보 : \")\n",
    "    cursor.execute(\"\"\"\n",
    "        INSERT INTO member VALUES\n",
    "            (:name, :phone, :email, :age, :grade, :etc)\n",
    "        \"\"\", {'name':name, 'phone':phone, 'email':email, \n",
    "              'age':age, 'grade':grade, 'etc':etc})\n",
    "    conn.commit()\n",
    "    cursor.close()"
   ]
  },
  {
   "cell_type": "code",
   "execution_count": 9,
   "metadata": {
    "ExecuteTime": {
     "end_time": "2021-03-20T15:22:26.339310Z",
     "start_time": "2021-03-20T15:22:26.329317Z"
    }
   },
   "outputs": [],
   "source": [
    "# 2. 전체 출력 \n",
    "def print_members():\n",
    "    cursor = conn.cursor()\n",
    "    cursor.execute(\"SELECT * FROM MEMBER\")\n",
    "    members = cursor.fetchall()\n",
    "    print('='*70)\n",
    "    print(\"{:^70}\".format(\"고객 정보\"))\n",
    "    print('-'*70)\n",
    "    print(\"{}\\t{}\\t{}\\t\\t{}\\t\\t{}\\t{}\".format(\"GRADE\",\n",
    "                                    \"이름\",\"전화\",\"메일\",\"나이\",\"기타\"))\n",
    "    print('='*70)\n",
    "    for member in members:\n",
    "        print(\"{}\\t{}\\t{}\\t\\t{}\\t\\t{}\\t{}\".format('*'*int(member[4]),member[0],\n",
    "                                    member[1],member[2],member[3],member[5]))\n",
    "    if len(members)==0:\n",
    "        print(\"저장된 회원이 없습니다\") \n",
    "    print('='*70)\n",
    "    cursor.close()"
   ]
  },
  {
   "cell_type": "code",
   "execution_count": 11,
   "metadata": {
    "ExecuteTime": {
     "end_time": "2021-03-20T15:22:48.643856Z",
     "start_time": "2021-03-20T15:22:48.622870Z"
    }
   },
   "outputs": [],
   "source": [
    "# 3. 이름 찾기\n",
    "def search_member():\n",
    "    cursor = conn.cursor()\n",
    "    name = input('검색할 이름을 입력하세요 ')\n",
    "    cursor.execute(\"SELECT * FROM member WHERE NAME=:name\", {'name':name})\n",
    "    members = cursor.fetchall()\n",
    "    for member in members:\n",
    "        print(\"{}\\t{}\\t{}\\t\\t{}\\t\\t{}\\t{}\".format('*'*int(member[4]),member[0],\n",
    "                                    member[1],member[2],member[3],member[5]))\n",
    "    if len(members)==0:\n",
    "        print(\"해당 이름의 회원이 조회되지 않습니다\")"
   ]
  },
  {
   "cell_type": "code",
   "execution_count": 12,
   "metadata": {
    "ExecuteTime": {
     "end_time": "2021-03-20T15:23:05.907148Z",
     "start_time": "2021-03-20T15:23:05.896155Z"
    }
   },
   "outputs": [],
   "source": [
    "# 4. 메일 삭제 \n",
    "def delete_member():\n",
    "    cursor = conn.cursor()\n",
    "    email = input('삭제할 회원의 이메일을 입력하세요 ')\n",
    "    cursor.execute('SELECT * FROM MEMBER WHERE EMAIL=:email',{'email':email})\n",
    "    members = cursor.fetchall()\n",
    "    if len(members) != 0 :\n",
    "        cursor.execute('DELETE FROM MEMBER WHERE EMAIL=:email',{'email':email})\n",
    "        conn.commit()\n",
    "        print('요청하신 메일을 삭제하였습니다')\n",
    "    else :\n",
    "        print('요청하신 메일이 데이터에 존재하지 않습니다')\n",
    "    cursor.close()"
   ]
  },
  {
   "cell_type": "code",
   "execution_count": 13,
   "metadata": {
    "ExecuteTime": {
     "end_time": "2021-03-20T15:23:31.450956Z",
     "start_time": "2021-03-20T15:23:31.442959Z"
    }
   },
   "outputs": [],
   "source": [
    "# 5. 내보내기(csv)\n",
    "def export_csv_member():\n",
    "    file_name = input('파일명을 입력하세요(csv 확장자 포함)')\n",
    "    cursor = conn.cursor()\n",
    "    cursor.execute('SELECT * FROM MEMBER')\n",
    "    members = cursor.fetchall()\n",
    "    colnames = [row[0] for row in cursor.description ]\n",
    "    cursor.close()\n",
    "    import csv\n",
    "    with open(file_name, 'w', newline='', encoding='UTF8') as file:\n",
    "        w = csv.writer(file)\n",
    "        w.writerow(colnames)\n",
    "        w.writerows(members)"
   ]
  },
  {
   "cell_type": "code",
   "execution_count": 7,
   "metadata": {
    "ExecuteTime": {
     "end_time": "2021-03-20T15:19:26.485270Z",
     "start_time": "2021-03-20T15:19:26.468281Z"
    }
   },
   "outputs": [],
   "source": [
    "def main():\n",
    "    while True:\n",
    "        print(\"1:입력\",\"2:전체출력\",\"3:이름찾기\", \"4:메일삭제\",\"5:내보내기(CSV)\", \n",
    "              \"0:종료\", sep=\"|\", end=\"\")\n",
    "        menu = int(input(\"메뉴 선택 : \"))\n",
    "        if menu == 1:\n",
    "            insert_member_info()\n",
    "        elif menu ==2:\n",
    "            print_members()\n",
    "        elif menu == 3:\n",
    "            search_member()\n",
    "        elif menu == 4:\n",
    "            delete_member()\n",
    "        elif menu == 5:\n",
    "            export_csv_member()\n",
    "        elif menu == 0:\n",
    "            conn.close()\n",
    "            break;"
   ]
  },
  {
   "cell_type": "code",
   "execution_count": null,
   "metadata": {
    "ExecuteTime": {
     "end_time": "2021-03-20T15:19:19.329057Z",
     "start_time": "2021-03-20T15:19:19.311069Z"
    }
   },
   "outputs": [],
   "source": [
    "if __name__=='__main__':\n",
    "    import cx_Oracle\n",
    "    global conn\n",
    "    oracle_dsn = cx_Oracle.makedsn(host='localhost', post=1521, sid='xe')\n",
    "    conn = cx_Oracle.connect(\"scott\", \"tiger\", dsn=oracle_dsn)\n",
    "    main()"
   ]
  }
 ],
 "metadata": {
  "kernelspec": {
   "display_name": "Python 3",
   "language": "python",
   "name": "python3"
  },
  "language_info": {
   "codemirror_mode": {
    "name": "ipython",
    "version": 3
   },
   "file_extension": ".py",
   "mimetype": "text/x-python",
   "name": "python",
   "nbconvert_exporter": "python",
   "pygments_lexer": "ipython3",
   "version": "3.8.5"
  },
  "toc": {
   "base_numbering": 1,
   "nav_menu": {},
   "number_sections": true,
   "sideBar": true,
   "skip_h1_title": false,
   "title_cell": "Table of Contents",
   "title_sidebar": "Contents",
   "toc_cell": false,
   "toc_position": {},
   "toc_section_display": true,
   "toc_window_display": false
  },
  "varInspector": {
   "cols": {
    "lenName": 16,
    "lenType": 16,
    "lenVar": 40
   },
   "kernels_config": {
    "python": {
     "delete_cmd_postfix": "",
     "delete_cmd_prefix": "del ",
     "library": "var_list.py",
     "varRefreshCmd": "print(var_dic_list())"
    },
    "r": {
     "delete_cmd_postfix": ") ",
     "delete_cmd_prefix": "rm(",
     "library": "var_list.r",
     "varRefreshCmd": "cat(var_dic_list()) "
    }
   },
   "types_to_exclude": [
    "module",
    "function",
    "builtin_function_or_method",
    "instance",
    "_Feature"
   ],
   "window_display": false
  }
 },
 "nbformat": 4,
 "nbformat_minor": 4
}
