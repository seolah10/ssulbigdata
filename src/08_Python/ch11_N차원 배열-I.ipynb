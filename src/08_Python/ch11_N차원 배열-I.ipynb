{
 "cells": [
  {
   "cell_type": "markdown",
   "metadata": {},
   "source": [
    "**<font color = \"darkred\" size=\"5\">ch11.N차원 배열-I</font>**"
   ]
  },
  {
   "cell_type": "markdown",
   "metadata": {},
   "source": [
    "- N차원 배열 객체\n",
    "- 행렬 개념으로 이해한다.\n",
    "- C언어로 구성된 고성능 수치계산 패키지 Numpy 이용 \n",
    "- C/C+, 포트란 코드 통합도구"
   ]
  },
  {
   "cell_type": "markdown",
   "metadata": {},
   "source": [
    "# 1. Numpy package"
   ]
  },
  {
   "cell_type": "code",
   "execution_count": 1,
   "metadata": {
    "ExecuteTime": {
     "end_time": "2021-03-13T03:33:56.903173Z",
     "start_time": "2021-03-13T03:33:56.837216Z"
    }
   },
   "outputs": [
    {
     "data": {
      "text/plain": [
       "array([ 0,  1,  2,  3,  4,  5,  6,  7,  8,  9, 10, 11, 12, 13, 14])"
      ]
     },
     "execution_count": 1,
     "metadata": {},
     "output_type": "execute_result"
    }
   ],
   "source": [
    "import numpy as np\n",
    "a = np.arange(15) # 0~14(15 앞)까지 1씩 증가하는 1차원 배열\n",
    "a"
   ]
  },
  {
   "cell_type": "code",
   "execution_count": 2,
   "metadata": {
    "ExecuteTime": {
     "end_time": "2021-03-13T03:33:58.041471Z",
     "start_time": "2021-03-13T03:33:58.024483Z"
    }
   },
   "outputs": [
    {
     "data": {
      "text/plain": [
       "array([[ 0,  1,  2,  3,  4],\n",
       "       [ 5,  6,  7,  8,  9],\n",
       "       [10, 11, 12, 13, 14]])"
      ]
     },
     "execution_count": 2,
     "metadata": {},
     "output_type": "execute_result"
    }
   ],
   "source": [
    "a = np.arange(15).reshape(3,5)\n",
    "a"
   ]
  },
  {
   "cell_type": "code",
   "execution_count": 3,
   "metadata": {
    "ExecuteTime": {
     "end_time": "2021-03-13T03:33:59.038858Z",
     "start_time": "2021-03-13T03:33:59.031863Z"
    }
   },
   "outputs": [
    {
     "data": {
      "text/plain": [
       "numpy.ndarray"
      ]
     },
     "execution_count": 3,
     "metadata": {},
     "output_type": "execute_result"
    }
   ],
   "source": [
    "type(a) # a변수 자체 타입: N차원 배열 "
   ]
  },
  {
   "cell_type": "code",
   "execution_count": 4,
   "metadata": {
    "ExecuteTime": {
     "end_time": "2021-03-13T03:34:01.772488Z",
     "start_time": "2021-03-13T03:34:01.755499Z"
    }
   },
   "outputs": [
    {
     "data": {
      "text/plain": [
       "dtype('int32')"
      ]
     },
     "execution_count": 4,
     "metadata": {},
     "output_type": "execute_result"
    }
   ],
   "source": [
    "a.dtype # a변수 요소들의 type"
   ]
  },
  {
   "cell_type": "code",
   "execution_count": 5,
   "metadata": {
    "ExecuteTime": {
     "end_time": "2021-03-13T03:34:02.739715Z",
     "start_time": "2021-03-13T03:34:02.721728Z"
    }
   },
   "outputs": [
    {
     "data": {
      "text/plain": [
       "'int32'"
      ]
     },
     "execution_count": 5,
     "metadata": {},
     "output_type": "execute_result"
    }
   ],
   "source": [
    "a.dtype.name"
   ]
  },
  {
   "cell_type": "code",
   "execution_count": 6,
   "metadata": {
    "ExecuteTime": {
     "end_time": "2021-03-13T03:34:04.401463Z",
     "start_time": "2021-03-13T03:34:04.390469Z"
    }
   },
   "outputs": [
    {
     "data": {
      "text/plain": [
       "4"
      ]
     },
     "execution_count": 6,
     "metadata": {},
     "output_type": "execute_result"
    }
   ],
   "source": [
    "a.itemsize # 요소 하나하나의 사이즈(byte)"
   ]
  },
  {
   "cell_type": "code",
   "execution_count": 7,
   "metadata": {
    "ExecuteTime": {
     "end_time": "2021-03-13T03:34:05.382312Z",
     "start_time": "2021-03-13T03:34:05.375316Z"
    }
   },
   "outputs": [
    {
     "data": {
      "text/plain": [
       "2"
      ]
     },
     "execution_count": 7,
     "metadata": {},
     "output_type": "execute_result"
    }
   ],
   "source": [
    "a.ndim # 축수(차원수)"
   ]
  },
  {
   "cell_type": "code",
   "execution_count": 8,
   "metadata": {
    "ExecuteTime": {
     "end_time": "2021-03-13T03:34:06.243780Z",
     "start_time": "2021-03-13T03:34:06.236785Z"
    }
   },
   "outputs": [
    {
     "data": {
      "text/plain": [
       "(3, 5)"
      ]
     },
     "execution_count": 8,
     "metadata": {},
     "output_type": "execute_result"
    }
   ],
   "source": [
    "a.shape # 배열 구조"
   ]
  },
  {
   "cell_type": "code",
   "execution_count": 9,
   "metadata": {
    "ExecuteTime": {
     "end_time": "2021-03-13T03:34:07.325414Z",
     "start_time": "2021-03-13T03:34:07.313422Z"
    }
   },
   "outputs": [
    {
     "data": {
      "text/plain": [
       "15"
      ]
     },
     "execution_count": 9,
     "metadata": {},
     "output_type": "execute_result"
    }
   ],
   "source": [
    "a.size # 배열 요소의 총 갯수"
   ]
  },
  {
   "cell_type": "code",
   "execution_count": null,
   "metadata": {},
   "outputs": [],
   "source": [
    "# dtype 속성을 바꾸면 형변환이 되지 않는다."
   ]
  },
  {
   "cell_type": "code",
   "execution_count": 10,
   "metadata": {
    "ExecuteTime": {
     "end_time": "2021-03-13T03:34:10.185999Z",
     "start_time": "2021-03-13T03:34:10.178004Z"
    }
   },
   "outputs": [
    {
     "data": {
      "text/plain": [
       "array([[ 0,  1,  2,  3],\n",
       "       [ 4,  5,  6,  7],\n",
       "       [ 8,  9, 10, 11]])"
      ]
     },
     "execution_count": 10,
     "metadata": {},
     "output_type": "execute_result"
    }
   ],
   "source": [
    "a = np.arange(12).reshape(3,4)\n",
    "a"
   ]
  },
  {
   "cell_type": "code",
   "execution_count": 11,
   "metadata": {
    "ExecuteTime": {
     "end_time": "2021-03-13T03:34:11.098614Z",
     "start_time": "2021-03-13T03:34:11.090621Z"
    }
   },
   "outputs": [
    {
     "data": {
      "text/plain": [
       "12"
      ]
     },
     "execution_count": 11,
     "metadata": {},
     "output_type": "execute_result"
    }
   ],
   "source": [
    "a.size"
   ]
  },
  {
   "cell_type": "code",
   "execution_count": 12,
   "metadata": {
    "ExecuteTime": {
     "end_time": "2021-03-13T03:34:14.918565Z",
     "start_time": "2021-03-13T03:34:14.909572Z"
    }
   },
   "outputs": [
    {
     "data": {
      "text/plain": [
       "dtype('int32')"
      ]
     },
     "execution_count": 12,
     "metadata": {},
     "output_type": "execute_result"
    }
   ],
   "source": [
    "a.dtype"
   ]
  },
  {
   "cell_type": "code",
   "execution_count": 13,
   "metadata": {
    "ExecuteTime": {
     "end_time": "2021-03-13T03:34:15.781526Z",
     "start_time": "2021-03-13T03:34:15.775532Z"
    }
   },
   "outputs": [],
   "source": [
    "a.dtype = np.int64 # a 요소의 dtype을 int64로 "
   ]
  },
  {
   "cell_type": "code",
   "execution_count": 14,
   "metadata": {
    "ExecuteTime": {
     "end_time": "2021-03-13T03:34:16.766724Z",
     "start_time": "2021-03-13T03:34:16.747734Z"
    }
   },
   "outputs": [
    {
     "data": {
      "text/plain": [
       "dtype('int64')"
      ]
     },
     "execution_count": 14,
     "metadata": {},
     "output_type": "execute_result"
    }
   ],
   "source": [
    "a.dtype"
   ]
  },
  {
   "cell_type": "code",
   "execution_count": 15,
   "metadata": {
    "ExecuteTime": {
     "end_time": "2021-03-13T03:34:17.655436Z",
     "start_time": "2021-03-13T03:34:17.635443Z"
    }
   },
   "outputs": [
    {
     "data": {
      "text/plain": [
       "array([[ 4294967296, 12884901890],\n",
       "       [21474836484, 30064771078],\n",
       "       [38654705672, 47244640266]], dtype=int64)"
      ]
     },
     "execution_count": 15,
     "metadata": {},
     "output_type": "execute_result"
    }
   ],
   "source": [
    "a"
   ]
  },
  {
   "cell_type": "code",
   "execution_count": 16,
   "metadata": {
    "ExecuteTime": {
     "end_time": "2021-03-13T03:34:18.477914Z",
     "start_time": "2021-03-13T03:34:18.466920Z"
    }
   },
   "outputs": [
    {
     "data": {
      "text/plain": [
       "6"
      ]
     },
     "execution_count": 16,
     "metadata": {},
     "output_type": "execute_result"
    }
   ],
   "source": [
    "a.size"
   ]
  },
  {
   "cell_type": "markdown",
   "metadata": {},
   "source": [
    "# 2. Numpy 배열 \n",
    "- array()함수를 이용한 다른 파이썬 구조(벡터구조)를 넘파이 배열로 변환\n",
    "- 넘파이 배열을 생성하는 기타 함수들: arange(), ones(), zeros()\n",
    "- 특수 라이브러리 함수(ex - random()) 이용\n",
    "- [넘파이Docs](https://numpy.org/doc/stable/index.html)"
   ]
  },
  {
   "cell_type": "markdown",
   "metadata": {},
   "source": [
    "## (1) array()함수로 넘파이 배열 만들기"
   ]
  },
  {
   "cell_type": "code",
   "execution_count": 17,
   "metadata": {
    "ExecuteTime": {
     "end_time": "2021-03-13T03:34:20.171737Z",
     "start_time": "2021-03-13T03:34:20.156744Z"
    }
   },
   "outputs": [
    {
     "data": {
      "text/plain": [
       "array([2, 4, 6])"
      ]
     },
     "execution_count": 17,
     "metadata": {},
     "output_type": "execute_result"
    }
   ],
   "source": [
    "a = np.array([2,4,6])\n",
    "a"
   ]
  },
  {
   "cell_type": "code",
   "execution_count": 18,
   "metadata": {
    "ExecuteTime": {
     "end_time": "2021-03-13T03:34:21.113020Z",
     "start_time": "2021-03-13T03:34:21.093031Z"
    }
   },
   "outputs": [
    {
     "name": "stdout",
     "output_type": "stream",
     "text": [
      "2\t4\t6\t"
     ]
    }
   ],
   "source": [
    "for i in a:\n",
    "    print(i, end='\\t')"
   ]
  },
  {
   "cell_type": "code",
   "execution_count": 19,
   "metadata": {
    "ExecuteTime": {
     "end_time": "2021-03-13T03:34:22.039053Z",
     "start_time": "2021-03-13T03:34:22.019062Z"
    }
   },
   "outputs": [
    {
     "data": {
      "text/plain": [
       "4"
      ]
     },
     "execution_count": 19,
     "metadata": {},
     "output_type": "execute_result"
    }
   ],
   "source": [
    "a[1]"
   ]
  },
  {
   "cell_type": "code",
   "execution_count": 20,
   "metadata": {
    "ExecuteTime": {
     "end_time": "2021-03-13T03:34:23.631055Z",
     "start_time": "2021-03-13T03:34:23.588085Z"
    }
   },
   "outputs": [
    {
     "data": {
      "text/plain": [
       "array([[1. ],\n",
       "       [6. ],\n",
       "       [9.1]])"
      ]
     },
     "execution_count": 20,
     "metadata": {},
     "output_type": "execute_result"
    }
   ],
   "source": [
    "a = np.array([1,6,9.1]).reshape(3,1)\n",
    "a"
   ]
  },
  {
   "cell_type": "code",
   "execution_count": 21,
   "metadata": {
    "ExecuteTime": {
     "end_time": "2021-03-13T03:34:24.574057Z",
     "start_time": "2021-03-13T03:34:24.558070Z"
    }
   },
   "outputs": [
    {
     "data": {
      "text/plain": [
       "dtype('float64')"
      ]
     },
     "execution_count": 21,
     "metadata": {},
     "output_type": "execute_result"
    }
   ],
   "source": [
    "a.dtype"
   ]
  },
  {
   "cell_type": "code",
   "execution_count": 22,
   "metadata": {
    "ExecuteTime": {
     "end_time": "2021-03-13T03:34:25.460886Z",
     "start_time": "2021-03-13T03:34:25.449892Z"
    }
   },
   "outputs": [
    {
     "data": {
      "text/plain": [
       "'1.19.2'"
      ]
     },
     "execution_count": 22,
     "metadata": {},
     "output_type": "execute_result"
    }
   ],
   "source": [
    "np.__version__"
   ]
  },
  {
   "cell_type": "code",
   "execution_count": 23,
   "metadata": {
    "ExecuteTime": {
     "end_time": "2021-03-13T03:34:26.623018Z",
     "start_time": "2021-03-13T03:34:26.605025Z"
    }
   },
   "outputs": [
    {
     "data": {
      "text/plain": [
       "array([[1. , 2. ],\n",
       "       [3. , 4.1]])"
      ]
     },
     "execution_count": 23,
     "metadata": {},
     "output_type": "execute_result"
    }
   ],
   "source": [
    "a = np.array([1,2,3,4.1]).reshape(2,2) # 2행 2열 2차원 배열\n",
    "a"
   ]
  },
  {
   "cell_type": "code",
   "execution_count": 24,
   "metadata": {
    "ExecuteTime": {
     "end_time": "2021-03-13T03:34:28.013679Z",
     "start_time": "2021-03-13T03:34:27.994691Z"
    }
   },
   "outputs": [
    {
     "data": {
      "text/plain": [
       "dtype('float64')"
      ]
     },
     "execution_count": 24,
     "metadata": {},
     "output_type": "execute_result"
    }
   ],
   "source": [
    "a.dtype"
   ]
  },
  {
   "cell_type": "code",
   "execution_count": 25,
   "metadata": {
    "ExecuteTime": {
     "end_time": "2021-03-13T03:34:28.803411Z",
     "start_time": "2021-03-13T03:34:28.781423Z"
    }
   },
   "outputs": [
    {
     "data": {
      "text/plain": [
       "array([[1, 2, 3],\n",
       "       [4, 5, 6]])"
      ]
     },
     "execution_count": 25,
     "metadata": {},
     "output_type": "execute_result"
    }
   ],
   "source": [
    "b = np.array([[1,2,3],[4,5,6]]) # dtype 자동세팅\n",
    "b"
   ]
  },
  {
   "cell_type": "code",
   "execution_count": 26,
   "metadata": {
    "ExecuteTime": {
     "end_time": "2021-03-13T03:34:29.602470Z",
     "start_time": "2021-03-13T03:34:29.583476Z"
    }
   },
   "outputs": [
    {
     "data": {
      "text/plain": [
       "dtype('int32')"
      ]
     },
     "execution_count": 26,
     "metadata": {},
     "output_type": "execute_result"
    }
   ],
   "source": [
    "b.dtype"
   ]
  },
  {
   "cell_type": "code",
   "execution_count": 27,
   "metadata": {
    "ExecuteTime": {
     "end_time": "2021-03-13T03:34:30.554507Z",
     "start_time": "2021-03-13T03:34:30.534514Z"
    }
   },
   "outputs": [
    {
     "data": {
      "text/plain": [
       "array([[1, 2, 3],\n",
       "       [4, 5, 6]], dtype=int64)"
      ]
     },
     "execution_count": 27,
     "metadata": {},
     "output_type": "execute_result"
    }
   ],
   "source": [
    "b = np.array([[1,2,3],[4,5,6]], dtype=np.int64) # dtype을 인수로 셋팅\n",
    "b"
   ]
  },
  {
   "cell_type": "code",
   "execution_count": 28,
   "metadata": {
    "ExecuteTime": {
     "end_time": "2021-03-13T03:34:32.865467Z",
     "start_time": "2021-03-13T03:34:32.853475Z"
    }
   },
   "outputs": [
    {
     "data": {
      "text/plain": [
       "dtype('int64')"
      ]
     },
     "execution_count": 28,
     "metadata": {},
     "output_type": "execute_result"
    }
   ],
   "source": [
    "b.dtype"
   ]
  },
  {
   "cell_type": "code",
   "execution_count": 29,
   "metadata": {
    "ExecuteTime": {
     "end_time": "2021-03-13T03:34:33.824333Z",
     "start_time": "2021-03-13T03:34:33.817340Z"
    }
   },
   "outputs": [],
   "source": [
    "b = b.astype(np.int32) # dtype 바꾸기"
   ]
  },
  {
   "cell_type": "code",
   "execution_count": 30,
   "metadata": {
    "ExecuteTime": {
     "end_time": "2021-03-13T03:34:34.669069Z",
     "start_time": "2021-03-13T03:34:34.656077Z"
    }
   },
   "outputs": [
    {
     "data": {
      "text/plain": [
       "dtype('int32')"
      ]
     },
     "execution_count": 30,
     "metadata": {},
     "output_type": "execute_result"
    }
   ],
   "source": [
    "b.dtype"
   ]
  },
  {
   "cell_type": "code",
   "execution_count": 31,
   "metadata": {
    "ExecuteTime": {
     "end_time": "2021-03-13T03:34:35.393613Z",
     "start_time": "2021-03-13T03:34:35.343643Z"
    }
   },
   "outputs": [
    {
     "data": {
      "text/plain": [
       "[[1, 2, 3], [4, 5, 6]]"
      ]
     },
     "execution_count": 31,
     "metadata": {},
     "output_type": "execute_result"
    }
   ],
   "source": [
    "list_ = [[1,2,3],[4,5,6]]\n",
    "list_"
   ]
  },
  {
   "cell_type": "code",
   "execution_count": 32,
   "metadata": {
    "ExecuteTime": {
     "end_time": "2021-03-13T03:34:37.239036Z",
     "start_time": "2021-03-13T03:34:37.230042Z"
    }
   },
   "outputs": [
    {
     "name": "stdout",
     "output_type": "stream",
     "text": [
      "1\t2\t3\t\n",
      "4\t5\t6\t\n"
     ]
    }
   ],
   "source": [
    "for row in list_:\n",
    "    for data in row:\n",
    "        print(data, end='\\t')\n",
    "    print()"
   ]
  },
  {
   "cell_type": "code",
   "execution_count": 33,
   "metadata": {
    "ExecuteTime": {
     "end_time": "2021-03-13T03:34:38.093799Z",
     "start_time": "2021-03-13T03:34:38.065813Z"
    }
   },
   "outputs": [
    {
     "name": "stdout",
     "output_type": "stream",
     "text": [
      "0행0열: 1\t0행1열: 2\t0행2열: 3\t\n",
      "1행0열: 4\t1행1열: 5\t1행2열: 6\t\n"
     ]
    }
   ],
   "source": [
    "for i, row in enumerate(list_):\n",
    "    for j, data in enumerate(row):\n",
    "        print(\"{}행{}열: {}\".format(i, j, data), end = '\\t')\n",
    "    print()"
   ]
  },
  {
   "cell_type": "code",
   "execution_count": 34,
   "metadata": {
    "ExecuteTime": {
     "end_time": "2021-03-13T03:34:38.972581Z",
     "start_time": "2021-03-13T03:34:38.961591Z"
    }
   },
   "outputs": [
    {
     "data": {
      "text/plain": [
       "2"
      ]
     },
     "execution_count": 34,
     "metadata": {},
     "output_type": "execute_result"
    }
   ],
   "source": [
    "list_[0][1] # 리스트 인덱싱 "
   ]
  },
  {
   "cell_type": "code",
   "execution_count": 35,
   "metadata": {
    "ExecuteTime": {
     "end_time": "2021-03-13T03:34:40.759575Z",
     "start_time": "2021-03-13T03:34:40.744586Z"
    }
   },
   "outputs": [
    {
     "data": {
      "text/plain": [
       "[1, 2]"
      ]
     },
     "execution_count": 35,
     "metadata": {},
     "output_type": "execute_result"
    }
   ],
   "source": [
    "list_[0][0:2] # 리스트 인덱싱 슬라이싱 "
   ]
  },
  {
   "cell_type": "code",
   "execution_count": 36,
   "metadata": {
    "ExecuteTime": {
     "end_time": "2021-03-13T03:34:41.547616Z",
     "start_time": "2021-03-13T03:34:41.536626Z"
    }
   },
   "outputs": [
    {
     "data": {
      "text/plain": [
       "array([[1, 2, 3],\n",
       "       [4, 5, 6]], dtype=int16)"
      ]
     },
     "execution_count": 36,
     "metadata": {},
     "output_type": "execute_result"
    }
   ],
   "source": [
    "b = np.array([[1,2,3],[4,5,6]], dtype=np.int16)\n",
    "b"
   ]
  },
  {
   "cell_type": "code",
   "execution_count": 37,
   "metadata": {
    "ExecuteTime": {
     "end_time": "2021-03-13T03:34:42.238654Z",
     "start_time": "2021-03-13T03:34:42.223660Z"
    }
   },
   "outputs": [
    {
     "name": "stdout",
     "output_type": "stream",
     "text": [
      "1\t2\t3\t\n",
      "4\t5\t6\t\n"
     ]
    }
   ],
   "source": [
    "for row in b:\n",
    "    for item in row:\n",
    "        print(item, end='\\t')\n",
    "    print()"
   ]
  },
  {
   "cell_type": "code",
   "execution_count": 38,
   "metadata": {
    "ExecuteTime": {
     "end_time": "2021-03-13T03:34:48.090835Z",
     "start_time": "2021-03-13T03:34:48.071843Z"
    }
   },
   "outputs": [
    {
     "name": "stdout",
     "output_type": "stream",
     "text": [
      "0행0열: 1\t0행1열: 2\t0행2열: 3\t\n",
      "1행0열: 4\t1행1열: 5\t1행2열: 6\t\n"
     ]
    }
   ],
   "source": [
    "for i, row in enumerate(b):\n",
    "    for j, item in enumerate(row):\n",
    "        print(\"{}행{}열: {}\".format(i, j, item), end='\\t')\n",
    "    print()"
   ]
  },
  {
   "cell_type": "code",
   "execution_count": 39,
   "metadata": {
    "ExecuteTime": {
     "end_time": "2021-03-13T03:34:48.849281Z",
     "start_time": "2021-03-13T03:34:48.839289Z"
    }
   },
   "outputs": [
    {
     "data": {
      "text/plain": [
       "(2, 2)"
      ]
     },
     "execution_count": 39,
     "metadata": {},
     "output_type": "execute_result"
    }
   ],
   "source": [
    "b[0,1], b[0][1] # 넘파이 배열 인덱싱"
   ]
  },
  {
   "cell_type": "code",
   "execution_count": 40,
   "metadata": {
    "ExecuteTime": {
     "end_time": "2021-03-13T03:34:49.531791Z",
     "start_time": "2021-03-13T03:34:49.511803Z"
    }
   },
   "outputs": [
    {
     "data": {
      "text/plain": [
       "array([1, 2], dtype=int16)"
      ]
     },
     "execution_count": 40,
     "metadata": {},
     "output_type": "execute_result"
    }
   ],
   "source": [
    "b[0, 0:2] # 넘파이 배열 슬라이싱"
   ]
  },
  {
   "cell_type": "code",
   "execution_count": 41,
   "metadata": {
    "ExecuteTime": {
     "end_time": "2021-03-13T03:34:50.292330Z",
     "start_time": "2021-03-13T03:34:50.253348Z"
    }
   },
   "outputs": [
    {
     "data": {
      "text/plain": [
       "array([[1.+0.j, 2.+0.j],\n",
       "       [3.+0.j, 4.+0.j]])"
      ]
     },
     "execution_count": 41,
     "metadata": {},
     "output_type": "execute_result"
    }
   ],
   "source": [
    "c = np.array([[1,2],[3,4]], dtype = complex) # 복소수\n",
    "c"
   ]
  },
  {
   "cell_type": "code",
   "execution_count": 42,
   "metadata": {
    "ExecuteTime": {
     "end_time": "2021-03-13T03:34:57.140869Z",
     "start_time": "2021-03-13T03:34:57.130878Z"
    }
   },
   "outputs": [
    {
     "name": "stdout",
     "output_type": "stream",
     "text": [
      "d= \n",
      "[[1.+0.j 2.+0.j]\n",
      " [3.+0.j 4.+0.j]]\n",
      "1946108080896 1946108080896\n",
      "d의 요소타입:  complex128\n",
      "c= \n",
      "[[100.+0.j   2.+0.j]\n",
      " [  3.+0.j   4.+0.j]]\n"
     ]
    }
   ],
   "source": [
    "d = np.array(c, copy=False) # copy=False 새로운 배열 복사본 생성하지 않음\n",
    " \n",
    "print('d= ',d, sep='\\n')\n",
    "print(id(c), id(d))\n",
    "print('d의 요소타입: ', d.dtype)\n",
    "\n",
    "d[0,0] = 100\n",
    "print('c= ',c, sep='\\n')"
   ]
  },
  {
   "cell_type": "code",
   "execution_count": 43,
   "metadata": {
    "ExecuteTime": {
     "end_time": "2021-03-13T03:34:58.316135Z",
     "start_time": "2021-03-13T03:34:58.264170Z"
    }
   },
   "outputs": [
    {
     "name": "stdout",
     "output_type": "stream",
     "text": [
      "d= \n",
      "[[100   2]\n",
      " [  3   4]]\n",
      "1946108080896 1946108074464\n",
      "d의 요소타입:  int32\n",
      "c= \n",
      "[[100.+0.j   2.+0.j]\n",
      " [  3.+0.j   4.+0.j]]\n"
     ]
    },
    {
     "name": "stderr",
     "output_type": "stream",
     "text": [
      "<ipython-input-43-967a98b2d34b>:1: ComplexWarning: Casting complex values to real discards the imaginary part\n",
      "  d = np.array(c, copy=True, dtype = int)\n"
     ]
    }
   ],
   "source": [
    "d = np.array(c, copy=True, dtype = int)\n",
    "\n",
    "print('d= ',d, sep='\\n')\n",
    "print(id(c), id(d))\n",
    "print('d의 요소타입: ', d.dtype)\n",
    "\n",
    "d[0,0] = 999\n",
    "print('c= ',c, sep='\\n')"
   ]
  },
  {
   "cell_type": "markdown",
   "metadata": {},
   "source": [
    "# (2) 기본값이 있는 배열 만들기\n",
    "- zeros: 요소값이 다 0\n",
    "- ones: 요소값이 다 1\n",
    "- empty: 초기 내용은 임의값인 배열(메모리 상태에 따라 달라짐)\n",
    "- 이렇게 생성된 배열의 기본 dtype은 float64 (dtype속성 따로 지정 가능)"
   ]
  },
  {
   "cell_type": "code",
   "execution_count": 44,
   "metadata": {
    "ExecuteTime": {
     "end_time": "2021-03-13T03:35:07.372842Z",
     "start_time": "2021-03-13T03:35:07.359848Z"
    }
   },
   "outputs": [
    {
     "data": {
      "text/plain": [
       "array([[0., 0., 0., 0.],\n",
       "       [0., 0., 0., 0.],\n",
       "       [0., 0., 0., 0.]])"
      ]
     },
     "execution_count": 44,
     "metadata": {},
     "output_type": "execute_result"
    }
   ],
   "source": [
    "a = np.zeros((3,4)) # 3행 4열, 요소값이 다 0인 2차원 배열\n",
    "a"
   ]
  },
  {
   "cell_type": "code",
   "execution_count": 45,
   "metadata": {
    "ExecuteTime": {
     "end_time": "2021-03-13T03:35:08.328735Z",
     "start_time": "2021-03-13T03:35:08.316744Z"
    }
   },
   "outputs": [
    {
     "data": {
      "text/plain": [
       "dtype('float64')"
      ]
     },
     "execution_count": 45,
     "metadata": {},
     "output_type": "execute_result"
    }
   ],
   "source": [
    "a.dtype"
   ]
  },
  {
   "cell_type": "code",
   "execution_count": 46,
   "metadata": {
    "ExecuteTime": {
     "end_time": "2021-03-13T03:35:09.934705Z",
     "start_time": "2021-03-13T03:35:09.918715Z"
    }
   },
   "outputs": [
    {
     "name": "stdout",
     "output_type": "stream",
     "text": [
      "[[[0 0 0 0]\n",
      "  [0 0 0 0]\n",
      "  [0 0 0 0]]\n",
      "\n",
      " [[0 0 0 0]\n",
      "  [0 0 0 0]\n",
      "  [0 0 0 0]]]\n",
      "int16\n",
      "2\n"
     ]
    }
   ],
   "source": [
    "x = np.zeros((2,3,4), dtype=np.int16) # dtype 따로 지정\n",
    "\n",
    "print(x)\n",
    "print(x.dtype)\n",
    "print(x.itemsize)"
   ]
  },
  {
   "cell_type": "code",
   "execution_count": 47,
   "metadata": {
    "ExecuteTime": {
     "end_time": "2021-03-13T03:35:10.747491Z",
     "start_time": "2021-03-13T03:35:10.737499Z"
    }
   },
   "outputs": [
    {
     "data": {
      "text/plain": [
       "array([[1, 1, 1, 1, 1],\n",
       "       [1, 1, 1, 1, 1]], dtype=int8)"
      ]
     },
     "execution_count": 47,
     "metadata": {},
     "output_type": "execute_result"
    }
   ],
   "source": [
    "np.ones((2,5), dtype=np.int8)"
   ]
  },
  {
   "cell_type": "code",
   "execution_count": 48,
   "metadata": {
    "ExecuteTime": {
     "end_time": "2021-03-13T03:35:11.887558Z",
     "start_time": "2021-03-13T03:35:11.871571Z"
    }
   },
   "outputs": [
    {
     "data": {
      "text/plain": [
       "array([[0., 0., 0.],\n",
       "       [0., 0., 0.]])"
      ]
     },
     "execution_count": 48,
     "metadata": {},
     "output_type": "execute_result"
    }
   ],
   "source": [
    "np.empty((2,3))"
   ]
  },
  {
   "cell_type": "markdown",
   "metadata": {},
   "source": [
    "# (3) 연속된 값을 갖는 배열 만들기 \n",
    "- np.arange(from, to, by, type=None): from부터 by씩 건너뛴 값을 to앞까지(to미포함) N차원 배열 생성. - from생략시 0, by생략시 1\n",
    "- np.linspace(from, to, num): from부터 to까지(to포함) num개 숫자들을 N차원 배열로 생성\n"
   ]
  },
  {
   "cell_type": "code",
   "execution_count": 49,
   "metadata": {
    "ExecuteTime": {
     "end_time": "2021-03-13T03:35:15.834639Z",
     "start_time": "2021-03-13T03:35:15.819646Z"
    }
   },
   "outputs": [
    {
     "data": {
      "text/plain": [
       "array([10., 15., 20., 25.])"
      ]
     },
     "execution_count": 49,
     "metadata": {},
     "output_type": "execute_result"
    }
   ],
   "source": [
    "np.arange(10, 30, 5, dtype=np.float64)"
   ]
  },
  {
   "cell_type": "code",
   "execution_count": 50,
   "metadata": {
    "ExecuteTime": {
     "end_time": "2021-03-13T03:35:16.478459Z",
     "start_time": "2021-03-13T03:35:16.462470Z"
    }
   },
   "outputs": [
    {
     "data": {
      "text/plain": [
       "array([0. , 0.3, 0.6, 0.9, 1.2, 1.5, 1.8])"
      ]
     },
     "execution_count": 50,
     "metadata": {},
     "output_type": "execute_result"
    }
   ],
   "source": [
    "np.arange(0, 2, 0.3)"
   ]
  },
  {
   "cell_type": "code",
   "execution_count": 51,
   "metadata": {
    "ExecuteTime": {
     "end_time": "2021-03-13T03:35:17.100092Z",
     "start_time": "2021-03-13T03:35:17.090098Z"
    }
   },
   "outputs": [
    {
     "data": {
      "text/plain": [
       "array([0.  , 0.25, 0.5 , 0.75, 1.  , 1.25, 1.5 , 1.75, 2.  ])"
      ]
     },
     "execution_count": 51,
     "metadata": {},
     "output_type": "execute_result"
    }
   ],
   "source": [
    "from numpy import linspace\n",
    "linspace(0, 2, 9)"
   ]
  },
  {
   "cell_type": "code",
   "execution_count": 52,
   "metadata": {
    "ExecuteTime": {
     "end_time": "2021-03-13T03:35:17.767789Z",
     "start_time": "2021-03-13T03:35:17.746797Z"
    }
   },
   "outputs": [
    {
     "name": "stdout",
     "output_type": "stream",
     "text": [
      "[0.         0.06346652 0.12693304 0.19039955 0.25386607 0.31733259\n",
      " 0.38079911 0.44426563 0.50773215 0.57119866 0.63466518 0.6981317\n",
      " 0.76159822 0.82506474 0.88853126 0.95199777 1.01546429 1.07893081\n",
      " 1.14239733 1.20586385 1.26933037 1.33279688 1.3962634  1.45972992\n",
      " 1.52319644 1.58666296 1.65012947 1.71359599 1.77706251 1.84052903\n",
      " 1.90399555 1.96746207 2.03092858 2.0943951  2.15786162 2.22132814\n",
      " 2.28479466 2.34826118 2.41172769 2.47519421 2.53866073 2.60212725\n",
      " 2.66559377 2.72906028 2.7925268  2.85599332 2.91945984 2.98292636\n",
      " 3.04639288 3.10985939 3.17332591 3.23679243 3.30025895 3.36372547\n",
      " 3.42719199 3.4906585  3.55412502 3.61759154 3.68105806 3.74452458\n",
      " 3.8079911  3.87145761 3.93492413 3.99839065 4.06185717 4.12532369\n",
      " 4.1887902  4.25225672 4.31572324 4.37918976 4.44265628 4.5061228\n",
      " 4.56958931 4.63305583 4.69652235 4.75998887 4.82345539 4.88692191\n",
      " 4.95038842 5.01385494 5.07732146 5.14078798 5.2042545  5.26772102\n",
      " 5.33118753 5.39465405 5.45812057 5.52158709 5.58505361 5.64852012\n",
      " 5.71198664 5.77545316 5.83891968 5.9023862  5.96585272 6.02931923\n",
      " 6.09278575 6.15625227 6.21971879 6.28318531]\n"
     ]
    }
   ],
   "source": [
    "# linspace는 많은 수의 점들을 생성할 때 유용하다.\n",
    "from numpy import pi\n",
    "\n",
    "x = linspace(0, 2*pi, 100)\n",
    "print(x)\n",
    "\n",
    "f = np.sin(x)"
   ]
  },
  {
   "cell_type": "code",
   "execution_count": 53,
   "metadata": {
    "ExecuteTime": {
     "end_time": "2021-03-13T03:35:25.928672Z",
     "start_time": "2021-03-13T03:35:18.857709Z"
    }
   },
   "outputs": [
    {
     "data": {
      "image/png": "[encoded data removed]",
      "text/plain": [
       "<Figure size 432x288 with 1 Axes>"
      ]
     },
     "metadata": {
      "needs_background": "light"
     },
     "output_type": "display_data"
    }
   ],
   "source": [
    "import matplotlib.pyplot as plt\n",
    "plt.plot(x, f)\n",
    "plt.show()"
   ]
  },
  {
   "cell_type": "code",
   "execution_count": 54,
   "metadata": {
    "ExecuteTime": {
     "end_time": "2021-03-13T03:35:28.421304Z",
     "start_time": "2021-03-13T03:35:28.383328Z"
    }
   },
   "outputs": [
    {
     "data": {
      "text/plain": [
       "array([-2.92945675e-02,  7.80246090e-01, -4.86498675e-02,  7.11352803e-01,\n",
       "       -6.28783075e-01,  2.19171165e+00, -3.37815419e-02,  2.20849377e+00,\n",
       "       -3.48371076e-02,  1.42807526e+00,  1.46053601e+00,  7.10520414e-01,\n",
       "        1.38082453e+00, -2.01785855e+00, -4.35246497e-01, -7.14676712e-02,\n",
       "       -1.21193986e+00,  3.53710054e-01,  1.44939825e+00, -6.25483465e-02,\n",
       "        1.31029676e+00, -8.93195086e-01,  8.19457682e-01, -4.77852341e-01,\n",
       "        1.12402632e+00, -1.08605067e-01, -1.13395678e+00,  1.36108365e+00,\n",
       "       -1.30481010e+00, -4.04390728e-01,  8.25096174e-01,  2.92147545e-01,\n",
       "        6.35905782e-01,  1.11619416e+00,  1.04743464e+00,  6.43971602e-01,\n",
       "        9.83285484e-01,  1.07782242e+00, -1.02295607e-01, -9.91046880e-01,\n",
       "       -8.61146740e-01, -1.30517103e+00,  6.22068278e-01,  8.47253147e-01,\n",
       "       -5.20135259e-01, -1.12251869e+00, -4.77656871e-01, -6.74049194e-01,\n",
       "        3.46453899e-01,  5.17659790e-01,  6.63523722e-02,  6.44938660e-01,\n",
       "       -1.65693600e+00,  4.41482637e-01, -7.25135506e-01,  1.22948909e-01,\n",
       "        1.44271799e+00, -1.83451421e-02,  1.20497658e+00,  8.24022322e-01,\n",
       "        8.95698137e-01, -9.29837389e-01, -8.71834984e-01, -2.20449226e+00,\n",
       "        1.34269992e+00, -4.02391898e-01,  2.49535867e-01,  5.82826645e-01,\n",
       "        8.29690067e-01,  1.96344797e+00, -6.09217364e-01, -4.75503998e-01,\n",
       "        4.01667903e-01, -2.24679936e+00,  5.51392955e-01,  5.37821320e-01,\n",
       "       -1.33895741e+00,  3.14432289e-01,  1.38142442e+00, -2.30825437e-02,\n",
       "       -2.89041436e+00, -8.15584123e-01,  3.64951336e-01,  6.19734605e-01,\n",
       "       -5.98968700e-01, -1.08387878e+00,  1.95754497e-02, -4.18049436e-01,\n",
       "       -4.72637451e-01,  7.42067325e-01,  7.89862087e-01, -1.77517069e+00,\n",
       "       -8.92935611e-01, -5.02195062e-01, -2.61471431e-01, -1.13557484e+00,\n",
       "       -3.15356765e-01, -1.39481892e+00, -4.45961207e-01,  1.19752698e+00,\n",
       "       -7.98244029e-01, -1.21036521e+00,  7.46165363e-02,  1.71992568e-01,\n",
       "       -4.04697118e-01, -4.14288753e-01,  6.14410312e-03,  1.00555509e+00,\n",
       "       -7.30015668e-01, -3.07386477e-01, -2.10119064e+00, -1.31713982e+00,\n",
       "        1.69531586e+00,  1.23604159e+00, -5.11130265e-01, -1.16027613e+00,\n",
       "        1.08734004e+00, -5.15499406e-01, -3.83902962e-01,  1.73657230e-01,\n",
       "       -5.01933466e-01,  6.85755201e-01, -1.30905822e+00, -7.38678406e-01,\n",
       "       -3.69941257e-01, -1.72568112e+00, -1.07974565e+00, -1.09863488e-01,\n",
       "       -2.00837904e+00, -1.93216246e-01, -1.53444782e+00,  6.21465936e-02,\n",
       "        5.27182385e-01, -1.19361097e+00,  3.68236876e-01,  1.60914280e-01,\n",
       "       -8.57508193e-02,  1.05279862e-01,  5.78155292e-01,  1.10570617e+00,\n",
       "       -4.34721617e-02,  1.13388085e+00,  4.86586935e-01,  7.00856129e-01,\n",
       "       -6.59329837e-01, -2.07400231e-01, -1.76479141e+00,  3.86066921e-01,\n",
       "       -1.35439030e+00,  1.10476670e+00,  2.87880694e-01,  7.48885062e-01,\n",
       "       -2.62465658e-01, -2.63257715e-01, -1.79365912e+00,  4.55666273e-01,\n",
       "       -3.79115384e-01,  6.12497426e-01, -8.78412655e-03,  2.31257566e+00,\n",
       "        9.37721906e-01,  6.61893908e-01, -5.86192814e-01, -1.85826554e+00,\n",
       "       -1.91757028e+00, -1.52084636e+00,  1.42936498e+00,  3.03058020e-01,\n",
       "        3.57809716e-01,  5.78963343e-01,  1.03894270e+00, -5.27552509e-01,\n",
       "        1.81920103e+00,  5.78769900e-01,  5.84650675e-01,  7.08725269e-01,\n",
       "       -9.12974603e-01,  1.07626563e+00,  4.64854563e-01, -8.36980787e-01,\n",
       "       -4.45342517e-01, -1.39315794e+00,  1.83341413e-01, -7.17927546e-01,\n",
       "       -9.16274503e-01,  1.14604264e-02,  5.52841729e-01, -3.49597930e-01,\n",
       "        8.26123384e-01,  2.67374938e-01, -1.27443360e+00, -5.26281112e-01,\n",
       "        1.49988402e-01, -2.02175424e-01, -5.26534164e-01,  1.10466714e-01,\n",
       "        2.30818696e-01,  7.33796945e-02, -1.23996466e+00,  1.23799350e+00,\n",
       "        1.31356485e+00, -1.32531866e+00,  7.08506244e-01, -1.08607538e+00,\n",
       "       -1.92479533e-01,  7.43889703e-01,  6.89539684e-01,  9.55648505e-01,\n",
       "        3.51147780e-02, -1.02303571e+00, -7.02046100e-01,  5.53614964e-01,\n",
       "        5.13723517e-01, -1.38549301e+00, -2.17073130e+00,  9.28585111e-01,\n",
       "       -1.29107604e+00,  2.61399370e-01,  2.08766031e+00,  1.23016441e+00,\n",
       "        3.07397804e-01,  1.16592339e+00, -4.43470583e-01, -1.23214886e+00,\n",
       "        1.53134045e+00,  3.67303564e-01,  2.15688791e-01,  7.52014793e-01,\n",
       "       -1.00497371e+00, -2.86266800e-01, -1.87867750e-01,  7.00767075e-01,\n",
       "        7.61458499e-01, -1.25913310e-01,  9.88170843e-01, -1.23113555e+00,\n",
       "        6.85294035e-01,  7.45676479e-01, -6.71659765e-01, -9.25529760e-01,\n",
       "        2.83169792e-01,  5.78557230e-01,  8.42481348e-01,  1.52176237e+00,\n",
       "        1.65925362e+00,  7.16021370e-01,  2.33389435e-01, -4.89405896e-01,\n",
       "       -5.79293399e-02,  3.85517444e-01,  8.11550713e-01,  3.50519316e-01,\n",
       "        2.56636821e+00, -1.54964372e+00, -7.68964923e-01,  1.51543073e+00,\n",
       "        1.06897430e+00,  5.46234042e-01,  1.08462283e+00,  2.53569504e-02,\n",
       "       -4.66167398e-01,  5.40973856e-01,  8.95643244e-01,  1.43128694e+00,\n",
       "       -9.84934334e-01,  4.73898321e-01,  2.15555448e+00, -1.50447688e+00,\n",
       "        6.38443230e-01,  2.30637430e+00,  4.07942534e-01,  2.65355430e-01,\n",
       "       -1.98047754e+00, -7.44548426e-01,  3.28022925e-01,  5.52676549e-01,\n",
       "        3.75964084e-01,  1.35595084e+00,  4.53122253e-02,  6.38630880e-01,\n",
       "       -3.28087283e-01,  9.12609582e-01, -1.55633121e+00,  3.47317053e-01,\n",
       "       -4.13303739e-01, -5.12177342e-02,  4.28844377e-01, -1.08030975e+00,\n",
       "        6.60071798e-01,  3.62593783e-01,  4.86780716e-01, -1.44295368e+00,\n",
       "       -1.58413557e-01,  1.11106652e-01,  1.19647218e+00, -7.30515259e-01,\n",
       "       -9.88361324e-01, -1.49709402e-01, -2.13800964e-01,  1.43697386e+00,\n",
       "        1.01294624e+00, -4.76854565e-01, -1.26368922e+00,  6.28865308e-01,\n",
       "       -8.26581096e-01, -2.43463427e-01,  7.85957120e-01,  9.63937270e-01,\n",
       "        2.27123103e-01,  1.18035352e+00,  1.10296144e+00,  3.78301144e-01,\n",
       "        4.70801378e-01, -3.18569411e+00, -1.57179978e-01, -9.78206750e-01,\n",
       "       -1.58793105e+00,  1.82689597e+00,  7.30228221e-02, -7.42252379e-01,\n",
       "        9.58848732e-01, -1.28452344e+00, -8.74692168e-01, -7.10993607e-01,\n",
       "       -1.27316628e+00, -1.76627253e+00,  2.32322138e-01, -3.23298526e-01,\n",
       "       -1.35854356e+00, -1.31191865e+00,  3.00326901e-01, -4.24890114e-01,\n",
       "        7.48140897e-01,  1.16415840e-01, -9.92365575e-01, -7.39855734e-01,\n",
       "        9.33993912e-01,  1.39335309e+00,  1.73529959e+00,  1.84547628e+00,\n",
       "       -6.59734537e-01,  6.61366016e-02, -8.77031503e-01,  4.77975002e-01,\n",
       "       -9.81953608e-01, -8.57419636e-01, -1.23548486e+00, -1.13136094e+00,\n",
       "       -1.11350987e+00,  4.22093279e-01,  3.17632151e-01, -1.29792762e+00,\n",
       "        1.73935624e-01, -1.26679014e-01,  7.72951859e-01,  1.97834295e+00,\n",
       "       -1.42965609e+00, -4.01547060e-01, -5.99798477e-01,  1.31037095e+00,\n",
       "        7.83956923e-01, -2.36740396e+00,  1.84401752e+00,  5.11619681e-01,\n",
       "       -8.34919222e-01,  1.01145641e-01,  2.55171149e-01,  1.80645568e+00,\n",
       "        1.18312480e-01,  8.15307704e-02, -1.36075270e+00, -7.26640457e-01,\n",
       "        1.92162083e+00, -3.03332792e-01, -1.46734001e+00, -5.54175161e-01,\n",
       "        1.91091301e-01, -1.78292258e+00, -4.67890669e-01,  7.86947727e-01,\n",
       "       -7.86730784e-02,  1.14084128e+00, -8.28320330e-02,  2.58020669e-01,\n",
       "        5.33354913e-01,  1.88351105e+00, -3.54265529e-01, -1.27593177e+00,\n",
       "       -8.65118328e-01,  1.41291653e+00,  3.91631470e-01,  1.25224981e+00,\n",
       "       -1.51175865e-02, -1.99349763e+00, -5.27811930e-01,  1.17584892e+00,\n",
       "        1.10300988e+00, -4.53339341e-02, -3.18327218e-01, -6.38035747e-01,\n",
       "        6.24925200e-01,  1.26088690e+00, -1.12553254e+00, -6.37218144e-01,\n",
       "        3.88308529e-01,  2.68616953e-01, -1.31323144e+00,  7.56039097e-01,\n",
       "        1.02045743e+00,  4.65062650e-02,  1.17770235e+00, -6.04528881e-01,\n",
       "       -2.05612967e-02, -4.55504852e-01, -7.87172743e-01, -2.21898375e+00,\n",
       "       -3.18102400e-01, -7.08577576e-01, -1.10972830e+00, -8.77891846e-01,\n",
       "        4.22170019e-01,  2.36076014e-02,  4.13740483e-01, -2.50102248e+00,\n",
       "       -5.92701569e-01,  9.50206019e-01,  8.80997588e-01,  3.39936916e-01,\n",
       "        1.27945212e+00,  8.74723474e-01,  1.43755718e+00, -9.25045197e-01,\n",
       "       -1.26335531e+00,  1.02365434e+00, -8.27242237e-01,  1.45217677e-01,\n",
       "       -4.31262661e-01, -2.83396311e-01,  1.01326842e+00, -7.88621774e-01,\n",
       "        1.53039005e-01, -2.57375294e-01, -3.48602720e-01,  3.91924156e-01,\n",
       "       -3.09408673e-01, -3.72609127e-01,  1.64877847e+00,  7.95544623e-02,\n",
       "        8.29930152e-01,  1.54279049e+00, -5.40186854e-01, -9.87981896e-01,\n",
       "       -1.51462124e+00, -8.76834498e-01,  2.39538916e-01, -4.51370893e-01,\n",
       "        1.80818091e+00,  2.43722533e-01,  2.25130976e+00,  1.75913996e+00,\n",
       "        9.01933197e-01, -2.49413686e-01,  2.14616304e-02,  9.92358390e-01,\n",
       "        1.50133669e+00, -9.22060286e-01, -1.15880069e+00,  1.29498965e+00,\n",
       "       -5.78635285e-01,  1.44111947e+00, -7.02519199e-01,  3.03441205e-01,\n",
       "        6.55987255e-01, -2.47245479e+00,  2.60780856e+00,  5.08235707e-01,\n",
       "        1.82340630e+00, -7.54690336e-01, -1.01408572e+00, -7.59383543e-02,\n",
       "        5.80822155e-01, -2.77841366e-01, -9.43555735e-01, -1.47938043e-01,\n",
       "       -9.01363657e-02,  1.25180158e+00, -7.13434443e-01,  1.16370332e+00,\n",
       "        3.26851934e-01,  3.25878060e-01, -2.26991240e-01, -1.10390329e+00,\n",
       "        1.39062844e+00, -1.07304403e+00, -5.84588866e-01, -9.53699593e-02,\n",
       "       -7.09991047e-01, -1.69691629e+00, -9.52587071e-02,  1.21821978e+00,\n",
       "       -4.68596380e-01,  6.68957903e-01, -5.59032798e-01, -9.10626899e-01,\n",
       "       -1.95283903e-01,  2.39344614e-01,  1.25081372e+00, -8.57151530e-01,\n",
       "       -1.45236128e-01, -3.95091537e-01, -2.88707287e+00,  1.29532476e+00,\n",
       "       -1.60835276e+00, -6.61054024e-01,  5.38338698e-01, -5.21802012e-01,\n",
       "        6.92314498e-01, -8.29387128e-01, -2.28938654e-01, -2.26010607e-01,\n",
       "        8.61860130e-01, -6.90297700e-01, -1.44937787e+00,  1.79320072e+00,\n",
       "        2.07146122e-01,  7.50272105e-01,  4.25845920e-01, -9.49995084e-01,\n",
       "        6.35847080e-01,  7.94689906e-02, -1.06251039e+00,  1.72697542e+00,\n",
       "       -1.31560314e+00, -1.66264031e+00, -4.18291389e-01,  1.34220744e+00,\n",
       "        1.10058088e+00, -7.22289319e-01,  9.41608758e-01, -8.88501042e-01,\n",
       "        8.10609928e-01,  3.85116759e-01,  3.55332080e-01, -9.85375723e-01,\n",
       "        8.78957153e-01,  1.80574005e+00, -1.14754811e+00,  8.00725456e-01,\n",
       "       -8.95204686e-01,  5.33602170e-01,  3.17504572e-01, -1.16096280e+00,\n",
       "        1.75671436e+00, -8.32890680e-01,  2.10157659e-01,  1.39291061e+00,\n",
       "       -9.60573171e-01, -1.82578806e+00, -4.98589640e-01,  1.70774060e-01,\n",
       "       -2.64652291e-01,  4.00355371e-01,  1.39757015e+00, -2.23219982e-01,\n",
       "        2.04832317e+00,  5.23027540e-03, -1.16400692e-01, -3.28809959e-02,\n",
       "        2.79372910e-02, -1.15797334e+00, -3.14192463e-01,  1.27102037e+00,\n",
       "       -9.58234589e-01,  1.13913724e-01,  1.26789721e+00,  4.65382142e-01,\n",
       "       -2.11127434e-01,  6.90151444e-01,  2.02939588e+00, -8.61915186e-02,\n",
       "        1.67702681e-01, -1.20297873e-01,  8.38577929e-01,  1.20257140e-01,\n",
       "        6.63339913e-01, -2.39538122e+00,  1.71646936e-01, -4.02317369e-01,\n",
       "       -2.54121808e-01,  2.68727215e-02, -4.37825225e-01, -1.39709655e+00,\n",
       "        5.43668598e-01,  2.29142498e+00,  6.69813549e-01,  4.57457917e-01,\n",
       "        4.28622875e-01, -5.64657027e-02, -3.39360210e-01,  2.67837629e+00,\n",
       "       -1.43199747e+00,  1.40113519e+00, -8.95228252e-01, -4.03230272e-01,\n",
       "       -7.32052960e-01, -7.19627506e-01,  1.01145692e+00, -5.42158601e-01,\n",
       "       -1.09463071e+00,  5.51262810e-01,  1.95849620e-01,  1.38062308e+00,\n",
       "        7.06592775e-01,  1.35150882e+00,  1.94788070e+00,  6.44326710e-01,\n",
       "       -9.25707038e-01,  5.82586132e-01,  1.17850099e+00,  9.28235782e-01,\n",
       "       -1.13662811e+00,  1.79108208e-01, -2.46914829e-01, -1.29328674e+00,\n",
       "       -1.72120037e+00,  3.51671056e-01, -4.15191561e-01, -1.40403790e+00,\n",
       "       -4.48930910e-01, -5.00590869e-01, -1.11112458e-01, -6.79273682e-01,\n",
       "       -6.23541355e-01,  3.82179691e-01,  7.48005874e-02,  1.44661781e-01,\n",
       "        2.28584695e-01, -1.37116896e-01,  4.14516006e-02,  1.19126816e+00,\n",
       "       -2.41095061e+00, -6.30372556e-01, -2.43883702e-01,  4.43452964e-01,\n",
       "        1.22376336e-01,  1.05642890e+00, -3.73525275e-01, -6.38545207e-01,\n",
       "       -1.22295176e+00, -1.43680761e-01, -8.00958926e-01, -5.59353245e-01,\n",
       "       -1.46500780e+00,  5.22546466e-01,  3.88753220e-03, -1.86772541e+00,\n",
       "        1.01084917e+00,  9.45348126e-01,  9.78093269e-01, -5.09548264e-01,\n",
       "        6.46706003e-01, -1.77474558e-02,  1.16949552e+00,  6.71022672e-02,\n",
       "       -1.80193005e+00,  7.17612318e-01, -2.90788759e+00, -1.05793070e+00,\n",
       "        2.10362968e-02,  3.50343277e-01,  9.13969162e-01,  1.16486429e+00,\n",
       "       -1.24240625e+00,  9.48676260e-01,  5.97246888e-01,  1.33281830e+00,\n",
       "        1.71569333e+00, -8.15242775e-01,  2.23563155e-01,  3.27713924e-01,\n",
       "       -1.02527970e+00,  2.60201851e-01, -1.01412570e+00,  5.91593287e-01,\n",
       "       -1.91215523e-01,  2.68275709e-01, -8.74133564e-01, -4.30152664e-01,\n",
       "        8.89224021e-02,  1.12289228e+00,  7.14400657e-01, -1.35643737e+00,\n",
       "        9.52911632e-01, -7.31819052e-01,  1.64695922e-01,  1.24146362e+00,\n",
       "       -1.12787615e+00,  1.35904078e+00, -7.91739873e-01,  1.42474131e+00,\n",
       "        1.08356866e+00,  8.96694758e-01,  4.09835156e-01, -3.12970174e-01,\n",
       "        1.75474556e+00,  6.63722709e-01,  1.97544498e+00,  6.93609175e-01,\n",
       "        9.07851092e-01, -4.37230905e-01, -1.18422861e-01, -1.71518435e+00,\n",
       "       -8.30461004e-02,  8.11372364e-01, -3.48688946e-01, -1.75038839e-01,\n",
       "        3.43651478e-01,  2.16160840e-02,  1.14823472e+00, -1.05208383e+00,\n",
       "        2.05226683e-01,  3.54089576e-01, -6.31936689e-01,  2.22004533e-01,\n",
       "        4.45933705e-01,  1.55277505e+00,  5.11436973e-01, -1.02313069e+00,\n",
       "       -3.84986041e-01,  3.87263617e-01,  2.24177844e-01,  1.80243388e-02,\n",
       "       -6.91011597e-01,  1.31273280e+00,  2.16822982e+00, -8.72126449e-01,\n",
       "        3.42363965e-01, -3.69890037e-01, -1.07276206e-01,  2.19061325e-01,\n",
       "       -7.23408321e-01, -4.80816508e-01,  2.09814636e+00,  1.89705421e+00,\n",
       "        8.36758349e-02, -3.76287111e-02, -5.90250035e-01, -9.99610340e-01,\n",
       "        9.04526177e-01, -6.45729298e-02,  8.33374811e-01, -1.41459765e+00,\n",
       "        2.33462155e-02, -1.12262649e+00,  1.06190433e+00, -6.58045886e-01,\n",
       "       -5.48993455e-01, -1.89957972e+00, -1.15008389e+00,  3.43226030e-01,\n",
       "        5.17892566e-01,  3.51961511e-01,  7.61883893e-01, -1.47276424e-01,\n",
       "        3.12615699e-01, -5.03537154e-01, -3.84616731e-01, -1.38010033e+00,\n",
       "        3.52803304e-01, -1.91642818e-02, -2.27662304e+00,  1.91552224e-03,\n",
       "        5.27592423e-01, -8.84087309e-01,  1.47480595e+00, -1.27835977e+00,\n",
       "        3.05755576e-01,  7.56471564e-01,  1.35897249e+00,  1.75241945e+00,\n",
       "       -3.48006947e-01,  4.67531056e-01,  1.25419673e-01,  1.45807660e+00,\n",
       "        1.33604560e+00,  5.32091082e-01, -5.56709157e-01, -8.38345801e-01,\n",
       "        1.31789868e+00, -3.70608554e-01, -8.67647465e-01,  4.88557294e-01,\n",
       "        1.64013137e+00,  5.24031665e-01, -6.02607210e-01,  6.75989074e-02,\n",
       "       -1.61328403e+00,  2.51997380e+00,  2.17508407e-01,  1.12213276e+00,\n",
       "        1.03305534e+00,  1.49046019e+00, -1.03676967e-01,  1.18260198e+00,\n",
       "        1.22350407e+00, -2.54591140e-02, -5.42812553e-01, -6.12659120e-01,\n",
       "        2.40037810e-01,  5.67732856e-01, -4.11941711e-01,  4.11580422e-01,\n",
       "        7.99005338e-02, -3.33424572e-02,  1.84100795e+00,  1.74209628e-01,\n",
       "       -4.65075149e-01,  9.22725342e-02, -1.84515192e-01,  1.31208874e+00,\n",
       "        4.84827663e-01, -1.37330098e+00,  4.42086029e-01, -7.15047417e-01,\n",
       "        4.26624964e-01, -7.17686607e-01, -3.03464711e-01,  7.38439691e-01,\n",
       "        1.24790262e+00,  5.32736938e-02,  1.36403321e+00,  1.33648711e+00,\n",
       "        7.25890405e-01,  6.11479851e-01,  2.80214111e-02,  1.25257041e+00,\n",
       "        6.56833172e-01,  3.54748640e-01, -4.67166807e-01, -1.20801498e+00,\n",
       "        7.71034285e-01, -9.75785612e-01, -2.67327559e-01, -2.97073366e-01,\n",
       "       -8.11593997e-01,  1.27947242e+00, -1.55275578e+00, -9.50646047e-01,\n",
       "       -5.61988830e-01, -1.27568813e+00, -8.06555028e-01,  2.38096571e-01,\n",
       "        9.88988817e-02,  1.21643140e+00, -2.24219225e+00, -3.49724974e-01,\n",
       "        1.35893766e+00, -9.96043569e-01,  2.30143252e+00,  2.66567025e-01,\n",
       "        1.29925959e+00,  9.66215591e-01,  2.01931167e+00, -1.09274299e+00,\n",
       "        9.90645449e-01,  9.87053057e-02,  3.19767231e-01, -6.15474725e-01,\n",
       "        1.34672207e+00, -1.37024517e+00, -1.47392098e-01, -2.34172893e-02,\n",
       "        1.77270096e+00,  4.31901448e-01,  1.36780520e+00,  5.50919532e-01,\n",
       "       -7.73157306e-01, -1.61041795e+00, -2.02872389e+00, -2.58277941e-01,\n",
       "       -3.28714038e-01, -3.16120675e-01, -2.13204968e-01,  5.72002766e-01,\n",
       "       -2.19790031e+00, -6.63265645e-01, -4.96951962e-01,  6.22181191e-01,\n",
       "       -4.64366097e-01, -2.10047146e+00, -3.30937277e-02, -3.19185873e-01,\n",
       "        1.41139621e-01, -2.71798408e-01,  2.87752434e-01,  1.88877260e-01,\n",
       "        7.76745940e-02, -3.71762860e-01,  3.96064752e-02, -8.79730837e-01,\n",
       "       -2.75216283e+00, -4.79225493e-01, -3.62900084e-01, -2.40079482e+00,\n",
       "        2.08447883e-01,  1.73837768e+00,  4.11065074e-02, -1.21086873e+00,\n",
       "       -9.67341680e-01,  6.53556873e-01, -1.35868023e-01,  5.03854642e-01,\n",
       "       -1.01586066e-01,  1.81305452e+00,  4.73808119e-01,  1.60017211e+00,\n",
       "        1.64888298e+00,  4.70353454e-01, -2.71652619e-01, -1.70929109e+00,\n",
       "        8.26780068e-01, -1.27633076e-01,  1.15919752e+00,  1.58585151e+00,\n",
       "        2.44973817e+00,  7.09186362e-01,  1.56082065e+00,  9.84349780e-01,\n",
       "       -2.05884396e+00,  2.07373368e+00,  1.63415129e+00, -1.35669886e+00,\n",
       "       -3.36124174e-01, -4.12104676e-01, -4.60496147e-01, -1.42054717e+00,\n",
       "       -2.37191490e-01, -1.59407903e-01,  6.11997856e-01,  1.22440405e+00,\n",
       "       -1.55185765e+00,  7.16751669e-01,  5.82024576e-01,  3.78951213e-01,\n",
       "        3.20573042e-01,  6.24533077e-01, -2.70610848e-02,  1.75608008e-01,\n",
       "       -2.39591865e+00, -3.86527995e-01, -3.74924008e-01, -3.96094586e-01,\n",
       "        1.05635723e+00, -1.14282565e+00,  1.98405237e-01,  7.13918712e-01,\n",
       "        3.43102352e-01,  1.04056089e+00,  1.93103942e+00,  1.54605156e+00,\n",
       "        1.10757604e-01,  1.75025942e+00, -4.79144931e-01, -1.34750917e+00,\n",
       "       -1.03115173e-01,  3.68054191e-01,  1.25464374e-01, -7.96572010e-01,\n",
       "       -1.66855287e+00,  5.67654641e-01, -5.76993701e-01, -6.97083535e-01,\n",
       "       -1.10040048e+00,  3.59278804e-01, -8.95893642e-01,  8.12062639e-01,\n",
       "       -1.47923958e-01, -2.05790386e+00, -1.51101576e+00,  1.59703164e+00,\n",
       "        1.66585419e+00,  9.51896273e-01, -6.14958590e-01,  2.62614778e-01,\n",
       "       -6.50303458e-01, -1.44637925e+00, -1.16361415e+00,  1.09461106e+00,\n",
       "       -1.10911953e+00,  1.69231058e+00,  6.33646353e-01, -1.14282695e+00,\n",
       "       -5.25732839e-01, -1.72604452e-01,  1.04819906e+00,  2.99897876e-01,\n",
       "        6.21470221e-01,  2.08898702e+00, -1.26699370e+00,  5.13128706e-01])"
      ]
     },
     "execution_count": 54,
     "metadata": {},
     "output_type": "execute_result"
    }
   ],
   "source": [
    "x = np.random.normal(0, 1, 1000) # 평균0, 표준편차라 1인 정규분포값 1000개\n",
    "x"
   ]
  },
  {
   "cell_type": "code",
   "execution_count": 55,
   "metadata": {
    "ExecuteTime": {
     "end_time": "2021-03-13T03:35:29.837893Z",
     "start_time": "2021-03-13T03:35:29.399162Z"
    }
   },
   "outputs": [
    {
     "data": {
      "text/plain": [
       "(array([  5.,  20.,  42., 131., 192., 210., 200., 132.,  53.,  15.]),\n",
       " array([-3.18569411, -2.59928707, -2.01288003, -1.42647299, -0.84006595,\n",
       "        -0.25365891,  0.33274813,  0.91915517,  1.50556221,  2.09196925,\n",
       "         2.67837629]),\n",
       " <BarContainer object of 10 artists>)"
      ]
     },
     "execution_count": 55,
     "metadata": {},
     "output_type": "execute_result"
    },
    {
     "data": {
      "image/png": "[encoded data removed]",
      "text/plain": [
       "<Figure size 432x288 with 1 Axes>"
      ]
     },
     "metadata": {
      "needs_background": "light"
     },
     "output_type": "display_data"
    }
   ],
   "source": [
    "plt.hist(x)"
   ]
  },
  {
   "cell_type": "markdown",
   "metadata": {},
   "source": [
    "## (4) 배열의 차원 변경하기"
   ]
  },
  {
   "cell_type": "code",
   "execution_count": 56,
   "metadata": {
    "ExecuteTime": {
     "end_time": "2021-03-13T03:35:33.328141Z",
     "start_time": "2021-03-13T03:35:33.314152Z"
    }
   },
   "outputs": [
    {
     "data": {
      "text/plain": [
       "array([[0.20768575, 0.32149688, 0.68729181, 0.6285302 ],\n",
       "       [0.2443948 , 0.36743135, 0.64755107, 0.43845432],\n",
       "       [0.43755795, 0.91428342, 0.86308927, 0.37912706]])"
      ]
     },
     "execution_count": 56,
     "metadata": {},
     "output_type": "execute_result"
    }
   ],
   "source": [
    "t = np.random.random((3,4))\n",
    "t"
   ]
  },
  {
   "cell_type": "code",
   "execution_count": 57,
   "metadata": {
    "ExecuteTime": {
     "end_time": "2021-03-13T03:35:35.453975Z",
     "start_time": "2021-03-13T03:35:35.443981Z"
    }
   },
   "outputs": [
    {
     "data": {
      "text/plain": [
       "array([[2., 3., 6., 6.],\n",
       "       [2., 3., 6., 4.],\n",
       "       [4., 9., 8., 3.]])"
      ]
     },
     "execution_count": 57,
     "metadata": {},
     "output_type": "execute_result"
    }
   ],
   "source": [
    "a = np.floor(t*10)\n",
    "a"
   ]
  },
  {
   "cell_type": "code",
   "execution_count": 58,
   "metadata": {
    "ExecuteTime": {
     "end_time": "2021-03-13T03:35:36.143928Z",
     "start_time": "2021-03-13T03:35:36.126940Z"
    }
   },
   "outputs": [
    {
     "data": {
      "text/plain": [
       "(3, 4)"
      ]
     },
     "execution_count": 58,
     "metadata": {},
     "output_type": "execute_result"
    }
   ],
   "source": [
    "a.shape"
   ]
  },
  {
   "cell_type": "code",
   "execution_count": 59,
   "metadata": {
    "ExecuteTime": {
     "end_time": "2021-03-13T03:35:36.988579Z",
     "start_time": "2021-03-13T03:35:36.969589Z"
    }
   },
   "outputs": [
    {
     "data": {
      "text/plain": [
       "array([2., 3., 6., 6., 2., 3., 6., 4., 4., 9., 8., 3.])"
      ]
     },
     "execution_count": 59,
     "metadata": {},
     "output_type": "execute_result"
    }
   ],
   "source": [
    "a.ravel() # 차원이 풀린 배열 반환(a 자체가 바뀌진 않는다.)"
   ]
  },
  {
   "cell_type": "code",
   "execution_count": 60,
   "metadata": {
    "ExecuteTime": {
     "end_time": "2021-03-13T03:35:38.084382Z",
     "start_time": "2021-03-13T03:35:38.074390Z"
    }
   },
   "outputs": [
    {
     "data": {
      "text/plain": [
       "array([[2., 3., 6., 6.],\n",
       "       [2., 3., 6., 4.],\n",
       "       [4., 9., 8., 3.]])"
      ]
     },
     "execution_count": 60,
     "metadata": {},
     "output_type": "execute_result"
    }
   ],
   "source": [
    "a"
   ]
  },
  {
   "cell_type": "code",
   "execution_count": 61,
   "metadata": {
    "ExecuteTime": {
     "end_time": "2021-03-13T03:35:38.778915Z",
     "start_time": "2021-03-13T03:35:38.766923Z"
    }
   },
   "outputs": [
    {
     "data": {
      "text/plain": [
       "array([[2., 3., 6., 6., 2., 3.],\n",
       "       [6., 4., 4., 9., 8., 3.]])"
      ]
     },
     "execution_count": 61,
     "metadata": {},
     "output_type": "execute_result"
    }
   ],
   "source": [
    "a.reshape(2,6) # a를 reshape하여 반환(a 자체가 밥뀌진 않는다.)"
   ]
  },
  {
   "cell_type": "code",
   "execution_count": 62,
   "metadata": {
    "ExecuteTime": {
     "end_time": "2021-03-13T03:35:39.428429Z",
     "start_time": "2021-03-13T03:35:39.413436Z"
    }
   },
   "outputs": [
    {
     "data": {
      "text/plain": [
       "array([[2., 3., 6., 6.],\n",
       "       [2., 3., 6., 4.],\n",
       "       [4., 9., 8., 3.]])"
      ]
     },
     "execution_count": 62,
     "metadata": {},
     "output_type": "execute_result"
    }
   ],
   "source": [
    "a"
   ]
  },
  {
   "cell_type": "code",
   "execution_count": 63,
   "metadata": {
    "ExecuteTime": {
     "end_time": "2021-03-13T03:35:40.181096Z",
     "start_time": "2021-03-13T03:35:40.160111Z"
    }
   },
   "outputs": [
    {
     "name": "stdout",
     "output_type": "stream",
     "text": [
      "[[2. 2. 4.]\n",
      " [3. 3. 9.]\n",
      " [6. 6. 8.]\n",
      " [6. 4. 3.]]\n",
      "[[2. 2. 4.]\n",
      " [3. 3. 9.]\n",
      " [6. 6. 8.]\n",
      " [6. 4. 3.]]\n"
     ]
    }
   ],
   "source": [
    "# a는 3행4열의 2차원 배열 (2차원 배열은 행렬로 이해한다.)\n",
    "\n",
    "print(a.T) # a의 전치행렬(행과 열을 거꾸로)\n",
    "print(a.transpose()) "
   ]
  },
  {
   "cell_type": "code",
   "execution_count": 64,
   "metadata": {
    "ExecuteTime": {
     "end_time": "2021-03-13T03:35:40.898228Z",
     "start_time": "2021-03-13T03:35:40.876239Z"
    }
   },
   "outputs": [
    {
     "data": {
      "text/plain": [
       "array([[2., 3., 6., 6., 2., 3.],\n",
       "       [6., 4., 4., 9., 8., 3.]])"
      ]
     },
     "execution_count": 64,
     "metadata": {},
     "output_type": "execute_result"
    }
   ],
   "source": [
    "a.resize(2,6)  # a의 차원 수정(a 자체가 바뀐다.)\n",
    "a"
   ]
  },
  {
   "cell_type": "code",
   "execution_count": 65,
   "metadata": {
    "ExecuteTime": {
     "end_time": "2021-03-13T03:35:42.480531Z",
     "start_time": "2021-03-13T03:35:42.469536Z"
    }
   },
   "outputs": [
    {
     "data": {
      "text/plain": [
       "array([[2., 3., 6., 6.],\n",
       "       [2., 3., 6., 4.],\n",
       "       [4., 9., 8., 3.]])"
      ]
     },
     "execution_count": 65,
     "metadata": {},
     "output_type": "execute_result"
    }
   ],
   "source": [
    "a.reshape(3,-1) # -1이 주어지면 해당 차원의 크기가 자동계산 "
   ]
  },
  {
   "cell_type": "code",
   "execution_count": 66,
   "metadata": {
    "ExecuteTime": {
     "end_time": "2021-03-13T03:35:43.251642Z",
     "start_time": "2021-03-13T03:35:43.231651Z"
    }
   },
   "outputs": [
    {
     "data": {
      "text/plain": [
       "array([[2., 3., 6., 6., 2., 3.],\n",
       "       [6., 4., 4., 9., 8., 3.]])"
      ]
     },
     "execution_count": 66,
     "metadata": {},
     "output_type": "execute_result"
    }
   ],
   "source": [
    "a"
   ]
  },
  {
   "cell_type": "code",
   "execution_count": 67,
   "metadata": {
    "ExecuteTime": {
     "end_time": "2021-03-13T03:35:43.831722Z",
     "start_time": "2021-03-13T03:35:43.823727Z"
    }
   },
   "outputs": [
    {
     "data": {
      "text/plain": [
       "array([[2., 3., 6., 6.],\n",
       "       [2., 3., 6., 4.],\n",
       "       [4., 9., 8., 3.]])"
      ]
     },
     "execution_count": 67,
     "metadata": {},
     "output_type": "execute_result"
    }
   ],
   "source": [
    "a.resize(3,4)\n",
    "a"
   ]
  },
  {
   "cell_type": "code",
   "execution_count": 68,
   "metadata": {
    "ExecuteTime": {
     "end_time": "2021-03-13T03:35:46.103218Z",
     "start_time": "2021-03-13T03:35:44.649000Z"
    }
   },
   "outputs": [
    {
     "ename": "ValueError",
     "evalue": "negative dimensions not allowed",
     "output_type": "error",
     "traceback": [
      "\u001b[1;31m---------------------------------------------------------------------------\u001b[0m",
      "\u001b[1;31mValueError\u001b[0m                                Traceback (most recent call last)",
      "\u001b[1;32m<ipython-input-68-c217b128a6e1>\u001b[0m in \u001b[0;36m<module>\u001b[1;34m\u001b[0m\n\u001b[1;32m----> 1\u001b[1;33m \u001b[0ma\u001b[0m\u001b[1;33m.\u001b[0m\u001b[0mresize\u001b[0m\u001b[1;33m(\u001b[0m\u001b[1;33m(\u001b[0m\u001b[1;36m3\u001b[0m\u001b[1;33m,\u001b[0m\u001b[1;33m-\u001b[0m\u001b[1;36m1\u001b[0m\u001b[1;33m)\u001b[0m\u001b[1;33m)\u001b[0m \u001b[1;31m# resize에서는 -1을 입력할 수 없다.\u001b[0m\u001b[1;33m\u001b[0m\u001b[1;33m\u001b[0m\u001b[0m\n\u001b[0m",
      "\u001b[1;31mValueError\u001b[0m: negative dimensions not allowed"
     ]
    }
   ],
   "source": [
    "a.resize((3,-1)) # resize에서는 -1을 입력할 수 없다."
   ]
  },
  {
   "cell_type": "markdown",
   "metadata": {},
   "source": [
    "**ex - 로또번호 6개(1~45)를 뽑아서 1차원 배열에 넣기**"
   ]
  },
  {
   "cell_type": "code",
   "execution_count": 69,
   "metadata": {
    "ExecuteTime": {
     "end_time": "2021-03-13T03:35:48.008080Z",
     "start_time": "2021-03-13T03:35:47.988087Z"
    }
   },
   "outputs": [
    {
     "data": {
      "text/plain": [
       "array([16.99191726, 17.16908341, 19.92274771, 43.99224752, 28.72624686,\n",
       "       19.59242431])"
      ]
     },
     "execution_count": 69,
     "metadata": {},
     "output_type": "execute_result"
    }
   ],
   "source": [
    "45*np.random.random(6) # 0~45 미만의 실수"
   ]
  },
  {
   "cell_type": "code",
   "execution_count": 70,
   "metadata": {
    "ExecuteTime": {
     "end_time": "2021-03-13T03:35:48.814408Z",
     "start_time": "2021-03-13T03:35:48.800416Z"
    }
   },
   "outputs": [
    {
     "name": "stdout",
     "output_type": "stream",
     "text": [
      "[10. 18. 26. 27. 38. 45.]\n"
     ]
    }
   ],
   "source": [
    "while True:\n",
    "    a = np.floor(45*np.random.random(6))+1 \n",
    "    a.sort()\n",
    "    \n",
    "    if len(set([int(data) for data in a])) == 6: # set (for 중복 제거)\n",
    "        print(a)\n",
    "        break;"
   ]
  },
  {
   "cell_type": "code",
   "execution_count": 71,
   "metadata": {
    "ExecuteTime": {
     "end_time": "2021-03-13T03:35:49.651675Z",
     "start_time": "2021-03-13T03:35:49.631680Z"
    }
   },
   "outputs": [
    {
     "data": {
      "text/plain": [
       "array([['1', '1'],\n",
       "       ['2.0', '1']], dtype='<U32')"
      ]
     },
     "execution_count": 71,
     "metadata": {},
     "output_type": "execute_result"
    }
   ],
   "source": [
    "np.array([[1,1],[2.0,'1']])"
   ]
  },
  {
   "cell_type": "markdown",
   "metadata": {},
   "source": [
    "## (5) 배열 인쇄"
   ]
  },
  {
   "cell_type": "code",
   "execution_count": 72,
   "metadata": {
    "ExecuteTime": {
     "end_time": "2021-03-13T03:35:54.049223Z",
     "start_time": "2021-03-13T03:35:54.030234Z"
    }
   },
   "outputs": [
    {
     "name": "stdout",
     "output_type": "stream",
     "text": [
      "[    0     1     2 ... 99997 99998 99999]\n"
     ]
    }
   ],
   "source": [
    "# 배열이 너무 커서 인쇄할 수 없는 경우 이렇게 출력된다.\n",
    "print(np.arange(100000))"
   ]
  },
  {
   "cell_type": "code",
   "execution_count": 73,
   "metadata": {
    "ExecuteTime": {
     "end_time": "2021-03-13T03:35:54.989679Z",
     "start_time": "2021-03-13T03:35:54.981686Z"
    }
   },
   "outputs": [
    {
     "name": "stdout",
     "output_type": "stream",
     "text": [
      "[[   0    1    2 ...  997  998  999]\n",
      " [1000 1001 1002 ... 1997 1998 1999]\n",
      " [2000 2001 2002 ... 2997 2998 2999]\n",
      " ...\n",
      " [7000 7001 7002 ... 7997 7998 7999]\n",
      " [8000 8001 8002 ... 8997 8998 8999]\n",
      " [9000 9001 9002 ... 9997 9998 9999]]\n"
     ]
    }
   ],
   "source": [
    "print(np.arange(10000).reshape(10,1000))"
   ]
  },
  {
   "cell_type": "code",
   "execution_count": 75,
   "metadata": {
    "ExecuteTime": {
     "end_time": "2021-03-13T03:36:00.470928Z",
     "start_time": "2021-03-13T03:36:00.455937Z"
    }
   },
   "outputs": [],
   "source": [
    "# 배열이 너무 커서 인쇄할 수 없는 경우 자동으로 건너뛰고 모서리만 인쇄\n",
    "# 이동작을 비활성화하고 넘파이가 전체 배열을 인쇄하도록 하려면\n",
    "# 인쇄 옵션 변경 threshold값을 큰 값으로\n",
    "import sys\n",
    "np.set_printoptions(threshold=100)\n",
    "# np.inf: 무한대 \n",
    "# 내 시스템에서의 sys.maxsize"
   ]
  },
  {
   "cell_type": "code",
   "execution_count": 76,
   "metadata": {
    "ExecuteTime": {
     "end_time": "2021-03-13T03:36:02.283950Z",
     "start_time": "2021-03-13T03:36:02.272956Z"
    }
   },
   "outputs": [
    {
     "name": "stdout",
     "output_type": "stream",
     "text": [
      "[[   0    1    2 ...  997  998  999]\n",
      " [1000 1001 1002 ... 1997 1998 1999]\n",
      " [2000 2001 2002 ... 2997 2998 2999]\n",
      " ...\n",
      " [7000 7001 7002 ... 7997 7998 7999]\n",
      " [8000 8001 8002 ... 8997 8998 8999]\n",
      " [9000 9001 9002 ... 9997 9998 9999]]\n"
     ]
    }
   ],
   "source": [
    "print(np.arange(10000).reshape(10,1000))"
   ]
  },
  {
   "cell_type": "markdown",
   "metadata": {},
   "source": [
    "## (6) 기본 연산 동작\n",
    "\n",
    "### 1) 배열의 요소별 연산"
   ]
  },
  {
   "cell_type": "code",
   "execution_count": 77,
   "metadata": {
    "ExecuteTime": {
     "end_time": "2021-03-13T03:36:12.382406Z",
     "start_time": "2021-03-13T03:36:12.367416Z"
    }
   },
   "outputs": [
    {
     "name": "stdout",
     "output_type": "stream",
     "text": [
      "[20 30 40 50]\n",
      "[0 1 2 3]\n"
     ]
    }
   ],
   "source": [
    "a = np.array([20,30,40,50])\n",
    "b = np.arange(4)\n",
    "print(a)\n",
    "print(b)"
   ]
  },
  {
   "cell_type": "code",
   "execution_count": 78,
   "metadata": {
    "ExecuteTime": {
     "end_time": "2021-03-13T03:36:13.044323Z",
     "start_time": "2021-03-13T03:36:13.034331Z"
    }
   },
   "outputs": [
    {
     "data": {
      "text/plain": [
       "array([20, 31, 42, 53])"
      ]
     },
     "execution_count": 78,
     "metadata": {},
     "output_type": "execute_result"
    }
   ],
   "source": [
    "a + b"
   ]
  },
  {
   "cell_type": "code",
   "execution_count": 79,
   "metadata": {
    "ExecuteTime": {
     "end_time": "2021-03-13T03:36:13.720034Z",
     "start_time": "2021-03-13T03:36:13.708044Z"
    }
   },
   "outputs": [
    {
     "data": {
      "text/plain": [
       "array([20, 29, 38, 47])"
      ]
     },
     "execution_count": 79,
     "metadata": {},
     "output_type": "execute_result"
    }
   ],
   "source": [
    "a - b"
   ]
  },
  {
   "cell_type": "code",
   "execution_count": 80,
   "metadata": {
    "ExecuteTime": {
     "end_time": "2021-03-13T03:36:14.324124Z",
     "start_time": "2021-03-13T03:36:14.304137Z"
    }
   },
   "outputs": [
    {
     "data": {
      "text/plain": [
       "array([  0,  30,  80, 150])"
      ]
     },
     "execution_count": 80,
     "metadata": {},
     "output_type": "execute_result"
    }
   ],
   "source": [
    "a * b"
   ]
  },
  {
   "cell_type": "code",
   "execution_count": 81,
   "metadata": {
    "ExecuteTime": {
     "end_time": "2021-03-13T03:36:15.547773Z",
     "start_time": "2021-03-13T03:36:15.528788Z"
    }
   },
   "outputs": [
    {
     "data": {
      "text/plain": [
       "array([20, 30, 40, 50])"
      ]
     },
     "execution_count": 81,
     "metadata": {},
     "output_type": "execute_result"
    }
   ],
   "source": [
    "a"
   ]
  },
  {
   "cell_type": "code",
   "execution_count": 82,
   "metadata": {
    "ExecuteTime": {
     "end_time": "2021-03-13T03:36:16.177808Z",
     "start_time": "2021-03-13T03:36:16.158817Z"
    }
   },
   "outputs": [
    {
     "data": {
      "text/plain": [
       "array([ True,  True, False, False])"
      ]
     },
     "execution_count": 82,
     "metadata": {},
     "output_type": "execute_result"
    }
   ],
   "source": [
    "a < 35 # 요소별 연산"
   ]
  },
  {
   "cell_type": "code",
   "execution_count": 83,
   "metadata": {
    "ExecuteTime": {
     "end_time": "2021-03-13T03:36:16.841359Z",
     "start_time": "2021-03-13T03:36:16.824369Z"
    }
   },
   "outputs": [
    {
     "data": {
      "text/plain": [
       "array([20, 30])"
      ]
     },
     "execution_count": 83,
     "metadata": {},
     "output_type": "execute_result"
    }
   ],
   "source": [
    "a[a < 35] # 배열에서 a<35 조건에 맞는 데이터만 추출"
   ]
  },
  {
   "cell_type": "markdown",
   "metadata": {},
   "source": [
    "### 2) 행렬의 곱(@) "
   ]
  },
  {
   "cell_type": "code",
   "execution_count": 84,
   "metadata": {
    "ExecuteTime": {
     "end_time": "2021-03-13T03:36:22.024857Z",
     "start_time": "2021-03-13T03:36:22.009865Z"
    }
   },
   "outputs": [],
   "source": [
    "A = np.array([[1, 1],\n",
    "              [0, 1]])"
   ]
  },
  {
   "cell_type": "code",
   "execution_count": 85,
   "metadata": {
    "ExecuteTime": {
     "end_time": "2021-03-13T03:36:23.647975Z",
     "start_time": "2021-03-13T03:36:23.642981Z"
    }
   },
   "outputs": [],
   "source": [
    "B = np.array([[2, 0],\n",
    "              [3, 4]])"
   ]
  },
  {
   "cell_type": "code",
   "execution_count": 86,
   "metadata": {
    "ExecuteTime": {
     "end_time": "2021-03-13T03:36:24.359912Z",
     "start_time": "2021-03-13T03:36:24.339918Z"
    }
   },
   "outputs": [
    {
     "data": {
      "text/plain": [
       "(array([[1, 1],\n",
       "        [0, 1]]),\n",
       " array([[2, 0],\n",
       "        [3, 4]]))"
      ]
     },
     "execution_count": 86,
     "metadata": {},
     "output_type": "execute_result"
    }
   ],
   "source": [
    "A, B"
   ]
  },
  {
   "cell_type": "code",
   "execution_count": 87,
   "metadata": {
    "ExecuteTime": {
     "end_time": "2021-03-13T03:36:25.516189Z",
     "start_time": "2021-03-13T03:36:25.495198Z"
    }
   },
   "outputs": [
    {
     "name": "stdout",
     "output_type": "stream",
     "text": [
      "요소별 곱 A*B = \n",
      "[[2 0]\n",
      " [0 4]]\n",
      "행렬 곱 A@B = \n",
      "[[5 4]\n",
      " [3 4]]\n",
      "행렬 곱 A.dot(B) = \n",
      "[[5 4]\n",
      " [3 4]]\n"
     ]
    }
   ],
   "source": [
    "print('요소별 곱 A*B = ', A*B, sep='\\n')\n",
    "print('행렬 곱 A@B = ', A@B, sep='\\n')\n",
    "print('행렬 곱 A.dot(B) = ', A.dot(B), sep='\\n')"
   ]
  },
  {
   "cell_type": "markdown",
   "metadata": {},
   "source": [
    "### 3) 복합대입 연산자 (+=, -=, *=, ...)"
   ]
  },
  {
   "cell_type": "code",
   "execution_count": 88,
   "metadata": {
    "ExecuteTime": {
     "end_time": "2021-03-13T03:36:28.439734Z",
     "start_time": "2021-03-13T03:36:28.417747Z"
    }
   },
   "outputs": [
    {
     "data": {
      "text/plain": [
       "array([[1, 1, 1],\n",
       "       [1, 1, 1]])"
      ]
     },
     "execution_count": 88,
     "metadata": {},
     "output_type": "execute_result"
    }
   ],
   "source": [
    "a = np.ones((2,3), dtype=int) # 2행 2열 2차원 배열 int32\n",
    "a"
   ]
  },
  {
   "cell_type": "code",
   "execution_count": 89,
   "metadata": {
    "ExecuteTime": {
     "end_time": "2021-03-13T03:36:29.178507Z",
     "start_time": "2021-03-13T03:36:29.165513Z"
    }
   },
   "outputs": [
    {
     "data": {
      "text/plain": [
       "array([[0.96281441, 0.39503005, 0.64737728],\n",
       "       [0.44410996, 0.15875903, 0.13362217]])"
      ]
     },
     "execution_count": 89,
     "metadata": {},
     "output_type": "execute_result"
    }
   ],
   "source": [
    "b = np.random.random((2,3)) # 2행 2열 2차원 배열 float64\n",
    "b"
   ]
  },
  {
   "cell_type": "code",
   "execution_count": 90,
   "metadata": {
    "ExecuteTime": {
     "end_time": "2021-03-13T03:36:29.943745Z",
     "start_time": "2021-03-13T03:36:29.936751Z"
    }
   },
   "outputs": [
    {
     "data": {
      "text/plain": [
       "array([[4, 4, 4],\n",
       "       [4, 4, 4]])"
      ]
     },
     "execution_count": 90,
     "metadata": {},
     "output_type": "execute_result"
    }
   ],
   "source": [
    "a += 3\n",
    "a"
   ]
  },
  {
   "cell_type": "code",
   "execution_count": 91,
   "metadata": {
    "ExecuteTime": {
     "end_time": "2021-03-13T03:36:31.597398Z",
     "start_time": "2021-03-13T03:36:31.578406Z"
    }
   },
   "outputs": [
    {
     "data": {
      "text/plain": [
       "array([[4.96281441, 4.39503005, 4.64737728],\n",
       "       [4.44410996, 4.15875903, 4.13362217]])"
      ]
     },
     "execution_count": 91,
     "metadata": {},
     "output_type": "execute_result"
    }
   ],
   "source": [
    "b += a\n",
    "b"
   ]
  },
  {
   "cell_type": "code",
   "execution_count": 92,
   "metadata": {
    "ExecuteTime": {
     "end_time": "2021-03-13T03:36:32.382758Z",
     "start_time": "2021-03-13T03:36:32.364767Z"
    }
   },
   "outputs": [
    {
     "ename": "UFuncTypeError",
     "evalue": "Cannot cast ufunc 'add' output from dtype('float64') to dtype('int32') with casting rule 'same_kind'",
     "output_type": "error",
     "traceback": [
      "\u001b[1;31m---------------------------------------------------------------------------\u001b[0m",
      "\u001b[1;31mUFuncTypeError\u001b[0m                            Traceback (most recent call last)",
      "\u001b[1;32m<ipython-input-92-cb42686fd9b7>\u001b[0m in \u001b[0;36m<module>\u001b[1;34m\u001b[0m\n\u001b[1;32m----> 1\u001b[1;33m \u001b[0ma\u001b[0m \u001b[1;33m+=\u001b[0m \u001b[0mb\u001b[0m \u001b[1;31m# 에러(b가 float64이므로 a+b는 float64)\u001b[0m\u001b[1;33m\u001b[0m\u001b[1;33m\u001b[0m\u001b[0m\n\u001b[0m\u001b[0;32m      2\u001b[0m \u001b[0ma\u001b[0m\u001b[1;33m\u001b[0m\u001b[1;33m\u001b[0m\u001b[0m\n",
      "\u001b[1;31mUFuncTypeError\u001b[0m: Cannot cast ufunc 'add' output from dtype('float64') to dtype('int32') with casting rule 'same_kind'"
     ]
    }
   ],
   "source": [
    "a += b # 에러(b가 float64이므로 a+b는 float64)\n",
    "a"
   ]
  },
  {
   "cell_type": "code",
   "execution_count": 93,
   "metadata": {
    "ExecuteTime": {
     "end_time": "2021-03-13T03:36:36.051729Z",
     "start_time": "2021-03-13T03:36:36.033738Z"
    }
   },
   "outputs": [
    {
     "name": "stdout",
     "output_type": "stream",
     "text": [
      "[1 1 1]\n",
      "[0.         1.57079633 3.14159265]\n"
     ]
    }
   ],
   "source": [
    "a = np.ones(3, dtype=np.int16)\n",
    "b = np.linspace(0, np.pi, 3)\n",
    "\n",
    "print(a)\n",
    "print(b)"
   ]
  },
  {
   "cell_type": "code",
   "execution_count": 94,
   "metadata": {
    "ExecuteTime": {
     "end_time": "2021-03-13T03:36:37.687019Z",
     "start_time": "2021-03-13T03:36:37.680027Z"
    }
   },
   "outputs": [
    {
     "name": "stdout",
     "output_type": "stream",
     "text": [
      "[1.         2.57079633 4.14159265]\n",
      "float64\n"
     ]
    }
   ],
   "source": [
    "c =  a + b \n",
    "\n",
    "print(c)\n",
    "print(c.dtype)"
   ]
  },
  {
   "cell_type": "code",
   "execution_count": 95,
   "metadata": {
    "ExecuteTime": {
     "end_time": "2021-03-13T03:36:39.035757Z",
     "start_time": "2021-03-13T03:36:39.017767Z"
    }
   },
   "outputs": [
    {
     "name": "stdout",
     "output_type": "stream",
     "text": [
      "[1.+0.j         1.+1.57079633j 1.+3.14159265j]\n",
      "complex128\n"
     ]
    }
   ],
   "source": [
    "c = a + b*1j\n",
    "\n",
    "print(c)\n",
    "print(c.dtype)"
   ]
  },
  {
   "cell_type": "markdown",
   "metadata": {},
   "source": [
    "### 4) 배열 요소별 집계"
   ]
  },
  {
   "cell_type": "code",
   "execution_count": 96,
   "metadata": {
    "ExecuteTime": {
     "end_time": "2021-03-13T03:36:41.316174Z",
     "start_time": "2021-03-13T03:36:41.307182Z"
    }
   },
   "outputs": [
    {
     "data": {
      "text/plain": [
       "array([[2, 2, 2, 4],\n",
       "       [4, 3, 2, 1]])"
      ]
     },
     "execution_count": 96,
     "metadata": {},
     "output_type": "execute_result"
    }
   ],
   "source": [
    "a = np.array([[2,2,2,4],\n",
    "              [4,3,2,1]])\n",
    "a"
   ]
  },
  {
   "cell_type": "code",
   "execution_count": 97,
   "metadata": {
    "ExecuteTime": {
     "end_time": "2021-03-13T03:36:42.099792Z",
     "start_time": "2021-03-13T03:36:42.078804Z"
    }
   },
   "outputs": [
    {
     "name": "stdout",
     "output_type": "stream",
     "text": [
      "a 배열 요소 전체의 합:  20\n",
      "a 배열 요소 전체의 최소값:  1\n",
      "a 배열 요소 전체의 최대값:  4\n"
     ]
    }
   ],
   "source": [
    "print('a 배열 요소 전체의 합: ', a.sum())\n",
    "print('a 배열 요소 전체의 최소값: ', a.min())\n",
    "print('a 배열 요소 전체의 최대값: ', a.max())"
   ]
  },
  {
   "cell_type": "markdown",
   "metadata": {},
   "source": [
    "### 5) 배열의 축별 집계"
   ]
  },
  {
   "cell_type": "code",
   "execution_count": 98,
   "metadata": {
    "ExecuteTime": {
     "end_time": "2021-03-13T03:36:43.881588Z",
     "start_time": "2021-03-13T03:36:43.860604Z"
    }
   },
   "outputs": [
    {
     "data": {
      "text/plain": [
       "array([[2, 2, 2, 4],\n",
       "       [4, 3, 2, 1]])"
      ]
     },
     "execution_count": 98,
     "metadata": {},
     "output_type": "execute_result"
    }
   ],
   "source": [
    "a = np.array([[2,2,2,4],\n",
    "              [4,3,2,1]])\n",
    "a"
   ]
  },
  {
   "cell_type": "code",
   "execution_count": 99,
   "metadata": {
    "ExecuteTime": {
     "end_time": "2021-03-13T03:36:44.651500Z",
     "start_time": "2021-03-13T03:36:44.644505Z"
    }
   },
   "outputs": [
    {
     "name": "stdout",
     "output_type": "stream",
     "text": [
      "a 배열의 행별 합(결과는 2열짜리 배열):  [10 10]\n",
      "a 배열의 열별 합(결과는 4열짜리 배열):  [6 5 4 5]\n"
     ]
    }
   ],
   "source": [
    "print('a 배열의 행별 합(결과는 2열짜리 배열): ', a.sum(axis=1))\n",
    "print('a 배열의 열별 합(결과는 4열짜리 배열): ', a.sum(axis=0))"
   ]
  },
  {
   "cell_type": "code",
   "execution_count": 100,
   "metadata": {
    "ExecuteTime": {
     "end_time": "2021-03-13T03:36:45.654074Z",
     "start_time": "2021-03-13T03:36:45.639078Z"
    }
   },
   "outputs": [
    {
     "name": "stdout",
     "output_type": "stream",
     "text": [
      "a 배열의 행별 최소값:  [2 1]\n",
      "a 배열의 열별 최소값:  [2 2 2 1]\n"
     ]
    }
   ],
   "source": [
    "print('a 배열의 행별 최소값: ', a.min(axis=1))\n",
    "print('a 배열의 열별 최소값: ', a.min(axis=0))"
   ]
  },
  {
   "cell_type": "code",
   "execution_count": 101,
   "metadata": {
    "ExecuteTime": {
     "end_time": "2021-03-13T03:36:46.427135Z",
     "start_time": "2021-03-13T03:36:46.409145Z"
    }
   },
   "outputs": [
    {
     "name": "stdout",
     "output_type": "stream",
     "text": [
      "a 배열의 행별 최대값:  [4 4]\n",
      "a 배열의 열별 최대값:  [4 3 2 4]\n"
     ]
    }
   ],
   "source": [
    "print('a 배열의 행별 최대값: ', a.max(axis=1))\n",
    "print('a 배열의 열별 최대값: ', a.max(axis=0))"
   ]
  },
  {
   "cell_type": "code",
   "execution_count": 102,
   "metadata": {
    "ExecuteTime": {
     "end_time": "2021-03-13T03:36:47.070692Z",
     "start_time": "2021-03-13T03:36:47.062697Z"
    }
   },
   "outputs": [
    {
     "name": "stdout",
     "output_type": "stream",
     "text": [
      "[[2 2 2 4]\n",
      " [4 3 2 1]]\n",
      "[[ 2  4  6 10]\n",
      " [ 4  7  9 10]]\n",
      "[[2 2 2 4]\n",
      " [6 5 4 5]]\n"
     ]
    }
   ],
   "source": [
    "# 누적합 \n",
    "print(a)\n",
    "print(a.cumsum(axis=1)) # 행별 누적합\n",
    "print(a.cumsum(axis=0)) # 열별 누적합"
   ]
  },
  {
   "cell_type": "code",
   "execution_count": 103,
   "metadata": {
    "ExecuteTime": {
     "end_time": "2021-03-13T03:36:48.457222Z",
     "start_time": "2021-03-13T03:36:48.436235Z"
    }
   },
   "outputs": [
    {
     "data": {
      "text/plain": [
       "array([[[ 0,  1,  2,  3],\n",
       "        [ 4,  5,  6,  7],\n",
       "        [ 8,  9, 10, 11]],\n",
       "\n",
       "       [[12, 13, 14, 15],\n",
       "        [16, 17, 18, 19],\n",
       "        [20, 21, 22, 23]]])"
      ]
     },
     "execution_count": 103,
     "metadata": {},
     "output_type": "execute_result"
    }
   ],
   "source": [
    "b = np.arange(24).reshape(2,3,4)\n",
    "b"
   ]
  },
  {
   "cell_type": "code",
   "execution_count": 104,
   "metadata": {
    "ExecuteTime": {
     "end_time": "2021-03-13T03:36:49.311347Z",
     "start_time": "2021-03-13T03:36:49.292357Z"
    }
   },
   "outputs": [
    {
     "data": {
      "text/plain": [
       "(276, 0, 23)"
      ]
     },
     "execution_count": 104,
     "metadata": {},
     "output_type": "execute_result"
    }
   ],
   "source": [
    "b.sum(), b.min(), b.max()"
   ]
  },
  {
   "cell_type": "code",
   "execution_count": 105,
   "metadata": {
    "ExecuteTime": {
     "end_time": "2021-03-13T03:36:50.444708Z",
     "start_time": "2021-03-13T03:36:50.426719Z"
    }
   },
   "outputs": [
    {
     "data": {
      "text/plain": [
       "array([[12, 14, 16, 18],\n",
       "       [20, 22, 24, 26],\n",
       "       [28, 30, 32, 34]])"
      ]
     },
     "execution_count": 105,
     "metadata": {},
     "output_type": "execute_result"
    }
   ],
   "source": [
    "b.sum(axis=0) # 각 면의 같은 위치에 있는 행, 열끼리 sum "
   ]
  },
  {
   "cell_type": "code",
   "execution_count": 106,
   "metadata": {
    "ExecuteTime": {
     "end_time": "2021-03-13T03:36:52.161969Z",
     "start_time": "2021-03-13T03:36:52.153976Z"
    }
   },
   "outputs": [
    {
     "data": {
      "text/plain": [
       "array([[12, 15, 18, 21],\n",
       "       [48, 51, 54, 57]])"
      ]
     },
     "execution_count": 106,
     "metadata": {},
     "output_type": "execute_result"
    }
   ],
   "source": [
    "b.sum(axis=1) # 각 면별로 같은 열끼리 합하여 면별로 묶는다."
   ]
  },
  {
   "cell_type": "code",
   "execution_count": 107,
   "metadata": {
    "ExecuteTime": {
     "end_time": "2021-03-13T03:36:52.794150Z",
     "start_time": "2021-03-13T03:36:52.775161Z"
    }
   },
   "outputs": [
    {
     "data": {
      "text/plain": [
       "array([[ 6, 22, 38],\n",
       "       [54, 70, 86]])"
      ]
     },
     "execution_count": 107,
     "metadata": {},
     "output_type": "execute_result"
    }
   ],
   "source": [
    "b.sum(axis=2) # 같은 행끼리의 합하여 같은 면끼리 묶음"
   ]
  },
  {
   "cell_type": "code",
   "execution_count": 108,
   "metadata": {
    "ExecuteTime": {
     "end_time": "2021-03-13T03:36:53.457760Z",
     "start_time": "2021-03-13T03:36:53.447769Z"
    }
   },
   "outputs": [
    {
     "data": {
      "text/plain": [
       "276"
      ]
     },
     "execution_count": 108,
     "metadata": {},
     "output_type": "execute_result"
    }
   ],
   "source": [
    "np.sum(b) # 요소들 전체의 합"
   ]
  },
  {
   "cell_type": "code",
   "execution_count": 110,
   "metadata": {
    "ExecuteTime": {
     "end_time": "2021-03-13T03:36:55.920734Z",
     "start_time": "2021-03-13T03:36:55.902744Z"
    }
   },
   "outputs": [
    {
     "data": {
      "text/plain": [
       "11.5"
      ]
     },
     "execution_count": 110,
     "metadata": {},
     "output_type": "execute_result"
    }
   ],
   "source": [
    "np.mean(b) # 요소들 전체의 평균"
   ]
  },
  {
   "cell_type": "code",
   "execution_count": 111,
   "metadata": {
    "ExecuteTime": {
     "end_time": "2021-03-13T03:36:56.894802Z",
     "start_time": "2021-03-13T03:36:56.874816Z"
    }
   },
   "outputs": [
    {
     "data": {
      "text/plain": [
       "6.922186552431729"
      ]
     },
     "execution_count": 111,
     "metadata": {},
     "output_type": "execute_result"
    }
   ],
   "source": [
    "np.std(b) # 요소들 전체의 표준편차"
   ]
  },
  {
   "cell_type": "code",
   "execution_count": 112,
   "metadata": {
    "ExecuteTime": {
     "end_time": "2021-03-13T03:36:57.510200Z",
     "start_time": "2021-03-13T03:36:57.493211Z"
    }
   },
   "outputs": [
    {
     "data": {
      "text/plain": [
       "47.916666666666664"
      ]
     },
     "execution_count": 112,
     "metadata": {},
     "output_type": "execute_result"
    }
   ],
   "source": [
    "np.var(b) # 요소들 전체의 분산"
   ]
  },
  {
   "cell_type": "code",
   "execution_count": 113,
   "metadata": {
    "ExecuteTime": {
     "end_time": "2021-03-13T03:36:58.080616Z",
     "start_time": "2021-03-13T03:36:58.064629Z"
    }
   },
   "outputs": [
    {
     "data": {
      "text/plain": [
       "6.922186552431729"
      ]
     },
     "execution_count": 113,
     "metadata": {},
     "output_type": "execute_result"
    }
   ],
   "source": [
    "np.sqrt(np.var(b)) # np.sqrt()의 매개변수에는 스칼라변수,배열변수 모두 가능"
   ]
  },
  {
   "cell_type": "code",
   "execution_count": 114,
   "metadata": {
    "ExecuteTime": {
     "end_time": "2021-03-13T03:36:58.635306Z",
     "start_time": "2021-03-13T03:36:58.620310Z"
    }
   },
   "outputs": [
    {
     "data": {
      "text/plain": [
       "6.922186552431729"
      ]
     },
     "execution_count": 114,
     "metadata": {},
     "output_type": "execute_result"
    }
   ],
   "source": [
    "import math\n",
    "math.sqrt(np.var(b))"
   ]
  },
  {
   "cell_type": "markdown",
   "metadata": {},
   "source": [
    "## (7) 그 외 함수들"
   ]
  },
  {
   "cell_type": "code",
   "execution_count": 210,
   "metadata": {
    "ExecuteTime": {
     "end_time": "2021-03-13T03:39:31.580936Z",
     "start_time": "2021-03-13T03:39:31.563948Z"
    }
   },
   "outputs": [
    {
     "data": {
      "text/plain": [
       "array([0.        , 1.        , 1.41421356])"
      ]
     },
     "execution_count": 210,
     "metadata": {},
     "output_type": "execute_result"
    }
   ],
   "source": [
    "a = np.arange(3)\n",
    "np.sqrt(a)"
   ]
  },
  {
   "cell_type": "code",
   "execution_count": 116,
   "metadata": {
    "ExecuteTime": {
     "end_time": "2021-03-13T03:37:06.663597Z",
     "start_time": "2021-03-13T03:37:06.650605Z"
    }
   },
   "outputs": [
    {
     "data": {
      "text/plain": [
       "array([1.        , 2.71828183, 7.3890561 ])"
      ]
     },
     "execution_count": 116,
     "metadata": {},
     "output_type": "execute_result"
    }
   ],
   "source": [
    "np.exp(a) # 지수 e의 0승,1승,2승..."
   ]
  },
  {
   "cell_type": "code",
   "execution_count": 211,
   "metadata": {
    "ExecuteTime": {
     "end_time": "2021-03-13T03:39:32.399521Z",
     "start_time": "2021-03-13T03:39:32.381531Z"
    }
   },
   "outputs": [
    {
     "data": {
      "text/plain": [
       "array([0, 1, 2])"
      ]
     },
     "execution_count": 211,
     "metadata": {},
     "output_type": "execute_result"
    }
   ],
   "source": [
    "a"
   ]
  },
  {
   "cell_type": "code",
   "execution_count": 212,
   "metadata": {
    "ExecuteTime": {
     "end_time": "2021-03-13T03:39:33.796729Z",
     "start_time": "2021-03-13T03:39:33.784738Z"
    }
   },
   "outputs": [
    {
     "data": {
      "text/plain": [
       "array([10, 12, 14])"
      ]
     },
     "execution_count": 212,
     "metadata": {},
     "output_type": "execute_result"
    }
   ],
   "source": [
    "b = np.array([10,11,12])\n",
    "np.add(a, b)"
   ]
  },
  {
   "cell_type": "code",
   "execution_count": 2,
   "metadata": {
    "ExecuteTime": {
     "end_time": "2021-03-13T14:18:24.405917Z",
     "start_time": "2021-03-13T14:17:12.181555Z"
    }
   },
   "outputs": [],
   "source": [
    "# 메모리 사용량 측정(메모리 프로파일러)를 로드하고 \n",
    "# 임의의 데이터 생성후 np.add\n",
    "# 아나콘다 프롬프트에서 (pip install memory_profiler)\n",
    "\n",
    "%load_ext memory_profiler\n",
    "\n",
    "A = np.random.randn(100000000)\n",
    "B = np.random.randn(100000000)\n",
    "C = np.random.randn(100000000)"
   ]
  },
  {
   "cell_type": "code",
   "execution_count": null,
   "metadata": {},
   "outputs": [],
   "source": [
    "# %%time: 셀을 실행할 때 소요되는 시간 출력 \n",
    "# % memit: 메모리 사용량 출력"
   ]
  },
  {
   "cell_type": "code",
   "execution_count": 214,
   "metadata": {
    "ExecuteTime": {
     "end_time": "2021-03-13T03:48:36.783754Z",
     "start_time": "2021-03-13T03:40:42.968756Z"
    }
   },
   "outputs": [
    {
     "name": "stdout",
     "output_type": "stream",
     "text": [
      "peak memory: 2444.76 MiB, increment: 1992.64 MiB\n",
      "[ 1.38628858 -0.81782461 -1.56177463 ... -1.95155379  1.87600163\n",
      " -0.15880116]\n",
      "Wall time: 7min 52s\n"
     ]
    }
   ],
   "source": [
    "%%time\n",
    "%memit G=A*B+C\n",
    "print(G)"
   ]
  },
  {
   "cell_type": "code",
   "execution_count": 216,
   "metadata": {
    "ExecuteTime": {
     "end_time": "2021-03-13T05:26:35.459297Z",
     "start_time": "2021-03-13T05:11:09.158808Z"
    }
   },
   "outputs": [
    {
     "name": "stdout",
     "output_type": "stream",
     "text": [
      "peak memory: 2171.84 MiB, increment: 1682.69 MiB\n",
      "[ 1.38628858 -0.81782461 -1.56177463 ... -1.95155379  1.87600163\n",
      " -0.15880116]\n",
      "Wall time: 15min 24s\n"
     ]
    }
   ],
   "source": [
    "%%time\n",
    "%memit T=A*B; G=T+C; del T\n",
    "print(G)"
   ]
  },
  {
   "cell_type": "code",
   "execution_count": 217,
   "metadata": {
    "ExecuteTime": {
     "end_time": "2021-03-13T05:45:24.180864Z",
     "start_time": "2021-03-13T05:33:52.314100Z"
    }
   },
   "outputs": [
    {
     "name": "stdout",
     "output_type": "stream",
     "text": [
      "peak memory: 2046.13 MiB, increment: 946.53 MiB\n",
      "[ 1.38628858 -0.81782461 -1.56177463 ... -1.95155379  1.87600163\n",
      " -0.15880116]\n",
      "Wall time: 11min 21s\n"
     ]
    }
   ],
   "source": [
    "%%time\n",
    "%memit T=A*B; T+=C\n",
    "print(G)"
   ]
  },
  {
   "cell_type": "code",
   "execution_count": null,
   "metadata": {},
   "outputs": [],
   "source": [
    "# np.add()경우 배열별 연산을 할 경우 메모리 절약"
   ]
  },
  {
   "cell_type": "code",
   "execution_count": 3,
   "metadata": {
    "ExecuteTime": {
     "end_time": "2021-03-13T14:25:29.622774Z",
     "start_time": "2021-03-13T14:19:25.760512Z"
    }
   },
   "outputs": [
    {
     "name": "stdout",
     "output_type": "stream",
     "text": [
      "peak memory: 2498.75 MiB, increment: 2417.14 MiB\n",
      "[-1.1085234  -0.92786654 -0.95112384 ... -2.2014836   0.28647923\n",
      " -0.11528211]\n",
      "Wall time: 6min 2s\n"
     ]
    }
   ],
   "source": [
    "%%time\n",
    "%memit T=A*B; np.add(T, C, T)\n",
    "print(T)"
   ]
  },
  {
   "cell_type": "markdown",
   "metadata": {},
   "source": [
    "## (8) 브로드캐스팅"
   ]
  },
  {
   "cell_type": "code",
   "execution_count": 119,
   "metadata": {
    "ExecuteTime": {
     "end_time": "2021-03-13T03:37:14.412720Z",
     "start_time": "2021-03-13T03:37:14.393732Z"
    }
   },
   "outputs": [
    {
     "data": {
      "text/plain": [
       "array([11, 12, 13])"
      ]
     },
     "execution_count": 119,
     "metadata": {},
     "output_type": "execute_result"
    }
   ],
   "source": [
    "# 1차원 배열 \n",
    "from numpy import array\n",
    "a = array([1,2,3])\n",
    "np.add(a, 10)"
   ]
  },
  {
   "cell_type": "code",
   "execution_count": 120,
   "metadata": {
    "ExecuteTime": {
     "end_time": "2021-03-13T03:37:15.260396Z",
     "start_time": "2021-03-13T03:37:15.251402Z"
    }
   },
   "outputs": [
    {
     "data": {
      "text/plain": [
       "array([[ 5.,  5.,  5.],\n",
       "       [15., 15., 15.],\n",
       "       [25., 25., 25.],\n",
       "       [35., 35., 35.]])"
      ]
     },
     "execution_count": 120,
     "metadata": {},
     "output_type": "execute_result"
    }
   ],
   "source": [
    "# 2차원 배열: 두 배열의 후미 축(열)의 크기가 동일\n",
    "a = array([[0.,0, 0],\n",
    "           [10,10,10],\n",
    "           [20,20,20],\n",
    "           [30,30,30,]])\n",
    "b = array([5, 5, 5])\n",
    "np.add(a, b)"
   ]
  },
  {
   "cell_type": "code",
   "execution_count": 121,
   "metadata": {
    "ExecuteTime": {
     "end_time": "2021-03-13T03:37:16.178023Z",
     "start_time": "2021-03-13T03:37:16.158030Z"
    }
   },
   "outputs": [
    {
     "data": {
      "text/plain": [
       "array([[  0.,   0.,   0.],\n",
       "       [ 50.,  50.,  50.],\n",
       "       [100., 100., 100.],\n",
       "       [150., 150., 150.]])"
      ]
     },
     "execution_count": 121,
     "metadata": {},
     "output_type": "execute_result"
    }
   ],
   "source": [
    "np.multiply(a, b)"
   ]
  },
  {
   "cell_type": "code",
   "execution_count": 123,
   "metadata": {
    "ExecuteTime": {
     "end_time": "2021-03-13T03:37:20.936839Z",
     "start_time": "2021-03-13T03:37:20.917851Z"
    }
   },
   "outputs": [],
   "source": [
    "from numpy import array, newaxis\n",
    "\n",
    "a = array([0, 10, 20, 30])\n",
    "b = array([1, 2, 3])"
   ]
  },
  {
   "cell_type": "markdown",
   "metadata": {},
   "source": [
    "- newaxis연산자: 배열에 새로운 축을 추가하여 2차원 배열 생성 "
   ]
  },
  {
   "cell_type": "code",
   "execution_count": 124,
   "metadata": {
    "ExecuteTime": {
     "end_time": "2021-03-13T03:37:22.854672Z",
     "start_time": "2021-03-13T03:37:22.846675Z"
    }
   },
   "outputs": [
    {
     "data": {
      "text/plain": [
       "array([[ 0],\n",
       "       [10],\n",
       "       [20],\n",
       "       [30]])"
      ]
     },
     "execution_count": 124,
     "metadata": {},
     "output_type": "execute_result"
    }
   ],
   "source": [
    "a[:, newaxis]"
   ]
  },
  {
   "cell_type": "code",
   "execution_count": 125,
   "metadata": {
    "ExecuteTime": {
     "end_time": "2021-03-13T03:37:23.733140Z",
     "start_time": "2021-03-13T03:37:23.723147Z"
    }
   },
   "outputs": [
    {
     "data": {
      "text/plain": [
       "array([[ 1,  2,  3],\n",
       "       [11, 12, 13],\n",
       "       [21, 22, 23],\n",
       "       [31, 32, 33]])"
      ]
     },
     "execution_count": 125,
     "metadata": {},
     "output_type": "execute_result"
    }
   ],
   "source": [
    "# 4x1 배열 + 1x3 배열\n",
    "x = np.add(a[:, newaxis], b)\n",
    "x"
   ]
  },
  {
   "cell_type": "code",
   "execution_count": 126,
   "metadata": {
    "ExecuteTime": {
     "end_time": "2021-03-13T03:37:24.749027Z",
     "start_time": "2021-03-13T03:37:24.738032Z"
    }
   },
   "outputs": [
    {
     "data": {
      "text/plain": [
       "True"
      ]
     },
     "execution_count": 126,
     "metadata": {},
     "output_type": "execute_result"
    }
   ],
   "source": [
    "a[0] + b[1] == x[0,1]\n",
    "a[1] + b[2] == x[1,2]"
   ]
  },
  {
   "cell_type": "markdown",
   "metadata": {},
   "source": [
    "# 3. 배열 합치기 / 분할하기"
   ]
  },
  {
   "cell_type": "code",
   "execution_count": 127,
   "metadata": {
    "ExecuteTime": {
     "end_time": "2021-03-13T03:37:26.168136Z",
     "start_time": "2021-03-13T03:37:26.152146Z"
    }
   },
   "outputs": [
    {
     "data": {
      "text/plain": [
       "array([ 0,  3,  6,  9, 12, 15, 18, 21, 24, 27])"
      ]
     },
     "execution_count": 127,
     "metadata": {},
     "output_type": "execute_result"
    }
   ],
   "source": [
    "a = np.arange(10)*3\n",
    "a"
   ]
  },
  {
   "cell_type": "markdown",
   "metadata": {},
   "source": [
    "## (1) 인덱싱과 슬라이싱"
   ]
  },
  {
   "cell_type": "markdown",
   "metadata": {},
   "source": [
    "### 1) 인덱싱"
   ]
  },
  {
   "cell_type": "code",
   "execution_count": 128,
   "metadata": {
    "ExecuteTime": {
     "end_time": "2021-03-13T03:37:29.053629Z",
     "start_time": "2021-03-13T03:37:29.036642Z"
    }
   },
   "outputs": [
    {
     "data": {
      "text/plain": [
       "6"
      ]
     },
     "execution_count": 128,
     "metadata": {},
     "output_type": "execute_result"
    }
   ],
   "source": [
    "a[2]"
   ]
  },
  {
   "cell_type": "code",
   "execution_count": 129,
   "metadata": {
    "ExecuteTime": {
     "end_time": "2021-03-13T03:37:29.745626Z",
     "start_time": "2021-03-13T03:37:29.724639Z"
    }
   },
   "outputs": [
    {
     "data": {
      "text/plain": [
       "27"
      ]
     },
     "execution_count": 129,
     "metadata": {},
     "output_type": "execute_result"
    }
   ],
   "source": [
    "a[-1]"
   ]
  },
  {
   "cell_type": "code",
   "execution_count": 130,
   "metadata": {
    "ExecuteTime": {
     "end_time": "2021-03-13T03:37:30.343751Z",
     "start_time": "2021-03-13T03:37:30.330761Z"
    }
   },
   "outputs": [
    {
     "ename": "IndexError",
     "evalue": "index 10 is out of bounds for axis 0 with size 10",
     "output_type": "error",
     "traceback": [
      "\u001b[1;31m---------------------------------------------------------------------------\u001b[0m",
      "\u001b[1;31mIndexError\u001b[0m                                Traceback (most recent call last)",
      "\u001b[1;32m<ipython-input-130-b6608bd5d6ff>\u001b[0m in \u001b[0;36m<module>\u001b[1;34m\u001b[0m\n\u001b[1;32m----> 1\u001b[1;33m \u001b[0ma\u001b[0m\u001b[1;33m[\u001b[0m\u001b[1;36m10\u001b[0m\u001b[1;33m]\u001b[0m \u001b[1;31m# 없는 인덱스번호 출력시 에러\u001b[0m\u001b[1;33m\u001b[0m\u001b[1;33m\u001b[0m\u001b[0m\n\u001b[0m",
      "\u001b[1;31mIndexError\u001b[0m: index 10 is out of bounds for axis 0 with size 10"
     ]
    }
   ],
   "source": [
    "a[10] # 없는 인덱스번호 출력시 에러 "
   ]
  },
  {
   "cell_type": "markdown",
   "metadata": {},
   "source": [
    "### 2) 슬라이싱"
   ]
  },
  {
   "cell_type": "code",
   "execution_count": 131,
   "metadata": {
    "ExecuteTime": {
     "end_time": "2021-03-13T03:37:35.718978Z",
     "start_time": "2021-03-13T03:37:35.706986Z"
    }
   },
   "outputs": [
    {
     "data": {
      "text/plain": [
       "array([ 6,  9, 12])"
      ]
     },
     "execution_count": 131,
     "metadata": {},
     "output_type": "execute_result"
    }
   ],
   "source": [
    "a[2:5]"
   ]
  },
  {
   "cell_type": "code",
   "execution_count": 132,
   "metadata": {
    "ExecuteTime": {
     "end_time": "2021-03-13T03:37:36.365870Z",
     "start_time": "2021-03-13T03:37:36.350875Z"
    }
   },
   "outputs": [
    {
     "data": {
      "text/plain": [
       "array([ 0,  6, 12, 18, 24])"
      ]
     },
     "execution_count": 132,
     "metadata": {},
     "output_type": "execute_result"
    }
   ],
   "source": [
    "a[0:11:2] # 슬라이싱은 범위 밖에 있는 인덱스 번호도 입력 가능"
   ]
  },
  {
   "cell_type": "code",
   "execution_count": 133,
   "metadata": {
    "ExecuteTime": {
     "end_time": "2021-03-13T03:37:36.917822Z",
     "start_time": "2021-03-13T03:37:36.904833Z"
    }
   },
   "outputs": [
    {
     "data": {
      "text/plain": [
       "array([27, 24, 21, 18, 15, 12,  9,  6,  3,  0])"
      ]
     },
     "execution_count": 133,
     "metadata": {},
     "output_type": "execute_result"
    }
   ],
   "source": [
    "a[::-1]"
   ]
  },
  {
   "cell_type": "code",
   "execution_count": 134,
   "metadata": {
    "ExecuteTime": {
     "end_time": "2021-03-13T03:37:37.438686Z",
     "start_time": "2021-03-13T03:37:37.419697Z"
    }
   },
   "outputs": [
    {
     "data": {
      "text/plain": [
       "array([-99,   3, -99,   9, -99,  15,  18,  21,  24,  27])"
      ]
     },
     "execution_count": 134,
     "metadata": {},
     "output_type": "execute_result"
    }
   ],
   "source": [
    "a[:6:2] = -99\n",
    "a"
   ]
  },
  {
   "cell_type": "markdown",
   "metadata": {},
   "source": [
    "도움말 문서들\n",
    "\n",
    "인덱싱 : https://docs.scipy.org/doc/numpy/user/basics.indexing.html <br>\n",
    "배열 인덱싱 : https://docs.scipy.org/doc/numpy/reference/arrays.indexing.html<br>\n",
    "newaxis :https://docs.scipy.org/doc/numpy/reference/constants.html#numpy.newaxis"
   ]
  },
  {
   "cell_type": "markdown",
   "metadata": {},
   "source": [
    "### 3) 다차원인덱싱 & 슬라이싱"
   ]
  },
  {
   "cell_type": "code",
   "execution_count": 135,
   "metadata": {
    "ExecuteTime": {
     "end_time": "2021-03-13T03:37:40.528760Z",
     "start_time": "2021-03-13T03:37:40.515761Z"
    }
   },
   "outputs": [],
   "source": [
    "def f(x, y):\n",
    "    return 10*x+y"
   ]
  },
  {
   "cell_type": "code",
   "execution_count": 136,
   "metadata": {
    "ExecuteTime": {
     "end_time": "2021-03-13T03:37:41.176907Z",
     "start_time": "2021-03-13T03:37:41.166914Z"
    }
   },
   "outputs": [
    {
     "data": {
      "text/plain": [
       "23"
      ]
     },
     "execution_count": 136,
     "metadata": {},
     "output_type": "execute_result"
    }
   ],
   "source": [
    "f(2, 3)"
   ]
  },
  {
   "cell_type": "code",
   "execution_count": 137,
   "metadata": {
    "ExecuteTime": {
     "end_time": "2021-03-13T03:37:41.788256Z",
     "start_time": "2021-03-13T03:37:41.769270Z"
    }
   },
   "outputs": [
    {
     "data": {
      "text/plain": [
       "array([[ 0,  1,  2,  3],\n",
       "       [10, 11, 12, 13],\n",
       "       [20, 21, 22, 23],\n",
       "       [30, 31, 32, 33],\n",
       "       [40, 41, 42, 43]], dtype=int16)"
      ]
     },
     "execution_count": 137,
     "metadata": {},
     "output_type": "execute_result"
    }
   ],
   "source": [
    "# 5행 4열짜리 넘파이배열을 int16 dtype으로\n",
    "# 그 안의 데이터는 f함수에 의해 정해짐\n",
    "a = np.fromfunction(f, (5,4), dtype=np.int16)\n",
    "a"
   ]
  },
  {
   "cell_type": "code",
   "execution_count": 138,
   "metadata": {
    "ExecuteTime": {
     "end_time": "2021-03-13T03:37:42.451265Z",
     "start_time": "2021-03-13T03:37:42.436270Z"
    }
   },
   "outputs": [
    {
     "data": {
      "text/plain": [
       "array([[ 0,  1,  2,  3],\n",
       "       [10, 11, 12, 13],\n",
       "       [20, 21, 22, 23],\n",
       "       [30, 31, 32, 33],\n",
       "       [40, 41, 42, 43]])"
      ]
     },
     "execution_count": 138,
     "metadata": {},
     "output_type": "execute_result"
    }
   ],
   "source": [
    "a = np.fromfunction(lambda x, y : 10*x+y, (5,4), dtype=int)\n",
    "a"
   ]
  },
  {
   "cell_type": "code",
   "execution_count": 139,
   "metadata": {
    "ExecuteTime": {
     "end_time": "2021-03-13T03:37:43.442052Z",
     "start_time": "2021-03-13T03:37:43.428061Z"
    }
   },
   "outputs": [
    {
     "data": {
      "text/plain": [
       "23"
      ]
     },
     "execution_count": 139,
     "metadata": {},
     "output_type": "execute_result"
    }
   ],
   "source": [
    "a[2,3]"
   ]
  },
  {
   "cell_type": "code",
   "execution_count": 140,
   "metadata": {
    "ExecuteTime": {
     "end_time": "2021-03-13T03:37:44.075782Z",
     "start_time": "2021-03-13T03:37:44.065792Z"
    }
   },
   "outputs": [
    {
     "data": {
      "text/plain": [
       "33"
      ]
     },
     "execution_count": 140,
     "metadata": {},
     "output_type": "execute_result"
    }
   ],
   "source": [
    "a[-2,-1]"
   ]
  },
  {
   "cell_type": "code",
   "execution_count": 141,
   "metadata": {
    "ExecuteTime": {
     "end_time": "2021-03-13T03:37:44.665512Z",
     "start_time": "2021-03-13T03:37:44.639528Z"
    }
   },
   "outputs": [
    {
     "ename": "IndexError",
     "evalue": "index 5 is out of bounds for axis 0 with size 5",
     "output_type": "error",
     "traceback": [
      "\u001b[1;31m---------------------------------------------------------------------------\u001b[0m",
      "\u001b[1;31mIndexError\u001b[0m                                Traceback (most recent call last)",
      "\u001b[1;32m<ipython-input-141-833e324a4a09>\u001b[0m in \u001b[0;36m<module>\u001b[1;34m\u001b[0m\n\u001b[1;32m----> 1\u001b[1;33m \u001b[0ma\u001b[0m\u001b[1;33m[\u001b[0m\u001b[1;36m5\u001b[0m\u001b[1;33m,\u001b[0m\u001b[1;36m0\u001b[0m\u001b[1;33m]\u001b[0m \u001b[1;31m# 벗어난 인덱스 인덱싱하면 에러 발생\u001b[0m\u001b[1;33m\u001b[0m\u001b[1;33m\u001b[0m\u001b[0m\n\u001b[0m",
      "\u001b[1;31mIndexError\u001b[0m: index 5 is out of bounds for axis 0 with size 5"
     ]
    }
   ],
   "source": [
    "a[5,0] # 벗어난 인덱스 인덱싱하면 에러 발생"
   ]
  },
  {
   "cell_type": "code",
   "execution_count": 142,
   "metadata": {
    "ExecuteTime": {
     "end_time": "2021-03-13T03:37:45.186476Z",
     "start_time": "2021-03-13T03:37:45.172487Z"
    }
   },
   "outputs": [
    {
     "data": {
      "text/plain": [
       "array([ 3, 13, 23, 33, 43])"
      ]
     },
     "execution_count": 142,
     "metadata": {},
     "output_type": "execute_result"
    }
   ],
   "source": [
    "a[0:10, -1] # 0~9행까지의 마지막 열들만 출력"
   ]
  },
  {
   "cell_type": "code",
   "execution_count": 143,
   "metadata": {
    "ExecuteTime": {
     "end_time": "2021-03-13T03:37:47.906230Z",
     "start_time": "2021-03-13T03:37:47.899234Z"
    }
   },
   "outputs": [
    {
     "data": {
      "text/plain": [
       "array([[10, 11],\n",
       "       [20, 21],\n",
       "       [30, 31]])"
      ]
     },
     "execution_count": 143,
     "metadata": {},
     "output_type": "execute_result"
    }
   ],
   "source": [
    "a[1:4, 0:2] # 1~3행의 0~1열"
   ]
  },
  {
   "cell_type": "code",
   "execution_count": 144,
   "metadata": {
    "ExecuteTime": {
     "end_time": "2021-03-13T03:37:48.508178Z",
     "start_time": "2021-03-13T03:37:48.490190Z"
    }
   },
   "outputs": [
    {
     "data": {
      "text/plain": [
       "array([[10, 11, 12, 13],\n",
       "       [20, 21, 22, 23],\n",
       "       [30, 31, 32, 33]])"
      ]
     },
     "execution_count": 144,
     "metadata": {},
     "output_type": "execute_result"
    }
   ],
   "source": [
    "a[1:4, :] # 1~3행의 모든 열"
   ]
  },
  {
   "cell_type": "code",
   "execution_count": 145,
   "metadata": {
    "ExecuteTime": {
     "end_time": "2021-03-13T03:37:49.084159Z",
     "start_time": "2021-03-13T03:37:49.070170Z"
    }
   },
   "outputs": [
    {
     "data": {
      "text/plain": [
       "array([[10, 11, 12, 13],\n",
       "       [20, 21, 22, 23],\n",
       "       [30, 31, 32, 33]])"
      ]
     },
     "execution_count": 145,
     "metadata": {},
     "output_type": "execute_result"
    }
   ],
   "source": [
    "a[1:4, ]  # 1~3행의 모든 열"
   ]
  },
  {
   "cell_type": "code",
   "execution_count": 146,
   "metadata": {
    "ExecuteTime": {
     "end_time": "2021-03-13T03:37:49.712052Z",
     "start_time": "2021-03-13T03:37:49.703059Z"
    }
   },
   "outputs": [
    {
     "data": {
      "text/plain": [
       "array([[10, 11, 12, 13],\n",
       "       [20, 21, 22, 23],\n",
       "       [30, 31, 32, 33]])"
      ]
     },
     "execution_count": 146,
     "metadata": {},
     "output_type": "execute_result"
    }
   ],
   "source": [
    "a[1:4, ...] # 1~3행의 모든 열"
   ]
  },
  {
   "cell_type": "code",
   "execution_count": 147,
   "metadata": {
    "ExecuteTime": {
     "end_time": "2021-03-13T03:37:50.423748Z",
     "start_time": "2021-03-13T03:37:50.270955Z"
    }
   },
   "outputs": [
    {
     "data": {
      "text/plain": [
       "array([[10, 11, 12, 13],\n",
       "       [20, 21, 22, 23],\n",
       "       [30, 31, 32, 33]])"
      ]
     },
     "execution_count": 147,
     "metadata": {},
     "output_type": "execute_result"
    }
   ],
   "source": [
    "a[1:4]  # 1~3행의 모든 열(마지막 축(열) 인덱스 생략 가능)"
   ]
  },
  {
   "cell_type": "code",
   "execution_count": 148,
   "metadata": {
    "ExecuteTime": {
     "end_time": "2021-03-13T03:37:50.942491Z",
     "start_time": "2021-03-13T03:37:50.924501Z"
    }
   },
   "outputs": [
    {
     "data": {
      "text/plain": [
       "array([[ 3,  2],\n",
       "       [13, 12],\n",
       "       [23, 22],\n",
       "       [33, 32],\n",
       "       [43, 42]])"
      ]
     },
     "execution_count": 148,
     "metadata": {},
     "output_type": "execute_result"
    }
   ],
   "source": [
    "a[:, -1:-3:-1] # 모든 행의 -1 ~ -2열 "
   ]
  },
  {
   "cell_type": "code",
   "execution_count": 149,
   "metadata": {
    "ExecuteTime": {
     "end_time": "2021-03-13T03:37:51.576561Z",
     "start_time": "2021-03-13T03:37:51.563568Z"
    }
   },
   "outputs": [
    {
     "data": {
      "text/plain": [
       "array([[ 3,  2],\n",
       "       [13, 12],\n",
       "       [23, 22],\n",
       "       [33, 32],\n",
       "       [43, 42]])"
      ]
     },
     "execution_count": 149,
     "metadata": {},
     "output_type": "execute_result"
    }
   ],
   "source": [
    "a[..., -1:-3:-1] # 모든 행의 -1 ~ -2열 "
   ]
  },
  {
   "cell_type": "code",
   "execution_count": 150,
   "metadata": {
    "ExecuteTime": {
     "end_time": "2021-03-13T03:37:52.163326Z",
     "start_time": "2021-03-13T03:37:52.147336Z"
    }
   },
   "outputs": [
    {
     "data": {
      "text/plain": [
       "array([[[ 0,  1,  2,  3],\n",
       "        [ 4,  5,  6,  7],\n",
       "        [ 8,  9, 10, 11]],\n",
       "\n",
       "       [[12, 13, 14, 15],\n",
       "        [16, 17, 18, 19],\n",
       "        [20, 21, 22, 23]]])"
      ]
     },
     "execution_count": 150,
     "metadata": {},
     "output_type": "execute_result"
    }
   ],
   "source": [
    "b = np.arange(24).reshape(2, 3, 4)\n",
    "b"
   ]
  },
  {
   "cell_type": "code",
   "execution_count": 151,
   "metadata": {
    "ExecuteTime": {
     "end_time": "2021-03-13T03:37:53.319139Z",
     "start_time": "2021-03-13T03:37:53.305147Z"
    }
   },
   "outputs": [
    {
     "data": {
      "text/plain": [
       "12"
      ]
     },
     "execution_count": 151,
     "metadata": {},
     "output_type": "execute_result"
    }
   ],
   "source": [
    "b[1, 0, 0]"
   ]
  },
  {
   "cell_type": "code",
   "execution_count": 152,
   "metadata": {
    "ExecuteTime": {
     "end_time": "2021-03-13T03:37:53.965542Z",
     "start_time": "2021-03-13T03:37:53.947551Z"
    }
   },
   "outputs": [
    {
     "data": {
      "text/plain": [
       "array([[12, 13, 14, 15],\n",
       "       [16, 17, 18, 19],\n",
       "       [20, 21, 22, 23]])"
      ]
     },
     "execution_count": 152,
     "metadata": {},
     "output_type": "execute_result"
    }
   ],
   "source": [
    "b[1,:,:] # 1면 데이터 모두 출력"
   ]
  },
  {
   "cell_type": "code",
   "execution_count": 153,
   "metadata": {
    "ExecuteTime": {
     "end_time": "2021-03-13T03:37:54.812127Z",
     "start_time": "2021-03-13T03:37:54.794139Z"
    }
   },
   "outputs": [
    {
     "data": {
      "text/plain": [
       "array([[12, 13, 14, 15],\n",
       "       [16, 17, 18, 19],\n",
       "       [20, 21, 22, 23]])"
      ]
     },
     "execution_count": 153,
     "metadata": {},
     "output_type": "execute_result"
    }
   ],
   "source": [
    "b[1] # 첫번째 축만 쓸 경우"
   ]
  },
  {
   "cell_type": "code",
   "execution_count": 154,
   "metadata": {
    "ExecuteTime": {
     "end_time": "2021-03-13T03:37:56.109385Z",
     "start_time": "2021-03-13T03:37:56.093396Z"
    }
   },
   "outputs": [
    {
     "data": {
      "text/plain": [
       "array([[ 4,  5,  6,  7],\n",
       "       [16, 17, 18, 19]])"
      ]
     },
     "execution_count": 154,
     "metadata": {},
     "output_type": "execute_result"
    }
   ],
   "source": [
    "b[:,1,:] # 각 면의 1행들 모두 출력"
   ]
  },
  {
   "cell_type": "code",
   "execution_count": 155,
   "metadata": {
    "ExecuteTime": {
     "end_time": "2021-03-13T03:37:56.711603Z",
     "start_time": "2021-03-13T03:37:56.695617Z"
    }
   },
   "outputs": [
    {
     "data": {
      "text/plain": [
       "array([[ 4,  5,  6,  7],\n",
       "       [16, 17, 18, 19]])"
      ]
     },
     "execution_count": 155,
     "metadata": {},
     "output_type": "execute_result"
    }
   ],
   "source": [
    "b[:,1,...]"
   ]
  },
  {
   "cell_type": "code",
   "execution_count": 156,
   "metadata": {
    "ExecuteTime": {
     "end_time": "2021-03-13T03:37:57.246890Z",
     "start_time": "2021-03-13T03:37:57.230900Z"
    }
   },
   "outputs": [
    {
     "data": {
      "text/plain": [
       "array([[ 4,  5,  6,  7],\n",
       "       [16, 17, 18, 19]])"
      ]
     },
     "execution_count": 156,
     "metadata": {},
     "output_type": "execute_result"
    }
   ],
   "source": [
    "b[:,1]"
   ]
  },
  {
   "cell_type": "code",
   "execution_count": 157,
   "metadata": {
    "ExecuteTime": {
     "end_time": "2021-03-13T03:37:57.799351Z",
     "start_time": "2021-03-13T03:37:57.782361Z"
    }
   },
   "outputs": [
    {
     "data": {
      "text/plain": [
       "array([[ 1,  5,  9],\n",
       "       [13, 17, 21]])"
      ]
     },
     "execution_count": 157,
     "metadata": {},
     "output_type": "execute_result"
    }
   ],
   "source": [
    "b[:,:,1] # 각면의 1열들 모두 출력"
   ]
  },
  {
   "cell_type": "code",
   "execution_count": 158,
   "metadata": {
    "ExecuteTime": {
     "end_time": "2021-03-13T03:37:58.679416Z",
     "start_time": "2021-03-13T03:37:58.664423Z"
    }
   },
   "outputs": [
    {
     "data": {
      "text/plain": [
       "array([[ 1,  5,  9],\n",
       "       [13, 17, 21]])"
      ]
     },
     "execution_count": 158,
     "metadata": {},
     "output_type": "execute_result"
    }
   ],
   "source": [
    "b[...,1]"
   ]
  },
  {
   "cell_type": "code",
   "execution_count": 159,
   "metadata": {
    "ExecuteTime": {
     "end_time": "2021-03-13T03:37:59.260926Z",
     "start_time": "2021-03-13T03:37:59.243939Z"
    }
   },
   "outputs": [
    {
     "data": {
      "text/plain": [
       "array([[[ 0,  1,  2,  3],\n",
       "        [ 4,  5,  6,  7],\n",
       "        [ 8,  9, 10, 11]],\n",
       "\n",
       "       [[12, 13, 14, 15],\n",
       "        [16, 17, 18, 19],\n",
       "        [20, 21, 22, 23]]])"
      ]
     },
     "execution_count": 159,
     "metadata": {},
     "output_type": "execute_result"
    }
   ],
   "source": [
    "b"
   ]
  },
  {
   "cell_type": "code",
   "execution_count": 160,
   "metadata": {
    "ExecuteTime": {
     "end_time": "2021-03-13T03:38:01.026412Z",
     "start_time": "2021-03-13T03:38:01.011424Z"
    }
   },
   "outputs": [
    {
     "name": "stdout",
     "output_type": "stream",
     "text": [
      "0면0행0열: 0\t0면0행1열: 1\t0면0행2열: 2\t0면0행3열: 3\t\n",
      "0면1행0열: 4\t0면1행1열: 5\t0면1행2열: 6\t0면1행3열: 7\t\n",
      "0면2행0열: 8\t0면2행1열: 9\t0면2행2열: 10\t0면2행3열: 11\t\n",
      "\n",
      "1면0행0열: 12\t1면0행1열: 13\t1면0행2열: 14\t1면0행3열: 15\t\n",
      "1면1행0열: 16\t1면1행1열: 17\t1면1행2열: 18\t1면1행3열: 19\t\n",
      "1면2행0열: 20\t1면2행1열: 21\t1면2행2열: 22\t1면2행3열: 23\t\n",
      "\n"
     ]
    }
   ],
   "source": [
    "for i, data in enumerate(b): # 면\n",
    "    for j, row in enumerate(data): # 행\n",
    "        for k, item in enumerate(row): # 열 \n",
    "            print(\"{}면{}행{}열: {}\".format(i,j,k,item), end='\\t')\n",
    "        print()\n",
    "    print()"
   ]
  },
  {
   "cell_type": "code",
   "execution_count": 161,
   "metadata": {
    "ExecuteTime": {
     "end_time": "2021-03-13T03:38:01.808883Z",
     "start_time": "2021-03-13T03:38:01.798890Z"
    }
   },
   "outputs": [
    {
     "name": "stdout",
     "output_type": "stream",
     "text": [
      "0 1 2 3 4 5 6 7 8 9 10 11 12 13 14 15 16 17 18 19 20 21 22 23 "
     ]
    }
   ],
   "source": [
    "for i, data in enumerate(b): # 면\n",
    "    for j, row in enumerate(data): # 행\n",
    "        for k, item in enumerate(row): # 열 \n",
    "            print(item, end = ' ')"
   ]
  },
  {
   "cell_type": "code",
   "execution_count": 162,
   "metadata": {
    "ExecuteTime": {
     "end_time": "2021-03-13T03:38:02.934223Z",
     "start_time": "2021-03-13T03:38:02.863264Z"
    }
   },
   "outputs": [],
   "source": [
    "b.flat??"
   ]
  },
  {
   "cell_type": "code",
   "execution_count": 163,
   "metadata": {
    "ExecuteTime": {
     "end_time": "2021-03-13T03:38:06.831695Z",
     "start_time": "2021-03-13T03:38:06.813705Z"
    }
   },
   "outputs": [
    {
     "data": {
      "text/plain": [
       "<numpy.flatiter at 0x1c51c55bf00>"
      ]
     },
     "execution_count": 163,
     "metadata": {},
     "output_type": "execute_result"
    }
   ],
   "source": [
    "b.flat"
   ]
  },
  {
   "cell_type": "code",
   "execution_count": 164,
   "metadata": {
    "ExecuteTime": {
     "end_time": "2021-03-13T03:38:07.864734Z",
     "start_time": "2021-03-13T03:38:07.849744Z"
    }
   },
   "outputs": [
    {
     "name": "stdout",
     "output_type": "stream",
     "text": [
      "0 1 2 3 4 5 6 7 8 9 10 11 12 13 14 15 16 17 18 19 20 21 22 23 "
     ]
    }
   ],
   "source": [
    "for item in b.flat:\n",
    "    print(item, end= ' ')"
   ]
  },
  {
   "cell_type": "markdown",
   "metadata": {},
   "source": [
    "##  (2) 두 배열을 쌓아 합치기\n",
    "- vstack(tuple) : 아래에 추가하는 방식으로 쌓아 합침\n",
    "- hstack(tuple) : 옆으로 추가하는 방식으로 쌓아 합침\n",
    "- dstack(tuple) : 마지막 축(열)을 쌓아 합침. 0열들끼리 쌓고, 1열끼리 쌓고"
   ]
  },
  {
   "cell_type": "code",
   "execution_count": 165,
   "metadata": {
    "ExecuteTime": {
     "end_time": "2021-03-13T03:38:13.286731Z",
     "start_time": "2021-03-13T03:38:13.278737Z"
    }
   },
   "outputs": [
    {
     "data": {
      "text/plain": [
       "array([[[ 0,  1,  2,  3],\n",
       "        [ 4,  5,  6,  7],\n",
       "        [ 8,  9, 10, 11]],\n",
       "\n",
       "       [[12, 13, 14, 15],\n",
       "        [16, 17, 18, 19],\n",
       "        [20, 21, 22, 23]]])"
      ]
     },
     "execution_count": 165,
     "metadata": {},
     "output_type": "execute_result"
    }
   ],
   "source": [
    "c = np.arange(24).reshape(2,3,4)\n",
    "c"
   ]
  },
  {
   "cell_type": "code",
   "execution_count": 166,
   "metadata": {
    "ExecuteTime": {
     "end_time": "2021-03-13T03:38:14.997816Z",
     "start_time": "2021-03-13T03:38:14.991822Z"
    }
   },
   "outputs": [],
   "source": [
    "a, b = c[0], c[1]"
   ]
  },
  {
   "cell_type": "code",
   "execution_count": 167,
   "metadata": {
    "ExecuteTime": {
     "end_time": "2021-03-13T03:38:16.007562Z",
     "start_time": "2021-03-13T03:38:15.998570Z"
    }
   },
   "outputs": [
    {
     "data": {
      "text/plain": [
       "array([[ 0,  1,  2,  3],\n",
       "       [ 4,  5,  6,  7],\n",
       "       [ 8,  9, 10, 11]])"
      ]
     },
     "execution_count": 167,
     "metadata": {},
     "output_type": "execute_result"
    }
   ],
   "source": [
    "a"
   ]
  },
  {
   "cell_type": "code",
   "execution_count": 168,
   "metadata": {
    "ExecuteTime": {
     "end_time": "2021-03-13T03:38:16.901401Z",
     "start_time": "2021-03-13T03:38:16.889408Z"
    }
   },
   "outputs": [
    {
     "data": {
      "text/plain": [
       "array([[12, 13, 14, 15],\n",
       "       [16, 17, 18, 19],\n",
       "       [20, 21, 22, 23]])"
      ]
     },
     "execution_count": 168,
     "metadata": {},
     "output_type": "execute_result"
    }
   ],
   "source": [
    "b"
   ]
  },
  {
   "cell_type": "code",
   "execution_count": 169,
   "metadata": {
    "ExecuteTime": {
     "end_time": "2021-03-13T03:38:17.546900Z",
     "start_time": "2021-03-13T03:38:17.536908Z"
    }
   },
   "outputs": [
    {
     "data": {
      "text/plain": [
       "array([[ 0,  1,  2,  3],\n",
       "       [ 4,  5,  6,  7],\n",
       "       [ 8,  9, 10, 11],\n",
       "       [12, 13, 14, 15],\n",
       "       [16, 17, 18, 19],\n",
       "       [20, 21, 22, 23]])"
      ]
     },
     "execution_count": 169,
     "metadata": {},
     "output_type": "execute_result"
    }
   ],
   "source": [
    "np.vstack( (a, b) ) "
   ]
  },
  {
   "cell_type": "code",
   "execution_count": 170,
   "metadata": {
    "ExecuteTime": {
     "end_time": "2021-03-13T03:38:18.086268Z",
     "start_time": "2021-03-13T03:38:18.080271Z"
    }
   },
   "outputs": [
    {
     "data": {
      "text/plain": [
       "array([[ 0,  1,  2,  3, 12, 13, 14, 15],\n",
       "       [ 4,  5,  6,  7, 16, 17, 18, 19],\n",
       "       [ 8,  9, 10, 11, 20, 21, 22, 23]])"
      ]
     },
     "execution_count": 170,
     "metadata": {},
     "output_type": "execute_result"
    }
   ],
   "source": [
    "np.hstack( (a, b) ) "
   ]
  },
  {
   "cell_type": "code",
   "execution_count": 171,
   "metadata": {
    "ExecuteTime": {
     "end_time": "2021-03-13T03:38:18.579411Z",
     "start_time": "2021-03-13T03:38:18.568421Z"
    }
   },
   "outputs": [
    {
     "data": {
      "text/plain": [
       "array([[[ 0, 12],\n",
       "        [ 1, 13],\n",
       "        [ 2, 14],\n",
       "        [ 3, 15]],\n",
       "\n",
       "       [[ 4, 16],\n",
       "        [ 5, 17],\n",
       "        [ 6, 18],\n",
       "        [ 7, 19]],\n",
       "\n",
       "       [[ 8, 20],\n",
       "        [ 9, 21],\n",
       "        [10, 22],\n",
       "        [11, 23]]])"
      ]
     },
     "execution_count": 171,
     "metadata": {},
     "output_type": "execute_result"
    }
   ],
   "source": [
    "np.dstack( (a, b) ) "
   ]
  },
  {
   "cell_type": "markdown",
   "metadata": {},
   "source": [
    "-column_stack(tup) : 1차원 배열을 열단위로 배열하여 2차원 배열로 만듦"
   ]
  },
  {
   "cell_type": "code",
   "execution_count": 172,
   "metadata": {
    "ExecuteTime": {
     "end_time": "2021-03-13T03:38:20.209051Z",
     "start_time": "2021-03-13T03:38:20.186066Z"
    }
   },
   "outputs": [
    {
     "data": {
      "text/plain": [
       "array([[ 1,  5,  9],\n",
       "       [ 2,  6, 10],\n",
       "       [ 3,  7, 11],\n",
       "       [ 4,  8, 12]])"
      ]
     },
     "execution_count": 172,
     "metadata": {},
     "output_type": "execute_result"
    }
   ],
   "source": [
    "a = np.array([1,2,3,4])\n",
    "b = np.array([5,6,7,8])\n",
    "c = np.array([9,10,11,12])\n",
    "\n",
    "np.column_stack((a,b,c))"
   ]
  },
  {
   "cell_type": "code",
   "execution_count": 173,
   "metadata": {
    "ExecuteTime": {
     "end_time": "2021-03-13T03:38:22.692208Z",
     "start_time": "2021-03-13T03:38:22.676216Z"
    }
   },
   "outputs": [
    {
     "data": {
      "text/plain": [
       "array([[1, 2, 3, 4],\n",
       "       [5, 6, 7, 8]])"
      ]
     },
     "execution_count": 173,
     "metadata": {},
     "output_type": "execute_result"
    }
   ],
   "source": [
    "np.vstack((a,b))"
   ]
  },
  {
   "cell_type": "code",
   "execution_count": 174,
   "metadata": {
    "ExecuteTime": {
     "end_time": "2021-03-13T03:38:23.271157Z",
     "start_time": "2021-03-13T03:38:23.251170Z"
    }
   },
   "outputs": [
    {
     "data": {
      "text/plain": [
       "array([ 1,  2,  3,  4,  5,  6,  7,  8,  9, 10, 11, 12])"
      ]
     },
     "execution_count": 174,
     "metadata": {},
     "output_type": "execute_result"
    }
   ],
   "source": [
    "np.hstack((a,b,c))"
   ]
  },
  {
   "cell_type": "code",
   "execution_count": 175,
   "metadata": {
    "ExecuteTime": {
     "end_time": "2021-03-13T03:38:23.834046Z",
     "start_time": "2021-03-13T03:38:23.816061Z"
    }
   },
   "outputs": [
    {
     "data": {
      "text/plain": [
       "array([[ 1,  5,  9],\n",
       "       [ 2,  6, 10],\n",
       "       [ 3,  7, 11],\n",
       "       [ 4,  8, 12]])"
      ]
     },
     "execution_count": 175,
     "metadata": {},
     "output_type": "execute_result"
    }
   ],
   "source": [
    "np.hstack((a[:, np.newaxis], b[:, np.newaxis], c[:, np.newaxis]))"
   ]
  },
  {
   "cell_type": "code",
   "execution_count": 176,
   "metadata": {
    "ExecuteTime": {
     "end_time": "2021-03-13T03:38:24.376471Z",
     "start_time": "2021-03-13T03:38:24.355485Z"
    }
   },
   "outputs": [
    {
     "data": {
      "text/plain": [
       "array([[ 1,  5,  9],\n",
       "       [ 2,  6, 10],\n",
       "       [ 3,  7, 11],\n",
       "       [ 4,  8, 12]])"
      ]
     },
     "execution_count": 176,
     "metadata": {},
     "output_type": "execute_result"
    }
   ],
   "source": [
    "np.column_stack((a,b,c))"
   ]
  },
  {
   "cell_type": "markdown",
   "metadata": {},
   "source": [
    "- row_stack(tup) ; vstack()과 같음. 행단위로 쌓아줌"
   ]
  },
  {
   "cell_type": "code",
   "execution_count": 177,
   "metadata": {
    "ExecuteTime": {
     "end_time": "2021-03-13T03:38:26.093332Z",
     "start_time": "2021-03-13T03:38:26.081339Z"
    }
   },
   "outputs": [
    {
     "data": {
      "text/plain": [
       "array([[ 1,  2,  3,  4],\n",
       "       [ 5,  6,  7,  8],\n",
       "       [ 9, 10, 11, 12]])"
      ]
     },
     "execution_count": 177,
     "metadata": {},
     "output_type": "execute_result"
    }
   ],
   "source": [
    "np.row_stack((a,b,c))"
   ]
  },
  {
   "cell_type": "code",
   "execution_count": 178,
   "metadata": {
    "ExecuteTime": {
     "end_time": "2021-03-13T03:38:26.740672Z",
     "start_time": "2021-03-13T03:38:26.728678Z"
    }
   },
   "outputs": [
    {
     "data": {
      "text/plain": [
       "array([[ 1,  2,  3,  4],\n",
       "       [ 5,  6,  7,  8],\n",
       "       [ 9, 10, 11, 12]])"
      ]
     },
     "execution_count": 178,
     "metadata": {},
     "output_type": "execute_result"
    }
   ],
   "source": [
    "np.vstack((a,b,c))"
   ]
  },
  {
   "cell_type": "markdown",
   "metadata": {},
   "source": [
    "**-stack(ary_tup, axis=0) ; axis속성에 따라 넘파이 배열을 합침\n",
    "\n",
    "* ary_tup : 합칠 배열의 모음<br>\n",
    "* axis=0 ; 첫번째차원. axis=-1이면 마지막 차원이 됨**"
   ]
  },
  {
   "cell_type": "code",
   "execution_count": 179,
   "metadata": {
    "ExecuteTime": {
     "end_time": "2021-03-13T03:38:28.860362Z",
     "start_time": "2021-03-13T03:38:28.848368Z"
    }
   },
   "outputs": [
    {
     "data": {
      "text/plain": [
       "array([[ 0,  1,  2,  3],\n",
       "       [ 4,  5,  6,  7],\n",
       "       [ 8,  9, 10, 11]])"
      ]
     },
     "execution_count": 179,
     "metadata": {},
     "output_type": "execute_result"
    }
   ],
   "source": [
    "a = np.arange(12).reshape(3,4)\n",
    "a"
   ]
  },
  {
   "cell_type": "code",
   "execution_count": 180,
   "metadata": {
    "ExecuteTime": {
     "end_time": "2021-03-13T03:38:29.552966Z",
     "start_time": "2021-03-13T03:38:29.534976Z"
    }
   },
   "outputs": [
    {
     "data": {
      "text/plain": [
       "array([[12, 13, 14, 15],\n",
       "       [16, 17, 18, 19],\n",
       "       [20, 21, 22, 23]])"
      ]
     },
     "execution_count": 180,
     "metadata": {},
     "output_type": "execute_result"
    }
   ],
   "source": [
    "b = np.arange(12, 24).reshape(3,4)\n",
    "b"
   ]
  },
  {
   "cell_type": "code",
   "execution_count": 181,
   "metadata": {
    "ExecuteTime": {
     "end_time": "2021-03-13T03:38:30.109548Z",
     "start_time": "2021-03-13T03:38:30.098553Z"
    }
   },
   "outputs": [
    {
     "data": {
      "text/plain": [
       "array([[[ 0,  1,  2,  3],\n",
       "        [ 4,  5,  6,  7],\n",
       "        [ 8,  9, 10, 11]],\n",
       "\n",
       "       [[12, 13, 14, 15],\n",
       "        [16, 17, 18, 19],\n",
       "        [20, 21, 22, 23]]])"
      ]
     },
     "execution_count": 181,
     "metadata": {},
     "output_type": "execute_result"
    }
   ],
   "source": [
    "np.stack((a,b), axis=0)  # a, b를 차원이 다르게 합침 (면으로 합침)"
   ]
  },
  {
   "cell_type": "code",
   "execution_count": 182,
   "metadata": {
    "ExecuteTime": {
     "end_time": "2021-03-13T03:38:32.049095Z",
     "start_time": "2021-03-13T03:38:32.041101Z"
    }
   },
   "outputs": [
    {
     "data": {
      "text/plain": [
       "array([[[ 0,  1,  2,  3],\n",
       "        [12, 13, 14, 15]],\n",
       "\n",
       "       [[ 4,  5,  6,  7],\n",
       "        [16, 17, 18, 19]],\n",
       "\n",
       "       [[ 8,  9, 10, 11],\n",
       "        [20, 21, 22, 23]]])"
      ]
     },
     "execution_count": 182,
     "metadata": {},
     "output_type": "execute_result"
    }
   ],
   "source": [
    "np.stack((a,b), axis=1) # 행으로 합침"
   ]
  },
  {
   "cell_type": "code",
   "execution_count": 183,
   "metadata": {
    "ExecuteTime": {
     "end_time": "2021-03-13T03:38:33.381816Z",
     "start_time": "2021-03-13T03:38:33.363829Z"
    }
   },
   "outputs": [
    {
     "data": {
      "text/plain": [
       "array([[[ 0, 12],\n",
       "        [ 1, 13],\n",
       "        [ 2, 14],\n",
       "        [ 3, 15]],\n",
       "\n",
       "       [[ 4, 16],\n",
       "        [ 5, 17],\n",
       "        [ 6, 18],\n",
       "        [ 7, 19]],\n",
       "\n",
       "       [[ 8, 20],\n",
       "        [ 9, 21],\n",
       "        [10, 22],\n",
       "        [11, 23]]])"
      ]
     },
     "execution_count": 183,
     "metadata": {},
     "output_type": "execute_result"
    }
   ],
   "source": [
    "np.stack((a,b), axis=2) # 행들을 열끼리 합침"
   ]
  },
  {
   "cell_type": "code",
   "execution_count": 184,
   "metadata": {
    "ExecuteTime": {
     "end_time": "2021-03-13T03:38:34.107584Z",
     "start_time": "2021-03-13T03:38:34.096592Z"
    }
   },
   "outputs": [
    {
     "data": {
      "text/plain": [
       "array([[[ 0, 12],\n",
       "        [ 1, 13],\n",
       "        [ 2, 14],\n",
       "        [ 3, 15]],\n",
       "\n",
       "       [[ 4, 16],\n",
       "        [ 5, 17],\n",
       "        [ 6, 18],\n",
       "        [ 7, 19]],\n",
       "\n",
       "       [[ 8, 20],\n",
       "        [ 9, 21],\n",
       "        [10, 22],\n",
       "        [11, 23]]])"
      ]
     },
     "execution_count": 184,
     "metadata": {},
     "output_type": "execute_result"
    }
   ],
   "source": [
    "np.stack((a,b), axis=-1) # 마지막 차원으로 합침"
   ]
  },
  {
   "cell_type": "markdown",
   "metadata": {},
   "source": [
    "## (3) r, c"
   ]
  },
  {
   "cell_type": "code",
   "execution_count": 185,
   "metadata": {
    "ExecuteTime": {
     "end_time": "2021-03-13T03:38:37.520635Z",
     "start_time": "2021-03-13T03:38:37.505643Z"
    }
   },
   "outputs": [],
   "source": [
    "a = np.array([1,2,3,4])\n",
    "b = np.array([5,6,7,8])\n",
    "c = np.array([9,10,11,12])"
   ]
  },
  {
   "cell_type": "code",
   "execution_count": 186,
   "metadata": {
    "ExecuteTime": {
     "end_time": "2021-03-13T03:38:38.813451Z",
     "start_time": "2021-03-13T03:38:38.804457Z"
    }
   },
   "outputs": [
    {
     "data": {
      "text/plain": [
       "array([ 1,  2,  3,  4,  5,  6,  7,  8,  9, 10, 11, 12])"
      ]
     },
     "execution_count": 186,
     "metadata": {},
     "output_type": "execute_result"
    }
   ],
   "source": [
    "np.r_[a,b,c]"
   ]
  },
  {
   "cell_type": "code",
   "execution_count": 187,
   "metadata": {
    "ExecuteTime": {
     "end_time": "2021-03-13T03:38:39.657457Z",
     "start_time": "2021-03-13T03:38:39.635470Z"
    }
   },
   "outputs": [
    {
     "data": {
      "text/plain": [
       "array([[ 1,  5,  9],\n",
       "       [ 2,  6, 10],\n",
       "       [ 3,  7, 11],\n",
       "       [ 4,  8, 12]])"
      ]
     },
     "execution_count": 187,
     "metadata": {},
     "output_type": "execute_result"
    }
   ],
   "source": [
    "np.c_[a,b,c]"
   ]
  },
  {
   "cell_type": "code",
   "execution_count": 188,
   "metadata": {
    "ExecuteTime": {
     "end_time": "2021-03-13T03:38:40.253431Z",
     "start_time": "2021-03-13T03:38:40.242438Z"
    }
   },
   "outputs": [
    {
     "data": {
      "text/plain": [
       "array([[ 1,  2,  3,  4],\n",
       "       [ 5,  6,  7,  8],\n",
       "       [ 9, 10, 11, 12]])"
      ]
     },
     "execution_count": 188,
     "metadata": {},
     "output_type": "execute_result"
    }
   ],
   "source": [
    "np.r_[[a],[b],[c]]"
   ]
  },
  {
   "cell_type": "markdown",
   "metadata": {},
   "source": [
    "## (4) 하나의 배열을 여러개 작은 배열로 분할하기 \n",
    "- hsplit(ary, indices_or_sections) ; 두번째 축(2차원의 경우 세로축)을 따라 분할\n",
    "- vsplit(ary, indices_or_sections) ; 첫번째 축(2차원의 경우 가로축)을 따라 분할\n",
    "- dsplit(ary, indices_or_sections) ; 3번째 차원을 나눔\n",
    "    - ary : 분할할 배열<br>\n",
    "    - indices_or_sections : 정수 또는 1차원 배열 형식 -> 정수의 경우 분할할 배열의 수, <br>\n",
    "                        [2,5,7]의 경우 분할되어질 인덱스를 의미\n"
   ]
  },
  {
   "cell_type": "code",
   "execution_count": 189,
   "metadata": {
    "ExecuteTime": {
     "end_time": "2021-03-13T03:38:42.427665Z",
     "start_time": "2021-03-13T03:38:42.410675Z"
    }
   },
   "outputs": [
    {
     "data": {
      "text/plain": [
       "array([[ 0,  1,  2,  3],\n",
       "       [ 4,  5,  6,  7],\n",
       "       [ 8,  9, 10, 11]])"
      ]
     },
     "execution_count": 189,
     "metadata": {},
     "output_type": "execute_result"
    }
   ],
   "source": [
    "a = np.arange(12).reshape(3,4)\n",
    "a"
   ]
  },
  {
   "cell_type": "code",
   "execution_count": 190,
   "metadata": {
    "ExecuteTime": {
     "end_time": "2021-03-13T03:38:43.087976Z",
     "start_time": "2021-03-13T03:38:43.073985Z"
    }
   },
   "outputs": [
    {
     "data": {
      "text/plain": [
       "[array([[0, 1, 2, 3]]), array([[4, 5, 6, 7]]), array([[ 8,  9, 10, 11]])]"
      ]
     },
     "execution_count": 190,
     "metadata": {},
     "output_type": "execute_result"
    }
   ],
   "source": [
    "a_vsplit = np.vsplit(a, 3) # 가로축을 따라 3개의 배열로 분할\n",
    "a_vsplit"
   ]
  },
  {
   "cell_type": "code",
   "execution_count": 191,
   "metadata": {
    "ExecuteTime": {
     "end_time": "2021-03-13T03:38:43.668489Z",
     "start_time": "2021-03-13T03:38:43.650501Z"
    }
   },
   "outputs": [
    {
     "data": {
      "text/plain": [
       "list"
      ]
     },
     "execution_count": 191,
     "metadata": {},
     "output_type": "execute_result"
    }
   ],
   "source": [
    "type(a_vsplit)"
   ]
  },
  {
   "cell_type": "code",
   "execution_count": 192,
   "metadata": {
    "ExecuteTime": {
     "end_time": "2021-03-13T03:38:44.208746Z",
     "start_time": "2021-03-13T03:38:44.199752Z"
    }
   },
   "outputs": [
    {
     "data": {
      "text/plain": [
       "array([[0, 1, 2, 3]])"
      ]
     },
     "execution_count": 192,
     "metadata": {},
     "output_type": "execute_result"
    }
   ],
   "source": [
    "a_vsplit[0]"
   ]
  },
  {
   "cell_type": "code",
   "execution_count": 193,
   "metadata": {
    "ExecuteTime": {
     "end_time": "2021-03-13T03:38:45.167327Z",
     "start_time": "2021-03-13T03:38:45.154334Z"
    }
   },
   "outputs": [
    {
     "data": {
      "text/plain": [
       "[array([[0],\n",
       "        [4],\n",
       "        [8]]),\n",
       " array([[1],\n",
       "        [5],\n",
       "        [9]]),\n",
       " array([[ 2],\n",
       "        [ 6],\n",
       "        [10]]),\n",
       " array([[ 3],\n",
       "        [ 7],\n",
       "        [11]])]"
      ]
     },
     "execution_count": 193,
     "metadata": {},
     "output_type": "execute_result"
    }
   ],
   "source": [
    "a_hsplit = np.hsplit(a, 4) # 세로축을 따라 4개의 배열로 분할\n",
    "a_hsplit"
   ]
  },
  {
   "cell_type": "code",
   "execution_count": 194,
   "metadata": {
    "ExecuteTime": {
     "end_time": "2021-03-13T03:38:45.818448Z",
     "start_time": "2021-03-13T03:38:45.797458Z"
    }
   },
   "outputs": [
    {
     "data": {
      "text/plain": [
       "(3, 1)"
      ]
     },
     "execution_count": 194,
     "metadata": {},
     "output_type": "execute_result"
    }
   ],
   "source": [
    "a_hsplit[0].shape"
   ]
  },
  {
   "cell_type": "code",
   "execution_count": 195,
   "metadata": {
    "ExecuteTime": {
     "end_time": "2021-03-13T03:38:47.698735Z",
     "start_time": "2021-03-13T03:38:47.676749Z"
    }
   },
   "outputs": [
    {
     "data": {
      "text/plain": [
       "array([[[ 0,  1,  2,  3],\n",
       "        [ 4,  5,  6,  7],\n",
       "        [ 8,  9, 10, 11]],\n",
       "\n",
       "       [[12, 13, 14, 15],\n",
       "        [16, 17, 18, 19],\n",
       "        [20, 21, 22, 23]]])"
      ]
     },
     "execution_count": 195,
     "metadata": {},
     "output_type": "execute_result"
    }
   ],
   "source": [
    "b = np.arange(24).reshape(2,3,4)\n",
    "b"
   ]
  },
  {
   "cell_type": "code",
   "execution_count": 196,
   "metadata": {
    "ExecuteTime": {
     "end_time": "2021-03-13T03:38:48.391767Z",
     "start_time": "2021-03-13T03:38:48.370780Z"
    }
   },
   "outputs": [
    {
     "data": {
      "text/plain": [
       "[array([[[ 0,  1,  2,  3]],\n",
       " \n",
       "        [[12, 13, 14, 15]]]),\n",
       " array([[[ 4,  5,  6,  7]],\n",
       " \n",
       "        [[16, 17, 18, 19]]]),\n",
       " array([[[ 8,  9, 10, 11]],\n",
       " \n",
       "        [[20, 21, 22, 23]]])]"
      ]
     },
     "execution_count": 196,
     "metadata": {},
     "output_type": "execute_result"
    }
   ],
   "source": [
    "b_split = np.hsplit(b,3)\n",
    "b_split"
   ]
  },
  {
   "cell_type": "code",
   "execution_count": 197,
   "metadata": {
    "ExecuteTime": {
     "end_time": "2021-03-13T03:38:49.097534Z",
     "start_time": "2021-03-13T03:38:49.085543Z"
    }
   },
   "outputs": [
    {
     "data": {
      "text/plain": [
       "(2, 1, 4)"
      ]
     },
     "execution_count": 197,
     "metadata": {},
     "output_type": "execute_result"
    }
   ],
   "source": [
    "b_split[0].shape"
   ]
  },
  {
   "cell_type": "code",
   "execution_count": 198,
   "metadata": {
    "ExecuteTime": {
     "end_time": "2021-03-13T03:38:49.802154Z",
     "start_time": "2021-03-13T03:38:49.783163Z"
    }
   },
   "outputs": [
    {
     "data": {
      "text/plain": [
       "[array([[[ 0,  1,  2,  3],\n",
       "         [ 4,  5,  6,  7],\n",
       "         [ 8,  9, 10, 11]]]),\n",
       " array([[[12, 13, 14, 15],\n",
       "         [16, 17, 18, 19],\n",
       "         [20, 21, 22, 23]]])]"
      ]
     },
     "execution_count": 198,
     "metadata": {},
     "output_type": "execute_result"
    }
   ],
   "source": [
    "# 3차원배열 b를 첫번째출을 기반으로 나눠 2개의 배열로 분할\n",
    "b_vsplit = np.vsplit(b, 2) \n",
    "b_vsplit"
   ]
  },
  {
   "cell_type": "code",
   "execution_count": 199,
   "metadata": {
    "ExecuteTime": {
     "end_time": "2021-03-13T03:38:50.468274Z",
     "start_time": "2021-03-13T03:38:50.458279Z"
    }
   },
   "outputs": [
    {
     "data": {
      "text/plain": [
       "(1, 3, 4)"
      ]
     },
     "execution_count": 199,
     "metadata": {},
     "output_type": "execute_result"
    }
   ],
   "source": [
    "b_vsplit[0].shape"
   ]
  },
  {
   "cell_type": "code",
   "execution_count": 200,
   "metadata": {
    "ExecuteTime": {
     "end_time": "2021-03-13T03:38:51.598428Z",
     "start_time": "2021-03-13T03:38:51.584440Z"
    }
   },
   "outputs": [
    {
     "data": {
      "text/plain": [
       "[array([[[ 0,  1],\n",
       "         [ 4,  5],\n",
       "         [ 8,  9]],\n",
       " \n",
       "        [[12, 13],\n",
       "         [16, 17],\n",
       "         [20, 21]]]),\n",
       " array([[[ 2,  3],\n",
       "         [ 6,  7],\n",
       "         [10, 11]],\n",
       " \n",
       "        [[14, 15],\n",
       "         [18, 19],\n",
       "         [22, 23]]])]"
      ]
     },
     "execution_count": 200,
     "metadata": {},
     "output_type": "execute_result"
    }
   ],
   "source": [
    "# 3번째 차원을 기준으로 2개의 3차원 배열로 나눔\n",
    "b_dsplit = np.dsplit(b,2)\n",
    "b_dsplit"
   ]
  },
  {
   "cell_type": "code",
   "execution_count": 201,
   "metadata": {
    "ExecuteTime": {
     "end_time": "2021-03-13T03:38:52.370366Z",
     "start_time": "2021-03-13T03:38:52.354379Z"
    }
   },
   "outputs": [
    {
     "data": {
      "text/plain": [
       "(2, 3, 2)"
      ]
     },
     "execution_count": 201,
     "metadata": {},
     "output_type": "execute_result"
    }
   ],
   "source": [
    "b_dsplit[0].shape"
   ]
  },
  {
   "cell_type": "markdown",
   "metadata": {},
   "source": [
    "**- split(ary, indices_or_sections, axis=?)\n",
    "\n",
    " * axis=0이면, vsplit()과 동일\n",
    " * axis=1이면, hsplit()과 동일\n",
    " * axis=2이면, 3차원 이상에서 동작하며 dsplit()동일"
   ]
  },
  {
   "cell_type": "code",
   "execution_count": 202,
   "metadata": {
    "ExecuteTime": {
     "end_time": "2021-03-13T03:38:55.652925Z",
     "start_time": "2021-03-13T03:38:55.630937Z"
    }
   },
   "outputs": [
    {
     "data": {
      "text/plain": [
       "array([[ 0,  1,  2,  3,  4,  5,  6,  7,  8,  9],\n",
       "       [10, 11, 12, 13, 14, 15, 16, 17, 18, 19]])"
      ]
     },
     "execution_count": 202,
     "metadata": {},
     "output_type": "execute_result"
    }
   ],
   "source": [
    "a = np.arange(20).reshape(2,10)\n",
    "a"
   ]
  },
  {
   "cell_type": "code",
   "execution_count": 203,
   "metadata": {
    "ExecuteTime": {
     "end_time": "2021-03-13T03:38:56.641431Z",
     "start_time": "2021-03-13T03:38:56.629440Z"
    }
   },
   "outputs": [
    {
     "data": {
      "text/plain": [
       "[array([[ 0,  1,  2],\n",
       "        [10, 11, 12]]),\n",
       " array([[ 3,  4,  5],\n",
       "        [13, 14, 15]]),\n",
       " array([[ 6,  7,  8,  9],\n",
       "        [16, 17, 18, 19]])]"
      ]
     },
     "execution_count": 203,
     "metadata": {},
     "output_type": "execute_result"
    }
   ],
   "source": [
    "np.split(a, [3,6], axis=1) # [3,6] 나누고자 하는 인덱스"
   ]
  },
  {
   "cell_type": "code",
   "execution_count": 204,
   "metadata": {
    "ExecuteTime": {
     "end_time": "2021-03-13T03:38:57.348839Z",
     "start_time": "2021-03-13T03:38:57.340845Z"
    }
   },
   "outputs": [
    {
     "data": {
      "text/plain": [
       "[array([[ 0],\n",
       "        [10]]),\n",
       " array([[ 1,  2,  3,  4,  5],\n",
       "        [11, 12, 13, 14, 15]]),\n",
       " array([[ 6,  7,  8,  9],\n",
       "        [16, 17, 18, 19]])]"
      ]
     },
     "execution_count": 204,
     "metadata": {},
     "output_type": "execute_result"
    }
   ],
   "source": [
    "np.hsplit(a, [1,6])"
   ]
  },
  {
   "cell_type": "code",
   "execution_count": 205,
   "metadata": {
    "ExecuteTime": {
     "end_time": "2021-03-13T03:38:57.930042Z",
     "start_time": "2021-03-13T03:38:57.922048Z"
    }
   },
   "outputs": [
    {
     "data": {
      "text/plain": [
       "[array([[0, 1, 2, 3, 4, 5, 6, 7, 8, 9]]),\n",
       " array([[10, 11, 12, 13, 14, 15, 16, 17, 18, 19]])]"
      ]
     },
     "execution_count": 205,
     "metadata": {},
     "output_type": "execute_result"
    }
   ],
   "source": [
    "np.vsplit(a, 2)"
   ]
  },
  {
   "cell_type": "code",
   "execution_count": 206,
   "metadata": {
    "ExecuteTime": {
     "end_time": "2021-03-13T03:38:59.326667Z",
     "start_time": "2021-03-13T03:38:59.307682Z"
    }
   },
   "outputs": [
    {
     "data": {
      "text/plain": [
       "[array([[0, 1, 2, 3, 4, 5, 6, 7, 8, 9]]),\n",
       " array([[10, 11, 12, 13, 14, 15, 16, 17, 18, 19]])]"
      ]
     },
     "execution_count": 206,
     "metadata": {},
     "output_type": "execute_result"
    }
   ],
   "source": [
    "np.split(a, 2, axis=0)"
   ]
  },
  {
   "cell_type": "markdown",
   "metadata": {},
   "source": [
    "- array_split(ary, indices_or_sections, axis=0)\n",
    " split() 유일한 차이점은 축을 똑같이 나눌 수 없는 정수도 사용 가능"
   ]
  },
  {
   "cell_type": "code",
   "execution_count": 207,
   "metadata": {
    "ExecuteTime": {
     "end_time": "2021-03-13T03:39:01.970321Z",
     "start_time": "2021-03-13T03:39:01.948335Z"
    }
   },
   "outputs": [
    {
     "data": {
      "text/plain": [
       "[array([[ 0,  1,  2,  3],\n",
       "        [10, 11, 12, 13]]),\n",
       " array([[ 4,  5,  6],\n",
       "        [14, 15, 16]]),\n",
       " array([[ 7,  8,  9],\n",
       "        [17, 18, 19]])]"
      ]
     },
     "execution_count": 207,
     "metadata": {},
     "output_type": "execute_result"
    }
   ],
   "source": [
    "np.array_split(a, 3, axis=1)"
   ]
  },
  {
   "cell_type": "code",
   "execution_count": 208,
   "metadata": {
    "ExecuteTime": {
     "end_time": "2021-03-13T03:39:03.284156Z",
     "start_time": "2021-03-13T03:39:03.263167Z"
    }
   },
   "outputs": [
    {
     "data": {
      "text/plain": [
       "[array([[0, 1, 2, 3, 4, 5, 6, 7, 8, 9]]),\n",
       " array([[10, 11, 12, 13, 14, 15, 16, 17, 18, 19]])]"
      ]
     },
     "execution_count": 208,
     "metadata": {},
     "output_type": "execute_result"
    }
   ],
   "source": [
    "np.array_split(a, 2, axis=0)"
   ]
  }
 ],
 "metadata": {
  "kernelspec": {
   "display_name": "Python 3",
   "language": "python",
   "name": "python3"
  },
  "language_info": {
   "codemirror_mode": {
    "name": "ipython",
    "version": 3
   },
   "file_extension": ".py",
   "mimetype": "text/x-python",
   "name": "python",
   "nbconvert_exporter": "python",
   "pygments_lexer": "ipython3",
   "version": "3.8.5"
  },
  "toc": {
   "base_numbering": 1,
   "nav_menu": {},
   "number_sections": false,
   "sideBar": true,
   "skip_h1_title": false,
   "title_cell": "Table of Contents",
   "title_sidebar": "Contents",
   "toc_cell": false,
   "toc_position": {},
   "toc_section_display": true,
   "toc_window_display": false
  },
  "varInspector": {
   "cols": {
    "lenName": 16,
    "lenType": 16,
    "lenVar": 40
   },
   "kernels_config": {
    "python": {
     "delete_cmd_postfix": "",
     "delete_cmd_prefix": "del ",
     "library": "var_list.py",
     "varRefreshCmd": "print(var_dic_list())"
    },
    "r": {
     "delete_cmd_postfix": ") ",
     "delete_cmd_prefix": "rm(",
     "library": "var_list.r",
     "varRefreshCmd": "cat(var_dic_list()) "
    }
   },
   "types_to_exclude": [
    "module",
    "function",
    "builtin_function_or_method",
    "instance",
    "_Feature"
   ],
   "window_display": false
  }
 },
 "nbformat": 4,
 "nbformat_minor": 4
}
