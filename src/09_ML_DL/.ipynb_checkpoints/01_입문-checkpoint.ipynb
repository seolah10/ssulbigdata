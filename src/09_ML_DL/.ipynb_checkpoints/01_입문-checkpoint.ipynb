{
 "cells": [
  {
   "cell_type": "code",
   "execution_count": 1,
   "metadata": {
    "ExecuteTime": {
     "end_time": "2021-03-27T15:57:30.352894Z",
     "start_time": "2021-03-27T15:57:30.325912Z"
    }
   },
   "outputs": [
    {
     "data": {
      "text/html": [
       "\n",
       "<style>\n",
       "div.container{width:100% !important;}\n",
       "div.CodeMirror {font-family:Consolas; font-size:10pt;}\n",
       "div.output {font-size:10pt}\n",
       "div.input {font-family:Consolas; font-size:10pt;}\n",
       "div.prompt {min-width:70px;}\n",
       "</style>\n"
      ],
      "text/plain": [
       "<IPython.core.display.HTML object>"
      ]
     },
     "metadata": {},
     "output_type": "display_data"
    }
   ],
   "source": [
    "from IPython.display import display, HTML\n",
    "display(HTML(\"\"\"\n",
    "<style>\n",
    "div.container{width:100% !important;}\n",
    "div.CodeMirror {font-family:Consolas; font-size:10pt;}\n",
    "div.output {font-size:10pt}\n",
    "div.input {font-family:Consolas; font-size:10pt;}\n",
    "div.prompt {min-width:70px;}\n",
    "</style>\n",
    "\"\"\"))"
   ]
  },
  {
   "cell_type": "markdown",
   "metadata": {},
   "source": [
    "# Linear Regression\n",
    "\n",
    "## 기존의 프로그램 방식 "
   ]
  },
  {
   "cell_type": "code",
   "execution_count": 2,
   "metadata": {
    "ExecuteTime": {
     "end_time": "2021-03-27T15:57:31.976888Z",
     "start_time": "2021-03-27T15:57:30.356893Z"
    }
   },
   "outputs": [],
   "source": [
    "import numpy as np \n",
    "import matplotlib.pyplot as plt"
   ]
  },
  {
   "cell_type": "markdown",
   "metadata": {},
   "source": [
    "**섭씨 온도(input data)를 받아 화씨 온도(target data)로 출력하기**"
   ]
  },
  {
   "cell_type": "code",
   "execution_count": 3,
   "metadata": {
    "ExecuteTime": {
     "end_time": "2021-03-27T15:57:32.001873Z",
     "start_time": "2021-03-27T15:57:31.988882Z"
    }
   },
   "outputs": [],
   "source": [
    "def celsius_to_faherenheit(x):\n",
    "    return x * 1.8 +32"
   ]
  },
  {
   "cell_type": "code",
   "execution_count": 4,
   "metadata": {
    "ExecuteTime": {
     "end_time": "2021-03-27T15:57:35.996399Z",
     "start_time": "2021-03-27T15:57:32.004872Z"
    }
   },
   "outputs": [
    {
     "name": "stdout",
     "output_type": "stream",
     "text": [
      "섭씨 온도: 1\n",
      "화씨 온도:  33.8\n"
     ]
    }
   ],
   "source": [
    "input_c = int(input('섭씨 온도: '))\n",
    "print('화씨 온도: ', celsius_to_faherenheit(input_c))"
   ]
  },
  {
   "cell_type": "markdown",
   "metadata": {},
   "source": [
    "## 머신러닝 프로그램 방식 \n",
    "\n",
    "<ol>\n",
    "    <li>데이터 확보 및 생성</li>\n",
    "    <li>데이터 전처리: 훈련 데이터 셋, 검증 데이터 셋, 시험 데이터 셋...</li>\n",
    "    <li>모델 구성</li>\n",
    "    <li>모델 학습과정 설정</li>\n",
    "    <li>모델 학습시키기</li>\n",
    "    <li>모델 평가(with 시험 데이터 셋)</li>\n",
    "    <li>모델 사용(입력값을 주어서 예측값 받기</li>\n",
    "</ol>"
   ]
  },
  {
   "cell_type": "code",
   "execution_count": 5,
   "metadata": {
    "ExecuteTime": {
     "end_time": "2021-03-27T15:57:36.012390Z",
     "start_time": "2021-03-27T15:57:35.998399Z"
    }
   },
   "outputs": [
    {
     "data": {
      "text/plain": [
       "array([ 0,  1,  2,  3,  4,  5,  6,  7,  8,  9, 10, 11, 12, 13, 14, 15, 16,\n",
       "       17, 18, 19, 20, 21, 22, 23, 24, 25, 26, 27, 28, 29, 30, 31, 32, 33,\n",
       "       34, 35, 36, 37, 38, 39, 40, 41, 42, 43, 44, 45, 46, 47, 48, 49, 50,\n",
       "       51, 52, 53, 54, 55, 56, 57, 58, 59, 60, 61, 62, 63, 64, 65, 66, 67,\n",
       "       68, 69, 70, 71, 72, 73, 74, 75, 76, 77, 78, 79, 80, 81, 82, 83, 84,\n",
       "       85, 86, 87, 88, 89, 90, 91, 92, 93, 94, 95, 96, 97, 98, 99])"
      ]
     },
     "execution_count": 5,
     "metadata": {},
     "output_type": "execute_result"
    }
   ],
   "source": [
    "# 1. 데이터\n",
    "# 1) input data\n",
    "data_C = np.array(range(100))\n",
    "data_C"
   ]
  },
  {
   "cell_type": "code",
   "execution_count": 6,
   "metadata": {
    "ExecuteTime": {
     "end_time": "2021-03-27T15:57:36.313204Z",
     "start_time": "2021-03-27T15:57:36.015389Z"
    }
   },
   "outputs": [
    {
     "data": {
      "text/plain": [
       "array([ 32. ,  33.8,  35.6,  37.4,  39.2,  41. ,  42.8,  44.6,  46.4,\n",
       "        48.2,  50. ,  51.8,  53.6,  55.4,  57.2,  59. ,  60.8,  62.6,\n",
       "        64.4,  66.2,  68. ,  69.8,  71.6,  73.4,  75.2,  77. ,  78.8,\n",
       "        80.6,  82.4,  84.2,  86. ,  87.8,  89.6,  91.4,  93.2,  95. ,\n",
       "        96.8,  98.6, 100.4, 102.2, 104. , 105.8, 107.6, 109.4, 111.2,\n",
       "       113. , 114.8, 116.6, 118.4, 120.2, 122. , 123.8, 125.6, 127.4,\n",
       "       129.2, 131. , 132.8, 134.6, 136.4, 138.2, 140. , 141.8, 143.6,\n",
       "       145.4, 147.2, 149. , 150.8, 152.6, 154.4, 156.2, 158. , 159.8,\n",
       "       161.6, 163.4, 165.2, 167. , 168.8, 170.6, 172.4, 174.2, 176. ,\n",
       "       177.8, 179.6, 181.4, 183.2, 185. , 186.8, 188.6, 190.4, 192.2,\n",
       "       194. , 195.8, 197.6, 199.4, 201.2, 203. , 204.8, 206.6, 208.4,\n",
       "       210.2])"
      ]
     },
     "execution_count": 6,
     "metadata": {},
     "output_type": "execute_result"
    }
   ],
   "source": [
    "# 2) target data\n",
    "data_F = celsius_to_faherenheit(data_C)\n",
    "data_F"
   ]
  },
  {
   "cell_type": "code",
   "execution_count": 7,
   "metadata": {
    "ExecuteTime": {
     "end_time": "2021-03-27T15:57:43.400819Z",
     "start_time": "2021-03-27T15:57:36.332191Z"
    }
   },
   "outputs": [],
   "source": [
    "from tensorflow.keras.models import Sequential # 모델 생성 \n",
    "from tensorflow.keras.layers import Dense # 입력값과 출력값 "
   ]
  },
  {
   "cell_type": "code",
   "execution_count": 8,
   "metadata": {
    "ExecuteTime": {
     "end_time": "2021-03-27T15:57:43.478766Z",
     "start_time": "2021-03-27T15:57:43.404811Z"
    }
   },
   "outputs": [
    {
     "name": "stdout",
     "output_type": "stream",
     "text": [
      "Model: \"sequential\"\n",
      "_________________________________________________________________\n",
      "Layer (type)                 Output Shape              Param #   \n",
      "=================================================================\n",
      "dense (Dense)                (None, 1)                 2         \n",
      "=================================================================\n",
      "Total params: 2\n",
      "Trainable params: 2\n",
      "Non-trainable params: 0\n",
      "_________________________________________________________________\n",
      "None\n"
     ]
    }
   ],
   "source": [
    "# 3. 모델 구성 \n",
    "model = Sequential() # 모델 객체 생성\n",
    "model.add(Dense(1, input_dim=1)) \n",
    "        # target_data 1개, input_dim=1; 독립변수 1개\n",
    "\n",
    "# 4. 모델 학습과정 설정\n",
    "model.compile(loss='mse', optimizer='rmsprop', metrics=['mae'])\n",
    "print(model.summary())"
   ]
  },
  {
   "cell_type": "code",
   "execution_count": 9,
   "metadata": {
    "ExecuteTime": {
     "end_time": "2021-03-27T15:57:44.560220Z",
     "start_time": "2021-03-27T15:57:43.481763Z"
    }
   },
   "outputs": [
    {
     "name": "stdout",
     "output_type": "stream",
     "text": [
      "[[0.]]\n"
     ]
    }
   ],
   "source": [
    "# 학습 전 예측\n",
    "print(model.predict([0]))"
   ]
  },
  {
   "cell_type": "code",
   "execution_count": 10,
   "metadata": {
    "ExecuteTime": {
     "end_time": "2021-03-27T15:57:44.608207Z",
     "start_time": "2021-03-27T15:57:44.580212Z"
    }
   },
   "outputs": [],
   "source": [
    "model.save('model/01_before_learning.h5')"
   ]
  },
  {
   "cell_type": "code",
   "execution_count": 11,
   "metadata": {
    "ExecuteTime": {
     "end_time": "2021-03-27T15:57:44.826491Z",
     "start_time": "2021-03-27T15:57:44.611206Z"
    }
   },
   "outputs": [
    {
     "name": "stdout",
     "output_type": "stream",
     "text": [
      "[0.   0.01 0.02 0.03 0.04 0.05 0.06 0.07 0.08 0.09 0.1  0.11 0.12 0.13\n",
      " 0.14 0.15 0.16 0.17 0.18 0.19 0.2  0.21 0.22 0.23 0.24 0.25 0.26 0.27\n",
      " 0.28 0.29 0.3  0.31 0.32 0.33 0.34 0.35 0.36 0.37 0.38 0.39 0.4  0.41\n",
      " 0.42 0.43 0.44 0.45 0.46 0.47 0.48 0.49 0.5  0.51 0.52 0.53 0.54 0.55\n",
      " 0.56 0.57 0.58 0.59 0.6  0.61 0.62 0.63 0.64 0.65 0.66 0.67 0.68 0.69\n",
      " 0.7  0.71 0.72 0.73 0.74 0.75 0.76 0.77 0.78 0.79 0.8  0.81 0.82 0.83\n",
      " 0.84 0.85 0.86 0.87 0.88 0.89 0.9  0.91 0.92 0.93 0.94 0.95 0.96 0.97\n",
      " 0.98 0.99]\n",
      "\n",
      "[0.32  0.338 0.356 0.374 0.392 0.41  0.428 0.446 0.464 0.482 0.5   0.518\n",
      " 0.536 0.554 0.572 0.59  0.608 0.626 0.644 0.662 0.68  0.698 0.716 0.734\n",
      " 0.752 0.77  0.788 0.806 0.824 0.842 0.86  0.878 0.896 0.914 0.932 0.95\n",
      " 0.968 0.986 1.004 1.022 1.04  1.058 1.076 1.094 1.112 1.13  1.148 1.166\n",
      " 1.184 1.202 1.22  1.238 1.256 1.274 1.292 1.31  1.328 1.346 1.364 1.382\n",
      " 1.4   1.418 1.436 1.454 1.472 1.49  1.508 1.526 1.544 1.562 1.58  1.598\n",
      " 1.616 1.634 1.652 1.67  1.688 1.706 1.724 1.742 1.76  1.778 1.796 1.814\n",
      " 1.832 1.85  1.868 1.886 1.904 1.922 1.94  1.958 1.976 1.994 2.012 2.03\n",
      " 2.048 2.066 2.084 2.102]\n"
     ]
    }
   ],
   "source": [
    "# 컴퓨터에게 학습시키기 위한 normalize \n",
    "# (전체의 편차 줄이기 - 이상적인 편차: 0~1)\n",
    "scaled_data_C = data_C / 100\n",
    "scaled_data_F = data_F / 100 \n",
    "\n",
    "print(scaled_data_C, end='\\n\\n')\n",
    "print(scaled_data_F)"
   ]
  },
  {
   "cell_type": "code",
   "execution_count": 12,
   "metadata": {
    "ExecuteTime": {
     "end_time": "2021-03-27T15:57:49.523188Z",
     "start_time": "2021-03-27T15:57:44.833487Z"
    }
   },
   "outputs": [],
   "source": [
    "# 4. 모델 학습시키기 \n",
    "hist = model.fit(scaled_data_C, scaled_data_F, epochs= 1000, verbose=0)\n",
    "                                            # epochs= ; 학습 횟수"
   ]
  },
  {
   "cell_type": "code",
   "execution_count": 13,
   "metadata": {
    "ExecuteTime": {
     "end_time": "2021-03-27T15:57:49.584155Z",
     "start_time": "2021-03-27T15:57:49.563165Z"
    }
   },
   "outputs": [
    {
     "data": {
      "text/plain": [
       "dict_keys(['loss', 'mae'])"
      ]
     },
     "execution_count": 13,
     "metadata": {},
     "output_type": "execute_result"
    }
   ],
   "source": [
    "hist.history.keys()"
   ]
  },
  {
   "cell_type": "code",
   "execution_count": 14,
   "metadata": {
    "ExecuteTime": {
     "end_time": "2021-03-27T15:57:50.295760Z",
     "start_time": "2021-03-27T15:57:49.590149Z"
    }
   },
   "outputs": [
    {
     "data": {
      "image/png": "[encoded data removed]",
      "text/plain": [
       "<Figure size 432x288 with 1 Axes>"
      ]
     },
     "metadata": {
      "needs_background": "light"
     },
     "output_type": "display_data"
    }
   ],
   "source": [
    "plt.plot(hist.history['loss'])\n",
    "plt.show()"
   ]
  },
  {
   "cell_type": "code",
   "execution_count": 15,
   "metadata": {
    "ExecuteTime": {
     "end_time": "2021-03-27T15:57:50.439670Z",
     "start_time": "2021-03-27T15:57:50.301758Z"
    }
   },
   "outputs": [
    {
     "data": {
      "text/plain": [
       "array([[0.33802348]], dtype=float32)"
      ]
     },
     "execution_count": 15,
     "metadata": {},
     "output_type": "execute_result"
    }
   ],
   "source": [
    "model.predict([0.01])"
   ]
  },
  {
   "cell_type": "code",
   "execution_count": 16,
   "metadata": {
    "ExecuteTime": {
     "end_time": "2021-03-27T15:57:50.471649Z",
     "start_time": "2021-03-27T15:57:50.443667Z"
    }
   },
   "outputs": [],
   "source": [
    "model.save('model/01_after_learning.h5')"
   ]
  },
  {
   "cell_type": "code",
   "execution_count": 17,
   "metadata": {
    "ExecuteTime": {
     "end_time": "2021-03-27T15:57:51.072957Z",
     "start_time": "2021-03-27T15:57:50.477646Z"
    }
   },
   "outputs": [
    {
     "data": {
      "text/plain": [
       "<matplotlib.collections.PathCollection at 0x2741e5260d0>"
      ]
     },
     "execution_count": 17,
     "metadata": {},
     "output_type": "execute_result"
    },
    {
     "data": {
      "image/png": "[encoded data removed]",
      "text/plain": [
       "<Figure size 432x288 with 1 Axes>"
      ]
     },
     "metadata": {
      "needs_background": "light"
     },
     "output_type": "display_data"
    }
   ],
   "source": [
    "plt.scatter(x=scaled_data_C, y=scaled_data_F) # 노이즈 발생 전"
   ]
  },
  {
   "cell_type": "markdown",
   "metadata": {},
   "source": [
    "## 노이즈가 있는 데이터로 실습 "
   ]
  },
  {
   "cell_type": "code",
   "execution_count": 18,
   "metadata": {
    "ExecuteTime": {
     "end_time": "2021-03-27T15:57:51.088945Z",
     "start_time": "2021-03-27T15:57:51.076954Z"
    }
   },
   "outputs": [],
   "source": [
    "# 평균이 0, 표준편차가 0.1인 데이터 100개  \n",
    "np.random.seed(703)\n",
    "noise = np.array(np.random.normal(0, 0.1, 100))\n",
    "noised_scaled_data_F = scaled_data_F + noise"
   ]
  },
  {
   "cell_type": "code",
   "execution_count": 19,
   "metadata": {
    "ExecuteTime": {
     "end_time": "2021-03-27T15:57:51.698283Z",
     "start_time": "2021-03-27T15:57:51.094942Z"
    }
   },
   "outputs": [
    {
     "data": {
      "image/png": "[encoded data removed]",
      "text/plain": [
       "<Figure size 432x288 with 1 Axes>"
      ]
     },
     "metadata": {
      "needs_background": "light"
     },
     "output_type": "display_data"
    }
   ],
   "source": [
    "plt.scatter(x=scaled_data_C, y=noised_scaled_data_F)\n",
    "plt.show()"
   ]
  },
  {
   "cell_type": "code",
   "execution_count": 20,
   "metadata": {
    "ExecuteTime": {
     "end_time": "2021-03-27T15:57:51.769722Z",
     "start_time": "2021-03-27T15:57:51.703280Z"
    }
   },
   "outputs": [
    {
     "name": "stdout",
     "output_type": "stream",
     "text": [
      "Model: \"sequential\"\n",
      "_________________________________________________________________\n",
      "Layer (type)                 Output Shape              Param #   \n",
      "=================================================================\n",
      "dense (Dense)                (None, 1)                 2         \n",
      "=================================================================\n",
      "Total params: 2\n",
      "Trainable params: 2\n",
      "Non-trainable params: 0\n",
      "_________________________________________________________________\n",
      "None\n"
     ]
    }
   ],
   "source": [
    "# 3. 모델 구성 \n",
    "model2 = Sequential()\n",
    "model2.add(Dense(1, input_dim=1)) # target_data 1개, input_dim=1; 독립변수 1개\n",
    "\n",
    "# 4. 모델 학습과정 설정\n",
    "model2.compile(loss='mse', optimizer='rmsprop', metrics=['mae'])\n",
    "print(model.summary())"
   ]
  },
  {
   "cell_type": "code",
   "execution_count": 21,
   "metadata": {
    "ExecuteTime": {
     "end_time": "2021-03-27T15:57:56.734677Z",
     "start_time": "2021-03-27T15:57:51.772726Z"
    }
   },
   "outputs": [],
   "source": [
    "# 5. 모델 학습시키기 \n",
    "hist2 = model2.fit(scaled_data_C, noised_scaled_data_F, \n",
    "                   epochs=1000, verbose=0)\n",
    "                                #verbose=0; 학습 결과 출력하지 않음"
   ]
  },
  {
   "cell_type": "code",
   "execution_count": 22,
   "metadata": {
    "ExecuteTime": {
     "end_time": "2021-03-27T15:59:07.916392Z",
     "start_time": "2021-03-27T15:59:07.772481Z"
    }
   },
   "outputs": [
    {
     "name": "stdout",
     "output_type": "stream",
     "text": [
      "[[0.3492813]]\n"
     ]
    }
   ],
   "source": [
    "print(model2.predict(np.array([0.01])))"
   ]
  },
  {
   "cell_type": "code",
   "execution_count": 23,
   "metadata": {
    "ExecuteTime": {
     "end_time": "2021-03-27T15:59:26.722427Z",
     "start_time": "2021-03-27T15:59:26.289694Z"
    }
   },
   "outputs": [
    {
     "data": {
      "text/plain": [
       "[<matplotlib.lines.Line2D at 0x2741e55c2e0>]"
      ]
     },
     "execution_count": 23,
     "metadata": {},
     "output_type": "execute_result"
    },
    {
     "data": {
      "image/png": "[encoded data removed]",
      "text/plain": [
       "<Figure size 432x288 with 1 Axes>"
      ]
     },
     "metadata": {
      "needs_background": "light"
     },
     "output_type": "display_data"
    }
   ],
   "source": [
    "plt.plot(hist2.history['loss'])"
   ]
  },
  {
   "cell_type": "code",
   "execution_count": 24,
   "metadata": {
    "ExecuteTime": {
     "end_time": "2021-03-27T15:59:54.092614Z",
     "start_time": "2021-03-27T15:59:54.066631Z"
    }
   },
   "outputs": [],
   "source": [
    "model2.save('model/01_noise_after_learning.h5')"
   ]
  },
  {
   "cell_type": "code",
   "execution_count": null,
   "metadata": {},
   "outputs": [],
   "source": []
  },
  {
   "cell_type": "code",
   "execution_count": null,
   "metadata": {},
   "outputs": [],
   "source": []
  },
  {
   "cell_type": "code",
   "execution_count": null,
   "metadata": {},
   "outputs": [],
   "source": []
  },
  {
   "cell_type": "code",
   "execution_count": null,
   "metadata": {},
   "outputs": [],
   "source": []
  }
 ],
 "metadata": {
  "kernelspec": {
   "display_name": "Python 3",
   "language": "python",
   "name": "python3"
  },
  "language_info": {
   "codemirror_mode": {
    "name": "ipython",
    "version": 3
   },
   "file_extension": ".py",
   "mimetype": "text/x-python",
   "name": "python",
   "nbconvert_exporter": "python",
   "pygments_lexer": "ipython3",
   "version": "3.8.8"
  },
  "toc": {
   "base_numbering": 1,
   "nav_menu": {},
   "number_sections": true,
   "sideBar": true,
   "skip_h1_title": false,
   "title_cell": "Table of Contents",
   "title_sidebar": "Contents",
   "toc_cell": false,
   "toc_position": {},
   "toc_section_display": true,
   "toc_window_display": false
  },
  "varInspector": {
   "cols": {
    "lenName": 16,
    "lenType": 16,
    "lenVar": 40
   },
   "kernels_config": {
    "python": {
     "delete_cmd_postfix": "",
     "delete_cmd_prefix": "del ",
     "library": "var_list.py",
     "varRefreshCmd": "print(var_dic_list())"
    },
    "r": {
     "delete_cmd_postfix": ") ",
     "delete_cmd_prefix": "rm(",
     "library": "var_list.r",
     "varRefreshCmd": "cat(var_dic_list()) "
    }
   },
   "types_to_exclude": [
    "module",
    "function",
    "builtin_function_or_method",
    "instance",
    "_Feature"
   ],
   "window_display": false
  }
 },
 "nbformat": 4,
 "nbformat_minor": 4
}
