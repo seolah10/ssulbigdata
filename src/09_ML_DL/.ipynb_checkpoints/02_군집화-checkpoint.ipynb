{
 "cells": [
  {
   "cell_type": "code",
   "execution_count": 1,
   "id": "cellular-third",
   "metadata": {
    "ExecuteTime": {
     "end_time": "2021-03-27T16:06:24.056993Z",
     "start_time": "2021-03-27T16:06:24.036006Z"
    }
   },
   "outputs": [
    {
     "data": {
      "text/html": [
       "\n",
       "<style>\n",
       "div.container{width:100% !important;}\n",
       "div.CodeMirror {font-family:Consolas; font-size:10pt;}\n",
       "div.output {font-size:10pt}\n",
       "div.input {font-family:Consolas; font-size:10pt;}\n",
       "div.prompt {min-width:70px;}\n",
       "</style>\n"
      ],
      "text/plain": [
       "<IPython.core.display.HTML object>"
      ]
     },
     "metadata": {},
     "output_type": "display_data"
    }
   ],
   "source": [
    "from IPython.display import display, HTML\n",
    "display(HTML(\"\"\"\n",
    "<style>\n",
    "div.container{width:100% !important;}\n",
    "div.CodeMirror {font-family:Consolas; font-size:10pt;}\n",
    "div.output {font-size:10pt}\n",
    "div.input {font-family:Consolas; font-size:10pt;}\n",
    "div.prompt {min-width:70px;}\n",
    "</style>\n",
    "\"\"\"))"
   ]
  },
  {
   "cell_type": "code",
   "execution_count": 2,
   "id": "opponent-title",
   "metadata": {
    "ExecuteTime": {
     "end_time": "2021-03-27T16:25:19.294389Z",
     "start_time": "2021-03-27T16:25:13.872000Z"
    }
   },
   "outputs": [],
   "source": [
    "import random\n",
    "import numpy as np\n",
    "import matplotlib.pyplot as plt"
   ]
  },
  {
   "cell_type": "code",
   "execution_count": 3,
   "id": "governmental-console",
   "metadata": {
    "ExecuteTime": {
     "end_time": "2021-03-27T16:26:17.163078Z",
     "start_time": "2021-03-27T16:26:17.152085Z"
    }
   },
   "outputs": [],
   "source": [
    "data = []\n",
    "\n",
    "for i in range(50):\n",
    "    data.append([random.randint(40,70), random.randint(140,180)])\n",
    "    data.append([random.randint(60,90), random.randint(170,200)])"
   ]
  },
  {
   "cell_type": "code",
   "execution_count": 5,
   "id": "automated-raleigh",
   "metadata": {
    "ExecuteTime": {
     "end_time": "2021-03-27T16:28:28.336649Z",
     "start_time": "2021-03-27T16:28:28.312665Z"
    }
   },
   "outputs": [
    {
     "name": "stdout",
     "output_type": "stream",
     "text": [
      "[62, 159] [43, 156] [63, 165] [45, 153] [50, 141] [45, 146] [40, 160] [53, 153] [53, 163] [56, 164] [68, 167] [59, 140] [63, 158] [43, 141] [60, 150] [61, 143] [46, 148] [40, 162] [69, 141] [49, 160] [50, 174] [60, 149] [63, 154] [62, 140] [56, 169] [61, 176] [69, 170] [60, 156] [64, 152] [47, 145] [58, 163] [70, 150] [67, 154] [50, 173] [42, 170] [58, 142] [55, 157] [70, 164] [56, 145] [48, 155] [47, 166] [59, 178] [59, 168] [67, 158] [48, 165] [56, 178] [69, 140] [59, 163] [49, 158] [61, 167] \n",
      "-----------------------------------------------------------\n",
      "[80, 179] [64, 183] [76, 171] [72, 198] [66, 173] [81, 176] [90, 186] [90, 185] [80, 180] [68, 184] [85, 180] [85, 194] [78, 197] [80, 174] [90, 186] [80, 197] [83, 177] [79, 172] [89, 200] [64, 173] [75, 178] [75, 196] [61, 176] [77, 200] [74, 184] [75, 189] [71, 179] [89, 174] [75, 195] [90, 186] [87, 171] [81, 187] [78, 184] [82, 198] [72, 170] [87, 187] [86, 187] [65, 197] [71, 186] [61, 183] [85, 184] [60, 184] [86, 184] [62, 192] [87, 184] [68, 184] [81, 173] [89, 174] [72, 199] [60, 193] "
     ]
    }
   ],
   "source": [
    "# 여자 \n",
    "for female in data[0:100:2]:\n",
    "    print(female, end=\" \")\n",
    "print('\\n-----------------------------------------------------------')\n",
    "\n",
    "# 남자 \n",
    "for male in data[1:100:2]:\n",
    "    print(male, end=' ')"
   ]
  },
  {
   "cell_type": "code",
   "execution_count": 8,
   "id": "graduate-yeast",
   "metadata": {
    "ExecuteTime": {
     "end_time": "2021-03-27T16:31:18.200332Z",
     "start_time": "2021-03-27T16:31:17.841974Z"
    }
   },
   "outputs": [
    {
     "data": {
      "text/plain": [
       "[<matplotlib.lines.Line2D at 0x1cd6f659d30>]"
      ]
     },
     "execution_count": 8,
     "metadata": {},
     "output_type": "execute_result"
    },
    {
     "data": {
      "image/png": "[encoded data removed]",
      "text/plain": [
       "<Figure size 432x288 with 1 Axes>"
      ]
     },
     "metadata": {
      "needs_background": "light"
     },
     "output_type": "display_data"
    }
   ],
   "source": [
    "# 여자 몸무게 \n",
    "[d[0] for d in data[0:100:2]]\n",
    "# 여자 키 \n",
    "[d[1] for d in data[0:100:2]]\n",
    "\n",
    "# 남자 몸무게\n",
    "[d[0] for d in data[1:100:2]]\n",
    "# 남자 키\n",
    "[d[1] for d in data[1:100:2]]\n",
    "\n",
    "plt.plot([d[0] for d in data[0:100:2]], [d[1] for d in data[0:100:2]],\n",
    "         'o', color='r')\n",
    "plt.plot([d[0] for d in data[1:100:2]], [d[1] for d in data[1:100:2]],\n",
    "         'o', color='b')"
   ]
  },
  {
   "cell_type": "code",
   "execution_count": 9,
   "id": "infectious-detail",
   "metadata": {
    "ExecuteTime": {
     "end_time": "2021-03-27T16:32:43.629522Z",
     "start_time": "2021-03-27T16:32:43.621528Z"
    }
   },
   "outputs": [
    {
     "name": "stdout",
     "output_type": "stream",
     "text": [
      "초기 랜덤 기준점:  [[42, 177], [63, 198]]\n"
     ]
    }
   ],
   "source": [
    "# 초기 랜덤 지점 2개 \n",
    "random_points = [[random.randint(40,90), random.randint(140,200)],\n",
    "                 [random.randint(40,90), random.randint(140,200)]]\n",
    "print('초기 랜덤 기준점: ', random_points)"
   ]
  },
  {
   "cell_type": "code",
   "execution_count": 11,
   "id": "waiting-passage",
   "metadata": {
    "ExecuteTime": {
     "end_time": "2021-03-27T16:33:35.792627Z",
     "start_time": "2021-03-27T16:33:35.777636Z"
    }
   },
   "outputs": [
    {
     "name": "stdout",
     "output_type": "stream",
     "text": [
      "42 177 / 63 198\n"
     ]
    }
   ],
   "source": [
    "# 기준점 1 \n",
    "print(random_points[0][0], random_points[0][1], end=' / ')\n",
    "# 기준점 2 \n",
    "print(random_points[1][0], random_points[1][1])"
   ]
  },
  {
   "cell_type": "code",
   "execution_count": 12,
   "id": "announced-broadcast",
   "metadata": {
    "ExecuteTime": {
     "end_time": "2021-03-27T16:34:56.512126Z",
     "start_time": "2021-03-27T16:34:55.931485Z"
    }
   },
   "outputs": [
    {
     "data": {
      "text/plain": [
       "[<matplotlib.lines.Line2D at 0x1cd71653b20>]"
      ]
     },
     "execution_count": 12,
     "metadata": {},
     "output_type": "execute_result"
    },
    {
     "data": {
      "image/png": "[encoded data removed]",
      "text/plain": [
       "<Figure size 432x288 with 1 Axes>"
      ]
     },
     "metadata": {
      "needs_background": "light"
     },
     "output_type": "display_data"
    }
   ],
   "source": [
    "for x in data:\n",
    "    plt.plot(x[0], x[1], 'o', color='k')\n",
    "\n",
    "plt.plot(random_points[0][0], random_points[0][1], 'x', color='r')\n",
    "plt.plot(random_points[1][0], random_points[1][1], 'x', color='b')"
   ]
  },
  {
   "cell_type": "code",
   "execution_count": 13,
   "id": "figured-logging",
   "metadata": {
    "ExecuteTime": {
     "end_time": "2021-03-27T16:35:19.960725Z",
     "start_time": "2021-03-27T16:35:19.953730Z"
    }
   },
   "outputs": [],
   "source": [
    "# 두 영역으로 나눌 빈 리스트 생성 \n",
    "group1 = []\n",
    "group2 = []"
   ]
  },
  {
   "cell_type": "code",
   "execution_count": 15,
   "id": "derived-session",
   "metadata": {
    "ExecuteTime": {
     "end_time": "2021-03-27T16:36:32.648225Z",
     "start_time": "2021-03-27T16:36:32.628235Z"
    }
   },
   "outputs": [],
   "source": [
    "# 영역을 나누기 위한, 두 점 사이의 거리를 구하는 함수 \n",
    "# (피타고라스의 정의 이용)\n",
    "def dist(a, b):\n",
    "    return np.sqrt((a[0]-b[0])**2 + (a[1]-b[1])**2)"
   ]
  },
  {
   "cell_type": "code",
   "execution_count": 16,
   "id": "western-separation",
   "metadata": {
    "ExecuteTime": {
     "end_time": "2021-03-27T16:36:56.945459Z",
     "start_time": "2021-03-27T16:36:56.929468Z"
    }
   },
   "outputs": [
    {
     "data": {
      "text/plain": [
       "5.0"
      ]
     },
     "execution_count": 16,
     "metadata": {},
     "output_type": "execute_result"
    }
   ],
   "source": [
    "a = [0,0]; b = [3,4]\n",
    "dist(a, b)"
   ]
  },
  {
   "cell_type": "code",
   "execution_count": 17,
   "id": "recent-dispatch",
   "metadata": {
    "ExecuteTime": {
     "end_time": "2021-03-27T16:38:47.914751Z",
     "start_time": "2021-03-27T16:38:47.909754Z"
    }
   },
   "outputs": [],
   "source": [
    "for d in data:\n",
    "    if dist(random_points[0], d) < dist(random_points[1], d):\n",
    "        group1.append(d) # 기준점1과 더 가까운 그룹 \n",
    "    else: \n",
    "        group2.append(d) # 기준점2과 더 가까운 그룹 "
   ]
  },
  {
   "cell_type": "code",
   "execution_count": 18,
   "id": "interesting-fraction",
   "metadata": {
    "ExecuteTime": {
     "end_time": "2021-03-27T16:40:44.669296Z",
     "start_time": "2021-03-27T16:40:44.083226Z"
    }
   },
   "outputs": [
    {
     "data": {
      "text/plain": [
       "[<matplotlib.lines.Line2D at 0x1cd714ece20>]"
      ]
     },
     "execution_count": 18,
     "metadata": {},
     "output_type": "execute_result"
    },
    {
     "data": {
      "image/png": "[encoded data removed]",
      "text/plain": [
       "<Figure size 432x288 with 1 Axes>"
      ]
     },
     "metadata": {
      "needs_background": "light"
     },
     "output_type": "display_data"
    }
   ],
   "source": [
    "# 랜덤 기준점1,2를 기준으로 형성된 새로운 영역을 그래프로 생성 \n",
    "for d in group1:\n",
    "    plt.plot(d[0], d[1], 'o', color='r')\n",
    "for d in group2:\n",
    "    plt.plot(d[0], d[1], 'o', color='b')\n",
    "\n",
    "plt.plot(random_points[0][0], random_points[0][1], 'x', color='r')\n",
    "plt.plot(random_points[1][0], random_points[1][1], 'x', color='b')"
   ]
  },
  {
   "cell_type": "code",
   "execution_count": 23,
   "id": "labeled-undergraduate",
   "metadata": {
    "ExecuteTime": {
     "end_time": "2021-03-27T16:48:08.697768Z",
     "start_time": "2021-03-27T16:48:08.677780Z"
    }
   },
   "outputs": [
    {
     "name": "stdout",
     "output_type": "stream",
     "text": [
      "[[42, 177], [63, 198]]\n",
      "[[56.58490566037736, 158.32075471698113], [78.1063829787234, 185.12765957446808]]\n"
     ]
    }
   ],
   "source": [
    "# 기준점 이동 \n",
    "# 1) x축값끼리, y축값끼리 더하기\n",
    "# 2) 새로운 기준점 생성 (group1, group2 각각의 중간값으로 )\n",
    "sum_x = 0; sum_y = 0\n",
    "for g in group1:\n",
    "    sum_x += g[0] # x축 값 누적 \n",
    "    sum_y += g[1] # y축 값 누적 \n",
    "new_points = []\n",
    "new_points.append([sum_x/len(group1), sum_y/len(group1)])\n",
    "\n",
    "sum_x = 0; sum_y = 0;\n",
    "for g in group2:\n",
    "    sum_x += g[0] \n",
    "    sum_y += g[1] \n",
    "new_points.append([sum_x/len(group2), sum_y/len(group2)])\n",
    "\n",
    "print(random_points)\n",
    "print(new_points)"
   ]
  },
  {
   "cell_type": "code",
   "execution_count": 24,
   "id": "touched-reach",
   "metadata": {
    "ExecuteTime": {
     "end_time": "2021-03-27T16:49:55.650971Z",
     "start_time": "2021-03-27T16:49:55.044348Z"
    }
   },
   "outputs": [
    {
     "data": {
      "text/plain": [
       "[<matplotlib.lines.Line2D at 0x1cd716de940>]"
      ]
     },
     "execution_count": 24,
     "metadata": {},
     "output_type": "execute_result"
    },
    {
     "data": {
      "image/png": "[encoded data removed]",
      "text/plain": [
       "<Figure size 432x288 with 1 Axes>"
      ]
     },
     "metadata": {
      "needs_background": "light"
     },
     "output_type": "display_data"
    }
   ],
   "source": [
    "# 새로운 영역과 새로운 랜덤 기준점을 그래프로 시각화 \n",
    "for d in group1:\n",
    "    plt.plot(d[0], d[1], 'o', color='r')\n",
    "for d in group2:\n",
    "    plt.plot(d[0], d[1], 'o', color='b')\n",
    "\n",
    "plt.plot(new_points[0][0], new_points[0][1], 'x', color='r')\n",
    "plt.plot(new_points[1][0], new_points[1][1], 'x', color='b')"
   ]
  },
  {
   "cell_type": "markdown",
   "id": "reserved-contrast",
   "metadata": {},
   "source": [
    "**전체 코드**"
   ]
  },
  {
   "cell_type": "code",
   "execution_count": 26,
   "id": "olympic-bones",
   "metadata": {
    "ExecuteTime": {
     "end_time": "2021-03-27T16:52:47.284042Z",
     "start_time": "2021-03-27T16:52:47.252061Z"
    }
   },
   "outputs": [
    {
     "name": "stdout",
     "output_type": "stream",
     "text": [
      "초기기준점 : [[41, 168], [44, 200]]\n",
      "1 번째 기준 : [[60.028985507246375, 163.02898550724638], [74.25806451612904, 190.58064516129033]]\n",
      "2 번째 기준 : [[55.2037037037037, 159.24074074074073], [75.28260869565217, 186.04347826086956]]\n",
      "3 번째 기준 : [[54.5, 158.75], [75.20833333333333, 185.45833333333334]]\n",
      "4 번째 기준 : [[54.14, 158.16], [74.74, 184.98]]\n",
      "5 번째 기준 : [[54.14, 158.16], [74.74, 184.98]]\n",
      "6 번째 기준 : [[54.14, 158.16], [74.74, 184.98]]\n",
      "7 번째 기준 : [[54.14, 158.16], [74.74, 184.98]]\n",
      "8 번째 기준 : [[54.14, 158.16], [74.74, 184.98]]\n",
      "9 번째 기준 : [[54.14, 158.16], [74.74, 184.98]]\n",
      "10 번째 기준 : [[54.14, 158.16], [74.74, 184.98]]\n"
     ]
    }
   ],
   "source": [
    "def dist(a, b):\n",
    "    return np.sqrt((a[0]-b[0])**2 + (a[1]-b[1])**2)\n",
    "\n",
    "data = []\n",
    "for i in range(50):\n",
    "    data.append([random.randint(40,70), random.randint(140,180)])\n",
    "    data.append([random.randint(60,90), random.randint(170,200)])\n",
    "new_points = [[random.randint(40,90), random.randint(140,200)],\n",
    "              [random.randint(40,90), random.randint(140,200)]]\n",
    "print('초기기준점 :',new_points)\n",
    "\n",
    "for i in range(1,11):\n",
    "    group1 = []\n",
    "    group2 = []\n",
    "    for d in data:\n",
    "        if dist(new_points[0], d) < dist(new_points[1], d):\n",
    "            group1.append(d)\n",
    "        else:\n",
    "            group2.append(d)\n",
    "\n",
    "    sumX = 0; sumY = 0\n",
    "    for g in group1:\n",
    "        sumX += g[0]\n",
    "        sumY += g[1]\n",
    "    new_points = []\n",
    "    new_points.append([sumX/len(group1), sumY/len(group1)])\n",
    "\n",
    "    sumX = 0; sumY = 0\n",
    "    for g in group2:\n",
    "        sumX += g[0]\n",
    "        sumY += g[1]\n",
    "    new_points.append([sumX/len(group2), sumY/len(group2)])\n",
    "    print(i,'번째 기준 :', new_points)"
   ]
  },
  {
   "cell_type": "code",
   "execution_count": 27,
   "id": "charged-blogger",
   "metadata": {
    "ExecuteTime": {
     "end_time": "2021-03-27T16:52:57.887871Z",
     "start_time": "2021-03-27T16:52:57.514644Z"
    }
   },
   "outputs": [
    {
     "data": {
      "text/plain": [
       "[<matplotlib.lines.Line2D at 0x1cd71740670>]"
      ]
     },
     "execution_count": 27,
     "metadata": {},
     "output_type": "execute_result"
    },
    {
     "data": {
      "image/png": "[encoded data removed]",
      "text/plain": [
       "<Figure size 432x288 with 1 Axes>"
      ]
     },
     "metadata": {
      "needs_background": "light"
     },
     "output_type": "display_data"
    }
   ],
   "source": [
    "# 여자 몸무게\n",
    "[d[0] for d in data[0:100:2] ]\n",
    "# 여자 키\n",
    "[d[1] for d in data[0:100:2] ]\n",
    "# 남자 몸무게 \n",
    "[d[0] for d in data[1:100:2] ]\n",
    "# 남자 키\n",
    "[d[1] for d in data[1:100:2] ]\n",
    "plt.plot([d[0] for d in data[0:100:2] ], [d[1] for d in data[0:100:2] ], 'o', \n",
    "         color='r')\n",
    "plt.plot([d[0] for d in data[1:100:2] ], [d[1] for d in data[1:100:2] ], 'o',\n",
    "        color='b')"
   ]
  },
  {
   "cell_type": "code",
   "execution_count": 29,
   "id": "integrated-pioneer",
   "metadata": {
    "ExecuteTime": {
     "end_time": "2021-03-27T16:53:14.356880Z",
     "start_time": "2021-03-27T16:53:13.795227Z"
    }
   },
   "outputs": [
    {
     "data": {
      "image/png": "[encoded data removed]",
      "text/plain": [
       "<Figure size 432x288 with 1 Axes>"
      ]
     },
     "metadata": {
      "needs_background": "light"
     },
     "output_type": "display_data"
    }
   ],
   "source": [
    "for g in group1:\n",
    "    plt.plot(g[0], g[1], 'o', color='r')\n",
    "for g in group2:\n",
    "    plt.plot(g[0], g[1], 'o', color='b')"
   ]
  }
 ],
 "metadata": {
  "kernelspec": {
   "display_name": "Python 3",
   "language": "python",
   "name": "python3"
  },
  "language_info": {
   "codemirror_mode": {
    "name": "ipython",
    "version": 3
   },
   "file_extension": ".py",
   "mimetype": "text/x-python",
   "name": "python",
   "nbconvert_exporter": "python",
   "pygments_lexer": "ipython3",
   "version": "3.8.8"
  },
  "toc": {
   "base_numbering": 1,
   "nav_menu": {},
   "number_sections": true,
   "sideBar": true,
   "skip_h1_title": false,
   "title_cell": "Table of Contents",
   "title_sidebar": "Contents",
   "toc_cell": false,
   "toc_position": {},
   "toc_section_display": true,
   "toc_window_display": false
  },
  "varInspector": {
   "cols": {
    "lenName": 16,
    "lenType": 16,
    "lenVar": 40
   },
   "kernels_config": {
    "python": {
     "delete_cmd_postfix": "",
     "delete_cmd_prefix": "del ",
     "library": "var_list.py",
     "varRefreshCmd": "print(var_dic_list())"
    },
    "r": {
     "delete_cmd_postfix": ") ",
     "delete_cmd_prefix": "rm(",
     "library": "var_list.r",
     "varRefreshCmd": "cat(var_dic_list()) "
    }
   },
   "types_to_exclude": [
    "module",
    "function",
    "builtin_function_or_method",
    "instance",
    "_Feature"
   ],
   "window_display": false
  }
 },
 "nbformat": 4,
 "nbformat_minor": 5
}
