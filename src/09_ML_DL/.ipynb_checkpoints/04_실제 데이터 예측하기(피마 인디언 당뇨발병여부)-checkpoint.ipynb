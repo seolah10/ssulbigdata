{
 "cells": [
  {
   "cell_type": "code",
   "execution_count": 1,
   "id": "transparent-photography",
   "metadata": {
    "ExecuteTime": {
     "end_time": "2021-03-27T17:34:18.738864Z",
     "start_time": "2021-03-27T17:34:18.717875Z"
    }
   },
   "outputs": [
    {
     "data": {
      "text/html": [
       "\n",
       "<style>\n",
       "div.container{width:100% !important;}\n",
       "div.CodeMirror {font-family:Consolas; font-size:10pt;}\n",
       "div.output {font-size:10pt}\n",
       "div.input {font-family:Consolas; font-size:10pt;}\n",
       "div.prompt {min-width:70px;}\n",
       "</style>\n"
      ],
      "text/plain": [
       "<IPython.core.display.HTML object>"
      ]
     },
     "metadata": {},
     "output_type": "display_data"
    }
   ],
   "source": [
    "from IPython.display import display, HTML\n",
    "display(HTML(\"\"\"\n",
    "<style>\n",
    "div.container{width:100% !important;}\n",
    "div.CodeMirror {font-family:Consolas; font-size:10pt;}\n",
    "div.output {font-size:10pt}\n",
    "div.input {font-family:Consolas; font-size:10pt;}\n",
    "div.prompt {min-width:70px;}\n",
    "</style>\n",
    "\"\"\"))"
   ]
  },
  {
   "cell_type": "code",
   "execution_count": 2,
   "id": "accepted-advertiser",
   "metadata": {
    "ExecuteTime": {
     "end_time": "2021-03-27T17:34:26.079098Z",
     "start_time": "2021-03-27T17:34:19.818467Z"
    }
   },
   "outputs": [],
   "source": [
    "import numpy as np \n",
    "import tensorflow.keras.utils as utils\n",
    "from tensorflow.keras.models import Sequential\n",
    "from tensorflow.keras.layers import Dense, Activation"
   ]
  },
  {
   "cell_type": "markdown",
   "id": "blocked-silver",
   "metadata": {},
   "source": [
    "# 데이터 셋 생성 "
   ]
  },
  {
   "cell_type": "code",
   "execution_count": 3,
   "id": "personalized-formation",
   "metadata": {
    "ExecuteTime": {
     "end_time": "2021-03-27T17:34:26.223014Z",
     "start_time": "2021-03-27T17:34:26.153058Z"
    }
   },
   "outputs": [
    {
     "data": {
      "text/plain": [
       "array([[  6.   , 148.   ,  72.   , ...,   0.627,  50.   ,   1.   ],\n",
       "       [  1.   ,  85.   ,  66.   , ...,   0.351,  31.   ,   0.   ],\n",
       "       [  8.   , 183.   ,  64.   , ...,   0.672,  32.   ,   1.   ],\n",
       "       ...,\n",
       "       [  5.   , 121.   ,  72.   , ...,   0.245,  30.   ,   0.   ],\n",
       "       [  1.   , 126.   ,  60.   , ...,   0.349,  47.   ,   1.   ],\n",
       "       [  1.   ,  93.   ,  70.   , ...,   0.315,  23.   ,   0.   ]])"
      ]
     },
     "execution_count": 3,
     "metadata": {},
     "output_type": "execute_result"
    }
   ],
   "source": [
    "# 데이터 불러오기 \n",
    "dataset = np.loadtxt('data/pima-indians-diabetes.csv', delimiter=',')\n",
    "dataset"
   ]
  },
  {
   "cell_type": "code",
   "execution_count": 4,
   "id": "significant-cinema",
   "metadata": {
    "ExecuteTime": {
     "end_time": "2021-03-27T17:34:28.352056Z",
     "start_time": "2021-03-27T17:34:28.332068Z"
    }
   },
   "outputs": [
    {
     "data": {
      "text/plain": [
       "(768, 9)"
      ]
     },
     "execution_count": 4,
     "metadata": {},
     "output_type": "execute_result"
    }
   ],
   "source": [
    "dataset.shape"
   ]
  },
  {
   "cell_type": "code",
   "execution_count": 5,
   "id": "stock-worry",
   "metadata": {
    "ExecuteTime": {
     "end_time": "2021-03-27T17:34:29.275358Z",
     "start_time": "2021-03-27T17:34:29.269361Z"
    }
   },
   "outputs": [],
   "source": [
    "# 데이터 분리 \n",
    "\n",
    "# 학습데이터(훈련데이터)\n",
    "x_train = dataset[:700, :8]\n",
    "y_train = dataset[:700, 8]\n",
    "\n",
    "# 테스트데이터 \n",
    "x_test = dataset[700: , :8]\n",
    "y_test = dataset[700: , 8]"
   ]
  },
  {
   "cell_type": "code",
   "execution_count": 6,
   "id": "interstate-louis",
   "metadata": {
    "ExecuteTime": {
     "end_time": "2021-03-27T17:34:30.853200Z",
     "start_time": "2021-03-27T17:34:30.832213Z"
    }
   },
   "outputs": [
    {
     "data": {
      "text/plain": [
       "((700, 8), (700,), (68, 8), (68,))"
      ]
     },
     "execution_count": 6,
     "metadata": {},
     "output_type": "execute_result"
    }
   ],
   "source": [
    "x_train.shape, y_train.shape, x_test.shape, y_test.shape"
   ]
  },
  {
   "cell_type": "markdown",
   "id": "major-packaging",
   "metadata": {},
   "source": [
    "# 모델 구성하기"
   ]
  },
  {
   "cell_type": "code",
   "execution_count": 7,
   "id": "technological-faith",
   "metadata": {
    "ExecuteTime": {
     "end_time": "2021-03-27T17:34:35.357485Z",
     "start_time": "2021-03-27T17:34:35.263544Z"
    }
   },
   "outputs": [],
   "source": [
    "model = Sequential()\n",
    "\n",
    "model.add(Dense(12, input_dim=8, activation='relu'))\n",
    "model.add(Dense(8, activation='relu'))\n",
    "model.add(Dense(1, activation='sigmoid'))"
   ]
  },
  {
   "cell_type": "markdown",
   "id": "square-basin",
   "metadata": {},
   "source": [
    "# 학습과정 설정"
   ]
  },
  {
   "cell_type": "code",
   "execution_count": 8,
   "id": "approximate-workstation",
   "metadata": {
    "ExecuteTime": {
     "end_time": "2021-03-27T17:34:37.088956Z",
     "start_time": "2021-03-27T17:34:37.071967Z"
    }
   },
   "outputs": [],
   "source": [
    "model.compile(loss='binary_crossentropy', \n",
    "              optimizer='adam',\n",
    "              metrics=['accuracy'])"
   ]
  },
  {
   "cell_type": "markdown",
   "id": "fiscal-architecture",
   "metadata": {},
   "source": [
    "# 학습시키기"
   ]
  },
  {
   "cell_type": "code",
   "execution_count": 9,
   "id": "defensive-whole",
   "metadata": {
    "ExecuteTime": {
     "end_time": "2021-03-27T17:34:59.168561Z",
     "start_time": "2021-03-27T17:34:38.771822Z"
    }
   },
   "outputs": [],
   "source": [
    "hist = model.fit(x_train, y_train, epochs=1500,\n",
    "                 batch_size=64, verbose=0)"
   ]
  },
  {
   "cell_type": "markdown",
   "id": "naughty-covering",
   "metadata": {},
   "source": [
    "# 모델 평가"
   ]
  },
  {
   "cell_type": "code",
   "execution_count": 11,
   "id": "minimal-talent",
   "metadata": {
    "ExecuteTime": {
     "end_time": "2021-03-27T17:35:43.332508Z",
     "start_time": "2021-03-27T17:35:42.997073Z"
    }
   },
   "outputs": [
    {
     "name": "stdout",
     "output_type": "stream",
     "text": [
      "3/3 [==============================] - 0s 2ms/step - loss: 0.6613 - accuracy: 0.7500\n"
     ]
    }
   ],
   "source": [
    "score = model.evaluate(x_test, y_test)"
   ]
  },
  {
   "cell_type": "code",
   "execution_count": 12,
   "id": "legendary-malawi",
   "metadata": {
    "ExecuteTime": {
     "end_time": "2021-03-27T17:36:36.583315Z",
     "start_time": "2021-03-27T17:36:36.563329Z"
    }
   },
   "outputs": [
    {
     "name": "stdout",
     "output_type": "stream",
     "text": [
      "loss: 0.6613146066665649\n",
      ", accuracy: 0.75\n"
     ]
    }
   ],
   "source": [
    "print('loss: %s\\n, accuracy: %.2f' % (score[0], score[1]))"
   ]
  },
  {
   "cell_type": "code",
   "execution_count": 13,
   "id": "planned-officer",
   "metadata": {
    "ExecuteTime": {
     "end_time": "2021-03-27T17:36:47.782460Z",
     "start_time": "2021-03-27T17:36:47.771468Z"
    }
   },
   "outputs": [
    {
     "data": {
      "text/plain": [
       "array([  6.   , 148.   ,  72.   ,  35.   ,   0.   ,  33.6  ,   0.627,\n",
       "        50.   ])"
      ]
     },
     "execution_count": 13,
     "metadata": {},
     "output_type": "execute_result"
    }
   ],
   "source": [
    "x_train[0]"
   ]
  },
  {
   "cell_type": "code",
   "execution_count": 15,
   "id": "crazy-large",
   "metadata": {
    "ExecuteTime": {
     "end_time": "2021-03-27T17:38:09.413382Z",
     "start_time": "2021-03-27T17:38:09.265475Z"
    }
   },
   "outputs": [
    {
     "data": {
      "text/plain": [
       "array([[0.7357959]], dtype=float32)"
      ]
     },
     "execution_count": 15,
     "metadata": {},
     "output_type": "execute_result"
    }
   ],
   "source": [
    "model.predict(np.array([[6., 148., 72., 35., 0., 33.6, 0.627, 50.]]))"
   ]
  }
 ],
 "metadata": {
  "kernelspec": {
   "display_name": "Python 3",
   "language": "python",
   "name": "python3"
  },
  "language_info": {
   "codemirror_mode": {
    "name": "ipython",
    "version": 3
   },
   "file_extension": ".py",
   "mimetype": "text/x-python",
   "name": "python",
   "nbconvert_exporter": "python",
   "pygments_lexer": "ipython3",
   "version": "3.8.8"
  },
  "toc": {
   "base_numbering": 1,
   "nav_menu": {},
   "number_sections": true,
   "sideBar": true,
   "skip_h1_title": false,
   "title_cell": "Table of Contents",
   "title_sidebar": "Contents",
   "toc_cell": false,
   "toc_position": {},
   "toc_section_display": true,
   "toc_window_display": false
  },
  "varInspector": {
   "cols": {
    "lenName": 16,
    "lenType": 16,
    "lenVar": 40
   },
   "kernels_config": {
    "python": {
     "delete_cmd_postfix": "",
     "delete_cmd_prefix": "del ",
     "library": "var_list.py",
     "varRefreshCmd": "print(var_dic_list())"
    },
    "r": {
     "delete_cmd_postfix": ") ",
     "delete_cmd_prefix": "rm(",
     "library": "var_list.r",
     "varRefreshCmd": "cat(var_dic_list()) "
    }
   },
   "types_to_exclude": [
    "module",
    "function",
    "builtin_function_or_method",
    "instance",
    "_Feature"
   ],
   "window_display": false
  }
 },
 "nbformat": 4,
 "nbformat_minor": 5
}
