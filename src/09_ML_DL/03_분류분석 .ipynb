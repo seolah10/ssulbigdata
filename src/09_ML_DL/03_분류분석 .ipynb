{
 "cells": [
  {
   "cell_type": "code",
   "execution_count": 9,
   "id": "rough-relay",
   "metadata": {
    "ExecuteTime": {
     "end_time": "2021-03-27T17:10:45.705299Z",
     "start_time": "2021-03-27T17:10:45.695304Z"
    }
   },
   "outputs": [
    {
     "data": {
      "text/html": [
       "\n",
       "<style>\n",
       "div.container{width:100% !important;}\n",
       "div.CodeMirror {font-family:Consolas; font-size:10pt;}\n",
       "div.output {font-size:10pt}\n",
       "div.input {font-family:Consolas; font-size:10pt;}\n",
       "div.prompt {min-width:70px;}\n",
       "</style>\n"
      ],
      "text/plain": [
       "<IPython.core.display.HTML object>"
      ]
     },
     "metadata": {},
     "output_type": "display_data"
    }
   ],
   "source": [
    "from IPython.display import display, HTML\n",
    "display(HTML(\"\"\"\n",
    "<style>\n",
    "div.container{width:100% !important;}\n",
    "div.CodeMirror {font-family:Consolas; font-size:10pt;}\n",
    "div.output {font-size:10pt}\n",
    "div.input {font-family:Consolas; font-size:10pt;}\n",
    "div.prompt {min-width:70px;}\n",
    "</style>\n",
    "\"\"\"))"
   ]
  },
  {
   "cell_type": "code",
   "execution_count": 20,
   "id": "limiting-customer",
   "metadata": {
    "ExecuteTime": {
     "end_time": "2021-03-27T17:12:49.916428Z",
     "start_time": "2021-03-27T17:12:49.175625Z"
    }
   },
   "outputs": [],
   "source": [
    "import tensorflow.keras.utils as utils # 원 핫 인코딩 \n",
    "from tensorflow.keras.models import Sequential # 모델 생성 \n",
    "from tensorflow.keras.layers import Dense, Activation # layer\n",
    "import numpy as np\n",
    "import matplotlib.pyplot as plt"
   ]
  },
  {
   "cell_type": "markdown",
   "id": "arbitrary-chassis",
   "metadata": {},
   "source": [
    "# 데이터 셋 "
   ]
  },
  {
   "cell_type": "code",
   "execution_count": 11,
   "id": "necessary-insider",
   "metadata": {
    "ExecuteTime": {
     "end_time": "2021-03-27T17:10:50.374952Z",
     "start_time": "2021-03-27T17:10:50.367956Z"
    }
   },
   "outputs": [],
   "source": [
    "# 학습 데이터(훈련 데이터)\n",
    "x_train = np.array([1,2,3,4,5,6,7,8,9]*10)\n",
    "y_train = np.array([2,4,6,8,10,12,14,16,18]*10)\n",
    "\n",
    "# 검증 데이터, 테스트 데이터\n",
    "x_val = np.array([1,2,3,4,5,6,7,8,9])\n",
    "y_val = np.array([2,4,6,8,10,12,14,16,18])"
   ]
  },
  {
   "cell_type": "code",
   "execution_count": 12,
   "id": "daily-tribute",
   "metadata": {
    "ExecuteTime": {
     "end_time": "2021-03-27T17:10:52.760610Z",
     "start_time": "2021-03-27T17:10:52.742622Z"
    }
   },
   "outputs": [
    {
     "data": {
      "text/plain": [
       "array([ 2,  4,  6,  8, 10, 12, 14, 16, 18])"
      ]
     },
     "execution_count": 12,
     "metadata": {},
     "output_type": "execute_result"
    }
   ],
   "source": [
    "y_val"
   ]
  },
  {
   "cell_type": "code",
   "execution_count": 13,
   "id": "frozen-murder",
   "metadata": {
    "ExecuteTime": {
     "end_time": "2021-03-27T17:10:53.498286Z",
     "start_time": "2021-03-27T17:10:53.484294Z"
    }
   },
   "outputs": [],
   "source": [
    "# target data 원 핫 인코딩(라벨링 전환)\n",
    "y_train = utils.to_categorical(y_train, 19) # 19개의 그룹으로 분류 \n",
    "y_val = utils.to_categorical(y_val, 19)"
   ]
  },
  {
   "cell_type": "code",
   "execution_count": 14,
   "id": "pleased-house",
   "metadata": {
    "ExecuteTime": {
     "end_time": "2021-03-27T17:10:54.855788Z",
     "start_time": "2021-03-27T17:10:54.843795Z"
    }
   },
   "outputs": [
    {
     "data": {
      "text/plain": [
       "array([[0., 0., 1., 0., 0., 0., 0., 0., 0., 0., 0., 0., 0., 0., 0., 0.,\n",
       "        0., 0., 0.],\n",
       "       [0., 0., 0., 0., 1., 0., 0., 0., 0., 0., 0., 0., 0., 0., 0., 0.,\n",
       "        0., 0., 0.],\n",
       "       [0., 0., 0., 0., 0., 0., 1., 0., 0., 0., 0., 0., 0., 0., 0., 0.,\n",
       "        0., 0., 0.],\n",
       "       [0., 0., 0., 0., 0., 0., 0., 0., 1., 0., 0., 0., 0., 0., 0., 0.,\n",
       "        0., 0., 0.],\n",
       "       [0., 0., 0., 0., 0., 0., 0., 0., 0., 0., 1., 0., 0., 0., 0., 0.,\n",
       "        0., 0., 0.],\n",
       "       [0., 0., 0., 0., 0., 0., 0., 0., 0., 0., 0., 0., 1., 0., 0., 0.,\n",
       "        0., 0., 0.],\n",
       "       [0., 0., 0., 0., 0., 0., 0., 0., 0., 0., 0., 0., 0., 0., 1., 0.,\n",
       "        0., 0., 0.],\n",
       "       [0., 0., 0., 0., 0., 0., 0., 0., 0., 0., 0., 0., 0., 0., 0., 0.,\n",
       "        1., 0., 0.],\n",
       "       [0., 0., 0., 0., 0., 0., 0., 0., 0., 0., 0., 0., 0., 0., 0., 0.,\n",
       "        0., 0., 1.]], dtype=float32)"
      ]
     },
     "execution_count": 14,
     "metadata": {},
     "output_type": "execute_result"
    }
   ],
   "source": [
    "y_val"
   ]
  },
  {
   "cell_type": "markdown",
   "id": "attached-valuation",
   "metadata": {},
   "source": [
    "# 모델 구성"
   ]
  },
  {
   "cell_type": "code",
   "execution_count": 16,
   "id": "measured-associate",
   "metadata": {
    "ExecuteTime": {
     "end_time": "2021-03-27T17:11:05.278150Z",
     "start_time": "2021-03-27T17:11:05.186571Z"
    }
   },
   "outputs": [],
   "source": [
    "model = Sequential()\n",
    "\n",
    "model.add(Dense(units=38, input_dim=1, activation='sigmoid'))\n",
    "        # unit값은 학습을 하면서 계속 조정한다. (보통 증폭시킨 후 줄여감)\n",
    "        # 'unit='은 생략 가능\n",
    "model.add(Dense(units=64, activation='elu'))\n",
    "        # input_dim은 한번 설정하면 자동 설정되므로 두번째부턴 생략 가능\n",
    "model.add(Dense(32, activation='elu'))\n",
    "model.add(Dense(19, activation='softmax'))\n",
    "                # softmax 활성화함수를 적용하면 모든 출력값의 합이 1이 됨 "
   ]
  },
  {
   "cell_type": "markdown",
   "id": "liked-hartford",
   "metadata": {},
   "source": [
    "# 모델 학습과정 설정"
   ]
  },
  {
   "cell_type": "code",
   "execution_count": 17,
   "id": "configured-imperial",
   "metadata": {
    "ExecuteTime": {
     "end_time": "2021-03-27T17:11:07.414793Z",
     "start_time": "2021-03-27T17:11:07.385808Z"
    }
   },
   "outputs": [],
   "source": [
    "model.compile(loss='categorical_crossentropy', \n",
    "              optimizer='sgd',\n",
    "              metrics=['accuracy'])"
   ]
  },
  {
   "cell_type": "markdown",
   "id": "imposed-spanish",
   "metadata": {},
   "source": [
    "# 모델 학습시키기"
   ]
  },
  {
   "cell_type": "code",
   "execution_count": 18,
   "id": "incomplete-middle",
   "metadata": {
    "ExecuteTime": {
     "end_time": "2021-03-27T17:11:27.382761Z",
     "start_time": "2021-03-27T17:11:09.055037Z"
    }
   },
   "outputs": [
    {
     "name": "stdout",
     "output_type": "stream",
     "text": [
      "Epoch 1/300\n",
      "9/9 - 0s - loss: 3.3104 - accuracy: 0.0000e+00 - val_loss: 3.0884 - val_accuracy: 0.0000e+00\n",
      "Epoch 2/300\n",
      "9/9 - 0s - loss: 2.9858 - accuracy: 0.0667 - val_loss: 2.8514 - val_accuracy: 0.1111\n",
      "Epoch 3/300\n",
      "9/9 - 0s - loss: 2.7910 - accuracy: 0.1111 - val_loss: 2.6957 - val_accuracy: 0.1111\n",
      "Epoch 4/300\n",
      "9/9 - 0s - loss: 2.6629 - accuracy: 0.1000 - val_loss: 2.5867 - val_accuracy: 0.1111\n",
      "Epoch 5/300\n",
      "9/9 - 0s - loss: 2.5650 - accuracy: 0.0778 - val_loss: 2.5125 - val_accuracy: 0.1111\n",
      "Epoch 6/300\n",
      "9/9 - 0s - loss: 2.4975 - accuracy: 0.1111 - val_loss: 2.4572 - val_accuracy: 0.2222\n",
      "Epoch 7/300\n",
      "9/9 - 0s - loss: 2.4513 - accuracy: 0.2222 - val_loss: 2.4124 - val_accuracy: 0.2222\n",
      "Epoch 8/300\n",
      "9/9 - 0s - loss: 2.4125 - accuracy: 0.2000 - val_loss: 2.3744 - val_accuracy: 0.2222\n",
      "Epoch 9/300\n",
      "9/9 - 0s - loss: 2.3759 - accuracy: 0.2222 - val_loss: 2.3413 - val_accuracy: 0.2222\n",
      "Epoch 10/300\n",
      "9/9 - 0s - loss: 2.3430 - accuracy: 0.1889 - val_loss: 2.3121 - val_accuracy: 0.2222\n",
      "Epoch 11/300\n",
      "9/9 - 0s - loss: 2.3163 - accuracy: 0.2333 - val_loss: 2.2863 - val_accuracy: 0.3333\n",
      "Epoch 12/300\n",
      "9/9 - 0s - loss: 2.2901 - accuracy: 0.2444 - val_loss: 2.2633 - val_accuracy: 0.3333\n",
      "Epoch 13/300\n",
      "9/9 - 0s - loss: 2.2674 - accuracy: 0.2333 - val_loss: 2.2425 - val_accuracy: 0.2222\n",
      "Epoch 14/300\n",
      "9/9 - 0s - loss: 2.2557 - accuracy: 0.2000 - val_loss: 2.2239 - val_accuracy: 0.2222\n",
      "Epoch 15/300\n",
      "9/9 - 0s - loss: 2.2333 - accuracy: 0.2222 - val_loss: 2.2066 - val_accuracy: 0.2222\n",
      "Epoch 16/300\n",
      "9/9 - 0s - loss: 2.2176 - accuracy: 0.2556 - val_loss: 2.1906 - val_accuracy: 0.2222\n",
      "Epoch 17/300\n",
      "9/9 - 0s - loss: 2.1979 - accuracy: 0.2222 - val_loss: 2.1758 - val_accuracy: 0.2222\n",
      "Epoch 18/300\n",
      "9/9 - 0s - loss: 2.1891 - accuracy: 0.2333 - val_loss: 2.1618 - val_accuracy: 0.2222\n",
      "Epoch 19/300\n",
      "9/9 - 0s - loss: 2.1742 - accuracy: 0.2333 - val_loss: 2.1487 - val_accuracy: 0.2222\n",
      "Epoch 20/300\n",
      "9/9 - 0s - loss: 2.1594 - accuracy: 0.2333 - val_loss: 2.1365 - val_accuracy: 0.2222\n",
      "Epoch 21/300\n",
      "9/9 - 0s - loss: 2.1480 - accuracy: 0.2667 - val_loss: 2.1233 - val_accuracy: 0.2222\n",
      "Epoch 22/300\n",
      "9/9 - 0s - loss: 2.1334 - accuracy: 0.2333 - val_loss: 2.1109 - val_accuracy: 0.2222\n",
      "Epoch 23/300\n",
      "9/9 - 0s - loss: 2.1209 - accuracy: 0.2222 - val_loss: 2.0989 - val_accuracy: 0.2222\n",
      "Epoch 24/300\n",
      "9/9 - 0s - loss: 2.1118 - accuracy: 0.2556 - val_loss: 2.0874 - val_accuracy: 0.2222\n",
      "Epoch 25/300\n",
      "9/9 - 0s - loss: 2.0968 - accuracy: 0.2222 - val_loss: 2.0753 - val_accuracy: 0.2222\n",
      "Epoch 26/300\n",
      "9/9 - 0s - loss: 2.0908 - accuracy: 0.3000 - val_loss: 2.0640 - val_accuracy: 0.2222\n",
      "Epoch 27/300\n",
      "9/9 - 0s - loss: 2.0789 - accuracy: 0.2556 - val_loss: 2.0518 - val_accuracy: 0.2222\n",
      "Epoch 28/300\n",
      "9/9 - 0s - loss: 2.0662 - accuracy: 0.2333 - val_loss: 2.0401 - val_accuracy: 0.2222\n",
      "Epoch 29/300\n",
      "9/9 - 0s - loss: 2.0515 - accuracy: 0.2222 - val_loss: 2.0274 - val_accuracy: 0.2222\n",
      "Epoch 30/300\n",
      "9/9 - 0s - loss: 2.0432 - accuracy: 0.2222 - val_loss: 2.0149 - val_accuracy: 0.2222\n",
      "Epoch 31/300\n",
      "9/9 - 0s - loss: 2.0259 - accuracy: 0.3333 - val_loss: 2.0027 - val_accuracy: 0.2222\n",
      "Epoch 32/300\n",
      "9/9 - 0s - loss: 2.0183 - accuracy: 0.2556 - val_loss: 1.9905 - val_accuracy: 0.2222\n",
      "Epoch 33/300\n",
      "9/9 - 0s - loss: 2.0103 - accuracy: 0.3111 - val_loss: 1.9785 - val_accuracy: 0.2222\n",
      "Epoch 34/300\n",
      "9/9 - 0s - loss: 1.9939 - accuracy: 0.2556 - val_loss: 1.9656 - val_accuracy: 0.2222\n",
      "Epoch 35/300\n",
      "9/9 - 0s - loss: 1.9836 - accuracy: 0.2444 - val_loss: 1.9525 - val_accuracy: 0.2222\n",
      "Epoch 36/300\n",
      "9/9 - 0s - loss: 1.9698 - accuracy: 0.2556 - val_loss: 1.9400 - val_accuracy: 0.2222\n",
      "Epoch 37/300\n",
      "9/9 - 0s - loss: 1.9550 - accuracy: 0.2333 - val_loss: 1.9274 - val_accuracy: 0.2222\n",
      "Epoch 38/300\n",
      "9/9 - 0s - loss: 1.9437 - accuracy: 0.3222 - val_loss: 1.9146 - val_accuracy: 0.2222\n",
      "Epoch 39/300\n",
      "9/9 - 0s - loss: 1.9315 - accuracy: 0.2778 - val_loss: 1.9021 - val_accuracy: 0.3333\n",
      "Epoch 40/300\n",
      "9/9 - 0s - loss: 1.9190 - accuracy: 0.3556 - val_loss: 1.8893 - val_accuracy: 0.2222\n",
      "Epoch 41/300\n",
      "9/9 - 0s - loss: 1.9044 - accuracy: 0.2667 - val_loss: 1.8763 - val_accuracy: 0.3333\n",
      "Epoch 42/300\n",
      "9/9 - 0s - loss: 1.8931 - accuracy: 0.2556 - val_loss: 1.8631 - val_accuracy: 0.4444\n",
      "Epoch 43/300\n",
      "9/9 - 0s - loss: 1.8797 - accuracy: 0.3444 - val_loss: 1.8500 - val_accuracy: 0.3333\n",
      "Epoch 44/300\n",
      "9/9 - 0s - loss: 1.8622 - accuracy: 0.3111 - val_loss: 1.8371 - val_accuracy: 0.3333\n",
      "Epoch 45/300\n",
      "9/9 - 0s - loss: 1.8572 - accuracy: 0.3111 - val_loss: 1.8241 - val_accuracy: 0.4444\n",
      "Epoch 46/300\n",
      "9/9 - 0s - loss: 1.8424 - accuracy: 0.2778 - val_loss: 1.8111 - val_accuracy: 0.4444\n",
      "Epoch 47/300\n",
      "9/9 - 0s - loss: 1.8313 - accuracy: 0.3889 - val_loss: 1.7989 - val_accuracy: 0.2222\n",
      "Epoch 48/300\n",
      "9/9 - 0s - loss: 1.8172 - accuracy: 0.3333 - val_loss: 1.7854 - val_accuracy: 0.4444\n",
      "Epoch 49/300\n",
      "9/9 - 0s - loss: 1.8048 - accuracy: 0.3111 - val_loss: 1.7739 - val_accuracy: 0.3333\n",
      "Epoch 50/300\n",
      "9/9 - 0s - loss: 1.7863 - accuracy: 0.3444 - val_loss: 1.7604 - val_accuracy: 0.3333\n",
      "Epoch 51/300\n",
      "9/9 - 0s - loss: 1.7704 - accuracy: 0.3111 - val_loss: 1.7469 - val_accuracy: 0.4444\n",
      "Epoch 52/300\n",
      "9/9 - 0s - loss: 1.7659 - accuracy: 0.3778 - val_loss: 1.7343 - val_accuracy: 0.3333\n",
      "Epoch 53/300\n",
      "9/9 - 0s - loss: 1.7556 - accuracy: 0.3111 - val_loss: 1.7214 - val_accuracy: 0.3333\n",
      "Epoch 54/300\n",
      "9/9 - 0s - loss: 1.7419 - accuracy: 0.3778 - val_loss: 1.7094 - val_accuracy: 0.3333\n",
      "Epoch 55/300\n",
      "9/9 - 0s - loss: 1.7270 - accuracy: 0.3556 - val_loss: 1.6969 - val_accuracy: 0.4444\n",
      "Epoch 56/300\n",
      "9/9 - 0s - loss: 1.7156 - accuracy: 0.3667 - val_loss: 1.6838 - val_accuracy: 0.3333\n",
      "Epoch 57/300\n",
      "9/9 - 0s - loss: 1.7006 - accuracy: 0.3889 - val_loss: 1.6724 - val_accuracy: 0.3333\n",
      "Epoch 58/300\n",
      "9/9 - 0s - loss: 1.6882 - accuracy: 0.3889 - val_loss: 1.6598 - val_accuracy: 0.5556\n",
      "Epoch 59/300\n",
      "9/9 - 0s - loss: 1.6807 - accuracy: 0.4889 - val_loss: 1.6474 - val_accuracy: 0.3333\n",
      "Epoch 60/300\n",
      "9/9 - 0s - loss: 1.6662 - accuracy: 0.4222 - val_loss: 1.6358 - val_accuracy: 0.4444\n",
      "Epoch 61/300\n",
      "9/9 - 0s - loss: 1.6521 - accuracy: 0.4111 - val_loss: 1.6233 - val_accuracy: 0.4444\n",
      "Epoch 62/300\n",
      "9/9 - 0s - loss: 1.6508 - accuracy: 0.3667 - val_loss: 1.6112 - val_accuracy: 0.4444\n",
      "Epoch 63/300\n",
      "9/9 - 0s - loss: 1.6455 - accuracy: 0.3778 - val_loss: 1.6002 - val_accuracy: 0.4444\n",
      "Epoch 64/300\n",
      "9/9 - 0s - loss: 1.6147 - accuracy: 0.3889 - val_loss: 1.5895 - val_accuracy: 0.3333\n",
      "Epoch 65/300\n",
      "9/9 - 0s - loss: 1.6101 - accuracy: 0.4000 - val_loss: 1.5774 - val_accuracy: 0.4444\n",
      "Epoch 66/300\n",
      "9/9 - 0s - loss: 1.5922 - accuracy: 0.4111 - val_loss: 1.5662 - val_accuracy: 0.5556\n",
      "Epoch 67/300\n",
      "9/9 - 0s - loss: 1.5828 - accuracy: 0.4778 - val_loss: 1.5570 - val_accuracy: 0.6667\n",
      "Epoch 68/300\n",
      "9/9 - 0s - loss: 1.5789 - accuracy: 0.5000 - val_loss: 1.5446 - val_accuracy: 0.5556\n",
      "Epoch 69/300\n",
      "9/9 - 0s - loss: 1.5679 - accuracy: 0.5000 - val_loss: 1.5336 - val_accuracy: 0.5556\n",
      "Epoch 70/300\n",
      "9/9 - 0s - loss: 1.5556 - accuracy: 0.4889 - val_loss: 1.5236 - val_accuracy: 0.5556\n",
      "Epoch 71/300\n",
      "9/9 - 0s - loss: 1.5339 - accuracy: 0.4444 - val_loss: 1.5133 - val_accuracy: 0.5556\n",
      "Epoch 72/300\n",
      "9/9 - 0s - loss: 1.5351 - accuracy: 0.5333 - val_loss: 1.5032 - val_accuracy: 0.5556\n",
      "Epoch 73/300\n",
      "9/9 - 0s - loss: 1.5244 - accuracy: 0.4444 - val_loss: 1.4930 - val_accuracy: 0.5556\n",
      "Epoch 74/300\n",
      "9/9 - 0s - loss: 1.5123 - accuracy: 0.4333 - val_loss: 1.4831 - val_accuracy: 0.5556\n",
      "Epoch 75/300\n",
      "9/9 - 0s - loss: 1.5088 - accuracy: 0.4556 - val_loss: 1.4743 - val_accuracy: 0.5556\n",
      "Epoch 76/300\n",
      "9/9 - 0s - loss: 1.4885 - accuracy: 0.4778 - val_loss: 1.4629 - val_accuracy: 0.5556\n",
      "Epoch 77/300\n",
      "9/9 - 0s - loss: 1.4784 - accuracy: 0.4111 - val_loss: 1.4525 - val_accuracy: 0.6667\n",
      "Epoch 78/300\n",
      "9/9 - 0s - loss: 1.4731 - accuracy: 0.5889 - val_loss: 1.4431 - val_accuracy: 0.5556\n",
      "Epoch 79/300\n",
      "9/9 - 0s - loss: 1.4635 - accuracy: 0.5222 - val_loss: 1.4338 - val_accuracy: 0.5556\n",
      "Epoch 80/300\n",
      "9/9 - 0s - loss: 1.4563 - accuracy: 0.5444 - val_loss: 1.4248 - val_accuracy: 0.6667\n",
      "Epoch 81/300\n",
      "9/9 - 0s - loss: 1.4425 - accuracy: 0.5111 - val_loss: 1.4153 - val_accuracy: 0.5556\n",
      "Epoch 82/300\n",
      "9/9 - 0s - loss: 1.4400 - accuracy: 0.3889 - val_loss: 1.4057 - val_accuracy: 0.5556\n",
      "Epoch 83/300\n",
      "9/9 - 0s - loss: 1.4315 - accuracy: 0.5222 - val_loss: 1.3972 - val_accuracy: 0.5556\n",
      "Epoch 84/300\n",
      "9/9 - 0s - loss: 1.4211 - accuracy: 0.4778 - val_loss: 1.3884 - val_accuracy: 0.7778\n"
     ]
    },
    {
     "name": "stdout",
     "output_type": "stream",
     "text": [
      "Epoch 85/300\n",
      "9/9 - 0s - loss: 1.4043 - accuracy: 0.6222 - val_loss: 1.3790 - val_accuracy: 0.7778\n",
      "Epoch 86/300\n",
      "9/9 - 0s - loss: 1.3939 - accuracy: 0.6333 - val_loss: 1.3725 - val_accuracy: 0.5556\n",
      "Epoch 87/300\n",
      "9/9 - 0s - loss: 1.4063 - accuracy: 0.5444 - val_loss: 1.3625 - val_accuracy: 0.5556\n",
      "Epoch 88/300\n",
      "9/9 - 0s - loss: 1.3823 - accuracy: 0.4889 - val_loss: 1.3527 - val_accuracy: 0.5556\n",
      "Epoch 89/300\n",
      "9/9 - 0s - loss: 1.3768 - accuracy: 0.6000 - val_loss: 1.3445 - val_accuracy: 0.6667\n",
      "Epoch 90/300\n",
      "9/9 - 0s - loss: 1.3556 - accuracy: 0.6222 - val_loss: 1.3359 - val_accuracy: 0.6667\n",
      "Epoch 91/300\n",
      "9/9 - 0s - loss: 1.3640 - accuracy: 0.5889 - val_loss: 1.3280 - val_accuracy: 0.6667\n",
      "Epoch 92/300\n",
      "9/9 - 0s - loss: 1.3546 - accuracy: 0.5111 - val_loss: 1.3192 - val_accuracy: 0.6667\n",
      "Epoch 93/300\n",
      "9/9 - 0s - loss: 1.3320 - accuracy: 0.6222 - val_loss: 1.3130 - val_accuracy: 0.6667\n",
      "Epoch 94/300\n",
      "9/9 - 0s - loss: 1.3285 - accuracy: 0.6556 - val_loss: 1.3040 - val_accuracy: 0.6667\n",
      "Epoch 95/300\n",
      "9/9 - 0s - loss: 1.3317 - accuracy: 0.5778 - val_loss: 1.2955 - val_accuracy: 0.6667\n",
      "Epoch 96/300\n",
      "9/9 - 0s - loss: 1.3209 - accuracy: 0.6111 - val_loss: 1.2870 - val_accuracy: 0.7778\n",
      "Epoch 97/300\n",
      "9/9 - 0s - loss: 1.3149 - accuracy: 0.6444 - val_loss: 1.2785 - val_accuracy: 0.6667\n",
      "Epoch 98/300\n",
      "9/9 - 0s - loss: 1.3004 - accuracy: 0.5444 - val_loss: 1.2728 - val_accuracy: 0.7778\n",
      "Epoch 99/300\n",
      "9/9 - 0s - loss: 1.2934 - accuracy: 0.6667 - val_loss: 1.2685 - val_accuracy: 0.7778\n",
      "Epoch 100/300\n",
      "9/9 - 0s - loss: 1.2889 - accuracy: 0.7000 - val_loss: 1.2558 - val_accuracy: 0.6667\n",
      "Epoch 101/300\n",
      "9/9 - 0s - loss: 1.2744 - accuracy: 0.6667 - val_loss: 1.2500 - val_accuracy: 0.5556\n",
      "Epoch 102/300\n",
      "9/9 - 0s - loss: 1.2747 - accuracy: 0.6222 - val_loss: 1.2424 - val_accuracy: 0.6667\n",
      "Epoch 103/300\n",
      "9/9 - 0s - loss: 1.2617 - accuracy: 0.6000 - val_loss: 1.2344 - val_accuracy: 0.7778\n",
      "Epoch 104/300\n",
      "9/9 - 0s - loss: 1.2501 - accuracy: 0.7889 - val_loss: 1.2253 - val_accuracy: 0.7778\n",
      "Epoch 105/300\n",
      "9/9 - 0s - loss: 1.2374 - accuracy: 0.6889 - val_loss: 1.2172 - val_accuracy: 0.7778\n",
      "Epoch 106/300\n",
      "9/9 - 0s - loss: 1.2368 - accuracy: 0.7111 - val_loss: 1.2105 - val_accuracy: 0.6667\n",
      "Epoch 107/300\n",
      "9/9 - 0s - loss: 1.2439 - accuracy: 0.6444 - val_loss: 1.2038 - val_accuracy: 0.6667\n",
      "Epoch 108/300\n",
      "9/9 - 0s - loss: 1.2314 - accuracy: 0.6444 - val_loss: 1.1963 - val_accuracy: 0.7778\n",
      "Epoch 109/300\n",
      "9/9 - 0s - loss: 1.2175 - accuracy: 0.7222 - val_loss: 1.1903 - val_accuracy: 0.7778\n",
      "Epoch 110/300\n",
      "9/9 - 0s - loss: 1.2109 - accuracy: 0.7556 - val_loss: 1.1867 - val_accuracy: 0.7778\n",
      "Epoch 111/300\n",
      "9/9 - 0s - loss: 1.2088 - accuracy: 0.7111 - val_loss: 1.1774 - val_accuracy: 0.7778\n",
      "Epoch 112/300\n",
      "9/9 - 0s - loss: 1.1941 - accuracy: 0.7000 - val_loss: 1.1699 - val_accuracy: 0.7778\n",
      "Epoch 113/300\n",
      "9/9 - 0s - loss: 1.1908 - accuracy: 0.7444 - val_loss: 1.1630 - val_accuracy: 0.7778\n",
      "Epoch 114/300\n",
      "9/9 - 0s - loss: 1.1932 - accuracy: 0.6889 - val_loss: 1.1545 - val_accuracy: 0.8889\n",
      "Epoch 115/300\n",
      "9/9 - 0s - loss: 1.1853 - accuracy: 0.7667 - val_loss: 1.1473 - val_accuracy: 0.7778\n",
      "Epoch 116/300\n",
      "9/9 - 0s - loss: 1.1891 - accuracy: 0.6667 - val_loss: 1.1421 - val_accuracy: 0.7778\n",
      "Epoch 117/300\n",
      "9/9 - 0s - loss: 1.1627 - accuracy: 0.7444 - val_loss: 1.1369 - val_accuracy: 0.8889\n",
      "Epoch 118/300\n",
      "9/9 - 0s - loss: 1.1617 - accuracy: 0.7778 - val_loss: 1.1293 - val_accuracy: 0.7778\n",
      "Epoch 119/300\n",
      "9/9 - 0s - loss: 1.1467 - accuracy: 0.7556 - val_loss: 1.1221 - val_accuracy: 0.6667\n",
      "Epoch 120/300\n",
      "9/9 - 0s - loss: 1.1476 - accuracy: 0.6556 - val_loss: 1.1152 - val_accuracy: 0.7778\n",
      "Epoch 121/300\n",
      "9/9 - 0s - loss: 1.1317 - accuracy: 0.7667 - val_loss: 1.1081 - val_accuracy: 0.7778\n",
      "Epoch 122/300\n",
      "9/9 - 0s - loss: 1.1339 - accuracy: 0.6778 - val_loss: 1.1028 - val_accuracy: 0.8889\n",
      "Epoch 123/300\n",
      "9/9 - 0s - loss: 1.1283 - accuracy: 0.7556 - val_loss: 1.1036 - val_accuracy: 0.7778\n",
      "Epoch 124/300\n",
      "9/9 - 0s - loss: 1.1149 - accuracy: 0.8333 - val_loss: 1.0882 - val_accuracy: 0.7778\n",
      "Epoch 125/300\n",
      "9/9 - 0s - loss: 1.1091 - accuracy: 0.7889 - val_loss: 1.0842 - val_accuracy: 0.7778\n",
      "Epoch 126/300\n",
      "9/9 - 0s - loss: 1.1088 - accuracy: 0.7556 - val_loss: 1.0774 - val_accuracy: 0.7778\n",
      "Epoch 127/300\n",
      "9/9 - 0s - loss: 1.1067 - accuracy: 0.7111 - val_loss: 1.0707 - val_accuracy: 0.8889\n",
      "Epoch 128/300\n",
      "9/9 - 0s - loss: 1.0898 - accuracy: 0.7667 - val_loss: 1.0739 - val_accuracy: 0.7778\n",
      "Epoch 129/300\n",
      "9/9 - 0s - loss: 1.0879 - accuracy: 0.7333 - val_loss: 1.0629 - val_accuracy: 0.7778\n",
      "Epoch 130/300\n",
      "9/9 - 0s - loss: 1.0981 - accuracy: 0.7222 - val_loss: 1.0536 - val_accuracy: 0.8889\n",
      "Epoch 131/300\n",
      "9/9 - 0s - loss: 1.0877 - accuracy: 0.7778 - val_loss: 1.0471 - val_accuracy: 0.7778\n",
      "Epoch 132/300\n",
      "9/9 - 0s - loss: 1.0847 - accuracy: 0.6444 - val_loss: 1.0418 - val_accuracy: 0.7778\n",
      "Epoch 133/300\n",
      "9/9 - 0s - loss: 1.0722 - accuracy: 0.6667 - val_loss: 1.0354 - val_accuracy: 0.7778\n",
      "Epoch 134/300\n",
      "9/9 - 0s - loss: 1.0650 - accuracy: 0.7556 - val_loss: 1.0311 - val_accuracy: 0.7778\n",
      "Epoch 135/300\n",
      "9/9 - 0s - loss: 1.0566 - accuracy: 0.7444 - val_loss: 1.0255 - val_accuracy: 0.8889\n",
      "Epoch 136/300\n",
      "9/9 - 0s - loss: 1.0441 - accuracy: 0.8556 - val_loss: 1.0165 - val_accuracy: 0.7778\n",
      "Epoch 137/300\n",
      "9/9 - 0s - loss: 1.0350 - accuracy: 0.8000 - val_loss: 1.0217 - val_accuracy: 0.7778\n",
      "Epoch 138/300\n",
      "9/9 - 0s - loss: 1.0522 - accuracy: 0.6889 - val_loss: 1.0076 - val_accuracy: 0.7778\n",
      "Epoch 139/300\n",
      "9/9 - 0s - loss: 1.0177 - accuracy: 0.8000 - val_loss: 1.0059 - val_accuracy: 0.7778\n",
      "Epoch 140/300\n",
      "9/9 - 0s - loss: 1.0222 - accuracy: 0.8222 - val_loss: 0.9937 - val_accuracy: 0.8889\n",
      "Epoch 141/300\n",
      "9/9 - 0s - loss: 1.0230 - accuracy: 0.7889 - val_loss: 0.9885 - val_accuracy: 0.7778\n",
      "Epoch 142/300\n",
      "9/9 - 0s - loss: 1.0245 - accuracy: 0.7444 - val_loss: 0.9875 - val_accuracy: 0.7778\n",
      "Epoch 143/300\n",
      "9/9 - 0s - loss: 1.0144 - accuracy: 0.8222 - val_loss: 0.9806 - val_accuracy: 0.7778\n",
      "Epoch 144/300\n",
      "9/9 - 0s - loss: 0.9985 - accuracy: 0.8000 - val_loss: 0.9725 - val_accuracy: 0.8889\n",
      "Epoch 145/300\n",
      "9/9 - 0s - loss: 1.0029 - accuracy: 0.8000 - val_loss: 0.9712 - val_accuracy: 0.7778\n",
      "Epoch 146/300\n",
      "9/9 - 0s - loss: 0.9867 - accuracy: 0.7556 - val_loss: 0.9615 - val_accuracy: 0.8889\n",
      "Epoch 147/300\n",
      "9/9 - 0s - loss: 0.9915 - accuracy: 0.8333 - val_loss: 0.9592 - val_accuracy: 0.8889\n",
      "Epoch 148/300\n",
      "9/9 - 0s - loss: 0.9899 - accuracy: 0.7111 - val_loss: 0.9522 - val_accuracy: 0.8889\n",
      "Epoch 149/300\n",
      "9/9 - 0s - loss: 0.9794 - accuracy: 0.7778 - val_loss: 0.9523 - val_accuracy: 0.8889\n",
      "Epoch 150/300\n",
      "9/9 - 0s - loss: 0.9712 - accuracy: 0.8778 - val_loss: 0.9453 - val_accuracy: 0.8889\n",
      "Epoch 151/300\n",
      "9/9 - 0s - loss: 0.9619 - accuracy: 0.8333 - val_loss: 0.9364 - val_accuracy: 0.8889\n",
      "Epoch 152/300\n",
      "9/9 - 0s - loss: 0.9539 - accuracy: 0.8000 - val_loss: 0.9331 - val_accuracy: 0.8889\n",
      "Epoch 153/300\n",
      "9/9 - 0s - loss: 0.9783 - accuracy: 0.7444 - val_loss: 0.9321 - val_accuracy: 1.0000\n",
      "Epoch 154/300\n",
      "9/9 - 0s - loss: 0.9472 - accuracy: 0.8000 - val_loss: 0.9296 - val_accuracy: 0.8889\n",
      "Epoch 155/300\n",
      "9/9 - 0s - loss: 0.9397 - accuracy: 0.8556 - val_loss: 0.9186 - val_accuracy: 0.8889\n",
      "Epoch 156/300\n",
      "9/9 - 0s - loss: 0.9364 - accuracy: 0.8667 - val_loss: 0.9170 - val_accuracy: 0.7778\n",
      "Epoch 157/300\n",
      "9/9 - 0s - loss: 0.9349 - accuracy: 0.8333 - val_loss: 0.9123 - val_accuracy: 0.8889\n",
      "Epoch 158/300\n",
      "9/9 - 0s - loss: 0.9351 - accuracy: 0.8778 - val_loss: 0.9102 - val_accuracy: 0.8889\n",
      "Epoch 159/300\n",
      "9/9 - 0s - loss: 0.9343 - accuracy: 0.8556 - val_loss: 0.8997 - val_accuracy: 0.8889\n",
      "Epoch 160/300\n",
      "9/9 - 0s - loss: 0.9286 - accuracy: 0.8000 - val_loss: 0.8907 - val_accuracy: 0.8889\n",
      "Epoch 161/300\n",
      "9/9 - 0s - loss: 0.9115 - accuracy: 0.8778 - val_loss: 0.8862 - val_accuracy: 0.8889\n",
      "Epoch 162/300\n",
      "9/9 - 0s - loss: 0.9150 - accuracy: 0.8778 - val_loss: 0.8833 - val_accuracy: 0.7778\n",
      "Epoch 163/300\n",
      "9/9 - 0s - loss: 0.9024 - accuracy: 0.8222 - val_loss: 0.8760 - val_accuracy: 0.8889\n",
      "Epoch 164/300\n",
      "9/9 - 0s - loss: 0.9087 - accuracy: 0.8000 - val_loss: 0.8714 - val_accuracy: 0.8889\n",
      "Epoch 165/300\n",
      "9/9 - 0s - loss: 0.9029 - accuracy: 0.8222 - val_loss: 0.8692 - val_accuracy: 0.8889\n",
      "Epoch 166/300\n",
      "9/9 - 0s - loss: 0.8970 - accuracy: 0.8889 - val_loss: 0.8664 - val_accuracy: 0.8889\n",
      "Epoch 167/300\n",
      "9/9 - 0s - loss: 0.8923 - accuracy: 0.7889 - val_loss: 0.8589 - val_accuracy: 0.8889\n"
     ]
    },
    {
     "name": "stdout",
     "output_type": "stream",
     "text": [
      "Epoch 168/300\n",
      "9/9 - 0s - loss: 0.8894 - accuracy: 0.8667 - val_loss: 0.8689 - val_accuracy: 0.8889\n",
      "Epoch 169/300\n",
      "9/9 - 0s - loss: 0.8739 - accuracy: 0.8667 - val_loss: 0.8507 - val_accuracy: 0.8889\n",
      "Epoch 170/300\n",
      "9/9 - 0s - loss: 0.8687 - accuracy: 0.8667 - val_loss: 0.8675 - val_accuracy: 0.7778\n",
      "Epoch 171/300\n",
      "9/9 - 0s - loss: 0.8935 - accuracy: 0.8000 - val_loss: 0.8418 - val_accuracy: 0.8889\n",
      "Epoch 172/300\n",
      "9/9 - 0s - loss: 0.8688 - accuracy: 0.8111 - val_loss: 0.8376 - val_accuracy: 1.0000\n",
      "Epoch 173/300\n",
      "9/9 - 0s - loss: 0.8574 - accuracy: 0.9000 - val_loss: 0.8411 - val_accuracy: 0.8889\n",
      "Epoch 174/300\n",
      "9/9 - 0s - loss: 0.8585 - accuracy: 0.8778 - val_loss: 0.8299 - val_accuracy: 0.8889\n",
      "Epoch 175/300\n",
      "9/9 - 0s - loss: 0.8478 - accuracy: 0.8444 - val_loss: 0.8246 - val_accuracy: 1.0000\n",
      "Epoch 176/300\n",
      "9/9 - 0s - loss: 0.8558 - accuracy: 0.8222 - val_loss: 0.8215 - val_accuracy: 0.8889\n",
      "Epoch 177/300\n",
      "9/9 - 0s - loss: 0.8382 - accuracy: 0.8667 - val_loss: 0.8181 - val_accuracy: 0.8889\n",
      "Epoch 178/300\n",
      "9/9 - 0s - loss: 0.8278 - accuracy: 0.8444 - val_loss: 0.8102 - val_accuracy: 0.8889\n",
      "Epoch 179/300\n",
      "9/9 - 0s - loss: 0.8424 - accuracy: 0.8556 - val_loss: 0.8070 - val_accuracy: 1.0000\n",
      "Epoch 180/300\n",
      "9/9 - 0s - loss: 0.8386 - accuracy: 0.9111 - val_loss: 0.8052 - val_accuracy: 1.0000\n",
      "Epoch 181/300\n",
      "9/9 - 0s - loss: 0.8292 - accuracy: 0.9000 - val_loss: 0.8017 - val_accuracy: 0.8889\n",
      "Epoch 182/300\n",
      "9/9 - 0s - loss: 0.8179 - accuracy: 0.8778 - val_loss: 0.7915 - val_accuracy: 0.8889\n",
      "Epoch 183/300\n",
      "9/9 - 0s - loss: 0.8212 - accuracy: 0.8778 - val_loss: 0.7907 - val_accuracy: 0.8889\n",
      "Epoch 184/300\n",
      "9/9 - 0s - loss: 0.8050 - accuracy: 0.8556 - val_loss: 0.7953 - val_accuracy: 0.8889\n",
      "Epoch 185/300\n",
      "9/9 - 0s - loss: 0.8244 - accuracy: 0.8222 - val_loss: 0.7796 - val_accuracy: 1.0000\n",
      "Epoch 186/300\n",
      "9/9 - 0s - loss: 0.8083 - accuracy: 0.9000 - val_loss: 0.7818 - val_accuracy: 1.0000\n",
      "Epoch 187/300\n",
      "9/9 - 0s - loss: 0.8109 - accuracy: 0.8667 - val_loss: 0.7717 - val_accuracy: 0.8889\n",
      "Epoch 188/300\n",
      "9/9 - 0s - loss: 0.8054 - accuracy: 0.8444 - val_loss: 0.7703 - val_accuracy: 0.8889\n",
      "Epoch 189/300\n",
      "9/9 - 0s - loss: 0.7954 - accuracy: 0.8889 - val_loss: 0.7681 - val_accuracy: 0.8889\n",
      "Epoch 190/300\n",
      "9/9 - 0s - loss: 0.7953 - accuracy: 0.8778 - val_loss: 0.7644 - val_accuracy: 1.0000\n",
      "Epoch 191/300\n",
      "9/9 - 0s - loss: 0.7809 - accuracy: 0.8667 - val_loss: 0.7610 - val_accuracy: 0.8889\n",
      "Epoch 192/300\n",
      "9/9 - 0s - loss: 0.8084 - accuracy: 0.8000 - val_loss: 0.7556 - val_accuracy: 0.8889\n",
      "Epoch 193/300\n",
      "9/9 - 0s - loss: 0.7850 - accuracy: 0.8111 - val_loss: 0.7695 - val_accuracy: 0.7778\n",
      "Epoch 194/300\n",
      "9/9 - 0s - loss: 0.8071 - accuracy: 0.7556 - val_loss: 0.7515 - val_accuracy: 0.8889\n",
      "Epoch 195/300\n",
      "9/9 - 0s - loss: 0.7818 - accuracy: 0.8778 - val_loss: 0.7407 - val_accuracy: 1.0000\n",
      "Epoch 196/300\n",
      "9/9 - 0s - loss: 0.7673 - accuracy: 0.8444 - val_loss: 0.7395 - val_accuracy: 0.8889\n",
      "Epoch 197/300\n",
      "9/9 - 0s - loss: 0.7565 - accuracy: 0.8778 - val_loss: 0.7408 - val_accuracy: 0.8889\n",
      "Epoch 198/300\n",
      "9/9 - 0s - loss: 0.7637 - accuracy: 0.8889 - val_loss: 0.7292 - val_accuracy: 0.8889\n",
      "Epoch 199/300\n",
      "9/9 - 0s - loss: 0.7572 - accuracy: 0.8667 - val_loss: 0.7515 - val_accuracy: 0.7778\n",
      "Epoch 200/300\n",
      "9/9 - 0s - loss: 0.7718 - accuracy: 0.8667 - val_loss: 0.7188 - val_accuracy: 1.0000\n",
      "Epoch 201/300\n",
      "9/9 - 0s - loss: 0.7560 - accuracy: 0.8444 - val_loss: 0.7431 - val_accuracy: 0.8889\n",
      "Epoch 202/300\n",
      "9/9 - 0s - loss: 0.7515 - accuracy: 0.8667 - val_loss: 0.7224 - val_accuracy: 0.8889\n",
      "Epoch 203/300\n",
      "9/9 - 0s - loss: 0.7486 - accuracy: 0.9000 - val_loss: 0.7191 - val_accuracy: 0.8889\n",
      "Epoch 204/300\n",
      "9/9 - 0s - loss: 0.7473 - accuracy: 0.8444 - val_loss: 0.7230 - val_accuracy: 0.7778\n",
      "Epoch 205/300\n",
      "9/9 - 0s - loss: 0.7745 - accuracy: 0.8000 - val_loss: 0.7114 - val_accuracy: 0.8889\n",
      "Epoch 206/300\n",
      "9/9 - 0s - loss: 0.7496 - accuracy: 0.8667 - val_loss: 0.7072 - val_accuracy: 0.8889\n",
      "Epoch 207/300\n",
      "9/9 - 0s - loss: 0.7315 - accuracy: 0.8667 - val_loss: 0.7029 - val_accuracy: 0.8889\n",
      "Epoch 208/300\n",
      "9/9 - 0s - loss: 0.7319 - accuracy: 0.8333 - val_loss: 0.6953 - val_accuracy: 0.8889\n",
      "Epoch 209/300\n",
      "9/9 - 0s - loss: 0.7332 - accuracy: 0.8444 - val_loss: 0.6882 - val_accuracy: 0.8889\n",
      "Epoch 210/300\n",
      "9/9 - 0s - loss: 0.7421 - accuracy: 0.8889 - val_loss: 0.6942 - val_accuracy: 0.8889\n",
      "Epoch 211/300\n",
      "9/9 - 0s - loss: 0.7424 - accuracy: 0.8444 - val_loss: 0.6811 - val_accuracy: 1.0000\n",
      "Epoch 212/300\n",
      "9/9 - 0s - loss: 0.7143 - accuracy: 0.8778 - val_loss: 0.6908 - val_accuracy: 0.8889\n",
      "Epoch 213/300\n",
      "9/9 - 0s - loss: 0.7101 - accuracy: 0.9111 - val_loss: 0.6840 - val_accuracy: 0.8889\n",
      "Epoch 214/300\n",
      "9/9 - 0s - loss: 0.7083 - accuracy: 0.9333 - val_loss: 0.6727 - val_accuracy: 1.0000\n",
      "Epoch 215/300\n",
      "9/9 - 0s - loss: 0.6976 - accuracy: 0.8889 - val_loss: 0.6730 - val_accuracy: 0.8889\n",
      "Epoch 216/300\n",
      "9/9 - 0s - loss: 0.6925 - accuracy: 0.8556 - val_loss: 0.6787 - val_accuracy: 0.7778\n",
      "Epoch 217/300\n",
      "9/9 - 0s - loss: 0.7252 - accuracy: 0.8778 - val_loss: 0.6718 - val_accuracy: 0.8889\n",
      "Epoch 218/300\n",
      "9/9 - 0s - loss: 0.6828 - accuracy: 0.8778 - val_loss: 0.6687 - val_accuracy: 0.8889\n",
      "Epoch 219/300\n",
      "9/9 - 0s - loss: 0.6896 - accuracy: 0.8778 - val_loss: 0.6587 - val_accuracy: 1.0000\n",
      "Epoch 220/300\n",
      "9/9 - 0s - loss: 0.6907 - accuracy: 0.9111 - val_loss: 0.6476 - val_accuracy: 1.0000\n",
      "Epoch 221/300\n",
      "9/9 - 0s - loss: 0.6829 - accuracy: 0.8667 - val_loss: 0.6551 - val_accuracy: 1.0000\n",
      "Epoch 222/300\n",
      "9/9 - 0s - loss: 0.6823 - accuracy: 0.8889 - val_loss: 0.6435 - val_accuracy: 1.0000\n",
      "Epoch 223/300\n",
      "9/9 - 0s - loss: 0.6833 - accuracy: 0.9111 - val_loss: 0.6369 - val_accuracy: 1.0000\n",
      "Epoch 224/300\n",
      "9/9 - 0s - loss: 0.6666 - accuracy: 0.9222 - val_loss: 0.6382 - val_accuracy: 0.8889\n",
      "Epoch 225/300\n",
      "9/9 - 0s - loss: 0.6606 - accuracy: 0.8889 - val_loss: 0.6354 - val_accuracy: 0.8889\n",
      "Epoch 226/300\n",
      "9/9 - 0s - loss: 0.6673 - accuracy: 0.9222 - val_loss: 0.6279 - val_accuracy: 1.0000\n",
      "Epoch 227/300\n",
      "9/9 - 0s - loss: 0.6458 - accuracy: 0.9444 - val_loss: 0.6438 - val_accuracy: 0.8889\n",
      "Epoch 228/300\n",
      "9/9 - 0s - loss: 0.6492 - accuracy: 0.8889 - val_loss: 0.6485 - val_accuracy: 0.7778\n",
      "Epoch 229/300\n",
      "9/9 - 0s - loss: 0.6595 - accuracy: 0.8889 - val_loss: 0.6217 - val_accuracy: 1.0000\n",
      "Epoch 230/300\n",
      "9/9 - 0s - loss: 0.6690 - accuracy: 0.8667 - val_loss: 0.6207 - val_accuracy: 0.8889\n",
      "Epoch 231/300\n",
      "9/9 - 0s - loss: 0.6512 - accuracy: 0.9000 - val_loss: 0.6119 - val_accuracy: 1.0000\n",
      "Epoch 232/300\n",
      "9/9 - 0s - loss: 0.6467 - accuracy: 0.9222 - val_loss: 0.6377 - val_accuracy: 0.8889\n",
      "Epoch 233/300\n",
      "9/9 - 0s - loss: 0.6423 - accuracy: 0.9667 - val_loss: 0.6084 - val_accuracy: 0.8889\n",
      "Epoch 234/300\n",
      "9/9 - 0s - loss: 0.6313 - accuracy: 0.9222 - val_loss: 0.6099 - val_accuracy: 1.0000\n",
      "Epoch 235/300\n",
      "9/9 - 0s - loss: 0.6457 - accuracy: 0.9222 - val_loss: 0.6078 - val_accuracy: 0.8889\n",
      "Epoch 236/300\n",
      "9/9 - 0s - loss: 0.6446 - accuracy: 0.8778 - val_loss: 0.5998 - val_accuracy: 1.0000\n",
      "Epoch 237/300\n",
      "9/9 - 0s - loss: 0.6326 - accuracy: 0.9333 - val_loss: 0.5961 - val_accuracy: 0.8889\n",
      "Epoch 238/300\n",
      "9/9 - 0s - loss: 0.6381 - accuracy: 0.8667 - val_loss: 0.5990 - val_accuracy: 0.8889\n",
      "Epoch 239/300\n",
      "9/9 - 0s - loss: 0.6123 - accuracy: 0.9444 - val_loss: 0.5897 - val_accuracy: 0.8889\n",
      "Epoch 240/300\n",
      "9/9 - 0s - loss: 0.6145 - accuracy: 0.9000 - val_loss: 0.5820 - val_accuracy: 1.0000\n",
      "Epoch 241/300\n",
      "9/9 - 0s - loss: 0.6204 - accuracy: 0.9111 - val_loss: 0.5877 - val_accuracy: 0.8889\n",
      "Epoch 242/300\n",
      "9/9 - 0s - loss: 0.6216 - accuracy: 0.8889 - val_loss: 0.5790 - val_accuracy: 1.0000\n",
      "Epoch 243/300\n",
      "9/9 - 0s - loss: 0.6234 - accuracy: 0.8667 - val_loss: 0.5788 - val_accuracy: 1.0000\n",
      "Epoch 244/300\n",
      "9/9 - 0s - loss: 0.6200 - accuracy: 0.8778 - val_loss: 0.5751 - val_accuracy: 1.0000\n",
      "Epoch 245/300\n",
      "9/9 - 0s - loss: 0.6066 - accuracy: 0.9222 - val_loss: 0.5762 - val_accuracy: 1.0000\n",
      "Epoch 246/300\n",
      "9/9 - 0s - loss: 0.5845 - accuracy: 0.9556 - val_loss: 0.5634 - val_accuracy: 1.0000\n",
      "Epoch 247/300\n",
      "9/9 - 0s - loss: 0.5868 - accuracy: 0.9556 - val_loss: 0.5625 - val_accuracy: 1.0000\n",
      "Epoch 248/300\n",
      "9/9 - 0s - loss: 0.5919 - accuracy: 0.9444 - val_loss: 0.5587 - val_accuracy: 1.0000\n",
      "Epoch 249/300\n",
      "9/9 - 0s - loss: 0.5892 - accuracy: 0.9000 - val_loss: 0.5708 - val_accuracy: 1.0000\n",
      "Epoch 250/300\n",
      "9/9 - 0s - loss: 0.5769 - accuracy: 0.9000 - val_loss: 0.5761 - val_accuracy: 0.8889\n"
     ]
    },
    {
     "name": "stdout",
     "output_type": "stream",
     "text": [
      "Epoch 251/300\n",
      "9/9 - 0s - loss: 0.5852 - accuracy: 0.9222 - val_loss: 0.5634 - val_accuracy: 1.0000\n",
      "Epoch 252/300\n",
      "9/9 - 0s - loss: 0.6149 - accuracy: 0.8444 - val_loss: 0.5524 - val_accuracy: 1.0000\n",
      "Epoch 253/300\n",
      "9/9 - 0s - loss: 0.5715 - accuracy: 0.8889 - val_loss: 0.5583 - val_accuracy: 0.8889\n",
      "Epoch 254/300\n",
      "9/9 - 0s - loss: 0.5831 - accuracy: 0.9333 - val_loss: 0.5561 - val_accuracy: 0.8889\n",
      "Epoch 255/300\n",
      "9/9 - 0s - loss: 0.5791 - accuracy: 0.8889 - val_loss: 0.5437 - val_accuracy: 0.8889\n",
      "Epoch 256/300\n",
      "9/9 - 0s - loss: 0.5797 - accuracy: 0.9444 - val_loss: 0.5538 - val_accuracy: 0.8889\n",
      "Epoch 257/300\n",
      "9/9 - 0s - loss: 0.5879 - accuracy: 0.9444 - val_loss: 0.5491 - val_accuracy: 0.8889\n",
      "Epoch 258/300\n",
      "9/9 - 0s - loss: 0.5816 - accuracy: 0.9111 - val_loss: 0.5389 - val_accuracy: 1.0000\n",
      "Epoch 259/300\n",
      "9/9 - 0s - loss: 0.5504 - accuracy: 0.9444 - val_loss: 0.5271 - val_accuracy: 1.0000\n",
      "Epoch 260/300\n",
      "9/9 - 0s - loss: 0.5499 - accuracy: 0.9111 - val_loss: 0.5233 - val_accuracy: 1.0000\n",
      "Epoch 261/300\n",
      "9/9 - 0s - loss: 0.5579 - accuracy: 0.9222 - val_loss: 0.5249 - val_accuracy: 1.0000\n",
      "Epoch 262/300\n",
      "9/9 - 0s - loss: 0.5441 - accuracy: 0.9222 - val_loss: 0.5516 - val_accuracy: 0.7778\n",
      "Epoch 263/300\n",
      "9/9 - 0s - loss: 0.5489 - accuracy: 0.8333 - val_loss: 0.5562 - val_accuracy: 0.7778\n",
      "Epoch 264/300\n",
      "9/9 - 0s - loss: 0.5651 - accuracy: 0.8556 - val_loss: 0.5305 - val_accuracy: 0.8889\n",
      "Epoch 265/300\n",
      "9/9 - 0s - loss: 0.5450 - accuracy: 0.9222 - val_loss: 0.5264 - val_accuracy: 0.8889\n",
      "Epoch 266/300\n",
      "9/9 - 0s - loss: 0.5524 - accuracy: 0.8778 - val_loss: 0.5057 - val_accuracy: 1.0000\n",
      "Epoch 267/300\n",
      "9/9 - 0s - loss: 0.5545 - accuracy: 0.8667 - val_loss: 0.5045 - val_accuracy: 1.0000\n",
      "Epoch 268/300\n",
      "9/9 - 0s - loss: 0.5332 - accuracy: 0.9000 - val_loss: 0.5839 - val_accuracy: 0.7778\n",
      "Epoch 269/300\n",
      "9/9 - 0s - loss: 0.5294 - accuracy: 0.8889 - val_loss: 0.5131 - val_accuracy: 0.8889\n",
      "Epoch 270/300\n",
      "9/9 - 0s - loss: 0.5285 - accuracy: 0.9222 - val_loss: 0.5229 - val_accuracy: 0.8889\n",
      "Epoch 271/300\n",
      "9/9 - 0s - loss: 0.5413 - accuracy: 0.9222 - val_loss: 0.5056 - val_accuracy: 1.0000\n",
      "Epoch 272/300\n",
      "9/9 - 0s - loss: 0.5352 - accuracy: 0.9000 - val_loss: 0.5063 - val_accuracy: 0.8889\n",
      "Epoch 273/300\n",
      "9/9 - 0s - loss: 0.5320 - accuracy: 0.8889 - val_loss: 0.5208 - val_accuracy: 0.8889\n",
      "Epoch 274/300\n",
      "9/9 - 0s - loss: 0.5289 - accuracy: 0.8667 - val_loss: 0.5129 - val_accuracy: 0.8889\n",
      "Epoch 275/300\n",
      "9/9 - 0s - loss: 0.5258 - accuracy: 0.9222 - val_loss: 0.4873 - val_accuracy: 1.0000\n",
      "Epoch 276/300\n",
      "9/9 - 0s - loss: 0.5077 - accuracy: 0.8889 - val_loss: 0.5175 - val_accuracy: 0.8889\n",
      "Epoch 277/300\n",
      "9/9 - 0s - loss: 0.5107 - accuracy: 0.9444 - val_loss: 0.5024 - val_accuracy: 0.8889\n",
      "Epoch 278/300\n",
      "9/9 - 0s - loss: 0.5303 - accuracy: 0.9222 - val_loss: 0.4792 - val_accuracy: 1.0000\n",
      "Epoch 279/300\n",
      "9/9 - 0s - loss: 0.5056 - accuracy: 0.9000 - val_loss: 0.4819 - val_accuracy: 1.0000\n",
      "Epoch 280/300\n",
      "9/9 - 0s - loss: 0.4919 - accuracy: 0.9556 - val_loss: 0.4757 - val_accuracy: 1.0000\n",
      "Epoch 281/300\n",
      "9/9 - 0s - loss: 0.5072 - accuracy: 0.9111 - val_loss: 0.4740 - val_accuracy: 0.8889\n",
      "Epoch 282/300\n",
      "9/9 - 0s - loss: 0.4955 - accuracy: 0.9333 - val_loss: 0.4756 - val_accuracy: 1.0000\n",
      "Epoch 283/300\n",
      "9/9 - 0s - loss: 0.5043 - accuracy: 0.9444 - val_loss: 0.4746 - val_accuracy: 0.8889\n",
      "Epoch 284/300\n",
      "9/9 - 0s - loss: 0.4826 - accuracy: 0.9889 - val_loss: 0.4721 - val_accuracy: 0.8889\n",
      "Epoch 285/300\n",
      "9/9 - 0s - loss: 0.5369 - accuracy: 0.9333 - val_loss: 0.4691 - val_accuracy: 0.8889\n",
      "Epoch 286/300\n",
      "9/9 - 0s - loss: 0.4909 - accuracy: 0.9556 - val_loss: 0.4645 - val_accuracy: 1.0000\n",
      "Epoch 287/300\n",
      "9/9 - 0s - loss: 0.4984 - accuracy: 0.9111 - val_loss: 0.4735 - val_accuracy: 0.8889\n",
      "Epoch 288/300\n",
      "9/9 - 0s - loss: 0.5064 - accuracy: 0.9222 - val_loss: 0.4607 - val_accuracy: 1.0000\n",
      "Epoch 289/300\n",
      "9/9 - 0s - loss: 0.4815 - accuracy: 0.9444 - val_loss: 0.4523 - val_accuracy: 1.0000\n",
      "Epoch 290/300\n",
      "9/9 - 0s - loss: 0.5147 - accuracy: 0.9000 - val_loss: 0.4608 - val_accuracy: 0.8889\n",
      "Epoch 291/300\n",
      "9/9 - 0s - loss: 0.4850 - accuracy: 0.9222 - val_loss: 0.4585 - val_accuracy: 1.0000\n",
      "Epoch 292/300\n",
      "9/9 - 0s - loss: 0.4648 - accuracy: 1.0000 - val_loss: 0.4374 - val_accuracy: 1.0000\n",
      "Epoch 293/300\n",
      "9/9 - 0s - loss: 0.4675 - accuracy: 0.9222 - val_loss: 0.4635 - val_accuracy: 0.8889\n",
      "Epoch 294/300\n",
      "9/9 - 0s - loss: 0.4714 - accuracy: 0.8889 - val_loss: 0.4939 - val_accuracy: 0.7778\n",
      "Epoch 295/300\n",
      "9/9 - 0s - loss: 0.4782 - accuracy: 0.8778 - val_loss: 0.4352 - val_accuracy: 1.0000\n",
      "Epoch 296/300\n",
      "9/9 - 0s - loss: 0.4614 - accuracy: 0.9889 - val_loss: 0.4409 - val_accuracy: 1.0000\n",
      "Epoch 297/300\n",
      "9/9 - 0s - loss: 0.4632 - accuracy: 0.9778 - val_loss: 0.4429 - val_accuracy: 1.0000\n",
      "Epoch 298/300\n",
      "9/9 - 0s - loss: 0.4433 - accuracy: 0.9889 - val_loss: 0.4490 - val_accuracy: 1.0000\n",
      "Epoch 299/300\n",
      "9/9 - 0s - loss: 0.4723 - accuracy: 0.9333 - val_loss: 0.4359 - val_accuracy: 1.0000\n",
      "Epoch 300/300\n",
      "9/9 - 0s - loss: 0.4452 - accuracy: 0.9556 - val_loss: 0.4613 - val_accuracy: 0.8889\n"
     ]
    }
   ],
   "source": [
    "hist = model.fit(x_train, y_train, epochs=300, \n",
    "                 batch_size=10, verbose=2, \n",
    "                 validation_data=(x_val, y_val))"
   ]
  },
  {
   "cell_type": "code",
   "execution_count": 19,
   "id": "worldwide-mozambique",
   "metadata": {
    "ExecuteTime": {
     "end_time": "2021-03-27T17:12:02.809219Z",
     "start_time": "2021-03-27T17:12:02.801223Z"
    }
   },
   "outputs": [
    {
     "data": {
      "text/plain": [
       "dict_keys(['loss', 'accuracy', 'val_loss', 'val_accuracy'])"
      ]
     },
     "execution_count": 19,
     "metadata": {},
     "output_type": "execute_result"
    }
   ],
   "source": [
    "hist.history.keys()"
   ]
  },
  {
   "cell_type": "markdown",
   "id": "elder-rolling",
   "metadata": {},
   "source": [
    "# 모델 학습과정 살펴보기(hist, 평가)"
   ]
  },
  {
   "cell_type": "code",
   "execution_count": 22,
   "id": "integral-infrared",
   "metadata": {
    "ExecuteTime": {
     "end_time": "2021-03-27T17:17:41.170451Z",
     "start_time": "2021-03-27T17:17:40.292371Z"
    }
   },
   "outputs": [
    {
     "data": {
      "image/png": "[encoded data removed]",
      "text/plain": [
       "<Figure size 720x360 with 2 Axes>"
      ]
     },
     "metadata": {
      "needs_background": "light"
     },
     "output_type": "display_data"
    }
   ],
   "source": [
    "fig, loss_ax = plt.subplots(figsize=(10,5))\n",
    "\n",
    "loss_ax.plot(hist.history['loss'], 'y', label='train loss')\n",
    "loss_ax.plot(hist.history['val_loss'], 'r', label='val loss')\n",
    "\n",
    "acc_ax = loss_ax.twinx() # loss_ax와 x축을 공유하는 acc_ax 생성 \n",
    "acc_ax.plot(hist.history['accuracy'], 'g', label='train acc')\n",
    "acc_ax.plot(hist.history['val_accuracy'], 'b', label='val acc')\n",
    "\n",
    "loss_ax.set_xlabel('epoch')\n",
    "loss_ax.set_ylabel('loss')\n",
    "acc_ax.set_xlabel('accuracy')\n",
    "\n",
    "loss_ax.legend(loc='upper left')\n",
    "acc_ax.legend(loc='lower left')\n",
    "\n",
    "plt.show()"
   ]
  },
  {
   "cell_type": "code",
   "execution_count": 23,
   "id": "rocky-saver",
   "metadata": {
    "ExecuteTime": {
     "end_time": "2021-03-27T17:18:15.240403Z",
     "start_time": "2021-03-27T17:18:14.924393Z"
    }
   },
   "outputs": [
    {
     "name": "stdout",
     "output_type": "stream",
     "text": [
      "9/9 [==============================] - 0s 2ms/step - loss: 0.4613 - accuracy: 0.8889\n"
     ]
    },
    {
     "data": {
      "text/plain": [
       "[0.4612932801246643, 0.8888888955116272]"
      ]
     },
     "execution_count": 23,
     "metadata": {},
     "output_type": "execute_result"
    }
   ],
   "source": [
    "# 모델 평가 \n",
    "score = model.evaluate(x_val, y_val, batch_size=1)\n",
    "score"
   ]
  },
  {
   "cell_type": "code",
   "execution_count": 24,
   "id": "conventional-hampton",
   "metadata": {
    "ExecuteTime": {
     "end_time": "2021-03-27T17:18:50.707963Z",
     "start_time": "2021-03-27T17:18:50.694972Z"
    }
   },
   "outputs": [
    {
     "name": "stdout",
     "output_type": "stream",
     "text": [
      "loss:  0.4612932801246643\n",
      "accuracy:  0.8888888955116272\n"
     ]
    }
   ],
   "source": [
    "print('loss: ', score[0])\n",
    "print('accuracy: ', score[1])"
   ]
  },
  {
   "cell_type": "markdown",
   "id": "pharmaceutical-witch",
   "metadata": {},
   "source": [
    "# 모델을 이용하여 예측하기 "
   ]
  },
  {
   "cell_type": "code",
   "execution_count": 25,
   "id": "mexican-lexington",
   "metadata": {
    "ExecuteTime": {
     "end_time": "2021-03-27T17:20:07.550278Z",
     "start_time": "2021-03-27T17:20:07.143974Z"
    }
   },
   "outputs": [
    {
     "name": "stdout",
     "output_type": "stream",
     "text": [
      "WARNING:tensorflow:From <ipython-input-25-1a6b552dd508>:1: Sequential.predict_classes (from tensorflow.python.keras.engine.sequential) is deprecated and will be removed after 2021-01-01.\n",
      "Instructions for updating:\n",
      "Please use instead:* `np.argmax(model.predict(x), axis=-1)`,   if your model does multi-class classification   (e.g. if it uses a `softmax` last-layer activation).* `(model.predict(x) > 0.5).astype(\"int32\")`,   if your model does binary classification   (e.g. if it uses a `sigmoid` last-layer activation).\n"
     ]
    },
    {
     "data": {
      "text/plain": [
       "array([4], dtype=int64)"
      ]
     },
     "execution_count": 25,
     "metadata": {},
     "output_type": "execute_result"
    }
   ],
   "source": [
    "model.predict_classes(np.array([2]))"
   ]
  },
  {
   "cell_type": "code",
   "execution_count": 28,
   "id": "cardiovascular-adelaide",
   "metadata": {
    "ExecuteTime": {
     "end_time": "2021-03-27T17:21:04.060593Z",
     "start_time": "2021-03-27T17:21:03.943666Z"
    }
   },
   "outputs": [
    {
     "data": {
      "text/plain": [
       "4"
      ]
     },
     "execution_count": 28,
     "metadata": {},
     "output_type": "execute_result"
    }
   ],
   "source": [
    "model.predict(np.array([2])).argmax()"
   ]
  }
 ],
 "metadata": {
  "kernelspec": {
   "display_name": "Python 3",
   "language": "python",
   "name": "python3"
  },
  "language_info": {
   "codemirror_mode": {
    "name": "ipython",
    "version": 3
   },
   "file_extension": ".py",
   "mimetype": "text/x-python",
   "name": "python",
   "nbconvert_exporter": "python",
   "pygments_lexer": "ipython3",
   "version": "3.8.8"
  },
  "toc": {
   "base_numbering": 1,
   "nav_menu": {},
   "number_sections": true,
   "sideBar": true,
   "skip_h1_title": false,
   "title_cell": "Table of Contents",
   "title_sidebar": "Contents",
   "toc_cell": false,
   "toc_position": {},
   "toc_section_display": true,
   "toc_window_display": false
  },
  "varInspector": {
   "cols": {
    "lenName": 16,
    "lenType": 16,
    "lenVar": 40
   },
   "kernels_config": {
    "python": {
     "delete_cmd_postfix": "",
     "delete_cmd_prefix": "del ",
     "library": "var_list.py",
     "varRefreshCmd": "print(var_dic_list())"
    },
    "r": {
     "delete_cmd_postfix": ") ",
     "delete_cmd_prefix": "rm(",
     "library": "var_list.r",
     "varRefreshCmd": "cat(var_dic_list()) "
    }
   },
   "types_to_exclude": [
    "module",
    "function",
    "builtin_function_or_method",
    "instance",
    "_Feature"
   ],
   "window_display": false
  }
 },
 "nbformat": 4,
 "nbformat_minor": 5
}
