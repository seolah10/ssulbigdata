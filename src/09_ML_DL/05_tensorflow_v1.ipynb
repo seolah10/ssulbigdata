{
 "cells": [
  {
   "cell_type": "code",
   "execution_count": 3,
   "id": "drawn-music",
   "metadata": {
    "ExecuteTime": {
     "end_time": "2021-03-28T13:25:32.660642Z",
     "start_time": "2021-03-28T13:25:32.651648Z"
    }
   },
   "outputs": [
    {
     "data": {
      "text/html": [
       "\n",
       "<style>\n",
       "div.container{width:100% !important;}\n",
       "div.CodeMirror {font-family:Consolas; font-size:10pt;}\n",
       "div.output {font-size:10pt}\n",
       "div.input {font-family:Consolas; font-size:10pt;}\n",
       "div.prompt {min-width:70px;}\n",
       "</style>\n"
      ],
      "text/plain": [
       "<IPython.core.display.HTML object>"
      ]
     },
     "metadata": {},
     "output_type": "display_data"
    }
   ],
   "source": [
    "from IPython.display import display, HTML\n",
    "display(HTML(\"\"\"\n",
    "<style>\n",
    "div.container{width:100% !important;}\n",
    "div.CodeMirror {font-family:Consolas; font-size:10pt;}\n",
    "div.output {font-size:10pt}\n",
    "div.input {font-family:Consolas; font-size:10pt;}\n",
    "div.prompt {min-width:70px;}\n",
    "</style>\n",
    "\"\"\"))"
   ]
  },
  {
   "cell_type": "markdown",
   "id": "portable-division",
   "metadata": {},
   "source": [
    "# tensorflow v2.x에서 v1버전 사용하기"
   ]
  },
  {
   "cell_type": "code",
   "execution_count": 4,
   "id": "elect-husband",
   "metadata": {
    "ExecuteTime": {
     "end_time": "2021-03-28T13:25:34.660492Z",
     "start_time": "2021-03-28T13:25:34.643505Z"
    }
   },
   "outputs": [],
   "source": [
    "import tensorflow.compat.v1 as tf\n",
    "tf.disable_v2_behavior() # v2 사용 중지시키기 "
   ]
  },
  {
   "cell_type": "code",
   "execution_count": 5,
   "id": "coated-italic",
   "metadata": {
    "ExecuteTime": {
     "end_time": "2021-03-28T13:25:37.963311Z",
     "start_time": "2021-03-28T13:25:37.838376Z"
    }
   },
   "outputs": [
    {
     "name": "stdout",
     "output_type": "stream",
     "text": [
      "b'Hello, Tensorflow'\n",
      "Hello, Tensorflow\n"
     ]
    }
   ],
   "source": [
    "# tensor = data(상수,변수), 연산 \n",
    "# node1 상수 tensor 선언 \n",
    "node1 = tf.constant('Hello, Tensorflow')\n",
    "\n",
    "# graph(computational graph) 생성 \n",
    "sess = tf.Session()\n",
    "\n",
    "# print(node1) (tensor에 있는 아이를 가져오려면 이렇게 출력하면 안된다.)\n",
    "print(sess.run(node1))\n",
    "print(sess.run(node1).decode())\n",
    "\n",
    "# 결과에 출력된 b는 'byte literal'를 의미 "
   ]
  },
  {
   "cell_type": "code",
   "execution_count": 6,
   "id": "comic-monitoring",
   "metadata": {
    "ExecuteTime": {
     "end_time": "2021-03-28T13:25:39.689148Z",
     "start_time": "2021-03-28T13:25:39.586578Z"
    }
   },
   "outputs": [
    {
     "name": "stdout",
     "output_type": "stream",
     "text": [
      "[10.0, 20.0, 30.0]\n"
     ]
    }
   ],
   "source": [
    "# 간단한 수학 연산 수행(computational graph)\n",
    "node1 = tf.constant(10, dtype=tf.float32) # dtype의 default는 int \n",
    "node2 = tf.constant(20, dtype=tf.float32)\n",
    "node3 = tf.add(node1, node2) # node3 = node1 + node2 \n",
    "\n",
    "# computational graph 실행 \n",
    "sess = tf.Session()\n",
    "print(sess.run([node1, node2, node3])) # 여러개의 node값 한번에 실행하기"
   ]
  },
  {
   "cell_type": "markdown",
   "id": "weird-reaction",
   "metadata": {},
   "source": [
    "**<font size='3'>Tensorflow</font>**\n",
    "<ol>\n",
    "    <li>그래프 정의</li>\n",
    "    <li>sess = if.Session() 실행</li>\n",
    "    <li>sess.run()을 통해 값 확인</li>\n",
    "</ol>"
   ]
  },
  {
   "cell_type": "code",
   "execution_count": 7,
   "id": "downtown-shape",
   "metadata": {
    "ExecuteTime": {
     "end_time": "2021-03-28T13:25:41.470352Z",
     "start_time": "2021-03-28T13:25:41.117749Z"
    }
   },
   "outputs": [
    {
     "name": "stdout",
     "output_type": "stream",
     "text": [
      "[1 2 3]\n",
      "[1. 2. 3.]\n"
     ]
    }
   ],
   "source": [
    "node1 = tf.constant(np.array([1,2,3]), dtype=tf.int16)\n",
    "node2 = tf.cast(node1, dtype=tf.float32) # cast(); 형변환 \n",
    "\n",
    "sess = tf.Session()\n",
    "print(sess.run(node1))\n",
    "print(sess.run(node2))"
   ]
  },
  {
   "cell_type": "code",
   "execution_count": 8,
   "id": "daily-viking",
   "metadata": {
    "ExecuteTime": {
     "end_time": "2021-03-28T13:25:43.373453Z",
     "start_time": "2021-03-28T13:25:43.292464Z"
    }
   },
   "outputs": [
    {
     "name": "stdout",
     "output_type": "stream",
     "text": [
      "2.5\n"
     ]
    }
   ],
   "source": [
    "data = [1., 2., 3., 4.]\n",
    "\n",
    "m = tf.reduce_mean(data) # reduce_mean(); 평균값 \n",
    "sess = tf.Session()\n",
    "print(sess.run(m))"
   ]
  },
  {
   "cell_type": "markdown",
   "id": "dirty-tokyo",
   "metadata": {},
   "source": [
    "# tensorflow v1을 이용한<br> linear regression구현"
   ]
  },
  {
   "cell_type": "markdown",
   "id": "european-pepper",
   "metadata": {},
   "source": [
    "## 독립변수 x가 한 개일 때"
   ]
  },
  {
   "cell_type": "code",
   "execution_count": 9,
   "id": "european-sapphire",
   "metadata": {
    "ExecuteTime": {
     "end_time": "2021-03-28T13:25:47.137096Z",
     "start_time": "2021-03-28T13:25:44.824365Z"
    }
   },
   "outputs": [
    {
     "name": "stdout",
     "output_type": "stream",
     "text": [
      "300번째 cost:0.03809570521116257, W값:[0.77385414], b값:[0.5140827]\n",
      "600번째 cost:0.008989047259092331, W값:[0.89014816], b값:[0.24971913]\n",
      "900번째 cost:0.0021210522390902042, W값:[0.94663876], b값:[0.12130269]\n",
      "1200번째 cost:0.0005004803533665836, W값:[0.97407943], b값:[0.05892355]\n",
      "1500번째 cost:0.0001180933031719178, W값:[0.9874089], b값:[0.02862244]\n",
      "1800번째 cost:2.7864958610734902e-05, W값:[0.9938838], b값:[0.01390349]\n",
      "2100번째 cost:6.574860890395939e-06, W값:[0.99702907], b값:[0.00675365]\n",
      "2400번째 cost:1.5513102198383422e-06, W값:[0.99855685], b값:[0.00328063]\n",
      "2700번째 cost:3.662073595478432e-07, W값:[0.9992988], b값:[0.00159389]\n",
      "3000번째 cost:8.654063066160234e-08, W값:[0.9996591], b값:[0.00077476]\n",
      "3300번째 cost:2.0490501739800493e-08, W값:[0.9998341], b값:[0.00037711]\n",
      "3600번째 cost:4.872056980076422e-09, W값:[0.99991906], b값:[0.00018377]\n",
      "3900번째 cost:1.1558882739848286e-09, W값:[0.9999606], b값:[8.9659065e-05]\n",
      "4200번째 cost:2.784479036233023e-10, W값:[0.99998075], b값:[4.4038094e-05]\n",
      "4500번째 cost:6.511233913153447e-11, W값:[0.9999906], b값:[2.1255728e-05]\n",
      "4800번째 cost:1.890823435324318e-11, W값:[0.9999948], b값:[1.1418825e-05]\n",
      "5100번째 cost:7.987419753385794e-12, W값:[0.99999666], b값:[7.202423e-06]\n",
      "5400번째 cost:4.611058496833964e-12, W값:[0.9999974], b값:[5.402283e-06]\n",
      "5700번째 cost:3.511876553452531e-12, W값:[0.9999977], b값:[4.6603745e-06]\n",
      "6000번째 cost:3.243233155994507e-12, W값:[0.99999774], b값:[4.4908165e-06]\n"
     ]
    }
   ],
   "source": [
    "# <tensor graph 정의하기>\n",
    "\n",
    "# train data set \n",
    "x = [1, 2, 3] # x = np.array([1, 2, 3])\n",
    "y = [1, 2, 3] # y = np.array([1, 2, 3])\n",
    "\n",
    "# Weight & bias (처음엔 랜덤으로 값을 지정, 학습 과정에서 값이 변경될 예정)\n",
    "W = tf.Variable(tf.random.normal([1]), name='weight')\n",
    "b = tf.Variable(tf.random.normal([1]), name='bias')\n",
    "\n",
    "# Hypothesis\n",
    "H = W*x + b\n",
    "\n",
    "# cost function(최소 제곱법)\n",
    "cost = tf.reduce_mean(tf.square(H - y))\n",
    "\n",
    "# 목적: cost 함수가 최소가 되는 W와 b의 값 찾기 \n",
    "\"\"\"cost함수는 제곱의 평균인 2차 함수이므로 곡선이다.\n",
    "   곡선 위의 미분값이 줄어드는 방향으로 학습시킨다.\"\"\"\n",
    "optimizer = tf.train.GradientDescentOptimizer(learning_rate=0.01)\n",
    "                            # learning_rate= ; 얼마씩 줄여갈지 설정\n",
    "train = optimizer.minimize(cost)\n",
    "\n",
    "# Session \n",
    "sess = tf.Session()\n",
    "\n",
    "# Variable 노드 초기화 \n",
    "sess.run(tf.global_variables_initializer())\n",
    "\n",
    "# 6000회 학습 (tensorflow v2, fit() 함수)\n",
    "\"\"\"\n",
    "for step in range(1, 6001):\n",
    "    sess.run(train)\n",
    "    if step%300 == 0:\n",
    "        print(\"{}번째 cost:{}, W값:{}, b값:{}\".format(step, \n",
    "                        sess.run(cost), sess.run(W), sess.run(b)))\n",
    "\"\"\"\n",
    "for step in range(1, 6001):\n",
    "    _, cost_val, W_val, b_val = sess.run([train, cost, W, b])\n",
    "    if step%300 == 0:\n",
    "        print(\"{}번째 cost:{}, W값:{}, b값:{}\".format(step, cost_val,\n",
    "                                                 W_val, b_val))"
   ]
  },
  {
   "cell_type": "code",
   "execution_count": 14,
   "id": "monthly-meditation",
   "metadata": {
    "ExecuteTime": {
     "end_time": "2021-03-27T18:06:53.104898Z",
     "start_time": "2021-03-27T18:06:53.081911Z"
    }
   },
   "outputs": [
    {
     "data": {
      "text/plain": [
       "[array([0.99999774], dtype=float32), array([4.4902276e-06], dtype=float32)]"
      ]
     },
     "execution_count": 14,
     "metadata": {},
     "output_type": "execute_result"
    }
   ],
   "source": [
    "sess.run([W,b])"
   ]
  },
  {
   "cell_type": "code",
   "execution_count": 15,
   "id": "announced-barrier",
   "metadata": {
    "ExecuteTime": {
     "end_time": "2021-03-27T18:07:23.059794Z",
     "start_time": "2021-03-27T18:07:23.043804Z"
    }
   },
   "outputs": [],
   "source": [
    "W_, b_ = sess.run([W, b])"
   ]
  },
  {
   "cell_type": "code",
   "execution_count": 17,
   "id": "directed-consistency",
   "metadata": {
    "ExecuteTime": {
     "end_time": "2021-03-27T18:08:08.563557Z",
     "start_time": "2021-03-27T18:08:08.556562Z"
    }
   },
   "outputs": [
    {
     "name": "stdout",
     "output_type": "stream",
     "text": [
      "최종적으로 나온 회귀식: H=0.9999977350234985*x + 4.490227638598299e-06\n"
     ]
    }
   ],
   "source": [
    "print('최종적으로 나온 회귀식: H={}*x + {}'.format(W_[0], b_[0]))"
   ]
  },
  {
   "cell_type": "code",
   "execution_count": 18,
   "id": "graphic-jackson",
   "metadata": {
    "ExecuteTime": {
     "end_time": "2021-03-27T18:10:06.102877Z",
     "start_time": "2021-03-27T18:10:03.944767Z"
    }
   },
   "outputs": [
    {
     "name": "stdout",
     "output_type": "stream",
     "text": [
      "300번째 cost:3.243232722313638e-12, W값:[1.0359994], b값:[-0.08183521]\n",
      "600번째 cost:3.243232722313638e-12, W값:[1.0174869], b값:[-0.039752]\n",
      "900번째 cost:3.243232722313638e-12, W값:[1.0084944], b값:[-0.01930978]\n",
      "1200번째 cost:3.243232722313638e-12, W값:[1.0041262], b값:[-0.00937975]\n",
      "1500번째 cost:3.243232722313638e-12, W값:[1.0020045], b값:[-0.00455664]\n",
      "1800번째 cost:3.243232722313638e-12, W값:[1.0009742], b값:[-0.00221433]\n",
      "2100번째 cost:3.243232722313638e-12, W값:[1.0004737], b값:[-0.00107706]\n",
      "2400번째 cost:3.243232722313638e-12, W값:[1.0002307], b값:[-0.00052469]\n",
      "2700번째 cost:3.243232722313638e-12, W값:[1.0001128], b값:[-0.0002559]\n",
      "3000번째 cost:3.243232722313638e-12, W값:[1.0000557], b값:[-0.00012562]\n",
      "3300번째 cost:3.243232722313638e-12, W값:[1.0000266], b값:[-6.0417173e-05]\n",
      "3600번째 cost:3.243232722313638e-12, W값:[1.0000137], b값:[-3.0607698e-05]\n",
      "3900번째 cost:3.243232722313638e-12, W값:[1.0000082], b값:[-1.7771283e-05]\n"
     ]
    }
   ],
   "source": [
    "# <tensor graph 정의하기>\n",
    "\n",
    "# train data set \n",
    "x = [1, 2, 3] # x = np.array([1, 2, 3])\n",
    "y = [1, 2, 3] # y = np.array([1, 2, 3])\n",
    "\n",
    "# Weight & bias (처음엔 랜덤으로 값을 지정, 학습 과정에서 값이 변경될 예정)\n",
    "W = tf.Variable(tf.random.normal([1]), name='weight')\n",
    "b = tf.Variable(tf.random.normal([1]), name='bias')\n",
    "\n",
    "# Hypothesis\n",
    "H = W*x + b\n",
    "\n",
    "# cost function(최소 제곱법)\n",
    "cost = tf.reduce_mean(tf.square(H - y))\n",
    "\n",
    "# 목적: cost 함수가 최소가 되는 W와 b의 값 찾기 \n",
    "\"\"\"cost함수는 제곱의 평균인 2차 함수이므로 곡선이다.\n",
    "   곡선 위의 미분값이 줄어드는 방향으로 학습시킨다.\"\"\"\n",
    "optimizer = tf.train.GradientDescentOptimizer(learning_rate=0.01)\n",
    "train = optimizer.minimize(cost)\n",
    "\n",
    "# Session \n",
    "sess = tf.Session()\n",
    "\n",
    "# Variable 노드 초기화 \n",
    "sess.run(tf.global_variables_initializer())\n",
    "\n",
    "# 4000회 학습 (tensorflow v2, fit() 함수)\n",
    "for step in range(1, 4001):\n",
    "    W_val, b_val = sess.run([W, b])\n",
    "    if step%300 == 0:\n",
    "        print(\"{}번째 cost:{}, W값:{}, b값:{}\".format(step, cost_val,\n",
    "                                                 W_val, b_val))\n",
    "    sess.run(train)"
   ]
  },
  {
   "cell_type": "markdown",
   "id": "cubic-horror",
   "metadata": {},
   "source": [
    "## predict를 하기 위한 placeholder 이용 "
   ]
  },
  {
   "cell_type": "code",
   "execution_count": 19,
   "id": "obvious-deputy",
   "metadata": {
    "ExecuteTime": {
     "end_time": "2021-03-27T18:12:27.906238Z",
     "start_time": "2021-03-27T18:12:27.803482Z"
    }
   },
   "outputs": [
    {
     "data": {
      "text/plain": [
       "30.0"
      ]
     },
     "execution_count": 19,
     "metadata": {},
     "output_type": "execute_result"
    }
   ],
   "source": [
    "# placeholder 이용 \n",
    "a = tf.placeholder(tf.float32)\n",
    "b = tf.placeholder(tf.float32)\n",
    "ab = tf.add(a, b) # ab = a + b \n",
    "\n",
    "sess = tf.Session()\n",
    "sess.run(ab, feed_dict={a:10, b:20})"
   ]
  },
  {
   "cell_type": "code",
   "execution_count": 20,
   "id": "spanish-knowing",
   "metadata": {
    "ExecuteTime": {
     "end_time": "2021-03-27T18:13:11.928185Z",
     "start_time": "2021-03-27T18:13:11.911193Z"
    }
   },
   "outputs": [
    {
     "data": {
      "text/plain": [
       "array([11., 12., 13.], dtype=float32)"
      ]
     },
     "execution_count": 20,
     "metadata": {},
     "output_type": "execute_result"
    }
   ],
   "source": [
    "sess.run(ab, feed_dict={a : [1, 2, 3], \n",
    "                        b : [10, 10, 10]})\n",
    "            # feed_dict={ }; 특정 값 할당하기"
   ]
  },
  {
   "cell_type": "code",
   "execution_count": 21,
   "id": "parental-wales",
   "metadata": {
    "ExecuteTime": {
     "end_time": "2021-03-27T18:14:09.800710Z",
     "start_time": "2021-03-27T18:14:09.775727Z"
    }
   },
   "outputs": [
    {
     "data": {
      "text/plain": [
       "array([11., 12., 13.], dtype=float32)"
      ]
     },
     "execution_count": 21,
     "metadata": {},
     "output_type": "execute_result"
    }
   ],
   "source": [
    "sess.run(ab, feed_dict={a : np.array([1, 2, 3]), \n",
    "                        b : np.array([10, 10, 10])})"
   ]
  },
  {
   "cell_type": "code",
   "execution_count": 23,
   "id": "brilliant-government",
   "metadata": {
    "ExecuteTime": {
     "end_time": "2021-03-27T18:15:56.145025Z",
     "start_time": "2021-03-27T18:15:53.219422Z"
    }
   },
   "outputs": [
    {
     "name": "stdout",
     "output_type": "stream",
     "text": [
      "node1값: 10\n",
      "node2값: 20\n",
      "30.0\n"
     ]
    }
   ],
   "source": [
    "# 그래프 실행 단계에서 값 던져주기 \n",
    "node1 = tf.placeholder(tf.float32)\n",
    "node2 = tf.placeholder(tf.float32)\n",
    "adder_note = node1 + node2 \n",
    "\n",
    "sess = tf.Session()\n",
    "result = sess.run(adder_note, feed_dict={node1: input(\"node1값: \"),\n",
    "                                         node2: input(\"node2값: \")})\n",
    "print(result)"
   ]
  },
  {
   "cell_type": "code",
   "execution_count": 24,
   "id": "technical-tobago",
   "metadata": {
    "ExecuteTime": {
     "end_time": "2021-03-27T18:22:56.766877Z",
     "start_time": "2021-03-27T18:22:53.130435Z"
    }
   },
   "outputs": [
    {
     "name": "stdout",
     "output_type": "stream",
     "text": [
      "300번째: cost-0.02330508641898632, W-[2.176879], b-[2.5979123]\n",
      "600번째: cost-0.005499143153429031, W-[2.0859208], b-[2.8046823]\n",
      "900번째: cost-0.0012975538847967982, W-[2.0417364], b-[2.9051237]\n",
      "1200번째: cost-0.0003061626630369574, W-[2.0202737], b-[2.9539135]\n",
      "1500번째: cost-7.224673026939854e-05, W-[2.0098479], b-[2.977613]\n",
      "1800번째: cost-1.704744681774173e-05, W-[2.004784], b-[2.9891248]\n",
      "2100번째: cost-4.024565441795858e-06, W-[2.0023243], b-[2.9947162]\n",
      "2400번째: cost-9.523288895252335e-07, W-[2.0011306], b-[2.99743]\n",
      "2700번째: cost-2.2625954443356022e-07, W-[2.000551], b-[2.9987473]\n",
      "3000번째: cost-5.4236505064864104e-08, W-[2.0002694], b-[2.9993865]\n",
      "3300번째: cost-1.3248079078209685e-08, W-[2.0001335], b-[2.9996974]\n",
      "3600번째: cost-3.024145600605266e-09, W-[2.0000634], b-[2.9998553]\n",
      "3900번째: cost-7.46164630083257e-10, W-[2.0000322], b-[2.9999278]\n",
      "4200번째: cost-4.848364487664014e-10, W-[2.000026], b-[2.999942]\n",
      "4500번째: cost-4.848364487664014e-10, W-[2.000026], b-[2.999942]\n",
      "4800번째: cost-4.848364487664014e-10, W-[2.000026], b-[2.999942]\n",
      "5100번째: cost-4.848364487664014e-10, W-[2.000026], b-[2.999942]\n",
      "5400번째: cost-4.848364487664014e-10, W-[2.000026], b-[2.999942]\n",
      "5700번째: cost-4.848364487664014e-10, W-[2.000026], b-[2.999942]\n",
      "6000번째: cost-4.848364487664014e-10, W-[2.000026], b-[2.999942]\n"
     ]
    }
   ],
   "source": [
    "# training data set (H = 2x + 3)\n",
    "x_data = [1, 2, 3]\n",
    "y_data = [5, 7, 9]\n",
    "\n",
    "# placeholder 설정 \n",
    "x = tf.placeholder(dtype=tf.float32)\n",
    "y = tf.placeholder(dtype=tf.float32)\n",
    "\n",
    "# Weight & bias \n",
    "W = tf.Variable(tf.random_normal([1]), name='Weight')\n",
    "b = tf.Variable(tf.random_normal([1]), name='bias')\n",
    "\n",
    "# Hypothesis\n",
    "H = W*x + b\n",
    "\n",
    "# cost function\n",
    "cost = tf.reduce_mean(tf.square(H - y))\n",
    "\n",
    "# 경사 하강법(GradientDescentOptimizer)\n",
    "optimizer = tf.train.GradientDescentOptimizer(learning_rate=0.01)\n",
    "train = optimizer.minimize(cost)\n",
    "\n",
    "# Session & Variable 초기화 \n",
    "sess = tf.Session()\n",
    "sess.run(tf.global_variables_initializer())\n",
    "\n",
    "# 학습 \n",
    "for step in range(1, 6001):\n",
    "    _, cost_val, W_val, b_val = sess.run([train, cost, W, b],\n",
    "                                 feed_dict={x:x_data, y:y_data})\n",
    "    if step%300 == 0:\n",
    "        print(\"{}번째: cost-{}, W-{}, b-{}\".format(step, cost_val,\n",
    "                                                W_val, b_val))"
   ]
  },
  {
   "cell_type": "code",
   "execution_count": 25,
   "id": "controversial-controversy",
   "metadata": {
    "ExecuteTime": {
     "end_time": "2021-03-27T18:23:21.630053Z",
     "start_time": "2021-03-27T18:23:21.613064Z"
    }
   },
   "outputs": [
    {
     "data": {
      "text/plain": [
       "[array([2.000026], dtype=float32), array([2.999942], dtype=float32)]"
      ]
     },
     "execution_count": 25,
     "metadata": {},
     "output_type": "execute_result"
    }
   ],
   "source": [
    "sess.run([W, b])"
   ]
  },
  {
   "cell_type": "code",
   "execution_count": 26,
   "id": "figured-brain",
   "metadata": {
    "ExecuteTime": {
     "end_time": "2021-03-27T18:23:48.220378Z",
     "start_time": "2021-03-27T18:23:48.199390Z"
    }
   },
   "outputs": [
    {
     "data": {
      "text/plain": [
       "array([13.000072], dtype=float32)"
      ]
     },
     "execution_count": 26,
     "metadata": {},
     "output_type": "execute_result"
    }
   ],
   "source": [
    "# 예측하기 \n",
    "sess.run(H, feed_dict={x:5})"
   ]
  },
  {
   "cell_type": "code",
   "execution_count": 27,
   "id": "broke-equivalent",
   "metadata": {
    "ExecuteTime": {
     "end_time": "2021-03-27T18:24:12.591997Z",
     "start_time": "2021-03-27T18:24:12.570011Z"
    }
   },
   "outputs": [
    {
     "data": {
      "text/plain": [
       "array([ 4.999968, 23.000202, 43.00046 ], dtype=float32)"
      ]
     },
     "execution_count": 27,
     "metadata": {},
     "output_type": "execute_result"
    }
   ],
   "source": [
    "sess.run(H, feed_dict={x:np.array([1,10,20])})"
   ]
  },
  {
   "cell_type": "markdown",
   "id": "raising-clause",
   "metadata": {},
   "source": [
    "## scale이 다른 데이터들의 linear regression 구현"
   ]
  },
  {
   "cell_type": "code",
   "execution_count": 31,
   "id": "simplified-sentence",
   "metadata": {
    "ExecuteTime": {
     "end_time": "2021-03-27T18:31:20.219721Z",
     "start_time": "2021-03-27T18:31:16.917766Z"
    }
   },
   "outputs": [
    {
     "name": "stdout",
     "output_type": "stream",
     "text": [
      "300번째 cost-79.15555572509766, W-[10.1289215]\n",
      "600번째 cost-79.13990783691406, W-[10.154706]\n",
      "900번째 cost-79.13948822021484, W-[10.159004]\n",
      "1200번째 cost-79.13945770263672, W-[10.15972]\n",
      "1500번째 cost-79.13944244384766, W-[10.159841]\n",
      "1800번째 cost-79.13946533203125, W-[10.15986]\n",
      "2100번째 cost-79.13944244384766, W-[10.1598625]\n",
      "2400번째 cost-79.13946533203125, W-[10.1598625]\n",
      "2700번째 cost-79.13946533203125, W-[10.1598625]\n",
      "3000번째 cost-79.13946533203125, W-[10.1598625]\n",
      "3300번째 cost-79.13946533203125, W-[10.1598625]\n",
      "3600번째 cost-79.13946533203125, W-[10.1598625]\n",
      "3900번째 cost-79.13946533203125, W-[10.1598625]\n",
      "4200번째 cost-79.13946533203125, W-[10.1598625]\n",
      "4500번째 cost-79.13946533203125, W-[10.1598625]\n",
      "4800번째 cost-79.13946533203125, W-[10.1598625]\n",
      "5100번째 cost-79.13946533203125, W-[10.1598625]\n",
      "5400번째 cost-79.13946533203125, W-[10.1598625]\n",
      "5700번째 cost-79.13946533203125, W-[10.1598625]\n",
      "6000번째 cost-79.13946533203125, W-[10.1598625]\n"
     ]
    }
   ],
   "source": [
    "# <data scale이 다르면 학습 결과가 어떻게 나타날까?> \n",
    "\n",
    "# train data set \n",
    "x_data = [1, 2, 5, 8, 10]\n",
    "y_data = [5, 15, 68, 80, 95]\n",
    "\n",
    "# placeholder\n",
    "x = tf.placeholder(dtype=tf.float32, shape=None)\n",
    "y = tf.placeholder(dtype=tf.float32, shape=None)\n",
    "                        # shape=None: 어떤 형태의 shape이든 들어올 수 있음\n",
    "# Weight & bias \n",
    "W = tf.Variable(tf.random_normal([1]), name='Weight')\n",
    "b = tf.Variable(tf.random_normal([1]), name='bias')\n",
    "\n",
    "# Hypothesis\n",
    "H = W*x + b\n",
    "\n",
    "# cost function\n",
    "cost = tf.reduce_mean(tf.square(H - y))\n",
    "\n",
    "# train\n",
    "train = tf.train.GradientDescentOptimizer(learning_rate=0.01).minimize(cost)\n",
    "\n",
    "# Session & Variable 초기화 \n",
    "sess = tf.Session()\n",
    "sess.run(tf.global_variables_initializer())\n",
    "\n",
    "# 학습 \n",
    "for step in range(1, 6001):\n",
    "    _, cost_val, W_val = sess.run([train, cost, W], \n",
    "                                 feed_dict={x:x_data, y:y_data})\n",
    "    if step%300 == 0:\n",
    "        print(\"{}번째 cost-{}, W-{}\".format(step, cost_val, W_val))"
   ]
  },
  {
   "cell_type": "code",
   "execution_count": 32,
   "id": "available-silver",
   "metadata": {
    "ExecuteTime": {
     "end_time": "2021-03-27T18:31:32.357082Z",
     "start_time": "2021-03-27T18:31:32.330097Z"
    }
   },
   "outputs": [
    {
     "data": {
      "text/plain": [
       "[array([10.1598625], dtype=float32), array([-0.23128368], dtype=float32)]"
      ]
     },
     "execution_count": 32,
     "metadata": {},
     "output_type": "execute_result"
    }
   ],
   "source": [
    "sess.run([W,b])"
   ]
  },
  {
   "cell_type": "code",
   "execution_count": 33,
   "id": "trying-diploma",
   "metadata": {
    "ExecuteTime": {
     "end_time": "2021-03-27T18:32:22.846993Z",
     "start_time": "2021-03-27T18:32:22.827006Z"
    }
   },
   "outputs": [
    {
     "data": {
      "text/plain": [
       "array([101.36734], dtype=float32)"
      ]
     },
     "execution_count": 33,
     "metadata": {},
     "output_type": "execute_result"
    }
   ],
   "source": [
    "# 예측 가능하지만, cost값이 너무 커서 신뢰할 수 없다. \n",
    "sess.run(H, feed_dict={x:10})"
   ]
  },
  {
   "cell_type": "code",
   "execution_count": null,
   "id": "mediterranean-plain",
   "metadata": {
    "ExecuteTime": {
     "end_time": "2021-03-27T18:33:21.682376Z",
     "start_time": "2021-03-27T18:33:21.668385Z"
    }
   },
   "outputs": [],
   "source": [
    "\"\"\"\n",
    "예측이 제대로 되지 않는 이유: \n",
    "    GradientDescentOptimizer에서 local최소값을 만나면\n",
    "    global 최소값이 따로 있어도 멈춘다.\n",
    "\"\"\""
   ]
  },
  {
   "cell_type": "markdown",
   "id": "powered-shadow",
   "metadata": {},
   "source": [
    "## 독립변수가 여러개일 때 "
   ]
  },
  {
   "cell_type": "code",
   "execution_count": 35,
   "id": "contrary-irish",
   "metadata": {
    "ExecuteTime": {
     "end_time": "2021-03-27T18:43:41.469058Z",
     "start_time": "2021-03-27T18:43:13.018317Z"
    }
   },
   "outputs": [
    {
     "name": "stdout",
     "output_type": "stream",
     "text": [
      "3000번째 cost:12.533061027526855\n",
      "6000번째 cost:2.7006354331970215\n",
      "9000번째 cost:0.7535428404808044\n",
      "12000번째 cost:0.3593690097332001\n",
      "15000번째 cost:0.27221518754959106\n",
      "18000번째 cost:0.24675604701042175\n",
      "21000번째 cost:0.23457011580467224\n",
      "24000번째 cost:0.22595545649528503\n",
      "27000번째 cost:0.2188839465379715\n",
      "30000번째 cost:0.21283037960529327\n",
      "33000번째 cost:0.20763273537158966\n",
      "36000번째 cost:0.20312456786632538\n",
      "39000번째 cost:0.19923783838748932\n",
      "42000번째 cost:0.1958637684583664\n",
      "45000번째 cost:0.19294768571853638\n",
      "48000번째 cost:0.19042253494262695\n",
      "51000번째 cost:0.18823452293872833\n",
      "54000번째 cost:0.18634726107120514\n",
      "57000번째 cost:0.1847022920846939\n",
      "60000번째 cost:0.1832733154296875\n"
     ]
    }
   ],
   "source": [
    "# training data set \n",
    "x_data = np.array([[73,80,75],\n",
    "                   [93,88,93],\n",
    "                   [89,91,90],\n",
    "                   [96,98,100],\n",
    "                   [73,66,70]])\n",
    "y_data = np.array([[152],\n",
    "                   [185],\n",
    "                   [180],\n",
    "                   [196],\n",
    "                   [142]])\n",
    "# x_data = [[73,80,75],\n",
    "#           [93,88,93],\n",
    "#           [89,91,90],\n",
    "#           [96,98,100],\n",
    "#           [73,66,70]]\n",
    "# y_data = [[152],[185],[180],[196],[142]]\n",
    "\n",
    "# placeholder  \n",
    "X = tf.placeholder(shape=[None, 3], dtype=tf.float32)\n",
    "Y = tf.placeholder(shape=[None, 1], dtype=tf.float32)\n",
    "\n",
    "# Weight & bias \n",
    "W = tf.Variable(tf.random.normal([3,1]), name='Weight')\n",
    "b = tf.Variable(tf.random.normal([1]), name='bias')\n",
    "\n",
    "# Hypothesis\n",
    "H = tf.matmul(X, W) + b # 행렬의 곱  H = X @ W + b\n",
    "\n",
    "# cost function\n",
    "cost = tf.reduce_mean(tf.square(H - Y))\n",
    "\n",
    "# train (경사하강법)\n",
    "train = tf.train.GradientDescentOptimizer(learning_rate=1e-5).minimize(cost)\n",
    "\n",
    "# Session & Variable 초기화 \n",
    "sess = tf.Session()\n",
    "sess.run(tf.global_variables_initializer())\n",
    "\n",
    "# 학습 \n",
    "for step in range(1, 60001):\n",
    "    _, cost_val = sess.run([train, cost], \n",
    "                          feed_dict={X:x_data, Y:y_data})\n",
    "    if step%3000 == 0:\n",
    "        print(\"{}번째 cost:{}\".format(step, cost_val))"
   ]
  },
  {
   "cell_type": "markdown",
   "id": "metric-fountain",
   "metadata": {},
   "source": [
    "# 예제 - 'Ozone량  예측하기'"
   ]
  },
  {
   "cell_type": "code",
   "execution_count": 10,
   "id": "creative-teacher",
   "metadata": {
    "ExecuteTime": {
     "end_time": "2021-03-28T13:25:56.317804Z",
     "start_time": "2021-03-28T13:25:56.308811Z"
    }
   },
   "outputs": [],
   "source": [
    "import tensorflow.compat.v1 as tf\n",
    "tf.disable_v2_behavior() \n",
    "import numpy as np \n",
    "import pandas as pd # 결측치 처리 "
   ]
  },
  {
   "cell_type": "code",
   "execution_count": 11,
   "id": "confidential-average",
   "metadata": {
    "ExecuteTime": {
     "end_time": "2021-03-28T13:26:24.132184Z",
     "start_time": "2021-03-28T13:25:59.048723Z"
    }
   },
   "outputs": [
    {
     "name": "stdout",
     "output_type": "stream",
     "text": [
      "3000번째 cost: 495.75042724609375\n",
      "6000번째 cost: 467.73004150390625\n",
      "9000번째 cost: 464.4232177734375\n",
      "12000번째 cost: 464.0105895996094\n",
      "15000번째 cost: 463.9368591308594\n",
      "18000번째 cost: 463.90289306640625\n",
      "21000번째 cost: 463.8736267089844\n",
      "24000번째 cost: 463.84490966796875\n",
      "27000번째 cost: 463.81634521484375\n",
      "30000번째 cost: 463.7877502441406\n",
      "33000번째 cost: 463.75921630859375\n",
      "36000번째 cost: 463.7306823730469\n",
      "39000번째 cost: 463.7021484375\n",
      "42000번째 cost: 463.67364501953125\n",
      "45000번째 cost: 463.6451721191406\n",
      "48000번째 cost: 463.6167297363281\n",
      "51000번째 cost: 463.58837890625\n",
      "54000번째 cost: 463.5599670410156\n",
      "57000번째 cost: 463.5317077636719\n",
      "60000번째 cost: 463.5032958984375\n"
     ]
    }
   ],
   "source": [
    "# <training data set> \n",
    "#  : data load -> 결측치 처리 -> 독립변수, 종속변수 분리 \n",
    "data = pd.read_csv('./data/ozone.csv', sep=',') # data load \n",
    "\n",
    "data = data.dropna(how='any') # 결측치가 한 열이라도 있는 행의 전체를 제거\n",
    "data = data[['Ozone', 'Solar.R', 'Wind', 'Temp']] # 필요한 column만 추출 \n",
    "\n",
    "x_data = data[['Solar.R', 'Wind', 'Temp']].values \n",
    "                                # DataFrame -> Numpy Array\n",
    "y_data = data[['Ozone']].values.reshape(-1,1) \n",
    "                                # -1:None / 시리즈를 2차원으로\n",
    "x_data.shape, y_data.shape\n",
    "\n",
    "# <tensorflow 구현>\n",
    "# 1. placeholder \n",
    "X = tf.placeholder(shape=[None,3], dtype=tf.float32)\n",
    "Y = tf.placeholder(shape=[None,1], dtype=tf.float32)\n",
    "\n",
    "# 2. Weight & bias \n",
    "W = tf.Variable(tf.random_normal([3,1]), name='Weight')\n",
    "b = tf.Variable(tf.random_normal([1]), name='bias')\n",
    "\n",
    "# 3. Hypothesis \n",
    "H = tf.matmul(X, W) + b \n",
    "\n",
    "# 4. cost 함수 \n",
    "cost = tf.reduce_mean(tf.square(H - Y))\n",
    "\n",
    "# 5. train\n",
    "train = tf.train.GradientDescentOptimizer(learning_rate=1e-5).minimize(cost)\n",
    "\n",
    "# 6. Session & 초기화 \n",
    "sess = tf.Session()\n",
    "sess.run(tf.global_variables_initializer())\n",
    "\n",
    "# 7. 학습 \n",
    "for step in range(1, 60001):\n",
    "    _, cost_val = sess.run([train, cost],\n",
    "                          feed_dict={X:x_data, Y:y_data})\n",
    "    if step%3000 == 0:\n",
    "        print(\"{}번째 cost: {}\".format(step, cost_val))\n",
    "        \n",
    "        # (cost값이 커서 예측하는 의미가 별로 없다.)"
   ]
  },
  {
   "cell_type": "code",
   "execution_count": 14,
   "id": "raised-consciousness",
   "metadata": {
    "ExecuteTime": {
     "end_time": "2021-03-28T12:45:06.923497Z",
     "start_time": "2021-03-28T12:45:06.897513Z"
    }
   },
   "outputs": [
    {
     "data": {
      "text/html": [
       "<div>\n",
       "<style scoped>\n",
       "    .dataframe tbody tr th:only-of-type {\n",
       "        vertical-align: middle;\n",
       "    }\n",
       "\n",
       "    .dataframe tbody tr th {\n",
       "        vertical-align: top;\n",
       "    }\n",
       "\n",
       "    .dataframe thead th {\n",
       "        text-align: right;\n",
       "    }\n",
       "</style>\n",
       "<table border=\"1\" class=\"dataframe\">\n",
       "  <thead>\n",
       "    <tr style=\"text-align: right;\">\n",
       "      <th></th>\n",
       "      <th>Ozone</th>\n",
       "      <th>Solar.R</th>\n",
       "      <th>Wind</th>\n",
       "      <th>Temp</th>\n",
       "    </tr>\n",
       "  </thead>\n",
       "  <tbody>\n",
       "    <tr>\n",
       "      <th>1</th>\n",
       "      <td>36.0</td>\n",
       "      <td>118.0</td>\n",
       "      <td>8.0</td>\n",
       "      <td>72</td>\n",
       "    </tr>\n",
       "  </tbody>\n",
       "</table>\n",
       "</div>"
      ],
      "text/plain": [
       "   Ozone  Solar.R  Wind  Temp\n",
       "1   36.0    118.0   8.0    72"
      ]
     },
     "execution_count": 14,
     "metadata": {},
     "output_type": "execute_result"
    }
   ],
   "source": [
    "data[1:2]"
   ]
  },
  {
   "cell_type": "code",
   "execution_count": 10,
   "id": "minus-vietnam",
   "metadata": {
    "ExecuteTime": {
     "end_time": "2021-03-28T12:43:05.334378Z",
     "start_time": "2021-03-28T12:43:05.017246Z"
    }
   },
   "outputs": [
    {
     "data": {
      "text/plain": [
       "array([[41.62213]], dtype=float32)"
      ]
     },
     "execution_count": 10,
     "metadata": {},
     "output_type": "execute_result"
    }
   ],
   "source": [
    "sess.run(H, feed_dict={X:np.array([[118,8,72]])})"
   ]
  },
  {
   "cell_type": "code",
   "execution_count": 16,
   "id": "relevant-psychiatry",
   "metadata": {
    "ExecuteTime": {
     "end_time": "2021-03-28T12:45:28.569985Z",
     "start_time": "2021-03-28T12:45:28.551997Z"
    }
   },
   "outputs": [],
   "source": [
    "# scale 맞추는 방법 : normalization(많이 씀), standardization(표준화)\n",
    "\n",
    "#                   X - Xmin\n",
    "# normalization = ──────────────\n",
    "#                  Xmax - Xmin\n",
    "\n",
    "# 위의 식을 써도 되지만 라이브러리를 씀(sklearn.preprocessing.MinMaxScaler 이용)\n",
    "\n",
    "#                    x - Xmean(평균)\n",
    "# standardization = ────────────────\n",
    "#                     Xstd(표준편차)\n",
    "\n",
    "# 의 식을 써도 되지만 라이브러리 씀(sklearn.preprocessing.StandardScaler 이용)"
   ]
  },
  {
   "cell_type": "markdown",
   "id": "numerous-whole",
   "metadata": {},
   "source": [
    "**scale 조정(standardization 구하는 식 이용)**"
   ]
  },
  {
   "cell_type": "code",
   "execution_count": 12,
   "id": "neural-cooler",
   "metadata": {
    "ExecuteTime": {
     "end_time": "2021-03-28T13:26:50.043111Z",
     "start_time": "2021-03-28T13:26:24.365040Z"
    }
   },
   "outputs": [
    {
     "name": "stdout",
     "output_type": "stream",
     "text": [
      " 3000번째 cost: 5.2090535163879395\n",
      " 6000번째 cost: 4.537680149078369\n",
      " 9000번째 cost: 3.96577525138855\n",
      "12000번째 cost: 3.4778406620025635\n",
      "15000번째 cost: 3.060908079147339\n",
      "18000번째 cost: 2.704092264175415\n",
      "21000번째 cost: 2.398242473602295\n",
      "24000번째 cost: 2.135667085647583\n",
      "27000번째 cost: 1.9098984003067017\n",
      "30000번째 cost: 1.7154570817947388\n",
      "33000번째 cost: 1.5477349758148193\n",
      "36000번째 cost: 1.402834177017212\n",
      "39000번째 cost: 1.2774534225463867\n",
      "42000번째 cost: 1.1687963008880615\n",
      "45000번째 cost: 1.0744848251342773\n",
      "48000번째 cost: 0.9925041794776917\n",
      "51000번째 cost: 0.9211314916610718\n",
      "54000번째 cost: 0.8589054346084595\n",
      "57000번째 cost: 0.804572343826294\n",
      "60000번째 cost: 0.7570645213127136\n"
     ]
    }
   ],
   "source": [
    "# <training data set> \n",
    "#  : data load -> 결측치 처리 -> 독립변수, 종속변수 분리 \n",
    "data = pd.read_csv('./data/ozone.csv', sep=',') # data load \n",
    "\n",
    "data = data.dropna(how='any') \n",
    "data = data[['Ozone', 'Solar.R', 'Wind', 'Temp']]  \n",
    "\n",
    "# scale 조정 (standardization)\n",
    "#                    x - Xmean(평균)\n",
    "# standardization = ────────────────\n",
    "#                     Xstd(표준편차)\n",
    "\n",
    "data['Ozone'] = (data['Ozone'] - data['Ozone'].mean()) / data['Ozone'].std()\n",
    "data['Solar.R'] = (data['Solar.R'] - data['Solar.R'].mean()) / data['Solar.R'].std()\n",
    "data['Wind'] = (data['Wind'] - data['Wind'].mean()) / data['Wind'].std()\n",
    "data['Temp'] = (data['Temp'] - data['Temp'].mean()) / data['Temp'].std()\n",
    "\n",
    "x_data = data[['Solar.R', 'Wind', 'Temp']].values \n",
    "y_data = data[['Ozone']].values.reshape(-1,1)                         \n",
    "x_data.shape, y_data.shape\n",
    "\n",
    "# <tensorflow 구현>\n",
    "# 1. placeholder \n",
    "X = tf.placeholder(shape=[None,3], dtype=tf.float32)\n",
    "Y = tf.placeholder(shape=[None,1], dtype=tf.float32)\n",
    "\n",
    "# 2. Weight & bias \n",
    "W = tf.Variable(tf.random_normal([3,1]), name='Weight')\n",
    "b = tf.Variable(tf.random_normal([1]), name='bias')\n",
    "\n",
    "# 3. Hypothesis \n",
    "H = tf.matmul(X, W) + b \n",
    "\n",
    "# 4. cost 함수 \n",
    "cost = tf.reduce_mean(tf.square(H - Y))\n",
    "\n",
    "# 5. train\n",
    "train = tf.train.GradientDescentOptimizer(learning_rate=1e-5).minimize(cost)\n",
    "\n",
    "# 6. Session & 초기화 \n",
    "sess = tf.Session()\n",
    "sess.run(tf.global_variables_initializer())\n",
    "\n",
    "# 7. 학습 \n",
    "for step in range(1, 60001):\n",
    "    _, cost_val = sess.run([train, cost],\n",
    "                          feed_dict={X:x_data, Y:y_data})\n",
    "    if step%3000 == 0:\n",
    "        print(\"{:5d}번째 cost: {}\".format(step, cost_val))"
   ]
  },
  {
   "cell_type": "code",
   "execution_count": 18,
   "id": "metallic-presence",
   "metadata": {
    "ExecuteTime": {
     "end_time": "2021-03-28T12:57:16.571117Z",
     "start_time": "2021-03-28T12:57:16.564122Z"
    }
   },
   "outputs": [],
   "source": [
    "# predict 하려면 scale이 맞춰진 데이터로 predict를 하고 결과를 다시 scale조정"
   ]
  },
  {
   "cell_type": "markdown",
   "id": "incorporate-barrier",
   "metadata": {},
   "source": [
    "**위의 식들을 이용하여 scale맞추기(MinMaxScaler class 이용)**"
   ]
  },
  {
   "cell_type": "code",
   "execution_count": 26,
   "id": "filled-planet",
   "metadata": {
    "ExecuteTime": {
     "end_time": "2021-03-28T13:22:17.014856Z",
     "start_time": "2021-03-28T13:21:48.198706Z"
    }
   },
   "outputs": [
    {
     "name": "stdout",
     "output_type": "stream",
     "text": [
      "scale 조정 전 데이터: \n",
      " [[190.    7.4  67.   41. ]\n",
      " [118.    8.   72.   36. ]\n",
      " [149.   12.6  74.   12. ]]\n",
      "scale 조정 후 데이터: \n",
      " [[0.55963303 0.27717391 0.25       0.23952096]\n",
      " [0.33944954 0.30978261 0.375      0.20958084]\n",
      " [0.43425076 0.55978261 0.425      0.06586826]]\n",
      " 3000번째 cost: 1.0377060174942017\n",
      " 6000번째 cost: 0.9085233807563782\n",
      " 9000번째 cost: 0.8033769130706787\n",
      "12000번째 cost: 0.7176858186721802\n",
      "15000번째 cost: 0.6477457284927368\n",
      "18000번째 cost: 0.5905581116676331\n",
      "21000번째 cost: 0.5436930060386658\n",
      "24000번째 cost: 0.5051939487457275\n",
      "27000번째 cost: 0.47346144914627075\n",
      "30000번째 cost: 0.44722163677215576\n",
      "33000번째 cost: 0.42542266845703125\n",
      "36000번째 cost: 0.4072275161743164\n",
      "39000번째 cost: 0.39194583892822266\n",
      "42000번째 cost: 0.37904149293899536\n",
      "45000번째 cost: 0.36805835366249084\n",
      "48000번째 cost: 0.3586338460445404\n",
      "51000번째 cost: 0.3504750728607178\n",
      "54000번째 cost: 0.34334906935691833\n",
      "57000번째 cost: 0.33706557750701904\n",
      "60000번째 cost: 0.3314588665962219\n"
     ]
    }
   ],
   "source": [
    "# <training data set> \n",
    "#  : data load -> 결측치 처리 -> 독립변수, 종속변수 분리 \n",
    "data = pd.read_csv('./data/ozone.csv', sep=',') # data load \n",
    "\n",
    "data = data.dropna(how='any') \n",
    "data = data[['Ozone', 'Solar.R', 'Wind', 'Temp']]  \n",
    "\n",
    "x_data = data[['Solar.R', 'Wind', 'Temp']].values \n",
    "y_data = data[['Ozone']].values.reshape(-1,1)                         \n",
    "x_data.shape, y_data.shape\n",
    "\n",
    "\n",
    "print('scale 조정 전 데이터: \\n', np.c_[x_data[:3], y_data[:3]])\n",
    "###############################################################\n",
    "# scale 조정 (1) \n",
    "from sklearn.preprocessing import MinMaxScaler\n",
    "scale_x = MinMaxScaler() # x_data를 scale 조정할 객체 \n",
    "# x_data에 대한 설정을 잡는 부분: x_data의 컬럼들에 대한 max, min 설정 \n",
    "scale_x.fit(x_data)\n",
    "x_data = scale_x.transform(x_data) # scale 조정된 x_data\n",
    "\n",
    "scale_y = MinMaxScaler()\n",
    "scale_y.fit(y_data)\n",
    "y_data = scale_y.transform(y_data)\n",
    "\n",
    "print('scale 조정 후 데이터: \\n', np.c_[x_data[:3], y_data[:3]])\n",
    "################################################################\n",
    "# <tensorflow 구현>\n",
    "# 1. placeholder \n",
    "X = tf.placeholder(shape=[None,3], dtype=tf.float32)\n",
    "Y = tf.placeholder(shape=[None,1], dtype=tf.float32)\n",
    "\n",
    "# 2. Weight & bias \n",
    "W = tf.Variable(tf.random_normal([3,1]), name='Weight')\n",
    "b = tf.Variable(tf.random_normal([1]), name='bias')\n",
    "\n",
    "# 3. Hypothesis \n",
    "H = tf.matmul(X, W) + b \n",
    "\n",
    "# 4. cost 함수 \n",
    "cost = tf.reduce_mean(tf.square(H - Y))\n",
    "\n",
    "# 5. train\n",
    "train = tf.train.GradientDescentOptimizer(learning_rate=1e-5).minimize(cost)\n",
    "\n",
    "# 6. Session & 초기화 \n",
    "sess = tf.Session()\n",
    "sess.run(tf.global_variables_initializer())\n",
    "\n",
    "# 7. 학습 \n",
    "for step in range(1, 60001):\n",
    "    _, cost_val = sess.run([train, cost],\n",
    "                          feed_dict={X:x_data, Y:y_data})\n",
    "    if step%3000 == 0:\n",
    "        print(\"{:5d}번째 cost: {}\".format(step, cost_val))"
   ]
  },
  {
   "cell_type": "code",
   "execution_count": 21,
   "id": "fossil-treasury",
   "metadata": {
    "ExecuteTime": {
     "end_time": "2021-03-28T13:07:33.268490Z",
     "start_time": "2021-03-28T13:07:33.251500Z"
    }
   },
   "outputs": [],
   "source": [
    "# 8. 예측\n",
    "input_data = np.array([[118., 8., 72.]])"
   ]
  },
  {
   "cell_type": "code",
   "execution_count": 22,
   "id": "everyday-syria",
   "metadata": {
    "ExecuteTime": {
     "end_time": "2021-03-28T13:08:31.075561Z",
     "start_time": "2021-03-28T13:08:31.066567Z"
    }
   },
   "outputs": [
    {
     "name": "stdout",
     "output_type": "stream",
     "text": [
      "원 데이터:  [[118.   8.  72.]]\n",
      "scale 조정된 데이터:  [[0.33944954 0.30978261 0.375     ]]\n"
     ]
    }
   ],
   "source": [
    "scale_input_data = scale_x.transform(input_data)\n",
    "print(\"원 데이터: \", input_data)\n",
    "print(\"scale 조정된 데이터: \", scale_input_data)"
   ]
  },
  {
   "cell_type": "code",
   "execution_count": 23,
   "id": "aggregate-filling",
   "metadata": {
    "ExecuteTime": {
     "end_time": "2021-03-28T13:09:14.262896Z",
     "start_time": "2021-03-28T13:09:14.237914Z"
    }
   },
   "outputs": [
    {
     "data": {
      "text/plain": [
       "array([[32.339428]], dtype=float32)"
      ]
     },
     "execution_count": 23,
     "metadata": {},
     "output_type": "execute_result"
    }
   ],
   "source": [
    "predict_value = sess.run(H, feed_dict={X:scale_input_data})\n",
    "scale_y.inverse_transform(predict_value) # scale 조정된 값 다시 원래대로"
   ]
  },
  {
   "cell_type": "markdown",
   "id": "animated-sauce",
   "metadata": {},
   "source": [
    "**scale조정(StandardScaler class 이용)**"
   ]
  },
  {
   "cell_type": "code",
   "execution_count": 13,
   "id": "atomic-revelation",
   "metadata": {
    "ExecuteTime": {
     "end_time": "2021-03-28T13:27:19.383757Z",
     "start_time": "2021-03-28T13:26:50.690144Z"
    }
   },
   "outputs": [
    {
     "name": "stdout",
     "output_type": "stream",
     "text": [
      "scale 조정 전 데이터: \n",
      " [[ 0.05702761 -0.71384046 -1.13251078 -0.03302982]\n",
      " [-0.73285918 -0.5451928  -0.60785011 -0.1832884 ]\n",
      " [-0.39276904  0.74777257 -0.39798584 -0.90452961]]\n",
      "scale 조정 후 데이터: \n",
      " [[ 0.05728624 -0.71707784 -1.13764691 -0.03317961]\n",
      " [-0.73618283 -0.54766534 -0.61060682 -0.18411965]\n",
      " [-0.39455031  0.75116384 -0.39979078 -0.90863181]]\n",
      " 3000번째 cost: 484.01116943359375\n",
      " 6000번째 cost: 466.8943786621094\n",
      " 9000번째 cost: 464.8641052246094\n",
      "12000번째 cost: 464.6003723144531\n",
      "15000번째 cost: 464.5436706542969\n",
      "18000번째 cost: 464.51129150390625\n",
      "21000번째 cost: 464.48162841796875\n",
      "24000번째 cost: 464.4523010253906\n",
      "27000번째 cost: 464.4231872558594\n",
      "30000번째 cost: 464.39398193359375\n",
      "33000번째 cost: 464.3649597167969\n",
      "36000번째 cost: 464.33587646484375\n",
      "39000번째 cost: 464.3067932128906\n",
      "42000번째 cost: 464.2778015136719\n",
      "45000번째 cost: 464.24871826171875\n",
      "48000번째 cost: 464.2198181152344\n",
      "51000번째 cost: 464.1907958984375\n",
      "54000번째 cost: 464.1618347167969\n",
      "57000번째 cost: 464.1329650878906\n",
      "60000번째 cost: 464.1040954589844\n"
     ]
    }
   ],
   "source": [
    "# <training data set> \n",
    "#  : data load -> 결측치 처리 -> 독립변수, 종속변수 분리 \n",
    "data = pd.read_csv('./data/ozone.csv', sep=',') # data load \n",
    "\n",
    "data = data.dropna(how='any') \n",
    "data = data[['Ozone', 'Solar.R', 'Wind', 'Temp']]  \n",
    "\n",
    "print('scale 조정 전 데이터: \\n', np.c_[x_data[:3], y_data[:3]])\n",
    "################################################################\n",
    "# scale 조정 (2)\n",
    "from sklearn.preprocessing import StandardScaler\n",
    "scaler_x = StandardScaler()\n",
    "scaler_x.fit(x_data)\n",
    "x_data = scaler_x.transform(x_data)\n",
    "\n",
    "scaler_y = StandardScaler()\n",
    "scaler_y.fit(y_data)\n",
    "y_data = scaler_y.transform(y_data)\n",
    "\n",
    "print('scale 조정 후 데이터: \\n', np.c_[x_data[:3], y_data[:3]])\n",
    "#################################################################\n",
    "\n",
    "x_data = data[['Solar.R', 'Wind', 'Temp']].values \n",
    "y_data = data[['Ozone']].values.reshape(-1,1)                         \n",
    "\n",
    "# <tensorflow 구현>\n",
    "# 1. placeholder \n",
    "X = tf.placeholder(shape=[None,3], dtype=tf.float32)\n",
    "Y = tf.placeholder(shape=[None,1], dtype=tf.float32)\n",
    "\n",
    "# 2. Weight & bias \n",
    "W = tf.Variable(tf.random_normal([3,1]), name='Weight')\n",
    "b = tf.Variable(tf.random_normal([1]), name='bias')\n",
    "\n",
    "# 3. Hypothesis \n",
    "H = tf.matmul(X, W) + b \n",
    "\n",
    "# 4. cost 함수 \n",
    "cost = tf.reduce_mean(tf.square(H - Y))\n",
    "\n",
    "# 5. train\n",
    "train = tf.train.GradientDescentOptimizer(learning_rate=1e-5).minimize(cost)\n",
    "\n",
    "# 6. Session & 초기화 \n",
    "sess = tf.Session()\n",
    "sess.run(tf.global_variables_initializer())\n",
    "\n",
    "# 7. 학습 \n",
    "for step in range(1, 60001):\n",
    "    _, cost_val = sess.run([train, cost],\n",
    "                          feed_dict={X:x_data, Y:y_data})\n",
    "    if step%3000 == 0:\n",
    "        print(\"{:5d}번째 cost: {}\".format(step, cost_val))"
   ]
  },
  {
   "cell_type": "code",
   "execution_count": 17,
   "id": "blank-laundry",
   "metadata": {
    "ExecuteTime": {
     "end_time": "2021-03-28T13:35:32.097896Z",
     "start_time": "2021-03-28T13:35:32.071912Z"
    }
   },
   "outputs": [
    {
     "data": {
      "text/plain": [
       "array([[41.605534]], dtype=float32)"
      ]
     },
     "execution_count": 17,
     "metadata": {},
     "output_type": "execute_result"
    }
   ],
   "source": [
    "input_data = np.array([[118., 8., 72.]])\n",
    "scaled_input_data = scaler_x.transform(input_data)\n",
    "scaler_y.inverse_transform(sess.run(H, feed_dict={X:scaled_input_data}))"
   ]
  },
  {
   "cell_type": "code",
   "execution_count": 15,
   "id": "suitable-potato",
   "metadata": {
    "ExecuteTime": {
     "end_time": "2021-03-28T13:34:22.390143Z",
     "start_time": "2021-03-28T13:34:22.376154Z"
    }
   },
   "outputs": [
    {
     "data": {
      "text/plain": [
       "[array([[ 0.06307199],\n",
       "        [-4.602812  ],\n",
       "        [ 0.9835558 ]], dtype=float32),\n",
       " array([0.17028691], dtype=float32)]"
      ]
     },
     "execution_count": 15,
     "metadata": {},
     "output_type": "execute_result"
    }
   ],
   "source": [
    "sess.run([W, b])"
   ]
  },
  {
   "cell_type": "markdown",
   "id": "handed-snowboard",
   "metadata": {},
   "source": [
    "# Logistic Regression(Binary Classification) \n",
    ": 2개 그룹 "
   ]
  },
  {
   "cell_type": "code",
   "execution_count": 19,
   "id": "aggregate-devices",
   "metadata": {
    "ExecuteTime": {
     "end_time": "2021-03-28T13:40:52.542508Z",
     "start_time": "2021-03-28T13:40:47.186613Z"
    }
   },
   "outputs": [
    {
     "name": "stdout",
     "output_type": "stream",
     "text": [
      "w값은  0.1292517006802721 b값은  -0.27210884353741505\n"
     ]
    },
    {
     "data": {
      "text/plain": [
       "[<matplotlib.lines.Line2D at 0x1d516ef22e0>]"
      ]
     },
     "execution_count": 19,
     "metadata": {},
     "output_type": "execute_result"
    },
    {
     "data": {
      "image/png": "[encoded data removed]",
      "text/plain": [
       "<Figure size 432x288 with 1 Axes>"
      ]
     },
     "metadata": {
      "needs_background": "light"
     },
     "output_type": "display_data"
    }
   ],
   "source": [
    "# logistic Regression이 필요한 이유\n",
    "# (기존의 linear regression으로는 안 되는 이유)\n",
    "import numpy as np\n",
    "import matplotlib.pyplot as plt\n",
    "from scipy import stats # 회귀식 도출\n",
    "\n",
    "x = np.array([1,2,5,8,10]) # 공부 시간 \n",
    "y = np.array([0,0,0,1,1])  # 0: fail / 1: pass \n",
    "lm = stats.linregress(x, y)\n",
    "print('w값은 ', lm[0], 'b값은 ', lm[1])\n",
    "\n",
    "plt.scatter(x, y)\n",
    "plt.plot(x, x*lm[0]+lm[1], 'r')"
   ]
  },
  {
   "cell_type": "code",
   "execution_count": 20,
   "id": "cubic-operations",
   "metadata": {
    "ExecuteTime": {
     "end_time": "2021-03-28T13:42:05.279502Z",
     "start_time": "2021-03-28T13:42:04.937844Z"
    }
   },
   "outputs": [
    {
     "name": "stdout",
     "output_type": "stream",
     "text": [
      "w값은  0.035005834305717624 b값은  0.17327887981330214\n"
     ]
    },
    {
     "data": {
      "text/plain": [
       "[<matplotlib.lines.Line2D at 0x1d517a11340>]"
      ]
     },
     "execution_count": 20,
     "metadata": {},
     "output_type": "execute_result"
    },
    {
     "data": {
      "image/png": "[encoded data removed]",
      "text/plain": [
       "<Figure size 432x288 with 1 Axes>"
      ]
     },
     "metadata": {
      "needs_background": "light"
     },
     "output_type": "display_data"
    }
   ],
   "source": [
    "# logistic Regression이 필요한 이유\n",
    "# (기존의 linear regression으로는 안 되는 이유)\n",
    "import numpy as np\n",
    "import matplotlib.pyplot as plt\n",
    "from scipy import stats\n",
    "\n",
    "x = np.array([1,2,5,8,10,30])\n",
    "y = np.array([0,0,0,1,1,1])\n",
    "lm = stats.linregress(x, y)\n",
    "print('w값은 ', lm[0], 'b값은 ', lm[1])\n",
    "\n",
    "plt.scatter(x, y)\n",
    "plt.plot(x, x*lm[0]+lm[1], 'r')\n",
    "\n",
    "# 그래프를 보면, 10시간을 공부한 학생이 fail로 출력된다.(정확한 결과 X)"
   ]
  },
  {
   "cell_type": "code",
   "execution_count": 21,
   "id": "sharing-wagon",
   "metadata": {
    "ExecuteTime": {
     "end_time": "2021-03-28T13:57:13.300847Z",
     "start_time": "2021-03-28T13:57:10.778575Z"
    }
   },
   "outputs": [
    {
     "name": "stdout",
     "output_type": "stream",
     "text": [
      "300번째 cost: 0.3069683611392975\n",
      "600번째 cost: 0.23626495897769928\n",
      "900번째 cost: 0.2056274265050888\n",
      "1200번째 cost: 0.18607977032661438\n",
      "1500번째 cost: 0.17145724594593048\n",
      "1800번째 cost: 0.15961284935474396\n",
      "2100번째 cost: 0.14958128333091736\n",
      "2400번째 cost: 0.14085206389427185\n",
      "2700번째 cost: 0.13312235474586487\n",
      "3000번째 cost: 0.12619540095329285\n",
      "정확도:  1.0\n"
     ]
    }
   ],
   "source": [
    "# training data set \n",
    "x_data = np.array([[10,0], # [영어공부시간, 외국체류기간]\n",
    "                   [8,1], \n",
    "                   [3,3], \n",
    "                   [2,3], \n",
    "                   [5,1], \n",
    "                   [2,0], \n",
    "                   [1,0]])\n",
    "y_data = np.array([[1], [1], [1], [1], [0], [0], [0]])\n",
    "\n",
    "# placeholder\n",
    "X = tf.placeholder(shape=[None,2], dtype=tf.float32)\n",
    "y = tf.placeholder(shape=[None,1], dtype=tf.float32)\n",
    "\n",
    "# Weight(2행1열), bias(1개)\n",
    "W = tf.Variable(tf.random_normal([2,1]), name='Weight')\n",
    "b = tf.Variable(tf.random_normal([1]), name='bias')\n",
    "\n",
    "# Hypothesis\n",
    "logits = tf.matmul(X, W) + b\n",
    "H = tf.sigmoid(logits)\n",
    "\n",
    "# cost function\n",
    "# cost = tf.reduce_mean(tf.square(H - Y))\n",
    "cost = tf.reduce_mean(tf.nn.sigmoid_cross_entropy_with_logits(logits=logits, labels=Y))\n",
    "\n",
    "# train\n",
    "train = tf.train.GradientDescentOptimizer(learning_rate=0.1).minimize(cost)\n",
    "\n",
    "# session & 초기화 \n",
    "sess = tf.Session()\n",
    "sess.run(tf.global_variables_initializer())\n",
    "\n",
    "# 학습 \n",
    "for step in range(1, 3001):\n",
    "    _, cost_val = sess.run([train, cost], \n",
    "                          feed_dict={X:x_data, Y:y_data})\n",
    "    if step%300 == 0:\n",
    "        print(\"{}번째 cost: {}\".format(step, cost_val))\n",
    "        \n",
    "# 학습이 잘 되었는지 확인하기 \n",
    "predict = tf.cast(H > 0.5, dtype=tf.float32)\n",
    "correct = tf.equal(predict, Y) # True True True True False True True\n",
    "accuracy = tf.reduce_mean(tf.cast(correct, dtype=tf.float32))\n",
    "print('정확도: ', sess.run(accuracy, feed_dict={X:x_data, Y:y_data}))"
   ]
  },
  {
   "cell_type": "code",
   "execution_count": 22,
   "id": "hairy-baltimore",
   "metadata": {
    "ExecuteTime": {
     "end_time": "2021-03-28T13:58:39.974450Z",
     "start_time": "2021-03-28T13:58:39.936475Z"
    }
   },
   "outputs": [
    {
     "name": "stdout",
     "output_type": "stream",
     "text": [
      "H결과:  [[0.96434474]]\n",
      "predict결과:  [[1.]]\n"
     ]
    }
   ],
   "source": [
    "# 예측 \n",
    "print('H결과: ', sess.run(H, feed_dict={X:[[3,3]]}))\n",
    "print('predict결과: ', sess.run(predict, feed_dict={X:[[3,3]]}))"
   ]
  },
  {
   "cell_type": "markdown",
   "id": "bacterial-strike",
   "metadata": {},
   "source": [
    "# Multinomial Classification\n",
    "- (3개 이상 그룹)\n",
    "\n",
    "- 퀴즈1,2,3의 성적과, 출석에 따른 등급(A,B,C) 분류 "
   ]
  },
  {
   "cell_type": "code",
   "execution_count": 26,
   "id": "chief-crazy",
   "metadata": {
    "ExecuteTime": {
     "end_time": "2021-03-28T14:09:41.326462Z",
     "start_time": "2021-03-28T14:09:36.903782Z"
    }
   },
   "outputs": [
    {
     "name": "stdout",
     "output_type": "stream",
     "text": [
      "300번째 cost: 1.1297999620437622\n",
      "600번째 cost: 0.8514543771743774\n",
      "900번째 cost: 0.6267703771591187\n",
      "1200번째 cost: 0.5330013632774353\n",
      "1500번째 cost: 0.4872783124446869\n",
      "1800번째 cost: 0.05524212121963501\n",
      "2100번째 cost: 0.048843950033187866\n",
      "2400번째 cost: 0.04478567838668823\n",
      "2700번째 cost: 0.04168257489800453\n",
      "3000번째 cost: 0.03914260491728783\n",
      "3300번째 cost: 0.03698218613862991\n",
      "3600번째 cost: 0.03509872034192085\n",
      "3900번째 cost: 0.033428482711315155\n",
      "4200번째 cost: 0.03192919120192528\n",
      "4500번째 cost: 0.03057113103568554\n",
      "4800번째 cost: 0.02933196909725666\n",
      "5100번째 cost: 0.028194906190037727\n",
      "5400번째 cost: 0.0271464716643095\n",
      "5700번째 cost: 0.026175756007432938\n",
      "6000번째 cost: 0.025273960083723068\n"
     ]
    }
   ],
   "source": [
    "# training data set\n",
    "x_data = [[10,7,8,5], # [퀴즈1, 퀴즈2, 퀴즈3, 출석]\n",
    "          [8,8,9,4],\n",
    "          [7,8,2,3],\n",
    "          [6,3,9,3],\n",
    "          [7,5,7,4],\n",
    "          [3,5,6,2],\n",
    "          [2,4,3,1]]\n",
    "# 종속변수는 multinomial classification에서는 원핫인코딩\n",
    "y_data =[[1, 0, 0], # 등급 - A[1,0,0] B[0,1,0] C[0,0,1]\n",
    "         [1, 0, 0],\n",
    "         [0, 1, 0],\n",
    "         [0, 1, 0],\n",
    "         [0, 1, 0],\n",
    "         [0, 0, 1],\n",
    "         [0, 0, 1]]\n",
    "\n",
    "# placeholder \n",
    "X = tf.placeholder(shape=[None,4], dtype=tf.float32)\n",
    "Y = tf.placeholder(shape=[None,3], dtype=tf.float32)\n",
    "\n",
    "# Weight(4행 3열) & bias(3개)\n",
    "W = tf.Variable(tf.random_normal([4,3]), name='Weight')\n",
    "b = tf.Variable(tf.random_normal([3]), name='bias')\n",
    "\n",
    "# Hypothesis \n",
    "logits = tf.matmul(X,\n",
    "                   W) + b \n",
    "H = tf.nn.softmax(logits) \n",
    "    # softmax: 분류분석 최종 단계에서 결과의 합이 1이 됨\n",
    "\n",
    "# cost function\n",
    "cost = tf.reduce_mean(tf.nn.softmax_cross_entropy_with_logits_v2(logits=logits, labels=Y))\n",
    "\n",
    "# train\n",
    "train = tf.train.GradientDescentOptimizer(learning_rate=0.1).minimize(cost)\n",
    "\n",
    "# session & 초기화 \n",
    "sess = tf.Session()\n",
    "sess.run(tf.global_variables_initializer())\n",
    "\n",
    "# 학습 \n",
    "for step in range(1, 6001):\n",
    "    _, cost_val = sess.run([train, cost], \n",
    "                          feed_dict={X:x_data, Y:y_data})\n",
    "    if step%300 == 0:\n",
    "        print(\"{}번째 cost: {}\".format(step, cost_val))"
   ]
  },
  {
   "cell_type": "code",
   "execution_count": 27,
   "id": "deluxe-giant",
   "metadata": {
    "ExecuteTime": {
     "end_time": "2021-03-28T14:10:24.953674Z",
     "start_time": "2021-03-28T14:10:24.652168Z"
    }
   },
   "outputs": [
    {
     "name": "stdout",
     "output_type": "stream",
     "text": [
      "[[0.9779156  0.01945437 0.00262999]]\n",
      "[0]\n"
     ]
    }
   ],
   "source": [
    "# 예측 \n",
    "result = sess.run(H, feed_dict={X:[[8,8,9,4]]})\n",
    "print(result)\n",
    "print(result.argmax(axis=1)) # 0번째 열만 1 "
   ]
  },
  {
   "cell_type": "code",
   "execution_count": 28,
   "id": "funded-label",
   "metadata": {
    "ExecuteTime": {
     "end_time": "2021-03-28T14:12:51.895147Z",
     "start_time": "2021-03-28T14:12:51.654433Z"
    }
   },
   "outputs": [
    {
     "name": "stdout",
     "output_type": "stream",
     "text": [
      "100.0 %\n"
     ]
    }
   ],
   "source": [
    "# accuracy 측정 \n",
    "# H => 0.97 0.19 0.002을 경우 H.argmax => 0\n",
    "# Y -> 1    0    0    을 경우 Y.argmax => 0\n",
    "predict = tf.argmax(H, axis=1) # 어떤 열의 값이 제일 큰지 index 반환 \n",
    "correct = tf.equal(predict, tf.argmax(Y, 1))\n",
    "accuracy = tf.reduce_mean(tf.cast(correct, dtype=tf.float32))\n",
    "\n",
    "print(sess.run(accuracy, feed_dict={X:x_data, Y:y_data})*100, '%')"
   ]
  },
  {
   "cell_type": "markdown",
   "id": "orange-politics",
   "metadata": {},
   "source": [
    "# XOR"
   ]
  },
  {
   "cell_type": "code",
   "execution_count": 30,
   "id": "greek-airplane",
   "metadata": {
    "ExecuteTime": {
     "end_time": "2021-03-28T14:18:02.676526Z",
     "start_time": "2021-03-28T14:18:00.500938Z"
    }
   },
   "outputs": [
    {
     "name": "stdout",
     "output_type": "stream",
     "text": [
      "300번째 cost : 0.7082635164260864\n",
      "600번째 cost : 0.7033857107162476\n",
      "900번째 cost : 0.7002269625663757\n",
      "1200번째 cost : 0.6980524063110352\n",
      "1500번째 cost : 0.6965451240539551\n",
      "1800번째 cost : 0.6955007910728455\n",
      "2100번째 cost : 0.6947778463363647\n",
      "2400번째 cost : 0.6942774653434753\n",
      "2700번째 cost : 0.6939313411712646\n",
      "3000번째 cost : 0.6936916708946228\n",
      "정확도:  0.5\n"
     ]
    }
   ],
   "source": [
    "# training data set \n",
    "x_data = [[0,0], [0,1], [1,0], [1,1]]\n",
    "y_data = [[0], [1], [1], [0]]\n",
    "\n",
    "# placeholder\n",
    "X = tf.placeholder(shape=[None, 2], dtype=tf.float32)\n",
    "Y = tf.placeholder(shape=[None, 1], dtype=tf.float32)\n",
    "\n",
    "# Weight & bias\n",
    "W = tf.Variable(tf.random_normal([2,1]), name=\"weight\")\n",
    "b = tf.Variable(tf.random_normal([1]), name=\"bias\")\n",
    "\n",
    "# Hypothesis\n",
    "logits = tf.matmul(X, W) + b\n",
    "H = tf.sigmoid(logits)\n",
    "\n",
    "# cost\n",
    "cost = tf.reduce_mean(tf.nn.sigmoid_cross_entropy_with_logits(logits=logits,\n",
    "                                                             labels=Y))\n",
    "# train\n",
    "train = tf.train.GradientDescentOptimizer(learning_rate=0.01).minimize(cost)\n",
    "\n",
    "# Session & 초기화\n",
    "sess = tf.Session()\n",
    "sess.run(tf.global_variables_initializer())\n",
    "\n",
    "# 학습\n",
    "for step in range(1, 3001):\n",
    "    _, cost_val = sess.run([train, cost], feed_dict={X:x_data, Y:y_data})\n",
    "    if step%300 == 0:\n",
    "        print(\"{}번째 cost : {}\".format(step, cost_val))\n",
    "        \n",
    "# accuracy 측정 \n",
    "predict = tf.cast(H > 0.5, dtype=tf.float32)\n",
    "correct = tf.equal(predict, Y) # False True False True\n",
    "accuracy = tf.reduce_mean(tf.cast(correct, dtype=tf.float32))\n",
    "print('정확도: ', sess.run(accuracy, feed_dict={X:x_data, Y:y_data}))"
   ]
  },
  {
   "cell_type": "code",
   "execution_count": 31,
   "id": "thirty-peace",
   "metadata": {
    "ExecuteTime": {
     "end_time": "2021-03-28T14:18:58.587770Z",
     "start_time": "2021-03-28T14:18:58.535803Z"
    }
   },
   "outputs": [
    {
     "name": "stdout",
     "output_type": "stream",
     "text": [
      "[[1.]\n",
      " [0.]\n",
      " [1.]\n",
      " [0.]]\n"
     ]
    }
   ],
   "source": [
    "# 예측 \n",
    "predict = tf.cast(H > 0.5, dtype=tf.float32)\n",
    "print(sess.run(predict, feed_dict={X:x_data}))"
   ]
  },
  {
   "cell_type": "markdown",
   "id": "appointed-bibliography",
   "metadata": {},
   "source": [
    "# Deep Learning XOR 예제 "
   ]
  },
  {
   "cell_type": "code",
   "execution_count": 32,
   "id": "expressed-shadow",
   "metadata": {
    "ExecuteTime": {
     "end_time": "2021-03-28T14:22:35.419085Z",
     "start_time": "2021-03-28T14:22:32.175096Z"
    }
   },
   "outputs": [
    {
     "name": "stdout",
     "output_type": "stream",
     "text": [
      "300번째 cost : 0.6970818638801575\n",
      "600번째 cost : 0.6958577632904053\n",
      "900번째 cost : 0.6949398517608643\n",
      "1200번째 cost : 0.6940988898277283\n",
      "1500번째 cost : 0.693313479423523\n",
      "1800번째 cost : 0.6925742626190186\n",
      "2100번째 cost : 0.691872775554657\n",
      "2400번째 cost : 0.6912018656730652\n",
      "2700번째 cost : 0.690554141998291\n",
      "3000번째 cost : 0.6899234056472778\n",
      "정확도:  0.5\n"
     ]
    }
   ],
   "source": [
    "# training data set \n",
    "x_data = [[0,0], [0,1], [1,0], [1,1]]\n",
    "y_data = [[0], [1], [1], [0]]\n",
    "\n",
    "# placeholder\n",
    "X = tf.placeholder(shape=[None, 2], dtype=tf.float32)\n",
    "Y = tf.placeholder(shape=[None, 1], dtype=tf.float32)\n",
    "\n",
    "# layer 추가 \n",
    "# Weight & bias (layer1 = 입력 2개, 출력 4개)\n",
    "W1 = tf.Variable(tf.random_normal([2,4]), name=\"weight1\")\n",
    "b1 = tf.Variable(tf.random_normal([4]), name=\"bias1\")\n",
    "layer1 = tf.sigmoid(tf.matmul(X, W1) + b1)\n",
    "# Weight & bias (layer1 = 입력 4개, 출력 1개)\n",
    "W2 = tf.Variable(tf.random_normal([4,1]), name=\"weight2\")\n",
    "b2 = tf.Variable(tf.random_normal([1]), name=\"bias2\")\n",
    "\n",
    "# Hypothesis\n",
    "logits = tf.matmul(layer1, W2) + b2\n",
    "H = tf.sigmoid(logits)\n",
    "\n",
    "# cost\n",
    "cost = tf.reduce_mean(tf.nn.sigmoid_cross_entropy_with_logits(logits=logits,\n",
    "                                                             labels=Y))\n",
    "# train\n",
    "train = tf.train.GradientDescentOptimizer(learning_rate=0.01).minimize(cost)\n",
    "\n",
    "# Session & 초기화\n",
    "sess = tf.Session()\n",
    "sess.run(tf.global_variables_initializer())\n",
    "\n",
    "# 학습\n",
    "for step in range(1, 3001):\n",
    "    _, cost_val = sess.run([train, cost], feed_dict={X:x_data, Y:y_data})\n",
    "    if step%300 == 0:\n",
    "        print(\"{}번째 cost : {}\".format(step, cost_val))\n",
    "        \n",
    "# accuracy 측정 \n",
    "predict = tf.cast(H > 0.5, dtype=tf.float32)\n",
    "correct = tf.equal(predict, Y) # False True False True\n",
    "accuracy = tf.reduce_mean(tf.cast(correct, dtype=tf.float32))\n",
    "print('정확도: ', sess.run(accuracy, feed_dict={X:x_data, Y:y_data}))"
   ]
  },
  {
   "cell_type": "code",
   "execution_count": 33,
   "id": "introductory-cancellation",
   "metadata": {
    "ExecuteTime": {
     "end_time": "2021-03-28T14:25:39.575568Z",
     "start_time": "2021-03-28T14:25:36.453503Z"
    }
   },
   "outputs": [
    {
     "name": "stdout",
     "output_type": "stream",
     "text": [
      "300번째 cost : 0.6999151110649109\n",
      "600번째 cost : 0.6969732046127319\n",
      "900번째 cost : 0.6943880319595337\n",
      "1200번째 cost : 0.6920633316040039\n",
      "1500번째 cost : 0.6899282932281494\n",
      "1800번째 cost : 0.6879286766052246\n",
      "2100번째 cost : 0.6860204935073853\n",
      "2400번째 cost : 0.684167206287384\n",
      "2700번째 cost : 0.6823363304138184\n",
      "3000번째 cost : 0.6804980039596558\n",
      "정확도:  0.75\n"
     ]
    }
   ],
   "source": [
    "# training data set \n",
    "x_data = [[0,0], [0,1], [1,0], [1,1]]\n",
    "y_data = [[0], [1], [1], [0]]\n",
    "\n",
    "# placeholder\n",
    "X = tf.placeholder(shape=[None, 2], dtype=tf.float32)\n",
    "Y = tf.placeholder(shape=[None, 1], dtype=tf.float32)\n",
    "\n",
    "# layer 추가 \n",
    "# Weight & bias (layer1 = 입력 2개, 출력 10개)\n",
    "W1 = tf.Variable(tf.random_normal([2,10]), name=\"weight1\")\n",
    "b1 = tf.Variable(tf.random_normal([10]), name=\"bias1\")\n",
    "layer1 = tf.sigmoid(tf.matmul(X, W1) + b1)\n",
    "# Weight & bias (layer2 = 입력 10개, 출력 20개)\n",
    "W2 = tf.Variable(tf.random_normal([10,20]), name=\"weight2\")\n",
    "b2 = tf.Variable(tf.random_normal([20]), name=\"bias2\")\n",
    "layer2 = tf.sigmoid(tf.matmul(layer1, W2) + b2)\n",
    "# Weight & bias (layer3 = 입력 20개, 출력 10개)\n",
    "W3 = tf.Variable(tf.random_normal([20,10]), name=\"weight3\")\n",
    "b3 = tf.Variable(tf.random_normal([10]), name=\"bias3\")\n",
    "layer3 = tf.sigmoid(tf.matmul(layer2, W3) + b3)\n",
    "# Weight & bias (output layer = 입력 10개, 출력 1개)\n",
    "W4 = tf.Variable(tf.random_normal([10,1]), name=\"weight4\")\n",
    "b4 = tf.Variable(tf.random_normal([1]), name=\"bias4\")\n",
    "\n",
    "# Hypothesis\n",
    "logits = tf.matmul(layer3, W4) + b4\n",
    "H = tf.sigmoid(logits)\n",
    "\n",
    "# cost\n",
    "cost = tf.reduce_mean(tf.nn.sigmoid_cross_entropy_with_logits(logits=logits,\n",
    "                                                             labels=Y))\n",
    "# train\n",
    "train = tf.train.GradientDescentOptimizer(learning_rate=0.01).minimize(cost)\n",
    "\n",
    "# Session & 초기화\n",
    "sess = tf.Session()\n",
    "sess.run(tf.global_variables_initializer())\n",
    "\n",
    "# 학습\n",
    "for step in range(1, 3001):\n",
    "    _, cost_val = sess.run([train, cost], feed_dict={X:x_data, Y:y_data})\n",
    "    if step%300 == 0:\n",
    "        print(\"{}번째 cost : {}\".format(step, cost_val))\n",
    "        \n",
    "# accuracy 측정 \n",
    "predict = tf.cast(H > 0.5, dtype=tf.float32)\n",
    "correct = tf.equal(predict, Y) # False True False True\n",
    "accuracy = tf.reduce_mean(tf.cast(correct, dtype=tf.float32))\n",
    "print('정확도: ', sess.run(accuracy, feed_dict={X:x_data, Y:y_data}))"
   ]
  }
 ],
 "metadata": {
  "kernelspec": {
   "display_name": "Python 3",
   "language": "python",
   "name": "python3"
  },
  "language_info": {
   "codemirror_mode": {
    "name": "ipython",
    "version": 3
   },
   "file_extension": ".py",
   "mimetype": "text/x-python",
   "name": "python",
   "nbconvert_exporter": "python",
   "pygments_lexer": "ipython3",
   "version": "3.8.8"
  },
  "toc": {
   "base_numbering": 1,
   "nav_menu": {},
   "number_sections": true,
   "sideBar": true,
   "skip_h1_title": false,
   "title_cell": "Table of Contents",
   "title_sidebar": "Contents",
   "toc_cell": false,
   "toc_position": {},
   "toc_section_display": true,
   "toc_window_display": false
  },
  "varInspector": {
   "cols": {
    "lenName": 16,
    "lenType": 16,
    "lenVar": 40
   },
   "kernels_config": {
    "python": {
     "delete_cmd_postfix": "",
     "delete_cmd_prefix": "del ",
     "library": "var_list.py",
     "varRefreshCmd": "print(var_dic_list())"
    },
    "r": {
     "delete_cmd_postfix": ") ",
     "delete_cmd_prefix": "rm(",
     "library": "var_list.r",
     "varRefreshCmd": "cat(var_dic_list()) "
    }
   },
   "types_to_exclude": [
    "module",
    "function",
    "builtin_function_or_method",
    "instance",
    "_Feature"
   ],
   "window_display": false
  }
 },
 "nbformat": 4,
 "nbformat_minor": 5
}
