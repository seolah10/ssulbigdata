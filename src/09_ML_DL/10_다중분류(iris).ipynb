{
 "cells": [
  {
   "cell_type": "code",
   "execution_count": 1,
   "metadata": {
    "ExecuteTime": {
     "end_time": "2021-03-30T13:17:42.034936Z",
     "start_time": "2021-03-30T13:17:42.011951Z"
    }
   },
   "outputs": [
    {
     "data": {
      "text/html": [
       "\n",
       "<style>\n",
       "div.container{width:100% !important;}\n",
       "div.CodeMirror {font-family:Consolas; font-size:10pt;}\n",
       "div.output {font-size:10pt;}\n",
       "div.input {font-family:Consolas; font-size:10pt;}\n",
       "div.prompt {min-width:70px;}\n",
       "</style>\n"
      ],
      "text/plain": [
       "<IPython.core.display.HTML object>"
      ]
     },
     "metadata": {},
     "output_type": "display_data"
    }
   ],
   "source": [
    "from IPython.display import display, HTML\n",
    "display(HTML(\"\"\"\n",
    "<style>\n",
    "div.container{width:100% !important;}\n",
    "div.CodeMirror {font-family:Consolas; font-size:10pt;}\n",
    "div.output {font-size:10pt;}\n",
    "div.input {font-family:Consolas; font-size:10pt;}\n",
    "div.prompt {min-width:70px;}\n",
    "</style>\n",
    "\"\"\"))"
   ]
  },
  {
   "cell_type": "code",
   "execution_count": 2,
   "metadata": {
    "ExecuteTime": {
     "end_time": "2021-03-30T13:17:53.172478Z",
     "start_time": "2021-03-30T13:17:43.752969Z"
    }
   },
   "outputs": [],
   "source": [
    "import seaborn as sns\n",
    "import numpy as np\n",
    "import pandas as pd # 원 핫 인코딩\n",
    "from sklearn.model_selection import train_test_split # 훈련셋과 테스트셋 분리 \n",
    "from tensorflow.keras.models import Sequential\n",
    "from tensorflow.keras.layers import Dense, Input, Dropout\n",
    "from tensorflow.keras.callbacks import EarlyStopping, ModelCheckpoint \n",
    "import os # for 절대경로 가져오기\n",
    "import matplotlib.pyplot as plt "
   ]
  },
  {
   "cell_type": "code",
   "execution_count": 3,
   "metadata": {
    "ExecuteTime": {
     "end_time": "2021-03-30T13:17:53.348412Z",
     "start_time": "2021-03-30T13:17:53.257431Z"
    }
   },
   "outputs": [
    {
     "data": {
      "text/plain": [
       "array([[1, 0, 0],\n",
       "       [0, 1, 0],\n",
       "       [0, 1, 0]], dtype=uint8)"
      ]
     },
     "execution_count": 3,
     "metadata": {},
     "output_type": "execute_result"
    }
   ],
   "source": [
    "# 1. 데이터 셋 \n",
    "iris = sns.load_dataset(\"iris\")\n",
    "\n",
    "iris_X = iris.iloc[:, :-1].to_numpy()\n",
    "# iris_X = np.array(iris.iloc[:, :-1])\n",
    "iris_Y = iris.iloc[:, -1]\n",
    "\n",
    "# iris_Y = utils.to_catogorical(iris_Y) # 숫자가 아니면 to_categorical 불가 \n",
    "iris_Y = pd.get_dummies(iris_Y).to_numpy() # 원 핫 인코딩 \n",
    "# 1 0 0 = setosa / 0 1 0 = versicolor / 0 0 1 = virginica\n",
    "\n",
    "train_X, test_X, train_Y, test_Y = train_test_split(iris_X, iris_Y, \n",
    "                                                    test_size=0.3, random_state=1)\n",
    "train_X.shape, train_Y.shape, test_X.shape, test_Y.shape\n",
    "test_Y[:3]"
   ]
  },
  {
   "cell_type": "code",
   "execution_count": 4,
   "metadata": {
    "ExecuteTime": {
     "end_time": "2021-03-30T13:18:15.773741Z",
     "start_time": "2021-03-30T13:17:54.951029Z"
    }
   },
   "outputs": [
    {
     "name": "stdout",
     "output_type": "stream",
     "text": [
      "Epoch 1/100\n",
      "2/2 [==============================] - 0s 200ms/step - loss: 1.4669 - accuracy: 0.2619 - val_loss: 1.0768 - val_accuracy: 0.4762\n",
      "Epoch 2/100\n",
      "2/2 [==============================] - 0s 23ms/step - loss: 1.2697 - accuracy: 0.2619 - val_loss: 1.0334 - val_accuracy: 0.4762\n",
      "Epoch 3/100\n",
      "2/2 [==============================] - 0s 19ms/step - loss: 1.1416 - accuracy: 0.2619 - val_loss: 1.0322 - val_accuracy: 0.2857\n",
      "Epoch 4/100\n",
      "2/2 [==============================] - 0s 18ms/step - loss: 1.0781 - accuracy: 0.3571 - val_loss: 1.0430 - val_accuracy: 0.2857\n",
      "Epoch 5/100\n",
      "2/2 [==============================] - 0s 15ms/step - loss: 1.0480 - accuracy: 0.3690 - val_loss: 1.0518 - val_accuracy: 0.2857\n",
      "Epoch 6/100\n",
      "2/2 [==============================] - 0s 16ms/step - loss: 1.0186 - accuracy: 0.3690 - val_loss: 1.0532 - val_accuracy: 0.2857\n",
      "Epoch 7/100\n",
      "2/2 [==============================] - 0s 17ms/step - loss: 0.9956 - accuracy: 0.3690 - val_loss: 1.0427 - val_accuracy: 0.3333\n",
      "Epoch 8/100\n",
      "2/2 [==============================] - 0s 16ms/step - loss: 0.9753 - accuracy: 0.4405 - val_loss: 1.0323 - val_accuracy: 0.4762\n",
      "Epoch 9/100\n",
      "2/2 [==============================] - 0s 17ms/step - loss: 0.9536 - accuracy: 0.7262 - val_loss: 1.0254 - val_accuracy: 0.5238\n",
      "Epoch 10/100\n",
      "2/2 [==============================] - 0s 22ms/step - loss: 0.9364 - accuracy: 0.7381 - val_loss: 1.0181 - val_accuracy: 0.5238\n",
      "Epoch 11/100\n",
      "2/2 [==============================] - 0s 15ms/step - loss: 0.9192 - accuracy: 0.7381 - val_loss: 1.0110 - val_accuracy: 0.5238\n",
      "Epoch 12/100\n",
      "2/2 [==============================] - 0s 19ms/step - loss: 0.9046 - accuracy: 0.7381 - val_loss: 1.0042 - val_accuracy: 0.5238\n",
      "Epoch 13/100\n",
      "2/2 [==============================] - 0s 17ms/step - loss: 0.8841 - accuracy: 0.7381 - val_loss: 0.9963 - val_accuracy: 0.5238\n",
      "Epoch 14/100\n",
      "2/2 [==============================] - 0s 16ms/step - loss: 0.8646 - accuracy: 0.7381 - val_loss: 0.9878 - val_accuracy: 0.5238\n",
      "Epoch 15/100\n",
      "2/2 [==============================] - 0s 14ms/step - loss: 0.8466 - accuracy: 0.7381 - val_loss: 0.9791 - val_accuracy: 0.5238\n",
      "Epoch 16/100\n",
      "2/2 [==============================] - 0s 18ms/step - loss: 0.8266 - accuracy: 0.7381 - val_loss: 0.9668 - val_accuracy: 0.5238\n",
      "Epoch 17/100\n",
      "2/2 [==============================] - 0s 16ms/step - loss: 0.8080 - accuracy: 0.7381 - val_loss: 0.9530 - val_accuracy: 0.5238\n",
      "Epoch 18/100\n",
      "2/2 [==============================] - 0s 16ms/step - loss: 0.7884 - accuracy: 0.7381 - val_loss: 0.9354 - val_accuracy: 0.5238\n",
      "Epoch 19/100\n",
      "2/2 [==============================] - 0s 22ms/step - loss: 0.7671 - accuracy: 0.7381 - val_loss: 0.9144 - val_accuracy: 0.5238\n",
      "Epoch 20/100\n",
      "2/2 [==============================] - ETA: 0s - loss: 0.7019 - accuracy: 0.78 - 0s 16ms/step - loss: 0.7460 - accuracy: 0.7381 - val_loss: 0.8950 - val_accuracy: 0.5238\n",
      "Epoch 21/100\n",
      "2/2 [==============================] - 0s 19ms/step - loss: 0.7275 - accuracy: 0.7381 - val_loss: 0.8758 - val_accuracy: 0.5238\n",
      "Epoch 22/100\n",
      "2/2 [==============================] - 0s 17ms/step - loss: 0.7067 - accuracy: 0.7381 - val_loss: 0.8576 - val_accuracy: 0.5238\n",
      "Epoch 23/100\n",
      "2/2 [==============================] - 0s 20ms/step - loss: 0.6871 - accuracy: 0.7381 - val_loss: 0.8420 - val_accuracy: 0.5238\n",
      "Epoch 24/100\n",
      "2/2 [==============================] - 0s 50ms/step - loss: 0.6649 - accuracy: 0.7381 - val_loss: 0.8252 - val_accuracy: 0.5238\n",
      "Epoch 25/100\n",
      "2/2 [==============================] - 0s 31ms/step - loss: 0.6446 - accuracy: 0.7381 - val_loss: 0.8083 - val_accuracy: 0.5238\n",
      "Epoch 26/100\n",
      "2/2 [==============================] - 0s 22ms/step - loss: 0.6251 - accuracy: 0.7381 - val_loss: 0.7922 - val_accuracy: 0.5238\n",
      "Epoch 27/100\n",
      "2/2 [==============================] - 0s 25ms/step - loss: 0.6055 - accuracy: 0.7381 - val_loss: 0.7765 - val_accuracy: 0.5238\n",
      "Epoch 28/100\n",
      "2/2 [==============================] - 0s 29ms/step - loss: 0.5867 - accuracy: 0.7381 - val_loss: 0.7601 - val_accuracy: 0.5238\n",
      "Epoch 29/100\n",
      "2/2 [==============================] - 0s 23ms/step - loss: 0.5687 - accuracy: 0.7381 - val_loss: 0.7420 - val_accuracy: 0.5238\n",
      "Epoch 30/100\n",
      "2/2 [==============================] - 0s 25ms/step - loss: 0.5506 - accuracy: 0.7381 - val_loss: 0.7233 - val_accuracy: 0.5238\n",
      "Epoch 31/100\n",
      "2/2 [==============================] - 0s 20ms/step - loss: 0.5355 - accuracy: 0.7381 - val_loss: 0.7058 - val_accuracy: 0.5238\n",
      "Epoch 32/100\n",
      "2/2 [==============================] - 0s 31ms/step - loss: 0.5197 - accuracy: 0.7381 - val_loss: 0.6897 - val_accuracy: 0.5238\n",
      "Epoch 33/100\n",
      "2/2 [==============================] - 0s 22ms/step - loss: 0.5038 - accuracy: 0.7381 - val_loss: 0.6753 - val_accuracy: 0.5238\n",
      "Epoch 34/100\n",
      "2/2 [==============================] - 0s 15ms/step - loss: 0.4904 - accuracy: 0.7500 - val_loss: 0.6632 - val_accuracy: 0.5238\n",
      "Epoch 35/100\n",
      "2/2 [==============================] - 0s 25ms/step - loss: 0.4771 - accuracy: 0.7500 - val_loss: 0.6540 - val_accuracy: 0.5238\n",
      "Epoch 36/100\n",
      "2/2 [==============================] - 0s 15ms/step - loss: 0.4656 - accuracy: 0.7500 - val_loss: 0.6439 - val_accuracy: 0.5238\n",
      "Epoch 37/100\n",
      "2/2 [==============================] - 0s 18ms/step - loss: 0.4546 - accuracy: 0.7500 - val_loss: 0.6286 - val_accuracy: 0.5714\n",
      "Epoch 38/100\n",
      "2/2 [==============================] - 0s 31ms/step - loss: 0.4423 - accuracy: 0.7500 - val_loss: 0.6138 - val_accuracy: 0.6190\n",
      "Epoch 39/100\n",
      "2/2 [==============================] - 0s 13ms/step - loss: 0.4323 - accuracy: 0.7619 - val_loss: 0.5986 - val_accuracy: 0.6190\n",
      "Epoch 40/100\n",
      "2/2 [==============================] - 0s 19ms/step - loss: 0.4216 - accuracy: 0.7857 - val_loss: 0.5866 - val_accuracy: 0.6190\n",
      "Epoch 41/100\n",
      "2/2 [==============================] - 0s 15ms/step - loss: 0.4108 - accuracy: 0.7857 - val_loss: 0.5784 - val_accuracy: 0.6190\n",
      "Epoch 42/100\n",
      "2/2 [==============================] - 0s 14ms/step - loss: 0.4001 - accuracy: 0.7857 - val_loss: 0.5679 - val_accuracy: 0.6667\n",
      "Epoch 43/100\n",
      "2/2 [==============================] - 0s 15ms/step - loss: 0.3900 - accuracy: 0.7976 - val_loss: 0.5537 - val_accuracy: 0.6667\n",
      "Epoch 44/100\n",
      "2/2 [==============================] - 0s 14ms/step - loss: 0.3787 - accuracy: 0.8214 - val_loss: 0.5413 - val_accuracy: 0.7619\n",
      "Epoch 45/100\n",
      "2/2 [==============================] - 0s 15ms/step - loss: 0.3689 - accuracy: 0.8571 - val_loss: 0.5300 - val_accuracy: 0.8095\n",
      "Epoch 46/100\n",
      "2/2 [==============================] - 0s 15ms/step - loss: 0.3592 - accuracy: 0.8690 - val_loss: 0.5132 - val_accuracy: 0.8095\n",
      "Epoch 47/100\n",
      "2/2 [==============================] - 0s 16ms/step - loss: 0.3500 - accuracy: 0.8929 - val_loss: 0.4985 - val_accuracy: 0.8571\n",
      "Epoch 48/100\n",
      "2/2 [==============================] - 0s 16ms/step - loss: 0.3418 - accuracy: 0.8929 - val_loss: 0.4866 - val_accuracy: 0.8571\n",
      "Epoch 49/100\n",
      "2/2 [==============================] - 0s 15ms/step - loss: 0.3340 - accuracy: 0.8929 - val_loss: 0.4763 - val_accuracy: 0.8571\n",
      "Epoch 50/100\n",
      "2/2 [==============================] - 0s 15ms/step - loss: 0.3265 - accuracy: 0.8929 - val_loss: 0.4679 - val_accuracy: 0.8571\n",
      "Epoch 51/100\n",
      "2/2 [==============================] - 0s 15ms/step - loss: 0.3190 - accuracy: 0.8929 - val_loss: 0.4608 - val_accuracy: 0.8571\n",
      "Epoch 52/100\n",
      "2/2 [==============================] - 0s 14ms/step - loss: 0.3116 - accuracy: 0.8929 - val_loss: 0.4533 - val_accuracy: 0.8571\n",
      "Epoch 53/100\n",
      "2/2 [==============================] - 0s 14ms/step - loss: 0.3065 - accuracy: 0.8929 - val_loss: 0.4395 - val_accuracy: 0.8571\n",
      "Epoch 54/100\n",
      "2/2 [==============================] - 0s 15ms/step - loss: 0.2987 - accuracy: 0.9286 - val_loss: 0.4309 - val_accuracy: 0.8571\n",
      "Epoch 55/100\n",
      "2/2 [==============================] - 0s 15ms/step - loss: 0.2923 - accuracy: 0.9405 - val_loss: 0.4289 - val_accuracy: 0.8571\n",
      "Epoch 56/100\n",
      "2/2 [==============================] - 0s 15ms/step - loss: 0.2863 - accuracy: 0.9286 - val_loss: 0.4160 - val_accuracy: 0.8571\n",
      "Epoch 57/100\n",
      "2/2 [==============================] - 0s 14ms/step - loss: 0.2800 - accuracy: 0.9405 - val_loss: 0.4069 - val_accuracy: 0.8571\n",
      "Epoch 58/100\n",
      "2/2 [==============================] - 0s 16ms/step - loss: 0.2749 - accuracy: 0.9405 - val_loss: 0.4045 - val_accuracy: 0.8571\n"
     ]
    },
    {
     "name": "stdout",
     "output_type": "stream",
     "text": [
      "Epoch 59/100\n",
      "2/2 [==============================] - 0s 14ms/step - loss: 0.2682 - accuracy: 0.9405 - val_loss: 0.3892 - val_accuracy: 0.9048\n",
      "Epoch 60/100\n",
      "2/2 [==============================] - 0s 13ms/step - loss: 0.2608 - accuracy: 0.9643 - val_loss: 0.3802 - val_accuracy: 0.9048\n",
      "Epoch 61/100\n",
      "2/2 [==============================] - 0s 14ms/step - loss: 0.2560 - accuracy: 0.9762 - val_loss: 0.3690 - val_accuracy: 0.9048\n",
      "Epoch 62/100\n",
      "2/2 [==============================] - 0s 15ms/step - loss: 0.2476 - accuracy: 0.9643 - val_loss: 0.3680 - val_accuracy: 0.9048\n",
      "Epoch 63/100\n",
      "2/2 [==============================] - 0s 15ms/step - loss: 0.2425 - accuracy: 0.9643 - val_loss: 0.3655 - val_accuracy: 0.9048\n",
      "Epoch 64/100\n",
      "2/2 [==============================] - 0s 14ms/step - loss: 0.2393 - accuracy: 0.9524 - val_loss: 0.3649 - val_accuracy: 0.9048\n",
      "Epoch 65/100\n",
      "2/2 [==============================] - 0s 14ms/step - loss: 0.2319 - accuracy: 0.9643 - val_loss: 0.3458 - val_accuracy: 0.9048\n",
      "Epoch 66/100\n",
      "2/2 [==============================] - 0s 17ms/step - loss: 0.2248 - accuracy: 0.9762 - val_loss: 0.3292 - val_accuracy: 0.9048\n",
      "Epoch 67/100\n",
      "2/2 [==============================] - 0s 16ms/step - loss: 0.2206 - accuracy: 0.9762 - val_loss: 0.3201 - val_accuracy: 0.9048\n",
      "Epoch 68/100\n",
      "2/2 [==============================] - 0s 15ms/step - loss: 0.2191 - accuracy: 0.9762 - val_loss: 0.3171 - val_accuracy: 0.9048\n",
      "Epoch 69/100\n",
      "2/2 [==============================] - 0s 16ms/step - loss: 0.2101 - accuracy: 0.9762 - val_loss: 0.3319 - val_accuracy: 0.9048\n",
      "Epoch 70/100\n",
      "2/2 [==============================] - 0s 14ms/step - loss: 0.2069 - accuracy: 0.9643 - val_loss: 0.3360 - val_accuracy: 0.9048\n",
      "Epoch 71/100\n",
      "2/2 [==============================] - 0s 15ms/step - loss: 0.2032 - accuracy: 0.9643 - val_loss: 0.3177 - val_accuracy: 0.9048\n",
      "Epoch 72/100\n",
      "2/2 [==============================] - 0s 16ms/step - loss: 0.1948 - accuracy: 0.9643 - val_loss: 0.2917 - val_accuracy: 0.9048\n",
      "Epoch 73/100\n",
      "2/2 [==============================] - 0s 17ms/step - loss: 0.2003 - accuracy: 0.9762 - val_loss: 0.2830 - val_accuracy: 0.9048\n",
      "Epoch 74/100\n",
      "2/2 [==============================] - 0s 16ms/step - loss: 0.1879 - accuracy: 0.9881 - val_loss: 0.2932 - val_accuracy: 0.9048\n",
      "Epoch 75/100\n",
      "2/2 [==============================] - 0s 17ms/step - loss: 0.1821 - accuracy: 0.9643 - val_loss: 0.3183 - val_accuracy: 0.9048\n",
      "Epoch 76/100\n",
      "2/2 [==============================] - 0s 16ms/step - loss: 0.1827 - accuracy: 0.9643 - val_loss: 0.3145 - val_accuracy: 0.9048\n",
      "Epoch 77/100\n",
      "2/2 [==============================] - 0s 18ms/step - loss: 0.1766 - accuracy: 0.9643 - val_loss: 0.2877 - val_accuracy: 0.9048\n",
      "Epoch 78/100\n",
      "2/2 [==============================] - 0s 18ms/step - loss: 0.1701 - accuracy: 0.9762 - val_loss: 0.2651 - val_accuracy: 0.9048\n",
      "Epoch 79/100\n",
      "2/2 [==============================] - 0s 15ms/step - loss: 0.1673 - accuracy: 0.9881 - val_loss: 0.2599 - val_accuracy: 0.9048\n",
      "Epoch 80/100\n",
      "2/2 [==============================] - 0s 15ms/step - loss: 0.1644 - accuracy: 0.9881 - val_loss: 0.2614 - val_accuracy: 0.9048\n",
      "Epoch 81/100\n",
      "2/2 [==============================] - 0s 14ms/step - loss: 0.1583 - accuracy: 0.9881 - val_loss: 0.2677 - val_accuracy: 0.9048\n",
      "Epoch 82/100\n",
      "2/2 [==============================] - 0s 16ms/step - loss: 0.1540 - accuracy: 0.9881 - val_loss: 0.2702 - val_accuracy: 0.9048\n",
      "Epoch 83/100\n",
      "2/2 [==============================] - 0s 29ms/step - loss: 0.1519 - accuracy: 0.9643 - val_loss: 0.2700 - val_accuracy: 0.9048\n",
      "Epoch 84/100\n",
      "2/2 [==============================] - 0s 15ms/step - loss: 0.1495 - accuracy: 0.9643 - val_loss: 0.2560 - val_accuracy: 0.9048\n",
      "Epoch 85/100\n",
      "2/2 [==============================] - 0s 15ms/step - loss: 0.1457 - accuracy: 0.9881 - val_loss: 0.2477 - val_accuracy: 0.9048\n",
      "Epoch 86/100\n",
      "2/2 [==============================] - 0s 14ms/step - loss: 0.1416 - accuracy: 0.9881 - val_loss: 0.2489 - val_accuracy: 0.9048\n",
      "Epoch 87/100\n",
      "2/2 [==============================] - 0s 14ms/step - loss: 0.1389 - accuracy: 0.9881 - val_loss: 0.2475 - val_accuracy: 0.9048\n",
      "Epoch 88/100\n",
      "2/2 [==============================] - 0s 16ms/step - loss: 0.1356 - accuracy: 0.9762 - val_loss: 0.2512 - val_accuracy: 0.9048\n",
      "Epoch 89/100\n",
      "2/2 [==============================] - 0s 16ms/step - loss: 0.1352 - accuracy: 0.9762 - val_loss: 0.2464 - val_accuracy: 0.9048\n",
      "Epoch 90/100\n",
      "2/2 [==============================] - 0s 18ms/step - loss: 0.1304 - accuracy: 0.9881 - val_loss: 0.2314 - val_accuracy: 0.9048\n",
      "Epoch 91/100\n",
      "2/2 [==============================] - 0s 16ms/step - loss: 0.1289 - accuracy: 0.9881 - val_loss: 0.2269 - val_accuracy: 0.9048\n",
      "Epoch 92/100\n",
      "2/2 [==============================] - 0s 16ms/step - loss: 0.1266 - accuracy: 0.9881 - val_loss: 0.2308 - val_accuracy: 0.9048\n",
      "Epoch 93/100\n",
      "2/2 [==============================] - 0s 15ms/step - loss: 0.1245 - accuracy: 0.9881 - val_loss: 0.2459 - val_accuracy: 0.9048\n",
      "Epoch 94/100\n",
      "2/2 [==============================] - 0s 15ms/step - loss: 0.1223 - accuracy: 0.9762 - val_loss: 0.2410 - val_accuracy: 0.9048\n",
      "Epoch 95/100\n",
      "2/2 [==============================] - 0s 16ms/step - loss: 0.1192 - accuracy: 0.9762 - val_loss: 0.2277 - val_accuracy: 0.9048\n",
      "Epoch 96/100\n",
      "2/2 [==============================] - 0s 17ms/step - loss: 0.1173 - accuracy: 0.9881 - val_loss: 0.2150 - val_accuracy: 0.9048\n",
      "Epoch 97/100\n",
      "2/2 [==============================] - 0s 16ms/step - loss: 0.1166 - accuracy: 0.9881 - val_loss: 0.2145 - val_accuracy: 0.9048\n",
      "Epoch 98/100\n",
      "2/2 [==============================] - 0s 13ms/step - loss: 0.1142 - accuracy: 0.9881 - val_loss: 0.2247 - val_accuracy: 0.9048\n",
      "Epoch 99/100\n",
      "2/2 [==============================] - 0s 15ms/step - loss: 0.1107 - accuracy: 0.9881 - val_loss: 0.2278 - val_accuracy: 0.9048\n",
      "Epoch 100/100\n",
      "2/2 [==============================] - 0s 14ms/step - loss: 0.1094 - accuracy: 0.9762 - val_loss: 0.2300 - val_accuracy: 0.9048\n"
     ]
    },
    {
     "data": {
      "text/plain": [
       "<matplotlib.legend.Legend at 0x219dcadfd90>"
      ]
     },
     "execution_count": 4,
     "metadata": {},
     "output_type": "execute_result"
    },
    {
     "data": {
      "image/png": "[encoded data removed]",
      "text/plain": [
       "<Figure size 432x288 with 2 Axes>"
      ]
     },
     "metadata": {
      "needs_background": "light"
     },
     "output_type": "display_data"
    }
   ],
   "source": [
    "# 2. 모델 구성 \n",
    "model = Sequential()\n",
    "model.add(Dense(60, input_dim=4, activation=\"relu\"))\n",
    "model.add(Dense(50, activation=\"relu\"))\n",
    "model.add(Dense(30, activation=\"relu\"))\n",
    "model.add(Dense(3, activation=\"softmax\"))\n",
    "\n",
    "# 3. 학습과정 설정 \n",
    "model.compile(loss=\"categorical_crossentropy\", optimizer=\"adam\", metrics=[\"accuracy\"])\n",
    "\n",
    "# 4. 학습 \n",
    "model_save_folder = './model/'\n",
    "if not os.path.exists(model_save_folder):\n",
    "    os.mkdir(model_save_folder)\n",
    "file = model_save_folder + 'iris-{epoch:03d}-val{val_accuracy:.4f}.h5'\n",
    "early_stopping = EarlyStopping(patience=40)\n",
    "checkpoint = ModelCheckpoint(filepath=file, \n",
    "                             monitor='val_accuracy', \n",
    "                             verbose=1, \n",
    "                             save_best_only=True)\n",
    "\n",
    "hist = model.fit(train_X, train_Y, batch_size=50,\n",
    "                 epochs=100, validation_split=0.2,\n",
    "                 callbacks=[early_stopping, ])\n",
    "\n",
    "# 5. 모델학습과정 표시하고 평가하기\n",
    "fig, loss_ax = plt.subplots()\n",
    "loss_ax.plot(hist.history['loss'], 'y', label='train loss')\n",
    "loss_ax.plot(hist.history['val_loss'], 'g', label='val loss')\n",
    "loss_ax.set_xlabel(\"epochs\")\n",
    "loss_ax.set_ylabel(\"loss\")\n",
    "# (val_loss값이 높아지는 부분부터 과적합이 되고 있음을 알 수 있다.\n",
    "# => 이럴땐 과적합되는 시점부터 끊어주는 것이 좋다.)\n",
    "\n",
    "acc_ax = loss_ax.twinx() # x축 공유하는 acc_ax\n",
    "acc_ax.plot(hist.history['accuracy'], 'b', label='train accuracy')\n",
    "acc_ax.plot(hist.history['val_accuracy'], 'r', label='val accuracy')\n",
    "acc_ax.set_ylabel(\"accuracy\")\n",
    "\n",
    "loss_ax.legend(loc=\"upper left\")\n",
    "acc_ax.legend(loc=\"lower left\")"
   ]
  },
  {
   "cell_type": "code",
   "execution_count": 20,
   "metadata": {
    "ExecuteTime": {
     "end_time": "2021-03-24T09:00:47.639213Z",
     "start_time": "2021-03-24T09:00:47.635248Z"
    }
   },
   "outputs": [],
   "source": [
    "# 6. 예측 \n",
    "real = np.argmax(test_Y, axis=1) # 실제값 (real data)"
   ]
  },
  {
   "cell_type": "code",
   "execution_count": 21,
   "metadata": {
    "ExecuteTime": {
     "end_time": "2021-03-24T09:00:48.357570Z",
     "start_time": "2021-03-24T09:00:48.275096Z"
    }
   },
   "outputs": [
    {
     "name": "stderr",
     "output_type": "stream",
     "text": [
      "C:\\Users\\tjoeun\\anaconda3\\lib\\site-packages\\tensorflow\\python\\keras\\engine\\sequential.py:450: UserWarning: `model.predict_classes()` is deprecated and will be removed after 2021-01-01. Please use instead:* `np.argmax(model.predict(x), axis=-1)`,   if your model does multi-class classification   (e.g. if it uses a `softmax` last-layer activation).* `(model.predict(x) > 0.5).astype(\"int32\")`,   if your model does binary classification   (e.g. if it uses a `sigmoid` last-layer activation).\n",
      "  warnings.warn('`model.predict_classes()` is deprecated and '\n"
     ]
    },
    {
     "data": {
      "text/plain": [
       "array([0, 1, 1, 0, 2, 1, 2, 0, 0, 2, 1, 0, 2, 1, 1, 0, 1, 1, 0, 0, 1, 1,\n",
       "       1, 0, 2, 1, 0, 0, 1, 2, 1, 2, 1, 2, 2, 0, 1, 0, 1, 2, 2, 0, 2, 2,\n",
       "       1], dtype=int64)"
      ]
     },
     "execution_count": 21,
     "metadata": {},
     "output_type": "execute_result"
    }
   ],
   "source": [
    "pred = model.predict_classes(test_X) # 예측값 \n",
    "pred"
   ]
  },
  {
   "cell_type": "code",
   "execution_count": 22,
   "metadata": {
    "ExecuteTime": {
     "end_time": "2021-03-24T09:00:49.328982Z",
     "start_time": "2021-03-24T09:00:49.324021Z"
    }
   },
   "outputs": [
    {
     "data": {
      "text/plain": [
       "True"
      ]
     },
     "execution_count": 22,
     "metadata": {},
     "output_type": "execute_result"
    }
   ],
   "source": [
    "np.all(pred==real) # 왜 나만 false야 ..."
   ]
  },
  {
   "cell_type": "code",
   "execution_count": 23,
   "metadata": {
    "ExecuteTime": {
     "end_time": "2021-03-24T09:00:50.527281Z",
     "start_time": "2021-03-24T09:00:50.508354Z"
    }
   },
   "outputs": [
    {
     "data": {
      "text/html": [
       "<div>\n",
       "<style scoped>\n",
       "    .dataframe tbody tr th:only-of-type {\n",
       "        vertical-align: middle;\n",
       "    }\n",
       "\n",
       "    .dataframe tbody tr th {\n",
       "        vertical-align: top;\n",
       "    }\n",
       "\n",
       "    .dataframe thead th {\n",
       "        text-align: right;\n",
       "    }\n",
       "</style>\n",
       "<table border=\"1\" class=\"dataframe\">\n",
       "  <thead>\n",
       "    <tr style=\"text-align: right;\">\n",
       "      <th>pred</th>\n",
       "      <th>0</th>\n",
       "      <th>1</th>\n",
       "      <th>2</th>\n",
       "    </tr>\n",
       "    <tr>\n",
       "      <th>real</th>\n",
       "      <th></th>\n",
       "      <th></th>\n",
       "      <th></th>\n",
       "    </tr>\n",
       "  </thead>\n",
       "  <tbody>\n",
       "    <tr>\n",
       "      <th>0</th>\n",
       "      <td>14</td>\n",
       "      <td>0</td>\n",
       "      <td>0</td>\n",
       "    </tr>\n",
       "    <tr>\n",
       "      <th>1</th>\n",
       "      <td>0</td>\n",
       "      <td>18</td>\n",
       "      <td>0</td>\n",
       "    </tr>\n",
       "    <tr>\n",
       "      <th>2</th>\n",
       "      <td>0</td>\n",
       "      <td>0</td>\n",
       "      <td>13</td>\n",
       "    </tr>\n",
       "  </tbody>\n",
       "</table>\n",
       "</div>"
      ],
      "text/plain": [
       "pred   0   1   2\n",
       "real            \n",
       "0     14   0   0\n",
       "1      0  18   0\n",
       "2      0   0  13"
      ]
     },
     "execution_count": 23,
     "metadata": {},
     "output_type": "execute_result"
    }
   ],
   "source": [
    "ct_result = pd.crosstab(real, pred)\n",
    "ct_result.index.name = \"real\"\n",
    "ct_result.columns.name = \"pred\"\n",
    "ct_result"
   ]
  },
  {
   "cell_type": "code",
   "execution_count": 24,
   "metadata": {
    "ExecuteTime": {
     "end_time": "2021-03-24T09:00:53.517129Z",
     "start_time": "2021-03-24T09:00:53.458968Z"
    }
   },
   "outputs": [
    {
     "name": "stdout",
     "output_type": "stream",
     "text": [
      "5/5 [==============================] - 0s 997us/step - loss: 0.0869 - accuracy: 1.0000\n"
     ]
    }
   ],
   "source": [
    "# 평가 \n",
    "score = model.evaluate(test_X, test_Y, batch_size=10)"
   ]
  },
  {
   "cell_type": "code",
   "execution_count": 25,
   "metadata": {
    "ExecuteTime": {
     "end_time": "2021-03-24T09:00:54.072621Z",
     "start_time": "2021-03-24T09:00:54.067633Z"
    }
   },
   "outputs": [
    {
     "name": "stdout",
     "output_type": "stream",
     "text": [
      "평가된 loss:  0.08690187335014343\n",
      "평가된 accuracy:  1.0\n",
      "[0.08690187335014343, 1.0]\n"
     ]
    }
   ],
   "source": [
    "print('평가된 loss: ', score[0])\n",
    "print('평가된 accuracy: ', score[1])\n",
    "print(score)"
   ]
  },
  {
   "cell_type": "code",
   "execution_count": 28,
   "metadata": {
    "ExecuteTime": {
     "end_time": "2021-03-24T09:04:08.970218Z",
     "start_time": "2021-03-24T09:04:08.964235Z"
    }
   },
   "outputs": [
    {
     "data": {
      "text/plain": [
       "sepal_length           6.4\n",
       "sepal_width            3.2\n",
       "petal_length           4.5\n",
       "petal_width            1.5\n",
       "species         versicolor\n",
       "Name: 51, dtype: object"
      ]
     },
     "execution_count": 28,
     "metadata": {},
     "output_type": "execute_result"
    }
   ],
   "source": [
    "iris.iloc[51]"
   ]
  },
  {
   "cell_type": "code",
   "execution_count": 27,
   "metadata": {
    "ExecuteTime": {
     "end_time": "2021-03-24T09:02:18.067285Z",
     "start_time": "2021-03-24T09:02:18.020420Z"
    }
   },
   "outputs": [
    {
     "name": "stderr",
     "output_type": "stream",
     "text": [
      "C:\\Users\\tjoeun\\anaconda3\\lib\\site-packages\\tensorflow\\python\\keras\\engine\\sequential.py:450: UserWarning: `model.predict_classes()` is deprecated and will be removed after 2021-01-01. Please use instead:* `np.argmax(model.predict(x), axis=-1)`,   if your model does multi-class classification   (e.g. if it uses a `softmax` last-layer activation).* `(model.predict(x) > 0.5).astype(\"int32\")`,   if your model does binary classification   (e.g. if it uses a `sigmoid` last-layer activation).\n",
      "  warnings.warn('`model.predict_classes()` is deprecated and '\n"
     ]
    },
    {
     "data": {
      "text/plain": [
       "0"
      ]
     },
     "execution_count": 27,
     "metadata": {},
     "output_type": "execute_result"
    }
   ],
   "source": [
    "np.argmax(model.predict_classes(np.array([[6.4, 3.2, 4.5, 1.5]])))"
   ]
  }
 ],
 "metadata": {
  "kernelspec": {
   "display_name": "Python 3",
   "language": "python",
   "name": "python3"
  },
  "language_info": {
   "codemirror_mode": {
    "name": "ipython",
    "version": 3
   },
   "file_extension": ".py",
   "mimetype": "text/x-python",
   "name": "python",
   "nbconvert_exporter": "python",
   "pygments_lexer": "ipython3",
   "version": "3.8.8"
  },
  "toc": {
   "base_numbering": 1,
   "nav_menu": {},
   "number_sections": true,
   "sideBar": true,
   "skip_h1_title": false,
   "title_cell": "Table of Contents",
   "title_sidebar": "Contents",
   "toc_cell": false,
   "toc_position": {},
   "toc_section_display": true,
   "toc_window_display": false
  },
  "varInspector": {
   "cols": {
    "lenName": 16,
    "lenType": 16,
    "lenVar": 40
   },
   "kernels_config": {
    "python": {
     "delete_cmd_postfix": "",
     "delete_cmd_prefix": "del ",
     "library": "var_list.py",
     "varRefreshCmd": "print(var_dic_list())"
    },
    "r": {
     "delete_cmd_postfix": ") ",
     "delete_cmd_prefix": "rm(",
     "library": "var_list.r",
     "varRefreshCmd": "cat(var_dic_list()) "
    }
   },
   "types_to_exclude": [
    "module",
    "function",
    "builtin_function_or_method",
    "instance",
    "_Feature"
   ],
   "window_display": false
  }
 },
 "nbformat": 4,
 "nbformat_minor": 4
}
