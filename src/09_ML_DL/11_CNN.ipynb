{
 "cells": [
  {
   "cell_type": "code",
   "execution_count": 1,
   "metadata": {
    "ExecuteTime": {
     "end_time": "2021-03-25T02:19:00.371001Z",
     "start_time": "2021-03-25T02:19:00.360031Z"
    }
   },
   "outputs": [
    {
     "data": {
      "text/html": [
       "\n",
       "<style>\n",
       "div.container{width:100% !important;}\n",
       "div.CodeMirror {font-family:Consolas; font-size:10pt;}\n",
       "div.output {font-size:10pt;}\n",
       "div.input {font-family:Consolas; font-size:10pt;}\n",
       "div.prompt {min-width:70px;}\n",
       "</style>\n"
      ],
      "text/plain": [
       "<IPython.core.display.HTML object>"
      ]
     },
     "metadata": {},
     "output_type": "display_data"
    }
   ],
   "source": [
    "from IPython.display import display, HTML\n",
    "display(HTML(\"\"\"\n",
    "<style>\n",
    "div.container{width:100% !important;}\n",
    "div.CodeMirror {font-family:Consolas; font-size:10pt;}\n",
    "div.output {font-size:10pt;}\n",
    "div.input {font-family:Consolas; font-size:10pt;}\n",
    "div.prompt {min-width:70px;}\n",
    "</style>\n",
    "\"\"\"))"
   ]
  },
  {
   "cell_type": "code",
   "execution_count": 2,
   "metadata": {
    "ExecuteTime": {
     "end_time": "2021-03-25T02:19:00.961649Z",
     "start_time": "2021-03-25T02:19:00.372996Z"
    }
   },
   "outputs": [
    {
     "name": "stdout",
     "output_type": "stream",
     "text": [
      "(24, 24, 4)\n",
      "<class 'numpy.ndarray'>\n"
     ]
    },
    {
     "data": {
      "image/png": "[encoded data removed]",
      "text/plain": [
       "<Figure size 432x288 with 1 Axes>"
      ]
     },
     "metadata": {
      "needs_background": "light"
     },
     "output_type": "display_data"
    }
   ],
   "source": [
    "import matplotlib.pyplot as plt\n",
    "\n",
    "c0 = plt.imread('data/handwriting/handwriting_shape/train/circle/circle001.png')\n",
    "plt.imshow(c0)\n",
    "print(c0.shape)\n",
    "print(type(c0))"
   ]
  },
  {
   "cell_type": "code",
   "execution_count": 3,
   "metadata": {
    "ExecuteTime": {
     "end_time": "2021-03-25T02:19:03.259496Z",
     "start_time": "2021-03-25T02:19:00.962631Z"
    }
   },
   "outputs": [],
   "source": [
    "import numpy as np \n",
    "from tensorflow.keras.models import Sequential\n",
    "from tensorflow.keras.layers import Conv2D # 필터링 => 특성 뽑기 \n",
    "from tensorflow.keras.layers import MaxPool2D # 풀링 => 용량 최소화 \n",
    "from tensorflow.keras.layers import Flatten # 2차원 영상 데이터를 1차원으로 \n",
    "from tensorflow.keras.layers import Dense, Dropout\n",
    "from tensorflow.keras.preprocessing.image import ImageDataGenerator \n",
    "                                               # (원핫인코딩과 정규화까지 다 해줌)\n",
    "np.random.seed(3)"
   ]
  },
  {
   "cell_type": "code",
   "execution_count": 4,
   "metadata": {
    "ExecuteTime": {
     "end_time": "2021-03-25T02:19:03.282897Z",
     "start_time": "2021-03-25T02:19:03.259496Z"
    }
   },
   "outputs": [
    {
     "name": "stdout",
     "output_type": "stream",
     "text": [
      "Found 45 images belonging to 3 classes.\n",
      "Found 15 images belonging to 3 classes.\n"
     ]
    }
   ],
   "source": [
    "# 1. 데이터 생성하기 \n",
    "train_datagen = ImageDataGenerator(rescale=1./255) # 정규화 작업\n",
    "train_generator = train_datagen.flow_from_directory(\n",
    "                    'data/handwriting/handwriting_shape/train',\n",
    "                    target_size=(24,24), \n",
    "                    batch_size=3, # 3개씩 가져와라\n",
    "                    class_mode='categorical') \n",
    "                    # 원핫 인코딩을 3개의 카테고리로 나눠라 (폴더가 3개니까)\n",
    "                    # 폴더가 2개면 ('binary')\n",
    "        \n",
    "test_datagen = ImageDataGenerator(rescale=1./255) # 테스트 데이터 만들기\n",
    "test_generator = test_datagen.flow_from_directory(\n",
    "                    'data/handwriting/handwriting_shape/test',\n",
    "                    target_size=(24,24),\n",
    "                    batch_size=3,\n",
    "                    class_mode=\"categorical\")\n",
    "\n",
    "# 3개의 폴더에 45개 이미지\n",
    "# 3개의 폴더에 15개 이미지 "
   ]
  },
  {
   "cell_type": "code",
   "execution_count": 5,
   "metadata": {
    "ExecuteTime": {
     "end_time": "2021-03-25T02:19:03.510032Z",
     "start_time": "2021-03-25T02:19:03.284891Z"
    }
   },
   "outputs": [],
   "source": [
    "# 2. 모델 구성\n",
    "model = Sequential()\n",
    "model.add(Conv2D(32, kernel_size=(3,3), activation=\"relu\", input_shape=(24,24,3))) \n",
    "                    # 32: 필터 수 / 24*24를 3*3으로 속성으로 뽑기 => 22*22 \n",
    "model.add(Conv2D(64, kernel_size=(3,3), activation='relu')) # 22*22 => 20*20\n",
    "model.add(MaxPool2D(pool_size=(2,2))) # 2*2 에서 제일 큰 값만 뽑아 이미지 축소 \n",
    "model.add(Flatten()) # 2차원 이미지데이터를 1차원으로\n",
    "model.add(Dense(units=128, activation=\"relu\")) # 'unit='는 생략가능 \n",
    "model.add(Dense(3, activation=\"softmax\"))"
   ]
  },
  {
   "cell_type": "code",
   "execution_count": 6,
   "metadata": {
    "ExecuteTime": {
     "end_time": "2021-03-25T02:19:03.523944Z",
     "start_time": "2021-03-25T02:19:03.510954Z"
    }
   },
   "outputs": [],
   "source": [
    "# 3. 모델 학습과정 설정 \n",
    "model.compile(loss='categorical_crossentropy', optimizer='adam', metrics=['accuracy'])"
   ]
  },
  {
   "cell_type": "code",
   "execution_count": 7,
   "metadata": {
    "ExecuteTime": {
     "end_time": "2021-03-25T02:19:16.080694Z",
     "start_time": "2021-03-25T02:19:03.526912Z"
    }
   },
   "outputs": [
    {
     "name": "stderr",
     "output_type": "stream",
     "text": [
      "C:\\Users\\tjoeun\\anaconda3\\lib\\site-packages\\tensorflow\\python\\keras\\engine\\training.py:1844: UserWarning: `Model.fit_generator` is deprecated and will be removed in a future version. Please use `Model.fit`, which supports generators.\n",
      "  warnings.warn('`Model.fit_generator` is deprecated and '\n"
     ]
    },
    {
     "name": "stdout",
     "output_type": "stream",
     "text": [
      "Epoch 1/50\n",
      "15/15 [==============================] - 1s 71ms/step - loss: 1.5191 - accuracy: 0.4515 - val_loss: 0.6278 - val_accuracy: 0.9333\n",
      "Epoch 2/50\n",
      "15/15 [==============================] - 0s 13ms/step - loss: 0.4073 - accuracy: 0.9284 - val_loss: 0.1417 - val_accuracy: 1.0000\n",
      "Epoch 3/50\n",
      "15/15 [==============================] - 0s 13ms/step - loss: 0.0498 - accuracy: 1.0000 - val_loss: 0.0810 - val_accuracy: 1.0000\n",
      "Epoch 4/50\n",
      "15/15 [==============================] - 0s 13ms/step - loss: 0.0108 - accuracy: 1.0000 - val_loss: 0.0458 - val_accuracy: 1.0000\n",
      "Epoch 5/50\n",
      "15/15 [==============================] - 0s 13ms/step - loss: 0.0041 - accuracy: 1.0000 - val_loss: 0.0129 - val_accuracy: 1.0000\n",
      "Epoch 6/50\n",
      "15/15 [==============================] - 0s 13ms/step - loss: 0.0033 - accuracy: 1.0000 - val_loss: 0.0096 - val_accuracy: 1.0000\n",
      "Epoch 7/50\n",
      "15/15 [==============================] - 0s 13ms/step - loss: 0.0015 - accuracy: 1.0000 - val_loss: 0.0085 - val_accuracy: 1.0000\n",
      "Epoch 8/50\n",
      "15/15 [==============================] - 0s 14ms/step - loss: 3.7881e-04 - accuracy: 1.0000 - val_loss: 0.0101 - val_accuracy: 1.0000\n",
      "Epoch 9/50\n",
      "15/15 [==============================] - 0s 13ms/step - loss: 3.2836e-04 - accuracy: 1.0000 - val_loss: 0.0105 - val_accuracy: 1.0000\n",
      "Epoch 10/50\n",
      "15/15 [==============================] - 0s 12ms/step - loss: 2.2895e-04 - accuracy: 1.0000 - val_loss: 0.0107 - val_accuracy: 1.0000\n",
      "Epoch 11/50\n",
      "15/15 [==============================] - 0s 13ms/step - loss: 2.2123e-04 - accuracy: 1.0000 - val_loss: 0.0099 - val_accuracy: 1.0000\n",
      "Epoch 12/50\n",
      "15/15 [==============================] - 0s 13ms/step - loss: 2.1638e-04 - accuracy: 1.0000 - val_loss: 0.0095 - val_accuracy: 1.0000\n",
      "Epoch 13/50\n",
      "15/15 [==============================] - 0s 13ms/step - loss: 2.7847e-04 - accuracy: 1.0000 - val_loss: 0.0091 - val_accuracy: 1.0000\n",
      "Epoch 14/50\n",
      "15/15 [==============================] - 0s 13ms/step - loss: 1.4973e-04 - accuracy: 1.0000 - val_loss: 0.0089 - val_accuracy: 1.0000\n",
      "Epoch 15/50\n",
      "15/15 [==============================] - 0s 13ms/step - loss: 1.5913e-04 - accuracy: 1.0000 - val_loss: 0.0090 - val_accuracy: 1.0000\n",
      "Epoch 16/50\n",
      "15/15 [==============================] - 0s 14ms/step - loss: 1.5357e-04 - accuracy: 1.0000 - val_loss: 0.0091 - val_accuracy: 1.0000\n",
      "Epoch 17/50\n",
      "15/15 [==============================] - 0s 14ms/step - loss: 9.7318e-05 - accuracy: 1.0000 - val_loss: 0.0099 - val_accuracy: 1.0000\n",
      "Epoch 18/50\n",
      "15/15 [==============================] - 0s 14ms/step - loss: 8.4117e-05 - accuracy: 1.0000 - val_loss: 0.0112 - val_accuracy: 1.0000\n",
      "Epoch 19/50\n",
      "15/15 [==============================] - 0s 14ms/step - loss: 7.6600e-05 - accuracy: 1.0000 - val_loss: 0.0145 - val_accuracy: 1.0000\n",
      "Epoch 20/50\n",
      "15/15 [==============================] - 0s 14ms/step - loss: 6.9072e-05 - accuracy: 1.0000 - val_loss: 0.0129 - val_accuracy: 1.0000\n",
      "Epoch 21/50\n",
      "15/15 [==============================] - 0s 14ms/step - loss: 3.2750e-05 - accuracy: 1.0000 - val_loss: 0.0144 - val_accuracy: 1.0000\n",
      "Epoch 22/50\n",
      "15/15 [==============================] - 0s 14ms/step - loss: 3.8185e-05 - accuracy: 1.0000 - val_loss: 0.0151 - val_accuracy: 1.0000\n",
      "Epoch 23/50\n",
      "15/15 [==============================] - 0s 15ms/step - loss: 3.5625e-05 - accuracy: 1.0000 - val_loss: 0.0159 - val_accuracy: 1.0000\n",
      "Epoch 24/50\n",
      "15/15 [==============================] - 0s 13ms/step - loss: 2.4665e-05 - accuracy: 1.0000 - val_loss: 0.0136 - val_accuracy: 1.0000\n",
      "Epoch 25/50\n",
      "15/15 [==============================] - 0s 14ms/step - loss: 1.1747e-05 - accuracy: 1.0000 - val_loss: 0.0134 - val_accuracy: 1.0000\n",
      "Epoch 26/50\n",
      "15/15 [==============================] - 0s 13ms/step - loss: 9.3970e-06 - accuracy: 1.0000 - val_loss: 0.0138 - val_accuracy: 1.0000\n",
      "Epoch 27/50\n",
      "15/15 [==============================] - 0s 14ms/step - loss: 1.0625e-05 - accuracy: 1.0000 - val_loss: 0.0125 - val_accuracy: 1.0000\n",
      "Epoch 28/50\n",
      "15/15 [==============================] - 0s 13ms/step - loss: 7.1051e-06 - accuracy: 1.0000 - val_loss: 0.0137 - val_accuracy: 1.0000\n",
      "Epoch 29/50\n",
      "15/15 [==============================] - 0s 14ms/step - loss: 7.5315e-06 - accuracy: 1.0000 - val_loss: 0.0121 - val_accuracy: 1.0000\n",
      "Epoch 30/50\n",
      "15/15 [==============================] - 0s 14ms/step - loss: 5.4423e-06 - accuracy: 1.0000 - val_loss: 0.0119 - val_accuracy: 1.0000\n",
      "Epoch 31/50\n",
      "15/15 [==============================] - 0s 14ms/step - loss: 7.9410e-06 - accuracy: 1.0000 - val_loss: 0.0120 - val_accuracy: 1.0000\n",
      "Epoch 32/50\n",
      "15/15 [==============================] - 0s 15ms/step - loss: 3.4088e-06 - accuracy: 1.0000 - val_loss: 0.0114 - val_accuracy: 1.0000\n",
      "Epoch 33/50\n",
      "15/15 [==============================] - 0s 13ms/step - loss: 3.7723e-06 - accuracy: 1.0000 - val_loss: 0.0105 - val_accuracy: 1.0000\n",
      "Epoch 34/50\n",
      "15/15 [==============================] - 0s 15ms/step - loss: 3.9119e-06 - accuracy: 1.0000 - val_loss: 0.0106 - val_accuracy: 1.0000\n",
      "Epoch 35/50\n",
      "15/15 [==============================] - 0s 13ms/step - loss: 2.5487e-06 - accuracy: 1.0000 - val_loss: 0.0099 - val_accuracy: 1.0000\n",
      "Epoch 36/50\n",
      "15/15 [==============================] - 0s 13ms/step - loss: 3.9865e-06 - accuracy: 1.0000 - val_loss: 0.0091 - val_accuracy: 1.0000\n",
      "Epoch 37/50\n",
      "15/15 [==============================] - 0s 14ms/step - loss: 2.4494e-06 - accuracy: 1.0000 - val_loss: 0.0088 - val_accuracy: 1.0000\n",
      "Epoch 38/50\n",
      "15/15 [==============================] - 0s 13ms/step - loss: 1.7163e-06 - accuracy: 1.0000 - val_loss: 0.0085 - val_accuracy: 1.0000\n",
      "Epoch 39/50\n",
      "15/15 [==============================] - 0s 15ms/step - loss: 2.5067e-06 - accuracy: 1.0000 - val_loss: 0.0088 - val_accuracy: 1.0000\n",
      "Epoch 40/50\n",
      "15/15 [==============================] - 0s 12ms/step - loss: 2.7636e-06 - accuracy: 1.0000 - val_loss: 0.0083 - val_accuracy: 1.0000\n",
      "Epoch 41/50\n",
      "15/15 [==============================] - 0s 15ms/step - loss: 2.9925e-06 - accuracy: 1.0000 - val_loss: 0.0079 - val_accuracy: 1.0000\n",
      "Epoch 42/50\n",
      "15/15 [==============================] - 0s 13ms/step - loss: 1.5191e-06 - accuracy: 1.0000 - val_loss: 0.0077 - val_accuracy: 1.0000\n",
      "Epoch 43/50\n",
      "15/15 [==============================] - 0s 13ms/step - loss: 1.8047e-06 - accuracy: 1.0000 - val_loss: 0.0081 - val_accuracy: 1.0000\n",
      "Epoch 44/50\n",
      "15/15 [==============================] - 0s 13ms/step - loss: 1.6102e-06 - accuracy: 1.0000 - val_loss: 0.0078 - val_accuracy: 1.0000\n",
      "Epoch 45/50\n",
      "15/15 [==============================] - 0s 13ms/step - loss: 1.1112e-06 - accuracy: 1.0000 - val_loss: 0.0078 - val_accuracy: 1.0000\n",
      "Epoch 46/50\n",
      "15/15 [==============================] - 0s 13ms/step - loss: 1.3198e-06 - accuracy: 1.0000 - val_loss: 0.0077 - val_accuracy: 1.0000\n",
      "Epoch 47/50\n",
      "15/15 [==============================] - 0s 13ms/step - loss: 1.3223e-06 - accuracy: 1.0000 - val_loss: 0.0079 - val_accuracy: 1.0000\n",
      "Epoch 48/50\n",
      "15/15 [==============================] - 0s 13ms/step - loss: 1.7430e-06 - accuracy: 1.0000 - val_loss: 0.0074 - val_accuracy: 1.0000\n",
      "Epoch 49/50\n",
      "15/15 [==============================] - 0s 13ms/step - loss: 1.0285e-06 - accuracy: 1.0000 - val_loss: 0.0077 - val_accuracy: 1.0000\n",
      "Epoch 50/50\n",
      "15/15 [==============================] - 0s 13ms/step - loss: 1.0075e-06 - accuracy: 1.0000 - val_loss: 0.0074 - val_accuracy: 1.0000\n"
     ]
    },
    {
     "data": {
      "text/plain": [
       "<tensorflow.python.keras.callbacks.History at 0x1b2fea2e040>"
      ]
     },
     "execution_count": 7,
     "metadata": {},
     "output_type": "execute_result"
    }
   ],
   "source": [
    "# 4. 모델 학습하기 \n",
    "model.fit_generator(train_generator, steps_per_epoch=15,\n",
    "                    epochs=50,\n",
    "                    validation_data=test_generator,\n",
    "                    validation_steps=5) # 5 step마다 한번씩 vallidation 수행해라"
   ]
  },
  {
   "cell_type": "code",
   "execution_count": 8,
   "metadata": {
    "ExecuteTime": {
     "end_time": "2021-03-25T02:19:16.156627Z",
     "start_time": "2021-03-25T02:19:16.085681Z"
    }
   },
   "outputs": [
    {
     "name": "stdout",
     "output_type": "stream",
     "text": [
      "loss:  0.007414620835334063\n",
      "accuracy:  1.0\n"
     ]
    },
    {
     "name": "stderr",
     "output_type": "stream",
     "text": [
      "C:\\Users\\tjoeun\\anaconda3\\lib\\site-packages\\tensorflow\\python\\keras\\engine\\training.py:1877: UserWarning: `Model.evaluate_generator` is deprecated and will be removed in a future version. Please use `Model.evaluate`, which supports generators.\n",
      "  warnings.warn('`Model.evaluate_generator` is deprecated and '\n"
     ]
    }
   ],
   "source": [
    "# 5. 모델 평가하기 \n",
    "score = model.evaluate_generator(test_generator, steps=5)\n",
    "print(\"loss: \", score[0])\n",
    "print(\"accuracy: \", score[1])"
   ]
  },
  {
   "cell_type": "code",
   "execution_count": 9,
   "metadata": {
    "ExecuteTime": {
     "end_time": "2021-03-25T02:19:16.302257Z",
     "start_time": "2021-03-25T02:19:16.157643Z"
    }
   },
   "outputs": [
    {
     "name": "stderr",
     "output_type": "stream",
     "text": [
      "C:\\Users\\tjoeun\\anaconda3\\lib\\site-packages\\tensorflow\\python\\keras\\engine\\training.py:1905: UserWarning: `Model.predict_generator` is deprecated and will be removed in a future version. Please use `Model.predict`, which supports generators.\n",
      "  warnings.warn('`Model.predict_generator` is deprecated and '\n"
     ]
    },
    {
     "name": "stdout",
     "output_type": "stream",
     "text": [
      "{'circle': 0, 'rectangle': 1, 'triangle': 2}\n",
      "[[0.00 1.00 0.00]\n",
      " [0.01 0.94 0.05]\n",
      " [0.00 0.00 1.00]\n",
      " [1.00 0.00 0.00]\n",
      " [0.95 0.00 0.05]\n",
      " [0.00 1.00 0.00]\n",
      " [0.00 1.00 0.00]\n",
      " [0.00 0.00 1.00]\n",
      " [0.00 0.00 1.00]\n",
      " [1.00 0.00 0.00]\n",
      " [1.00 0.00 0.00]\n",
      " [0.00 1.00 0.00]\n",
      " [0.00 0.00 1.00]\n",
      " [0.00 0.00 1.00]\n",
      " [1.00 0.00 0.00]]\n"
     ]
    }
   ],
   "source": [
    "# 6. 예측하기 \n",
    "pred = model.predict_generator(test_generator)\n",
    "print(test_generator.class_indices)\n",
    "np.set_printoptions(formatter={'float':lambda x : \"{:0.2f}\".format(x)})\n",
    "print(pred)"
   ]
  },
  {
   "cell_type": "markdown",
   "metadata": {},
   "source": [
    "# accuracy 늘리기 \n",
    "<ul>\n",
    "    <li>데이터 확보, 데이터 부풀리기(ImageDataGenerator)</li>\n",
    "    <li>레이어 층</li>\n",
    "</ul>"
   ]
  },
  {
   "cell_type": "code",
   "execution_count": 10,
   "metadata": {
    "ExecuteTime": {
     "end_time": "2021-03-25T02:19:16.327041Z",
     "start_time": "2021-03-25T02:19:16.303235Z"
    }
   },
   "outputs": [
    {
     "name": "stdout",
     "output_type": "stream",
     "text": [
      "Found 69 images belonging to 3 classes.\n",
      "Found 15 images belonging to 3 classes.\n"
     ]
    }
   ],
   "source": [
    "# 1. 데이터 생성하기  # ppt p.105\n",
    "train_datagen = ImageDataGenerator(rescale=1./255, \n",
    "                                   rotation_range=10,\n",
    "                                   width_shift_range=0.2,\n",
    "                                   height_shift_range=0.2,\n",
    "                                   shear_range=0.7, # 0.7라이안 밀림\n",
    "                                   zoom_range=[0.9,2.2], # 0.9배~2.2배\n",
    "                                   horizontal_flip=True, # 수평방향으로 뒤집기\n",
    "                                   vertical_flip=True, # 수직방향으로 뒤집기\n",
    "                                   fill_mode='nearest') #이미지를 회전,\n",
    "                                   #이동하거나 축소할 때 공간을 채우는 방식\n",
    "\n",
    "train_generator = train_datagen.flow_from_directory(\n",
    "                    'data/handwriting/hand_test/train',\n",
    "                    target_size=(24,24), \n",
    "                    batch_size=3, # 3개씩 가져와라\n",
    "                    class_mode='categorical') \n",
    "        \n",
    "test_datagen = ImageDataGenerator(rescale=1./255) # 테스트 데이터 만들기\n",
    "test_generator = test_datagen.flow_from_directory(\n",
    "                    'data/handwriting/hand_test/test',\n",
    "                    target_size=(24,24),\n",
    "                    batch_size=3,\n",
    "                    class_mode=\"categorical\")"
   ]
  },
  {
   "cell_type": "code",
   "execution_count": 14,
   "metadata": {
    "ExecuteTime": {
     "end_time": "2021-03-25T02:21:35.908210Z",
     "start_time": "2021-03-25T02:21:35.831320Z"
    }
   },
   "outputs": [],
   "source": [
    "# 2. 모델 구성\n",
    "model = Sequential()\n",
    "# conv2D(필터갯수, 필터사이즈, activation_fun, 입력사이즈)\n",
    "model.add(Conv2D(32, kernel_size=(3,3), activation=\"relu\", input_shape=(24,24,3))) \n",
    "                    # 24*24를 3*3으로 속성으로 뽑기 => 22*22 \n",
    "model.add(Conv2D(32, kernel_size=(3,3), activation='relu')) # 22*22 => 20*20\n",
    "model.add(MaxPool2D(pool_size=(2,2))) # 2*2 에서 제일 큰 값만 뽑아 이미지 축소 \n",
    "\n",
    "model.add(Dropout(0.1)) # for 과적합 방지\n",
    "model.add(Conv2D(64, kernel_size=(3,3), activation='relu'))\n",
    "model.add(Conv2D(64, kernel_size=(3,3), activation='relu'))\n",
    "model.add(MaxPool2D(pool_size=(2,2))) # 2*1에서 제일 큰 값만 뽑아 이미지 축소\n",
    "model.add(Dropout(0.1))\n",
    "\n",
    "model.add(Flatten()) # 2차원 이미지데이터를 1차원으로 \n",
    "model.add(Dense(128, activation=\"relu\"))\n",
    "model.add(Dense(3, activation=\"softmax\"))"
   ]
  },
  {
   "cell_type": "code",
   "execution_count": 15,
   "metadata": {
    "ExecuteTime": {
     "end_time": "2021-03-25T02:21:46.919571Z",
     "start_time": "2021-03-25T02:21:37.934831Z"
    }
   },
   "outputs": [
    {
     "name": "stdout",
     "output_type": "stream",
     "text": [
      "Epoch 1/50\n",
      "15/15 [==============================] - 1s 22ms/step - loss: 1.1270 - accuracy: 0.3283 - val_loss: 1.0992 - val_accuracy: 0.3333\n",
      "Epoch 2/50\n",
      "15/15 [==============================] - 0s 10ms/step - loss: 1.1010 - accuracy: 0.3060 - val_loss: 1.0998 - val_accuracy: 0.2667\n",
      "Epoch 3/50\n",
      "15/15 [==============================] - 0s 11ms/step - loss: 1.0913 - accuracy: 0.3296 - val_loss: 1.1048 - val_accuracy: 0.3333\n",
      "Epoch 4/50\n",
      "15/15 [==============================] - 0s 9ms/step - loss: 1.1010 - accuracy: 0.4697 - val_loss: 1.0905 - val_accuracy: 0.4667\n",
      "Epoch 5/50\n",
      "15/15 [==============================] - 0s 9ms/step - loss: 1.0838 - accuracy: 0.3516 - val_loss: 1.0892 - val_accuracy: 0.3333\n",
      "Epoch 6/50\n",
      "15/15 [==============================] - 0s 9ms/step - loss: 1.0581 - accuracy: 0.4446 - val_loss: 1.0920 - val_accuracy: 0.3333\n",
      "Epoch 7/50\n",
      "15/15 [==============================] - 0s 9ms/step - loss: 1.0424 - accuracy: 0.3557 - val_loss: 1.0678 - val_accuracy: 0.5333\n",
      "Epoch 8/50\n",
      "15/15 [==============================] - 0s 9ms/step - loss: 1.0387 - accuracy: 0.4070 - val_loss: 1.3429 - val_accuracy: 0.4000\n",
      "Epoch 9/50\n",
      "15/15 [==============================] - 0s 8ms/step - loss: 0.9393 - accuracy: 0.4690 - val_loss: 1.5313 - val_accuracy: 0.4000\n",
      "Epoch 10/50\n",
      "15/15 [==============================] - 0s 9ms/step - loss: 0.9284 - accuracy: 0.5491 - val_loss: 1.0527 - val_accuracy: 0.5333\n",
      "Epoch 11/50\n",
      "15/15 [==============================] - 0s 9ms/step - loss: 0.8180 - accuracy: 0.6732 - val_loss: 1.0308 - val_accuracy: 0.4667\n",
      "Epoch 12/50\n",
      "15/15 [==============================] - 0s 9ms/step - loss: 0.7841 - accuracy: 0.7122 - val_loss: 1.0364 - val_accuracy: 0.5333\n",
      "Epoch 13/50\n",
      "15/15 [==============================] - 0s 9ms/step - loss: 0.7312 - accuracy: 0.6051 - val_loss: 1.2638 - val_accuracy: 0.5333\n",
      "Epoch 14/50\n",
      "15/15 [==============================] - 0s 9ms/step - loss: 0.6220 - accuracy: 0.7853 - val_loss: 1.9996 - val_accuracy: 0.6000\n",
      "Epoch 15/50\n",
      "15/15 [==============================] - 0s 10ms/step - loss: 0.7528 - accuracy: 0.7234 - val_loss: 0.7729 - val_accuracy: 0.6667\n",
      "Epoch 16/50\n",
      "15/15 [==============================] - 0s 9ms/step - loss: 0.5769 - accuracy: 0.8463 - val_loss: 1.4077 - val_accuracy: 0.6667\n",
      "Epoch 17/50\n",
      "15/15 [==============================] - 0s 10ms/step - loss: 0.6068 - accuracy: 0.7447 - val_loss: 1.3354 - val_accuracy: 0.4667\n",
      "Epoch 18/50\n",
      "15/15 [==============================] - 0s 9ms/step - loss: 0.5089 - accuracy: 0.7256 - val_loss: 1.6449 - val_accuracy: 0.6667\n",
      "Epoch 19/50\n",
      "15/15 [==============================] - 0s 9ms/step - loss: 0.4691 - accuracy: 0.7485 - val_loss: 1.6935 - val_accuracy: 0.7333\n",
      "Epoch 20/50\n",
      "15/15 [==============================] - 0s 9ms/step - loss: 0.4423 - accuracy: 0.8648 - val_loss: 1.2257 - val_accuracy: 0.6667\n",
      "Epoch 21/50\n",
      "15/15 [==============================] - 0s 9ms/step - loss: 0.8469 - accuracy: 0.5880 - val_loss: 0.8974 - val_accuracy: 0.8000\n",
      "Epoch 22/50\n",
      "15/15 [==============================] - 0s 9ms/step - loss: 0.5781 - accuracy: 0.7734 - val_loss: 1.7553 - val_accuracy: 0.5333\n",
      "Epoch 23/50\n",
      "15/15 [==============================] - 0s 10ms/step - loss: 0.4662 - accuracy: 0.7728 - val_loss: 1.1405 - val_accuracy: 0.7333\n",
      "Epoch 24/50\n",
      "15/15 [==============================] - 0s 9ms/step - loss: 0.3910 - accuracy: 0.8316 - val_loss: 1.5264 - val_accuracy: 0.8000\n",
      "Epoch 25/50\n",
      "15/15 [==============================] - 0s 9ms/step - loss: 0.3734 - accuracy: 0.7729 - val_loss: 1.2359 - val_accuracy: 0.7333\n",
      "Epoch 26/50\n",
      "15/15 [==============================] - 0s 9ms/step - loss: 0.3689 - accuracy: 0.8424 - val_loss: 1.1173 - val_accuracy: 0.8667\n",
      "Epoch 27/50\n",
      "15/15 [==============================] - 0s 9ms/step - loss: 0.2911 - accuracy: 0.9375 - val_loss: 2.4397 - val_accuracy: 0.6667\n",
      "Epoch 28/50\n",
      "15/15 [==============================] - 0s 10ms/step - loss: 0.3896 - accuracy: 0.8491 - val_loss: 1.2349 - val_accuracy: 0.8667\n",
      "Epoch 29/50\n",
      "15/15 [==============================] - 0s 11ms/step - loss: 0.1449 - accuracy: 0.9763 - val_loss: 2.4522 - val_accuracy: 0.6000\n",
      "Epoch 30/50\n",
      "15/15 [==============================] - 0s 9ms/step - loss: 0.6973 - accuracy: 0.7364 - val_loss: 0.9811 - val_accuracy: 0.8000\n",
      "Epoch 31/50\n",
      "15/15 [==============================] - 0s 10ms/step - loss: 0.3840 - accuracy: 0.9052 - val_loss: 1.1482 - val_accuracy: 0.8000\n",
      "Epoch 32/50\n",
      "15/15 [==============================] - 0s 11ms/step - loss: 0.1877 - accuracy: 0.9808 - val_loss: 1.2641 - val_accuracy: 0.7333\n",
      "Epoch 33/50\n",
      "15/15 [==============================] - 0s 10ms/step - loss: 0.2943 - accuracy: 0.9222 - val_loss: 1.4402 - val_accuracy: 0.7333\n",
      "Epoch 34/50\n",
      "15/15 [==============================] - 0s 9ms/step - loss: 0.1584 - accuracy: 0.9530 - val_loss: 1.0080 - val_accuracy: 0.8000\n",
      "Epoch 35/50\n",
      "15/15 [==============================] - 0s 10ms/step - loss: 0.3341 - accuracy: 0.8577 - val_loss: 1.5189 - val_accuracy: 0.7333\n",
      "Epoch 36/50\n",
      "15/15 [==============================] - 0s 9ms/step - loss: 0.2463 - accuracy: 0.9319 - val_loss: 1.2163 - val_accuracy: 0.7333\n",
      "Epoch 37/50\n",
      "15/15 [==============================] - 0s 9ms/step - loss: 0.1253 - accuracy: 0.9373 - val_loss: 1.3749 - val_accuracy: 0.7333\n",
      "Epoch 38/50\n",
      "15/15 [==============================] - 0s 9ms/step - loss: 0.2132 - accuracy: 0.8790 - val_loss: 1.6859 - val_accuracy: 0.6667\n",
      "Epoch 39/50\n",
      "15/15 [==============================] - 0s 9ms/step - loss: 0.3394 - accuracy: 0.9101 - val_loss: 1.4810 - val_accuracy: 0.8000\n",
      "Epoch 40/50\n",
      "15/15 [==============================] - 0s 10ms/step - loss: 0.3390 - accuracy: 0.9252 - val_loss: 0.9459 - val_accuracy: 0.8000\n",
      "Epoch 41/50\n",
      "15/15 [==============================] - 0s 10ms/step - loss: 0.2559 - accuracy: 0.8749 - val_loss: 1.1962 - val_accuracy: 0.8667\n",
      "Epoch 42/50\n",
      "15/15 [==============================] - 0s 10ms/step - loss: 0.2925 - accuracy: 0.8803 - val_loss: 0.8125 - val_accuracy: 0.7333\n",
      "Epoch 43/50\n",
      "15/15 [==============================] - 0s 10ms/step - loss: 0.1313 - accuracy: 0.9694 - val_loss: 0.9410 - val_accuracy: 0.8000\n",
      "Epoch 44/50\n",
      "15/15 [==============================] - 0s 10ms/step - loss: 0.3678 - accuracy: 0.9148 - val_loss: 1.1285 - val_accuracy: 0.8667\n",
      "Epoch 45/50\n",
      "15/15 [==============================] - 0s 10ms/step - loss: 0.1012 - accuracy: 0.9835 - val_loss: 0.6713 - val_accuracy: 0.7333\n",
      "Epoch 46/50\n",
      "15/15 [==============================] - 0s 11ms/step - loss: 0.2786 - accuracy: 0.8766 - val_loss: 1.1191 - val_accuracy: 0.7333\n",
      "Epoch 47/50\n",
      "15/15 [==============================] - 0s 9ms/step - loss: 0.0867 - accuracy: 0.9729 - val_loss: 1.0540 - val_accuracy: 0.8000\n",
      "Epoch 48/50\n",
      "15/15 [==============================] - 0s 10ms/step - loss: 0.1379 - accuracy: 0.9234 - val_loss: 2.1066 - val_accuracy: 0.6667\n",
      "Epoch 49/50\n",
      "15/15 [==============================] - 0s 10ms/step - loss: 0.1573 - accuracy: 0.9285 - val_loss: 1.5817 - val_accuracy: 0.6667\n",
      "Epoch 50/50\n",
      "15/15 [==============================] - 0s 10ms/step - loss: 0.0940 - accuracy: 0.9607 - val_loss: 1.2341 - val_accuracy: 0.8000\n"
     ]
    },
    {
     "data": {
      "text/plain": [
       "<tensorflow.python.keras.callbacks.History at 0x1b287e1f9a0>"
      ]
     },
     "execution_count": 15,
     "metadata": {},
     "output_type": "execute_result"
    }
   ],
   "source": [
    "# 3. 모델 학습과정 설정 \n",
    "model.compile(loss='categorical_crossentropy', optimizer='adam', metrics=['accuracy'])\n",
    "\n",
    "# 4. 모델 학습하기 \n",
    "model.fit_generator(train_generator, steps_per_epoch=15,\n",
    "                    epochs=50,\n",
    "                    validation_data=test_generator,\n",
    "                    validation_steps=5) # 5 step마다 한번씩 vallidation 수행해라"
   ]
  },
  {
   "cell_type": "code",
   "execution_count": 16,
   "metadata": {
    "ExecuteTime": {
     "end_time": "2021-03-25T02:21:56.101474Z",
     "start_time": "2021-03-25T02:21:55.926592Z"
    }
   },
   "outputs": [
    {
     "name": "stdout",
     "output_type": "stream",
     "text": [
      "loss:  1.234062671661377\n",
      "accuracy:  0.800000011920929\n",
      "{'circle': 0, 'rectangle': 1, 'triangle': 2}\n",
      "[2 2 0 0 0 2 2 2 0 1 0 1 2 1 2]\n",
      "[[0.18 0.00 0.82]\n",
      " [0.04 0.00 0.96]\n",
      " [1.00 0.00 0.00]\n",
      " [0.69 0.00 0.31]\n",
      " [1.00 0.00 0.00]\n",
      " [0.39 0.09 0.52]\n",
      " [0.04 0.00 0.96]\n",
      " [0.01 0.00 0.99]\n",
      " [0.63 0.10 0.28]\n",
      " [0.00 1.00 0.00]\n",
      " [1.00 0.00 0.00]\n",
      " [0.22 0.72 0.05]\n",
      " [0.24 0.06 0.69]\n",
      " [0.00 1.00 0.00]\n",
      " [0.00 0.00 1.00]]\n"
     ]
    }
   ],
   "source": [
    "# 5. 모델 평가하기 \n",
    "score = model.evaluate_generator(test_generator, steps=5)\n",
    "print(\"loss: \", score[0])\n",
    "print(\"accuracy: \", score[1])\n",
    "\n",
    "# 6. 예측하기 \n",
    "pred = model.predict_generator(test_generator)\n",
    "print(test_generator.class_indices)\n",
    "np.set_printoptions(formatter={'float':lambda x : \"{:0.2f}\".format(x)})\n",
    "print(np.argmax(pred, axis=1))\n",
    "print(pred)"
   ]
  }
 ],
 "metadata": {
  "kernelspec": {
   "display_name": "Python 3",
   "language": "python",
   "name": "python3"
  },
  "language_info": {
   "codemirror_mode": {
    "name": "ipython",
    "version": 3
   },
   "file_extension": ".py",
   "mimetype": "text/x-python",
   "name": "python",
   "nbconvert_exporter": "python",
   "pygments_lexer": "ipython3",
   "version": "3.8.8"
  },
  "toc": {
   "base_numbering": 1,
   "nav_menu": {},
   "number_sections": true,
   "sideBar": true,
   "skip_h1_title": false,
   "title_cell": "Table of Contents",
   "title_sidebar": "Contents",
   "toc_cell": false,
   "toc_position": {},
   "toc_section_display": true,
   "toc_window_display": false
  },
  "varInspector": {
   "cols": {
    "lenName": 16,
    "lenType": 16,
    "lenVar": 40
   },
   "kernels_config": {
    "python": {
     "delete_cmd_postfix": "",
     "delete_cmd_prefix": "del ",
     "library": "var_list.py",
     "varRefreshCmd": "print(var_dic_list())"
    },
    "r": {
     "delete_cmd_postfix": ") ",
     "delete_cmd_prefix": "rm(",
     "library": "var_list.r",
     "varRefreshCmd": "cat(var_dic_list()) "
    }
   },
   "types_to_exclude": [
    "module",
    "function",
    "builtin_function_or_method",
    "instance",
    "_Feature"
   ],
   "window_display": false
  }
 },
 "nbformat": 4,
 "nbformat_minor": 4
}
