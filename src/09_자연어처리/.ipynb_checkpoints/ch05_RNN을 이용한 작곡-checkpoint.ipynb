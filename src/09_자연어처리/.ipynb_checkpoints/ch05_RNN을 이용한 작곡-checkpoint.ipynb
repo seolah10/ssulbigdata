{
 "cells": [
  {
   "cell_type": "code",
   "execution_count": 1,
   "id": "172b1416",
   "metadata": {},
   "outputs": [
    {
     "data": {
      "text/html": [
       "\n",
       "<style>\n",
       "div.container{width:100% !important;}\n",
       "div.CodeMirror {font-family:Consolas; font-size:10pt;}\n",
       "div.output {font-size:10pt;}\n",
       "div.input {font-family:Consolas; font-size:10pt; font-weight:bold;}\n",
       "div.prompt {min-width:70px;}\n",
       "</style>\n"
      ],
      "text/plain": [
       "<IPython.core.display.HTML object>"
      ]
     },
     "metadata": {},
     "output_type": "display_data"
    }
   ],
   "source": [
    "from IPython.display import display, HTML\n",
    "display(HTML(\"\"\"\n",
    "<style>\n",
    "div.container{width:100% !important;}\n",
    "div.CodeMirror {font-family:Consolas; font-size:10pt;}\n",
    "div.output {font-size:10pt;}\n",
    "div.input {font-family:Consolas; font-size:10pt; font-weight:bold;}\n",
    "div.prompt {min-width:70px;}\n",
    "</style>\n",
    "\"\"\"))"
   ]
  },
  {
   "cell_type": "markdown",
   "id": "59092f90",
   "metadata": {},
   "source": [
    "**<font size='6' color='darkred'>ch05. RNN을 이용한 작곡</font>**"
   ]
  },
  {
   "cell_type": "markdown",
   "id": "405c85cc",
   "metadata": {},
   "source": [
    "# 코딩 준비 \n",
    "\n",
    "- 참조 document :  https://web.mit.edu/music21/doc/index.html\n",
    "- 참조 예제 : https://bit.ly/2HQ9Q4J\n",
    "- 참조 데이터 : https://tykimos.github.io/2017/04/09/RNN_Layer_Talk/\n",
    "- 악보 처리용 프로그램 추가 :https://musescore.org  (MuseScore3인스톨)\n",
    "- 악보를 보기 위한 setting :\n",
    "    - us=music21.environment.UserSettings()\n",
    "    - us[\"musescoreDirectPNGPath\"]=\"C:/Program Files/MuseScore 3/bin/MuseScore3.exe\"\n",
    "\n",
    "- pip install music21"
   ]
  },
  {
   "cell_type": "code",
   "execution_count": 24,
   "id": "3bb9e2aa",
   "metadata": {},
   "outputs": [],
   "source": [
    "import numpy as np\n",
    "import music21\n",
    "import tensorflow as tf\n",
    "import tensorflow.keras.utils as utils\n",
    "from tensorflow.keras.models import Sequential\n",
    "from tensorflow.keras.layers import LSTM, Dense\n",
    "import os "
   ]
  },
  {
   "cell_type": "markdown",
   "id": "046cc7b4",
   "metadata": {},
   "source": [
    "# 데이터 준비하기\n",
    "\n",
    "## 시퀀스 데이터 정의 "
   ]
  },
  {
   "cell_type": "code",
   "execution_count": 4,
   "id": "b7889213",
   "metadata": {},
   "outputs": [
    {
     "name": "stdout",
     "output_type": "stream",
     "text": [
      "length of seq:  54\n"
     ]
    }
   ],
   "source": [
    "seq = ['g8', 'e8', 'e4', 'f8', 'd8', 'd4', 'c8', 'd8', 'e8', 'f8', 'g8', 'g8', 'g4',\n",
    "       'g8', 'e8', 'e8', 'e8', 'f8', 'd8', 'd4', 'c8', 'e8', 'g8', 'g8', 'e8', 'e8', 'e4',\n",
    "       'd8', 'd8', 'd8', 'd8', 'd8', 'e8', 'f4', 'e8', 'e8', 'e8', 'e8', 'e8', 'f8', 'g4',\n",
    "       'g8', 'e8', 'e4', 'f8', 'd8', 'd4', 'c8', 'e8', 'g8', 'g8', 'e8', 'e8', 'e4']\n",
    "\n",
    "print(\"length of seq: \",len(seq))"
   ]
  },
  {
   "cell_type": "code",
   "execution_count": 5,
   "id": "11e243bb",
   "metadata": {},
   "outputs": [
    {
     "name": "stdout",
     "output_type": "stream",
     "text": [
      "['g8', 'e8', 'e4', 'f8', 'd8', 'd4', 'c8', 'd8', 'e8', 'f8', 'g8', 'g8', 'g4', 'g8', 'e8', 'e8', 'e8', 'f8', 'd8', 'd4', 'c8', 'e8', 'g8', 'g8', 'e8', 'e8', 'e4', 'd8', 'd8', 'd8', 'd8', 'd8', 'e8', 'f4', 'e8', 'e8', 'e8', 'e8', 'e8', 'f8', 'g4', 'g8', 'e8', 'e4', 'f8', 'd8', 'd4', 'c8', 'e8', 'g8', 'g8', 'e8', 'e8', 'e4']\n"
     ]
    }
   ],
   "source": [
    "print(seq)"
   ]
  },
  {
   "cell_type": "code",
   "execution_count": null,
   "id": "d15e6c1e",
   "metadata": {},
   "outputs": [],
   "source": [
    "note_seq = \" \".join(seq)\n",
    "print(note_seq)\n",
    "\n",
    "m = music21.converter.parse(\"2/4\" + note_seq, \n",
    "                           format = \"tinyNotation\")\n",
    "m.show(\"midi\")"
   ]
  },
  {
   "cell_type": "code",
   "execution_count": null,
   "id": "c9d7307b",
   "metadata": {},
   "outputs": [],
   "source": [
    "us = music21.environment.UserSettings()\n",
    "us[\"musescoreDirectPNGPath\"]=\"C:/Program Files/MuseScore 3/bin/MuseScore3.exe\"\n",
    "m.show()"
   ]
  },
  {
   "cell_type": "markdown",
   "id": "36e4035e",
   "metadata": {},
   "source": [
    "## 코드 사전 정의 "
   ]
  },
  {
   "cell_type": "code",
   "execution_count": 6,
   "id": "a9f3f957",
   "metadata": {},
   "outputs": [
    {
     "name": "stdout",
     "output_type": "stream",
     "text": [
      "[2, 1, 5, 4, 3, 6, 7, 3, 1, 4, 2, 2, 8, 2, 1, 1, 1, 4, 3, 6, 7, 1, 2, 2, 1, 1, 5, 3, 3, 3, 3, 3, 1, 9, 1, 1, 1, 1, 1, 4, 8, 2, 1, 5, 4, 3, 6, 7, 1, 2, 2, 1, 1, 5]\n",
      "{'e8': 1, 'g8': 2, 'd8': 3, 'f8': 4, 'e4': 5, 'd4': 6, 'c8': 7, 'g4': 8, 'f4': 9}\n"
     ]
    }
   ],
   "source": [
    "from keras_preprocessing.text import Tokenizer\n",
    "\n",
    "t = Tokenizer()\n",
    "t.fit_on_texts([seq])\n",
    "encoded = t.texts_to_sequences([seq])[0]\n",
    "\n",
    "print(encoded)\n",
    "print(t.word_index)"
   ]
  },
  {
   "cell_type": "code",
   "execution_count": 7,
   "id": "12df19f9",
   "metadata": {},
   "outputs": [],
   "source": [
    "code2idx = {'c4': 0, 'd4': 1, 'e4': 2, 'f4': 3, 'g4': 4, 'a4': 5, 'b4': 6,\n",
    "            'c8': 7, 'd8': 8, 'e8': 9, 'f8': 10, 'g8': 11, 'a8': 12, 'b8': 13}\n",
    "\n",
    "idx2code = {0: 'c4', 1: 'd4', 2: 'e4', 3: 'f4', 4: 'g4', 5: 'a4', 6: 'b4',\n",
    "            7: 'c8', 8: 'd8', 9: 'e8', 10: 'f8', 11: 'g8', 12: 'a8', 13: 'b8'}"
   ]
  },
  {
   "cell_type": "markdown",
   "id": "576b97d7",
   "metadata": {},
   "source": [
    "# 데이터 셋 생성 "
   ]
  },
  {
   "cell_type": "code",
   "execution_count": 8,
   "id": "3a273d7c",
   "metadata": {},
   "outputs": [
    {
     "data": {
      "text/plain": [
       "11"
      ]
     },
     "execution_count": 8,
     "metadata": {},
     "output_type": "execute_result"
    }
   ],
   "source": [
    "code2idx['g8']"
   ]
  },
  {
   "cell_type": "code",
   "execution_count": 9,
   "id": "b2c5c697",
   "metadata": {},
   "outputs": [
    {
     "name": "stdout",
     "output_type": "stream",
     "text": [
      "[11, 9, 2, 10, 8, 1, 7, 8, 9, 10, 11, 11, 4, 11, 9, 9, 9, 10, 8, 1, 7, 9, 11, 11, 9, 9, 2, 8, 8, 8, 8, 8, 9, 3, 9, 9, 9, 9, 9, 10, 4, 11, 9, 2, 10, 8, 1, 7, 9, 11, 11, 9, 9, 2]\n"
     ]
    }
   ],
   "source": [
    "print([code2idx[item] for item in seq])"
   ]
  },
  {
   "cell_type": "code",
   "execution_count": 10,
   "id": "014c23cf",
   "metadata": {},
   "outputs": [],
   "source": [
    "# seq를 학습시킬 데이터 셋으로 반환하는 함수\n",
    "# seq = 음계가 담긴 list / window_size:독립변수의 갯수\n",
    "\n",
    "def seq2dataset(seq, window_size):\n",
    "    dataset = []\n",
    "    \n",
    "    for i in range(len(seq) - window_size):\n",
    "        subset = seq[i : (i + window_size + 1)]\n",
    "        encoded = [code2idx[item] for item in subset]\n",
    "        dataset.append(encoded)\n",
    "    return np.array(dataset)"
   ]
  },
  {
   "cell_type": "code",
   "execution_count": 11,
   "id": "39db1636",
   "metadata": {},
   "outputs": [
    {
     "name": "stdout",
     "output_type": "stream",
     "text": [
      "['g8', 'e8', 'e4', 'f8', 'd8', 'd4', 'c8', 'd8', 'e8', 'f8']\n",
      "[[11  9  2 10  8]\n",
      " [ 9  2 10  8  1]\n",
      " [ 2 10  8  1  7]\n",
      " [10  8  1  7  8]\n",
      " [ 8  1  7  8  9]\n",
      " [ 1  7  8  9 10]]\n"
     ]
    }
   ],
   "source": [
    "print(seq[0:10])\n",
    "print(seq2dataset(seq = seq[0:10], window_size = 4))"
   ]
  },
  {
   "cell_type": "markdown",
   "id": "1526c6df",
   "metadata": {},
   "source": [
    "**생성**"
   ]
  },
  {
   "cell_type": "code",
   "execution_count": 12,
   "id": "d733af32",
   "metadata": {},
   "outputs": [
    {
     "name": "stdout",
     "output_type": "stream",
     "text": [
      "[[11  9  2 10  8]\n",
      " [ 9  2 10  8  1]]\n",
      "(50, 5)\n"
     ]
    }
   ],
   "source": [
    "n_steps = 4 # 4개씩 학습(독립변수 갯수)\n",
    "n_inputs = 1\n",
    "dataset = seq2dataset(seq = seq, window_size= n_steps)\n",
    "\n",
    "print(dataset[ :2])\n",
    "print(dataset.shape)"
   ]
  },
  {
   "cell_type": "markdown",
   "id": "943ed29a",
   "metadata": {},
   "source": [
    "**독립변수(x) / 종속변수(y)로 분리**"
   ]
  },
  {
   "cell_type": "code",
   "execution_count": 13,
   "id": "e41f2103",
   "metadata": {},
   "outputs": [
    {
     "name": "stdout",
     "output_type": "stream",
     "text": [
      "[11  9  2 10  8]\n",
      "[11  9  2 10] 8\n",
      "(50, 4) (50,)\n"
     ]
    }
   ],
   "source": [
    "x_train = dataset[ : , :-1]\n",
    "y_train = dataset[ : , -1]\n",
    "\n",
    "print(dataset[0])\n",
    "print(x_train[0], y_train[0])\n",
    "print(x_train.shape, y_train.shape)"
   ]
  },
  {
   "cell_type": "code",
   "execution_count": 15,
   "id": "b9d3cca8",
   "metadata": {},
   "outputs": [
    {
     "data": {
      "text/plain": [
       "13"
      ]
     },
     "execution_count": 15,
     "metadata": {},
     "output_type": "execute_result"
    }
   ],
   "source": [
    "# 정규화시킬 때 나눌 값: code2idx의 제일 큰 value값\n",
    "max_idx_value = max(code2idx.values())\n",
    "max_idx_value"
   ]
  },
  {
   "cell_type": "markdown",
   "id": "0a13cdd5",
   "metadata": {},
   "source": [
    "**독립변수 정규화**"
   ]
  },
  {
   "cell_type": "code",
   "execution_count": 17,
   "id": "5b8d4b7e",
   "metadata": {},
   "outputs": [
    {
     "name": "stdout",
     "output_type": "stream",
     "text": [
      "정규화 전 x_train[ :2]\n",
      "[[11  9  2 10]\n",
      " [ 9  2 10  8]]\n"
     ]
    }
   ],
   "source": [
    "print('정규화 전 x_train[ :2]', x_train[ :2], sep = '\\n')"
   ]
  },
  {
   "cell_type": "code",
   "execution_count": 18,
   "id": "8bc6a925",
   "metadata": {},
   "outputs": [
    {
     "name": "stdout",
     "output_type": "stream",
     "text": [
      "정규화 후 x_train[ :2]\n",
      "[[0.84615385 0.69230769 0.15384615 0.76923077]\n",
      " [0.69230769 0.15384615 0.76923077 0.61538462]]\n"
     ]
    }
   ],
   "source": [
    "x_train = x_train / float(max_idx_value)\n",
    "print('정규화 후 x_train[ :2]', x_train[ :2], sep = '\\n')"
   ]
  },
  {
   "cell_type": "markdown",
   "id": "054ba180",
   "metadata": {},
   "source": [
    "**독립변수(입력값)의 shape변환(샘플 수, nsteps -> 샘플 수, nsteps1)**"
   ]
  },
  {
   "cell_type": "code",
   "execution_count": 19,
   "id": "8279f70a",
   "metadata": {},
   "outputs": [
    {
     "data": {
      "text/plain": [
       "(50, 4)"
      ]
     },
     "execution_count": 19,
     "metadata": {},
     "output_type": "execute_result"
    }
   ],
   "source": [
    "x_train.shape"
   ]
  },
  {
   "cell_type": "code",
   "execution_count": 21,
   "id": "85147595",
   "metadata": {},
   "outputs": [
    {
     "data": {
      "text/plain": [
       "(50, 4, 1)"
      ]
     },
     "execution_count": 21,
     "metadata": {},
     "output_type": "execute_result"
    }
   ],
   "source": [
    "x_train = x_train.reshape(x_train.shape[0], x_train.shape[1], 1)\n",
    "x_train.shape"
   ]
  },
  {
   "cell_type": "markdown",
   "id": "7c0f689e",
   "metadata": {},
   "source": [
    "**종속변수(라벨값)의 원핫인코딩**"
   ]
  },
  {
   "cell_type": "code",
   "execution_count": 22,
   "id": "5e9a3a2a",
   "metadata": {},
   "outputs": [
    {
     "data": {
      "text/plain": [
       "array([ 8,  1,  7,  8,  9, 10, 11, 11,  4, 11,  9,  9,  9, 10,  8,  1,  7,\n",
       "        9, 11, 11,  9,  9,  2,  8,  8,  8,  8,  8,  9,  3,  9,  9,  9,  9,\n",
       "        9, 10,  4, 11,  9,  2, 10,  8,  1,  7,  9, 11, 11,  9,  9,  2])"
      ]
     },
     "execution_count": 22,
     "metadata": {},
     "output_type": "execute_result"
    }
   ],
   "source": [
    "y_train"
   ]
  },
  {
   "cell_type": "code",
   "execution_count": 25,
   "id": "de188f0f",
   "metadata": {},
   "outputs": [
    {
     "data": {
      "text/plain": [
       "array([[0., 0., 0., 0., 0., 0., 0., 0., 1., 0., 0., 0.],\n",
       "       [0., 1., 0., 0., 0., 0., 0., 0., 0., 0., 0., 0.],\n",
       "       [0., 0., 0., 0., 0., 0., 0., 1., 0., 0., 0., 0.],\n",
       "       [0., 0., 0., 0., 0., 0., 0., 0., 1., 0., 0., 0.],\n",
       "       [0., 0., 0., 0., 0., 0., 0., 0., 0., 1., 0., 0.],\n",
       "       [0., 0., 0., 0., 0., 0., 0., 0., 0., 0., 1., 0.],\n",
       "       [0., 0., 0., 0., 0., 0., 0., 0., 0., 0., 0., 1.],\n",
       "       [0., 0., 0., 0., 0., 0., 0., 0., 0., 0., 0., 1.],\n",
       "       [0., 0., 0., 0., 1., 0., 0., 0., 0., 0., 0., 0.],\n",
       "       [0., 0., 0., 0., 0., 0., 0., 0., 0., 0., 0., 1.],\n",
       "       [0., 0., 0., 0., 0., 0., 0., 0., 0., 1., 0., 0.],\n",
       "       [0., 0., 0., 0., 0., 0., 0., 0., 0., 1., 0., 0.],\n",
       "       [0., 0., 0., 0., 0., 0., 0., 0., 0., 1., 0., 0.],\n",
       "       [0., 0., 0., 0., 0., 0., 0., 0., 0., 0., 1., 0.],\n",
       "       [0., 0., 0., 0., 0., 0., 0., 0., 1., 0., 0., 0.],\n",
       "       [0., 1., 0., 0., 0., 0., 0., 0., 0., 0., 0., 0.],\n",
       "       [0., 0., 0., 0., 0., 0., 0., 1., 0., 0., 0., 0.],\n",
       "       [0., 0., 0., 0., 0., 0., 0., 0., 0., 1., 0., 0.],\n",
       "       [0., 0., 0., 0., 0., 0., 0., 0., 0., 0., 0., 1.],\n",
       "       [0., 0., 0., 0., 0., 0., 0., 0., 0., 0., 0., 1.],\n",
       "       [0., 0., 0., 0., 0., 0., 0., 0., 0., 1., 0., 0.],\n",
       "       [0., 0., 0., 0., 0., 0., 0., 0., 0., 1., 0., 0.],\n",
       "       [0., 0., 1., 0., 0., 0., 0., 0., 0., 0., 0., 0.],\n",
       "       [0., 0., 0., 0., 0., 0., 0., 0., 1., 0., 0., 0.],\n",
       "       [0., 0., 0., 0., 0., 0., 0., 0., 1., 0., 0., 0.],\n",
       "       [0., 0., 0., 0., 0., 0., 0., 0., 1., 0., 0., 0.],\n",
       "       [0., 0., 0., 0., 0., 0., 0., 0., 1., 0., 0., 0.],\n",
       "       [0., 0., 0., 0., 0., 0., 0., 0., 1., 0., 0., 0.],\n",
       "       [0., 0., 0., 0., 0., 0., 0., 0., 0., 1., 0., 0.],\n",
       "       [0., 0., 0., 1., 0., 0., 0., 0., 0., 0., 0., 0.],\n",
       "       [0., 0., 0., 0., 0., 0., 0., 0., 0., 1., 0., 0.],\n",
       "       [0., 0., 0., 0., 0., 0., 0., 0., 0., 1., 0., 0.],\n",
       "       [0., 0., 0., 0., 0., 0., 0., 0., 0., 1., 0., 0.],\n",
       "       [0., 0., 0., 0., 0., 0., 0., 0., 0., 1., 0., 0.],\n",
       "       [0., 0., 0., 0., 0., 0., 0., 0., 0., 1., 0., 0.],\n",
       "       [0., 0., 0., 0., 0., 0., 0., 0., 0., 0., 1., 0.],\n",
       "       [0., 0., 0., 0., 1., 0., 0., 0., 0., 0., 0., 0.],\n",
       "       [0., 0., 0., 0., 0., 0., 0., 0., 0., 0., 0., 1.],\n",
       "       [0., 0., 0., 0., 0., 0., 0., 0., 0., 1., 0., 0.],\n",
       "       [0., 0., 1., 0., 0., 0., 0., 0., 0., 0., 0., 0.],\n",
       "       [0., 0., 0., 0., 0., 0., 0., 0., 0., 0., 1., 0.],\n",
       "       [0., 0., 0., 0., 0., 0., 0., 0., 1., 0., 0., 0.],\n",
       "       [0., 1., 0., 0., 0., 0., 0., 0., 0., 0., 0., 0.],\n",
       "       [0., 0., 0., 0., 0., 0., 0., 1., 0., 0., 0., 0.],\n",
       "       [0., 0., 0., 0., 0., 0., 0., 0., 0., 1., 0., 0.],\n",
       "       [0., 0., 0., 0., 0., 0., 0., 0., 0., 0., 0., 1.],\n",
       "       [0., 0., 0., 0., 0., 0., 0., 0., 0., 0., 0., 1.],\n",
       "       [0., 0., 0., 0., 0., 0., 0., 0., 0., 1., 0., 0.],\n",
       "       [0., 0., 0., 0., 0., 0., 0., 0., 0., 1., 0., 0.],\n",
       "       [0., 0., 1., 0., 0., 0., 0., 0., 0., 0., 0., 0.]], dtype=float32)"
      ]
     },
     "execution_count": 25,
     "metadata": {},
     "output_type": "execute_result"
    }
   ],
   "source": [
    "y_train = utils.to_categorical(y_train)\n",
    "y_train"
   ]
  },
  {
   "cell_type": "code",
   "execution_count": 26,
   "id": "aba9d76d",
   "metadata": {},
   "outputs": [
    {
     "data": {
      "text/plain": [
       "12"
      ]
     },
     "execution_count": 26,
     "metadata": {},
     "output_type": "execute_result"
    }
   ],
   "source": [
    "one_hot_vec_size = y_train.shape[1]\n",
    "one_hot_vec_size"
   ]
  },
  {
   "cell_type": "markdown",
   "id": "f63eaaee",
   "metadata": {},
   "source": [
    "# 모델 구성하기"
   ]
  },
  {
   "cell_type": "code",
   "execution_count": 29,
   "id": "263b0da0",
   "metadata": {},
   "outputs": [],
   "source": [
    "model = Sequential()\n",
    "\n",
    "model.add(LSTM(units = 128,\n",
    "               kernel_initializer = 'glorot_normal',\n",
    "               bias_initializer = 'zero',\n",
    "               batch_input_shape = (1, n_steps, n_inputs),\n",
    "               stateful = True)) \n",
    "\n",
    "model.add(Dense(units = one_hot_vec_size,\n",
    "                kernel_initializer = 'glorot_normal',\n",
    "                bias_initializer = 'zero',\n",
    "                activation = 'softmax'))"
   ]
  },
  {
   "cell_type": "markdown",
   "id": "c0cdf301",
   "metadata": {},
   "source": [
    "# 모델 학습과정 설정하기"
   ]
  },
  {
   "cell_type": "code",
   "execution_count": 30,
   "id": "149cdbb3",
   "metadata": {},
   "outputs": [],
   "source": [
    "model.compile(loss = 'categorical_crossentropy',\n",
    "              optimizer = 'adam',\n",
    "              metrics = ['accuracy'])"
   ]
  },
  {
   "cell_type": "markdown",
   "id": "0fed46f7",
   "metadata": {},
   "source": [
    "# 모델 학습시키기 \n",
    "\n",
    "## loss, accuracy 이력 클래스 정의 "
   ]
  },
  {
   "cell_type": "code",
   "execution_count": 31,
   "id": "cf4d13b1",
   "metadata": {},
   "outputs": [],
   "source": [
    "class LossHistory(tf.keras.callbacks.Callback):\n",
    "    def __init__(self):\n",
    "        self.epoch = 0\n",
    "        self.losses = []\n",
    "        self.accuracy = []\n",
    "        \n",
    "    def on_epoch_end(self, batch, logs = {}):\n",
    "        self.losses.append(logs.get('loss'))\n",
    "        self.accuracy.append(logs.get('accuracy'))\n",
    "        if self.epoch % 100 == 0:\n",
    "            print(\"epoch: {0} - loss: {1:8.6f}, accuracy: {2:8.6f}\").\\\n",
    "            format(self.epoch, logs.get('loss'), logs.get('accuracy'))\n",
    "        self.epoch += 1"
   ]
  },
  {
   "cell_type": "markdown",
   "id": "cdef6878",
   "metadata": {},
   "source": [
    "## 학습 "
   ]
  },
  {
   "cell_type": "code",
   "execution_count": null,
   "id": "3ed41817",
   "metadata": {},
   "outputs": [],
   "source": [
    "num_epochs = 1500\n",
    "history = LossHistory()  # 손실 이력 객체 생성\n",
    "\n",
    "for epoch_idx in range(num_epochs + 1):\n",
    "    model.fit(\n",
    "        x=x_train,\n",
    "        y=y_train,\n",
    "        epochs=1,\n",
    "        batch_size=1,\n",
    "        verbose=0,\n",
    "        shuffle=False,\n",
    "        callbacks=[history]\n",
    "    )\n",
    "    if history.losses[-1] < 1e-5:\n",
    "        print(\"epoch: {0} - loss: {1:8.6f}\".format(epoch_idx, history.losses[-1]))\n",
    "        model.reset_states()    \n",
    "        break\n",
    "    model.reset_states()"
   ]
  },
  {
   "cell_type": "code",
   "execution_count": null,
   "id": "d9e43451",
   "metadata": {},
   "outputs": [],
   "source": [
    "print(\"{ : .5f}\".format(1e-5))"
   ]
  },
  {
   "cell_type": "markdown",
   "id": "e560c30d",
   "metadata": {},
   "source": [
    "# 학습과정 살펴보기"
   ]
  },
  {
   "cell_type": "code",
   "execution_count": 39,
   "id": "811a651d",
   "metadata": {},
   "outputs": [
    {
     "data": {
      "image/png": "[encoded data removed]",
      "text/plain": [
       "<Figure size 432x288 with 1 Axes>"
      ]
     },
     "metadata": {
      "needs_background": "light"
     },
     "output_type": "display_data"
    }
   ],
   "source": [
    "import matplotlib.pyplot as plt\n",
    "%matplotlib inline\n",
    "\n",
    "plt.plot(history.losses)\n",
    "plt.ylabel('loss')\n",
    "plt.xlabel('epoch')\n",
    "plt.legend(['train'], loc = 'upper right')\n",
    "plt.show()"
   ]
  },
  {
   "cell_type": "markdown",
   "id": "32d3d206",
   "metadata": {},
   "source": [
    "# 모델 평가하기"
   ]
  },
  {
   "cell_type": "code",
   "execution_count": 40,
   "id": "face501b",
   "metadata": {},
   "outputs": [
    {
     "name": "stdout",
     "output_type": "stream",
     "text": [
      "50/50 [==============================] - 0s 3ms/step - loss: 1.8920 - accuracy: 0.3400\n"
     ]
    }
   ],
   "source": [
    "model.evaluate(x_train, y_train, batch_size = 1)\n",
    "model.reset_states()"
   ]
  },
  {
   "cell_type": "markdown",
   "id": "76bf7a9d",
   "metadata": {},
   "source": [
    "# 모델 사용하기 \n",
    "\n",
    "## 바로 다음 한 스텝 예측하기"
   ]
  },
  {
   "cell_type": "code",
   "execution_count": 41,
   "id": "281fae1f",
   "metadata": {},
   "outputs": [
    {
     "data": {
      "text/plain": [
       "array([[[0.84615385],\n",
       "        [0.69230769],\n",
       "        [0.15384615],\n",
       "        [0.76923077]]])"
      ]
     },
     "execution_count": 41,
     "metadata": {},
     "output_type": "execute_result"
    }
   ],
   "source": [
    "x_train[0]\n",
    "temp = x_train[0].reshape(1, 4, 1)\n",
    "temp"
   ]
  },
  {
   "cell_type": "code",
   "execution_count": 42,
   "id": "97343122",
   "metadata": {},
   "outputs": [
    {
     "data": {
      "text/plain": [
       "9"
      ]
     },
     "execution_count": 42,
     "metadata": {},
     "output_type": "execute_result"
    }
   ],
   "source": [
    "idx = np.argmax(model.predict(temp))\n",
    "idx"
   ]
  },
  {
   "cell_type": "code",
   "execution_count": 43,
   "id": "60a042a6",
   "metadata": {},
   "outputs": [
    {
     "data": {
      "text/plain": [
       "'e8'"
      ]
     },
     "execution_count": 43,
     "metadata": {},
     "output_type": "execute_result"
    }
   ],
   "source": [
    "idx2code[idx]"
   ]
  },
  {
   "cell_type": "markdown",
   "id": "df1cc828",
   "metadata": {},
   "source": [
    "## 곡 전체 예측"
   ]
  },
  {
   "cell_type": "code",
   "execution_count": 49,
   "id": "e6fcec60",
   "metadata": {},
   "outputs": [
    {
     "name": "stdout",
     "output_type": "stream",
     "text": [
      "full song prediction: \n",
      "g8 c8 f4 e8 e8 e8 e8 e8 e8 e8 e8 e8 e8 e8 e8 e8 e8 e8 e8 e8 e8 e8 e8 e8 e8 e8 e8 e8 e8 e8 e8 e8 e8 e8 e8 e8 e8 e8 e8 e8 e8 e8 e8 e8 e8 e8 e8 e8 e8 e8 e8 e8 e8 e8 "
     ]
    }
   ],
   "source": [
    "pred_count = 50 # 최대 예측 수 \n",
    "seq_in = ['g8', 'c8', 'f4', 'e8']\n",
    "seq_out = seq_in\n",
    "seq_in = [code2idx[note] / float(max_idx_value) for note in seq_in] # 코드 ->인덱스값\n",
    "\n",
    "for i in range(pred_count):\n",
    "    sample_in = np.array(seq_in)\n",
    "    sample_in = np.reshape(sample_in, (1, n_steps, n_inputs)) # 샘플 수, 타임스텝 수, 속성 수 \n",
    "    pred_out = model.predict(sample_in)\n",
    "    idx = np.argmax(pred_out)\n",
    "    seq_out.append(idx2code[idx])\n",
    "    seq_in.append(idx / float(max_idx_value))\n",
    "    seq_in.pop(0)\n",
    "    \n",
    "model.reset_states()\n",
    "\n",
    "print(\"full song prediction: \")\n",
    "\n",
    "for note in seq_out:\n",
    "    print(note, end = ' ')"
   ]
  },
  {
   "cell_type": "code",
   "execution_count": 50,
   "id": "b4866ac5",
   "metadata": {},
   "outputs": [
    {
     "name": "stdout",
     "output_type": "stream",
     "text": [
      "['g8', 'c8', 'f4', 'e8', 'e8', 'e8', 'e8', 'e8', 'e8', 'e8', 'e8', 'e8', 'e8', 'e8', 'e8', 'e8', 'e8', 'e8', 'e8', 'e8', 'e8', 'e8', 'e8', 'e8', 'e8', 'e8', 'e8', 'e8', 'e8', 'e8', 'e8', 'e8', 'e8', 'e8', 'e8', 'e8', 'e8', 'e8', 'e8', 'e8', 'e8', 'e8', 'e8', 'e8', 'e8', 'e8', 'e8', 'e8', 'e8', 'e8', 'e8', 'e8', 'e8', 'e8']\n"
     ]
    }
   ],
   "source": [
    "print(seq_out)"
   ]
  },
  {
   "cell_type": "code",
   "execution_count": null,
   "id": "a5ad4202",
   "metadata": {},
   "outputs": [],
   "source": [
    "# 나비야 초반 : 'g8', 'e8', 'e4', 'f8'\n",
    "note_seq = ''\n",
    "\n",
    "for note in seq_out:\n",
    "    note_seq += note + \" \"\n",
    "\n",
    "conv_midi = music21.converter.subConverters.ConverterMidi()\n",
    "m = music21.converter.parse(\"2/4 \" + note_seq, format='tinyNotation')\n",
    "\n",
    "m.show(\"midi\")"
   ]
  }
 ],
 "metadata": {
  "kernelspec": {
   "display_name": "Python 3",
   "language": "python",
   "name": "python3"
  },
  "language_info": {
   "codemirror_mode": {
    "name": "ipython",
    "version": 3
   },
   "file_extension": ".py",
   "mimetype": "text/x-python",
   "name": "python",
   "nbconvert_exporter": "python",
   "pygments_lexer": "ipython3",
   "version": "3.8.8"
  },
  "toc": {
   "base_numbering": 1,
   "nav_menu": {},
   "number_sections": true,
   "sideBar": true,
   "skip_h1_title": false,
   "title_cell": "Table of Contents",
   "title_sidebar": "Contents",
   "toc_cell": false,
   "toc_position": {},
   "toc_section_display": true,
   "toc_window_display": false
  },
  "varInspector": {
   "cols": {
    "lenName": 16,
    "lenType": 16,
    "lenVar": 40
   },
   "kernels_config": {
    "python": {
     "delete_cmd_postfix": "",
     "delete_cmd_prefix": "del ",
     "library": "var_list.py",
     "varRefreshCmd": "print(var_dic_list())"
    },
    "r": {
     "delete_cmd_postfix": ") ",
     "delete_cmd_prefix": "rm(",
     "library": "var_list.r",
     "varRefreshCmd": "cat(var_dic_list()) "
    }
   },
   "types_to_exclude": [
    "module",
    "function",
    "builtin_function_or_method",
    "instance",
    "_Feature"
   ],
   "window_display": false
  }
 },
 "nbformat": 4,
 "nbformat_minor": 5
}
