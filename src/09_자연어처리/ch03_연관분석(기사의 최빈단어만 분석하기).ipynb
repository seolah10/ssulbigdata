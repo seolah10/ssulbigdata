{
 "cells": [
  {
   "cell_type": "code",
   "execution_count": 1,
   "id": "0cdd3eda",
   "metadata": {},
   "outputs": [
    {
     "data": {
      "text/html": [
       "\n",
       "<style>\n",
       "div.container{width:100% !important;}\n",
       "div.CodeMirror {font-family:Consolas; font-size:10pt;}\n",
       "div.output {font-size:10pt;}\n",
       "div.input {font-family:Consolas; font-size:10pt; font-weight:bold;}\n",
       "div.prompt {min-width:70px;}\n",
       "</style>\n"
      ],
      "text/plain": [
       "<IPython.core.display.HTML object>"
      ]
     },
     "metadata": {},
     "output_type": "display_data"
    }
   ],
   "source": [
    "from IPython.display import display, HTML\n",
    "display(HTML(\"\"\"\n",
    "<style>\n",
    "div.container{width:100% !important;}\n",
    "div.CodeMirror {font-family:Consolas; font-size:10pt;}\n",
    "div.output {font-size:10pt;}\n",
    "div.input {font-family:Consolas; font-size:10pt; font-weight:bold;}\n",
    "div.prompt {min-width:70px;}\n",
    "</style>\n",
    "\"\"\"))"
   ]
  },
  {
   "cell_type": "code",
   "execution_count": 3,
   "id": "04529e47",
   "metadata": {},
   "outputs": [],
   "source": [
    "import requests\n",
    "from bs4 import BeautifulSoup\n",
    "\n",
    "rss_url= 'https://rss.joins.com/joins_politics_list.xml'\n",
    "money_response = requests.get(rss_url)\n",
    "money_soup = BeautifulSoup(money_response.content, 'xml')\n",
    "\n",
    "link_list = money_soup.select('item > link')\n",
    "link_list = [l.text for l in link_list]"
   ]
  },
  {
   "cell_type": "code",
   "execution_count": 6,
   "id": "cec83e75",
   "metadata": {},
   "outputs": [
    {
     "name": "stdout",
     "output_type": "stream",
     "text": [
      "['조치', '시행', '동안', '남북', '경협', '기업인', '고통', '해결', '법정', '오전']\n"
     ]
    }
   ],
   "source": [
    "from konlpy.tag import Kkma\n",
    "\n",
    "kkma = Kkma()\n",
    "res = requests.get('https://news.joins.com/article/24029441?cloc=rss-news-politics')\n",
    "soup = BeautifulSoup(res.content, 'html.parser')\n",
    "\n",
    "article = soup.select_one('div#article_body').text\n",
    "tagged_text = kkma.pos(article, 56)\n",
    "nouns_list = [t[0] for t in tagged_text \n",
    "             if((t[1]=='NNG') | (t[1]=='NNP')) & \n",
    "             (len(t[0])>1) & (t[0]!='기자')]\n",
    "print(nouns_list[:10])"
   ]
  },
  {
   "cell_type": "code",
   "execution_count": 11,
   "id": "be0bfa69",
   "metadata": {},
   "outputs": [
    {
     "ename": "UnicodeDecodeError",
     "evalue": "'utf-8' codec can't decode byte 0xed in position 0: invalid continuation byte",
     "output_type": "error",
     "traceback": [
      "\u001b[1;31m---------------------------------------------------------------------------\u001b[0m",
      "\u001b[1;31mUnicodeDecodeError\u001b[0m                        Traceback (most recent call last)",
      "\u001b[1;32m<ipython-input-11-17f9b5880470>\u001b[0m in \u001b[0;36m<module>\u001b[1;34m\u001b[0m\n\u001b[0;32m     13\u001b[0m         \u001b[0mprint\u001b[0m\u001b[1;33m(\u001b[0m\u001b[0mlink\u001b[0m\u001b[1;33m,\u001b[0m \u001b[1;32mFalse\u001b[0m\u001b[1;33m)\u001b[0m\u001b[1;33m\u001b[0m\u001b[1;33m\u001b[0m\u001b[0m\n\u001b[0;32m     14\u001b[0m \u001b[1;33m\u001b[0m\u001b[0m\n\u001b[1;32m---> 15\u001b[1;33m     \u001b[0mtagged_text\u001b[0m \u001b[1;33m=\u001b[0m \u001b[0mkkma\u001b[0m\u001b[1;33m.\u001b[0m\u001b[0mpos\u001b[0m\u001b[1;33m(\u001b[0m\u001b[0marticle\u001b[0m\u001b[1;33m,\u001b[0m \u001b[1;36m56\u001b[0m\u001b[1;33m)\u001b[0m\u001b[1;33m\u001b[0m\u001b[1;33m\u001b[0m\u001b[0m\n\u001b[0m\u001b[0;32m     16\u001b[0m     \u001b[0mnouns_list\u001b[0m \u001b[1;33m=\u001b[0m \u001b[1;33m[\u001b[0m\u001b[0mt\u001b[0m\u001b[1;33m[\u001b[0m\u001b[1;36m0\u001b[0m\u001b[1;33m]\u001b[0m \u001b[1;32mfor\u001b[0m \u001b[0mt\u001b[0m \u001b[1;32min\u001b[0m \u001b[0mtagged_text\u001b[0m \u001b[1;32mif\u001b[0m \u001b[1;33m(\u001b[0m\u001b[0mt\u001b[0m\u001b[1;33m[\u001b[0m\u001b[1;36m1\u001b[0m\u001b[1;33m]\u001b[0m\u001b[1;33m==\u001b[0m\u001b[1;34m'NNG'\u001b[0m\u001b[1;33m)\u001b[0m \u001b[1;33m&\u001b[0m \u001b[1;33m(\u001b[0m\u001b[0mlen\u001b[0m\u001b[1;33m(\u001b[0m\u001b[0mt\u001b[0m\u001b[1;33m[\u001b[0m\u001b[1;36m0\u001b[0m\u001b[1;33m]\u001b[0m\u001b[1;33m)\u001b[0m\u001b[1;33m>\u001b[0m\u001b[1;36m1\u001b[0m\u001b[1;33m)\u001b[0m \u001b[1;33m&\u001b[0m \u001b[1;33m(\u001b[0m\u001b[0mt\u001b[0m\u001b[1;33m[\u001b[0m\u001b[1;36m0\u001b[0m\u001b[1;33m]\u001b[0m\u001b[1;33m!=\u001b[0m\u001b[1;34m'기자'\u001b[0m\u001b[1;33m)\u001b[0m\u001b[1;33m]\u001b[0m \u001b[1;31m# 일반 명사만 추출\u001b[0m\u001b[1;33m\u001b[0m\u001b[1;33m\u001b[0m\u001b[0m\n\u001b[0;32m     17\u001b[0m \u001b[1;31m#   nouns_list = [t[0] for t in tagged_text if (t[1]=='NNP') & (len(t[0])>1) & (t[0]!='기자')] 고유명사만\u001b[0m\u001b[1;33m\u001b[0m\u001b[1;33m\u001b[0m\u001b[1;33m\u001b[0m\u001b[0m\n",
      "\u001b[1;32m~\\anaconda3\\lib\\site-packages\\konlpy\\tag\\_kkma.py\u001b[0m in \u001b[0;36mpos\u001b[1;34m(self, phrase, flatten, join)\u001b[0m\n\u001b[0;32m     68\u001b[0m                             \u001b[0mmorphemes\u001b[0m\u001b[1;33m.\u001b[0m\u001b[0mappend\u001b[0m\u001b[1;33m(\u001b[0m\u001b[0mmorpheme\u001b[0m\u001b[1;33m.\u001b[0m\u001b[0mgetString\u001b[0m\u001b[1;33m(\u001b[0m\u001b[1;33m)\u001b[0m \u001b[1;33m+\u001b[0m \u001b[1;34m'/'\u001b[0m \u001b[1;33m+\u001b[0m \u001b[0mmorpheme\u001b[0m\u001b[1;33m.\u001b[0m\u001b[0mgetTag\u001b[0m\u001b[1;33m(\u001b[0m\u001b[1;33m)\u001b[0m\u001b[1;33m)\u001b[0m\u001b[1;33m\u001b[0m\u001b[1;33m\u001b[0m\u001b[0m\n\u001b[0;32m     69\u001b[0m                         \u001b[1;32melse\u001b[0m\u001b[1;33m:\u001b[0m\u001b[1;33m\u001b[0m\u001b[1;33m\u001b[0m\u001b[0m\n\u001b[1;32m---> 70\u001b[1;33m                             \u001b[0mmorphemes\u001b[0m\u001b[1;33m.\u001b[0m\u001b[0mappend\u001b[0m\u001b[1;33m(\u001b[0m\u001b[1;33m(\u001b[0m\u001b[0mmorpheme\u001b[0m\u001b[1;33m.\u001b[0m\u001b[0mgetString\u001b[0m\u001b[1;33m(\u001b[0m\u001b[1;33m)\u001b[0m\u001b[1;33m,\u001b[0m \u001b[0mmorpheme\u001b[0m\u001b[1;33m.\u001b[0m\u001b[0mgetTag\u001b[0m\u001b[1;33m(\u001b[0m\u001b[1;33m)\u001b[0m\u001b[1;33m)\u001b[0m\u001b[1;33m)\u001b[0m\u001b[1;33m\u001b[0m\u001b[1;33m\u001b[0m\u001b[0m\n\u001b[0m\u001b[0;32m     71\u001b[0m                 \u001b[1;32melse\u001b[0m\u001b[1;33m:\u001b[0m\u001b[1;33m\u001b[0m\u001b[1;33m\u001b[0m\u001b[0m\n\u001b[0;32m     72\u001b[0m                     \u001b[1;32mif\u001b[0m \u001b[0mjoin\u001b[0m\u001b[1;33m:\u001b[0m\u001b[1;33m\u001b[0m\u001b[1;33m\u001b[0m\u001b[0m\n",
      "\u001b[1;31mUnicodeDecodeError\u001b[0m: 'utf-8' codec can't decode byte 0xed in position 0: invalid continuation byte"
     ]
    }
   ],
   "source": [
    "from konlpy.tag import Kkma\n",
    "kkma = Kkma()\n",
    "news = []\n",
    "for link in link_list:\n",
    "    news_response = requests.get(link)\n",
    "    news_soup = BeautifulSoup(news_response.content, \"html.parser\")\n",
    "    element = news_soup.select_one('div#article_body')\n",
    "    # 두가지 type이 있어서 나눔\n",
    "    if element :\n",
    "        article = element.text\n",
    "    else:\n",
    "        article = news_soup.select_one('p#leadCaption').text\n",
    "        print(link, False)\n",
    "\n",
    "    tagged_text = kkma.pos(article, 56)\n",
    "    nouns_list = [t[0] for t in tagged_text if (t[1]=='NNG') & (len(t[0])>1) & (t[0]!='기자')] # 일반 명사만 추출\n",
    "#   nouns_list = [t[0] for t in tagged_text if (t[1]=='NNP') & (len(t[0])>1) & (t[0]!='기자')] 고유명사만\n",
    "    \n",
    "    if len(nouns_list)>0 :\n",
    "        news.append(nouns_list)\n",
    "# len(news)"
   ]
  },
  {
   "cell_type": "code",
   "execution_count": 10,
   "id": "8e8d9ba0",
   "metadata": {},
   "outputs": [
    {
     "data": {
      "text/plain": [
       "(16691, 489)"
      ]
     },
     "execution_count": 10,
     "metadata": {},
     "output_type": "execute_result"
    }
   ],
   "source": [
    "temp = []\n",
    "\n",
    "for news_item in news:\n",
    "    temp.append(' '.join(news_item))\n",
    "    word_list = ' '.join(temp)\n",
    "\n",
    "len(word_list), len(set(word_list))"
   ]
  },
  {
   "cell_type": "code",
   "execution_count": 12,
   "id": "fe574c1b",
   "metadata": {},
   "outputs": [
    {
     "name": "stdout",
     "output_type": "stream",
     "text": [
      "['의원', '백신', '지사', '국민', '대표', '민주당', '코로나', '정부', '이자', '접종']\n"
     ]
    }
   ],
   "source": [
    "import pandas as pd \n",
    "wordcount = pd.Series(dtype=np.int64)\n",
    "words = word_list.split()\n",
    "\n",
    "for word in words:\n",
    "    if word in wordcount:\n",
    "        wordcount[word] += 1\n",
    "    else:\n",
    "        wordcount[word] = 1\n",
    "\n",
    "wordcount.sort_values(ascending=False, inplace=True)\n",
    "freq_word = list(wordcount.head(10).index)\n",
    "print(freq_word)"
   ]
  },
  {
   "cell_type": "code",
   "execution_count": 13,
   "id": "32f887c6",
   "metadata": {},
   "outputs": [
    {
     "data": {
      "text/plain": [
       "[['의원', '대표', '민주당', '정부'],\n",
       " ['코로나', '정부'],\n",
       " ['의원', '지사', '국민', '대표', '민주당', '이자'],\n",
       " ['의원', '지사', '국민', '민주당', '정부'],\n",
       " ['의원', '백신', '국민', '민주당', '코로나', '정부', '이자', '접종'],\n",
       " ['의원', '지사', '국민', '대표', '민주당'],\n",
       " ['의원', '민주당', '코로나'],\n",
       " ['의원', '지사', '국민'],\n",
       " ['의원', '국민', '대표'],\n",
       " ['의원', '국민', '민주당', '정부'],\n",
       " ['국민', '코로나', '정부'],\n",
       " ['백신', '국민', '코로나', '정부', '이자', '접종'],\n",
       " ['의원', '국민', '대표'],\n",
       " ['백신', '코로나', '정부', '이자', '접종'],\n",
       " ['의원', '국민'],\n",
       " ['지사'],\n",
       " ['의원', '민주당'],\n",
       " ['의원', '대표', '민주당'],\n",
       " ['백신', '코로나', '정부', '접종'],\n",
       " ['의원', '지사'],\n",
       " ['의원', '국민', '대표', '민주당', '정부'],\n",
       " ['의원', '지사', '국민', '대표', '민주당', '이자']]"
      ]
     },
     "execution_count": 13,
     "metadata": {},
     "output_type": "execute_result"
    }
   ],
   "source": [
    "temp = []\n",
    "\n",
    "for news_item in news:\n",
    "    t = [word for word in freq_word \n",
    "            if word in news_item]\n",
    "    \n",
    "    if len(t) > 0 :\n",
    "        temp.append(t)\n",
    "temp"
   ]
  },
  {
   "cell_type": "code",
   "execution_count": 15,
   "id": "e8909071",
   "metadata": {},
   "outputs": [
    {
     "data": {
      "text/plain": [
       "[RelationRecord(items=frozenset({'국민'}), support=0.5909090909090909, ordered_statistics=[OrderedStatistic(items_base=frozenset(), items_add=frozenset({'국민'}), confidence=0.5909090909090909, lift=1.0)]),\n",
       " RelationRecord(items=frozenset({'대표'}), support=0.36363636363636365, ordered_statistics=[OrderedStatistic(items_base=frozenset(), items_add=frozenset({'대표'}), confidence=0.36363636363636365, lift=1.0)]),\n",
       " RelationRecord(items=frozenset({'민주당'}), support=0.5, ordered_statistics=[OrderedStatistic(items_base=frozenset(), items_add=frozenset({'민주당'}), confidence=0.5, lift=1.0)]),\n",
       " RelationRecord(items=frozenset({'의원'}), support=0.7272727272727273, ordered_statistics=[OrderedStatistic(items_base=frozenset(), items_add=frozenset({'의원'}), confidence=0.7272727272727273, lift=1.0)]),\n",
       " RelationRecord(items=frozenset({'정부'}), support=0.45454545454545453, ordered_statistics=[OrderedStatistic(items_base=frozenset(), items_add=frozenset({'정부'}), confidence=0.45454545454545453, lift=1.0)]),\n",
       " RelationRecord(items=frozenset({'지사'}), support=0.3181818181818182, ordered_statistics=[OrderedStatistic(items_base=frozenset(), items_add=frozenset({'지사'}), confidence=0.3181818181818182, lift=1.0)]),\n",
       " RelationRecord(items=frozenset({'코로나'}), support=0.3181818181818182, ordered_statistics=[OrderedStatistic(items_base=frozenset(), items_add=frozenset({'코로나'}), confidence=0.3181818181818182, lift=1.0)]),\n",
       " RelationRecord(items=frozenset({'민주당', '국민'}), support=0.3181818181818182, ordered_statistics=[OrderedStatistic(items_base=frozenset(), items_add=frozenset({'민주당', '국민'}), confidence=0.3181818181818182, lift=1.0), OrderedStatistic(items_base=frozenset({'국민'}), items_add=frozenset({'민주당'}), confidence=0.5384615384615384, lift=1.0769230769230769), OrderedStatistic(items_base=frozenset({'민주당'}), items_add=frozenset({'국민'}), confidence=0.6363636363636364, lift=1.0769230769230769)]),\n",
       " RelationRecord(items=frozenset({'국민', '의원'}), support=0.5, ordered_statistics=[OrderedStatistic(items_base=frozenset(), items_add=frozenset({'국민', '의원'}), confidence=0.5, lift=1.0), OrderedStatistic(items_base=frozenset({'국민'}), items_add=frozenset({'의원'}), confidence=0.8461538461538461, lift=1.1634615384615383), OrderedStatistic(items_base=frozenset({'의원'}), items_add=frozenset({'국민'}), confidence=0.6875, lift=1.1634615384615383)]),\n",
       " RelationRecord(items=frozenset({'대표', '의원'}), support=0.36363636363636365, ordered_statistics=[OrderedStatistic(items_base=frozenset(), items_add=frozenset({'대표', '의원'}), confidence=0.36363636363636365, lift=1.0), OrderedStatistic(items_base=frozenset({'대표'}), items_add=frozenset({'의원'}), confidence=1.0, lift=1.375), OrderedStatistic(items_base=frozenset({'의원'}), items_add=frozenset({'대표'}), confidence=0.5, lift=1.375)]),\n",
       " RelationRecord(items=frozenset({'민주당', '의원'}), support=0.5, ordered_statistics=[OrderedStatistic(items_base=frozenset(), items_add=frozenset({'민주당', '의원'}), confidence=0.5, lift=1.0), OrderedStatistic(items_base=frozenset({'민주당'}), items_add=frozenset({'의원'}), confidence=1.0, lift=1.375), OrderedStatistic(items_base=frozenset({'의원'}), items_add=frozenset({'민주당'}), confidence=0.6875, lift=1.375)]),\n",
       " RelationRecord(items=frozenset({'민주당', '국민', '의원'}), support=0.3181818181818182, ordered_statistics=[OrderedStatistic(items_base=frozenset(), items_add=frozenset({'민주당', '국민', '의원'}), confidence=0.3181818181818182, lift=1.0), OrderedStatistic(items_base=frozenset({'국민'}), items_add=frozenset({'민주당', '의원'}), confidence=0.5384615384615384, lift=1.0769230769230769), OrderedStatistic(items_base=frozenset({'민주당'}), items_add=frozenset({'국민', '의원'}), confidence=0.6363636363636364, lift=1.2727272727272727), OrderedStatistic(items_base=frozenset({'의원'}), items_add=frozenset({'민주당', '국민'}), confidence=0.4375, lift=1.375), OrderedStatistic(items_base=frozenset({'민주당', '국민'}), items_add=frozenset({'의원'}), confidence=1.0, lift=1.375), OrderedStatistic(items_base=frozenset({'국민', '의원'}), items_add=frozenset({'민주당'}), confidence=0.6363636363636364, lift=1.2727272727272727), OrderedStatistic(items_base=frozenset({'민주당', '의원'}), items_add=frozenset({'국민'}), confidence=0.6363636363636364, lift=1.0769230769230769)])]"
      ]
     },
     "execution_count": 15,
     "metadata": {},
     "output_type": "execute_result"
    }
   ],
   "source": [
    "from apyori import apriori\n",
    "\n",
    "rules = apriori(temp, \n",
    "                min_support=0.3, \n",
    "                min_confidence=0.2)\n",
    "result = list(rules)\n",
    "result"
   ]
  },
  {
   "cell_type": "code",
   "execution_count": 17,
   "id": "6476d26a",
   "metadata": {},
   "outputs": [
    {
     "name": "stdout",
     "output_type": "stream",
     "text": [
      "RelationRecord(items=frozenset({'국민'}), support=0.5909090909090909, ordered_statistics=[OrderedStatistic(items_base=frozenset(), items_add=frozenset({'국민'}), confidence=0.5909090909090909, lift=1.0)])\n",
      "\n",
      "RelationRecord(items=frozenset({'대표'}), support=0.36363636363636365, ordered_statistics=[OrderedStatistic(items_base=frozenset(), items_add=frozenset({'대표'}), confidence=0.36363636363636365, lift=1.0)])\n",
      "\n",
      "RelationRecord(items=frozenset({'민주당'}), support=0.5, ordered_statistics=[OrderedStatistic(items_base=frozenset(), items_add=frozenset({'민주당'}), confidence=0.5, lift=1.0)])\n",
      "\n",
      "RelationRecord(items=frozenset({'의원'}), support=0.7272727272727273, ordered_statistics=[OrderedStatistic(items_base=frozenset(), items_add=frozenset({'의원'}), confidence=0.7272727272727273, lift=1.0)])\n",
      "\n",
      "RelationRecord(items=frozenset({'정부'}), support=0.45454545454545453, ordered_statistics=[OrderedStatistic(items_base=frozenset(), items_add=frozenset({'정부'}), confidence=0.45454545454545453, lift=1.0)])\n",
      "\n",
      "RelationRecord(items=frozenset({'지사'}), support=0.3181818181818182, ordered_statistics=[OrderedStatistic(items_base=frozenset(), items_add=frozenset({'지사'}), confidence=0.3181818181818182, lift=1.0)])\n",
      "\n",
      "RelationRecord(items=frozenset({'코로나'}), support=0.3181818181818182, ordered_statistics=[OrderedStatistic(items_base=frozenset(), items_add=frozenset({'코로나'}), confidence=0.3181818181818182, lift=1.0)])\n",
      "\n",
      "RelationRecord(items=frozenset({'민주당', '국민'}), support=0.3181818181818182, ordered_statistics=[OrderedStatistic(items_base=frozenset(), items_add=frozenset({'민주당', '국민'}), confidence=0.3181818181818182, lift=1.0), OrderedStatistic(items_base=frozenset({'국민'}), items_add=frozenset({'민주당'}), confidence=0.5384615384615384, lift=1.0769230769230769), OrderedStatistic(items_base=frozenset({'민주당'}), items_add=frozenset({'국민'}), confidence=0.6363636363636364, lift=1.0769230769230769)])\n",
      "\n",
      "RelationRecord(items=frozenset({'국민', '의원'}), support=0.5, ordered_statistics=[OrderedStatistic(items_base=frozenset(), items_add=frozenset({'국민', '의원'}), confidence=0.5, lift=1.0), OrderedStatistic(items_base=frozenset({'국민'}), items_add=frozenset({'의원'}), confidence=0.8461538461538461, lift=1.1634615384615383), OrderedStatistic(items_base=frozenset({'의원'}), items_add=frozenset({'국민'}), confidence=0.6875, lift=1.1634615384615383)])\n",
      "\n",
      "RelationRecord(items=frozenset({'대표', '의원'}), support=0.36363636363636365, ordered_statistics=[OrderedStatistic(items_base=frozenset(), items_add=frozenset({'대표', '의원'}), confidence=0.36363636363636365, lift=1.0), OrderedStatistic(items_base=frozenset({'대표'}), items_add=frozenset({'의원'}), confidence=1.0, lift=1.375), OrderedStatistic(items_base=frozenset({'의원'}), items_add=frozenset({'대표'}), confidence=0.5, lift=1.375)])\n",
      "\n",
      "RelationRecord(items=frozenset({'민주당', '의원'}), support=0.5, ordered_statistics=[OrderedStatistic(items_base=frozenset(), items_add=frozenset({'민주당', '의원'}), confidence=0.5, lift=1.0), OrderedStatistic(items_base=frozenset({'민주당'}), items_add=frozenset({'의원'}), confidence=1.0, lift=1.375), OrderedStatistic(items_base=frozenset({'의원'}), items_add=frozenset({'민주당'}), confidence=0.6875, lift=1.375)])\n",
      "\n",
      "RelationRecord(items=frozenset({'민주당', '국민', '의원'}), support=0.3181818181818182, ordered_statistics=[OrderedStatistic(items_base=frozenset(), items_add=frozenset({'민주당', '국민', '의원'}), confidence=0.3181818181818182, lift=1.0), OrderedStatistic(items_base=frozenset({'국민'}), items_add=frozenset({'민주당', '의원'}), confidence=0.5384615384615384, lift=1.0769230769230769), OrderedStatistic(items_base=frozenset({'민주당'}), items_add=frozenset({'국민', '의원'}), confidence=0.6363636363636364, lift=1.2727272727272727), OrderedStatistic(items_base=frozenset({'의원'}), items_add=frozenset({'민주당', '국민'}), confidence=0.4375, lift=1.375), OrderedStatistic(items_base=frozenset({'민주당', '국민'}), items_add=frozenset({'의원'}), confidence=1.0, lift=1.375), OrderedStatistic(items_base=frozenset({'국민', '의원'}), items_add=frozenset({'민주당'}), confidence=0.6363636363636364, lift=1.2727272727272727), OrderedStatistic(items_base=frozenset({'민주당', '의원'}), items_add=frozenset({'국민'}), confidence=0.6363636363636364, lift=1.0769230769230769)])\n",
      "\n"
     ]
    }
   ],
   "source": [
    "for r in result:\n",
    "    print(r, end='\\n\\n')"
   ]
  },
  {
   "cell_type": "code",
   "execution_count": null,
   "id": "40cc4811",
   "metadata": {},
   "outputs": [],
   "source": [
    "! jupyter notebook --NotebookApp.iopub_data_rate_limit=1.0e10"
   ]
  },
  {
   "cell_type": "code",
   "execution_count": null,
   "id": "e19235fc",
   "metadata": {},
   "outputs": [],
   "source": [
    "for r in result:\n",
    "    print(r, end='\\n\\n')"
   ]
  },
  {
   "cell_type": "code",
   "execution_count": null,
   "id": "74a5426d",
   "metadata": {},
   "outputs": [],
   "source": [
    "result[0]"
   ]
  },
  {
   "cell_type": "code",
   "execution_count": null,
   "id": "a9e3824a",
   "metadata": {},
   "outputs": [],
   "source": [
    "result[100]"
   ]
  },
  {
   "cell_type": "code",
   "execution_count": null,
   "id": "5a933516",
   "metadata": {},
   "outputs": [],
   "source": [
    "import pandas as pd \n",
    "\n",
    "result_df = pd.DataFrame(None, \n",
    "                        columns=['lhs', 'rhs', \n",
    "                                 'support', 'confidence', 'iift'])\n",
    "index = 0\n",
    "\n",
    "for row in result:\n",
    "    support = row[1]\n",
    "    ordered_st = row[2]\n",
    "    \n",
    "    for item in ordered_st:\n",
    "        lhs = ','.join(x for x in item[0])\n",
    "        rhs = ','.join(x.strip() for x in item[1])\n",
    "        confidence = item[2]\n",
    "        lift = item[3]\n",
    "        if lift > 1:\n",
    "            result_df.loc[index] = [lhs, rhs, \n",
    "                                    support, confidence, lift]\n",
    "            index += 1\n",
    "result_df"
   ]
  },
  {
   "cell_type": "code",
   "execution_count": null,
   "id": "d50947a7",
   "metadata": {},
   "outputs": [],
   "source": []
  },
  {
   "cell_type": "code",
   "execution_count": null,
   "id": "abc8b0b1",
   "metadata": {},
   "outputs": [],
   "source": []
  },
  {
   "cell_type": "code",
   "execution_count": null,
   "id": "c4b809e3",
   "metadata": {},
   "outputs": [],
   "source": []
  }
 ],
 "metadata": {
  "kernelspec": {
   "display_name": "Python 3",
   "language": "python",
   "name": "python3"
  },
  "language_info": {
   "codemirror_mode": {
    "name": "ipython",
    "version": 3
   },
   "file_extension": ".py",
   "mimetype": "text/x-python",
   "name": "python",
   "nbconvert_exporter": "python",
   "pygments_lexer": "ipython3",
   "version": "3.8.8"
  },
  "toc": {
   "base_numbering": 1,
   "nav_menu": {},
   "number_sections": true,
   "sideBar": true,
   "skip_h1_title": false,
   "title_cell": "Table of Contents",
   "title_sidebar": "Contents",
   "toc_cell": false,
   "toc_position": {},
   "toc_section_display": true,
   "toc_window_display": false
  },
  "varInspector": {
   "cols": {
    "lenName": 16,
    "lenType": 16,
    "lenVar": 40
   },
   "kernels_config": {
    "python": {
     "delete_cmd_postfix": "",
     "delete_cmd_prefix": "del ",
     "library": "var_list.py",
     "varRefreshCmd": "print(var_dic_list())"
    },
    "r": {
     "delete_cmd_postfix": ") ",
     "delete_cmd_prefix": "rm(",
     "library": "var_list.r",
     "varRefreshCmd": "cat(var_dic_list()) "
    }
   },
   "types_to_exclude": [
    "module",
    "function",
    "builtin_function_or_method",
    "instance",
    "_Feature"
   ],
   "window_display": false
  }
 },
 "nbformat": 4,
 "nbformat_minor": 5
}
